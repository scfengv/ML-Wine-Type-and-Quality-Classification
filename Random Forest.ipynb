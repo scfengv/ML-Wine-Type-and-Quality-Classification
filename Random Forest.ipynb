{
 "cells": [
  {
   "cell_type": "code",
   "execution_count": 20,
   "metadata": {},
   "outputs": [],
   "source": [
    "import pandas as pd\n",
    "from scipy import stats\n",
    "from sklearn.model_selection import cross_val_score, StratifiedKFold, GridSearchCV, train_test_split\n",
    "from sklearn.linear_model import Lasso\n",
    "import mlxtend\n",
    "from mlxtend.feature_selection import SequentialFeatureSelector as SFS\n",
    "from sklearn import svm, metrics\n",
    "from sklearn.metrics import confusion_matrix, roc_curve, auc, accuracy_score\n",
    "import numpy as np\n",
    "from skater.core.explanations import Interpretation\n",
    "from skater.model import InMemoryModel\n",
    "import matplotlib.pyplot as plt\n",
    "from sklearn.discriminant_analysis import StandardScaler\n",
    "import plotly.graph_objs as go\n",
    "import plotly.io as pio\n",
    "from mlxtend.plotting import plot_decision_regions\n",
    "from sklearn.ensemble import RandomForestClassifier\n",
    "import graphviz\n",
    "from sklearn.tree import export_graphviz\n",
    "\n",
    "\n",
    "f = '/Users/shenchingfeng/Documents/1112/機器學習/Homework 2/all.csv'\n",
    "\n",
    "df = pd.read_csv(f)\n",
    "df.drop(['Unnamed: 0'], axis = 1, inplace = True) ## Red wine == 1 ; White wine == 0\n",
    "\n",
    "result = pd.DataFrame(columns = [\"model\", \"accuracy\"])\n",
    "\n",
    "select_col = df.drop('wine', axis = 1).columns\n",
    "for i in select_col:\n",
    "    df[i], lambda_value = stats.yeojohnson(df[i])"
   ]
  },
  {
   "cell_type": "markdown",
   "metadata": {},
   "source": [
    "# Cross Validation"
   ]
  },
  {
   "cell_type": "markdown",
   "metadata": {},
   "source": [
    "### 10-Fold CV"
   ]
  },
  {
   "cell_type": "code",
   "execution_count": 21,
   "metadata": {},
   "outputs": [],
   "source": [
    "kf = StratifiedKFold(n_splits = 5, shuffle = True, random_state = 42)"
   ]
  },
  {
   "cell_type": "markdown",
   "metadata": {},
   "source": [
    "### Grid Search CV"
   ]
  },
  {
   "cell_type": "code",
   "execution_count": 22,
   "metadata": {},
   "outputs": [
    {
     "ename": "KeyboardInterrupt",
     "evalue": "",
     "output_type": "error",
     "traceback": [
      "\u001b[0;31m---------------------------------------------------------------------------\u001b[0m",
      "\u001b[0;31mKeyboardInterrupt\u001b[0m                         Traceback (most recent call last)",
      "Cell \u001b[0;32mIn[22], line 14\u001b[0m\n\u001b[1;32m      6\u001b[0m params \u001b[39m=\u001b[39m {\n\u001b[1;32m      7\u001b[0m     \u001b[39m'\u001b[39m\u001b[39mn_estimators\u001b[39m\u001b[39m'\u001b[39m: \u001b[39mlist\u001b[39m(\u001b[39mrange\u001b[39m(\u001b[39m100\u001b[39m, \u001b[39m501\u001b[39m, \u001b[39m50\u001b[39m)),\n\u001b[1;32m      8\u001b[0m     \u001b[39m'\u001b[39m\u001b[39mmax_depth\u001b[39m\u001b[39m'\u001b[39m: [\u001b[39m1\u001b[39m, \u001b[39m3\u001b[39m, \u001b[39m5\u001b[39m, \u001b[39m7\u001b[39m, \u001b[39m9\u001b[39m],\n\u001b[1;32m      9\u001b[0m     \u001b[39m'\u001b[39m\u001b[39mmax_features\u001b[39m\u001b[39m'\u001b[39m: [\u001b[39m'\u001b[39m\u001b[39msqrt\u001b[39m\u001b[39m'\u001b[39m, \u001b[39m'\u001b[39m\u001b[39mlog2\u001b[39m\u001b[39m'\u001b[39m],  \n\u001b[1;32m     10\u001b[0m     \u001b[39m'\u001b[39m\u001b[39mcriterion\u001b[39m\u001b[39m'\u001b[39m: [\u001b[39m'\u001b[39m\u001b[39mgini\u001b[39m\u001b[39m'\u001b[39m, \u001b[39m'\u001b[39m\u001b[39mentropy\u001b[39m\u001b[39m'\u001b[39m] \n\u001b[1;32m     11\u001b[0m }\n\u001b[1;32m     13\u001b[0m grid_search \u001b[39m=\u001b[39m GridSearchCV(model, param_grid \u001b[39m=\u001b[39m params, cv \u001b[39m=\u001b[39m kf, n_jobs \u001b[39m=\u001b[39m \u001b[39m-\u001b[39m\u001b[39m1\u001b[39m)\n\u001b[0;32m---> 14\u001b[0m grid_search\u001b[39m.\u001b[39;49mfit(X, y)\n\u001b[1;32m     16\u001b[0m \u001b[39mprint\u001b[39m(\u001b[39m\"\u001b[39m\u001b[39mBest parameters:\u001b[39m\u001b[39m\"\u001b[39m, grid_search\u001b[39m.\u001b[39mbest_params_)\n\u001b[1;32m     17\u001b[0m \u001b[39mprint\u001b[39m(\u001b[39m\"\u001b[39m\u001b[39mBest score:\u001b[39m\u001b[39m\"\u001b[39m, grid_search\u001b[39m.\u001b[39mbest_score_)\n",
      "File \u001b[0;32m/opt/anaconda3/lib/python3.9/site-packages/sklearn/model_selection/_search.py:874\u001b[0m, in \u001b[0;36mBaseSearchCV.fit\u001b[0;34m(self, X, y, groups, **fit_params)\u001b[0m\n\u001b[1;32m    868\u001b[0m     results \u001b[39m=\u001b[39m \u001b[39mself\u001b[39m\u001b[39m.\u001b[39m_format_results(\n\u001b[1;32m    869\u001b[0m         all_candidate_params, n_splits, all_out, all_more_results\n\u001b[1;32m    870\u001b[0m     )\n\u001b[1;32m    872\u001b[0m     \u001b[39mreturn\u001b[39;00m results\n\u001b[0;32m--> 874\u001b[0m \u001b[39mself\u001b[39;49m\u001b[39m.\u001b[39;49m_run_search(evaluate_candidates)\n\u001b[1;32m    876\u001b[0m \u001b[39m# multimetric is determined here because in the case of a callable\u001b[39;00m\n\u001b[1;32m    877\u001b[0m \u001b[39m# self.scoring the return type is only known after calling\u001b[39;00m\n\u001b[1;32m    878\u001b[0m first_test_score \u001b[39m=\u001b[39m all_out[\u001b[39m0\u001b[39m][\u001b[39m\"\u001b[39m\u001b[39mtest_scores\u001b[39m\u001b[39m\"\u001b[39m]\n",
      "File \u001b[0;32m/opt/anaconda3/lib/python3.9/site-packages/sklearn/model_selection/_search.py:1388\u001b[0m, in \u001b[0;36mGridSearchCV._run_search\u001b[0;34m(self, evaluate_candidates)\u001b[0m\n\u001b[1;32m   1386\u001b[0m \u001b[39mdef\u001b[39;00m \u001b[39m_run_search\u001b[39m(\u001b[39mself\u001b[39m, evaluate_candidates):\n\u001b[1;32m   1387\u001b[0m     \u001b[39m\"\"\"Search all candidates in param_grid\"\"\"\u001b[39;00m\n\u001b[0;32m-> 1388\u001b[0m     evaluate_candidates(ParameterGrid(\u001b[39mself\u001b[39;49m\u001b[39m.\u001b[39;49mparam_grid))\n",
      "File \u001b[0;32m/opt/anaconda3/lib/python3.9/site-packages/sklearn/model_selection/_search.py:821\u001b[0m, in \u001b[0;36mBaseSearchCV.fit.<locals>.evaluate_candidates\u001b[0;34m(candidate_params, cv, more_results)\u001b[0m\n\u001b[1;32m    813\u001b[0m \u001b[39mif\u001b[39;00m \u001b[39mself\u001b[39m\u001b[39m.\u001b[39mverbose \u001b[39m>\u001b[39m \u001b[39m0\u001b[39m:\n\u001b[1;32m    814\u001b[0m     \u001b[39mprint\u001b[39m(\n\u001b[1;32m    815\u001b[0m         \u001b[39m\"\u001b[39m\u001b[39mFitting \u001b[39m\u001b[39m{0}\u001b[39;00m\u001b[39m folds for each of \u001b[39m\u001b[39m{1}\u001b[39;00m\u001b[39m candidates,\u001b[39m\u001b[39m\"\u001b[39m\n\u001b[1;32m    816\u001b[0m         \u001b[39m\"\u001b[39m\u001b[39m totalling \u001b[39m\u001b[39m{2}\u001b[39;00m\u001b[39m fits\u001b[39m\u001b[39m\"\u001b[39m\u001b[39m.\u001b[39mformat(\n\u001b[1;32m    817\u001b[0m             n_splits, n_candidates, n_candidates \u001b[39m*\u001b[39m n_splits\n\u001b[1;32m    818\u001b[0m         )\n\u001b[1;32m    819\u001b[0m     )\n\u001b[0;32m--> 821\u001b[0m out \u001b[39m=\u001b[39m parallel(\n\u001b[1;32m    822\u001b[0m     delayed(_fit_and_score)(\n\u001b[1;32m    823\u001b[0m         clone(base_estimator),\n\u001b[1;32m    824\u001b[0m         X,\n\u001b[1;32m    825\u001b[0m         y,\n\u001b[1;32m    826\u001b[0m         train\u001b[39m=\u001b[39;49mtrain,\n\u001b[1;32m    827\u001b[0m         test\u001b[39m=\u001b[39;49mtest,\n\u001b[1;32m    828\u001b[0m         parameters\u001b[39m=\u001b[39;49mparameters,\n\u001b[1;32m    829\u001b[0m         split_progress\u001b[39m=\u001b[39;49m(split_idx, n_splits),\n\u001b[1;32m    830\u001b[0m         candidate_progress\u001b[39m=\u001b[39;49m(cand_idx, n_candidates),\n\u001b[1;32m    831\u001b[0m         \u001b[39m*\u001b[39;49m\u001b[39m*\u001b[39;49mfit_and_score_kwargs,\n\u001b[1;32m    832\u001b[0m     )\n\u001b[1;32m    833\u001b[0m     \u001b[39mfor\u001b[39;49;00m (cand_idx, parameters), (split_idx, (train, test)) \u001b[39min\u001b[39;49;00m product(\n\u001b[1;32m    834\u001b[0m         \u001b[39menumerate\u001b[39;49m(candidate_params), \u001b[39menumerate\u001b[39;49m(cv\u001b[39m.\u001b[39;49msplit(X, y, groups))\n\u001b[1;32m    835\u001b[0m     )\n\u001b[1;32m    836\u001b[0m )\n\u001b[1;32m    838\u001b[0m \u001b[39mif\u001b[39;00m \u001b[39mlen\u001b[39m(out) \u001b[39m<\u001b[39m \u001b[39m1\u001b[39m:\n\u001b[1;32m    839\u001b[0m     \u001b[39mraise\u001b[39;00m \u001b[39mValueError\u001b[39;00m(\n\u001b[1;32m    840\u001b[0m         \u001b[39m\"\u001b[39m\u001b[39mNo fits were performed. \u001b[39m\u001b[39m\"\u001b[39m\n\u001b[1;32m    841\u001b[0m         \u001b[39m\"\u001b[39m\u001b[39mWas the CV iterator empty? \u001b[39m\u001b[39m\"\u001b[39m\n\u001b[1;32m    842\u001b[0m         \u001b[39m\"\u001b[39m\u001b[39mWere there no candidates?\u001b[39m\u001b[39m\"\u001b[39m\n\u001b[1;32m    843\u001b[0m     )\n",
      "File \u001b[0;32m/opt/anaconda3/lib/python3.9/site-packages/sklearn/utils/parallel.py:63\u001b[0m, in \u001b[0;36mParallel.__call__\u001b[0;34m(self, iterable)\u001b[0m\n\u001b[1;32m     58\u001b[0m config \u001b[39m=\u001b[39m get_config()\n\u001b[1;32m     59\u001b[0m iterable_with_config \u001b[39m=\u001b[39m (\n\u001b[1;32m     60\u001b[0m     (_with_config(delayed_func, config), args, kwargs)\n\u001b[1;32m     61\u001b[0m     \u001b[39mfor\u001b[39;00m delayed_func, args, kwargs \u001b[39min\u001b[39;00m iterable\n\u001b[1;32m     62\u001b[0m )\n\u001b[0;32m---> 63\u001b[0m \u001b[39mreturn\u001b[39;00m \u001b[39msuper\u001b[39;49m()\u001b[39m.\u001b[39;49m\u001b[39m__call__\u001b[39;49m(iterable_with_config)\n",
      "File \u001b[0;32m/opt/anaconda3/lib/python3.9/site-packages/joblib/parallel.py:1061\u001b[0m, in \u001b[0;36mParallel.__call__\u001b[0;34m(self, iterable)\u001b[0m\n\u001b[1;32m   1058\u001b[0m     \u001b[39mself\u001b[39m\u001b[39m.\u001b[39m_iterating \u001b[39m=\u001b[39m \u001b[39mFalse\u001b[39;00m\n\u001b[1;32m   1060\u001b[0m \u001b[39mwith\u001b[39;00m \u001b[39mself\u001b[39m\u001b[39m.\u001b[39m_backend\u001b[39m.\u001b[39mretrieval_context():\n\u001b[0;32m-> 1061\u001b[0m     \u001b[39mself\u001b[39;49m\u001b[39m.\u001b[39;49mretrieve()\n\u001b[1;32m   1062\u001b[0m \u001b[39m# Make sure that we get a last message telling us we are done\u001b[39;00m\n\u001b[1;32m   1063\u001b[0m elapsed_time \u001b[39m=\u001b[39m time\u001b[39m.\u001b[39mtime() \u001b[39m-\u001b[39m \u001b[39mself\u001b[39m\u001b[39m.\u001b[39m_start_time\n",
      "File \u001b[0;32m/opt/anaconda3/lib/python3.9/site-packages/joblib/parallel.py:938\u001b[0m, in \u001b[0;36mParallel.retrieve\u001b[0;34m(self)\u001b[0m\n\u001b[1;32m    936\u001b[0m \u001b[39mtry\u001b[39;00m:\n\u001b[1;32m    937\u001b[0m     \u001b[39mif\u001b[39;00m \u001b[39mgetattr\u001b[39m(\u001b[39mself\u001b[39m\u001b[39m.\u001b[39m_backend, \u001b[39m'\u001b[39m\u001b[39msupports_timeout\u001b[39m\u001b[39m'\u001b[39m, \u001b[39mFalse\u001b[39;00m):\n\u001b[0;32m--> 938\u001b[0m         \u001b[39mself\u001b[39m\u001b[39m.\u001b[39m_output\u001b[39m.\u001b[39mextend(job\u001b[39m.\u001b[39;49mget(timeout\u001b[39m=\u001b[39;49m\u001b[39mself\u001b[39;49m\u001b[39m.\u001b[39;49mtimeout))\n\u001b[1;32m    939\u001b[0m     \u001b[39melse\u001b[39;00m:\n\u001b[1;32m    940\u001b[0m         \u001b[39mself\u001b[39m\u001b[39m.\u001b[39m_output\u001b[39m.\u001b[39mextend(job\u001b[39m.\u001b[39mget())\n",
      "File \u001b[0;32m/opt/anaconda3/lib/python3.9/site-packages/joblib/_parallel_backends.py:542\u001b[0m, in \u001b[0;36mLokyBackend.wrap_future_result\u001b[0;34m(future, timeout)\u001b[0m\n\u001b[1;32m    539\u001b[0m \u001b[39m\"\"\"Wrapper for Future.result to implement the same behaviour as\u001b[39;00m\n\u001b[1;32m    540\u001b[0m \u001b[39mAsyncResults.get from multiprocessing.\"\"\"\u001b[39;00m\n\u001b[1;32m    541\u001b[0m \u001b[39mtry\u001b[39;00m:\n\u001b[0;32m--> 542\u001b[0m     \u001b[39mreturn\u001b[39;00m future\u001b[39m.\u001b[39;49mresult(timeout\u001b[39m=\u001b[39;49mtimeout)\n\u001b[1;32m    543\u001b[0m \u001b[39mexcept\u001b[39;00m CfTimeoutError \u001b[39mas\u001b[39;00m e:\n\u001b[1;32m    544\u001b[0m     \u001b[39mraise\u001b[39;00m \u001b[39mTimeoutError\u001b[39;00m \u001b[39mfrom\u001b[39;00m \u001b[39me\u001b[39;00m\n",
      "File \u001b[0;32m/opt/anaconda3/lib/python3.9/concurrent/futures/_base.py:441\u001b[0m, in \u001b[0;36mFuture.result\u001b[0;34m(self, timeout)\u001b[0m\n\u001b[1;32m    438\u001b[0m \u001b[39melif\u001b[39;00m \u001b[39mself\u001b[39m\u001b[39m.\u001b[39m_state \u001b[39m==\u001b[39m FINISHED:\n\u001b[1;32m    439\u001b[0m     \u001b[39mreturn\u001b[39;00m \u001b[39mself\u001b[39m\u001b[39m.\u001b[39m__get_result()\n\u001b[0;32m--> 441\u001b[0m \u001b[39mself\u001b[39;49m\u001b[39m.\u001b[39;49m_condition\u001b[39m.\u001b[39;49mwait(timeout)\n\u001b[1;32m    443\u001b[0m \u001b[39mif\u001b[39;00m \u001b[39mself\u001b[39m\u001b[39m.\u001b[39m_state \u001b[39min\u001b[39;00m [CANCELLED, CANCELLED_AND_NOTIFIED]:\n\u001b[1;32m    444\u001b[0m     \u001b[39mraise\u001b[39;00m CancelledError()\n",
      "File \u001b[0;32m/opt/anaconda3/lib/python3.9/threading.py:312\u001b[0m, in \u001b[0;36mCondition.wait\u001b[0;34m(self, timeout)\u001b[0m\n\u001b[1;32m    310\u001b[0m \u001b[39mtry\u001b[39;00m:    \u001b[39m# restore state no matter what (e.g., KeyboardInterrupt)\u001b[39;00m\n\u001b[1;32m    311\u001b[0m     \u001b[39mif\u001b[39;00m timeout \u001b[39mis\u001b[39;00m \u001b[39mNone\u001b[39;00m:\n\u001b[0;32m--> 312\u001b[0m         waiter\u001b[39m.\u001b[39;49macquire()\n\u001b[1;32m    313\u001b[0m         gotit \u001b[39m=\u001b[39m \u001b[39mTrue\u001b[39;00m\n\u001b[1;32m    314\u001b[0m     \u001b[39melse\u001b[39;00m:\n",
      "\u001b[0;31mKeyboardInterrupt\u001b[0m: "
     ]
    }
   ],
   "source": [
    "model = RandomForestClassifier()\n",
    "\n",
    "X = df.drop(['wine', 'density'], axis = 1)\n",
    "y = df.wine\n",
    "\n",
    "params = {\n",
    "    'n_estimators': list(range(100, 501, 50)),\n",
    "    'max_depth': [1, 3, 5, 7, 9],\n",
    "    'max_features': ['sqrt', 'log2'],  \n",
    "    'criterion': ['gini', 'entropy'] \n",
    "}\n",
    "\n",
    "grid_search = GridSearchCV(model, param_grid = params, cv = kf, n_jobs = -1)\n",
    "grid_search.fit(X, y)\n",
    "\n",
    "print(\"Best parameters:\", grid_search.best_params_)\n",
    "print(\"Best score:\", grid_search.best_score_)\n",
    "\n",
    "result = result.append({'model': 'Random Forest', 'accuracy': round(grid_search.best_score_, 4)}, ignore_index = True)"
   ]
  },
  {
   "cell_type": "markdown",
   "metadata": {},
   "source": [
    "# Feature Selection"
   ]
  },
  {
   "cell_type": "markdown",
   "metadata": {},
   "source": [
    "## Stepwise Selection"
   ]
  },
  {
   "cell_type": "code",
   "execution_count": 6,
   "metadata": {},
   "outputs": [
    {
     "name": "stdout",
     "output_type": "stream",
     "text": [
      "('chlorides',)\n",
      "0.8419820680363234\n",
      "=======================================\n",
      "('chlorides', 'total sulfur dioxide')\n",
      "0.9475946054551363\n",
      "=======================================\n",
      "('chlorides', 'total sulfur dioxide', 'sulphates')\n",
      "0.9631482761039696\n",
      "=======================================\n",
      "('volatile acidity', 'chlorides', 'total sulfur dioxide', 'sulphates')\n",
      "0.9700148254837316\n",
      "=======================================\n",
      "('fixed acidity', 'volatile acidity', 'chlorides', 'total sulfur dioxide', 'sulphates')\n",
      "0.9741081818031752\n",
      "=======================================\n",
      "('fixed acidity', 'volatile acidity', 'chlorides', 'total sulfur dioxide', 'pH', 'sulphates')\n",
      "0.975369703043581\n",
      "=======================================\n",
      "('fixed acidity', 'volatile acidity', 'chlorides', 'total sulfur dioxide', 'pH', 'sulphates', 'alcohol')\n",
      "0.9778785631786591\n",
      "=======================================\n"
     ]
    }
   ],
   "source": [
    "for i in range(7):\n",
    "    sfs = SFS(\n",
    "    cv = kf, \n",
    "    estimator = RandomForestClassifier(criterion = 'entropy',  max_depth = 4, max_features = 'sqrt', n_estimators = 250, n_jobs = -1),\n",
    "    forward = True,\n",
    "    floating = True,\n",
    "    k_features = i+1, \n",
    "    scoring ='f1',\n",
    "    n_jobs = -1\n",
    ")\n",
    "    sfs.fit(X, y)\n",
    "\n",
    "    print(sfs.k_feature_names_)\n",
    "    print(sfs.k_score_)\n",
    "    print(\"=======================================\")"
   ]
  },
  {
   "cell_type": "code",
   "execution_count": 7,
   "metadata": {},
   "outputs": [
    {
     "data": {
      "application/vnd.plotly.v1+json": {
       "config": {
        "plotlyServerURL": "https://plotly.com"
       },
       "data": [
        {
         "mode": "lines+markers",
         "name": "Average Score",
         "type": "scatter",
         "x": [
          1,
          2,
          3,
          4,
          5,
          6,
          7
         ],
         "y": [
          0.8422531494575646,
          0.9492344842477841,
          0.9632700891909367,
          0.970373861288703,
          0.9741112045913096,
          0.9769629639309769,
          0.9778785631786591
         ]
        }
       ],
       "layout": {
        "height": 800,
        "template": {
         "data": {
          "bar": [
           {
            "error_x": {
             "color": "#2a3f5f"
            },
            "error_y": {
             "color": "#2a3f5f"
            },
            "marker": {
             "line": {
              "color": "#E5ECF6",
              "width": 0.5
             },
             "pattern": {
              "fillmode": "overlay",
              "size": 10,
              "solidity": 0.2
             }
            },
            "type": "bar"
           }
          ],
          "barpolar": [
           {
            "marker": {
             "line": {
              "color": "#E5ECF6",
              "width": 0.5
             },
             "pattern": {
              "fillmode": "overlay",
              "size": 10,
              "solidity": 0.2
             }
            },
            "type": "barpolar"
           }
          ],
          "carpet": [
           {
            "aaxis": {
             "endlinecolor": "#2a3f5f",
             "gridcolor": "white",
             "linecolor": "white",
             "minorgridcolor": "white",
             "startlinecolor": "#2a3f5f"
            },
            "baxis": {
             "endlinecolor": "#2a3f5f",
             "gridcolor": "white",
             "linecolor": "white",
             "minorgridcolor": "white",
             "startlinecolor": "#2a3f5f"
            },
            "type": "carpet"
           }
          ],
          "choropleth": [
           {
            "colorbar": {
             "outlinewidth": 0,
             "ticks": ""
            },
            "type": "choropleth"
           }
          ],
          "contour": [
           {
            "colorbar": {
             "outlinewidth": 0,
             "ticks": ""
            },
            "colorscale": [
             [
              0,
              "#0d0887"
             ],
             [
              0.1111111111111111,
              "#46039f"
             ],
             [
              0.2222222222222222,
              "#7201a8"
             ],
             [
              0.3333333333333333,
              "#9c179e"
             ],
             [
              0.4444444444444444,
              "#bd3786"
             ],
             [
              0.5555555555555556,
              "#d8576b"
             ],
             [
              0.6666666666666666,
              "#ed7953"
             ],
             [
              0.7777777777777778,
              "#fb9f3a"
             ],
             [
              0.8888888888888888,
              "#fdca26"
             ],
             [
              1,
              "#f0f921"
             ]
            ],
            "type": "contour"
           }
          ],
          "contourcarpet": [
           {
            "colorbar": {
             "outlinewidth": 0,
             "ticks": ""
            },
            "type": "contourcarpet"
           }
          ],
          "heatmap": [
           {
            "colorbar": {
             "outlinewidth": 0,
             "ticks": ""
            },
            "colorscale": [
             [
              0,
              "#0d0887"
             ],
             [
              0.1111111111111111,
              "#46039f"
             ],
             [
              0.2222222222222222,
              "#7201a8"
             ],
             [
              0.3333333333333333,
              "#9c179e"
             ],
             [
              0.4444444444444444,
              "#bd3786"
             ],
             [
              0.5555555555555556,
              "#d8576b"
             ],
             [
              0.6666666666666666,
              "#ed7953"
             ],
             [
              0.7777777777777778,
              "#fb9f3a"
             ],
             [
              0.8888888888888888,
              "#fdca26"
             ],
             [
              1,
              "#f0f921"
             ]
            ],
            "type": "heatmap"
           }
          ],
          "heatmapgl": [
           {
            "colorbar": {
             "outlinewidth": 0,
             "ticks": ""
            },
            "colorscale": [
             [
              0,
              "#0d0887"
             ],
             [
              0.1111111111111111,
              "#46039f"
             ],
             [
              0.2222222222222222,
              "#7201a8"
             ],
             [
              0.3333333333333333,
              "#9c179e"
             ],
             [
              0.4444444444444444,
              "#bd3786"
             ],
             [
              0.5555555555555556,
              "#d8576b"
             ],
             [
              0.6666666666666666,
              "#ed7953"
             ],
             [
              0.7777777777777778,
              "#fb9f3a"
             ],
             [
              0.8888888888888888,
              "#fdca26"
             ],
             [
              1,
              "#f0f921"
             ]
            ],
            "type": "heatmapgl"
           }
          ],
          "histogram": [
           {
            "marker": {
             "pattern": {
              "fillmode": "overlay",
              "size": 10,
              "solidity": 0.2
             }
            },
            "type": "histogram"
           }
          ],
          "histogram2d": [
           {
            "colorbar": {
             "outlinewidth": 0,
             "ticks": ""
            },
            "colorscale": [
             [
              0,
              "#0d0887"
             ],
             [
              0.1111111111111111,
              "#46039f"
             ],
             [
              0.2222222222222222,
              "#7201a8"
             ],
             [
              0.3333333333333333,
              "#9c179e"
             ],
             [
              0.4444444444444444,
              "#bd3786"
             ],
             [
              0.5555555555555556,
              "#d8576b"
             ],
             [
              0.6666666666666666,
              "#ed7953"
             ],
             [
              0.7777777777777778,
              "#fb9f3a"
             ],
             [
              0.8888888888888888,
              "#fdca26"
             ],
             [
              1,
              "#f0f921"
             ]
            ],
            "type": "histogram2d"
           }
          ],
          "histogram2dcontour": [
           {
            "colorbar": {
             "outlinewidth": 0,
             "ticks": ""
            },
            "colorscale": [
             [
              0,
              "#0d0887"
             ],
             [
              0.1111111111111111,
              "#46039f"
             ],
             [
              0.2222222222222222,
              "#7201a8"
             ],
             [
              0.3333333333333333,
              "#9c179e"
             ],
             [
              0.4444444444444444,
              "#bd3786"
             ],
             [
              0.5555555555555556,
              "#d8576b"
             ],
             [
              0.6666666666666666,
              "#ed7953"
             ],
             [
              0.7777777777777778,
              "#fb9f3a"
             ],
             [
              0.8888888888888888,
              "#fdca26"
             ],
             [
              1,
              "#f0f921"
             ]
            ],
            "type": "histogram2dcontour"
           }
          ],
          "mesh3d": [
           {
            "colorbar": {
             "outlinewidth": 0,
             "ticks": ""
            },
            "type": "mesh3d"
           }
          ],
          "parcoords": [
           {
            "line": {
             "colorbar": {
              "outlinewidth": 0,
              "ticks": ""
             }
            },
            "type": "parcoords"
           }
          ],
          "pie": [
           {
            "automargin": true,
            "type": "pie"
           }
          ],
          "scatter": [
           {
            "fillpattern": {
             "fillmode": "overlay",
             "size": 10,
             "solidity": 0.2
            },
            "type": "scatter"
           }
          ],
          "scatter3d": [
           {
            "line": {
             "colorbar": {
              "outlinewidth": 0,
              "ticks": ""
             }
            },
            "marker": {
             "colorbar": {
              "outlinewidth": 0,
              "ticks": ""
             }
            },
            "type": "scatter3d"
           }
          ],
          "scattercarpet": [
           {
            "marker": {
             "colorbar": {
              "outlinewidth": 0,
              "ticks": ""
             }
            },
            "type": "scattercarpet"
           }
          ],
          "scattergeo": [
           {
            "marker": {
             "colorbar": {
              "outlinewidth": 0,
              "ticks": ""
             }
            },
            "type": "scattergeo"
           }
          ],
          "scattergl": [
           {
            "marker": {
             "colorbar": {
              "outlinewidth": 0,
              "ticks": ""
             }
            },
            "type": "scattergl"
           }
          ],
          "scattermapbox": [
           {
            "marker": {
             "colorbar": {
              "outlinewidth": 0,
              "ticks": ""
             }
            },
            "type": "scattermapbox"
           }
          ],
          "scatterpolar": [
           {
            "marker": {
             "colorbar": {
              "outlinewidth": 0,
              "ticks": ""
             }
            },
            "type": "scatterpolar"
           }
          ],
          "scatterpolargl": [
           {
            "marker": {
             "colorbar": {
              "outlinewidth": 0,
              "ticks": ""
             }
            },
            "type": "scatterpolargl"
           }
          ],
          "scatterternary": [
           {
            "marker": {
             "colorbar": {
              "outlinewidth": 0,
              "ticks": ""
             }
            },
            "type": "scatterternary"
           }
          ],
          "surface": [
           {
            "colorbar": {
             "outlinewidth": 0,
             "ticks": ""
            },
            "colorscale": [
             [
              0,
              "#0d0887"
             ],
             [
              0.1111111111111111,
              "#46039f"
             ],
             [
              0.2222222222222222,
              "#7201a8"
             ],
             [
              0.3333333333333333,
              "#9c179e"
             ],
             [
              0.4444444444444444,
              "#bd3786"
             ],
             [
              0.5555555555555556,
              "#d8576b"
             ],
             [
              0.6666666666666666,
              "#ed7953"
             ],
             [
              0.7777777777777778,
              "#fb9f3a"
             ],
             [
              0.8888888888888888,
              "#fdca26"
             ],
             [
              1,
              "#f0f921"
             ]
            ],
            "type": "surface"
           }
          ],
          "table": [
           {
            "cells": {
             "fill": {
              "color": "#EBF0F8"
             },
             "line": {
              "color": "white"
             }
            },
            "header": {
             "fill": {
              "color": "#C8D4E3"
             },
             "line": {
              "color": "white"
             }
            },
            "type": "table"
           }
          ]
         },
         "layout": {
          "annotationdefaults": {
           "arrowcolor": "#2a3f5f",
           "arrowhead": 0,
           "arrowwidth": 1
          },
          "autotypenumbers": "strict",
          "coloraxis": {
           "colorbar": {
            "outlinewidth": 0,
            "ticks": ""
           }
          },
          "colorscale": {
           "diverging": [
            [
             0,
             "#8e0152"
            ],
            [
             0.1,
             "#c51b7d"
            ],
            [
             0.2,
             "#de77ae"
            ],
            [
             0.3,
             "#f1b6da"
            ],
            [
             0.4,
             "#fde0ef"
            ],
            [
             0.5,
             "#f7f7f7"
            ],
            [
             0.6,
             "#e6f5d0"
            ],
            [
             0.7,
             "#b8e186"
            ],
            [
             0.8,
             "#7fbc41"
            ],
            [
             0.9,
             "#4d9221"
            ],
            [
             1,
             "#276419"
            ]
           ],
           "sequential": [
            [
             0,
             "#0d0887"
            ],
            [
             0.1111111111111111,
             "#46039f"
            ],
            [
             0.2222222222222222,
             "#7201a8"
            ],
            [
             0.3333333333333333,
             "#9c179e"
            ],
            [
             0.4444444444444444,
             "#bd3786"
            ],
            [
             0.5555555555555556,
             "#d8576b"
            ],
            [
             0.6666666666666666,
             "#ed7953"
            ],
            [
             0.7777777777777778,
             "#fb9f3a"
            ],
            [
             0.8888888888888888,
             "#fdca26"
            ],
            [
             1,
             "#f0f921"
            ]
           ],
           "sequentialminus": [
            [
             0,
             "#0d0887"
            ],
            [
             0.1111111111111111,
             "#46039f"
            ],
            [
             0.2222222222222222,
             "#7201a8"
            ],
            [
             0.3333333333333333,
             "#9c179e"
            ],
            [
             0.4444444444444444,
             "#bd3786"
            ],
            [
             0.5555555555555556,
             "#d8576b"
            ],
            [
             0.6666666666666666,
             "#ed7953"
            ],
            [
             0.7777777777777778,
             "#fb9f3a"
            ],
            [
             0.8888888888888888,
             "#fdca26"
            ],
            [
             1,
             "#f0f921"
            ]
           ]
          },
          "colorway": [
           "#636efa",
           "#EF553B",
           "#00cc96",
           "#ab63fa",
           "#FFA15A",
           "#19d3f3",
           "#FF6692",
           "#B6E880",
           "#FF97FF",
           "#FECB52"
          ],
          "font": {
           "color": "#2a3f5f"
          },
          "geo": {
           "bgcolor": "white",
           "lakecolor": "white",
           "landcolor": "#E5ECF6",
           "showlakes": true,
           "showland": true,
           "subunitcolor": "white"
          },
          "hoverlabel": {
           "align": "left"
          },
          "hovermode": "closest",
          "mapbox": {
           "style": "light"
          },
          "paper_bgcolor": "white",
          "plot_bgcolor": "#E5ECF6",
          "polar": {
           "angularaxis": {
            "gridcolor": "white",
            "linecolor": "white",
            "ticks": ""
           },
           "bgcolor": "#E5ECF6",
           "radialaxis": {
            "gridcolor": "white",
            "linecolor": "white",
            "ticks": ""
           }
          },
          "scene": {
           "xaxis": {
            "backgroundcolor": "#E5ECF6",
            "gridcolor": "white",
            "gridwidth": 2,
            "linecolor": "white",
            "showbackground": true,
            "ticks": "",
            "zerolinecolor": "white"
           },
           "yaxis": {
            "backgroundcolor": "#E5ECF6",
            "gridcolor": "white",
            "gridwidth": 2,
            "linecolor": "white",
            "showbackground": true,
            "ticks": "",
            "zerolinecolor": "white"
           },
           "zaxis": {
            "backgroundcolor": "#E5ECF6",
            "gridcolor": "white",
            "gridwidth": 2,
            "linecolor": "white",
            "showbackground": true,
            "ticks": "",
            "zerolinecolor": "white"
           }
          },
          "shapedefaults": {
           "line": {
            "color": "#2a3f5f"
           }
          },
          "ternary": {
           "aaxis": {
            "gridcolor": "white",
            "linecolor": "white",
            "ticks": ""
           },
           "baxis": {
            "gridcolor": "white",
            "linecolor": "white",
            "ticks": ""
           },
           "bgcolor": "#E5ECF6",
           "caxis": {
            "gridcolor": "white",
            "linecolor": "white",
            "ticks": ""
           }
          },
          "title": {
           "x": 0.05
          },
          "xaxis": {
           "automargin": true,
           "gridcolor": "white",
           "linecolor": "white",
           "ticks": "",
           "title": {
            "standoff": 15
           },
           "zerolinecolor": "white",
           "zerolinewidth": 2
          },
          "yaxis": {
           "automargin": true,
           "gridcolor": "white",
           "linecolor": "white",
           "ticks": "",
           "title": {
            "standoff": 15
           },
           "zerolinecolor": "white",
           "zerolinewidth": 2
          }
         }
        },
        "title": {
         "font": {
          "family": "Gulliver",
          "size": 40
         },
         "text": "Stepwise Selection",
         "x": 0.5
        },
        "width": 1200,
        "xaxis": {
         "title": {
          "font": {
           "family": "Gulliver",
           "size": 24
          },
          "text": "Number of Features"
         }
        },
        "yaxis": {
         "title": {
          "font": {
           "family": "Gulliver",
           "size": 24
          },
          "text": "Performence (F1)"
         }
        }
       }
      }
     },
     "metadata": {},
     "output_type": "display_data"
    }
   ],
   "source": [
    "metric_dict = sfs.get_metric_dict()\n",
    "k_features = list(metric_dict.keys())\n",
    "avg_scores = np.array([metric_dict[k]['avg_score'] for k in k_features])\n",
    "std_devs = np.array([metric_dict[k]['std_dev'] for k in k_features])\n",
    "\n",
    "fig = go.Figure()\n",
    "fig.add_trace(\n",
    "    go.Scatter(\n",
    "    x = k_features, y = avg_scores, \n",
    "    mode = 'lines+markers', name = 'Average Score'\n",
    "    )\n",
    ")\n",
    "\n",
    "fig.update_layout(\n",
    "    title = {\n",
    "        'text': 'Stepwise Selection',\n",
    "        'font': {\n",
    "            'size': 40, 'family': 'Gulliver'\n",
    "        }, 'x': 0.5\n",
    "    }, \n",
    "    xaxis_title = {\n",
    "        'text': 'Number of Features',\n",
    "        'font': {\n",
    "            'size': 24, 'family': 'Gulliver'\n",
    "        }\n",
    "    }, \n",
    "    yaxis_title = {\n",
    "        'text': 'Performence (F1)',\n",
    "        'font': {\n",
    "            'size': 24, 'family': 'Gulliver'\n",
    "        }\n",
    "    }, \n",
    "    width = 1200, height = 800\n",
    ")\n",
    "\n",
    "fig.show()"
   ]
  },
  {
   "cell_type": "markdown",
   "metadata": {},
   "source": [
    "## Lasso"
   ]
  },
  {
   "cell_type": "code",
   "execution_count": null,
   "metadata": {},
   "outputs": [
    {
     "name": "stdout",
     "output_type": "stream",
     "text": [
      "Best alpha: {'alpha': 1e-08, 'selection': 'random'}\n",
      "Best scores: 0.8312860264728428\n",
      "['fixed acidity' 'volatile acidity' 'chlorides' 'pH' 'sulphates' 'alcohol']\n",
      "[1.94012268e+01 3.13999017e+00 1.15308809e-01 1.18270863e-02\n",
      " 2.08427751e+01 1.89202679e-02 7.04227274e-03 0.00000000e+00\n",
      " 4.42252089e+01 2.38130996e+00 1.87684773e+01 2.36408251e-02]\n"
     ]
    }
   ],
   "source": [
    "X = df.drop(['wine', 'density'], axis = 1)\n",
    "y = df.wine\n",
    "\n",
    "from sklearn.linear_model import Lasso\n",
    "lasso = Lasso()\n",
    "params = {\n",
    "    'alpha': [10**i for i in range(-10, 11)],\n",
    "    'selection': ['cyclic', 'random']\n",
    "}\n",
    "gridlasso = GridSearchCV(lasso, param_grid = params, cv = kf, n_jobs = -1)\n",
    "gridlasso.fit(X, y)\n",
    "\n",
    "print(\"Best alpha:\", gridlasso.best_params_)\n",
    "print(\"Best scores:\", gridlasso.best_score_)\n",
    "\n",
    "coefficients = gridlasso.best_estimator_.coef_\n",
    "importance = np.abs(coefficients)\n",
    "print(np.array(X.columns)[importance > 1])\n",
    "print(importance)"
   ]
  },
  {
   "cell_type": "code",
   "execution_count": null,
   "metadata": {},
   "outputs": [
    {
     "data": {
      "application/vnd.plotly.v1+json": {
       "config": {
        "plotlyServerURL": "https://plotly.com"
       },
       "data": [
        {
         "mode": "lines+markers",
         "type": "scatter",
         "x": [
          -10,
          -10,
          -9,
          -9,
          -8,
          -8,
          -7,
          -7,
          -6,
          -6,
          -5,
          -5,
          -4,
          -4,
          -3,
          -3,
          -2,
          -2,
          -1,
          -1,
          0,
          0,
          1,
          1,
          2,
          2,
          3,
          3,
          4,
          4,
          5,
          5,
          6,
          6,
          7,
          7,
          8,
          8,
          9,
          9,
          10,
          10
         ],
         "y": [
          0.8312860212144677,
          0.8312860212142447,
          0.8312860219046921,
          0.8312860219043884,
          0.831286026352487,
          0.8312860264761879,
          0.8312858254588157,
          0.8312858242106472,
          0.8312592786096754,
          0.8312592910551354,
          0.830408789457709,
          0.8304087820960475,
          0.8108572777482044,
          0.8108570945825473,
          0.7107286995877651,
          0.7107289001970012,
          0.5326360714396454,
          0.5326349332955155,
          0.5142194172095772,
          0.5142194172095772,
          0.5082939066287714,
          0.5082939066287714,
          -0.0000010804251805218711,
          -0.0000010804251805218711,
          -0.0000010804251805218711,
          -0.0000010804251805218711,
          -0.0000010804251805218711,
          -0.0000010804251805218711,
          -0.0000010804251805218711,
          -0.0000010804251805218711,
          -0.0000010804251805218711,
          -0.0000010804251805218711,
          -0.0000010804251805218711,
          -0.0000010804251805218711,
          -0.0000010804251805218711,
          -0.0000010804251805218711,
          -0.0000010804251805218711,
          -0.0000010804251805218711,
          -0.0000010804251805218711,
          -0.0000010804251805218711,
          -0.0000010804251805218711,
          -0.0000010804251805218711
         ]
        }
       ],
       "layout": {
        "height": 800,
        "template": {
         "data": {
          "bar": [
           {
            "error_x": {
             "color": "#2a3f5f"
            },
            "error_y": {
             "color": "#2a3f5f"
            },
            "marker": {
             "line": {
              "color": "#E5ECF6",
              "width": 0.5
             },
             "pattern": {
              "fillmode": "overlay",
              "size": 10,
              "solidity": 0.2
             }
            },
            "type": "bar"
           }
          ],
          "barpolar": [
           {
            "marker": {
             "line": {
              "color": "#E5ECF6",
              "width": 0.5
             },
             "pattern": {
              "fillmode": "overlay",
              "size": 10,
              "solidity": 0.2
             }
            },
            "type": "barpolar"
           }
          ],
          "carpet": [
           {
            "aaxis": {
             "endlinecolor": "#2a3f5f",
             "gridcolor": "white",
             "linecolor": "white",
             "minorgridcolor": "white",
             "startlinecolor": "#2a3f5f"
            },
            "baxis": {
             "endlinecolor": "#2a3f5f",
             "gridcolor": "white",
             "linecolor": "white",
             "minorgridcolor": "white",
             "startlinecolor": "#2a3f5f"
            },
            "type": "carpet"
           }
          ],
          "choropleth": [
           {
            "colorbar": {
             "outlinewidth": 0,
             "ticks": ""
            },
            "type": "choropleth"
           }
          ],
          "contour": [
           {
            "colorbar": {
             "outlinewidth": 0,
             "ticks": ""
            },
            "colorscale": [
             [
              0,
              "#0d0887"
             ],
             [
              0.1111111111111111,
              "#46039f"
             ],
             [
              0.2222222222222222,
              "#7201a8"
             ],
             [
              0.3333333333333333,
              "#9c179e"
             ],
             [
              0.4444444444444444,
              "#bd3786"
             ],
             [
              0.5555555555555556,
              "#d8576b"
             ],
             [
              0.6666666666666666,
              "#ed7953"
             ],
             [
              0.7777777777777778,
              "#fb9f3a"
             ],
             [
              0.8888888888888888,
              "#fdca26"
             ],
             [
              1,
              "#f0f921"
             ]
            ],
            "type": "contour"
           }
          ],
          "contourcarpet": [
           {
            "colorbar": {
             "outlinewidth": 0,
             "ticks": ""
            },
            "type": "contourcarpet"
           }
          ],
          "heatmap": [
           {
            "colorbar": {
             "outlinewidth": 0,
             "ticks": ""
            },
            "colorscale": [
             [
              0,
              "#0d0887"
             ],
             [
              0.1111111111111111,
              "#46039f"
             ],
             [
              0.2222222222222222,
              "#7201a8"
             ],
             [
              0.3333333333333333,
              "#9c179e"
             ],
             [
              0.4444444444444444,
              "#bd3786"
             ],
             [
              0.5555555555555556,
              "#d8576b"
             ],
             [
              0.6666666666666666,
              "#ed7953"
             ],
             [
              0.7777777777777778,
              "#fb9f3a"
             ],
             [
              0.8888888888888888,
              "#fdca26"
             ],
             [
              1,
              "#f0f921"
             ]
            ],
            "type": "heatmap"
           }
          ],
          "heatmapgl": [
           {
            "colorbar": {
             "outlinewidth": 0,
             "ticks": ""
            },
            "colorscale": [
             [
              0,
              "#0d0887"
             ],
             [
              0.1111111111111111,
              "#46039f"
             ],
             [
              0.2222222222222222,
              "#7201a8"
             ],
             [
              0.3333333333333333,
              "#9c179e"
             ],
             [
              0.4444444444444444,
              "#bd3786"
             ],
             [
              0.5555555555555556,
              "#d8576b"
             ],
             [
              0.6666666666666666,
              "#ed7953"
             ],
             [
              0.7777777777777778,
              "#fb9f3a"
             ],
             [
              0.8888888888888888,
              "#fdca26"
             ],
             [
              1,
              "#f0f921"
             ]
            ],
            "type": "heatmapgl"
           }
          ],
          "histogram": [
           {
            "marker": {
             "pattern": {
              "fillmode": "overlay",
              "size": 10,
              "solidity": 0.2
             }
            },
            "type": "histogram"
           }
          ],
          "histogram2d": [
           {
            "colorbar": {
             "outlinewidth": 0,
             "ticks": ""
            },
            "colorscale": [
             [
              0,
              "#0d0887"
             ],
             [
              0.1111111111111111,
              "#46039f"
             ],
             [
              0.2222222222222222,
              "#7201a8"
             ],
             [
              0.3333333333333333,
              "#9c179e"
             ],
             [
              0.4444444444444444,
              "#bd3786"
             ],
             [
              0.5555555555555556,
              "#d8576b"
             ],
             [
              0.6666666666666666,
              "#ed7953"
             ],
             [
              0.7777777777777778,
              "#fb9f3a"
             ],
             [
              0.8888888888888888,
              "#fdca26"
             ],
             [
              1,
              "#f0f921"
             ]
            ],
            "type": "histogram2d"
           }
          ],
          "histogram2dcontour": [
           {
            "colorbar": {
             "outlinewidth": 0,
             "ticks": ""
            },
            "colorscale": [
             [
              0,
              "#0d0887"
             ],
             [
              0.1111111111111111,
              "#46039f"
             ],
             [
              0.2222222222222222,
              "#7201a8"
             ],
             [
              0.3333333333333333,
              "#9c179e"
             ],
             [
              0.4444444444444444,
              "#bd3786"
             ],
             [
              0.5555555555555556,
              "#d8576b"
             ],
             [
              0.6666666666666666,
              "#ed7953"
             ],
             [
              0.7777777777777778,
              "#fb9f3a"
             ],
             [
              0.8888888888888888,
              "#fdca26"
             ],
             [
              1,
              "#f0f921"
             ]
            ],
            "type": "histogram2dcontour"
           }
          ],
          "mesh3d": [
           {
            "colorbar": {
             "outlinewidth": 0,
             "ticks": ""
            },
            "type": "mesh3d"
           }
          ],
          "parcoords": [
           {
            "line": {
             "colorbar": {
              "outlinewidth": 0,
              "ticks": ""
             }
            },
            "type": "parcoords"
           }
          ],
          "pie": [
           {
            "automargin": true,
            "type": "pie"
           }
          ],
          "scatter": [
           {
            "fillpattern": {
             "fillmode": "overlay",
             "size": 10,
             "solidity": 0.2
            },
            "type": "scatter"
           }
          ],
          "scatter3d": [
           {
            "line": {
             "colorbar": {
              "outlinewidth": 0,
              "ticks": ""
             }
            },
            "marker": {
             "colorbar": {
              "outlinewidth": 0,
              "ticks": ""
             }
            },
            "type": "scatter3d"
           }
          ],
          "scattercarpet": [
           {
            "marker": {
             "colorbar": {
              "outlinewidth": 0,
              "ticks": ""
             }
            },
            "type": "scattercarpet"
           }
          ],
          "scattergeo": [
           {
            "marker": {
             "colorbar": {
              "outlinewidth": 0,
              "ticks": ""
             }
            },
            "type": "scattergeo"
           }
          ],
          "scattergl": [
           {
            "marker": {
             "colorbar": {
              "outlinewidth": 0,
              "ticks": ""
             }
            },
            "type": "scattergl"
           }
          ],
          "scattermapbox": [
           {
            "marker": {
             "colorbar": {
              "outlinewidth": 0,
              "ticks": ""
             }
            },
            "type": "scattermapbox"
           }
          ],
          "scatterpolar": [
           {
            "marker": {
             "colorbar": {
              "outlinewidth": 0,
              "ticks": ""
             }
            },
            "type": "scatterpolar"
           }
          ],
          "scatterpolargl": [
           {
            "marker": {
             "colorbar": {
              "outlinewidth": 0,
              "ticks": ""
             }
            },
            "type": "scatterpolargl"
           }
          ],
          "scatterternary": [
           {
            "marker": {
             "colorbar": {
              "outlinewidth": 0,
              "ticks": ""
             }
            },
            "type": "scatterternary"
           }
          ],
          "surface": [
           {
            "colorbar": {
             "outlinewidth": 0,
             "ticks": ""
            },
            "colorscale": [
             [
              0,
              "#0d0887"
             ],
             [
              0.1111111111111111,
              "#46039f"
             ],
             [
              0.2222222222222222,
              "#7201a8"
             ],
             [
              0.3333333333333333,
              "#9c179e"
             ],
             [
              0.4444444444444444,
              "#bd3786"
             ],
             [
              0.5555555555555556,
              "#d8576b"
             ],
             [
              0.6666666666666666,
              "#ed7953"
             ],
             [
              0.7777777777777778,
              "#fb9f3a"
             ],
             [
              0.8888888888888888,
              "#fdca26"
             ],
             [
              1,
              "#f0f921"
             ]
            ],
            "type": "surface"
           }
          ],
          "table": [
           {
            "cells": {
             "fill": {
              "color": "#EBF0F8"
             },
             "line": {
              "color": "white"
             }
            },
            "header": {
             "fill": {
              "color": "#C8D4E3"
             },
             "line": {
              "color": "white"
             }
            },
            "type": "table"
           }
          ]
         },
         "layout": {
          "annotationdefaults": {
           "arrowcolor": "#2a3f5f",
           "arrowhead": 0,
           "arrowwidth": 1
          },
          "autotypenumbers": "strict",
          "coloraxis": {
           "colorbar": {
            "outlinewidth": 0,
            "ticks": ""
           }
          },
          "colorscale": {
           "diverging": [
            [
             0,
             "#8e0152"
            ],
            [
             0.1,
             "#c51b7d"
            ],
            [
             0.2,
             "#de77ae"
            ],
            [
             0.3,
             "#f1b6da"
            ],
            [
             0.4,
             "#fde0ef"
            ],
            [
             0.5,
             "#f7f7f7"
            ],
            [
             0.6,
             "#e6f5d0"
            ],
            [
             0.7,
             "#b8e186"
            ],
            [
             0.8,
             "#7fbc41"
            ],
            [
             0.9,
             "#4d9221"
            ],
            [
             1,
             "#276419"
            ]
           ],
           "sequential": [
            [
             0,
             "#0d0887"
            ],
            [
             0.1111111111111111,
             "#46039f"
            ],
            [
             0.2222222222222222,
             "#7201a8"
            ],
            [
             0.3333333333333333,
             "#9c179e"
            ],
            [
             0.4444444444444444,
             "#bd3786"
            ],
            [
             0.5555555555555556,
             "#d8576b"
            ],
            [
             0.6666666666666666,
             "#ed7953"
            ],
            [
             0.7777777777777778,
             "#fb9f3a"
            ],
            [
             0.8888888888888888,
             "#fdca26"
            ],
            [
             1,
             "#f0f921"
            ]
           ],
           "sequentialminus": [
            [
             0,
             "#0d0887"
            ],
            [
             0.1111111111111111,
             "#46039f"
            ],
            [
             0.2222222222222222,
             "#7201a8"
            ],
            [
             0.3333333333333333,
             "#9c179e"
            ],
            [
             0.4444444444444444,
             "#bd3786"
            ],
            [
             0.5555555555555556,
             "#d8576b"
            ],
            [
             0.6666666666666666,
             "#ed7953"
            ],
            [
             0.7777777777777778,
             "#fb9f3a"
            ],
            [
             0.8888888888888888,
             "#fdca26"
            ],
            [
             1,
             "#f0f921"
            ]
           ]
          },
          "colorway": [
           "#636efa",
           "#EF553B",
           "#00cc96",
           "#ab63fa",
           "#FFA15A",
           "#19d3f3",
           "#FF6692",
           "#B6E880",
           "#FF97FF",
           "#FECB52"
          ],
          "font": {
           "color": "#2a3f5f"
          },
          "geo": {
           "bgcolor": "white",
           "lakecolor": "white",
           "landcolor": "#E5ECF6",
           "showlakes": true,
           "showland": true,
           "subunitcolor": "white"
          },
          "hoverlabel": {
           "align": "left"
          },
          "hovermode": "closest",
          "mapbox": {
           "style": "light"
          },
          "paper_bgcolor": "white",
          "plot_bgcolor": "#E5ECF6",
          "polar": {
           "angularaxis": {
            "gridcolor": "white",
            "linecolor": "white",
            "ticks": ""
           },
           "bgcolor": "#E5ECF6",
           "radialaxis": {
            "gridcolor": "white",
            "linecolor": "white",
            "ticks": ""
           }
          },
          "scene": {
           "xaxis": {
            "backgroundcolor": "#E5ECF6",
            "gridcolor": "white",
            "gridwidth": 2,
            "linecolor": "white",
            "showbackground": true,
            "ticks": "",
            "zerolinecolor": "white"
           },
           "yaxis": {
            "backgroundcolor": "#E5ECF6",
            "gridcolor": "white",
            "gridwidth": 2,
            "linecolor": "white",
            "showbackground": true,
            "ticks": "",
            "zerolinecolor": "white"
           },
           "zaxis": {
            "backgroundcolor": "#E5ECF6",
            "gridcolor": "white",
            "gridwidth": 2,
            "linecolor": "white",
            "showbackground": true,
            "ticks": "",
            "zerolinecolor": "white"
           }
          },
          "shapedefaults": {
           "line": {
            "color": "#2a3f5f"
           }
          },
          "ternary": {
           "aaxis": {
            "gridcolor": "white",
            "linecolor": "white",
            "ticks": ""
           },
           "baxis": {
            "gridcolor": "white",
            "linecolor": "white",
            "ticks": ""
           },
           "bgcolor": "#E5ECF6",
           "caxis": {
            "gridcolor": "white",
            "linecolor": "white",
            "ticks": ""
           }
          },
          "title": {
           "x": 0.05
          },
          "xaxis": {
           "automargin": true,
           "gridcolor": "white",
           "linecolor": "white",
           "ticks": "",
           "title": {
            "standoff": 15
           },
           "zerolinecolor": "white",
           "zerolinewidth": 2
          },
          "yaxis": {
           "automargin": true,
           "gridcolor": "white",
           "linecolor": "white",
           "ticks": "",
           "title": {
            "standoff": 15
           },
           "zerolinecolor": "white",
           "zerolinewidth": 2
          }
         }
        },
        "title": {
         "font": {
          "family": "Gulliver",
          "size": 40
         },
         "text": "Lasso coefficients as a function of Log alpha",
         "x": 0.5
        },
        "width": 1200,
        "xaxis": {
         "title": {
          "font": {
           "family": "Gulliver",
           "size": 24
          },
          "text": "Log(alpha)"
         }
        },
        "yaxis": {
         "title": {
          "font": {
           "family": "Gulliver",
           "size": 24
          },
          "text": "Coefficient"
         }
        }
       }
      }
     },
     "metadata": {},
     "output_type": "display_data"
    }
   ],
   "source": [
    "best_lasso = gridlasso.best_estimator_\n",
    "\n",
    "alphas = np.array(gridlasso.cv_results_['param_alpha'].data, dtype = 'float')\n",
    "coefs = gridlasso.cv_results_['mean_test_score']\n",
    "\n",
    "fig = go.Figure()\n",
    "\n",
    "fig.add_trace(\n",
    "    go.Scatter(\n",
    "    x = np.log10(alphas), y = coefs, \n",
    "    mode = 'lines+markers'\n",
    "    )\n",
    ")\n",
    "\n",
    "fig.update_layout(\n",
    "    title = {\n",
    "        'text': 'Lasso coefficients as a function of Log alpha',\n",
    "        'font': {\n",
    "            'size': 40, 'family': 'Gulliver'\n",
    "        }, \n",
    "        'x': 0.5\n",
    "    }, \n",
    "    width = 1200, height = 800,\n",
    "    xaxis_title = {\n",
    "        'text': 'Log(alpha)',\n",
    "        'font': {\n",
    "            'size': 24, 'family': 'Gulliver'\n",
    "        }\n",
    "    }, \n",
    "    yaxis_title = {\n",
    "        'text': 'Coefficient',\n",
    "        'font': {'size': 24, 'family': 'Gulliver'}\n",
    "    }, \n",
    ")\n",
    "\n",
    "fig.show()"
   ]
  },
  {
   "cell_type": "markdown",
   "metadata": {},
   "source": [
    "## Feature Group"
   ]
  },
  {
   "cell_type": "code",
   "execution_count": 8,
   "metadata": {},
   "outputs": [
    {
     "name": "stdout",
     "output_type": "stream",
     "text": [
      "['fixed acidity', 'volatile acidity', 'chlorides', 'total sulfur dioxide', 'sulphates', 'pH', 'alcohol']\n"
     ]
    }
   ],
   "source": [
    "Stepwise = ['fixed acidity', 'volatile acidity', 'chlorides', 'total sulfur dioxide', 'sulphates']\n",
    "Lasso =  ['fixed acidity', 'volatile acidity', 'chlorides', 'pH', 'sulphates', 'alcohol']\n",
    "\n",
    "feature = []\n",
    "\n",
    "for i in df.drop('wine', axis = 1).columns:\n",
    "    for i in Stepwise:\n",
    "        if i not in feature:\n",
    "            feature.append(i)\n",
    "        else:\n",
    "            continue\n",
    "    for i in Lasso:\n",
    "        if i not in feature:\n",
    "            feature.append(i)\n",
    "        else:\n",
    "            continue\n",
    "print(feature)"
   ]
  },
  {
   "cell_type": "markdown",
   "metadata": {},
   "source": [
    "# Model"
   ]
  },
  {
   "cell_type": "code",
   "execution_count": 31,
   "metadata": {},
   "outputs": [],
   "source": [
    "X = df[feature]\n",
    "y = df.wine\n",
    "\n",
    "x_train, x_test, y_train, y_test = train_test_split(X, y, shuffle = True, random_state = 42)\n",
    "\n",
    "scl = StandardScaler()\n",
    "x_train = scl.fit_transform(x_train)\n",
    "x_test = scl.transform(x_test)\n",
    "\n",
    "rfc = RandomForestClassifier(criterion = 'entropy', max_depth = 8, max_features = 'sqrt', n_estimators = 200)\n",
    "model = rfc.fit(x_train, y_train)\n",
    "y_pred = model.predict(x_test)"
   ]
  },
  {
   "cell_type": "markdown",
   "metadata": {},
   "source": [
    "## Model Performance"
   ]
  },
  {
   "cell_type": "code",
   "execution_count": 10,
   "metadata": {},
   "outputs": [
    {
     "name": "stdout",
     "output_type": "stream",
     "text": [
      "[7/7] features ████████████████████ Time elapsed: 0 seconds"
     ]
    },
    {
     "data": {
      "text/plain": [
       "Text(0.5, 1.0, 'Feature Importance of Random Forest')"
      ]
     },
     "execution_count": 10,
     "metadata": {},
     "output_type": "execute_result"
    },
    {
     "data": {
      "image/png": "[encoded data removed]",
      "text/plain": [
       "<Figure size 640x480 with 1 Axes>"
      ]
     },
     "metadata": {},
     "output_type": "display_data"
    }
   ],
   "source": [
    "interpreter = Interpretation(\n",
    "    x_test, feature_names = X.columns\n",
    ")\n",
    "\n",
    "pyint_model = InMemoryModel(\n",
    "    rfc.predict_proba,\n",
    "    examples = x_train\n",
    ")\n",
    "\n",
    "plots= interpreter.feature_importance.plot_feature_importance(pyint_model, ascending = False, progressbar = True)\n",
    "plt.title('Feature Importance of Random Forest')"
   ]
  },
  {
   "attachments": {},
   "cell_type": "markdown",
   "metadata": {},
   "source": [
    "## Decision Tree"
   ]
  },
  {
   "cell_type": "code",
   "execution_count": 29,
   "metadata": {},
   "outputs": [
    {
     "data": {
      "text/plain": [
       "'Rfc decision tree.pdf'"
      ]
     },
     "execution_count": 29,
     "metadata": {},
     "output_type": "execute_result"
    }
   ],
   "source": [
    "rfc = RandomForestClassifier(criterion = 'entropy', max_depth = 4, max_features = 'sqrt', n_estimators = 250)\n",
    "rfc.fit(x_train, y_train)\n",
    "\n",
    "tree = rfc.estimators_[0]\n",
    "dot_data = export_graphviz(\n",
    "    tree, \n",
    "    out_file = None, \n",
    "    feature_names = df[feature].columns, \n",
    "    class_names = [\"White \", \"Red\"], \n",
    "    filled = True, \n",
    "    rounded = True, \n",
    "    special_characters = True, \n",
    "    node_ids = False,\n",
    "    impurity = False,\n",
    ")\n",
    "\n",
    "graph = graphviz.Source(dot_data)\n",
    "graph.render(\"Rfc decision tree\")"
   ]
  },
  {
   "cell_type": "markdown",
   "metadata": {},
   "source": [
    "## Decision Region"
   ]
  },
  {
   "cell_type": "code",
   "execution_count": 11,
   "metadata": {},
   "outputs": [
    {
     "name": "stdout",
     "output_type": "stream",
     "text": [
      "3\n",
      "2\n"
     ]
    }
   ],
   "source": [
    "feature_name = 'total sulfur dioxide'\n",
    "feature_num = X.columns.get_loc(feature_name)\n",
    "print(feature_num)\n",
    "feature_name = 'chlorides'\n",
    "feature_num = X.columns.get_loc(feature_name)\n",
    "print(feature_num)"
   ]
  },
  {
   "cell_type": "markdown",
   "metadata": {},
   "source": [
    "### With mlxtend.plotting plot_decision_regions()"
   ]
  },
  {
   "cell_type": "code",
   "execution_count": 12,
   "metadata": {},
   "outputs": [
    {
     "data": {
      "image/png": "[encoded data removed]",
      "text/plain": [
       "<Figure size 640x480 with 1 Axes>"
      ]
     },
     "metadata": {},
     "output_type": "display_data"
    }
   ],
   "source": [
    "plot_decision_regions(\n",
    "    x_test[:, [3, 2]], \n",
    "    y_test.values, \n",
    "    clf = rfc.fit(x_train[:, [3, 2]], y_train.values),\n",
    "    colors = '#fffacd,#a00028'\n",
    ")\n",
    "\n",
    "plt.title('Decision Region')\n",
    "plt.xlabel('total sulfur dioxide')\n",
    "plt.ylabel('chlorides')\n",
    "plt.show()"
   ]
  },
  {
   "cell_type": "markdown",
   "metadata": {},
   "source": [
    "### With Scatter plot of Plotly"
   ]
  },
  {
   "cell_type": "code",
   "execution_count": null,
   "metadata": {},
   "outputs": [],
   "source": [
    "trace = go.Scatter(\n",
    "    x = x_test[:, 1],\n",
    "    y = x_test[:, 6],\n",
    "    mode = 'markers',\n",
    "    marker = dict(\n",
    "        color = y_pred,\n",
    "        symbol = y_pred,\n",
    "        size = 8,\n",
    "        opacity = 0.9,\n",
    "        colorscale = [[0, '#fffacd'], [1, '#a00028']],\n",
    "        line = dict(color = '#444444', width = 0.5)\n",
    "    )\n",
    ")\n",
    "\n",
    "layout = go.Layout(\n",
    "    title = {\n",
    "        'text': 'Decision Region',\n",
    "        'font': {\n",
    "            'size': 40, 'family': 'Gulliver'\n",
    "        }, 'x': 0.5\n",
    "    },\n",
    "    xaxis = dict(\n",
    "        title = {\n",
    "            'text': 'volatile acidity', \n",
    "            'font': {\n",
    "                'size': 24, 'family': 'Gulliver'\n",
    "            }\n",
    "        }\n",
    "    ),\n",
    "    yaxis = dict(\n",
    "        title = {\n",
    "            'text': 'total sulfur dioxide', \n",
    "            'font': {\n",
    "                'size': 24, 'family': 'Gulliver'\n",
    "            }\n",
    "        }\n",
    "    ),\n",
    "    margin = dict(l = 50, r = 50, t = 80, b = 50),\n",
    "    hovermode = 'closest', \n",
    "    width = 800, height = 800,\n",
    "    showlegend = False,\n",
    "    template = 'ggplot2'\n",
    ")\n",
    "\n",
    "fig = go.Figure(\n",
    "    data = [trace], \n",
    "    layout = layout\n",
    ")\n",
    "\n",
    "pio.show(fig)"
   ]
  },
  {
   "cell_type": "markdown",
   "metadata": {},
   "source": [
    "## Confusion Matrix"
   ]
  },
  {
   "cell_type": "code",
   "execution_count": 14,
   "metadata": {},
   "outputs": [
    {
     "name": "stdout",
     "output_type": "stream",
     "text": [
      "Acurracy:  99.5077 %\n",
      "Precision: 99.509 %\n",
      "Recall: 99.5077 %\n",
      "f1: 99.5066 %\n"
     ]
    },
    {
     "data": {
      "text/html": [
       "<div>\n",
       "<style scoped>\n",
       "    .dataframe tbody tr th:only-of-type {\n",
       "        vertical-align: middle;\n",
       "    }\n",
       "\n",
       "    .dataframe tbody tr th {\n",
       "        vertical-align: top;\n",
       "    }\n",
       "\n",
       "    .dataframe thead th {\n",
       "        text-align: right;\n",
       "    }\n",
       "</style>\n",
       "<table border=\"1\" class=\"dataframe\">\n",
       "  <thead>\n",
       "    <tr style=\"text-align: right;\">\n",
       "      <th></th>\n",
       "      <th>0</th>\n",
       "      <th>1</th>\n",
       "    </tr>\n",
       "  </thead>\n",
       "  <tbody>\n",
       "    <tr>\n",
       "      <th>0</th>\n",
       "      <td>0.999160</td>\n",
       "      <td>0.000840</td>\n",
       "    </tr>\n",
       "    <tr>\n",
       "      <th>1</th>\n",
       "      <td>0.016129</td>\n",
       "      <td>0.983871</td>\n",
       "    </tr>\n",
       "  </tbody>\n",
       "</table>\n",
       "</div>"
      ],
      "text/plain": [
       "          0         1\n",
       "0  0.999160  0.000840\n",
       "1  0.016129  0.983871"
      ]
     },
     "execution_count": 14,
     "metadata": {},
     "output_type": "execute_result"
    }
   ],
   "source": [
    "acu = metrics.accuracy_score(y_test, y_pred)\n",
    "pre_class, r_class, f_class, sup = metrics.precision_recall_fscore_support(y_test, y_pred, average = 'weighted')\n",
    "\n",
    "print(\"Acurracy: \", round(acu * 100, 4), '%')\n",
    "print('Precision:', round(pre_class * 100, 4), '%')\n",
    "print('Recall:', round(r_class * 100, 4), '%')\n",
    "print('f1:', round(f_class * 100, 4), '%')\n",
    "\n",
    "cm = metrics.confusion_matrix(y_test, y_pred)\n",
    "cm_norm = cm.astype('float') / cm.sum(axis=1)[:, np.newaxis] \n",
    "cm_norm = pd.DataFrame(cm_norm)\n",
    "cm_norm"
   ]
  },
  {
   "cell_type": "markdown",
   "metadata": {},
   "source": [
    "## Receiver Operating Characteristic Curve"
   ]
  },
  {
   "cell_type": "code",
   "execution_count": 32,
   "metadata": {},
   "outputs": [
    {
     "data": {
      "application/vnd.plotly.v1+json": {
       "config": {
        "plotlyServerURL": "https://plotly.com"
       },
       "data": [
        {
         "line": {
          "width": 2
         },
         "mode": "lines",
         "type": "scatter",
         "x": [
          0,
          0,
          0,
          0,
          0,
          0,
          0,
          0,
          0,
          0,
          0,
          0,
          0,
          0,
          0,
          0,
          0,
          0,
          0,
          0,
          0,
          0,
          0,
          0,
          0,
          0,
          0,
          0,
          0,
          0,
          0,
          0,
          0,
          0,
          0,
          0,
          0,
          0,
          0,
          0,
          0,
          0,
          0,
          0,
          0,
          0,
          0,
          0,
          0,
          0,
          0.0008396305625524769,
          0.0008396305625524769,
          0.0008396305625524769,
          0.0008396305625524769,
          0.0016792611251049538,
          0.0016792611251049538,
          0.0025188916876574307,
          0.0025188916876574307,
          0.005037783375314861,
          0.005037783375314861,
          0.01595298068849706,
          0.017632241813602016,
          0.04534005037783375,
          0.04534005037783375,
          0.05793450881612091,
          0.05961376994122586,
          0.1015952980688497,
          0.10327455919395466,
          0.11335012594458438,
          0.11502938706968933,
          0.12594458438287154,
          0.12594458438287154,
          0.13602015113350127,
          0.1376994122586062,
          0.1452560873215785,
          0.1452560873215785,
          0.14609571788413098,
          0.14777497900923595,
          0.15365239294710328,
          0.15533165407220823,
          0.15785054575986565,
          0.15952980688497062,
          0.16540722082283796,
          0.1670864819479429,
          0.24181360201511334,
          0.2434928631402183,
          0.2502099076406381,
          0.25356842989084805,
          0.2619647355163728,
          0.26364399664147775,
          0.2863140218303946,
          0.28883291351805207,
          0.327455919395466,
          0.3308144416456759,
          0.33837111670864817,
          0.34005037783375314,
          0.3417296389588581,
          0.3434089000839631,
          0.34760705289672544,
          0.3492863140218304,
          0.37615449202350965,
          0.3778337531486146,
          0.3963056255247691,
          0.3979848866498741,
          0.3988245172124265,
          0.40134340890008396,
          0.47774979009235935,
          0.4794290512174643,
          0.4827875734676742,
          0.48446683459277917,
          0.48530646515533166,
          0.48866498740554154,
          0.49370277078085645,
          0.49538203190596136,
          0.5348446683459278,
          0.5365239294710328,
          0.5390428211586902,
          0.5407220822837951,
          0.6028547439126785,
          0.6045340050377834,
          0.6078925272879933,
          0.6095717884130982,
          0.6120906801007556,
          0.6137699412258606,
          0.6162888329135181,
          0.617968094038623,
          0.6414777497900923,
          0.6431570109151973,
          0.6565910999160369,
          0.6582703610411419,
          0.6633081444164568,
          0.6649874055415617,
          0.6842989084802686,
          0.6859781696053736,
          0.690176322418136,
          0.691855583543241,
          0.7027707808564232,
          0.7044500419815282,
          0.7052896725440806,
          0.7069689336691856,
          0.7086481947942905,
          0.7103274559193955,
          0.7246011754827876,
          0.7279596977329975,
          0.7523089840470193,
          0.7539882451721243,
          0.7732997481108312,
          0.7758186397984886,
          0.799328295549958,
          0.801007556675063,
          0.8043660789252729,
          0.8060453400503779,
          0.8094038623005877,
          0.8110831234256927,
          0.8144416456759026,
          0.8178001679261125,
          0.8303946263643996,
          0.8320738874895046,
          0.8471872376154492,
          0.8488664987405542,
          0.8589420654911839,
          0.8606213266162889,
          0.8631402183039463,
          0.8648194794290512,
          0.8673383711167086,
          0.8757346767422334,
          0.8774139378673383,
          0.8958858102434929,
          0.8975650713685979,
          0.9059613769941226,
          0.90848026868178,
          0.9093198992443325,
          0.9109991603694374,
          0.9118387909319899,
          0.9135180520570949,
          0.9202350965575147,
          0.9219143576826196,
          0.9252728799328296,
          0.9286314021830394,
          0.9303106633081444,
          0.9328295549958019,
          0.9420654911838791,
          0.943744752308984,
          0.9462636439966414,
          0.9479429051217464,
          0.9513014273719563,
          0.9538203190596137,
          0.9580184718723762,
          0.9596977329974811,
          0.9605373635600336,
          0.9622166246851386,
          0.966414777497901,
          0.9680940386230059,
          0.9689336691855583,
          0.9706129303106633,
          0.9781696053736356,
          0.9798488664987406,
          0.9857262804366079,
          0.9874055415617129,
          0.9890848026868178,
          0.9907640638119227,
          0.9916036943744753,
          0.9941225860621327,
          0.9949622166246851,
          0.9966414777497901,
          0.9974811083123426,
          0.9991603694374476,
          1
         ],
         "y": [
          0,
          0.052995391705069124,
          0.1336405529953917,
          0.14516129032258066,
          0.16359447004608296,
          0.16820276497695852,
          0.1889400921658986,
          0.1935483870967742,
          0.20276497695852536,
          0.20506912442396313,
          0.21428571428571427,
          0.21658986175115208,
          0.22350230414746544,
          0.22811059907834103,
          0.24193548387096775,
          0.2465437788018433,
          0.2511520737327189,
          0.2534562211981567,
          0.25806451612903225,
          0.26497695852534564,
          0.271889400921659,
          0.27880184331797236,
          0.2857142857142857,
          0.2903225806451613,
          0.3225806451612903,
          0.3271889400921659,
          0.3824884792626728,
          0.3870967741935484,
          0.3986175115207373,
          0.4032258064516129,
          0.41244239631336405,
          0.41705069124423966,
          0.43317972350230416,
          0.4423963133640553,
          0.4470046082949309,
          0.46774193548387094,
          0.47235023041474655,
          0.5,
          0.5046082949308756,
          0.5207373271889401,
          0.5253456221198156,
          0.5737327188940092,
          0.5783410138248848,
          0.7188940092165899,
          0.728110599078341,
          0.7534562211981567,
          0.7580645161290323,
          0.8986175115207373,
          0.9032258064516129,
          0.9078341013824884,
          0.9078341013824884,
          0.9539170506912442,
          0.9585253456221198,
          0.9815668202764977,
          0.9815668202764977,
          0.9861751152073732,
          0.9861751152073732,
          0.988479262672811,
          0.988479262672811,
          0.9930875576036866,
          0.9930875576036866,
          0.9930875576036866,
          0.9930875576036866,
          0.9953917050691244,
          0.9953917050691244,
          0.9953917050691244,
          0.9953917050691244,
          0.9953917050691244,
          0.9953917050691244,
          0.9953917050691244,
          0.9953917050691244,
          0.9976958525345622,
          0.9976958525345622,
          0.9976958525345622,
          0.9976958525345622,
          1,
          1,
          1,
          1,
          1,
          1,
          1,
          1,
          1,
          1,
          1,
          1,
          1,
          1,
          1,
          1,
          1,
          1,
          1,
          1,
          1,
          1,
          1,
          1,
          1,
          1,
          1,
          1,
          1,
          1,
          1,
          1,
          1,
          1,
          1,
          1,
          1,
          1,
          1,
          1,
          1,
          1,
          1,
          1,
          1,
          1,
          1,
          1,
          1,
          1,
          1,
          1,
          1,
          1,
          1,
          1,
          1,
          1,
          1,
          1,
          1,
          1,
          1,
          1,
          1,
          1,
          1,
          1,
          1,
          1,
          1,
          1,
          1,
          1,
          1,
          1,
          1,
          1,
          1,
          1,
          1,
          1,
          1,
          1,
          1,
          1,
          1,
          1,
          1,
          1,
          1,
          1,
          1,
          1,
          1,
          1,
          1,
          1,
          1,
          1,
          1,
          1,
          1,
          1,
          1,
          1,
          1,
          1,
          1,
          1,
          1,
          1,
          1,
          1,
          1,
          1,
          1,
          1,
          1,
          1,
          1,
          1,
          1,
          1,
          1,
          1,
          1,
          1,
          1,
          1,
          1,
          1,
          1
         ]
        },
        {
         "line": {
          "color": "navy",
          "dash": "dash",
          "width": 2
         },
         "mode": "lines",
         "showlegend": false,
         "type": "scatter",
         "x": [
          0,
          1
         ],
         "y": [
          0,
          1
         ]
        }
       ],
       "layout": {
        "height": 800,
        "showlegend": false,
        "template": {
         "data": {
          "bar": [
           {
            "error_x": {
             "color": "#2a3f5f"
            },
            "error_y": {
             "color": "#2a3f5f"
            },
            "marker": {
             "line": {
              "color": "#E5ECF6",
              "width": 0.5
             },
             "pattern": {
              "fillmode": "overlay",
              "size": 10,
              "solidity": 0.2
             }
            },
            "type": "bar"
           }
          ],
          "barpolar": [
           {
            "marker": {
             "line": {
              "color": "#E5ECF6",
              "width": 0.5
             },
             "pattern": {
              "fillmode": "overlay",
              "size": 10,
              "solidity": 0.2
             }
            },
            "type": "barpolar"
           }
          ],
          "carpet": [
           {
            "aaxis": {
             "endlinecolor": "#2a3f5f",
             "gridcolor": "white",
             "linecolor": "white",
             "minorgridcolor": "white",
             "startlinecolor": "#2a3f5f"
            },
            "baxis": {
             "endlinecolor": "#2a3f5f",
             "gridcolor": "white",
             "linecolor": "white",
             "minorgridcolor": "white",
             "startlinecolor": "#2a3f5f"
            },
            "type": "carpet"
           }
          ],
          "choropleth": [
           {
            "colorbar": {
             "outlinewidth": 0,
             "ticks": ""
            },
            "type": "choropleth"
           }
          ],
          "contour": [
           {
            "colorbar": {
             "outlinewidth": 0,
             "ticks": ""
            },
            "colorscale": [
             [
              0,
              "#0d0887"
             ],
             [
              0.1111111111111111,
              "#46039f"
             ],
             [
              0.2222222222222222,
              "#7201a8"
             ],
             [
              0.3333333333333333,
              "#9c179e"
             ],
             [
              0.4444444444444444,
              "#bd3786"
             ],
             [
              0.5555555555555556,
              "#d8576b"
             ],
             [
              0.6666666666666666,
              "#ed7953"
             ],
             [
              0.7777777777777778,
              "#fb9f3a"
             ],
             [
              0.8888888888888888,
              "#fdca26"
             ],
             [
              1,
              "#f0f921"
             ]
            ],
            "type": "contour"
           }
          ],
          "contourcarpet": [
           {
            "colorbar": {
             "outlinewidth": 0,
             "ticks": ""
            },
            "type": "contourcarpet"
           }
          ],
          "heatmap": [
           {
            "colorbar": {
             "outlinewidth": 0,
             "ticks": ""
            },
            "colorscale": [
             [
              0,
              "#0d0887"
             ],
             [
              0.1111111111111111,
              "#46039f"
             ],
             [
              0.2222222222222222,
              "#7201a8"
             ],
             [
              0.3333333333333333,
              "#9c179e"
             ],
             [
              0.4444444444444444,
              "#bd3786"
             ],
             [
              0.5555555555555556,
              "#d8576b"
             ],
             [
              0.6666666666666666,
              "#ed7953"
             ],
             [
              0.7777777777777778,
              "#fb9f3a"
             ],
             [
              0.8888888888888888,
              "#fdca26"
             ],
             [
              1,
              "#f0f921"
             ]
            ],
            "type": "heatmap"
           }
          ],
          "heatmapgl": [
           {
            "colorbar": {
             "outlinewidth": 0,
             "ticks": ""
            },
            "colorscale": [
             [
              0,
              "#0d0887"
             ],
             [
              0.1111111111111111,
              "#46039f"
             ],
             [
              0.2222222222222222,
              "#7201a8"
             ],
             [
              0.3333333333333333,
              "#9c179e"
             ],
             [
              0.4444444444444444,
              "#bd3786"
             ],
             [
              0.5555555555555556,
              "#d8576b"
             ],
             [
              0.6666666666666666,
              "#ed7953"
             ],
             [
              0.7777777777777778,
              "#fb9f3a"
             ],
             [
              0.8888888888888888,
              "#fdca26"
             ],
             [
              1,
              "#f0f921"
             ]
            ],
            "type": "heatmapgl"
           }
          ],
          "histogram": [
           {
            "marker": {
             "pattern": {
              "fillmode": "overlay",
              "size": 10,
              "solidity": 0.2
             }
            },
            "type": "histogram"
           }
          ],
          "histogram2d": [
           {
            "colorbar": {
             "outlinewidth": 0,
             "ticks": ""
            },
            "colorscale": [
             [
              0,
              "#0d0887"
             ],
             [
              0.1111111111111111,
              "#46039f"
             ],
             [
              0.2222222222222222,
              "#7201a8"
             ],
             [
              0.3333333333333333,
              "#9c179e"
             ],
             [
              0.4444444444444444,
              "#bd3786"
             ],
             [
              0.5555555555555556,
              "#d8576b"
             ],
             [
              0.6666666666666666,
              "#ed7953"
             ],
             [
              0.7777777777777778,
              "#fb9f3a"
             ],
             [
              0.8888888888888888,
              "#fdca26"
             ],
             [
              1,
              "#f0f921"
             ]
            ],
            "type": "histogram2d"
           }
          ],
          "histogram2dcontour": [
           {
            "colorbar": {
             "outlinewidth": 0,
             "ticks": ""
            },
            "colorscale": [
             [
              0,
              "#0d0887"
             ],
             [
              0.1111111111111111,
              "#46039f"
             ],
             [
              0.2222222222222222,
              "#7201a8"
             ],
             [
              0.3333333333333333,
              "#9c179e"
             ],
             [
              0.4444444444444444,
              "#bd3786"
             ],
             [
              0.5555555555555556,
              "#d8576b"
             ],
             [
              0.6666666666666666,
              "#ed7953"
             ],
             [
              0.7777777777777778,
              "#fb9f3a"
             ],
             [
              0.8888888888888888,
              "#fdca26"
             ],
             [
              1,
              "#f0f921"
             ]
            ],
            "type": "histogram2dcontour"
           }
          ],
          "mesh3d": [
           {
            "colorbar": {
             "outlinewidth": 0,
             "ticks": ""
            },
            "type": "mesh3d"
           }
          ],
          "parcoords": [
           {
            "line": {
             "colorbar": {
              "outlinewidth": 0,
              "ticks": ""
             }
            },
            "type": "parcoords"
           }
          ],
          "pie": [
           {
            "automargin": true,
            "type": "pie"
           }
          ],
          "scatter": [
           {
            "fillpattern": {
             "fillmode": "overlay",
             "size": 10,
             "solidity": 0.2
            },
            "type": "scatter"
           }
          ],
          "scatter3d": [
           {
            "line": {
             "colorbar": {
              "outlinewidth": 0,
              "ticks": ""
             }
            },
            "marker": {
             "colorbar": {
              "outlinewidth": 0,
              "ticks": ""
             }
            },
            "type": "scatter3d"
           }
          ],
          "scattercarpet": [
           {
            "marker": {
             "colorbar": {
              "outlinewidth": 0,
              "ticks": ""
             }
            },
            "type": "scattercarpet"
           }
          ],
          "scattergeo": [
           {
            "marker": {
             "colorbar": {
              "outlinewidth": 0,
              "ticks": ""
             }
            },
            "type": "scattergeo"
           }
          ],
          "scattergl": [
           {
            "marker": {
             "colorbar": {
              "outlinewidth": 0,
              "ticks": ""
             }
            },
            "type": "scattergl"
           }
          ],
          "scattermapbox": [
           {
            "marker": {
             "colorbar": {
              "outlinewidth": 0,
              "ticks": ""
             }
            },
            "type": "scattermapbox"
           }
          ],
          "scatterpolar": [
           {
            "marker": {
             "colorbar": {
              "outlinewidth": 0,
              "ticks": ""
             }
            },
            "type": "scatterpolar"
           }
          ],
          "scatterpolargl": [
           {
            "marker": {
             "colorbar": {
              "outlinewidth": 0,
              "ticks": ""
             }
            },
            "type": "scatterpolargl"
           }
          ],
          "scatterternary": [
           {
            "marker": {
             "colorbar": {
              "outlinewidth": 0,
              "ticks": ""
             }
            },
            "type": "scatterternary"
           }
          ],
          "surface": [
           {
            "colorbar": {
             "outlinewidth": 0,
             "ticks": ""
            },
            "colorscale": [
             [
              0,
              "#0d0887"
             ],
             [
              0.1111111111111111,
              "#46039f"
             ],
             [
              0.2222222222222222,
              "#7201a8"
             ],
             [
              0.3333333333333333,
              "#9c179e"
             ],
             [
              0.4444444444444444,
              "#bd3786"
             ],
             [
              0.5555555555555556,
              "#d8576b"
             ],
             [
              0.6666666666666666,
              "#ed7953"
             ],
             [
              0.7777777777777778,
              "#fb9f3a"
             ],
             [
              0.8888888888888888,
              "#fdca26"
             ],
             [
              1,
              "#f0f921"
             ]
            ],
            "type": "surface"
           }
          ],
          "table": [
           {
            "cells": {
             "fill": {
              "color": "#EBF0F8"
             },
             "line": {
              "color": "white"
             }
            },
            "header": {
             "fill": {
              "color": "#C8D4E3"
             },
             "line": {
              "color": "white"
             }
            },
            "type": "table"
           }
          ]
         },
         "layout": {
          "annotationdefaults": {
           "arrowcolor": "#2a3f5f",
           "arrowhead": 0,
           "arrowwidth": 1
          },
          "autotypenumbers": "strict",
          "coloraxis": {
           "colorbar": {
            "outlinewidth": 0,
            "ticks": ""
           }
          },
          "colorscale": {
           "diverging": [
            [
             0,
             "#8e0152"
            ],
            [
             0.1,
             "#c51b7d"
            ],
            [
             0.2,
             "#de77ae"
            ],
            [
             0.3,
             "#f1b6da"
            ],
            [
             0.4,
             "#fde0ef"
            ],
            [
             0.5,
             "#f7f7f7"
            ],
            [
             0.6,
             "#e6f5d0"
            ],
            [
             0.7,
             "#b8e186"
            ],
            [
             0.8,
             "#7fbc41"
            ],
            [
             0.9,
             "#4d9221"
            ],
            [
             1,
             "#276419"
            ]
           ],
           "sequential": [
            [
             0,
             "#0d0887"
            ],
            [
             0.1111111111111111,
             "#46039f"
            ],
            [
             0.2222222222222222,
             "#7201a8"
            ],
            [
             0.3333333333333333,
             "#9c179e"
            ],
            [
             0.4444444444444444,
             "#bd3786"
            ],
            [
             0.5555555555555556,
             "#d8576b"
            ],
            [
             0.6666666666666666,
             "#ed7953"
            ],
            [
             0.7777777777777778,
             "#fb9f3a"
            ],
            [
             0.8888888888888888,
             "#fdca26"
            ],
            [
             1,
             "#f0f921"
            ]
           ],
           "sequentialminus": [
            [
             0,
             "#0d0887"
            ],
            [
             0.1111111111111111,
             "#46039f"
            ],
            [
             0.2222222222222222,
             "#7201a8"
            ],
            [
             0.3333333333333333,
             "#9c179e"
            ],
            [
             0.4444444444444444,
             "#bd3786"
            ],
            [
             0.5555555555555556,
             "#d8576b"
            ],
            [
             0.6666666666666666,
             "#ed7953"
            ],
            [
             0.7777777777777778,
             "#fb9f3a"
            ],
            [
             0.8888888888888888,
             "#fdca26"
            ],
            [
             1,
             "#f0f921"
            ]
           ]
          },
          "colorway": [
           "#636efa",
           "#EF553B",
           "#00cc96",
           "#ab63fa",
           "#FFA15A",
           "#19d3f3",
           "#FF6692",
           "#B6E880",
           "#FF97FF",
           "#FECB52"
          ],
          "font": {
           "color": "#2a3f5f"
          },
          "geo": {
           "bgcolor": "white",
           "lakecolor": "white",
           "landcolor": "#E5ECF6",
           "showlakes": true,
           "showland": true,
           "subunitcolor": "white"
          },
          "hoverlabel": {
           "align": "left"
          },
          "hovermode": "closest",
          "mapbox": {
           "style": "light"
          },
          "paper_bgcolor": "white",
          "plot_bgcolor": "#E5ECF6",
          "polar": {
           "angularaxis": {
            "gridcolor": "white",
            "linecolor": "white",
            "ticks": ""
           },
           "bgcolor": "#E5ECF6",
           "radialaxis": {
            "gridcolor": "white",
            "linecolor": "white",
            "ticks": ""
           }
          },
          "scene": {
           "xaxis": {
            "backgroundcolor": "#E5ECF6",
            "gridcolor": "white",
            "gridwidth": 2,
            "linecolor": "white",
            "showbackground": true,
            "ticks": "",
            "zerolinecolor": "white"
           },
           "yaxis": {
            "backgroundcolor": "#E5ECF6",
            "gridcolor": "white",
            "gridwidth": 2,
            "linecolor": "white",
            "showbackground": true,
            "ticks": "",
            "zerolinecolor": "white"
           },
           "zaxis": {
            "backgroundcolor": "#E5ECF6",
            "gridcolor": "white",
            "gridwidth": 2,
            "linecolor": "white",
            "showbackground": true,
            "ticks": "",
            "zerolinecolor": "white"
           }
          },
          "shapedefaults": {
           "line": {
            "color": "#2a3f5f"
           }
          },
          "ternary": {
           "aaxis": {
            "gridcolor": "white",
            "linecolor": "white",
            "ticks": ""
           },
           "baxis": {
            "gridcolor": "white",
            "linecolor": "white",
            "ticks": ""
           },
           "bgcolor": "#E5ECF6",
           "caxis": {
            "gridcolor": "white",
            "linecolor": "white",
            "ticks": ""
           }
          },
          "title": {
           "x": 0.05
          },
          "xaxis": {
           "automargin": true,
           "gridcolor": "white",
           "linecolor": "white",
           "ticks": "",
           "title": {
            "standoff": 15
           },
           "zerolinecolor": "white",
           "zerolinewidth": 2
          },
          "yaxis": {
           "automargin": true,
           "gridcolor": "white",
           "linecolor": "white",
           "ticks": "",
           "title": {
            "standoff": 15
           },
           "zerolinecolor": "white",
           "zerolinewidth": 2
          }
         }
        },
        "title": {
         "font": {
          "family": "Gulliver",
          "size": 40
         },
         "text": "ROC Curves (AUC = 1.00)",
         "x": 0.5,
         "y": 0.95
        },
        "width": 1200,
        "xaxis": {
         "title": {
          "font": {
           "family": "Gulliver",
           "size": 24
          },
          "text": "False Positive Rate"
         }
        },
        "yaxis": {
         "title": {
          "font": {
           "family": "Gulliver",
           "size": 24
          },
          "text": "True Positive Rate"
         }
        }
       }
      }
     },
     "metadata": {},
     "output_type": "display_data"
    }
   ],
   "source": [
    "fpr, tpr, _ = roc_curve(\n",
    "    y_test, \n",
    "    model.predict_proba(x_test)[:, 1]\n",
    ")\n",
    "\n",
    "roc_auc = auc(fpr, tpr)\n",
    "\n",
    "trace1 = go.Scatter(\n",
    "    x = fpr, y = tpr, \n",
    "    mode = 'lines', \n",
    "    line = dict(width = 2),\n",
    ")\n",
    "\n",
    "trace2 = go.Scatter(\n",
    "        x = [0, 1], y = [0, 1],\n",
    "        mode = 'lines',\n",
    "        line = dict(color = 'navy', width = 2, dash = 'dash'),\n",
    "        showlegend = False\n",
    ")\n",
    "\n",
    "layout = go.Layout(\n",
    "        title = {\n",
    "            'text': 'ROC Curves (AUC = {:0.2f})'.format(roc_auc),\n",
    "            'font': {\n",
    "                'size': 40, 'family': 'Gulliver'\n",
    "            }, \n",
    "            'x': 0.5, 'y': 0.95\n",
    "        },\n",
    "        xaxis = dict(\n",
    "            title = {\n",
    "                'text': 'False Positive Rate',\n",
    "                'font': {\n",
    "                    'size': 24, 'family': 'Gulliver'\n",
    "                }\n",
    "            }\n",
    "        ),\n",
    "        yaxis = dict(\n",
    "            title = {\n",
    "                'text': 'True Positive Rate',\n",
    "                'font': {\n",
    "                    'size': 24, 'family': 'Gulliver'\n",
    "                }\n",
    "            }\n",
    "        ),\n",
    "        width = 1200, height = 800,\n",
    "        showlegend = False\n",
    ")\n",
    "\n",
    "fig = go.Figure(\n",
    "    data = [trace1, trace2], \n",
    "    layout = layout\n",
    ")\n",
    "\n",
    "fig.show()"
   ]
  },
  {
   "cell_type": "markdown",
   "metadata": {},
   "source": [
    "# Model Compexity"
   ]
  },
  {
   "cell_type": "code",
   "execution_count": 27,
   "metadata": {},
   "outputs": [
    {
     "data": {
      "application/vnd.plotly.v1+json": {
       "config": {
        "plotlyServerURL": "https://plotly.com"
       },
       "data": [
        {
         "mode": "lines",
         "name": "Train Error",
         "type": "scatter",
         "x": [
          1,
          2,
          3,
          4,
          5,
          6,
          7,
          8,
          9,
          10,
          11,
          12,
          13,
          14,
          15,
          16,
          17,
          18,
          19,
          20,
          21,
          22,
          23,
          24,
          25,
          26,
          27,
          28,
          29,
          30,
          31,
          32,
          33,
          34,
          35,
          36,
          37,
          38,
          39,
          40,
          41,
          42,
          43,
          44,
          45,
          46,
          47,
          48,
          49,
          50,
          51,
          52,
          53,
          54,
          55,
          56,
          57,
          58,
          59,
          60,
          61,
          62,
          63,
          64,
          65,
          66,
          67,
          68,
          69,
          70,
          71,
          72,
          73,
          74,
          75,
          76,
          77,
          78,
          79,
          80,
          81,
          82,
          83,
          84,
          85,
          86,
          87,
          88,
          89,
          90,
          91,
          92,
          93,
          94,
          95,
          96,
          97,
          98,
          99,
          100,
          101,
          102,
          103,
          104,
          105,
          106,
          107,
          108,
          109,
          110,
          111,
          112,
          113,
          114,
          115,
          116,
          117,
          118,
          119,
          120,
          121,
          122,
          123,
          124,
          125,
          126,
          127,
          128,
          129,
          130,
          131,
          132,
          133,
          134,
          135,
          136,
          137,
          138,
          139,
          140,
          141,
          142,
          143,
          144,
          145,
          146,
          147,
          148,
          149,
          150,
          151,
          152,
          153,
          154,
          155,
          156,
          157,
          158,
          159,
          160,
          161,
          162,
          163,
          164,
          165,
          166,
          167,
          168,
          169,
          170,
          171,
          172,
          173,
          174,
          175,
          176,
          177,
          178,
          179,
          180,
          181,
          182,
          183,
          184,
          185,
          186,
          187,
          188,
          189,
          190,
          191,
          192,
          193,
          194,
          195,
          196,
          197,
          198,
          199,
          200,
          201,
          202,
          203,
          204,
          205,
          206,
          207,
          208,
          209,
          210,
          211,
          212,
          213,
          214,
          215,
          216,
          217,
          218,
          219,
          220,
          221,
          222,
          223,
          224,
          225,
          226,
          227,
          228,
          229,
          230,
          231,
          232,
          233,
          234,
          235,
          236,
          237,
          238,
          239,
          240,
          241,
          242,
          243,
          244,
          245,
          246,
          247,
          248,
          249,
          250,
          251,
          252,
          253,
          254,
          255,
          256,
          257,
          258,
          259,
          260,
          261,
          262,
          263,
          264,
          265,
          266,
          267,
          268,
          269,
          270,
          271,
          272,
          273,
          274,
          275,
          276,
          277,
          278,
          279,
          280,
          281,
          282,
          283,
          284,
          285,
          286,
          287,
          288,
          289,
          290,
          291,
          292,
          293,
          294,
          295,
          296,
          297,
          298,
          299,
          300,
          301,
          302,
          303,
          304,
          305,
          306,
          307,
          308,
          309,
          310,
          311,
          312,
          313,
          314,
          315,
          316,
          317,
          318,
          319,
          320,
          321,
          322,
          323,
          324,
          325,
          326,
          327,
          328,
          329,
          330,
          331,
          332,
          333,
          334,
          335,
          336,
          337,
          338,
          339,
          340,
          341,
          342,
          343,
          344,
          345,
          346,
          347,
          348,
          349,
          350,
          351,
          352,
          353,
          354,
          355,
          356,
          357,
          358,
          359,
          360,
          361,
          362,
          363,
          364,
          365,
          366,
          367,
          368,
          369,
          370,
          371,
          372,
          373,
          374,
          375,
          376,
          377,
          378,
          379,
          380,
          381,
          382,
          383,
          384,
          385,
          386,
          387,
          388,
          389,
          390,
          391,
          392,
          393,
          394,
          395,
          396,
          397,
          398,
          399,
          400,
          401,
          402,
          403,
          404,
          405,
          406,
          407,
          408,
          409,
          410,
          411,
          412,
          413,
          414,
          415,
          416,
          417,
          418,
          419,
          420,
          421,
          422,
          423,
          424,
          425,
          426,
          427,
          428,
          429,
          430,
          431,
          432,
          433,
          434,
          435,
          436,
          437,
          438,
          439,
          440,
          441,
          442,
          443,
          444,
          445,
          446,
          447,
          448,
          449,
          450,
          451,
          452,
          453,
          454,
          455,
          456,
          457,
          458,
          459,
          460,
          461,
          462,
          463,
          464,
          465,
          466,
          467,
          468,
          469,
          470,
          471,
          472,
          473,
          474,
          475,
          476,
          477,
          478,
          479,
          480,
          481,
          482,
          483,
          484,
          485,
          486,
          487,
          488,
          489,
          490,
          491,
          492,
          493,
          494,
          495,
          496,
          497,
          498,
          499,
          500
         ],
         "y": [
          0.03325123152709364,
          0.013957307060755375,
          0.017446633825944136,
          0.02545155993431858,
          0.012110016420361247,
          0.013957307060755375,
          0.013546798029556606,
          0.010673234811165888,
          0.010878489326765162,
          0.010467980295566504,
          0.01375205254515599,
          0.010673234811165888,
          0.01375205254515599,
          0.013136288998357948,
          0.00882594417077176,
          0.00882594417077176,
          0.010673234811165888,
          0.011699507389162589,
          0.010673234811165888,
          0.013546798029556606,
          0.010262725779967119,
          0.010467980295566504,
          0.010673234811165888,
          0.009646962233169076,
          0.010057471264367845,
          0.010262725779967119,
          0.010262725779967119,
          0.009236453201970418,
          0.010878489326765162,
          0.009852216748768461,
          0.010673234811165888,
          0.010057471264367845,
          0.010262725779967119,
          0.009441707717569803,
          0.009646962233169076,
          0.009852216748768461,
          0.010262725779967119,
          0.008620689655172376,
          0.010262725779967119,
          0.009236453201970418,
          0.010057471264367845,
          0.010467980295566504,
          0.010057471264367845,
          0.009236453201970418,
          0.010057471264367845,
          0.009441707717569803,
          0.008620689655172376,
          0.009646962233169076,
          0.009441707717569803,
          0.010878489326765162,
          0.011494252873563204,
          0.009441707717569803,
          0.008415435139573102,
          0.007799671592775059,
          0.008415435139573102,
          0.009441707717569803,
          0.009852216748768461,
          0.010878489326765162,
          0.008620689655172376,
          0.009236453201970418,
          0.009236453201970418,
          0.009646962233169076,
          0.009852216748768461,
          0.010467980295566504,
          0.009031198686371145,
          0.00882594417077176,
          0.008620689655172376,
          0.00882594417077176,
          0.010262725779967119,
          0.009441707717569803,
          0.010878489326765162,
          0.00882594417077176,
          0.010262725779967119,
          0.010057471264367845,
          0.009646962233169076,
          0.010262725779967119,
          0.00882594417077176,
          0.009031198686371145,
          0.009441707717569803,
          0.010673234811165888,
          0.009441707717569803,
          0.009646962233169076,
          0.009646962233169076,
          0.009646962233169076,
          0.009441707717569803,
          0.009646962233169076,
          0.00882594417077176,
          0.01272577996715929,
          0.00882594417077176,
          0.01128899835796382,
          0.009031198686371145,
          0.010262725779967119,
          0.009031198686371145,
          0.009236453201970418,
          0.009852216748768461,
          0.010057471264367845,
          0.008415435139573102,
          0.009852216748768461,
          0.00882594417077176,
          0.009441707717569803,
          0.00882594417077176,
          0.008415435139573102,
          0.011494252873563204,
          0.00882594417077176,
          0.009031198686371145,
          0.00882594417077176,
          0.009236453201970418,
          0.009646962233169076,
          0.009441707717569803,
          0.009852216748768461,
          0.009646962233169076,
          0.00882594417077176,
          0.00882594417077176,
          0.009236453201970418,
          0.009441707717569803,
          0.009441707717569803,
          0.012315270935960632,
          0.010467980295566504,
          0.010057471264367845,
          0.009236453201970418,
          0.009646962233169076,
          0.010057471264367845,
          0.009236453201970418,
          0.010673234811165888,
          0.009646962233169076,
          0.009852216748768461,
          0.009646962233169076,
          0.009646962233169076,
          0.009646962233169076,
          0.010057471264367845,
          0.009646962233169076,
          0.009236453201970418,
          0.009031198686371145,
          0.009236453201970418,
          0.009031198686371145,
          0.008620689655172376,
          0.009236453201970418,
          0.009646962233169076,
          0.009441707717569803,
          0.008210180623973717,
          0.009441707717569803,
          0.009441707717569803,
          0.009852216748768461,
          0.009031198686371145,
          0.009646962233169076,
          0.009441707717569803,
          0.009852216748768461,
          0.010057471264367845,
          0.010467980295566504,
          0.009031198686371145,
          0.009441707717569803,
          0.009646962233169076,
          0.011083743842364546,
          0.009031198686371145,
          0.010673234811165888,
          0.009852216748768461,
          0.009852216748768461,
          0.009852216748768461,
          0.009236453201970418,
          0.009646962233169076,
          0.009236453201970418,
          0.009852216748768461,
          0.00882594417077176,
          0.008620689655172376,
          0.009852216748768461,
          0.008620689655172376,
          0.009031198686371145,
          0.009646962233169076,
          0.009236453201970418,
          0.009236453201970418,
          0.009646962233169076,
          0.008620689655172376,
          0.009441707717569803,
          0.00882594417077176,
          0.009646962233169076,
          0.009031198686371145,
          0.009031198686371145,
          0.009441707717569803,
          0.009031198686371145,
          0.009236453201970418,
          0.009852216748768461,
          0.009031198686371145,
          0.009852216748768461,
          0.008415435139573102,
          0.009852216748768461,
          0.009031198686371145,
          0.009236453201970418,
          0.010467980295566504,
          0.009441707717569803,
          0.009852216748768461,
          0.010057471264367845,
          0.009031198686371145,
          0.009646962233169076,
          0.009441707717569803,
          0.009441707717569803,
          0.009441707717569803,
          0.009852216748768461,
          0.009236453201970418,
          0.009852216748768461,
          0.009236453201970418,
          0.009852216748768461,
          0.009236453201970418,
          0.009646962233169076,
          0.008415435139573102,
          0.009441707717569803,
          0.009441707717569803,
          0.009852216748768461,
          0.009646962233169076,
          0.009441707717569803,
          0.009852216748768461,
          0.010467980295566504,
          0.009852216748768461,
          0.009236453201970418,
          0.010057471264367845,
          0.010057471264367845,
          0.009031198686371145,
          0.009031198686371145,
          0.009236453201970418,
          0.009441707717569803,
          0.009236453201970418,
          0.009441707717569803,
          0.008620689655172376,
          0.009441707717569803,
          0.009031198686371145,
          0.009441707717569803,
          0.00882594417077176,
          0.010057471264367845,
          0.009031198686371145,
          0.009031198686371145,
          0.008415435139573102,
          0.010262725779967119,
          0.010467980295566504,
          0.009852216748768461,
          0.009646962233169076,
          0.00882594417077176,
          0.00882594417077176,
          0.009852216748768461,
          0.008620689655172376,
          0.009646962233169076,
          0.009852216748768461,
          0.009852216748768461,
          0.010057471264367845,
          0.009852216748768461,
          0.00882594417077176,
          0.010262725779967119,
          0.009441707717569803,
          0.009236453201970418,
          0.009852216748768461,
          0.009852216748768461,
          0.009646962233169076,
          0.009852216748768461,
          0.009236453201970418,
          0.009236453201970418,
          0.009236453201970418,
          0.00882594417077176,
          0.008210180623973717,
          0.009646962233169076,
          0.009031198686371145,
          0.009031198686371145,
          0.009031198686371145,
          0.009031198686371145,
          0.009031198686371145,
          0.009646962233169076,
          0.009441707717569803,
          0.009646962233169076,
          0.008620689655172376,
          0.009031198686371145,
          0.009236453201970418,
          0.009646962233169076,
          0.009441707717569803,
          0.009646962233169076,
          0.009441707717569803,
          0.009236453201970418,
          0.009236453201970418,
          0.009646962233169076,
          0.009646962233169076,
          0.009852216748768461,
          0.008620689655172376,
          0.010057471264367845,
          0.009236453201970418,
          0.008620689655172376,
          0.00882594417077176,
          0.00882594417077176,
          0.009236453201970418,
          0.008415435139573102,
          0.00882594417077176,
          0.008415435139573102,
          0.00882594417077176,
          0.009441707717569803,
          0.008620689655172376,
          0.009236453201970418,
          0.008620689655172376,
          0.008620689655172376,
          0.009236453201970418,
          0.009646962233169076,
          0.009031198686371145,
          0.009441707717569803,
          0.009441707717569803,
          0.009441707717569803,
          0.009236453201970418,
          0.009031198686371145,
          0.009031198686371145,
          0.009031198686371145,
          0.009236453201970418,
          0.009646962233169076,
          0.009852216748768461,
          0.00882594417077176,
          0.008620689655172376,
          0.010057471264367845,
          0.009646962233169076,
          0.009031198686371145,
          0.009031198686371145,
          0.009646962233169076,
          0.009852216748768461,
          0.008620689655172376,
          0.009236453201970418,
          0.009852216748768461,
          0.009236453201970418,
          0.00882594417077176,
          0.009441707717569803,
          0.009441707717569803,
          0.00882594417077176,
          0.008415435139573102,
          0.00882594417077176,
          0.009031198686371145,
          0.009441707717569803,
          0.008415435139573102,
          0.009646962233169076,
          0.009646962233169076,
          0.009236453201970418,
          0.008620689655172376,
          0.009236453201970418,
          0.008620689655172376,
          0.009441707717569803,
          0.00882594417077176,
          0.009852216748768461,
          0.009852216748768461,
          0.009031198686371145,
          0.008620689655172376,
          0.009031198686371145,
          0.00882594417077176,
          0.009236453201970418,
          0.009646962233169076,
          0.009646962233169076,
          0.009031198686371145,
          0.008620689655172376,
          0.009646962233169076,
          0.009236453201970418,
          0.009031198686371145,
          0.009441707717569803,
          0.008415435139573102,
          0.009031198686371145,
          0.00882594417077176,
          0.008620689655172376,
          0.00882594417077176,
          0.009646962233169076,
          0.00882594417077176,
          0.009441707717569803,
          0.009236453201970418,
          0.009441707717569803,
          0.009646962233169076,
          0.009852216748768461,
          0.00882594417077176,
          0.009031198686371145,
          0.00882594417077176,
          0.009236453201970418,
          0.008620689655172376,
          0.009441707717569803,
          0.008620689655172376,
          0.009441707717569803,
          0.009646962233169076,
          0.00882594417077176,
          0.00882594417077176,
          0.009441707717569803,
          0.00882594417077176,
          0.009031198686371145,
          0.009031198686371145,
          0.009031198686371145,
          0.008415435139573102,
          0.009236453201970418,
          0.009031198686371145,
          0.008620689655172376,
          0.009236453201970418,
          0.00882594417077176,
          0.009441707717569803,
          0.009441707717569803,
          0.009031198686371145,
          0.009852216748768461,
          0.009441707717569803,
          0.009646962233169076,
          0.009031198686371145,
          0.009646962233169076,
          0.009236453201970418,
          0.009236453201970418,
          0.009236453201970418,
          0.009852216748768461,
          0.009646962233169076,
          0.009236453201970418,
          0.00882594417077176,
          0.009646962233169076,
          0.008620689655172376,
          0.009236453201970418,
          0.008620689655172376,
          0.00882594417077176,
          0.010057471264367845,
          0.008415435139573102,
          0.009441707717569803,
          0.008620689655172376,
          0.009031198686371145,
          0.008620689655172376,
          0.008620689655172376,
          0.009031198686371145,
          0.009236453201970418,
          0.00882594417077176,
          0.009441707717569803,
          0.008620689655172376,
          0.009441707717569803,
          0.008620689655172376,
          0.009031198686371145,
          0.008415435139573102,
          0.009646962233169076,
          0.009236453201970418,
          0.009236453201970418,
          0.009852216748768461,
          0.00882594417077176,
          0.00882594417077176,
          0.009441707717569803,
          0.009031198686371145,
          0.008620689655172376,
          0.00882594417077176,
          0.009031198686371145,
          0.009031198686371145,
          0.009236453201970418,
          0.009236453201970418,
          0.00882594417077176,
          0.009441707717569803,
          0.00882594417077176,
          0.009031198686371145,
          0.00882594417077176,
          0.009031198686371145,
          0.00882594417077176,
          0.009031198686371145,
          0.00882594417077176,
          0.009646962233169076,
          0.008620689655172376,
          0.00882594417077176,
          0.010057471264367845,
          0.010262725779967119,
          0.009031198686371145,
          0.009236453201970418,
          0.008210180623973717,
          0.009031198686371145,
          0.009236453201970418,
          0.009236453201970418,
          0.009236453201970418,
          0.008415435139573102,
          0.009031198686371145,
          0.008415435139573102,
          0.009441707717569803,
          0.009236453201970418,
          0.00882594417077176,
          0.009646962233169076,
          0.008620689655172376,
          0.009236453201970418,
          0.009236453201970418,
          0.008415435139573102,
          0.009031198686371145,
          0.009236453201970418,
          0.010057471264367845,
          0.009031198686371145,
          0.009236453201970418,
          0.009852216748768461,
          0.009031198686371145,
          0.009236453201970418,
          0.009646962233169076,
          0.008620689655172376,
          0.008415435139573102,
          0.009441707717569803,
          0.00882594417077176,
          0.009236453201970418,
          0.009031198686371145,
          0.009031198686371145,
          0.009441707717569803,
          0.009441707717569803,
          0.00882594417077176,
          0.009646962233169076,
          0.009031198686371145,
          0.009441707717569803,
          0.009236453201970418,
          0.008415435139573102,
          0.009441707717569803,
          0.009441707717569803,
          0.00882594417077176,
          0.009441707717569803,
          0.009031198686371145,
          0.009852216748768461,
          0.009031198686371145,
          0.008004926108374333,
          0.009441707717569803,
          0.009236453201970418
         ]
        },
        {
         "mode": "lines",
         "name": "Test Error",
         "type": "scatter",
         "x": [
          1,
          2,
          3,
          4,
          5,
          6,
          7,
          8,
          9,
          10,
          11,
          12,
          13,
          14,
          15,
          16,
          17,
          18,
          19,
          20,
          21,
          22,
          23,
          24,
          25,
          26,
          27,
          28,
          29,
          30,
          31,
          32,
          33,
          34,
          35,
          36,
          37,
          38,
          39,
          40,
          41,
          42,
          43,
          44,
          45,
          46,
          47,
          48,
          49,
          50,
          51,
          52,
          53,
          54,
          55,
          56,
          57,
          58,
          59,
          60,
          61,
          62,
          63,
          64,
          65,
          66,
          67,
          68,
          69,
          70,
          71,
          72,
          73,
          74,
          75,
          76,
          77,
          78,
          79,
          80,
          81,
          82,
          83,
          84,
          85,
          86,
          87,
          88,
          89,
          90,
          91,
          92,
          93,
          94,
          95,
          96,
          97,
          98,
          99,
          100,
          101,
          102,
          103,
          104,
          105,
          106,
          107,
          108,
          109,
          110,
          111,
          112,
          113,
          114,
          115,
          116,
          117,
          118,
          119,
          120,
          121,
          122,
          123,
          124,
          125,
          126,
          127,
          128,
          129,
          130,
          131,
          132,
          133,
          134,
          135,
          136,
          137,
          138,
          139,
          140,
          141,
          142,
          143,
          144,
          145,
          146,
          147,
          148,
          149,
          150,
          151,
          152,
          153,
          154,
          155,
          156,
          157,
          158,
          159,
          160,
          161,
          162,
          163,
          164,
          165,
          166,
          167,
          168,
          169,
          170,
          171,
          172,
          173,
          174,
          175,
          176,
          177,
          178,
          179,
          180,
          181,
          182,
          183,
          184,
          185,
          186,
          187,
          188,
          189,
          190,
          191,
          192,
          193,
          194,
          195,
          196,
          197,
          198,
          199,
          200,
          201,
          202,
          203,
          204,
          205,
          206,
          207,
          208,
          209,
          210,
          211,
          212,
          213,
          214,
          215,
          216,
          217,
          218,
          219,
          220,
          221,
          222,
          223,
          224,
          225,
          226,
          227,
          228,
          229,
          230,
          231,
          232,
          233,
          234,
          235,
          236,
          237,
          238,
          239,
          240,
          241,
          242,
          243,
          244,
          245,
          246,
          247,
          248,
          249,
          250,
          251,
          252,
          253,
          254,
          255,
          256,
          257,
          258,
          259,
          260,
          261,
          262,
          263,
          264,
          265,
          266,
          267,
          268,
          269,
          270,
          271,
          272,
          273,
          274,
          275,
          276,
          277,
          278,
          279,
          280,
          281,
          282,
          283,
          284,
          285,
          286,
          287,
          288,
          289,
          290,
          291,
          292,
          293,
          294,
          295,
          296,
          297,
          298,
          299,
          300,
          301,
          302,
          303,
          304,
          305,
          306,
          307,
          308,
          309,
          310,
          311,
          312,
          313,
          314,
          315,
          316,
          317,
          318,
          319,
          320,
          321,
          322,
          323,
          324,
          325,
          326,
          327,
          328,
          329,
          330,
          331,
          332,
          333,
          334,
          335,
          336,
          337,
          338,
          339,
          340,
          341,
          342,
          343,
          344,
          345,
          346,
          347,
          348,
          349,
          350,
          351,
          352,
          353,
          354,
          355,
          356,
          357,
          358,
          359,
          360,
          361,
          362,
          363,
          364,
          365,
          366,
          367,
          368,
          369,
          370,
          371,
          372,
          373,
          374,
          375,
          376,
          377,
          378,
          379,
          380,
          381,
          382,
          383,
          384,
          385,
          386,
          387,
          388,
          389,
          390,
          391,
          392,
          393,
          394,
          395,
          396,
          397,
          398,
          399,
          400,
          401,
          402,
          403,
          404,
          405,
          406,
          407,
          408,
          409,
          410,
          411,
          412,
          413,
          414,
          415,
          416,
          417,
          418,
          419,
          420,
          421,
          422,
          423,
          424,
          425,
          426,
          427,
          428,
          429,
          430,
          431,
          432,
          433,
          434,
          435,
          436,
          437,
          438,
          439,
          440,
          441,
          442,
          443,
          444,
          445,
          446,
          447,
          448,
          449,
          450,
          451,
          452,
          453,
          454,
          455,
          456,
          457,
          458,
          459,
          460,
          461,
          462,
          463,
          464,
          465,
          466,
          467,
          468,
          469,
          470,
          471,
          472,
          473,
          474,
          475,
          476,
          477,
          478,
          479,
          480,
          481,
          482,
          483,
          484,
          485,
          486,
          487,
          488,
          489,
          490,
          491,
          492,
          493,
          494,
          495,
          496,
          497,
          498,
          499,
          500
         ],
         "y": [
          0.04123076923076918,
          0.02523076923076928,
          0.023384615384615337,
          0.040000000000000036,
          0.018461538461538418,
          0.02030769230769236,
          0.02030769230769236,
          0.02030769230769236,
          0.016000000000000014,
          0.014153846153846183,
          0.02030769230769236,
          0.014769230769230757,
          0.02030769230769236,
          0.019076923076923102,
          0.01538461538461533,
          0.012923076923076926,
          0.0135384615384615,
          0.016000000000000014,
          0.01723076923076927,
          0.018461538461538418,
          0.012307692307692353,
          0.01538461538461533,
          0.01538461538461533,
          0.01538461538461533,
          0.01538461538461533,
          0.01538461538461533,
          0.014153846153846183,
          0.014153846153846183,
          0.016615384615384587,
          0.012923076923076926,
          0.01723076923076927,
          0.0135384615384615,
          0.014153846153846183,
          0.01538461538461533,
          0.014153846153846183,
          0.0135384615384615,
          0.0135384615384615,
          0.012923076923076926,
          0.016000000000000014,
          0.0135384615384615,
          0.016000000000000014,
          0.01538461538461533,
          0.01723076923076927,
          0.0135384615384615,
          0.014769230769230757,
          0.014769230769230757,
          0.009846153846153838,
          0.0135384615384615,
          0.014153846153846183,
          0.016000000000000014,
          0.016000000000000014,
          0.014769230769230757,
          0.011692307692307669,
          0.012923076923076926,
          0.012307692307692353,
          0.0135384615384615,
          0.014769230769230757,
          0.01538461538461533,
          0.012923076923076926,
          0.012307692307692353,
          0.014153846153846183,
          0.012923076923076926,
          0.0135384615384615,
          0.014769230769230757,
          0.014769230769230757,
          0.012307692307692353,
          0.012923076923076926,
          0.011692307692307669,
          0.012307692307692353,
          0.014769230769230757,
          0.012923076923076926,
          0.011076923076923095,
          0.016000000000000014,
          0.012923076923076926,
          0.01538461538461533,
          0.012923076923076926,
          0.012923076923076926,
          0.011692307692307669,
          0.014153846153846183,
          0.014153846153846183,
          0.012307692307692353,
          0.012923076923076926,
          0.011692307692307669,
          0.016000000000000014,
          0.016000000000000014,
          0.014769230769230757,
          0.014769230769230757,
          0.018461538461538418,
          0.01538461538461533,
          0.016615384615384587,
          0.014153846153846183,
          0.016000000000000014,
          0.014153846153846183,
          0.012923076923076926,
          0.014153846153846183,
          0.012923076923076926,
          0.012307692307692353,
          0.014153846153846183,
          0.0135384615384615,
          0.0135384615384615,
          0.0135384615384615,
          0.0135384615384615,
          0.01538461538461533,
          0.0135384615384615,
          0.014153846153846183,
          0.014769230769230757,
          0.0135384615384615,
          0.012307692307692353,
          0.011692307692307669,
          0.0135384615384615,
          0.011692307692307669,
          0.014153846153846183,
          0.012923076923076926,
          0.014153846153846183,
          0.0135384615384615,
          0.016000000000000014,
          0.01538461538461533,
          0.0135384615384615,
          0.0135384615384615,
          0.016000000000000014,
          0.014153846153846183,
          0.014769230769230757,
          0.014153846153846183,
          0.0135384615384615,
          0.014769230769230757,
          0.0135384615384615,
          0.012307692307692353,
          0.014153846153846183,
          0.014153846153846183,
          0.01538461538461533,
          0.012923076923076926,
          0.0135384615384615,
          0.012923076923076926,
          0.012923076923076926,
          0.014153846153846183,
          0.012307692307692353,
          0.012307692307692353,
          0.012307692307692353,
          0.014769230769230757,
          0.012923076923076926,
          0.014153846153846183,
          0.012307692307692353,
          0.0135384615384615,
          0.014153846153846183,
          0.014153846153846183,
          0.014153846153846183,
          0.0135384615384615,
          0.012923076923076926,
          0.012307692307692353,
          0.014153846153846183,
          0.012923076923076926,
          0.012307692307692353,
          0.01538461538461533,
          0.0135384615384615,
          0.014769230769230757,
          0.014769230769230757,
          0.014153846153846183,
          0.012923076923076926,
          0.014153846153846183,
          0.014153846153846183,
          0.012923076923076926,
          0.012923076923076926,
          0.012923076923076926,
          0.011692307692307669,
          0.014769230769230757,
          0.014153846153846183,
          0.014769230769230757,
          0.012923076923076926,
          0.014153846153846183,
          0.0135384615384615,
          0.014769230769230757,
          0.0135384615384615,
          0.012923076923076926,
          0.012307692307692353,
          0.014153846153846183,
          0.0135384615384615,
          0.012923076923076926,
          0.012923076923076926,
          0.012923076923076926,
          0.014153846153846183,
          0.011076923076923095,
          0.012923076923076926,
          0.0135384615384615,
          0.011692307692307669,
          0.012923076923076926,
          0.011076923076923095,
          0.014153846153846183,
          0.012923076923076926,
          0.016000000000000014,
          0.012923076923076926,
          0.0135384615384615,
          0.0135384615384615,
          0.014769230769230757,
          0.0135384615384615,
          0.011692307692307669,
          0.011692307692307669,
          0.011692307692307669,
          0.011692307692307669,
          0.0135384615384615,
          0.012923076923076926,
          0.014769230769230757,
          0.012307692307692353,
          0.012307692307692353,
          0.012923076923076926,
          0.0135384615384615,
          0.014153846153846183,
          0.012923076923076926,
          0.014153846153846183,
          0.014769230769230757,
          0.012923076923076926,
          0.012923076923076926,
          0.0135384615384615,
          0.012923076923076926,
          0.014153846153846183,
          0.0135384615384615,
          0.014153846153846183,
          0.014769230769230757,
          0.01538461538461533,
          0.012307692307692353,
          0.012923076923076926,
          0.014769230769230757,
          0.0135384615384615,
          0.012923076923076926,
          0.012923076923076926,
          0.0135384615384615,
          0.012923076923076926,
          0.0135384615384615,
          0.011692307692307669,
          0.0135384615384615,
          0.011692307692307669,
          0.014153846153846183,
          0.012307692307692353,
          0.012923076923076926,
          0.014153846153846183,
          0.0135384615384615,
          0.012923076923076926,
          0.014153846153846183,
          0.012923076923076926,
          0.012307692307692353,
          0.014769230769230757,
          0.012923076923076926,
          0.014153846153846183,
          0.012923076923076926,
          0.012307692307692353,
          0.0135384615384615,
          0.0135384615384615,
          0.012923076923076926,
          0.012307692307692353,
          0.012923076923076926,
          0.012923076923076926,
          0.014769230769230757,
          0.014769230769230757,
          0.014769230769230757,
          0.012307692307692353,
          0.012307692307692353,
          0.0135384615384615,
          0.0135384615384615,
          0.0135384615384615,
          0.014769230769230757,
          0.012923076923076926,
          0.0135384615384615,
          0.012923076923076926,
          0.01538461538461533,
          0.012923076923076926,
          0.012923076923076926,
          0.012923076923076926,
          0.011692307692307669,
          0.0135384615384615,
          0.012923076923076926,
          0.014153846153846183,
          0.014153846153846183,
          0.014153846153846183,
          0.0135384615384615,
          0.012923076923076926,
          0.0135384615384615,
          0.014153846153846183,
          0.011692307692307669,
          0.012923076923076926,
          0.014769230769230757,
          0.012307692307692353,
          0.012923076923076926,
          0.014153846153846183,
          0.012307692307692353,
          0.014153846153846183,
          0.012307692307692353,
          0.012307692307692353,
          0.012307692307692353,
          0.0135384615384615,
          0.014153846153846183,
          0.0135384615384615,
          0.012307692307692353,
          0.012923076923076926,
          0.014153846153846183,
          0.012923076923076926,
          0.0135384615384615,
          0.0135384615384615,
          0.014153846153846183,
          0.0135384615384615,
          0.0135384615384615,
          0.0135384615384615,
          0.012923076923076926,
          0.012307692307692353,
          0.012923076923076926,
          0.014153846153846183,
          0.014153846153846183,
          0.014153846153846183,
          0.012923076923076926,
          0.011692307692307669,
          0.014153846153846183,
          0.012307692307692353,
          0.012923076923076926,
          0.014153846153846183,
          0.01538461538461533,
          0.012923076923076926,
          0.011692307692307669,
          0.0135384615384615,
          0.012923076923076926,
          0.014153846153846183,
          0.012307692307692353,
          0.012923076923076926,
          0.014153846153846183,
          0.014769230769230757,
          0.012307692307692353,
          0.012923076923076926,
          0.012923076923076926,
          0.0135384615384615,
          0.012923076923076926,
          0.0135384615384615,
          0.014153846153846183,
          0.0135384615384615,
          0.0135384615384615,
          0.0135384615384615,
          0.012307692307692353,
          0.011076923076923095,
          0.012923076923076926,
          0.0135384615384615,
          0.014769230769230757,
          0.012307692307692353,
          0.0135384615384615,
          0.012307692307692353,
          0.014769230769230757,
          0.012923076923076926,
          0.014153846153846183,
          0.0135384615384615,
          0.014153846153846183,
          0.012307692307692353,
          0.0135384615384615,
          0.014153846153846183,
          0.011076923076923095,
          0.014153846153846183,
          0.012923076923076926,
          0.0135384615384615,
          0.0135384615384615,
          0.012923076923076926,
          0.0135384615384615,
          0.011692307692307669,
          0.011692307692307669,
          0.0135384615384615,
          0.0135384615384615,
          0.014769230769230757,
          0.0135384615384615,
          0.012923076923076926,
          0.0135384615384615,
          0.014153846153846183,
          0.014769230769230757,
          0.0135384615384615,
          0.012307692307692353,
          0.014769230769230757,
          0.011076923076923095,
          0.0135384615384615,
          0.0135384615384615,
          0.012923076923076926,
          0.0135384615384615,
          0.012307692307692353,
          0.012307692307692353,
          0.012923076923076926,
          0.012307692307692353,
          0.012923076923076926,
          0.011692307692307669,
          0.012307692307692353,
          0.012923076923076926,
          0.012923076923076926,
          0.012923076923076926,
          0.012307692307692353,
          0.0135384615384615,
          0.012307692307692353,
          0.014153846153846183,
          0.014153846153846183,
          0.0135384615384615,
          0.0135384615384615,
          0.012923076923076926,
          0.014153846153846183,
          0.012923076923076926,
          0.012307692307692353,
          0.011692307692307669,
          0.014153846153846183,
          0.014769230769230757,
          0.012307692307692353,
          0.011692307692307669,
          0.012307692307692353,
          0.011692307692307669,
          0.014769230769230757,
          0.011692307692307669,
          0.012307692307692353,
          0.01538461538461533,
          0.012307692307692353,
          0.0135384615384615,
          0.012307692307692353,
          0.014153846153846183,
          0.0135384615384615,
          0.012307692307692353,
          0.0135384615384615,
          0.0135384615384615,
          0.011692307692307669,
          0.014153846153846183,
          0.0135384615384615,
          0.0135384615384615,
          0.012923076923076926,
          0.012923076923076926,
          0.011692307692307669,
          0.012307692307692353,
          0.014769230769230757,
          0.011692307692307669,
          0.011692307692307669,
          0.0135384615384615,
          0.012307692307692353,
          0.0135384615384615,
          0.0135384615384615,
          0.011692307692307669,
          0.0135384615384615,
          0.0135384615384615,
          0.011692307692307669,
          0.011692307692307669,
          0.014769230769230757,
          0.012307692307692353,
          0.014153846153846183,
          0.012923076923076926,
          0.0135384615384615,
          0.014153846153846183,
          0.012923076923076926,
          0.012307692307692353,
          0.012307692307692353,
          0.0135384615384615,
          0.0135384615384615,
          0.012307692307692353,
          0.012307692307692353,
          0.0135384615384615,
          0.014153846153846183,
          0.012307692307692353,
          0.012307692307692353,
          0.014153846153846183,
          0.014769230769230757,
          0.0135384615384615,
          0.012923076923076926,
          0.014153846153846183,
          0.012923076923076926,
          0.0135384615384615,
          0.012923076923076926,
          0.012923076923076926,
          0.014769230769230757,
          0.014769230769230757,
          0.012923076923076926,
          0.0135384615384615,
          0.0135384615384615,
          0.012923076923076926,
          0.012307692307692353,
          0.012923076923076926,
          0.0135384615384615,
          0.014153846153846183,
          0.014153846153846183,
          0.012307692307692353,
          0.012307692307692353,
          0.012923076923076926,
          0.012307692307692353,
          0.012923076923076926,
          0.011076923076923095,
          0.011076923076923095,
          0.014769230769230757,
          0.012307692307692353,
          0.0135384615384615,
          0.011076923076923095,
          0.011692307692307669,
          0.012923076923076926,
          0.014769230769230757,
          0.012307692307692353,
          0.012923076923076926,
          0.012307692307692353,
          0.012923076923076926,
          0.014153846153846183,
          0.0135384615384615,
          0.012923076923076926,
          0.011692307692307669,
          0.012923076923076926,
          0.012923076923076926,
          0.012307692307692353,
          0.012923076923076926,
          0.011692307692307669,
          0.012307692307692353,
          0.012307692307692353,
          0.012307692307692353
         ]
        }
       ],
       "layout": {
        "height": 600,
        "template": {
         "data": {
          "bar": [
           {
            "error_x": {
             "color": "#2a3f5f"
            },
            "error_y": {
             "color": "#2a3f5f"
            },
            "marker": {
             "line": {
              "color": "#E5ECF6",
              "width": 0.5
             },
             "pattern": {
              "fillmode": "overlay",
              "size": 10,
              "solidity": 0.2
             }
            },
            "type": "bar"
           }
          ],
          "barpolar": [
           {
            "marker": {
             "line": {
              "color": "#E5ECF6",
              "width": 0.5
             },
             "pattern": {
              "fillmode": "overlay",
              "size": 10,
              "solidity": 0.2
             }
            },
            "type": "barpolar"
           }
          ],
          "carpet": [
           {
            "aaxis": {
             "endlinecolor": "#2a3f5f",
             "gridcolor": "white",
             "linecolor": "white",
             "minorgridcolor": "white",
             "startlinecolor": "#2a3f5f"
            },
            "baxis": {
             "endlinecolor": "#2a3f5f",
             "gridcolor": "white",
             "linecolor": "white",
             "minorgridcolor": "white",
             "startlinecolor": "#2a3f5f"
            },
            "type": "carpet"
           }
          ],
          "choropleth": [
           {
            "colorbar": {
             "outlinewidth": 0,
             "ticks": ""
            },
            "type": "choropleth"
           }
          ],
          "contour": [
           {
            "colorbar": {
             "outlinewidth": 0,
             "ticks": ""
            },
            "colorscale": [
             [
              0,
              "#0d0887"
             ],
             [
              0.1111111111111111,
              "#46039f"
             ],
             [
              0.2222222222222222,
              "#7201a8"
             ],
             [
              0.3333333333333333,
              "#9c179e"
             ],
             [
              0.4444444444444444,
              "#bd3786"
             ],
             [
              0.5555555555555556,
              "#d8576b"
             ],
             [
              0.6666666666666666,
              "#ed7953"
             ],
             [
              0.7777777777777778,
              "#fb9f3a"
             ],
             [
              0.8888888888888888,
              "#fdca26"
             ],
             [
              1,
              "#f0f921"
             ]
            ],
            "type": "contour"
           }
          ],
          "contourcarpet": [
           {
            "colorbar": {
             "outlinewidth": 0,
             "ticks": ""
            },
            "type": "contourcarpet"
           }
          ],
          "heatmap": [
           {
            "colorbar": {
             "outlinewidth": 0,
             "ticks": ""
            },
            "colorscale": [
             [
              0,
              "#0d0887"
             ],
             [
              0.1111111111111111,
              "#46039f"
             ],
             [
              0.2222222222222222,
              "#7201a8"
             ],
             [
              0.3333333333333333,
              "#9c179e"
             ],
             [
              0.4444444444444444,
              "#bd3786"
             ],
             [
              0.5555555555555556,
              "#d8576b"
             ],
             [
              0.6666666666666666,
              "#ed7953"
             ],
             [
              0.7777777777777778,
              "#fb9f3a"
             ],
             [
              0.8888888888888888,
              "#fdca26"
             ],
             [
              1,
              "#f0f921"
             ]
            ],
            "type": "heatmap"
           }
          ],
          "heatmapgl": [
           {
            "colorbar": {
             "outlinewidth": 0,
             "ticks": ""
            },
            "colorscale": [
             [
              0,
              "#0d0887"
             ],
             [
              0.1111111111111111,
              "#46039f"
             ],
             [
              0.2222222222222222,
              "#7201a8"
             ],
             [
              0.3333333333333333,
              "#9c179e"
             ],
             [
              0.4444444444444444,
              "#bd3786"
             ],
             [
              0.5555555555555556,
              "#d8576b"
             ],
             [
              0.6666666666666666,
              "#ed7953"
             ],
             [
              0.7777777777777778,
              "#fb9f3a"
             ],
             [
              0.8888888888888888,
              "#fdca26"
             ],
             [
              1,
              "#f0f921"
             ]
            ],
            "type": "heatmapgl"
           }
          ],
          "histogram": [
           {
            "marker": {
             "pattern": {
              "fillmode": "overlay",
              "size": 10,
              "solidity": 0.2
             }
            },
            "type": "histogram"
           }
          ],
          "histogram2d": [
           {
            "colorbar": {
             "outlinewidth": 0,
             "ticks": ""
            },
            "colorscale": [
             [
              0,
              "#0d0887"
             ],
             [
              0.1111111111111111,
              "#46039f"
             ],
             [
              0.2222222222222222,
              "#7201a8"
             ],
             [
              0.3333333333333333,
              "#9c179e"
             ],
             [
              0.4444444444444444,
              "#bd3786"
             ],
             [
              0.5555555555555556,
              "#d8576b"
             ],
             [
              0.6666666666666666,
              "#ed7953"
             ],
             [
              0.7777777777777778,
              "#fb9f3a"
             ],
             [
              0.8888888888888888,
              "#fdca26"
             ],
             [
              1,
              "#f0f921"
             ]
            ],
            "type": "histogram2d"
           }
          ],
          "histogram2dcontour": [
           {
            "colorbar": {
             "outlinewidth": 0,
             "ticks": ""
            },
            "colorscale": [
             [
              0,
              "#0d0887"
             ],
             [
              0.1111111111111111,
              "#46039f"
             ],
             [
              0.2222222222222222,
              "#7201a8"
             ],
             [
              0.3333333333333333,
              "#9c179e"
             ],
             [
              0.4444444444444444,
              "#bd3786"
             ],
             [
              0.5555555555555556,
              "#d8576b"
             ],
             [
              0.6666666666666666,
              "#ed7953"
             ],
             [
              0.7777777777777778,
              "#fb9f3a"
             ],
             [
              0.8888888888888888,
              "#fdca26"
             ],
             [
              1,
              "#f0f921"
             ]
            ],
            "type": "histogram2dcontour"
           }
          ],
          "mesh3d": [
           {
            "colorbar": {
             "outlinewidth": 0,
             "ticks": ""
            },
            "type": "mesh3d"
           }
          ],
          "parcoords": [
           {
            "line": {
             "colorbar": {
              "outlinewidth": 0,
              "ticks": ""
             }
            },
            "type": "parcoords"
           }
          ],
          "pie": [
           {
            "automargin": true,
            "type": "pie"
           }
          ],
          "scatter": [
           {
            "fillpattern": {
             "fillmode": "overlay",
             "size": 10,
             "solidity": 0.2
            },
            "type": "scatter"
           }
          ],
          "scatter3d": [
           {
            "line": {
             "colorbar": {
              "outlinewidth": 0,
              "ticks": ""
             }
            },
            "marker": {
             "colorbar": {
              "outlinewidth": 0,
              "ticks": ""
             }
            },
            "type": "scatter3d"
           }
          ],
          "scattercarpet": [
           {
            "marker": {
             "colorbar": {
              "outlinewidth": 0,
              "ticks": ""
             }
            },
            "type": "scattercarpet"
           }
          ],
          "scattergeo": [
           {
            "marker": {
             "colorbar": {
              "outlinewidth": 0,
              "ticks": ""
             }
            },
            "type": "scattergeo"
           }
          ],
          "scattergl": [
           {
            "marker": {
             "colorbar": {
              "outlinewidth": 0,
              "ticks": ""
             }
            },
            "type": "scattergl"
           }
          ],
          "scattermapbox": [
           {
            "marker": {
             "colorbar": {
              "outlinewidth": 0,
              "ticks": ""
             }
            },
            "type": "scattermapbox"
           }
          ],
          "scatterpolar": [
           {
            "marker": {
             "colorbar": {
              "outlinewidth": 0,
              "ticks": ""
             }
            },
            "type": "scatterpolar"
           }
          ],
          "scatterpolargl": [
           {
            "marker": {
             "colorbar": {
              "outlinewidth": 0,
              "ticks": ""
             }
            },
            "type": "scatterpolargl"
           }
          ],
          "scatterternary": [
           {
            "marker": {
             "colorbar": {
              "outlinewidth": 0,
              "ticks": ""
             }
            },
            "type": "scatterternary"
           }
          ],
          "surface": [
           {
            "colorbar": {
             "outlinewidth": 0,
             "ticks": ""
            },
            "colorscale": [
             [
              0,
              "#0d0887"
             ],
             [
              0.1111111111111111,
              "#46039f"
             ],
             [
              0.2222222222222222,
              "#7201a8"
             ],
             [
              0.3333333333333333,
              "#9c179e"
             ],
             [
              0.4444444444444444,
              "#bd3786"
             ],
             [
              0.5555555555555556,
              "#d8576b"
             ],
             [
              0.6666666666666666,
              "#ed7953"
             ],
             [
              0.7777777777777778,
              "#fb9f3a"
             ],
             [
              0.8888888888888888,
              "#fdca26"
             ],
             [
              1,
              "#f0f921"
             ]
            ],
            "type": "surface"
           }
          ],
          "table": [
           {
            "cells": {
             "fill": {
              "color": "#EBF0F8"
             },
             "line": {
              "color": "white"
             }
            },
            "header": {
             "fill": {
              "color": "#C8D4E3"
             },
             "line": {
              "color": "white"
             }
            },
            "type": "table"
           }
          ]
         },
         "layout": {
          "annotationdefaults": {
           "arrowcolor": "#2a3f5f",
           "arrowhead": 0,
           "arrowwidth": 1
          },
          "autotypenumbers": "strict",
          "coloraxis": {
           "colorbar": {
            "outlinewidth": 0,
            "ticks": ""
           }
          },
          "colorscale": {
           "diverging": [
            [
             0,
             "#8e0152"
            ],
            [
             0.1,
             "#c51b7d"
            ],
            [
             0.2,
             "#de77ae"
            ],
            [
             0.3,
             "#f1b6da"
            ],
            [
             0.4,
             "#fde0ef"
            ],
            [
             0.5,
             "#f7f7f7"
            ],
            [
             0.6,
             "#e6f5d0"
            ],
            [
             0.7,
             "#b8e186"
            ],
            [
             0.8,
             "#7fbc41"
            ],
            [
             0.9,
             "#4d9221"
            ],
            [
             1,
             "#276419"
            ]
           ],
           "sequential": [
            [
             0,
             "#0d0887"
            ],
            [
             0.1111111111111111,
             "#46039f"
            ],
            [
             0.2222222222222222,
             "#7201a8"
            ],
            [
             0.3333333333333333,
             "#9c179e"
            ],
            [
             0.4444444444444444,
             "#bd3786"
            ],
            [
             0.5555555555555556,
             "#d8576b"
            ],
            [
             0.6666666666666666,
             "#ed7953"
            ],
            [
             0.7777777777777778,
             "#fb9f3a"
            ],
            [
             0.8888888888888888,
             "#fdca26"
            ],
            [
             1,
             "#f0f921"
            ]
           ],
           "sequentialminus": [
            [
             0,
             "#0d0887"
            ],
            [
             0.1111111111111111,
             "#46039f"
            ],
            [
             0.2222222222222222,
             "#7201a8"
            ],
            [
             0.3333333333333333,
             "#9c179e"
            ],
            [
             0.4444444444444444,
             "#bd3786"
            ],
            [
             0.5555555555555556,
             "#d8576b"
            ],
            [
             0.6666666666666666,
             "#ed7953"
            ],
            [
             0.7777777777777778,
             "#fb9f3a"
            ],
            [
             0.8888888888888888,
             "#fdca26"
            ],
            [
             1,
             "#f0f921"
            ]
           ]
          },
          "colorway": [
           "#636efa",
           "#EF553B",
           "#00cc96",
           "#ab63fa",
           "#FFA15A",
           "#19d3f3",
           "#FF6692",
           "#B6E880",
           "#FF97FF",
           "#FECB52"
          ],
          "font": {
           "color": "#2a3f5f"
          },
          "geo": {
           "bgcolor": "white",
           "lakecolor": "white",
           "landcolor": "#E5ECF6",
           "showlakes": true,
           "showland": true,
           "subunitcolor": "white"
          },
          "hoverlabel": {
           "align": "left"
          },
          "hovermode": "closest",
          "mapbox": {
           "style": "light"
          },
          "paper_bgcolor": "white",
          "plot_bgcolor": "#E5ECF6",
          "polar": {
           "angularaxis": {
            "gridcolor": "white",
            "linecolor": "white",
            "ticks": ""
           },
           "bgcolor": "#E5ECF6",
           "radialaxis": {
            "gridcolor": "white",
            "linecolor": "white",
            "ticks": ""
           }
          },
          "scene": {
           "xaxis": {
            "backgroundcolor": "#E5ECF6",
            "gridcolor": "white",
            "gridwidth": 2,
            "linecolor": "white",
            "showbackground": true,
            "ticks": "",
            "zerolinecolor": "white"
           },
           "yaxis": {
            "backgroundcolor": "#E5ECF6",
            "gridcolor": "white",
            "gridwidth": 2,
            "linecolor": "white",
            "showbackground": true,
            "ticks": "",
            "zerolinecolor": "white"
           },
           "zaxis": {
            "backgroundcolor": "#E5ECF6",
            "gridcolor": "white",
            "gridwidth": 2,
            "linecolor": "white",
            "showbackground": true,
            "ticks": "",
            "zerolinecolor": "white"
           }
          },
          "shapedefaults": {
           "line": {
            "color": "#2a3f5f"
           }
          },
          "ternary": {
           "aaxis": {
            "gridcolor": "white",
            "linecolor": "white",
            "ticks": ""
           },
           "baxis": {
            "gridcolor": "white",
            "linecolor": "white",
            "ticks": ""
           },
           "bgcolor": "#E5ECF6",
           "caxis": {
            "gridcolor": "white",
            "linecolor": "white",
            "ticks": ""
           }
          },
          "title": {
           "x": 0.05
          },
          "xaxis": {
           "automargin": true,
           "gridcolor": "white",
           "linecolor": "white",
           "ticks": "",
           "title": {
            "standoff": 15
           },
           "zerolinecolor": "white",
           "zerolinewidth": 2
          },
          "yaxis": {
           "automargin": true,
           "gridcolor": "white",
           "linecolor": "white",
           "ticks": "",
           "title": {
            "standoff": 15
           },
           "zerolinecolor": "white",
           "zerolinewidth": 2
          }
         }
        },
        "title": {
         "font": {
          "family": "Gulliver",
          "size": 32
         },
         "text": "Model Complexity for Random Forest",
         "x": 0.5
        },
        "width": 800,
        "xaxis": {
         "title": {
          "font": {
           "family": "Gulliver",
           "size": 24
          },
          "text": "n estimators"
         }
        },
        "yaxis": {
         "title": {
          "font": {
           "family": "Gulliver",
           "size": 24
          },
          "text": "Classification Error"
         }
        }
       }
      }
     },
     "metadata": {},
     "output_type": "display_data"
    }
   ],
   "source": [
    "n_estimators_range = range(1, 501)\n",
    "\n",
    "train_errors = []\n",
    "test_errors = []\n",
    "\n",
    "for i in n_estimators_range:\n",
    "    rfc = RandomForestClassifier(criterion = 'entropy', max_depth = 4, max_features = 'sqrt', n_estimators = i, n_jobs = -1)\n",
    "    rfc.fit(x_train, y_train)\n",
    "    train_pred = rfc.predict(x_train)\n",
    "    test_pred = rfc.predict(x_test)\n",
    "    train_errors.append(1 - accuracy_score(y_train, train_pred))\n",
    "    test_errors.append(1 - accuracy_score(y_test, test_pred))\n",
    "\n",
    "\n",
    "fig = go.Figure()\n",
    "\n",
    "fig.add_trace(\n",
    "    go.Scatter(\n",
    "    x = [ i for i in range(1, 501) ], y = train_errors,\n",
    "    mode = 'lines',\n",
    "    name = 'Train Error'\n",
    "    )\n",
    ")\n",
    "\n",
    "fig.add_trace(\n",
    "    go.Scatter(\n",
    "    x = [ i for i in range(1, 501) ], y = test_errors,\n",
    "    mode = 'lines',\n",
    "    name = 'Test Error'\n",
    "    )\n",
    ")\n",
    "\n",
    "fig.update_layout(\n",
    "    title = {\n",
    "        'text': 'Model Complexity for Random Forest',\n",
    "        'font': {\n",
    "            'size': 32, 'family': 'Gulliver'\n",
    "        },\n",
    "        'x': 0.5\n",
    "    }, \n",
    "    width = 800, height = 600,\n",
    "    xaxis_title = {\n",
    "        'text': 'n estimators',\n",
    "        'font': {\n",
    "            'size': 24, 'family': 'Gulliver'\n",
    "        },\n",
    "    },\n",
    "    yaxis_title = {\n",
    "        'text': 'Classification Error',\n",
    "        'font': {\n",
    "            'size': 24, 'family': 'Gulliver'\n",
    "        },\n",
    "    }\n",
    ")\n",
    "fig.show()"
   ]
  }
 ],
 "metadata": {
  "kernelspec": {
   "display_name": "Python 3",
   "language": "python",
   "name": "python3"
  },
  "language_info": {
   "codemirror_mode": {
    "name": "ipython",
    "version": 3
   },
   "file_extension": ".py",
   "mimetype": "text/x-python",
   "name": "python",
   "nbconvert_exporter": "python",
   "pygments_lexer": "ipython3",
   "version": "3.9.13"
  },
  "orig_nbformat": 4
 },
 "nbformat": 4,
 "nbformat_minor": 2
}
