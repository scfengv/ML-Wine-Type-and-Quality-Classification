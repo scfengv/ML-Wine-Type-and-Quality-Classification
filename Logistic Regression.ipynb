{
 "cells": [
  {
   "cell_type": "code",
   "execution_count": 1,
   "metadata": {},
   "outputs": [],
   "source": [
    "import pandas as pd\n",
    "from scipy import stats\n",
    "from sklearn.model_selection import cross_val_score, StratifiedKFold, GridSearchCV, train_test_split\n",
    "from sklearn.linear_model import LogisticRegression, Lasso\n",
    "import mlxtend\n",
    "from mlxtend.feature_selection import SequentialFeatureSelector as SFS\n",
    "from sklearn import svm, metrics\n",
    "from sklearn.metrics import confusion_matrix, roc_curve, auc\n",
    "import numpy as np\n",
    "from skater.core.explanations import Interpretation\n",
    "from skater.model import InMemoryModel\n",
    "import matplotlib.pyplot as plt\n",
    "from sklearn.discriminant_analysis import StandardScaler\n",
    "import plotly.graph_objs as go\n",
    "import plotly.io as pio\n",
    "from mlxtend.plotting import plot_decision_regions\n",
    "\n",
    "f = '/Users/shenchingfeng/Documents/1112/機器學習/Homework 2/all.csv'\n",
    "\n",
    "df = pd.read_csv(f)\n",
    "df.drop(['Unnamed: 0'], axis = 1, inplace = True) ## Red wine == 1 ; White wine == 0\n",
    "\n",
    "result = pd.DataFrame(columns = [\"model\", \"accuracy\"])\n",
    "\n",
    "select_col = df.drop('wine', axis = 1).columns\n",
    "for i in select_col:\n",
    "    df[i], lambda_value = stats.yeojohnson(df[i])"
   ]
  },
  {
   "attachments": {},
   "cell_type": "markdown",
   "metadata": {},
   "source": [
    "# Cross Validation"
   ]
  },
  {
   "attachments": {},
   "cell_type": "markdown",
   "metadata": {},
   "source": [
    "### 10-Fold CV"
   ]
  },
  {
   "cell_type": "code",
   "execution_count": 2,
   "metadata": {},
   "outputs": [],
   "source": [
    "kf = StratifiedKFold(n_splits = 10, shuffle = True, random_state = 42)"
   ]
  },
  {
   "attachments": {},
   "cell_type": "markdown",
   "metadata": {},
   "source": [
    "### Grid Search CV"
   ]
  },
  {
   "cell_type": "code",
   "execution_count": 3,
   "metadata": {},
   "outputs": [
    {
     "name": "stderr",
     "output_type": "stream",
     "text": [
      "/opt/anaconda3/lib/python3.9/site-packages/sklearn/model_selection/_validation.py:378: FitFailedWarning: \n",
      "630 fits failed out of a total of 1080.\n",
      "The score on these train-test partitions for these parameters will be set to nan.\n",
      "If these failures are not expected, you can try to debug them by setting error_score='raise'.\n",
      "\n",
      "Below are more details about the failures:\n",
      "--------------------------------------------------------------------------------\n",
      "90 fits failed with the following error:\n",
      "Traceback (most recent call last):\n",
      "  File \"/opt/anaconda3/lib/python3.9/site-packages/sklearn/model_selection/_validation.py\", line 686, in _fit_and_score\n",
      "    estimator.fit(X_train, y_train, **fit_params)\n",
      "  File \"/opt/anaconda3/lib/python3.9/site-packages/sklearn/linear_model/_logistic.py\", line 1162, in fit\n",
      "    solver = _check_solver(self.solver, self.penalty, self.dual)\n",
      "  File \"/opt/anaconda3/lib/python3.9/site-packages/sklearn/linear_model/_logistic.py\", line 54, in _check_solver\n",
      "    raise ValueError(\n",
      "ValueError: Solver lbfgs supports only 'l2' or 'none' penalties, got l1 penalty.\n",
      "\n",
      "--------------------------------------------------------------------------------\n",
      "90 fits failed with the following error:\n",
      "Traceback (most recent call last):\n",
      "  File \"/opt/anaconda3/lib/python3.9/site-packages/sklearn/model_selection/_validation.py\", line 686, in _fit_and_score\n",
      "    estimator.fit(X_train, y_train, **fit_params)\n",
      "  File \"/opt/anaconda3/lib/python3.9/site-packages/sklearn/linear_model/_logistic.py\", line 1162, in fit\n",
      "    solver = _check_solver(self.solver, self.penalty, self.dual)\n",
      "  File \"/opt/anaconda3/lib/python3.9/site-packages/sklearn/linear_model/_logistic.py\", line 54, in _check_solver\n",
      "    raise ValueError(\n",
      "ValueError: Solver lbfgs supports only 'l2' or 'none' penalties, got elasticnet penalty.\n",
      "\n",
      "--------------------------------------------------------------------------------\n",
      "90 fits failed with the following error:\n",
      "Traceback (most recent call last):\n",
      "  File \"/opt/anaconda3/lib/python3.9/site-packages/sklearn/model_selection/_validation.py\", line 686, in _fit_and_score\n",
      "    estimator.fit(X_train, y_train, **fit_params)\n",
      "  File \"/opt/anaconda3/lib/python3.9/site-packages/sklearn/linear_model/_logistic.py\", line 1162, in fit\n",
      "    solver = _check_solver(self.solver, self.penalty, self.dual)\n",
      "  File \"/opt/anaconda3/lib/python3.9/site-packages/sklearn/linear_model/_logistic.py\", line 64, in _check_solver\n",
      "    raise ValueError(\n",
      "ValueError: Only 'saga' solver supports elasticnet penalty, got solver=liblinear.\n",
      "\n",
      "--------------------------------------------------------------------------------\n",
      "90 fits failed with the following error:\n",
      "Traceback (most recent call last):\n",
      "  File \"/opt/anaconda3/lib/python3.9/site-packages/sklearn/model_selection/_validation.py\", line 686, in _fit_and_score\n",
      "    estimator.fit(X_train, y_train, **fit_params)\n",
      "  File \"/opt/anaconda3/lib/python3.9/site-packages/sklearn/linear_model/_logistic.py\", line 1291, in fit\n",
      "    fold_coefs_ = Parallel(n_jobs=self.n_jobs, verbose=self.verbose, prefer=prefer)(\n",
      "  File \"/opt/anaconda3/lib/python3.9/site-packages/sklearn/utils/parallel.py\", line 63, in __call__\n",
      "    return super().__call__(iterable_with_config)\n",
      "  File \"/opt/anaconda3/lib/python3.9/site-packages/joblib/parallel.py\", line 1048, in __call__\n",
      "    if self.dispatch_one_batch(iterator):\n",
      "  File \"/opt/anaconda3/lib/python3.9/site-packages/joblib/parallel.py\", line 864, in dispatch_one_batch\n",
      "    self._dispatch(tasks)\n",
      "  File \"/opt/anaconda3/lib/python3.9/site-packages/joblib/parallel.py\", line 782, in _dispatch\n",
      "    job = self._backend.apply_async(batch, callback=cb)\n",
      "  File \"/opt/anaconda3/lib/python3.9/site-packages/joblib/_parallel_backends.py\", line 208, in apply_async\n",
      "    result = ImmediateResult(func)\n",
      "  File \"/opt/anaconda3/lib/python3.9/site-packages/joblib/_parallel_backends.py\", line 572, in __init__\n",
      "    self.results = batch()\n",
      "  File \"/opt/anaconda3/lib/python3.9/site-packages/joblib/parallel.py\", line 263, in __call__\n",
      "    return [func(*args, **kwargs)\n",
      "  File \"/opt/anaconda3/lib/python3.9/site-packages/joblib/parallel.py\", line 263, in <listcomp>\n",
      "    return [func(*args, **kwargs)\n",
      "  File \"/opt/anaconda3/lib/python3.9/site-packages/sklearn/utils/parallel.py\", line 123, in __call__\n",
      "    return self.function(*args, **kwargs)\n",
      "  File \"/opt/anaconda3/lib/python3.9/site-packages/sklearn/linear_model/_logistic.py\", line 521, in _logistic_regression_path\n",
      "    alpha = (1.0 / C) * (1 - l1_ratio)\n",
      "TypeError: unsupported operand type(s) for -: 'int' and 'NoneType'\n",
      "\n",
      "--------------------------------------------------------------------------------\n",
      "270 fits failed with the following error:\n",
      "Traceback (most recent call last):\n",
      "  File \"/opt/anaconda3/lib/python3.9/site-packages/sklearn/model_selection/_validation.py\", line 686, in _fit_and_score\n",
      "    estimator.fit(X_train, y_train, **fit_params)\n",
      "  File \"/opt/anaconda3/lib/python3.9/site-packages/sklearn/linear_model/_logistic.py\", line 1160, in fit\n",
      "    self._validate_params()\n",
      "  File \"/opt/anaconda3/lib/python3.9/site-packages/sklearn/base.py\", line 600, in _validate_params\n",
      "    validate_parameter_constraints(\n",
      "  File \"/opt/anaconda3/lib/python3.9/site-packages/sklearn/utils/_param_validation.py\", line 97, in validate_parameter_constraints\n",
      "    raise InvalidParameterError(\n",
      "sklearn.utils._param_validation.InvalidParameterError: The 'penalty' parameter of LogisticRegression must be a str among {'elasticnet', 'l1', 'none' (deprecated), 'l2'} or None. Got 'None' instead.\n",
      "\n",
      "  warnings.warn(some_fits_failed_message, FitFailedWarning)\n",
      "/opt/anaconda3/lib/python3.9/site-packages/sklearn/model_selection/_search.py:952: UserWarning: One or more of the test scores are non-finite: [       nan 0.75388645 0.92242456 0.92566031 0.85393481 0.92704397\n",
      "        nan        nan        nan        nan        nan        nan\n",
      "        nan 0.8757895  0.92627498 0.92796847 0.92704374 0.92935356\n",
      "        nan        nan        nan        nan        nan        nan\n",
      "        nan 0.92504255 0.92858409 0.93304634 0.93089179 0.93335404\n",
      "        nan        nan        nan        nan        nan        nan\n",
      "        nan 0.95182553 0.93720232 0.93335498 0.93858694 0.93704753\n",
      "        nan        nan        nan        nan        nan        nan\n",
      "        nan 0.97922224 0.93935783 0.94643807 0.94705369 0.93812659\n",
      "        nan        nan        nan        nan        nan        nan\n",
      "        nan 0.98584094 0.93997321 0.97167998 0.97014081 0.93997298\n",
      "        nan        nan        nan        nan        nan        nan\n",
      "        nan 0.98645656 0.93997321 0.98245466 0.98014531 0.93997321\n",
      "        nan        nan        nan        nan        nan        nan\n",
      "        nan 0.98645609 0.93997321 0.98784141 0.98414673 0.93997321\n",
      "        nan        nan        nan        nan        nan        nan\n",
      "        nan 0.98553348 0.93997321 0.99045822 0.98430129 0.93997321\n",
      "        nan        nan        nan        nan        nan        nan]\n",
      "  warnings.warn(\n"
     ]
    },
    {
     "name": "stdout",
     "output_type": "stream",
     "text": [
      "Best parameters: {'C': 10000, 'penalty': 'l2', 'solver': 'lbfgs'}\n",
      "Best score: 0.9904582197463553\n"
     ]
    },
    {
     "name": "stderr",
     "output_type": "stream",
     "text": [
      "/var/folders/56/1hl93h654354jd5vh2zjmd640000gn/T/ipykernel_26779/3536800315.py:17: FutureWarning: The frame.append method is deprecated and will be removed from pandas in a future version. Use pandas.concat instead.\n",
      "  result = result.append({'model': 'Logistic Regression', 'accuracy': round(grid_search.best_score_, 4)}, ignore_index = True)\n"
     ]
    }
   ],
   "source": [
    "model = LogisticRegression(max_iter = int(1e6))\n",
    "X = df.drop('wine', axis = 1)\n",
    "y = df.wine\n",
    "\n",
    "params = {\n",
    "    'C': [10**i for i in range(-4, 5)],\n",
    "    'penalty': ['l1', 'l2', 'elasticnet', 'None'],\n",
    "    'solver': ['lbfgs', 'liblinear', 'saga']   \n",
    "}\n",
    "\n",
    "grid_search = GridSearchCV(model, param_grid = params, cv = kf)\n",
    "grid_search.fit(X, y)\n",
    "\n",
    "print(\"Best parameters:\", grid_search.best_params_)\n",
    "print(\"Best score:\", grid_search.best_score_)\n",
    "\n",
    "result = result.append({'model': 'Logistic Regression', 'accuracy': round(grid_search.best_score_, 4)}, ignore_index = True)"
   ]
  },
  {
   "attachments": {},
   "cell_type": "markdown",
   "metadata": {},
   "source": [
    "# Feature Selection"
   ]
  },
  {
   "attachments": {},
   "cell_type": "markdown",
   "metadata": {},
   "source": [
    "## Stepwise Selection"
   ]
  },
  {
   "cell_type": "code",
   "execution_count": 4,
   "metadata": {},
   "outputs": [
    {
     "name": "stdout",
     "output_type": "stream",
     "text": [
      "['fixed acidity', 'volatile acidity', 'citric acid', 'residual sugar', 'chlorides', 'free sulfur dioxide', 'total sulfur dioxide', 'density', 'pH', 'sulphates', 'alcohol', 'quality']\n",
      "{'fixed acidity': 0, 'volatile acidity': 1, 'citric acid': 2, 'residual sugar': 3, 'chlorides': 4, 'free sulfur dioxide': 5, 'total sulfur dioxide': 6, 'density': 7, 'pH': 8, 'sulphates': 9, 'alcohol': 10, 'quality': 11}\n",
      "0.9805748830525051\n"
     ]
    }
   ],
   "source": [
    "X = df.drop(['wine'], axis = 1)\n",
    "y = df.wine\n",
    "\n",
    "sfs = SFS(\n",
    "    cv = kf, \n",
    "    estimator = LogisticRegression(max_iter = int(1e7), C = 10000, penalty = 'l2', solver = 'lbfgs'),\n",
    "    forward = True,\n",
    "    floating = True,\n",
    "    k_features = X.shape[1], \n",
    "    scoring='f1'\n",
    ")\n",
    "\n",
    "sfs.fit(X, y)\n",
    "\n",
    "print(sfs.feature_names)\n",
    "print(sfs.feature_names_to_idx_mapper)\n",
    "print(sfs.k_score_)"
   ]
  },
  {
   "cell_type": "code",
   "execution_count": 5,
   "metadata": {},
   "outputs": [
    {
     "data": {
      "application/vnd.plotly.v1+json": {
       "config": {
        "plotlyServerURL": "https://plotly.com"
       },
       "data": [
        {
         "mode": "lines+markers",
         "name": "Average Score",
         "type": "scatter",
         "x": [
          1,
          2,
          3,
          4,
          5,
          6,
          7,
          8,
          9,
          10,
          11,
          12
         ],
         "y": [
          0.8408129926130743,
          0.9319253268811011,
          0.9543433833595527,
          0.9715229711708678,
          0.9734248706314311,
          0.9771557281685505,
          0.9802827231214207,
          0.9809120314998397,
          0.9809154550640666,
          0.9818170585637255,
          0.9815216925606635,
          0.9805748830525051
         ]
        }
       ],
       "layout": {
        "height": 800,
        "template": {
         "data": {
          "bar": [
           {
            "error_x": {
             "color": "#2a3f5f"
            },
            "error_y": {
             "color": "#2a3f5f"
            },
            "marker": {
             "line": {
              "color": "#E5ECF6",
              "width": 0.5
             },
             "pattern": {
              "fillmode": "overlay",
              "size": 10,
              "solidity": 0.2
             }
            },
            "type": "bar"
           }
          ],
          "barpolar": [
           {
            "marker": {
             "line": {
              "color": "#E5ECF6",
              "width": 0.5
             },
             "pattern": {
              "fillmode": "overlay",
              "size": 10,
              "solidity": 0.2
             }
            },
            "type": "barpolar"
           }
          ],
          "carpet": [
           {
            "aaxis": {
             "endlinecolor": "#2a3f5f",
             "gridcolor": "white",
             "linecolor": "white",
             "minorgridcolor": "white",
             "startlinecolor": "#2a3f5f"
            },
            "baxis": {
             "endlinecolor": "#2a3f5f",
             "gridcolor": "white",
             "linecolor": "white",
             "minorgridcolor": "white",
             "startlinecolor": "#2a3f5f"
            },
            "type": "carpet"
           }
          ],
          "choropleth": [
           {
            "colorbar": {
             "outlinewidth": 0,
             "ticks": ""
            },
            "type": "choropleth"
           }
          ],
          "contour": [
           {
            "colorbar": {
             "outlinewidth": 0,
             "ticks": ""
            },
            "colorscale": [
             [
              0,
              "#0d0887"
             ],
             [
              0.1111111111111111,
              "#46039f"
             ],
             [
              0.2222222222222222,
              "#7201a8"
             ],
             [
              0.3333333333333333,
              "#9c179e"
             ],
             [
              0.4444444444444444,
              "#bd3786"
             ],
             [
              0.5555555555555556,
              "#d8576b"
             ],
             [
              0.6666666666666666,
              "#ed7953"
             ],
             [
              0.7777777777777778,
              "#fb9f3a"
             ],
             [
              0.8888888888888888,
              "#fdca26"
             ],
             [
              1,
              "#f0f921"
             ]
            ],
            "type": "contour"
           }
          ],
          "contourcarpet": [
           {
            "colorbar": {
             "outlinewidth": 0,
             "ticks": ""
            },
            "type": "contourcarpet"
           }
          ],
          "heatmap": [
           {
            "colorbar": {
             "outlinewidth": 0,
             "ticks": ""
            },
            "colorscale": [
             [
              0,
              "#0d0887"
             ],
             [
              0.1111111111111111,
              "#46039f"
             ],
             [
              0.2222222222222222,
              "#7201a8"
             ],
             [
              0.3333333333333333,
              "#9c179e"
             ],
             [
              0.4444444444444444,
              "#bd3786"
             ],
             [
              0.5555555555555556,
              "#d8576b"
             ],
             [
              0.6666666666666666,
              "#ed7953"
             ],
             [
              0.7777777777777778,
              "#fb9f3a"
             ],
             [
              0.8888888888888888,
              "#fdca26"
             ],
             [
              1,
              "#f0f921"
             ]
            ],
            "type": "heatmap"
           }
          ],
          "heatmapgl": [
           {
            "colorbar": {
             "outlinewidth": 0,
             "ticks": ""
            },
            "colorscale": [
             [
              0,
              "#0d0887"
             ],
             [
              0.1111111111111111,
              "#46039f"
             ],
             [
              0.2222222222222222,
              "#7201a8"
             ],
             [
              0.3333333333333333,
              "#9c179e"
             ],
             [
              0.4444444444444444,
              "#bd3786"
             ],
             [
              0.5555555555555556,
              "#d8576b"
             ],
             [
              0.6666666666666666,
              "#ed7953"
             ],
             [
              0.7777777777777778,
              "#fb9f3a"
             ],
             [
              0.8888888888888888,
              "#fdca26"
             ],
             [
              1,
              "#f0f921"
             ]
            ],
            "type": "heatmapgl"
           }
          ],
          "histogram": [
           {
            "marker": {
             "pattern": {
              "fillmode": "overlay",
              "size": 10,
              "solidity": 0.2
             }
            },
            "type": "histogram"
           }
          ],
          "histogram2d": [
           {
            "colorbar": {
             "outlinewidth": 0,
             "ticks": ""
            },
            "colorscale": [
             [
              0,
              "#0d0887"
             ],
             [
              0.1111111111111111,
              "#46039f"
             ],
             [
              0.2222222222222222,
              "#7201a8"
             ],
             [
              0.3333333333333333,
              "#9c179e"
             ],
             [
              0.4444444444444444,
              "#bd3786"
             ],
             [
              0.5555555555555556,
              "#d8576b"
             ],
             [
              0.6666666666666666,
              "#ed7953"
             ],
             [
              0.7777777777777778,
              "#fb9f3a"
             ],
             [
              0.8888888888888888,
              "#fdca26"
             ],
             [
              1,
              "#f0f921"
             ]
            ],
            "type": "histogram2d"
           }
          ],
          "histogram2dcontour": [
           {
            "colorbar": {
             "outlinewidth": 0,
             "ticks": ""
            },
            "colorscale": [
             [
              0,
              "#0d0887"
             ],
             [
              0.1111111111111111,
              "#46039f"
             ],
             [
              0.2222222222222222,
              "#7201a8"
             ],
             [
              0.3333333333333333,
              "#9c179e"
             ],
             [
              0.4444444444444444,
              "#bd3786"
             ],
             [
              0.5555555555555556,
              "#d8576b"
             ],
             [
              0.6666666666666666,
              "#ed7953"
             ],
             [
              0.7777777777777778,
              "#fb9f3a"
             ],
             [
              0.8888888888888888,
              "#fdca26"
             ],
             [
              1,
              "#f0f921"
             ]
            ],
            "type": "histogram2dcontour"
           }
          ],
          "mesh3d": [
           {
            "colorbar": {
             "outlinewidth": 0,
             "ticks": ""
            },
            "type": "mesh3d"
           }
          ],
          "parcoords": [
           {
            "line": {
             "colorbar": {
              "outlinewidth": 0,
              "ticks": ""
             }
            },
            "type": "parcoords"
           }
          ],
          "pie": [
           {
            "automargin": true,
            "type": "pie"
           }
          ],
          "scatter": [
           {
            "fillpattern": {
             "fillmode": "overlay",
             "size": 10,
             "solidity": 0.2
            },
            "type": "scatter"
           }
          ],
          "scatter3d": [
           {
            "line": {
             "colorbar": {
              "outlinewidth": 0,
              "ticks": ""
             }
            },
            "marker": {
             "colorbar": {
              "outlinewidth": 0,
              "ticks": ""
             }
            },
            "type": "scatter3d"
           }
          ],
          "scattercarpet": [
           {
            "marker": {
             "colorbar": {
              "outlinewidth": 0,
              "ticks": ""
             }
            },
            "type": "scattercarpet"
           }
          ],
          "scattergeo": [
           {
            "marker": {
             "colorbar": {
              "outlinewidth": 0,
              "ticks": ""
             }
            },
            "type": "scattergeo"
           }
          ],
          "scattergl": [
           {
            "marker": {
             "colorbar": {
              "outlinewidth": 0,
              "ticks": ""
             }
            },
            "type": "scattergl"
           }
          ],
          "scattermapbox": [
           {
            "marker": {
             "colorbar": {
              "outlinewidth": 0,
              "ticks": ""
             }
            },
            "type": "scattermapbox"
           }
          ],
          "scatterpolar": [
           {
            "marker": {
             "colorbar": {
              "outlinewidth": 0,
              "ticks": ""
             }
            },
            "type": "scatterpolar"
           }
          ],
          "scatterpolargl": [
           {
            "marker": {
             "colorbar": {
              "outlinewidth": 0,
              "ticks": ""
             }
            },
            "type": "scatterpolargl"
           }
          ],
          "scatterternary": [
           {
            "marker": {
             "colorbar": {
              "outlinewidth": 0,
              "ticks": ""
             }
            },
            "type": "scatterternary"
           }
          ],
          "surface": [
           {
            "colorbar": {
             "outlinewidth": 0,
             "ticks": ""
            },
            "colorscale": [
             [
              0,
              "#0d0887"
             ],
             [
              0.1111111111111111,
              "#46039f"
             ],
             [
              0.2222222222222222,
              "#7201a8"
             ],
             [
              0.3333333333333333,
              "#9c179e"
             ],
             [
              0.4444444444444444,
              "#bd3786"
             ],
             [
              0.5555555555555556,
              "#d8576b"
             ],
             [
              0.6666666666666666,
              "#ed7953"
             ],
             [
              0.7777777777777778,
              "#fb9f3a"
             ],
             [
              0.8888888888888888,
              "#fdca26"
             ],
             [
              1,
              "#f0f921"
             ]
            ],
            "type": "surface"
           }
          ],
          "table": [
           {
            "cells": {
             "fill": {
              "color": "#EBF0F8"
             },
             "line": {
              "color": "white"
             }
            },
            "header": {
             "fill": {
              "color": "#C8D4E3"
             },
             "line": {
              "color": "white"
             }
            },
            "type": "table"
           }
          ]
         },
         "layout": {
          "annotationdefaults": {
           "arrowcolor": "#2a3f5f",
           "arrowhead": 0,
           "arrowwidth": 1
          },
          "autotypenumbers": "strict",
          "coloraxis": {
           "colorbar": {
            "outlinewidth": 0,
            "ticks": ""
           }
          },
          "colorscale": {
           "diverging": [
            [
             0,
             "#8e0152"
            ],
            [
             0.1,
             "#c51b7d"
            ],
            [
             0.2,
             "#de77ae"
            ],
            [
             0.3,
             "#f1b6da"
            ],
            [
             0.4,
             "#fde0ef"
            ],
            [
             0.5,
             "#f7f7f7"
            ],
            [
             0.6,
             "#e6f5d0"
            ],
            [
             0.7,
             "#b8e186"
            ],
            [
             0.8,
             "#7fbc41"
            ],
            [
             0.9,
             "#4d9221"
            ],
            [
             1,
             "#276419"
            ]
           ],
           "sequential": [
            [
             0,
             "#0d0887"
            ],
            [
             0.1111111111111111,
             "#46039f"
            ],
            [
             0.2222222222222222,
             "#7201a8"
            ],
            [
             0.3333333333333333,
             "#9c179e"
            ],
            [
             0.4444444444444444,
             "#bd3786"
            ],
            [
             0.5555555555555556,
             "#d8576b"
            ],
            [
             0.6666666666666666,
             "#ed7953"
            ],
            [
             0.7777777777777778,
             "#fb9f3a"
            ],
            [
             0.8888888888888888,
             "#fdca26"
            ],
            [
             1,
             "#f0f921"
            ]
           ],
           "sequentialminus": [
            [
             0,
             "#0d0887"
            ],
            [
             0.1111111111111111,
             "#46039f"
            ],
            [
             0.2222222222222222,
             "#7201a8"
            ],
            [
             0.3333333333333333,
             "#9c179e"
            ],
            [
             0.4444444444444444,
             "#bd3786"
            ],
            [
             0.5555555555555556,
             "#d8576b"
            ],
            [
             0.6666666666666666,
             "#ed7953"
            ],
            [
             0.7777777777777778,
             "#fb9f3a"
            ],
            [
             0.8888888888888888,
             "#fdca26"
            ],
            [
             1,
             "#f0f921"
            ]
           ]
          },
          "colorway": [
           "#636efa",
           "#EF553B",
           "#00cc96",
           "#ab63fa",
           "#FFA15A",
           "#19d3f3",
           "#FF6692",
           "#B6E880",
           "#FF97FF",
           "#FECB52"
          ],
          "font": {
           "color": "#2a3f5f"
          },
          "geo": {
           "bgcolor": "white",
           "lakecolor": "white",
           "landcolor": "#E5ECF6",
           "showlakes": true,
           "showland": true,
           "subunitcolor": "white"
          },
          "hoverlabel": {
           "align": "left"
          },
          "hovermode": "closest",
          "mapbox": {
           "style": "light"
          },
          "paper_bgcolor": "white",
          "plot_bgcolor": "#E5ECF6",
          "polar": {
           "angularaxis": {
            "gridcolor": "white",
            "linecolor": "white",
            "ticks": ""
           },
           "bgcolor": "#E5ECF6",
           "radialaxis": {
            "gridcolor": "white",
            "linecolor": "white",
            "ticks": ""
           }
          },
          "scene": {
           "xaxis": {
            "backgroundcolor": "#E5ECF6",
            "gridcolor": "white",
            "gridwidth": 2,
            "linecolor": "white",
            "showbackground": true,
            "ticks": "",
            "zerolinecolor": "white"
           },
           "yaxis": {
            "backgroundcolor": "#E5ECF6",
            "gridcolor": "white",
            "gridwidth": 2,
            "linecolor": "white",
            "showbackground": true,
            "ticks": "",
            "zerolinecolor": "white"
           },
           "zaxis": {
            "backgroundcolor": "#E5ECF6",
            "gridcolor": "white",
            "gridwidth": 2,
            "linecolor": "white",
            "showbackground": true,
            "ticks": "",
            "zerolinecolor": "white"
           }
          },
          "shapedefaults": {
           "line": {
            "color": "#2a3f5f"
           }
          },
          "ternary": {
           "aaxis": {
            "gridcolor": "white",
            "linecolor": "white",
            "ticks": ""
           },
           "baxis": {
            "gridcolor": "white",
            "linecolor": "white",
            "ticks": ""
           },
           "bgcolor": "#E5ECF6",
           "caxis": {
            "gridcolor": "white",
            "linecolor": "white",
            "ticks": ""
           }
          },
          "title": {
           "x": 0.05
          },
          "xaxis": {
           "automargin": true,
           "gridcolor": "white",
           "linecolor": "white",
           "ticks": "",
           "title": {
            "standoff": 15
           },
           "zerolinecolor": "white",
           "zerolinewidth": 2
          },
          "yaxis": {
           "automargin": true,
           "gridcolor": "white",
           "linecolor": "white",
           "ticks": "",
           "title": {
            "standoff": 15
           },
           "zerolinecolor": "white",
           "zerolinewidth": 2
          }
         }
        },
        "title": {
         "font": {
          "family": "Gulliver",
          "size": 40
         },
         "text": "Stepwise Selection",
         "x": 0.5
        },
        "width": 1200,
        "xaxis": {
         "title": {
          "font": {
           "family": "Gulliver",
           "size": 24
          },
          "text": "Number of Features"
         }
        },
        "yaxis": {
         "title": {
          "font": {
           "family": "Gulliver",
           "size": 24
          },
          "text": "Performence (F1)"
         }
        }
       }
      }
     },
     "metadata": {},
     "output_type": "display_data"
    }
   ],
   "source": [
    "import plotly.graph_objects as go\n",
    "\n",
    "metric_dict = sfs.get_metric_dict()\n",
    "k_features = list(metric_dict.keys())\n",
    "avg_scores = np.array([metric_dict[k]['avg_score'] for k in k_features])\n",
    "std_devs = np.array([metric_dict[k]['std_dev'] for k in k_features])\n",
    "\n",
    "fig = go.Figure()\n",
    "fig.add_trace(\n",
    "    go.Scatter(\n",
    "    x = k_features, y = avg_scores, \n",
    "    mode = 'lines+markers', name = 'Average Score'\n",
    "    )\n",
    ")\n",
    "\n",
    "fig.update_layout(\n",
    "    title = {\n",
    "        'text': 'Stepwise Selection',\n",
    "        'font': {\n",
    "            'size': 40, 'family': 'Gulliver'\n",
    "        }, 'x': 0.5\n",
    "    }, \n",
    "    xaxis_title = {\n",
    "        'text': 'Number of Features',\n",
    "        'font': {\n",
    "            'size': 24, 'family': 'Gulliver'\n",
    "        }\n",
    "    }, \n",
    "    yaxis_title = {\n",
    "        'text': 'Performence (F1)',\n",
    "        'font': {\n",
    "            'size': 24, 'family': 'Gulliver'\n",
    "        }\n",
    "    }, \n",
    "    width = 1200, height = 800\n",
    ")\n",
    "\n",
    "fig.show()"
   ]
  },
  {
   "attachments": {},
   "cell_type": "markdown",
   "metadata": {},
   "source": [
    "## Lasso"
   ]
  },
  {
   "cell_type": "code",
   "execution_count": 6,
   "metadata": {},
   "outputs": [
    {
     "name": "stdout",
     "output_type": "stream",
     "text": [
      "Best alpha: {'alpha': 0.001, 'selection': 'random'}\n",
      "Best scores: 0.7107288238394426\n",
      "['volatile acidity' 'free sulfur dioxide' 'sulphates' 'quality']\n"
     ]
    }
   ],
   "source": [
    "X = df.drop(['wine'], axis = 1)\n",
    "y = df.wine\n",
    "\n",
    "lasso = Lasso()\n",
    "params = {\n",
    "    'alpha': [10**i for i in range(-3, 4)],\n",
    "    'selection': ['cyclic', 'random']\n",
    "}\n",
    "gridlasso = GridSearchCV(lasso, param_grid = params, cv = kf)\n",
    "gridlasso.fit(X, y)\n",
    "\n",
    "print(\"Best alpha:\", gridlasso.best_params_)\n",
    "print(\"Best scores:\", gridlasso.best_score_)\n",
    "\n",
    "coefficients = gridlasso.best_estimator_.coef_\n",
    "importance = np.abs(coefficients)\n",
    "print(np.array(X.columns)[importance > 0.01])"
   ]
  },
  {
   "cell_type": "code",
   "execution_count": 7,
   "metadata": {},
   "outputs": [
    {
     "data": {
      "application/vnd.plotly.v1+json": {
       "config": {
        "plotlyServerURL": "https://plotly.com"
       },
       "data": [
        {
         "mode": "lines+markers",
         "type": "scatter",
         "x": [
          -3,
          -3,
          -2,
          -2,
          -1,
          -1,
          0,
          0,
          1,
          1,
          2,
          2,
          3,
          3
         ],
         "y": [
          0.7107286995877651,
          0.7107288238394426,
          0.5326360714396454,
          0.5326350190691961,
          0.5142194172095772,
          0.5142194172095772,
          0.5082939066287713,
          0.5082939066287713,
          -0.0000010804251805218711,
          -0.0000010804251805218711,
          -0.0000010804251805218711,
          -0.0000010804251805218711,
          -0.0000010804251805218711,
          -0.0000010804251805218711
         ]
        }
       ],
       "layout": {
        "height": 800,
        "template": {
         "data": {
          "bar": [
           {
            "error_x": {
             "color": "#2a3f5f"
            },
            "error_y": {
             "color": "#2a3f5f"
            },
            "marker": {
             "line": {
              "color": "#E5ECF6",
              "width": 0.5
             },
             "pattern": {
              "fillmode": "overlay",
              "size": 10,
              "solidity": 0.2
             }
            },
            "type": "bar"
           }
          ],
          "barpolar": [
           {
            "marker": {
             "line": {
              "color": "#E5ECF6",
              "width": 0.5
             },
             "pattern": {
              "fillmode": "overlay",
              "size": 10,
              "solidity": 0.2
             }
            },
            "type": "barpolar"
           }
          ],
          "carpet": [
           {
            "aaxis": {
             "endlinecolor": "#2a3f5f",
             "gridcolor": "white",
             "linecolor": "white",
             "minorgridcolor": "white",
             "startlinecolor": "#2a3f5f"
            },
            "baxis": {
             "endlinecolor": "#2a3f5f",
             "gridcolor": "white",
             "linecolor": "white",
             "minorgridcolor": "white",
             "startlinecolor": "#2a3f5f"
            },
            "type": "carpet"
           }
          ],
          "choropleth": [
           {
            "colorbar": {
             "outlinewidth": 0,
             "ticks": ""
            },
            "type": "choropleth"
           }
          ],
          "contour": [
           {
            "colorbar": {
             "outlinewidth": 0,
             "ticks": ""
            },
            "colorscale": [
             [
              0,
              "#0d0887"
             ],
             [
              0.1111111111111111,
              "#46039f"
             ],
             [
              0.2222222222222222,
              "#7201a8"
             ],
             [
              0.3333333333333333,
              "#9c179e"
             ],
             [
              0.4444444444444444,
              "#bd3786"
             ],
             [
              0.5555555555555556,
              "#d8576b"
             ],
             [
              0.6666666666666666,
              "#ed7953"
             ],
             [
              0.7777777777777778,
              "#fb9f3a"
             ],
             [
              0.8888888888888888,
              "#fdca26"
             ],
             [
              1,
              "#f0f921"
             ]
            ],
            "type": "contour"
           }
          ],
          "contourcarpet": [
           {
            "colorbar": {
             "outlinewidth": 0,
             "ticks": ""
            },
            "type": "contourcarpet"
           }
          ],
          "heatmap": [
           {
            "colorbar": {
             "outlinewidth": 0,
             "ticks": ""
            },
            "colorscale": [
             [
              0,
              "#0d0887"
             ],
             [
              0.1111111111111111,
              "#46039f"
             ],
             [
              0.2222222222222222,
              "#7201a8"
             ],
             [
              0.3333333333333333,
              "#9c179e"
             ],
             [
              0.4444444444444444,
              "#bd3786"
             ],
             [
              0.5555555555555556,
              "#d8576b"
             ],
             [
              0.6666666666666666,
              "#ed7953"
             ],
             [
              0.7777777777777778,
              "#fb9f3a"
             ],
             [
              0.8888888888888888,
              "#fdca26"
             ],
             [
              1,
              "#f0f921"
             ]
            ],
            "type": "heatmap"
           }
          ],
          "heatmapgl": [
           {
            "colorbar": {
             "outlinewidth": 0,
             "ticks": ""
            },
            "colorscale": [
             [
              0,
              "#0d0887"
             ],
             [
              0.1111111111111111,
              "#46039f"
             ],
             [
              0.2222222222222222,
              "#7201a8"
             ],
             [
              0.3333333333333333,
              "#9c179e"
             ],
             [
              0.4444444444444444,
              "#bd3786"
             ],
             [
              0.5555555555555556,
              "#d8576b"
             ],
             [
              0.6666666666666666,
              "#ed7953"
             ],
             [
              0.7777777777777778,
              "#fb9f3a"
             ],
             [
              0.8888888888888888,
              "#fdca26"
             ],
             [
              1,
              "#f0f921"
             ]
            ],
            "type": "heatmapgl"
           }
          ],
          "histogram": [
           {
            "marker": {
             "pattern": {
              "fillmode": "overlay",
              "size": 10,
              "solidity": 0.2
             }
            },
            "type": "histogram"
           }
          ],
          "histogram2d": [
           {
            "colorbar": {
             "outlinewidth": 0,
             "ticks": ""
            },
            "colorscale": [
             [
              0,
              "#0d0887"
             ],
             [
              0.1111111111111111,
              "#46039f"
             ],
             [
              0.2222222222222222,
              "#7201a8"
             ],
             [
              0.3333333333333333,
              "#9c179e"
             ],
             [
              0.4444444444444444,
              "#bd3786"
             ],
             [
              0.5555555555555556,
              "#d8576b"
             ],
             [
              0.6666666666666666,
              "#ed7953"
             ],
             [
              0.7777777777777778,
              "#fb9f3a"
             ],
             [
              0.8888888888888888,
              "#fdca26"
             ],
             [
              1,
              "#f0f921"
             ]
            ],
            "type": "histogram2d"
           }
          ],
          "histogram2dcontour": [
           {
            "colorbar": {
             "outlinewidth": 0,
             "ticks": ""
            },
            "colorscale": [
             [
              0,
              "#0d0887"
             ],
             [
              0.1111111111111111,
              "#46039f"
             ],
             [
              0.2222222222222222,
              "#7201a8"
             ],
             [
              0.3333333333333333,
              "#9c179e"
             ],
             [
              0.4444444444444444,
              "#bd3786"
             ],
             [
              0.5555555555555556,
              "#d8576b"
             ],
             [
              0.6666666666666666,
              "#ed7953"
             ],
             [
              0.7777777777777778,
              "#fb9f3a"
             ],
             [
              0.8888888888888888,
              "#fdca26"
             ],
             [
              1,
              "#f0f921"
             ]
            ],
            "type": "histogram2dcontour"
           }
          ],
          "mesh3d": [
           {
            "colorbar": {
             "outlinewidth": 0,
             "ticks": ""
            },
            "type": "mesh3d"
           }
          ],
          "parcoords": [
           {
            "line": {
             "colorbar": {
              "outlinewidth": 0,
              "ticks": ""
             }
            },
            "type": "parcoords"
           }
          ],
          "pie": [
           {
            "automargin": true,
            "type": "pie"
           }
          ],
          "scatter": [
           {
            "fillpattern": {
             "fillmode": "overlay",
             "size": 10,
             "solidity": 0.2
            },
            "type": "scatter"
           }
          ],
          "scatter3d": [
           {
            "line": {
             "colorbar": {
              "outlinewidth": 0,
              "ticks": ""
             }
            },
            "marker": {
             "colorbar": {
              "outlinewidth": 0,
              "ticks": ""
             }
            },
            "type": "scatter3d"
           }
          ],
          "scattercarpet": [
           {
            "marker": {
             "colorbar": {
              "outlinewidth": 0,
              "ticks": ""
             }
            },
            "type": "scattercarpet"
           }
          ],
          "scattergeo": [
           {
            "marker": {
             "colorbar": {
              "outlinewidth": 0,
              "ticks": ""
             }
            },
            "type": "scattergeo"
           }
          ],
          "scattergl": [
           {
            "marker": {
             "colorbar": {
              "outlinewidth": 0,
              "ticks": ""
             }
            },
            "type": "scattergl"
           }
          ],
          "scattermapbox": [
           {
            "marker": {
             "colorbar": {
              "outlinewidth": 0,
              "ticks": ""
             }
            },
            "type": "scattermapbox"
           }
          ],
          "scatterpolar": [
           {
            "marker": {
             "colorbar": {
              "outlinewidth": 0,
              "ticks": ""
             }
            },
            "type": "scatterpolar"
           }
          ],
          "scatterpolargl": [
           {
            "marker": {
             "colorbar": {
              "outlinewidth": 0,
              "ticks": ""
             }
            },
            "type": "scatterpolargl"
           }
          ],
          "scatterternary": [
           {
            "marker": {
             "colorbar": {
              "outlinewidth": 0,
              "ticks": ""
             }
            },
            "type": "scatterternary"
           }
          ],
          "surface": [
           {
            "colorbar": {
             "outlinewidth": 0,
             "ticks": ""
            },
            "colorscale": [
             [
              0,
              "#0d0887"
             ],
             [
              0.1111111111111111,
              "#46039f"
             ],
             [
              0.2222222222222222,
              "#7201a8"
             ],
             [
              0.3333333333333333,
              "#9c179e"
             ],
             [
              0.4444444444444444,
              "#bd3786"
             ],
             [
              0.5555555555555556,
              "#d8576b"
             ],
             [
              0.6666666666666666,
              "#ed7953"
             ],
             [
              0.7777777777777778,
              "#fb9f3a"
             ],
             [
              0.8888888888888888,
              "#fdca26"
             ],
             [
              1,
              "#f0f921"
             ]
            ],
            "type": "surface"
           }
          ],
          "table": [
           {
            "cells": {
             "fill": {
              "color": "#EBF0F8"
             },
             "line": {
              "color": "white"
             }
            },
            "header": {
             "fill": {
              "color": "#C8D4E3"
             },
             "line": {
              "color": "white"
             }
            },
            "type": "table"
           }
          ]
         },
         "layout": {
          "annotationdefaults": {
           "arrowcolor": "#2a3f5f",
           "arrowhead": 0,
           "arrowwidth": 1
          },
          "autotypenumbers": "strict",
          "coloraxis": {
           "colorbar": {
            "outlinewidth": 0,
            "ticks": ""
           }
          },
          "colorscale": {
           "diverging": [
            [
             0,
             "#8e0152"
            ],
            [
             0.1,
             "#c51b7d"
            ],
            [
             0.2,
             "#de77ae"
            ],
            [
             0.3,
             "#f1b6da"
            ],
            [
             0.4,
             "#fde0ef"
            ],
            [
             0.5,
             "#f7f7f7"
            ],
            [
             0.6,
             "#e6f5d0"
            ],
            [
             0.7,
             "#b8e186"
            ],
            [
             0.8,
             "#7fbc41"
            ],
            [
             0.9,
             "#4d9221"
            ],
            [
             1,
             "#276419"
            ]
           ],
           "sequential": [
            [
             0,
             "#0d0887"
            ],
            [
             0.1111111111111111,
             "#46039f"
            ],
            [
             0.2222222222222222,
             "#7201a8"
            ],
            [
             0.3333333333333333,
             "#9c179e"
            ],
            [
             0.4444444444444444,
             "#bd3786"
            ],
            [
             0.5555555555555556,
             "#d8576b"
            ],
            [
             0.6666666666666666,
             "#ed7953"
            ],
            [
             0.7777777777777778,
             "#fb9f3a"
            ],
            [
             0.8888888888888888,
             "#fdca26"
            ],
            [
             1,
             "#f0f921"
            ]
           ],
           "sequentialminus": [
            [
             0,
             "#0d0887"
            ],
            [
             0.1111111111111111,
             "#46039f"
            ],
            [
             0.2222222222222222,
             "#7201a8"
            ],
            [
             0.3333333333333333,
             "#9c179e"
            ],
            [
             0.4444444444444444,
             "#bd3786"
            ],
            [
             0.5555555555555556,
             "#d8576b"
            ],
            [
             0.6666666666666666,
             "#ed7953"
            ],
            [
             0.7777777777777778,
             "#fb9f3a"
            ],
            [
             0.8888888888888888,
             "#fdca26"
            ],
            [
             1,
             "#f0f921"
            ]
           ]
          },
          "colorway": [
           "#636efa",
           "#EF553B",
           "#00cc96",
           "#ab63fa",
           "#FFA15A",
           "#19d3f3",
           "#FF6692",
           "#B6E880",
           "#FF97FF",
           "#FECB52"
          ],
          "font": {
           "color": "#2a3f5f"
          },
          "geo": {
           "bgcolor": "white",
           "lakecolor": "white",
           "landcolor": "#E5ECF6",
           "showlakes": true,
           "showland": true,
           "subunitcolor": "white"
          },
          "hoverlabel": {
           "align": "left"
          },
          "hovermode": "closest",
          "mapbox": {
           "style": "light"
          },
          "paper_bgcolor": "white",
          "plot_bgcolor": "#E5ECF6",
          "polar": {
           "angularaxis": {
            "gridcolor": "white",
            "linecolor": "white",
            "ticks": ""
           },
           "bgcolor": "#E5ECF6",
           "radialaxis": {
            "gridcolor": "white",
            "linecolor": "white",
            "ticks": ""
           }
          },
          "scene": {
           "xaxis": {
            "backgroundcolor": "#E5ECF6",
            "gridcolor": "white",
            "gridwidth": 2,
            "linecolor": "white",
            "showbackground": true,
            "ticks": "",
            "zerolinecolor": "white"
           },
           "yaxis": {
            "backgroundcolor": "#E5ECF6",
            "gridcolor": "white",
            "gridwidth": 2,
            "linecolor": "white",
            "showbackground": true,
            "ticks": "",
            "zerolinecolor": "white"
           },
           "zaxis": {
            "backgroundcolor": "#E5ECF6",
            "gridcolor": "white",
            "gridwidth": 2,
            "linecolor": "white",
            "showbackground": true,
            "ticks": "",
            "zerolinecolor": "white"
           }
          },
          "shapedefaults": {
           "line": {
            "color": "#2a3f5f"
           }
          },
          "ternary": {
           "aaxis": {
            "gridcolor": "white",
            "linecolor": "white",
            "ticks": ""
           },
           "baxis": {
            "gridcolor": "white",
            "linecolor": "white",
            "ticks": ""
           },
           "bgcolor": "#E5ECF6",
           "caxis": {
            "gridcolor": "white",
            "linecolor": "white",
            "ticks": ""
           }
          },
          "title": {
           "x": 0.05
          },
          "xaxis": {
           "automargin": true,
           "gridcolor": "white",
           "linecolor": "white",
           "ticks": "",
           "title": {
            "standoff": 15
           },
           "zerolinecolor": "white",
           "zerolinewidth": 2
          },
          "yaxis": {
           "automargin": true,
           "gridcolor": "white",
           "linecolor": "white",
           "ticks": "",
           "title": {
            "standoff": 15
           },
           "zerolinecolor": "white",
           "zerolinewidth": 2
          }
         }
        },
        "title": {
         "font": {
          "family": "Gulliver",
          "size": 40
         },
         "text": "Lasso coefficients as a function of Log alpha",
         "x": 0.5
        },
        "width": 1200,
        "xaxis": {
         "title": {
          "font": {
           "family": "Gulliver",
           "size": 24
          },
          "text": "Log(alpha)"
         }
        },
        "yaxis": {
         "title": {
          "font": {
           "family": "Gulliver",
           "size": 24
          },
          "text": "Coefficient"
         }
        }
       }
      }
     },
     "metadata": {},
     "output_type": "display_data"
    }
   ],
   "source": [
    "best_lasso = gridlasso.best_estimator_\n",
    "\n",
    "alphas = np.array(gridlasso.cv_results_['param_alpha'].data, dtype = 'float')\n",
    "coefs = gridlasso.cv_results_['mean_test_score']\n",
    "\n",
    "fig = go.Figure()\n",
    "\n",
    "fig.add_trace(\n",
    "    go.Scatter(\n",
    "    x = np.log10(alphas), y = coefs, \n",
    "    mode = 'lines+markers'\n",
    "    )\n",
    ")\n",
    "\n",
    "fig.update_layout(\n",
    "    title = {\n",
    "        'text': 'Lasso coefficients as a function of Log alpha',\n",
    "        'font': {\n",
    "            'size': 40, 'family': 'Gulliver'\n",
    "        }, \n",
    "        'x': 0.5\n",
    "    }, \n",
    "    width = 1200, height = 800,\n",
    "    xaxis_title = {\n",
    "        'text': 'Log(alpha)',\n",
    "        'font': {\n",
    "            'size': 24, 'family': 'Gulliver'\n",
    "        }\n",
    "    }, \n",
    "    yaxis_title = {\n",
    "        'text': 'Coefficient',\n",
    "        'font': {'size': 24, 'family': 'Gulliver'}\n",
    "    }, \n",
    ")\n",
    "\n",
    "fig.show()"
   ]
  },
  {
   "attachments": {},
   "cell_type": "markdown",
   "metadata": {},
   "source": [
    "## Feature Group"
   ]
  },
  {
   "cell_type": "code",
   "execution_count": 17,
   "metadata": {},
   "outputs": [
    {
     "name": "stdout",
     "output_type": "stream",
     "text": [
      "['fixed acidity', 'volatile acidity', 'citric acid', 'residual sugar', 'chlorides', 'free sulfur dioxide', 'total sulfur dioxide', 'pH', 'sulphates', 'alcohol']\n"
     ]
    }
   ],
   "source": [
    "Stepwise = ['fixed acidity', 'volatile acidity', 'citric acid', 'residual sugar', 'chlorides', 'free sulfur dioxide', 'total sulfur dioxide']\n",
    "Lasso =  ['fixed acidity', 'volatile acidity', 'chlorides', 'pH', 'sulphates', 'alcohol']\n",
    "\n",
    "feature = []\n",
    "\n",
    "for i in df.drop('wine', axis = 1).columns:\n",
    "    for i in Stepwise:\n",
    "        if i not in feature:\n",
    "            feature.append(i)\n",
    "        else:\n",
    "            continue\n",
    "    for i in Lasso:\n",
    "        if i not in feature:\n",
    "            feature.append(i)\n",
    "        else:\n",
    "            continue\n",
    "print(feature)"
   ]
  },
  {
   "attachments": {},
   "cell_type": "markdown",
   "metadata": {},
   "source": [
    "# Model"
   ]
  },
  {
   "cell_type": "code",
   "execution_count": 18,
   "metadata": {},
   "outputs": [],
   "source": [
    "X = df[feature]\n",
    "y = df.wine\n",
    "\n",
    "x_train, x_test, y_train, y_test = train_test_split(X, y, shuffle = True, random_state = 42)\n",
    "\n",
    "scl = StandardScaler()\n",
    "x_train = scl.fit_transform(x_train)\n",
    "x_test = scl.transform(x_test)\n",
    "\n",
    "lr = LogisticRegression(C = 10000, penalty = 'l2', solver = 'lbfgs')\n",
    "model = lr.fit(x_train, y_train)\n",
    "y_pred = model.predict(x_test)"
   ]
  },
  {
   "attachments": {},
   "cell_type": "markdown",
   "metadata": {},
   "source": [
    "## Model Performance"
   ]
  },
  {
   "cell_type": "code",
   "execution_count": 19,
   "metadata": {},
   "outputs": [
    {
     "name": "stdout",
     "output_type": "stream",
     "text": [
      "[10/10] features ████████████████████ Time elapsed: 0 seconds"
     ]
    },
    {
     "data": {
      "text/plain": [
       "Text(0.5, 1.0, 'Feature Importance of Logistic Regression')"
      ]
     },
     "execution_count": 19,
     "metadata": {},
     "output_type": "execute_result"
    },
    {
     "data": {
      "image/png": "[encoded data removed]",
      "text/plain": [
       "<Figure size 640x480 with 1 Axes>"
      ]
     },
     "metadata": {},
     "output_type": "display_data"
    }
   ],
   "source": [
    "interpreter = Interpretation(\n",
    "    x_test, feature_names = X.columns\n",
    ")\n",
    "\n",
    "pyint_model = InMemoryModel(\n",
    "    lr.predict_proba,\n",
    "    examples = x_train\n",
    ")\n",
    "\n",
    "plots= interpreter.feature_importance.plot_feature_importance(pyint_model, ascending = False, progressbar = True)\n",
    "plt.title('Feature Importance of Logistic Regression')"
   ]
  },
  {
   "attachments": {},
   "cell_type": "markdown",
   "metadata": {},
   "source": [
    "## Decision Region"
   ]
  },
  {
   "cell_type": "code",
   "execution_count": 21,
   "metadata": {},
   "outputs": [
    {
     "name": "stdout",
     "output_type": "stream",
     "text": [
      "1\n"
     ]
    }
   ],
   "source": [
    "feature_name = 'volatile acidity'\n",
    "feature_num = X.columns.get_loc(feature_name)\n",
    "print(feature_num)"
   ]
  },
  {
   "attachments": {},
   "cell_type": "markdown",
   "metadata": {},
   "source": [
    "### With mlxtend.plotting plot_decision_regions()"
   ]
  },
  {
   "cell_type": "code",
   "execution_count": 24,
   "metadata": {},
   "outputs": [
    {
     "data": {
      "image/png": "[encoded data removed]",
      "text/plain": [
       "<Figure size 640x480 with 1 Axes>"
      ]
     },
     "metadata": {},
     "output_type": "display_data"
    }
   ],
   "source": [
    "plot_decision_regions(\n",
    "    x_test[:, [6, 1]], \n",
    "    y_test.values, \n",
    "    clf = LogisticRegression(C = 10000, penalty = 'l2', solver = 'lbfgs').fit(x_train[:, [6, 1]], y_train.values),\n",
    "    colors='#fffacd,#a00028'\n",
    ")\n",
    "\n",
    "plt.title('Decision Region')\n",
    "plt.xlabel('total sulfur dioxide')\n",
    "plt.ylabel('volatile acidity')\n",
    "plt.show()"
   ]
  },
  {
   "attachments": {},
   "cell_type": "markdown",
   "metadata": {},
   "source": [
    "### With Scatter plot of Plotly"
   ]
  },
  {
   "cell_type": "code",
   "execution_count": 11,
   "metadata": {},
   "outputs": [
    {
     "data": {
      "application/vnd.plotly.v1+json": {
       "config": {
        "plotlyServerURL": "https://plotly.com"
       },
       "data": [
        {
         "marker": {
          "color": [
           0,
           1,
           0,
           0,
           0,
           1,
           0,
           0,
           1,
           0,
           0,
           0,
           0,
           1,
           0,
           0,
           1,
           0,
           0,
           0,
           0,
           0,
           0,
           0,
           0,
           0,
           0,
           0,
           1,
           1,
           1,
           0,
           1,
           0,
           1,
           0,
           1,
           1,
           0,
           0,
           0,
           1,
           0,
           0,
           1,
           0,
           0,
           1,
           1,
           0,
           1,
           1,
           0,
           1,
           0,
           0,
           1,
           0,
           0,
           0,
           0,
           0,
           1,
           0,
           0,
           0,
           1,
           0,
           0,
           0,
           0,
           1,
           0,
           0,
           0,
           0,
           0,
           0,
           0,
           0,
           1,
           0,
           1,
           0,
           1,
           0,
           1,
           1,
           1,
           0,
           1,
           0,
           0,
           0,
           1,
           0,
           1,
           0,
           0,
           0,
           1,
           0,
           0,
           0,
           1,
           0,
           0,
           0,
           0,
           0,
           0,
           0,
           1,
           0,
           0,
           0,
           0,
           0,
           1,
           0,
           0,
           0,
           0,
           0,
           0,
           0,
           0,
           0,
           1,
           1,
           1,
           1,
           0,
           0,
           0,
           0,
           0,
           0,
           0,
           0,
           0,
           0,
           1,
           0,
           0,
           0,
           0,
           0,
           0,
           1,
           0,
           1,
           0,
           0,
           0,
           0,
           1,
           0,
           1,
           0,
           0,
           0,
           0,
           0,
           0,
           0,
           1,
           0,
           0,
           0,
           0,
           0,
           0,
           0,
           0,
           0,
           1,
           1,
           0,
           0,
           0,
           0,
           0,
           0,
           0,
           0,
           0,
           0,
           1,
           1,
           0,
           1,
           0,
           1,
           0,
           0,
           1,
           0,
           0,
           0,
           0,
           0,
           1,
           0,
           0,
           0,
           0,
           1,
           0,
           1,
           1,
           0,
           0,
           1,
           0,
           0,
           0,
           0,
           0,
           0,
           1,
           0,
           0,
           0,
           0,
           0,
           1,
           1,
           0,
           0,
           0,
           0,
           0,
           0,
           0,
           0,
           0,
           0,
           0,
           0,
           1,
           0,
           0,
           0,
           0,
           0,
           1,
           0,
           0,
           0,
           0,
           0,
           0,
           1,
           0,
           0,
           0,
           0,
           1,
           0,
           0,
           0,
           1,
           0,
           0,
           0,
           0,
           0,
           0,
           0,
           0,
           0,
           0,
           1,
           0,
           0,
           0,
           0,
           0,
           0,
           0,
           0,
           0,
           1,
           0,
           0,
           0,
           0,
           0,
           1,
           0,
           1,
           0,
           0,
           0,
           0,
           0,
           0,
           0,
           0,
           0,
           0,
           1,
           0,
           0,
           1,
           0,
           0,
           1,
           0,
           0,
           1,
           1,
           0,
           0,
           1,
           0,
           0,
           0,
           0,
           0,
           0,
           0,
           0,
           0,
           0,
           1,
           0,
           0,
           0,
           0,
           0,
           0,
           0,
           0,
           0,
           1,
           1,
           1,
           1,
           1,
           0,
           0,
           1,
           0,
           0,
           1,
           0,
           1,
           0,
           0,
           0,
           1,
           0,
           0,
           0,
           0,
           0,
           0,
           1,
           0,
           0,
           0,
           0,
           0,
           0,
           1,
           1,
           1,
           0,
           0,
           1,
           0,
           0,
           1,
           0,
           0,
           1,
           0,
           1,
           0,
           1,
           0,
           0,
           0,
           0,
           1,
           0,
           1,
           0,
           1,
           0,
           1,
           1,
           1,
           0,
           0,
           0,
           0,
           0,
           0,
           0,
           0,
           0,
           1,
           1,
           1,
           1,
           0,
           0,
           0,
           1,
           1,
           1,
           0,
           0,
           0,
           0,
           0,
           0,
           1,
           0,
           0,
           0,
           0,
           0,
           1,
           1,
           1,
           0,
           0,
           0,
           0,
           0,
           0,
           0,
           0,
           0,
           1,
           0,
           1,
           1,
           1,
           1,
           0,
           1,
           0,
           1,
           0,
           0,
           0,
           1,
           0,
           0,
           0,
           0,
           0,
           0,
           0,
           0,
           0,
           0,
           1,
           0,
           0,
           1,
           1,
           0,
           0,
           0,
           0,
           1,
           0,
           1,
           0,
           0,
           0,
           0,
           0,
           0,
           0,
           0,
           0,
           0,
           1,
           0,
           1,
           0,
           0,
           1,
           0,
           0,
           0,
           1,
           0,
           0,
           0,
           1,
           0,
           0,
           0,
           0,
           0,
           0,
           0,
           0,
           0,
           1,
           0,
           1,
           0,
           0,
           0,
           1,
           0,
           1,
           0,
           0,
           0,
           0,
           0,
           0,
           1,
           1,
           0,
           1,
           1,
           0,
           0,
           0,
           1,
           1,
           0,
           0,
           1,
           1,
           0,
           0,
           1,
           1,
           0,
           0,
           0,
           1,
           0,
           0,
           0,
           0,
           1,
           0,
           1,
           0,
           1,
           1,
           0,
           1,
           0,
           1,
           1,
           0,
           0,
           0,
           0,
           0,
           0,
           0,
           1,
           0,
           1,
           0,
           0,
           0,
           0,
           0,
           0,
           1,
           0,
           1,
           1,
           0,
           1,
           0,
           0,
           1,
           0,
           1,
           0,
           0,
           0,
           0,
           1,
           0,
           0,
           0,
           0,
           0,
           0,
           0,
           0,
           0,
           0,
           1,
           0,
           0,
           0,
           0,
           0,
           1,
           0,
           1,
           0,
           0,
           0,
           0,
           1,
           1,
           0,
           1,
           0,
           0,
           0,
           0,
           0,
           1,
           0,
           1,
           1,
           0,
           0,
           0,
           0,
           0,
           0,
           0,
           0,
           0,
           0,
           1,
           0,
           0,
           0,
           1,
           0,
           0,
           0,
           0,
           1,
           0,
           0,
           0,
           0,
           0,
           0,
           0,
           1,
           0,
           1,
           0,
           0,
           0,
           1,
           0,
           0,
           0,
           0,
           1,
           0,
           1,
           0,
           1,
           1,
           0,
           0,
           1,
           0,
           0,
           0,
           0,
           1,
           1,
           0,
           0,
           0,
           0,
           0,
           0,
           0,
           1,
           1,
           0,
           0,
           0,
           1,
           1,
           0,
           1,
           0,
           1,
           0,
           0,
           0,
           0,
           0,
           0,
           0,
           1,
           0,
           1,
           1,
           0,
           1,
           0,
           0,
           0,
           0,
           0,
           0,
           0,
           0,
           1,
           0,
           0,
           0,
           0,
           1,
           0,
           1,
           0,
           0,
           0,
           0,
           0,
           0,
           0,
           0,
           0,
           0,
           1,
           0,
           0,
           0,
           0,
           0,
           0,
           0,
           1,
           0,
           0,
           1,
           0,
           1,
           0,
           0,
           1,
           0,
           0,
           0,
           0,
           0,
           0,
           0,
           0,
           0,
           0,
           0,
           0,
           1,
           1,
           0,
           0,
           0,
           0,
           0,
           0,
           0,
           0,
           0,
           0,
           0,
           0,
           1,
           1,
           0,
           0,
           1,
           0,
           0,
           0,
           0,
           0,
           0,
           0,
           1,
           1,
           0,
           0,
           0,
           0,
           0,
           0,
           0,
           0,
           0,
           1,
           0,
           0,
           0,
           0,
           0,
           0,
           0,
           0,
           0,
           0,
           0,
           0,
           0,
           0,
           1,
           0,
           1,
           0,
           0,
           0,
           0,
           0,
           0,
           0,
           0,
           0,
           0,
           0,
           0,
           0,
           0,
           0,
           0,
           0,
           1,
           0,
           0,
           1,
           0,
           0,
           0,
           0,
           1,
           0,
           0,
           1,
           0,
           1,
           0,
           1,
           0,
           1,
           0,
           1,
           0,
           1,
           0,
           0,
           1,
           0,
           1,
           1,
           1,
           1,
           0,
           1,
           1,
           0,
           1,
           1,
           1,
           0,
           1,
           0,
           1,
           0,
           0,
           0,
           1,
           0,
           0,
           0,
           0,
           0,
           0,
           1,
           0,
           1,
           0,
           0,
           1,
           1,
           1,
           0,
           0,
           0,
           0,
           0,
           1,
           0,
           0,
           1,
           0,
           0,
           1,
           0,
           1,
           0,
           0,
           0,
           0,
           0,
           0,
           1,
           0,
           0,
           0,
           0,
           0,
           0,
           1,
           0,
           0,
           0,
           1,
           1,
           0,
           0,
           0,
           1,
           0,
           0,
           1,
           1,
           0,
           0,
           0,
           0,
           0,
           1,
           0,
           0,
           1,
           0,
           1,
           0,
           0,
           1,
           0,
           1,
           0,
           0,
           0,
           0,
           0,
           0,
           0,
           0,
           0,
           1,
           0,
           1,
           0,
           0,
           0,
           0,
           1,
           1,
           0,
           0,
           0,
           0,
           0,
           0,
           0,
           0,
           1,
           0,
           0,
           1,
           0,
           1,
           0,
           1,
           0,
           1,
           0,
           0,
           0,
           0,
           1,
           0,
           0,
           0,
           0,
           0,
           1,
           1,
           1,
           0,
           0,
           1,
           0,
           0,
           0,
           1,
           1,
           0,
           0,
           0,
           0,
           0,
           0,
           0,
           1,
           1,
           0,
           0,
           0,
           0,
           0,
           1,
           0,
           0,
           1,
           0,
           0,
           1,
           0,
           0,
           0,
           0,
           0,
           0,
           0,
           0,
           0,
           0,
           0,
           0,
           0,
           0,
           0,
           0,
           0,
           0,
           0,
           0,
           0,
           0,
           0,
           0,
           1,
           0,
           0,
           1,
           1,
           0,
           0,
           0,
           0,
           0,
           1,
           0,
           0,
           0,
           1,
           1,
           0,
           0,
           1,
           0,
           0,
           0,
           1,
           1,
           0,
           0,
           0,
           0,
           0,
           0,
           0,
           0,
           0,
           0,
           0,
           0,
           0,
           0,
           0,
           1,
           0,
           0,
           0,
           0,
           0,
           1,
           1,
           0,
           0,
           0,
           0,
           0,
           1,
           1,
           0,
           0,
           0,
           0,
           0,
           1,
           1,
           0,
           0,
           0,
           1,
           1,
           0,
           1,
           1,
           1,
           0,
           0,
           0,
           0,
           1,
           0,
           0,
           0,
           0,
           0,
           1,
           0,
           0,
           1,
           0,
           0,
           1,
           0,
           0,
           1,
           1,
           1,
           0,
           0,
           0,
           0,
           1,
           1,
           0,
           0,
           0,
           0,
           0,
           0,
           0,
           0,
           1,
           0,
           0,
           0,
           0,
           0,
           1,
           0,
           1,
           0,
           1,
           0,
           0,
           0,
           0,
           1,
           0,
           0,
           1,
           0,
           1,
           1,
           0,
           0,
           1,
           1,
           1,
           0,
           0,
           0,
           0,
           0,
           1,
           0,
           0,
           0,
           0,
           0,
           0,
           0,
           0,
           0,
           0,
           0,
           0,
           0,
           0,
           0,
           0,
           0,
           0,
           0,
           0,
           1,
           0,
           1,
           1,
           0,
           0,
           0,
           0,
           1,
           0,
           0,
           0,
           0,
           0,
           0,
           1,
           0,
           0,
           0,
           0,
           0,
           0,
           0,
           0,
           0,
           1,
           0,
           1,
           0,
           0,
           0,
           0,
           0,
           0,
           0,
           0,
           0,
           0,
           0,
           0,
           0,
           0,
           1,
           0,
           1,
           1,
           0,
           0,
           1,
           1,
           1,
           0,
           1,
           0,
           0,
           1,
           0,
           0,
           0,
           0,
           0,
           0,
           0,
           0,
           0,
           1,
           0,
           0,
           0,
           0,
           0,
           0,
           1,
           0,
           1,
           0,
           0,
           0,
           1,
           1,
           1,
           0,
           0,
           0,
           0,
           0,
           1,
           1,
           0,
           0,
           1,
           0,
           1,
           1,
           0,
           0,
           0,
           0,
           0,
           0,
           1,
           0,
           0,
           0,
           0,
           0,
           0,
           0,
           0,
           0,
           0,
           1,
           1,
           0,
           0,
           0,
           0,
           0,
           0,
           1,
           0,
           1,
           1,
           1,
           0,
           0,
           0,
           1,
           0,
           0,
           1,
           0,
           1,
           0,
           0,
           1,
           0,
           1,
           0,
           0,
           0,
           0,
           0,
           1,
           0,
           0,
           0,
           0,
           0,
           0,
           1,
           0,
           1,
           1,
           0,
           0,
           0,
           0,
           1,
           0,
           0,
           0,
           0,
           1,
           1,
           0,
           0,
           0,
           1,
           1,
           0,
           0,
           1,
           0,
           1,
           0,
           0,
           0,
           1,
           0,
           1,
           0,
           0,
           0,
           0,
           0,
           0,
           0,
           0,
           0,
           0,
           1,
           0,
           0,
           0,
           0,
           0,
           1,
           1,
           1,
           0,
           0,
           0,
           0,
           0,
           0,
           1,
           1,
           0,
           0,
           0,
           0,
           1,
           0,
           0,
           0,
           0,
           0,
           0,
           0,
           0,
           1,
           0,
           0,
           0,
           1,
           0,
           0,
           0,
           1,
           1,
           0,
           0,
           1,
           0,
           1,
           0,
           0,
           1,
           0,
           1,
           1,
           0,
           0,
           0,
           0,
           1,
           1,
           0,
           0,
           0,
           0,
           1,
           0,
           1,
           0,
           1,
           0,
           1,
           0,
           1,
           0,
           0,
           0,
           1,
           1,
           1,
           0,
           0,
           0,
           0,
           1,
           1,
           0,
           0,
           0,
           0,
           0,
           0,
           0,
           0,
           0,
           0,
           1,
           1,
           1,
           0,
           0,
           1,
           0,
           0,
           0,
           0,
           0,
           0,
           0,
           0,
           0,
           0,
           1,
           1,
           0,
           1,
           1,
           1,
           0,
           0,
           0,
           1,
           0,
           0,
           0,
           0,
           0,
           0,
           0,
           0,
           0,
           0,
           1,
           0,
           1,
           0,
           0,
           0,
           0,
           0,
           1,
           0,
           0,
           0,
           0,
           1,
           0,
           0,
           1,
           0,
           1,
           1,
           1,
           1,
           0,
           0,
           1,
           1,
           0,
           1,
           1,
           0,
           0,
           0,
           0,
           0,
           0,
           0,
           0,
           0,
           1,
           1,
           0,
           0,
           0,
           0,
           1,
           0,
           0,
           0,
           0,
           0,
           0,
           0,
           1,
           0,
           1,
           0,
           1,
           0,
           0,
           0,
           0,
           1,
           0,
           1,
           0,
           0,
           1,
           0,
           0,
           0,
           0,
           0,
           0,
           0,
           0,
           1,
           0,
           1,
           0,
           0,
           0,
           0,
           0,
           1,
           1,
           0,
           0,
           0,
           0,
           0,
           0
          ],
          "colorscale": [
           [
            0,
            "#fffacd"
           ],
           [
            1,
            "#a00028"
           ]
          ],
          "line": {
           "color": "#444444",
           "width": 0.5
          },
          "opacity": 0.9,
          "size": 8,
          "symbol": [
           0,
           1,
           0,
           0,
           0,
           1,
           0,
           0,
           1,
           0,
           0,
           0,
           0,
           1,
           0,
           0,
           1,
           0,
           0,
           0,
           0,
           0,
           0,
           0,
           0,
           0,
           0,
           0,
           1,
           1,
           1,
           0,
           1,
           0,
           1,
           0,
           1,
           1,
           0,
           0,
           0,
           1,
           0,
           0,
           1,
           0,
           0,
           1,
           1,
           0,
           1,
           1,
           0,
           1,
           0,
           0,
           1,
           0,
           0,
           0,
           0,
           0,
           1,
           0,
           0,
           0,
           1,
           0,
           0,
           0,
           0,
           1,
           0,
           0,
           0,
           0,
           0,
           0,
           0,
           0,
           1,
           0,
           1,
           0,
           1,
           0,
           1,
           1,
           1,
           0,
           1,
           0,
           0,
           0,
           1,
           0,
           1,
           0,
           0,
           0,
           1,
           0,
           0,
           0,
           1,
           0,
           0,
           0,
           0,
           0,
           0,
           0,
           1,
           0,
           0,
           0,
           0,
           0,
           1,
           0,
           0,
           0,
           0,
           0,
           0,
           0,
           0,
           0,
           1,
           1,
           1,
           1,
           0,
           0,
           0,
           0,
           0,
           0,
           0,
           0,
           0,
           0,
           1,
           0,
           0,
           0,
           0,
           0,
           0,
           1,
           0,
           1,
           0,
           0,
           0,
           0,
           1,
           0,
           1,
           0,
           0,
           0,
           0,
           0,
           0,
           0,
           1,
           0,
           0,
           0,
           0,
           0,
           0,
           0,
           0,
           0,
           1,
           1,
           0,
           0,
           0,
           0,
           0,
           0,
           0,
           0,
           0,
           0,
           1,
           1,
           0,
           1,
           0,
           1,
           0,
           0,
           1,
           0,
           0,
           0,
           0,
           0,
           1,
           0,
           0,
           0,
           0,
           1,
           0,
           1,
           1,
           0,
           0,
           1,
           0,
           0,
           0,
           0,
           0,
           0,
           1,
           0,
           0,
           0,
           0,
           0,
           1,
           1,
           0,
           0,
           0,
           0,
           0,
           0,
           0,
           0,
           0,
           0,
           0,
           0,
           1,
           0,
           0,
           0,
           0,
           0,
           1,
           0,
           0,
           0,
           0,
           0,
           0,
           1,
           0,
           0,
           0,
           0,
           1,
           0,
           0,
           0,
           1,
           0,
           0,
           0,
           0,
           0,
           0,
           0,
           0,
           0,
           0,
           1,
           0,
           0,
           0,
           0,
           0,
           0,
           0,
           0,
           0,
           1,
           0,
           0,
           0,
           0,
           0,
           1,
           0,
           1,
           0,
           0,
           0,
           0,
           0,
           0,
           0,
           0,
           0,
           0,
           1,
           0,
           0,
           1,
           0,
           0,
           1,
           0,
           0,
           1,
           1,
           0,
           0,
           1,
           0,
           0,
           0,
           0,
           0,
           0,
           0,
           0,
           0,
           0,
           1,
           0,
           0,
           0,
           0,
           0,
           0,
           0,
           0,
           0,
           1,
           1,
           1,
           1,
           1,
           0,
           0,
           1,
           0,
           0,
           1,
           0,
           1,
           0,
           0,
           0,
           1,
           0,
           0,
           0,
           0,
           0,
           0,
           1,
           0,
           0,
           0,
           0,
           0,
           0,
           1,
           1,
           1,
           0,
           0,
           1,
           0,
           0,
           1,
           0,
           0,
           1,
           0,
           1,
           0,
           1,
           0,
           0,
           0,
           0,
           1,
           0,
           1,
           0,
           1,
           0,
           1,
           1,
           1,
           0,
           0,
           0,
           0,
           0,
           0,
           0,
           0,
           0,
           1,
           1,
           1,
           1,
           0,
           0,
           0,
           1,
           1,
           1,
           0,
           0,
           0,
           0,
           0,
           0,
           1,
           0,
           0,
           0,
           0,
           0,
           1,
           1,
           1,
           0,
           0,
           0,
           0,
           0,
           0,
           0,
           0,
           0,
           1,
           0,
           1,
           1,
           1,
           1,
           0,
           1,
           0,
           1,
           0,
           0,
           0,
           1,
           0,
           0,
           0,
           0,
           0,
           0,
           0,
           0,
           0,
           0,
           1,
           0,
           0,
           1,
           1,
           0,
           0,
           0,
           0,
           1,
           0,
           1,
           0,
           0,
           0,
           0,
           0,
           0,
           0,
           0,
           0,
           0,
           1,
           0,
           1,
           0,
           0,
           1,
           0,
           0,
           0,
           1,
           0,
           0,
           0,
           1,
           0,
           0,
           0,
           0,
           0,
           0,
           0,
           0,
           0,
           1,
           0,
           1,
           0,
           0,
           0,
           1,
           0,
           1,
           0,
           0,
           0,
           0,
           0,
           0,
           1,
           1,
           0,
           1,
           1,
           0,
           0,
           0,
           1,
           1,
           0,
           0,
           1,
           1,
           0,
           0,
           1,
           1,
           0,
           0,
           0,
           1,
           0,
           0,
           0,
           0,
           1,
           0,
           1,
           0,
           1,
           1,
           0,
           1,
           0,
           1,
           1,
           0,
           0,
           0,
           0,
           0,
           0,
           0,
           1,
           0,
           1,
           0,
           0,
           0,
           0,
           0,
           0,
           1,
           0,
           1,
           1,
           0,
           1,
           0,
           0,
           1,
           0,
           1,
           0,
           0,
           0,
           0,
           1,
           0,
           0,
           0,
           0,
           0,
           0,
           0,
           0,
           0,
           0,
           1,
           0,
           0,
           0,
           0,
           0,
           1,
           0,
           1,
           0,
           0,
           0,
           0,
           1,
           1,
           0,
           1,
           0,
           0,
           0,
           0,
           0,
           1,
           0,
           1,
           1,
           0,
           0,
           0,
           0,
           0,
           0,
           0,
           0,
           0,
           0,
           1,
           0,
           0,
           0,
           1,
           0,
           0,
           0,
           0,
           1,
           0,
           0,
           0,
           0,
           0,
           0,
           0,
           1,
           0,
           1,
           0,
           0,
           0,
           1,
           0,
           0,
           0,
           0,
           1,
           0,
           1,
           0,
           1,
           1,
           0,
           0,
           1,
           0,
           0,
           0,
           0,
           1,
           1,
           0,
           0,
           0,
           0,
           0,
           0,
           0,
           1,
           1,
           0,
           0,
           0,
           1,
           1,
           0,
           1,
           0,
           1,
           0,
           0,
           0,
           0,
           0,
           0,
           0,
           1,
           0,
           1,
           1,
           0,
           1,
           0,
           0,
           0,
           0,
           0,
           0,
           0,
           0,
           1,
           0,
           0,
           0,
           0,
           1,
           0,
           1,
           0,
           0,
           0,
           0,
           0,
           0,
           0,
           0,
           0,
           0,
           1,
           0,
           0,
           0,
           0,
           0,
           0,
           0,
           1,
           0,
           0,
           1,
           0,
           1,
           0,
           0,
           1,
           0,
           0,
           0,
           0,
           0,
           0,
           0,
           0,
           0,
           0,
           0,
           0,
           1,
           1,
           0,
           0,
           0,
           0,
           0,
           0,
           0,
           0,
           0,
           0,
           0,
           0,
           1,
           1,
           0,
           0,
           1,
           0,
           0,
           0,
           0,
           0,
           0,
           0,
           1,
           1,
           0,
           0,
           0,
           0,
           0,
           0,
           0,
           0,
           0,
           1,
           0,
           0,
           0,
           0,
           0,
           0,
           0,
           0,
           0,
           0,
           0,
           0,
           0,
           0,
           1,
           0,
           1,
           0,
           0,
           0,
           0,
           0,
           0,
           0,
           0,
           0,
           0,
           0,
           0,
           0,
           0,
           0,
           0,
           0,
           1,
           0,
           0,
           1,
           0,
           0,
           0,
           0,
           1,
           0,
           0,
           1,
           0,
           1,
           0,
           1,
           0,
           1,
           0,
           1,
           0,
           1,
           0,
           0,
           1,
           0,
           1,
           1,
           1,
           1,
           0,
           1,
           1,
           0,
           1,
           1,
           1,
           0,
           1,
           0,
           1,
           0,
           0,
           0,
           1,
           0,
           0,
           0,
           0,
           0,
           0,
           1,
           0,
           1,
           0,
           0,
           1,
           1,
           1,
           0,
           0,
           0,
           0,
           0,
           1,
           0,
           0,
           1,
           0,
           0,
           1,
           0,
           1,
           0,
           0,
           0,
           0,
           0,
           0,
           1,
           0,
           0,
           0,
           0,
           0,
           0,
           1,
           0,
           0,
           0,
           1,
           1,
           0,
           0,
           0,
           1,
           0,
           0,
           1,
           1,
           0,
           0,
           0,
           0,
           0,
           1,
           0,
           0,
           1,
           0,
           1,
           0,
           0,
           1,
           0,
           1,
           0,
           0,
           0,
           0,
           0,
           0,
           0,
           0,
           0,
           1,
           0,
           1,
           0,
           0,
           0,
           0,
           1,
           1,
           0,
           0,
           0,
           0,
           0,
           0,
           0,
           0,
           1,
           0,
           0,
           1,
           0,
           1,
           0,
           1,
           0,
           1,
           0,
           0,
           0,
           0,
           1,
           0,
           0,
           0,
           0,
           0,
           1,
           1,
           1,
           0,
           0,
           1,
           0,
           0,
           0,
           1,
           1,
           0,
           0,
           0,
           0,
           0,
           0,
           0,
           1,
           1,
           0,
           0,
           0,
           0,
           0,
           1,
           0,
           0,
           1,
           0,
           0,
           1,
           0,
           0,
           0,
           0,
           0,
           0,
           0,
           0,
           0,
           0,
           0,
           0,
           0,
           0,
           0,
           0,
           0,
           0,
           0,
           0,
           0,
           0,
           0,
           0,
           1,
           0,
           0,
           1,
           1,
           0,
           0,
           0,
           0,
           0,
           1,
           0,
           0,
           0,
           1,
           1,
           0,
           0,
           1,
           0,
           0,
           0,
           1,
           1,
           0,
           0,
           0,
           0,
           0,
           0,
           0,
           0,
           0,
           0,
           0,
           0,
           0,
           0,
           0,
           1,
           0,
           0,
           0,
           0,
           0,
           1,
           1,
           0,
           0,
           0,
           0,
           0,
           1,
           1,
           0,
           0,
           0,
           0,
           0,
           1,
           1,
           0,
           0,
           0,
           1,
           1,
           0,
           1,
           1,
           1,
           0,
           0,
           0,
           0,
           1,
           0,
           0,
           0,
           0,
           0,
           1,
           0,
           0,
           1,
           0,
           0,
           1,
           0,
           0,
           1,
           1,
           1,
           0,
           0,
           0,
           0,
           1,
           1,
           0,
           0,
           0,
           0,
           0,
           0,
           0,
           0,
           1,
           0,
           0,
           0,
           0,
           0,
           1,
           0,
           1,
           0,
           1,
           0,
           0,
           0,
           0,
           1,
           0,
           0,
           1,
           0,
           1,
           1,
           0,
           0,
           1,
           1,
           1,
           0,
           0,
           0,
           0,
           0,
           1,
           0,
           0,
           0,
           0,
           0,
           0,
           0,
           0,
           0,
           0,
           0,
           0,
           0,
           0,
           0,
           0,
           0,
           0,
           0,
           0,
           1,
           0,
           1,
           1,
           0,
           0,
           0,
           0,
           1,
           0,
           0,
           0,
           0,
           0,
           0,
           1,
           0,
           0,
           0,
           0,
           0,
           0,
           0,
           0,
           0,
           1,
           0,
           1,
           0,
           0,
           0,
           0,
           0,
           0,
           0,
           0,
           0,
           0,
           0,
           0,
           0,
           0,
           1,
           0,
           1,
           1,
           0,
           0,
           1,
           1,
           1,
           0,
           1,
           0,
           0,
           1,
           0,
           0,
           0,
           0,
           0,
           0,
           0,
           0,
           0,
           1,
           0,
           0,
           0,
           0,
           0,
           0,
           1,
           0,
           1,
           0,
           0,
           0,
           1,
           1,
           1,
           0,
           0,
           0,
           0,
           0,
           1,
           1,
           0,
           0,
           1,
           0,
           1,
           1,
           0,
           0,
           0,
           0,
           0,
           0,
           1,
           0,
           0,
           0,
           0,
           0,
           0,
           0,
           0,
           0,
           0,
           1,
           1,
           0,
           0,
           0,
           0,
           0,
           0,
           1,
           0,
           1,
           1,
           1,
           0,
           0,
           0,
           1,
           0,
           0,
           1,
           0,
           1,
           0,
           0,
           1,
           0,
           1,
           0,
           0,
           0,
           0,
           0,
           1,
           0,
           0,
           0,
           0,
           0,
           0,
           1,
           0,
           1,
           1,
           0,
           0,
           0,
           0,
           1,
           0,
           0,
           0,
           0,
           1,
           1,
           0,
           0,
           0,
           1,
           1,
           0,
           0,
           1,
           0,
           1,
           0,
           0,
           0,
           1,
           0,
           1,
           0,
           0,
           0,
           0,
           0,
           0,
           0,
           0,
           0,
           0,
           1,
           0,
           0,
           0,
           0,
           0,
           1,
           1,
           1,
           0,
           0,
           0,
           0,
           0,
           0,
           1,
           1,
           0,
           0,
           0,
           0,
           1,
           0,
           0,
           0,
           0,
           0,
           0,
           0,
           0,
           1,
           0,
           0,
           0,
           1,
           0,
           0,
           0,
           1,
           1,
           0,
           0,
           1,
           0,
           1,
           0,
           0,
           1,
           0,
           1,
           1,
           0,
           0,
           0,
           0,
           1,
           1,
           0,
           0,
           0,
           0,
           1,
           0,
           1,
           0,
           1,
           0,
           1,
           0,
           1,
           0,
           0,
           0,
           1,
           1,
           1,
           0,
           0,
           0,
           0,
           1,
           1,
           0,
           0,
           0,
           0,
           0,
           0,
           0,
           0,
           0,
           0,
           1,
           1,
           1,
           0,
           0,
           1,
           0,
           0,
           0,
           0,
           0,
           0,
           0,
           0,
           0,
           0,
           1,
           1,
           0,
           1,
           1,
           1,
           0,
           0,
           0,
           1,
           0,
           0,
           0,
           0,
           0,
           0,
           0,
           0,
           0,
           0,
           1,
           0,
           1,
           0,
           0,
           0,
           0,
           0,
           1,
           0,
           0,
           0,
           0,
           1,
           0,
           0,
           1,
           0,
           1,
           1,
           1,
           1,
           0,
           0,
           1,
           1,
           0,
           1,
           1,
           0,
           0,
           0,
           0,
           0,
           0,
           0,
           0,
           0,
           1,
           1,
           0,
           0,
           0,
           0,
           1,
           0,
           0,
           0,
           0,
           0,
           0,
           0,
           1,
           0,
           1,
           0,
           1,
           0,
           0,
           0,
           0,
           1,
           0,
           1,
           0,
           0,
           1,
           0,
           0,
           0,
           0,
           0,
           0,
           0,
           0,
           1,
           0,
           1,
           0,
           0,
           0,
           0,
           0,
           1,
           1,
           0,
           0,
           0,
           0,
           0,
           0
          ]
         },
         "mode": "markers",
         "type": "scatter",
         "x": [
          -1.4085344406818847,
          1.6546078569246936,
          0.6417696582238023,
          -0.16870506085590167,
          0.38419176980714853,
          1.307471418363297,
          -0.26036125034943974,
          -2.366072706260282,
          0.916490904950554,
          -0.6650223929550225,
          -0.16870506085590167,
          -0.16870506085590167,
          -0.8928618462013135,
          1.8539636229460803,
          1.104746618599245,
          -0.16870506085590167,
          1.777825932945562,
          0.24067265458712825,
          0.24067265458712825,
          -0.7766426413284608,
          -0.45472191479326723,
          0.38419176980714853,
          0.38419176980714853,
          0.38419176980714853,
          -0.45472191479326723,
          -0.35564225150995904,
          0.08611802524544993,
          -0.7766426413284608,
          1.2695280212294033,
          1.4476691951812906,
          1.5114127324892894,
          0.45210867470243704,
          1.959292197951317,
          -1.5514816357517087,
          1.959292197951317,
          0.08611802524544993,
          1.41426901916357,
          1.2303348780601888,
          -1.4085344406818847,
          0.941440516030197,
          -0.7766426413284608,
          1.950372770213023,
          -0.8928618462013135,
          -0.6650223929550225,
          1.7663049770900545,
          -0.8928618462013135,
          -1.271480569984547,
          0.7574336905548407,
          -0.35564225150995904,
          0.004382702213332241,
          1.777825932945562,
          -0.5577839152190184,
          0.38419176980714853,
          1.7546143919211448,
          0.16483703838880892,
          0.004382702213332241,
          0.38419176980714853,
          0.2031072342124271,
          -0.16870506085590167,
          -1.0139098810102,
          0.8122978949009382,
          -0.7766426413284608,
          2.2541892443211333,
          -1.271480569984547,
          0.8122978949009382,
          -0.5577839152190184,
          1.1479976027041239,
          1.7060945357064303,
          -1.4085344406818847,
          -0.35564225150995904,
          1.6546078569246936,
          1.5418306482097341,
          0.8652915688561645,
          -1.4085344406818847,
          -0.5577839152190184,
          -0.35564225150995904,
          -0.26036125034943974,
          -0.35564225150995904,
          0.3137509922462332,
          0.5807975101496535,
          -0.35564225150995904,
          0.45210867470243704,
          2.273664486373606,
          -1.0139098810102,
          2.0264003676318874,
          0.24067265458712825,
          0.24067265458712825,
          0.08611802524544993,
          2.042066582338113,
          -0.7766426413284608,
          1.5418306482097341,
          -0.8928618462013135,
          0.16483703838880892,
          0.7006189547079055,
          0.6417696582238023,
          -0.5577839152190184,
          1.8843268096077794,
          -0.16870506085590167,
          1.41426901916357,
          1.1898421361192228,
          1.6935093220313173,
          0.5807975101496535,
          0.16483703838880892,
          2.2591479782324857,
          1.959292197951317,
          -1.7006296953261084,
          -1.0139098810102,
          0.3137509922462332,
          -0.8928618462013135,
          -1.1400301621704207,
          0.916490904950554,
          0.45210867470243704,
          1.9853231610919881,
          -0.45472191479326723,
          0.7574336905548407,
          0.16483703838880892,
          0.16483703838880892,
          -1.271480569984547,
          1.1898421361192228,
          2.177875072041135,
          0.5176097085318763,
          -0.45472191479326723,
          1.2303348780601888,
          -0.35564225150995904,
          -0.16870506085590167,
          -0.5577839152190184,
          -0.6650223929550225,
          0.004382702213332241,
          0.7851045173284757,
          0.5807975101496535,
          0.9659684932088484,
          0.16483703838880892,
          -0.8928618462013135,
          -1.0139098810102,
          -0.35564225150995904,
          1.1898421361192228,
          -0.8928618462013135,
          0.08611802524544993,
          -0.6650223929550225,
          -0.35564225150995904,
          -0.08050906037230894,
          1.104746618599245,
          0.7574336905548407,
          -1.0139098810102,
          -0.5577839152190184,
          -1.1400301621704207,
          0.24067265458712825,
          -0.35564225150995904,
          -1.271480569984547,
          0.9659684932088484,
          1.5857389441460557,
          1.4800377349096732,
          0.5807975101496535,
          0.8122978949009382,
          -0.6650223929550225,
          -0.7766426413284608,
          1.8843268096077794,
          -0.5577839152190184,
          -0.35564225150995904,
          -0.5577839152190184,
          -0.7766426413284608,
          -0.08050906037230894,
          0.24067265458712825,
          -1.0139098810102,
          0.6417696582238023,
          0.004382702213332241,
          2.049742830921771,
          -0.6650223929550225,
          -0.5577839152190184,
          -0.26036125034943974,
          -0.7766426413284608,
          0.7574336905548407,
          0.3137509922462332,
          -0.8928618462013135,
          -0.7766426413284608,
          0.004382702213332241,
          1.5418306482097341,
          0.6417696582238023,
          0.8652915688561645,
          1.0137935147532762,
          -1.1400301621704207,
          0.24067265458712825,
          0.08611802524544993,
          -1.7006296953261084,
          0.7006189547079055,
          -0.5057432422015694,
          -0.26036125034943974,
          0.8122978949009382,
          1.104746618599245,
          1.6276836428402088,
          0.004382702213332241,
          2.0184069690565303,
          0.08611802524544993,
          1.777825932945562,
          -0.8928618462013135,
          -0.45472191479326723,
          1.5114127324892894,
          -0.45472191479326723,
          0.004382702213332241,
          1.104746618599245,
          -2.366072706260282,
          -1.7006296953261084,
          2.114414046914761,
          -1.7006296953261084,
          -1.0139098810102,
          0.16483703838880892,
          -0.6650223929550225,
          1.6935093220313173,
          -1.0139098810102,
          1.4476691951812906,
          1.1479976027041239,
          0.24067265458712825,
          0.16483703838880892,
          1.4476691951812906,
          -0.7766426413284608,
          -1.4085344406818847,
          0.004382702213332241,
          -0.8928618462013135,
          -1.0139098810102,
          -1.271480569984547,
          0.38419176980714853,
          0.004382702213332241,
          -1.5514816357517087,
          0.004382702213332241,
          -0.35564225150995904,
          0.3137509922462332,
          0.5176097085318763,
          0.916490904950554,
          -0.26036125034943974,
          -1.4085344406818847,
          -0.16870506085590167,
          -0.7766426413284608,
          -0.7766426413284608,
          -2.1886464898962745,
          0.7006189547079055,
          0.45210867470243704,
          -0.08050906037230894,
          -0.7766426413284608,
          -1.5514816357517087,
          -0.45472191479326723,
          1.2303348780601888,
          -0.5577839152190184,
          -1.271480569984547,
          0.916490904950554,
          -0.30753800688213256,
          0.3137509922462332,
          1.2695280212294033,
          -0.8928618462013135,
          -0.16870506085590167,
          -1.1400301621704207,
          -1.625260612266813,
          1.5114127324892894,
          0.38419176980714853,
          1.7307122164947093,
          -0.26036125034943974,
          -1.0139098810102,
          0.45210867470243704,
          0.3137509922462332,
          -0.08050906037230894,
          0.3137509922462332,
          -1.4085344406818847,
          0.24067265458712825,
          1.800370706020386,
          -0.6650223929550225,
          -0.26036125034943974,
          -0.6650223929550225,
          -1.5514816357517087,
          -0.5577839152190184,
          -0.7202715094610195,
          -0.6650223929550225,
          0.16483703838880892,
          -1.5514816357517087,
          -0.5577839152190184,
          1.5999333798224278,
          -1.0139098810102,
          -0.35564225150995904,
          -0.45472191479326723,
          0.8652915688561645,
          -2.1886464898962745,
          -0.16870506085590167,
          -0.40469600824516666,
          -1.4085344406818847,
          -1.0139098810102,
          0.5807975101496535,
          0.45210867470243704,
          -1.7006296953261084,
          1.3797973945326518,
          -1.4085344406818847,
          -1.271480569984547,
          1.104746618599245,
          -0.08050906037230894,
          -0.7766426413284608,
          -0.35564225150995904,
          -1.5514816357517087,
          -0.26036125034943974,
          -1.1400301621704207,
          -0.26036125034943974,
          -1.4085344406818847,
          -0.5577839152190184,
          -1.7006296953261084,
          -0.08050906037230894,
          -1.271480569984547,
          -0.35564225150995904,
          -0.7766426413284608,
          -0.16870506085590167,
          1.9413287220002224,
          -1.0139098810102,
          0.5807975101496535,
          1.2303348780601888,
          -0.16870506085590167,
          -1.271480569984547,
          1.6139136542823833,
          0.8122978949009382,
          0.7574336905548407,
          -1.1400301621704207,
          1.959292197951317,
          -0.08050906037230894,
          0.8652915688561645,
          -0.6650223929550225,
          0.7574336905548407,
          0.7574336905548407,
          0.004382702213332241,
          0.6417696582238023,
          -2.018854530393862,
          -0.45472191479326723,
          0.38419176980714853,
          1.1898421361192228,
          0.7574336905548407,
          0.16483703838880892,
          -0.26036125034943974,
          -2.1886464898962745,
          0.16483703838880892,
          0.7006189547079055,
          -1.1400301621704207,
          0.08611802524544993,
          -0.35564225150995904,
          2.0184069690565303,
          0.6417696582238023,
          -0.08050906037230894,
          1.6139136542823833,
          1.3797973945326518,
          -0.40469600824516666,
          -1.856305083024019,
          0.5807975101496535,
          -0.6650223929550225,
          -0.35564225150995904,
          1.41426901916357,
          0.004382702213332241,
          1.5713263882091706,
          0.16483703838880892,
          -0.45472191479326723,
          -0.45472191479326723,
          0.5176097085318763,
          -0.8928618462013135,
          0.24067265458712825,
          -1.5514816357517087,
          -0.16870506085590167,
          1.2303348780601888,
          -1.5514816357517087,
          1.7060945357064303,
          -1.856305083024019,
          -1.5514816357517087,
          -0.7766426413284608,
          -1.0139098810102,
          0.004382702213332241,
          -0.7766426413284608,
          0.38419176980714853,
          0.8652915688561645,
          2.0264003676318874,
          -0.5577839152190184,
          0.7574336905548407,
          1.7184944092575274,
          0.3137509922462332,
          -0.26036125034943974,
          1.894164179669372,
          1.060031923768173,
          -1.0139098810102,
          0.8652915688561645,
          0.3137509922462332,
          0.16483703838880892,
          0.2775488552764877,
          -0.26036125034943974,
          0.004382702213332241,
          -0.16870506085590167,
          -1.1400301621704207,
          -1.7006296953261084,
          1.4800377349096732,
          0.7006189547079055,
          1.1479976027041239,
          -0.7766426413284608,
          0.45210867470243704,
          0.004382702213332241,
          1.5999333798224278,
          1.307471418363297,
          0.7006189547079055,
          0.45210867470243704,
          -0.35564225150995904,
          -0.16870506085590167,
          -0.45472191479326723,
          0.5176097085318763,
          -1.271480569984547,
          -1.2050723911177048,
          -1.4085344406818847,
          -0.7766426413284608,
          1.1479976027041239,
          1.7060945357064303,
          1.060031923768173,
          -0.16870506085590167,
          -1.5514816357517087,
          -1.271480569984547,
          0.5176097085318763,
          1.959292197951317,
          2.2337306464568423,
          1.41426901916357,
          -0.6650223929550225,
          -0.8928618462013135,
          -0.35564225150995904,
          -0.7766426413284608,
          -0.5577839152190184,
          0.12584609943970895,
          1.307471418363297,
          0.6417696582238023,
          1.060031923768173,
          -1.5514816357517087,
          -0.08050906037230894,
          -0.45472191479326723,
          1.6412471391006882,
          0.8122978949009382,
          1.9680890652497827,
          -0.08050906037230894,
          0.38419176980714853,
          -0.35564225150995904,
          -1.271480569984547,
          0.16483703838880892,
          0.3137509922462332,
          -0.08050906037230894,
          0.08611802524544993,
          -0.16870506085590167,
          2.134322608108397,
          -0.8928618462013135,
          1.5999333798224278,
          0.6417696582238023,
          0.24067265458712825,
          1.777825932945562,
          -0.35564225150995904,
          2.0794406644158023,
          0.16483703838880892,
          1.4800377349096732,
          -1.1400301621704207,
          -0.6650223929550225,
          -1.5514816357517087,
          0.45210867470243704,
          -1.5514816357517087,
          -0.45472191479326723,
          0.5176097085318763,
          -0.35564225150995904,
          0.08611802524544993,
          -0.16870506085590167,
          0.16483703838880892,
          -0.7766426413284608,
          -0.35564225150995904,
          -0.6650223929550225,
          0.5176097085318763,
          -0.8928618462013135,
          -0.6650223929550225,
          0.38419176980714853,
          1.6807354254106712,
          -0.45472191479326723,
          -2.1886464898962745,
          -0.6650223929550225,
          0.45210867470243704,
          2.2922126833059466,
          -0.45472191479326723,
          -0.35564225150995904,
          -0.45472191479326723,
          -1.271480569984547,
          -0.8928618462013135,
          0.6417696582238023,
          -1.0139098810102,
          0.004382702213332241,
          0.004382702213332241,
          -0.7766426413284608,
          1.5418306482097341,
          0.3137509922462332,
          2.010304366375649,
          -1.0139098810102,
          1.3442127015149345,
          0.5807975101496535,
          0.004382702213332241,
          1.4800377349096732,
          -1.856305083024019,
          -0.6650223929550225,
          -0.35564225150995904,
          0.9659684932088484,
          -0.6650223929550225,
          -1.1400301621704207,
          -0.6650223929550225,
          0.5176097085318763,
          -0.26036125034943974,
          0.08611802524544993,
          0.16483703838880892,
          -0.45472191479326723,
          -0.45472191479326723,
          -0.26036125034943974,
          0.08611802524544993,
          -1.271480569984547,
          -0.26036125034943974,
          2.1534698606245373,
          0.24067265458712825,
          0.004382702213332241,
          -0.8928618462013135,
          -1.0139098810102,
          1.1898421361192228,
          2.05731674171986,
          -2.018854530393862,
          1.4800377349096732,
          -0.35564225150995904,
          -0.45472191479326723,
          0.3137509922462332,
          -1.0139098810102,
          -0.8928618462013135,
          0.004382702213332241,
          1.1479976027041239,
          0.08611802524544993,
          -0.5577839152190184,
          1.0825759192113993,
          1.307471418363297,
          -0.7766426413284608,
          -1.0139098810102,
          -0.16870506085590167,
          1.7307122164947093,
          1.2695280212294033,
          -0.35564225150995904,
          0.8652915688561645,
          1.6807354254106712,
          0.5807975101496535,
          -1.1400301621704207,
          -0.35564225150995904,
          1.5713263882091706,
          0.8652915688561645,
          0.45210867470243704,
          1.7060945357064303,
          -1.856305083024019,
          -0.45472191479326723,
          -1.4085344406818847,
          0.7006189547079055,
          -0.16870506085590167,
          0.08611802524544993,
          1.3442127015149345,
          -1.5514816357517087,
          0.6417696582238023,
          -1.4085344406818847,
          1.5418306482097341,
          1.1898421361192228,
          -0.7766426413284608,
          1.307471418363297,
          0.7574336905548407,
          -0.6650223929550225,
          1.8539636229460803,
          -0.26036125034943974,
          -0.5577839152190184,
          0.7006189547079055,
          -0.45472191479326723,
          1.5999333798224278,
          -1.271480569984547,
          -0.16870506085590167,
          1.9767653924537782,
          -1.0139098810102,
          0.45210867470243704,
          0.3137509922462332,
          -0.45472191479326723,
          -1.1400301621704207,
          -1.1400301621704207,
          -0.45472191479326723,
          0.45210867470243704,
          0.3137509922462332,
          -0.8928618462013135,
          0.9659684932088484,
          1.7060945357064303,
          -1.5514816357517087,
          -1.0139098810102,
          0.3137509922462332,
          -0.7766426413284608,
          0.5807975101496535,
          -1.271480569984547,
          1.2695280212294033,
          0.24067265458712825,
          1.5418306482097341,
          -0.7766426413284608,
          -0.26036125034943974,
          0.916490904950554,
          0.08611802524544993,
          -1.0139098810102,
          -1.0139098810102,
          0.004382702213332241,
          0.004382702213332241,
          -0.16870506085590167,
          -0.26036125034943974,
          -0.5577839152190184,
          -1.5514816357517087,
          0.004382702213332241,
          1.6276836428402088,
          1.959292197951317,
          -0.26036125034943974,
          -0.45472191479326723,
          -1.1400301621704207,
          0.16483703838880892,
          1.9413287220002224,
          -1.625260612266813,
          -0.5577839152190184,
          0.3137509922462332,
          -0.8928618462013135,
          -1.0139098810102,
          -0.35564225150995904,
          1.6677694323416785,
          -0.5577839152190184,
          -1.0139098810102,
          1.6139136542823833,
          0.004382702213332241,
          -1.5514816357517087,
          0.6417696582238023,
          -0.45472191479326723,
          0.3137509922462332,
          -0.16870506085590167,
          0.5807975101496535,
          1.41426901916357,
          1.5713263882091706,
          -0.6108685333961253,
          0.004382702213332241,
          -0.35564225150995904,
          0.16483703838880892,
          1.8642289673162804,
          0.004382702213332241,
          -0.35564225150995904,
          -1.271480569984547,
          -0.5577839152190184,
          -0.08050906037230894,
          0.9659684932088484,
          0.24067265458712825,
          -1.4085344406818847,
          -0.08050906037230894,
          0.6417696582238023,
          0.8122978949009382,
          0.916490904950554,
          -0.5577839152190184,
          1.2303348780601888,
          0.08611802524544993,
          -0.26036125034943974,
          -0.7766426413284608,
          0.916490904950554,
          0.38419176980714853,
          0.45210867470243704,
          -0.26036125034943974,
          -0.26036125034943974,
          1.5114127324892894,
          1.2695280212294033,
          1.7060945357064303,
          -0.6650223929550225,
          0.5176097085318763,
          -1.271480569984547,
          1.5114127324892894,
          0.3137509922462332,
          -1.1400301621704207,
          -1.271480569984547,
          0.916490904950554,
          1.1898421361192228,
          -0.08050906037230894,
          0.7574336905548407,
          0.5176097085318763,
          0.5807975101496535,
          1.1898421361192228,
          -1.0139098810102,
          -1.0139098810102,
          1.104746618599245,
          0.45210867470243704,
          -0.7766426413284608,
          -0.08050906037230894,
          -0.5577839152190184,
          0.8652915688561645,
          1.5713263882091706,
          1.3797973945326518,
          0.24067265458712825,
          0.5807975101496535,
          -1.5514816357517087,
          -0.7766426413284608,
          -1.0139098810102,
          0.004382702213332241,
          0.16483703838880892,
          1.4800377349096732,
          -0.35564225150995904,
          -1.271480569984547,
          -1.0139098810102,
          1.5418306482097341,
          2.3348639652857406,
          1.3442127015149345,
          1.6935093220313173,
          -0.7766426413284608,
          1.2695280212294033,
          -0.8928618462013135,
          -0.26036125034943974,
          -0.8928618462013135,
          0.45210867470243704,
          0.5807975101496535,
          0.004382702213332241,
          -0.16870506085590167,
          1.1898421361192228,
          0.24067265458712825,
          1.2695280212294033,
          0.7006189547079055,
          0.7006189547079055,
          1.3442127015149345,
          0.3137509922462332,
          -1.5514816357517087,
          -1.7006296953261084,
          -0.26036125034943974,
          0.08611802524544993,
          0.45210867470243704,
          0.5176097085318763,
          0.3137509922462332,
          2.436750788514197,
          0.08611802524544993,
          0.3137509922462332,
          0.08611802524544993,
          -1.1400301621704207,
          2.2876596081209097,
          -0.26036125034943974,
          0.7006189547079055,
          -1.0139098810102,
          0.08611802524544993,
          0.38419176980714853,
          -1.0139098810102,
          0.6417696582238023,
          -0.5057432422015694,
          0.004382702213332241,
          -2.018854530393862,
          -0.5577839152190184,
          -0.5577839152190184,
          1.5418306482097341,
          0.8652915688561645,
          -0.16870506085590167,
          1.3797973945326518,
          -0.35564225150995904,
          -0.35564225150995904,
          -0.8928618462013135,
          0.16483703838880892,
          1.3797973945326518,
          0.08611802524544993,
          0.941440516030197,
          0.3137509922462332,
          0.5176097085318763,
          1.1479976027041239,
          -0.26036125034943974,
          0.5807975101496535,
          1.2695280212294033,
          -0.35564225150995904,
          -1.5514816357517087,
          -0.45472191479326723,
          0.5807975101496535,
          -0.7766426413284608,
          -0.45472191479326723,
          -0.08050906037230894,
          -1.7006296953261084,
          -1.1400301621704207,
          -0.26036125034943974,
          -0.45472191479326723,
          -2.018854530393862,
          -0.5577839152190184,
          1.5999333798224278,
          0.004382702213332241,
          -1.856305083024019,
          0.8652915688561645,
          -1.271480569984547,
          -1.0139098810102,
          -0.8928618462013135,
          -0.5577839152190184,
          -0.26036125034943974,
          -1.4085344406818847,
          -2.366072706260282,
          -1.5514816357517087,
          0.004382702213332241,
          1.959292197951317,
          1.6546078569246936,
          -2.366072706260282,
          -1.1400301621704207,
          1.1479976027041239,
          -0.6650223929550225,
          -0.26036125034943974,
          -0.26036125034943974,
          -0.5577839152190184,
          -0.45472191479326723,
          -1.0139098810102,
          0.916490904950554,
          2.0264003676318874,
          1.7891802117832238,
          -2.27637987650527,
          0.24067265458712825,
          0.004382702213332241,
          0.16483703838880892,
          -0.5577839152190184,
          -0.6650223929550225,
          -0.45472191479326723,
          -0.35564225150995904,
          -1.1400301621704207,
          1.5999333798224278,
          -0.45472191479326723,
          0.004382702213332241,
          0.6417696582238023,
          0.24067265458712825,
          0.004382702213332241,
          0.08611802524544993,
          -0.26036125034943974,
          -1.1400301621704207,
          0.16483703838880892,
          -0.8928618462013135,
          -0.8928618462013135,
          0.7574336905548407,
          -0.8928618462013135,
          -0.26036125034943974,
          0.45210867470243704,
          -0.8928618462013135,
          0.7006189547079055,
          0.08611802524544993,
          -1.5514816357517087,
          0.9659684932088484,
          -1.7006296953261084,
          -0.5577839152190184,
          0.004382702213332241,
          -0.45472191479326723,
          -1.5514816357517087,
          -1.271480569984547,
          -0.45472191479326723,
          0.5176097085318763,
          -1.0139098810102,
          -0.40469600824516666,
          -0.7766426413284608,
          -0.5577839152190184,
          0.08611802524544993,
          -0.26036125034943974,
          0.916490904950554,
          -0.35564225150995904,
          -0.16870506085590167,
          1.41426901916357,
          -0.35564225150995904,
          -1.5514816357517087,
          -1.0139098810102,
          -0.8928618462013135,
          0.7574336905548407,
          -0.7766426413284608,
          1.1479976027041239,
          2.2122283431341803,
          -1.0139098810102,
          1.5713263882091706,
          -0.5577839152190184,
          0.38419176980714853,
          0.9659684932088484,
          0.45210867470243704,
          1.0137935147532762,
          1.6935093220313173,
          0.004382702213332241,
          0.6417696582238023,
          0.45210867470243704,
          -1.271480569984547,
          2.05731674171986,
          -2.018854530393862,
          0.6417696582238023,
          0.7574336905548407,
          1.7060945357064303,
          1.41426901916357,
          0.916490904950554,
          2.2922126833059466,
          1.3797973945326518,
          0.6417696582238023,
          1.3797973945326518,
          2.217705227844512,
          1.6276836428402088,
          -1.5514816357517087,
          1.5418306482097341,
          -1.5514816357517087,
          1.7060945357064303,
          -0.8928618462013135,
          -0.08050906037230894,
          -1.271480569984547,
          1.4800377349096732,
          -0.45472191479326723,
          0.004382702213332241,
          0.7574336905548407,
          0.24067265458712825,
          -1.1400301621704207,
          -0.35564225150995904,
          1.5713263882091706,
          -0.8928618462013135,
          -0.26036125034943974,
          -0.08050906037230894,
          -0.26036125034943974,
          0.8652915688561645,
          0.8652915688561645,
          -0.16870506085590167,
          1.4800377349096732,
          0.38419176980714853,
          -1.271480569984547,
          0.3137509922462332,
          -0.08050906037230894,
          -0.7766426413284608,
          -0.7766426413284608,
          -1.856305083024019,
          0.9659684932088484,
          -0.8928618462013135,
          0.916490904950554,
          2.2783863307090364,
          -0.08050906037230894,
          1.2303348780601888,
          0.8652915688561645,
          -0.45472191479326723,
          0.16483703838880892,
          -0.26036125034943974,
          0.3137509922462332,
          -0.45472191479326723,
          1.41426901916357,
          0.24067265458712825,
          -0.16870506085590167,
          -0.45472191479326723,
          -1.1400301621704207,
          -0.35564225150995904,
          0.45210867470243704,
          2.1211370483071916,
          -0.5577839152190184,
          0.3137509922462332,
          -0.5577839152190184,
          0.7006189547079055,
          -0.5577839152190184,
          -0.35564225150995904,
          -0.7766426413284608,
          0.9659684932088484,
          1.5999333798224278,
          1.0137935147532762,
          -0.08050906037230894,
          1.4800377349096732,
          0.38419176980714853,
          0.6417696582238023,
          -1.271480569984547,
          -0.16870506085590167,
          -1.5514816357517087,
          -0.26036125034943974,
          1.060031923768173,
          0.16483703838880892,
          -0.8928618462013135,
          1.060031923768173,
          -0.6650223929550225,
          -0.26036125034943974,
          0.5807975101496535,
          0.6417696582238023,
          1.2695280212294033,
          -2.1886464898962745,
          0.8652915688561645,
          -1.1400301621704207,
          -0.16870506085590167,
          -0.6650223929550225,
          -1.0139098810102,
          -1.1400301621704207,
          -0.8928618462013135,
          0.004382702213332241,
          -1.5514816357517087,
          -0.26036125034943974,
          -0.45472191479326723,
          0.004382702213332241,
          0.916490904950554,
          0.08611802524544993,
          -2.27637987650527,
          0.45210867470243704,
          -0.08050906037230894,
          0.7006189547079055,
          0.08611802524544993,
          0.004382702213332241,
          -0.5577839152190184,
          -0.6650223929550225,
          -1.7006296953261084,
          -0.6650223929550225,
          0.45210867470243704,
          0.08611802524544993,
          0.16483703838880892,
          1.4800377349096732,
          -1.7006296953261084,
          -1.0139098810102,
          1.6807354254106712,
          -0.8928618462013135,
          1.2695280212294033,
          0.7851045173284757,
          1.307471418363297,
          -0.03765957198345555,
          1.5857389441460557,
          -0.45472191479326723,
          0.08611802524544993,
          -1.5514816357517087,
          -0.45472191479326723,
          2.1658289851962067,
          -1.7006296953261084,
          0.3137509922462332,
          -0.8928618462013135,
          0.16483703838880892,
          -0.08050906037230894,
          1.7307122164947093,
          0.45210867470243704,
          1.5566916671611162,
          0.8122978949009382,
          0.5176097085318763,
          1.7307122164947093,
          -1.1400301621704207,
          -0.16870506085590167,
          0.45210867470243704,
          1.060031923768173,
          0.5807975101496535,
          0.04563598628216704,
          -0.8928618462013135,
          -0.35564225150995904,
          -0.16870506085590167,
          0.08611802524544993,
          1.2303348780601888,
          0.16483703838880892,
          1.2695280212294033,
          1.2303348780601888,
          -1.0139098810102,
          0.004382702213332241,
          -0.08050906037230894,
          0.916490904950554,
          -0.26036125034943974,
          1.8743492094101657,
          -0.08050906037230894,
          -2.018854530393862,
          2.0264003676318874,
          -0.6650223929550225,
          0.3137509922462332,
          1.41426901916357,
          -0.8928618462013135,
          -0.08050906037230894,
          -0.5577839152190184,
          -0.5577839152190184,
          0.38419176980714853,
          -0.5577839152190184,
          0.45210867470243704,
          -0.5577839152190184,
          -0.5577839152190184,
          0.08611802524544993,
          -0.08050906037230894,
          0.7574336905548407,
          -0.26036125034943974,
          -0.7766426413284608,
          -0.7766426413284608,
          0.24067265458712825,
          -0.7766426413284608,
          0.8122978949009382,
          0.3137509922462332,
          -1.0139098810102,
          -0.6650223929550225,
          0.24067265458712825,
          -1.1400301621704207,
          -1.0139098810102,
          1.5114127324892894,
          -2.1028212772651083,
          1.5999333798224278,
          1.6276836428402088,
          1.7307122164947093,
          -0.35564225150995904,
          0.7574336905548407,
          1.104746618599245,
          -0.26036125034943974,
          -1.0139098810102,
          1.3797973945326518,
          -0.8928618462013135,
          -0.45472191479326723,
          -1.856305083024019,
          1.6412471391006882,
          1.0137935147532762,
          -1.271480569984547,
          -0.7766426413284608,
          1.5114127324892894,
          0.45210867470243704,
          1.0137935147532762,
          -0.6650223929550225,
          1.7891802117832238,
          1.7060945357064303,
          0.16483703838880892,
          -2.018854530393862,
          -0.45472191479326723,
          0.8652915688561645,
          0.5176097085318763,
          -0.7766426413284608,
          -0.6650223929550225,
          -0.8928618462013135,
          0.08611802524544993,
          0.08611802524544993,
          0.5176097085318763,
          0.7006189547079055,
          -0.8928618462013135,
          -0.16870506085590167,
          -0.16870506085590167,
          1.6276836428402088,
          -1.5514816357517087,
          -0.16870506085590167,
          1.5418306482097341,
          0.004382702213332241,
          -1.7006296953261084,
          1.3442127015149345,
          1.1898421361192228,
          -1.856305083024019,
          -0.45472191479326723,
          0.16483703838880892,
          -0.5577839152190184,
          -0.08050906037230894,
          1.4958471103624875,
          0.7574336905548407,
          -0.26036125034943974,
          -0.6650223929550225,
          -0.35564225150995904,
          -1.0139098810102,
          1.3971696957172972,
          0.7006189547079055,
          0.24067265458712825,
          -0.6650223929550225,
          -0.8928618462013135,
          -0.35564225150995904,
          1.307471418363297,
          1.0137935147532762,
          0.16483703838880892,
          1.7060945357064303,
          1.1479976027041239,
          1.7663049770900545,
          -1.0139098810102,
          0.45210867470243704,
          -0.26036125034943974,
          -0.7766426413284608,
          0.6417696582238023,
          -0.26036125034943974,
          -1.0139098810102,
          1.0825759192113993,
          -1.4085344406818847,
          -0.7766426413284608,
          1.9853231610919881,
          0.45210867470243704,
          -0.26036125034943974,
          1.9680890652497827,
          -1.271480569984547,
          -0.26036125034943974,
          0.8122978949009382,
          0.6417696582238023,
          -1.271480569984547,
          2.2122283431341803,
          1.060031923768173,
          1.8329875359785903,
          -1.271480569984547,
          -0.6650223929550225,
          -1.4085344406818847,
          -0.2140905526281768,
          1.2303348780601888,
          1.3621468559587049,
          0.08611802524544993,
          -1.4085344406818847,
          0.45210867470243704,
          -1.1400301621704207,
          -0.5577839152190184,
          -0.35564225150995904,
          0.16483703838880892,
          -2.1886464898962745,
          1.894164179669372,
          0.004382702213332241,
          -0.5577839152190184,
          -0.45472191479326723,
          0.3137509922462332,
          0.24067265458712825,
          1.7060945357064303,
          0.16483703838880892,
          -0.16870506085590167,
          0.004382702213332241,
          1.5418306482097341,
          0.08611802524544993,
          -0.26036125034943974,
          -1.5514816357517087,
          0.004382702213332241,
          1.1898421361192228,
          -0.8928618462013135,
          0.5176097085318763,
          1.5999333798224278,
          -0.35564225150995904,
          0.3137509922462332,
          -0.35564225150995904,
          -1.856305083024019,
          -0.35564225150995904,
          1.3797973945326518,
          1.6546078569246936,
          0.5807975101496535,
          -0.26036125034943974,
          0.45210867470243704,
          1.104746618599245,
          -1.7006296953261084,
          -0.5577839152190184,
          1.6677694323416785,
          -0.7766426413284608,
          -0.45472191479326723,
          -0.35564225150995904,
          1.5114127324892894,
          -2.018854530393862,
          0.38419176980714853,
          0.8122978949009382,
          -1.271480569984547,
          -0.5577839152190184,
          -1.1400301621704207,
          -0.6650223929550225,
          0.5807975101496535,
          -0.35564225150995904,
          -0.5577839152190184,
          -0.26036125034943974,
          0.08611802524544993,
          1.2695280212294033,
          -0.16870506085590167,
          0.3137509922462332,
          0.8652915688561645,
          1.2695280212294033,
          -0.26036125034943974,
          1.060031923768173,
          -0.35564225150995904,
          -0.08050906037230894,
          1.3797973945326518,
          -0.6650223929550225,
          -1.0139098810102,
          -0.08050906037230894,
          0.004382702213332241,
          0.2775488552764877,
          -1.0139098810102,
          0.5176097085318763,
          0.004382702213332241,
          -0.45472191479326723,
          1.6807354254106712,
          0.24067265458712825,
          1.7663049770900545,
          -1.0139098810102,
          -1.4792525798775464,
          1.3797973945326518,
          0.45210867470243704,
          -1.0139098810102,
          1.1479976027041239,
          0.3137509922462332,
          2.0794406644158023,
          0.5176097085318763,
          1.41426901916357,
          -2.018854530393862,
          -0.5577839152190184,
          -0.45472191479326723,
          1.0137935147532762,
          -0.16870506085590167,
          0.16483703838880892,
          0.8122978949009382,
          -1.856305083024019,
          0.3137509922462332,
          -1.271480569984547,
          0.3137509922462332,
          1.5418306482097341,
          -0.45472191479326723,
          0.3137509922462332,
          1.3442127015149345,
          0.08611802524544993,
          1.6276836428402088,
          1.6677694323416785,
          0.004382702213332241,
          -0.6650223929550225,
          1.6807354254106712,
          0.24067265458712825,
          0.16483703838880892,
          -0.7766426413284608,
          1.0137935147532762,
          -0.16870506085590167,
          -1.0139098810102,
          0.38419176980714853,
          -0.16870506085590167,
          -0.35564225150995904,
          -0.26036125034943974,
          -1.5514816357517087,
          0.8652915688561645,
          -0.08050906037230894,
          -0.45472191479326723,
          0.08611802524544993,
          -0.26036125034943974,
          1.7546143919211448,
          -0.16870506085590167,
          0.004382702213332241,
          -0.6650223929550225,
          -2.9484604404072607,
          -1.271480569984547,
          -0.26036125034943974,
          0.9659684932088484,
          -0.26036125034943974,
          1.2695280212294033,
          0.08611802524544993,
          0.004382702213332241,
          -1.1400301621704207,
          1.777825932945562,
          1.8114002495819166,
          2.140787860155284,
          -0.5057432422015694,
          -1.5514816357517087,
          0.6417696582238023,
          -1.5514816357517087,
          -0.5577839152190184,
          -0.16870506085590167,
          1.8329875359785903,
          0.5176097085318763,
          -0.35564225150995904,
          0.45210867470243704,
          -0.16870506085590167,
          1.8743492094101657,
          1.7891802117832238,
          -1.0139098810102,
          -0.6650223929550225,
          -0.45472191479326723,
          0.8652915688561645,
          1.060031923768173,
          0.08611802524544993,
          1.4639799994395453,
          -1.4085344406818847,
          -0.5577839152190184,
          -0.8928618462013135,
          0.004382702213332241,
          0.08611802524544993,
          -0.8928618462013135,
          0.16483703838880892,
          1.5857389441460557,
          -0.8928618462013135,
          0.08611802524544993,
          1.3442127015149345,
          1.9937643147275246,
          -0.35564225150995904,
          -0.08050906037230894,
          -1.0139098810102,
          0.7006189547079055,
          -1.4085344406818847,
          -1.5514816357517087,
          1.2695280212294033,
          -0.08050906037230894,
          1.4476691951812906,
          0.12584609943970895,
          1.5713263882091706,
          -0.7766426413284608,
          0.08611802524544993,
          -1.271480569984547,
          -0.08050906037230894,
          -0.6650223929550225,
          -1.0139098810102,
          0.5807975101496535,
          0.16483703838880892,
          1.1898421361192228,
          -0.16870506085590167,
          -0.8928618462013135,
          1.5713263882091706,
          -1.271480569984547,
          1.8743492094101657,
          -0.16870506085590167,
          -2.018854530393862,
          -0.5577839152190184,
          0.5176097085318763,
          -1.4085344406818847,
          1.3442127015149345,
          -0.5577839152190184,
          -1.5514816357517087,
          -0.5577839152190184,
          0.916490904950554,
          -0.16870506085590167,
          0.5176097085318763,
          0.08611802524544993,
          0.38419176980714853,
          1.5418306482097341,
          0.6417696582238023,
          0.16483703838880892,
          -1.7006296953261084,
          1.060031923768173,
          -0.8928618462013135,
          0.8652915688561645,
          -0.7766426413284608,
          0.7574336905548407,
          -2.9484604404072607,
          2.147169848776775,
          1.6276836428402088,
          0.3137509922462332,
          -0.08050906037230894,
          -0.26036125034943974,
          -0.45472191479326723,
          1.3797973945326518,
          0.9659684932088484,
          1.6807354254106712,
          0.16483703838880892,
          0.45210867470243704,
          -0.08050906037230894,
          0.16483703838880892,
          -1.271480569984547,
          -2.366072706260282,
          -1.4085344406818847,
          0.3137509922462332,
          -0.45472191479326723,
          0.8122978949009382,
          -1.1400301621704207,
          1.2303348780601888,
          -1.4085344406818847,
          -1.7006296953261084,
          0.5807975101496535,
          -0.35564225150995904,
          -0.5577839152190184,
          1.2695280212294033,
          1.104746618599245,
          -0.7766426413284608,
          0.6417696582238023,
          1.41426901916357,
          -2.018854530393862,
          0.24067265458712825,
          2.1534698606245373,
          -2.366072706260282,
          1.1479976027041239,
          1.8539636229460803,
          0.5176097085318763,
          0.004382702213332241,
          -0.26036125034943974,
          -0.7766426413284608,
          -0.5577839152190184,
          -0.35564225150995904,
          0.16483703838880892,
          0.7574336905548407,
          0.8122978949009382,
          0.004382702213332241,
          -1.5514816357517087,
          -1.7006296953261084,
          -0.7766426413284608,
          0.08611802524544993,
          0.5176097085318763,
          -0.35564225150995904,
          0.004382702213332241,
          0.08611802524544993,
          0.16483703838880892,
          0.5807975101496535,
          0.004382702213332241,
          -1.271480569984547,
          1.4800377349096732,
          -1.271480569984547,
          -0.16870506085590167,
          -0.7766426413284608,
          1.104746618599245,
          -1.4085344406818847,
          -0.16870506085590167,
          0.7851045173284757,
          1.060031923768173,
          1.7546143919211448,
          0.5176097085318763,
          -1.4085344406818847,
          1.8843268096077794,
          -0.16870506085590167,
          0.3137509922462332,
          -0.6650223929550225,
          -0.08050906037230894,
          1.6276836428402088,
          -1.5514816357517087,
          1.5418306482097341,
          1.894164179669372,
          0.916490904950554,
          -0.26036125034943974,
          -1.4085344406818847,
          -1.0139098810102,
          0.3137509922462332,
          1.307471418363297,
          -1.4085344406818847,
          -1.0139098810102,
          -0.7766426413284608,
          -0.5577839152190184,
          1.104746618599245,
          1.060031923768173,
          2.042066582338113,
          -1.856305083024019,
          1.6276836428402088,
          -0.16870506085590167,
          0.5176097085318763,
          -0.35564225150995904,
          -1.271480569984547,
          0.3137509922462332,
          -0.8928618462013135,
          0.16483703838880892,
          0.5176097085318763,
          0.24067265458712825,
          1.5999333798224278,
          0.004382702213332241,
          -1.7006296953261084,
          -0.5577839152190184,
          -1.271480569984547,
          1.5713263882091706,
          0.8652915688561645,
          -0.35564225150995904,
          0.08611802524544993,
          0.5807975101496535,
          -0.5577839152190184,
          -0.08050906037230894,
          -1.4085344406818847,
          -0.45472191479326723,
          -0.45472191479326723,
          0.3137509922462332,
          -0.6650223929550225,
          2.3543699817332064,
          1.7307122164947093,
          0.9659684932088484,
          -0.8928618462013135,
          -0.5577839152190184,
          0.7574336905548407,
          -1.271480569984547,
          1.6546078569246936,
          -1.4085344406818847,
          -0.16870506085590167,
          1.7546143919211448,
          -0.35564225150995904,
          -0.35564225150995904,
          -1.1400301621704207,
          0.5807975101496535,
          -0.8928618462013135,
          1.5999333798224278,
          1.7307122164947093,
          -1.0139098810102,
          1.4311005086876842,
          2.05731674171986,
          0.45210867470243704,
          0.7006189547079055,
          0.3137509922462332,
          -0.2140905526281768,
          1.5114127324892894,
          -0.45472191479326723,
          0.08611802524544993,
          -0.16870506085590167,
          0.24067265458712825,
          -1.5514816357517087,
          -0.8928618462013135,
          0.16483703838880892,
          -0.08050906037230894,
          -1.0139098810102,
          -2.5515499170355143,
          1.6807354254106712,
          -1.0139098810102,
          0.7006189547079055,
          -0.26036125034943974,
          -1.1400301621704207,
          -0.35564225150995904,
          -2.5515499170355143,
          -1.4085344406818847,
          0.7006189547079055,
          -1.1400301621704207,
          0.38419176980714853,
          0.004382702213332241,
          0.08611802524544993,
          1.6677694323416785,
          0.04563598628216704,
          -1.4085344406818847,
          1.4476691951812906,
          0.7574336905548407,
          1.5999333798224278,
          -0.16870506085590167,
          1.1479976027041239,
          -0.08050906037230894,
          -0.45472191479326723,
          0.5176097085318763,
          1.5418306482097341,
          0.916490904950554,
          -0.26036125034943974,
          0.7006189547079055,
          0.16483703838880892,
          -0.45472191479326723,
          -0.7766426413284608,
          -1.0139098810102,
          -0.16870506085590167,
          0.08611802524544993,
          0.45210867470243704,
          -1.7006296953261084,
          -0.7766426413284608,
          -0.8928618462013135,
          1.6546078569246936,
          1.6546078569246936,
          0.004382702213332241,
          0.38419176980714853,
          0.16483703838880892,
          -0.16870506085590167,
          1.6412471391006882,
          -0.35564225150995904,
          0.24067265458712825,
          -0.5577839152190184,
          0.5807975101496535,
          -1.1400301621704207,
          0.16483703838880892,
          1.4958471103624875,
          0.24067265458712825,
          0.08611802524544993,
          1.9321579526941086,
          -0.16870506085590167,
          1.5713263882091706,
          0.004382702213332241,
          -0.35564225150995904,
          -0.35564225150995904,
          -0.26036125034943974,
          1.41426901916357,
          -1.4085344406818847,
          1.41426901916357,
          0.16483703838880892,
          -0.5577839152190184,
          0.3137509922462332,
          -0.6650223929550225,
          0.16483703838880892,
          0.5176097085318763,
          -0.35564225150995904,
          -1.4085344406818847,
          -0.26036125034943974,
          0.08611802524544993,
          -0.26036125034943974,
          1.7307122164947093,
          1.2695280212294033,
          1.41426901916357,
          -0.1241844809163436,
          -0.35564225150995904,
          -0.35564225150995904,
          -1.271480569984547,
          1.3797973945326518,
          1.7427511638422415,
          1.6276836428402088,
          0.004382702213332241,
          0.5176097085318763,
          -1.5514816357517087,
          -0.5577839152190184,
          1.41426901916357,
          0.004382702213332241
         ],
         "y": [
          0.2134637313737436,
          0.334142920169072,
          0.334142920169072,
          1.173472058844166,
          1.917783531361993,
          -1.6011912965535533,
          1.0084350157389301,
          -0.17211738327090426,
          0.12670289410578597,
          0.589881146489707,
          1.3698931882536938,
          0.28253258864004654,
          0.12670289410578597,
          -1.3538660786867738,
          -0.1366337153225867,
          1.1076097359738994,
          0.47100216588171073,
          2.092574162050022,
          0.2652930228191657,
          1.1570251808862424,
          1.0580804140766455,
          0.10929235295649431,
          -0.47772667098204624,
          -0.013148969753029333,
          1.4512403691390061,
          1.5969673716536004,
          0.539029611958925,
          1.3046091161420432,
          -1.4146572925387935,
          -1.2737322161108284,
          -0.17211738327090426,
          -0.17211738327090426,
          -1.6650077499353981,
          -0.20769452110846826,
          -1.8180114538045695,
          -0.22551878431886296,
          -0.24336719746444535,
          -1.4146572925387935,
          0.16146506554738496,
          1.6453498161229314,
          0.2652930228191657,
          -1.729813203150309,
          -0.22551878431886296,
          -0.2791375686873878,
          -1.4350626094583612,
          0.35131075550543023,
          0.45395420103098644,
          -1.686493367045337,
          -1.4146572925387935,
          0.589881146489707,
          -1.5174505038341775,
          -1.7516583451267382,
          -0.18989414115790082,
          -1.2936721326139002,
          -0.18989414115790082,
          1.255522856393379,
          -1.4760984424295813,
          1.725779022757244,
          0.4880335585412947,
          0.9420566338346475,
          1.5969673716536004,
          1.4999142507302254,
          -1.4350626094583612,
          0.7416010229276111,
          -0.24336719746444535,
          0.14409373758216618,
          -0.8480766809357203,
          -0.6983427391558538,
          -0.5691101589455096,
          0.07441143280394323,
          0.2480351329542278,
          -0.40513660847565053,
          1.0415449562585708,
          -0.048320633211840304,
          -0.2970600890799214,
          -0.2791375686873878,
          1.0911127219980403,
          -0.15436399156667388,
          -0.3509804936228957,
          -0.013148969753029333,
          -1.708093442195733,
          0.09186192875175095,
          -1.708093442195733,
          1.7899389186281978,
          -0.9048426711421943,
          0.09186192875175095,
          -0.8292321842302613,
          -1.908697906177036,
          -0.7916556211699647,
          0.07441143280394323,
          -0.15436399156667388,
          -0.6058744813514563,
          0.14409373758216618,
          2.1084088811107153,
          -1.840426938598126,
          0.6068001184544571,
          -1.2538520792526542,
          0.8086457309240422,
          -0.3870578511938046,
          -0.2612400328700469,
          -1.686493367045337,
          1.3046091161420432,
          1.1240940975850147,
          1.2063288712533302,
          -0.8669594897925093,
          -0.7355629427945019,
          1.1899065970046248,
          -0.7355629427945019,
          0.8587791225107804,
          0.05694067303317654,
          0.7919062041941881,
          2.344868631656542,
          -1.6650077499353981,
          1.1405658863581742,
          0.6574640817529573,
          -0.08357914636292918,
          -0.22551878431886296,
          0.16146506554738496,
          -1.8630060267612292,
          1.2391369272129205,
          1.6775524525597236,
          0.05694067303317654,
          1.402466051601343,
          1.3535895642562201,
          0.4368895301563895,
          0.4198080173802111,
          -0.048320633211840304,
          0.2480351329542278,
          -1.3136733432288419,
          -0.4232425250825478,
          -1.908697906177036,
          -1.2936721326139002,
          1.949647995708781,
          -0.47772667098204624,
          0.9752724738324142,
          0.29975398953188226,
          0.05694067303317654,
          -0.7355629427945019,
          -0.3870578511938046,
          0.70799102822973,
          0.7248034167791693,
          -0.6427643959239862,
          -0.22551878431886296,
          -0.369005921104043,
          1.6614563297822487,
          1.5161168506142855,
          0.19614988797348418,
          -1.0387437933177277,
          0.2652930228191657,
          -1.6011912965535533,
          -1.1749013555274652,
          -1.5382516650168292,
          1.6453498161229314,
          -0.2970600890799214,
          2.0291440875450415,
          0.6068001184544571,
          -1.8857591128466331,
          -0.9619717807834826,
          -0.7169357063662528,
          0.4880335585412947,
          -0.49594470658503664,
          0.4880335585412947,
          0.5050485108423528,
          -0.18989414115790082,
          1.5161168506142855,
          0.7248034167791693,
          -0.369005921104043,
          0.9420566338346475,
          1.1570251808862424,
          1.0415449562585708,
          1.0911127219980403,
          -0.20769452110846826,
          1.6936382394422473,
          0.7248034167791693,
          -0.06593892272483456,
          0.9586712603166028,
          -0.7355629427945019,
          0.19614988797348418,
          0.2652930228191657,
          -0.315007884415483,
          -0.1366337153225867,
          0.2480351329542278,
          -0.013148969753029333,
          -0.532467989497121,
          0.2307587572914895,
          0.6574640817529573,
          -1.3538660786867738,
          -0.06593892272483456,
          -2.026719196937821,
          0.02193757619695779,
          0.9254285045529342,
          -1.6011912965535533,
          0.1788170570238666,
          -1.643631776313835,
          -0.9619717807834826,
          -0.532467989497121,
          -0.9428872001431986,
          1.5646594209449145,
          1.0746029751803423,
          -0.2612400328700469,
          -0.3329812514671726,
          1.2882588795901617,
          -1.2340302763822695,
          0.6237035203941318,
          -0.49594470658503664,
          0.5220471526609503,
          0.07441143280394323,
          0.10929235295649431,
          0.9254285045529342,
          -0.6612575756281023,
          -1.1749013555274652,
          0.7248034167791693,
          -0.3509804936228957,
          -2.0511363379787997,
          1.1405658863581742,
          -0.18989414115790082,
          0.9254285045529342,
          0.14409373758216618,
          0.9087867815008309,
          2.2662660661972924,
          -1.6650077499353981,
          0.2307587572914895,
          0.5050485108423528,
          0.7751523123318387,
          0.2134637313737436,
          2.2032289510829752,
          -1.1945562074443,
          -0.3329812514671726,
          -0.20769452110846826,
          -0.2791375686873878,
          1.8219588647159795,
          1.3046091161420432,
          0.02193757619695779,
          0.05694067303317654,
          -0.2970600890799214,
          0.539029611958925,
          0.03944945387700394,
          0.4198080173802111,
          -0.06593892272483456,
          0.1788170570238666,
          -2.0511363379787997,
          0.589881146489707,
          0.7583839531103049,
          1.6131053934422954,
          0.6237035203941318,
          0.6574640817529573,
          -1.4350626094583612,
          1.2718968166295332,
          0.4368895301563895,
          0.45395420103098644,
          1.6775524525597236,
          1.1570251808862424,
          0.334142920169072,
          -1.7957502866555286,
          -0.5507740131507777,
          -0.15436399156667388,
          1.3046091161420432,
          0.6574640817529573,
          -1.643631776313835,
          1.222738956603988,
          0.31695738203365603,
          0.6405914696097311,
          -1.8857591128466331,
          1.3209475963630612,
          2.155859003693649,
          1.1076097359738994,
          0.7248034167791693,
          -0.03072405506881593,
          0.28253258864004654,
          0.9420566338346475,
          1.0911127219980403,
          -0.4232425250825478,
          -0.24336719746444535,
          -0.5141916849745084,
          -0.048320633211840304,
          0.8671223936197984,
          0.19614988797348418,
          1.6131053934422954,
          -0.2791375686873878,
          0.7248034167791693,
          2.595001721812068,
          0.9586712603166028,
          -0.6797835284166397,
          -1.5801188430539916,
          -0.7355629427945019,
          0.6237035203941318,
          0.14409373758216618,
          -0.20769452110846826,
          2.2426434588680646,
          -1.5382516650168292,
          -1.2340302763822695,
          -1.6223609986033936,
          0.6911637493845898,
          -0.8480766809357203,
          1.173472058844166,
          -1.0194840890002619,
          1.1899065970046248,
          1.4512403691390061,
          -0.40513660847565053,
          -0.5691101589455096,
          1.5161168506142855,
          0.2652930228191657,
          -0.9810989210628388,
          1.3535895642562201,
          0.12670289410578597,
          -0.3870578511938046,
          0.589881146489707,
          0.03944945387700394,
          -1.5591400745054136,
          -0.048320633211840304,
          -0.10124153121390278,
          -1.708093442195733,
          -1.4146572925387935,
          -0.03072405506881593,
          1.3372743895550243,
          -1.908697906177036,
          0.1788170570238666,
          0.2480351329542278,
          0.892131372549448,
          0.5220471526609503,
          0.05694067303317654,
          0.12670289410578597,
          2.187447808302526,
          0.6237035203941318,
          1.3209475963630612,
          0.16146506554738496,
          -1.708093442195733,
          0.10929235295649431,
          0.6743214708600292,
          0.2480351329542278,
          -0.7355629427945019,
          0.09186192875175095,
          2.3919286311395966,
          0.334142920169072,
          -0.20769452110846826,
          0.572946485514835,
          -1.4967336755125333,
          -0.532467989497121,
          -1.6650077499353981,
          0.09186192875175095,
          -1.3337374361493397,
          0.6743214708600292,
          -0.5874768402823676,
          -0.7916556211699647,
          -0.013148969753029333,
          0.19614988797348418,
          0.05694067303317654,
          0.7248034167791693,
          -1.3337374361493397,
          -0.03072405506881593,
          1.0911127219980403,
          0.45395420103098644,
          -0.8292321842302613,
          0.5050485108423528,
          0.10929235295649431,
          0.7248034167791693,
          1.629232856042733,
          0.70799102822973,
          0.004404837181747323,
          -1.729813203150309,
          -0.15436399156667388,
          0.004404837181747323,
          0.2134637313737436,
          0.4198080173802111,
          1.0084350157389301,
          -0.2791375686873878,
          -0.4595372041261961,
          -1.9787713276703218,
          -1.2142654261590093,
          1.629232856042733,
          -0.18989414115790082,
          -0.3329812514671726,
          0.5050485108423528,
          1.5808187334314745,
          -1.2142654261590093,
          0.35131075550543023,
          -0.013148969753029333,
          -0.8480766809357203,
          2.01326355116747,
          -0.7916556211699647,
          0.2480351329542278,
          -1.8857591128466331,
          0.6237035203941318,
          -1.0774018682137723,
          1.3372743895550243,
          -0.03072405506881593,
          -0.923844411073836,
          1.2718968166295332,
          -1.5591400745054136,
          -0.06593892272483456,
          -1.77363509484116,
          -0.2970600890799214,
          -1.840426938598126,
          -1.3943241135849778,
          -0.8669594897925093,
          0.892131372549448,
          0.19614988797348418,
          1.3535895642562201,
          0.892131372549448,
          0.2134637313737436,
          -0.013148969753029333,
          -0.06593892272483456,
          -0.3509804936228957,
          -0.013148969753029333,
          0.385593912108868,
          -1.0002694160048593,
          -0.44137594095751975,
          -1.9787713276703218,
          -0.369005921104043,
          0.9752724738324142,
          0.9752724738324142,
          -1.2737322161108284,
          -1.5174505038341775,
          -1.058049413722683,
          0.9420566338346475,
          0.572946485514835,
          0.2480351329542278,
          0.03944945387700394,
          1.4187354228763653,
          -0.8104253683335724,
          -1.2737322161108284,
          1.2391369272129205,
          1.7739140223193404,
          0.16146506554738496,
          -0.369005921104043,
          1.3209475963630612,
          -0.49594470658503664,
          -0.4232425250825478,
          -1.77363509484116,
          0.2307587572914895,
          0.2652930228191657,
          0.5220471526609503,
          1.2391369272129205,
          -0.47772667098204624,
          0.8587791225107804,
          1.3535895642562201,
          -0.08357914636292918,
          -0.048320633211840304,
          -1.955187655404764,
          -0.03072405506881593,
          0.539029611958925,
          0.31695738203365603,
          -1.9787713276703218,
          -1.0194840890002619,
          0.1788170570238666,
          -1.729813203150309,
          0.6237035203941318,
          0.004404837181747323,
          1.949647995708781,
          0.9752724738324142,
          0.7248034167791693,
          -2.075893638028298,
          0.45395420103098644,
          1.5646594209449145,
          -0.47772667098204624,
          0.004404837181747323,
          0.5220471526609503,
          0.29975398953188226,
          1.402466051601343,
          0.6574640817529573,
          0.892131372549448,
          -0.49594470658503664,
          -1.1552996586574498,
          1.8059538491450706,
          1.3209475963630612,
          -2.0026071396376657,
          -1.686493367045337,
          0.1788170570238666,
          0.29975398953188226,
          0.45395420103098644,
          0.555996014825017,
          -1.5382516650168292,
          1.0249965182959653,
          -2.026719196937821,
          0.7248034167791693,
          -0.5874768402823676,
          -0.6058744813514563,
          -0.6058744813514563,
          0.8420820911757055,
          -0.315007884415483,
          0.31695738203365603,
          -0.6058744813514563,
          -0.6243035175503183,
          0.9752724738324142,
          -0.5141916849745084,
          -0.2970600890799214,
          -0.8669594897925093,
          -0.03072405506881593,
          0.7919062041941881,
          -1.0774018682137723,
          -1.2340302763822695,
          -0.3509804936228957,
          0.19614988797348418,
          -1.4146572925387935,
          1.2718968166295332,
          0.6405914696097311,
          -0.06593892272483456,
          -1.708093442195733,
          -0.4595372041261961,
          0.8754621843898576,
          0.555996014825017,
          1.3209475963630612,
          1.99737371903418,
          -1.2737322161108284,
          0.5050485108423528,
          -0.7169357063662528,
          -0.2970600890799214,
          -1.2340302763822695,
          -0.7355629427945019,
          -0.9619717807834826,
          0.4880335585412947,
          -0.8292321842302613,
          -0.03072405506881593,
          -1.2142654261590093,
          1.173472058844166,
          -1.9318356904315208,
          1.0415449562585708,
          1.629232856042733,
          0.9087867815008309,
          -0.532467989497121,
          0.9586712603166028,
          0.8420820911757055,
          -1.686493367045337,
          -0.5141916849745084,
          -0.5874768402823676,
          -1.6223609986033936,
          -1.8180114538045695,
          0.07441143280394323,
          0.385593912108868,
          0.07441143280394323,
          -1.8630060267612292,
          -1.4146572925387935,
          0.7248034167791693,
          0.8420820911757055,
          -1.908697906177036,
          -1.8857591128466331,
          0.02193757619695779,
          2.092574162050022,
          -1.0002694160048593,
          -0.923844411073836,
          0.1788170570238666,
          -0.6983427391558538,
          -0.44137594095751975,
          -1.3538660786867738,
          0.6237035203941318,
          0.29975398953188226,
          0.6237035203941318,
          -0.44137594095751975,
          0.572946485514835,
          0.12670289410578597,
          -1.1162511289454389,
          -0.048320633211840304,
          -1.4967336755125333,
          -1.3943241135849778,
          0.02193757619695779,
          -0.7542249760173387,
          -0.06593892272483456,
          -0.9810989210628388,
          -2.0026071396376657,
          0.05694067303317654,
          0.35131075550543023,
          -0.532467989497121,
          0.7583839531103049,
          0.6574640817529573,
          0.6068001184544571,
          0.12670289410578597,
          -1.8630060267612292,
          0.19614988797348418,
          -1.729813203150309,
          0.9752724738324142,
          0.03944945387700394,
          -0.47772667098204624,
          -0.1189263088230102,
          1.1240940975850147,
          1.3046091161420432,
          -1.0387437933177277,
          -0.15436399156667388,
          -1.2340302763822695,
          -1.1162511289454389,
          0.6743214708600292,
          -1.840426938598126,
          -0.2612400328700469,
          0.5050485108423528,
          -1.9787713276703218,
          0.9254285045529342,
          -1.4146572925387935,
          0.9586712603166028,
          2.1716578394543893,
          0.6743214708600292,
          0.14409373758216618,
          -0.6797835284166397,
          0.09186192875175095,
          0.334142920169072,
          1.629232856042733,
          -0.49594470658503664,
          0.09186192875175095,
          0.07441143280394323,
          1.5484893757682494,
          -0.06593892272483456,
          1.2063288712533302,
          -0.2970600890799214,
          -1.2936721326139002,
          0.334142920169072,
          1.8858807776200748,
          0.334142920169072,
          -0.22551878431886296,
          0.2652930228191657,
          -0.7169357063662528,
          0.385593912108868,
          -1.7516583451267382,
          -0.18989414115790082,
          -0.10124153121390278,
          -0.6983427391558538,
          5.119167543883749,
          -1.0387437933177277,
          -1.77363509484116,
          0.8086457309240422,
          -1.1945562074443,
          -0.08357914636292918,
          0.6237035203941318,
          0.4198080173802111,
          -0.013148969753029333,
          0.03944945387700394,
          -2.026719196937821,
          1.1405658863581742,
          -1.2936721326139002,
          -0.10124153121390278,
          0.07441143280394323,
          1.2063288712533302,
          0.45395420103098644,
          1.1240940975850147,
          -0.8858812623135275,
          0.1788170570238666,
          -0.6797835284166397,
          -0.22551878431886296,
          0.8253709933994369,
          1.0746029751803423,
          -1.7516583451267382,
          1.6131053934422954,
          -0.40513660847565053,
          0.10929235295649431,
          -1.1749013555274652,
          0.8587791225107804,
          1.0084350157389301,
          0.6743214708600292,
          0.3684610372107028,
          -1.5174505038341775,
          0.3684610372107028,
          0.7751523123318387,
          0.7919062041941881,
          0.8253709933994369,
          0.29975398953188226,
          1.483700678323579,
          1.9337205260811308,
          -1.7516583451267382,
          -0.8858812623135275,
          -2.0026071396376657,
          -0.20769452110846826,
          0.6574640817529573,
          0.4198080173802111,
          -0.7355629427945019,
          1.8858807776200748,
          0.9918603630994219,
          0.5050485108423528,
          0.31695738203365603,
          -1.3943241135849778,
          0.10929235295649431,
          -1.1552996586574498,
          -0.1189263088230102,
          -1.1945562074443,
          -1.9318356904315208,
          1.6534043752709744,
          -0.15436399156667388,
          -1.8857591128466331,
          0.2480351329542278,
          -0.1366337153225867,
          0.9254285045529342,
          0.16146506554738496,
          -0.49594470658503664,
          -1.2538520792526542,
          4.0350066298208045,
          -0.44137594095751975,
          -0.20769452110846826,
          -0.6612575756281023,
          0.1788170570238666,
          0.31695738203365603,
          0.09186192875175095,
          -1.058049413722683,
          -1.6223609986033936,
          -0.9810989210628388,
          0.5050485108423528,
          0.19614988797348418,
          -1.908697906177036,
          -1.5591400745054136,
          2.0291440875450415,
          -1.4760984424295813,
          0.7583839531103049,
          -1.908697906177036,
          2.1716578394543893,
          1.6936382394422473,
          0.16146506554738496,
          -0.5874768402823676,
          1.6775524525597236,
          0.4880335585412947,
          1.7097137448725857,
          -1.7516583451267382,
          -0.4595372041261961,
          -1.7957502866555286,
          -1.686493367045337,
          0.589881146489707,
          -0.03072405506881593,
          0.9586712603166028,
          -0.4232425250825478,
          -0.6243035175503183,
          -0.06593892272483456,
          0.572946485514835,
          -0.6612575756281023,
          -0.532467989497121,
          0.004404837181747323,
          0.6405914696097311,
          -0.9619717807834826,
          1.0911127219980403,
          -0.49594470658503664,
          1.2718968166295332,
          -1.09680210988784,
          0.6911637493845898,
          -1.374061023193457,
          -0.24336719746444535,
          -0.47772667098204624,
          1.2882588795901617,
          1.0580804140766455,
          1.483700678323579,
          0.7751523123318387,
          0.14409373758216618,
          0.14409373758216618,
          -0.532467989497121,
          1.99737371903418,
          -1.8180114538045695,
          0.539029611958925,
          -0.15436399156667388,
          -0.7729223490797672,
          0.8253709933994369,
          1.2718968166295332,
          -0.013148969753029333,
          -0.2791375686873878,
          -1.4350626094583612,
          -0.4232425250825478,
          -0.532467989497121,
          -1.8857591128466331,
          0.892131372549448,
          -1.1749013555274652,
          0.2307587572914895,
          1.1899065970046248,
          -1.1945562074443,
          0.7583839531103049,
          -1.135749954850263,
          1.3698931882536938,
          0.6405914696097311,
          0.19614988797348418,
          0.7248034167791693,
          1.1240940975850147,
          0.2480351329542278,
          0.5050485108423528,
          0.05694067303317654,
          1.5969673716536004,
          0.29975398953188226,
          -1.686493367045337,
          -1.955187655404764,
          1.3046091161420432,
          -0.4232425250825478,
          1.173472058844166,
          -0.6612575756281023,
          -1.374061023193457,
          1.173472058844166,
          0.334142920169072,
          0.02193757619695779,
          0.35131075550543023,
          0.334142920169072,
          0.5220471526609503,
          0.03944945387700394,
          -1.955187655404764,
          -1.8630060267612292,
          0.589881146489707,
          1.3372743895550243,
          -1.686493367045337,
          2.7503019456804,
          0.02193757619695779,
          0.004404837181747323,
          0.2652930228191657,
          1.1899065970046248,
          0.9087867815008309,
          0.572946485514835,
          -1.9318356904315208,
          -1.955187655404764,
          -0.10124153121390278,
          1.6131053934422954,
          2.688274314127928,
          0.4880335585412947,
          -0.2970600890799214,
          0.5050485108423528,
          1.4512403691390061,
          1.3535895642562201,
          0.2134637313737436,
          -1.1749013555274652,
          -0.6427643959239862,
          1.1899065970046248,
          -0.369005921104043,
          -0.013148969753029333,
          1.1240940975850147,
          0.09186192875175095,
          2.01326355116747,
          0.31695738203365603,
          0.29975398953188226,
          0.6237035203941318,
          1.1240940975850147,
          0.402709524733577,
          -0.08357914636292918,
          1.4674760718563633,
          -0.8858812623135275,
          0.8754621843898576,
          -1.2340302763822695,
          0.539029611958925,
          0.004404837181747323,
          0.14409373758216618,
          0.7751523123318387,
          0.10929235295649431,
          0.1788170570238666,
          -0.369005921104043,
          0.2134637313737436,
          -0.6983427391558538,
          0.2652930228191657,
          1.4512403691390061,
          1.255522856393379,
          0.402709524733577,
          0.14409373758216618,
          -0.3509804936228957,
          0.4368895301563895,
          1.0084350157389301,
          -0.048320633211840304,
          1.4187354228763653,
          0.16146506554738496,
          -1.0194840890002619,
          -0.6058744813514563,
          0.16146506554738496,
          -0.2970600890799214,
          0.16146506554738496,
          -1.09680210988784,
          1.3046091161420432,
          -0.17211738327090426,
          -1.8857591128466331,
          -0.08357914636292918,
          -0.47772667098204624,
          1.0249965182959653,
          -1.9318356904315208,
          0.6405914696097311,
          -1.0774018682137723,
          1.1899065970046248,
          -1.5591400745054136,
          1.0249965182959653,
          -2.0026071396376657,
          -1.0774018682137723,
          0.9752724738324142,
          -0.8858812623135275,
          -0.17211738327090426,
          -0.6058744813514563,
          -1.3337374361493397,
          -1.729813203150309,
          -0.8480766809357203,
          0.2480351329542278,
          -0.315007884415483,
          -0.7542249760173387,
          -1.8180114538045695,
          -1.4760984424295813,
          -1.7516583451267382,
          -1.5801188430539916,
          -0.8292321842302613,
          0.29975398953188226,
          0.9752724738324142,
          -0.9619717807834826,
          1.173472058844166,
          0.2480351329542278,
          0.6911637493845898,
          -1.374061023193457,
          0.02193757619695779,
          -0.10124153121390278,
          0.12670289410578597,
          0.2134637313737436,
          -0.315007884415483,
          0.10929235295649431,
          -0.06593892272483456,
          -0.048320633211840304,
          -1.6650077499353981,
          1.949647995708781,
          1.3372743895550243,
          -1.1552996586574498,
          -0.7916556211699647,
          -1.4967336755125333,
          0.16146506554738496,
          0.10929235295649431,
          0.7416010229276111,
          -0.2612400328700469,
          0.4198080173802111,
          -1.6223609986033936,
          0.47100216588171073,
          -0.5691101589455096,
          -1.77363509484116,
          -0.10124153121390278,
          0.9087867815008309,
          -0.532467989497121,
          0.589881146489707,
          -1.09680210988784,
          0.29975398953188226,
          1.5646594209449145,
          0.2307587572914895,
          0.7248034167791693,
          -0.6058744813514563,
          1.0084350157389301,
          -2.0511363379787997,
          0.8420820911757055,
          0.19614988797348418,
          0.31695738203365603,
          1.1240940975850147,
          1.1076097359738994,
          0.70799102822973,
          -1.9787713276703218,
          0.7919062041941881,
          0.385593912108868,
          0.6068001184544571,
          -1.0194840890002619,
          -0.7355629427945019,
          1.483700678323579,
          0.6574640817529573,
          -0.20769452110846826,
          0.589881146489707,
          1.3209475963630612,
          0.1788170570238666,
          -0.3509804936228957,
          -1.1162511289454389,
          1.0911127219980403,
          -0.048320633211840304,
          0.2307587572914895,
          0.6743214708600292,
          0.4880335585412947,
          -1.1552996586574498,
          1.2063288712533302,
          0.6574640817529573,
          -1.4146572925387935,
          -0.24336719746444535,
          -1.6011912965535533,
          -0.048320633211840304,
          -0.08357914636292918,
          -0.7916556211699647,
          -0.5507740131507777,
          -1.058049413722683,
          0.07441143280394323,
          0.05694067303317654,
          0.35131075550543023,
          -1.09680210988784,
          1.0249965182959653,
          0.572946485514835,
          0.8587791225107804,
          -0.22551878431886296,
          -0.2612400328700469,
          -0.8480766809357203,
          -0.048320633211840304,
          -1.6223609986033936,
          0.402709524733577,
          -0.15436399156667388,
          0.1788170570238666,
          0.7919062041941881,
          -1.8630060267612292,
          -1.2340302763822695,
          0.6068001184544571,
          0.8086457309240422,
          1.8219588647159795,
          -0.2612400328700469,
          0.539029611958925,
          -0.369005921104043,
          0.892131372549448,
          0.6743214708600292,
          -1.840426938598126,
          1.173472058844166,
          1.1240940975850147,
          -1.4146572925387935,
          0.09186192875175095,
          -1.0002694160048593,
          -0.9048426711421943,
          -1.686493367045337,
          0.45395420103098644,
          -1.840426938598126,
          1.0746029751803423,
          0.7248034167791693,
          0.9254285045529342,
          0.2480351329542278,
          -0.369005921104043,
          -0.923844411073836,
          1.0580804140766455,
          0.28253258864004654,
          0.14409373758216618,
          0.004404837181747323,
          -1.2142654261590093,
          -0.7729223490797672,
          -0.5507740131507777,
          -0.08357914636292918,
          -0.4595372041261961,
          -2.0026071396376657,
          -0.315007884415483,
          0.402709524733577,
          -0.4595372041261961,
          -1.4146572925387935,
          -1.9787713276703218,
          -0.3329812514671726,
          2.297732703854695,
          -0.22551878431886296,
          -0.1189263088230102,
          0.6237035203941318,
          -0.17211738327090426,
          0.334142920169072,
          -1.840426938598126,
          -1.4967336755125333,
          0.09186192875175095,
          0.9420566338346475,
          1.6453498161229314,
          0.9420566338346475,
          -0.3870578511938046,
          -1.09680210988784,
          -0.013148969753029333,
          0.31695738203365603,
          -1.729813203150309,
          -0.40513660847565053,
          0.09186192875175095,
          -1.7516583451267382,
          -0.1366337153225867,
          1.2718968166295332,
          1.2063288712533302,
          0.589881146489707,
          0.7416010229276111,
          0.35131075550543023,
          1.2718968166295332,
          1.4999142507302254,
          -0.9428872001431986,
          1.5323085388721207,
          -0.3870578511938046,
          0.7919062041941881,
          0.05694067303317654,
          0.6574640817529573,
          0.31695738203365603,
          0.5050485108423528,
          0.2739150862293242,
          1.1240940975850147,
          0.05694067303317654,
          2.0450153727935105,
          -0.7542249760173387,
          0.1788170570238666,
          0.45395420103098644,
          0.892131372549448,
          -0.8292321842302613,
          -0.8104253683335724,
          0.07441143280394323,
          -1.6011912965535533,
          -1.77363509484116,
          -0.013148969753029333,
          -0.7916556211699647,
          1.3535895642562201,
          -0.06593892272483456,
          0.2652930228191657,
          -1.1162511289454389,
          0.7751523123318387,
          0.402709524733577,
          -0.40513660847565053,
          -0.9428872001431986,
          -1.4350626094583612,
          -0.08357914636292918,
          0.29975398953188226,
          0.09186192875175095,
          0.9752724738324142,
          0.7751523123318387,
          -0.08357914636292918,
          -1.058049413722683,
          -0.49594470658503664,
          -0.17211738327090426,
          1.173472058844166,
          0.8420820911757055,
          0.7583839531103049,
          0.555996014825017,
          0.14409373758216618,
          0.16146506554738496,
          0.4880335585412947,
          -0.3509804936228957,
          1.0249965182959653,
          -0.369005921104043,
          0.07441143280394323,
          -1.1162511289454389,
          0.004404837181747323,
          0.07441143280394323,
          -0.40513660847565053,
          0.6405914696097311,
          0.4368895301563895,
          1.402466051601343,
          0.19614988797348418,
          -1.1552996586574498,
          -1.8857591128466331,
          -0.20769452110846826,
          -0.9810989210628388,
          1.483700678323579,
          0.4198080173802111,
          -0.03072405506881593,
          -0.6797835284166397,
          -1.5801188430539916,
          -1.3337374361493397,
          -0.18989414115790082,
          0.9420566338346475,
          0.7751523123318387,
          1.2718968166295332,
          0.2134637313737436,
          -1.3136733432288419,
          -1.7516583451267382,
          -0.048320633211840304,
          0.16146506554738496,
          -0.7542249760173387,
          -1.9787713276703218,
          -0.6612575756281023,
          0.29975398953188226,
          -1.908697906177036,
          -1.9318356904315208,
          -1.729813203150309,
          -0.5507740131507777,
          1.7899389186281978,
          0.539029611958925,
          -1.686493367045337,
          0.31695738203365603,
          0.70799102822973,
          -0.013148969753029333,
          0.29975398953188226,
          -0.8292321842302613,
          -0.20769452110846826,
          -1.135749954850263,
          0.6743214708600292,
          0.004404837181747323,
          -1.6223609986033936,
          -0.6983427391558538,
          0.14409373758216618,
          -1.840426938598126,
          0.4198080173802111,
          0.9752724738324142,
          -0.9810989210628388,
          -1.8180114538045695,
          -1.4760984424295813,
          0.8420820911757055,
          0.6405914696097311,
          0.6237035203941318,
          -0.6983427391558538,
          -1.5591400745054136,
          -1.4760984424295813,
          0.6405914696097311,
          0.8253709933994369,
          -0.369005921104043,
          -0.06593892272483456,
          0.334142920169072,
          0.8253709933994369,
          1.0084350157389301,
          0.29975398953188226,
          -0.923844411073836,
          0.16146506554738496,
          0.7416010229276111,
          1.1076097359738994,
          -0.8292321842302613,
          0.7751523123318387,
          -1.955187655404764,
          1.2882588795901617,
          -2.026719196937821,
          0.19614988797348418,
          -0.4595372041261961,
          -0.20769452110846826,
          0.9586712603166028,
          0.45395420103098644,
          1.0415449562585708,
          -1.9318356904315208,
          0.8754621843898576,
          1.7498578795577187,
          -1.4350626094583612,
          1.1076097359738994,
          -0.923844411073836,
          -1.643631776313835,
          -0.5691101589455096,
          0.8587791225107804,
          -1.058049413722683,
          0.09186192875175095,
          -1.7957502866555286,
          1.0415449562585708,
          0.02193757619695779,
          0.3684610372107028,
          0.14409373758216618,
          0.555996014825017,
          -1.729813203150309,
          0.12670289410578597,
          0.35131075550543023,
          -0.1189263088230102,
          -0.3329812514671726,
          -0.47772667098204624,
          0.6405914696097311,
          0.539029611958925,
          0.2652930228191657,
          1.757879108880402,
          -0.1189263088230102,
          -0.22551878431886296,
          -0.3329812514671726,
          0.31695738203365603,
          1.0580804140766455,
          0.7416010229276111,
          0.4880335585412947,
          2.1716578394543893,
          0.70799102822973,
          1.255522856393379,
          0.5050485108423528,
          0.14409373758216618,
          0.892131372549448,
          -1.6011912965535533,
          -1.729813203150309,
          0.7248034167791693,
          -0.7729223490797672,
          -0.315007884415483,
          0.2134637313737436,
          -1.955187655404764,
          0.892131372549448,
          -0.7169357063662528,
          2.0450153727935105,
          -0.1189263088230102,
          1.8379540157017589,
          1.0580804140766455,
          -1.686493367045337,
          -0.10124153121390278,
          0.9918603630994219,
          0.6574640817529573,
          0.555996014825017,
          1.222738956603988,
          -0.013148969753029333,
          -0.22551878431886296,
          0.6068001184544571,
          -1.3538660786867738,
          -1.729813203150309,
          0.892131372549448,
          -1.2340302763822695,
          0.402709524733577,
          0.14409373758216618,
          0.2652930228191657,
          -0.7542249760173387,
          0.589881146489707,
          0.45395420103098644,
          0.2652930228191657,
          -0.3870578511938046,
          -0.03072405506881593,
          1.0911127219980403,
          0.2480351329542278,
          0.572946485514835,
          0.7248034167791693,
          0.28253258864004654,
          -1.955187655404764,
          1.6453498161229314,
          -0.9048426711421943,
          -1.8857591128466331,
          1.6936382394422473,
          0.6911637493845898,
          -1.374061023193457,
          -0.6058744813514563,
          -1.2936721326139002,
          -0.923844411073836,
          -1.2936721326139002,
          0.4368895301563895,
          1.0911127219980403,
          -0.8104253683335724,
          0.539029611958925,
          0.1788170570238666,
          -0.048320633211840304,
          1.7739140223193404,
          0.07441143280394323,
          0.6068001184544571,
          -0.6427643959239862,
          0.5050485108423528,
          1.402466051601343,
          -1.6650077499353981,
          0.9087867815008309,
          -0.013148969753029333,
          0.5220471526609503,
          -0.369005921104043,
          -0.03072405506881593,
          1.1405658863581742,
          -1.729813203150309,
          0.8086457309240422,
          0.45395420103098644,
          0.385593912108868,
          1.0911127219980403,
          1.917783531361993,
          -1.0194840890002619,
          -1.8180114538045695,
          -0.2612400328700469,
          0.6237035203941318,
          -0.15436399156667388,
          1.8699149229758023,
          0.3684610372107028,
          0.3684610372107028,
          -1.9787713276703218,
          -1.3136733432288419,
          -0.5874768402823676,
          0.47100216588171073,
          -1.8857591128466331,
          0.334142920169072,
          -1.5591400745054136,
          -1.7957502866555286,
          0.9254285045529342,
          0.892131372549448,
          1.1899065970046248,
          -0.06593892272483456,
          0.4880335585412947,
          0.45395420103098644,
          -1.708093442195733,
          -1.6223609986033936,
          0.3684610372107028,
          0.6237035203941318,
          0.8754621843898576,
          0.402709524733577,
          -0.1189263088230102,
          -0.532467989497121,
          0.29975398953188226,
          0.334142920169072,
          0.589881146489707,
          -1.4146572925387935,
          -1.9787713276703218,
          -0.24336719746444535,
          1.1405658863581742,
          -1.2538520792526542,
          1.402466051601343,
          1.0911127219980403,
          -0.24336719746444535,
          -0.8104253683335724,
          0.385593912108868,
          -1.643631776313835,
          -2.1266146047897263,
          -0.4595372041261961,
          1.0415449562585708,
          0.9087867815008309,
          0.02193757619695779,
          -1.3136733432288419,
          1.3535895642562201,
          0.28253258864004654,
          -0.369005921104043,
          -0.17211738327090426,
          -1.5591400745054136,
          0.35131075550543023,
          0.334142920169072,
          -0.4595372041261961,
          0.7583839531103049,
          -1.6223609986033936,
          -0.49594470658503664,
          -0.6427643959239862,
          -0.3870578511938046,
          -0.6797835284166397,
          -0.048320633211840304,
          -1.135749954850263,
          0.7416010229276111,
          0.07441143280394323,
          1.5808187334314745,
          1.222738956603988,
          0.6574640817529573,
          2.140051259818833,
          -1.3136733432288419,
          0.1788170570238666,
          -1.4967336755125333,
          -1.708093442195733,
          1.5484893757682494,
          -0.315007884415483,
          0.589881146489707,
          0.2480351329542278,
          -0.44137594095751975,
          0.6743214708600292,
          1.0249965182959653,
          0.589881146489707,
          1.5161168506142855,
          -0.06593892272483456,
          -1.840426938598126,
          0.4198080173802111,
          -0.1366337153225867,
          -0.6612575756281023,
          -1.2142654261590093,
          -1.9787713276703218,
          0.2480351329542278,
          1.5808187334314745,
          -1.9787713276703218,
          0.6068001184544571,
          -1.908697906177036,
          -0.7355629427945019,
          -0.4232425250825478,
          0.6068001184544571,
          -2.0511363379787997,
          2.2190013082886075,
          -1.8857591128466331,
          1.1570251808862424,
          0.8754621843898576,
          0.9586712603166028,
          0.6068001184544571,
          0.29975398953188226,
          1.0415449562585708,
          0.03944945387700394,
          0.9420566338346475,
          -0.49594470658503664,
          -0.3870578511938046,
          -1.6011912965535533,
          2.140051259818833,
          -0.18989414115790082,
          1.173472058844166,
          1.1405658863581742,
          -0.3329812514671726,
          -1.6650077499353981,
          0.35131075550543023,
          -0.8858812623135275,
          -0.4232425250825478,
          -0.7542249760173387,
          0.31695738203365603,
          -0.1189263088230102,
          1.402466051601343,
          1.2882588795901617,
          -0.8104253683335724,
          -1.7957502866555286,
          2.068805051434838,
          0.5050485108423528,
          -0.22551878431886296,
          1.173472058844166,
          -2.026719196937821,
          -0.532467989497121,
          0.7416010229276111,
          0.7751523123318387,
          -0.08357914636292918,
          0.02193757619695779,
          -0.6427643959239862,
          0.8420820911757055,
          0.5050485108423528,
          -1.840426938598126,
          2.1242345662673285,
          0.05694067303317654,
          -0.2612400328700469,
          -1.7957502866555286,
          0.05694067303317654,
          1.5808187334314745,
          -0.923844411073836,
          -1.2340302763822695,
          -1.6223609986033936,
          0.4368895301563895,
          0.2480351329542278,
          -0.6797835284166397,
          -0.06593892272483456,
          -0.923844411073836,
          0.9752724738324142,
          0.9420566338346475,
          -1.6223609986033936,
          0.5050485108423528,
          -1.708093442195733,
          -0.9048426711421943,
          1.4674760718563633,
          0.4880335585412947,
          -0.17211738327090426,
          0.9087867815008309,
          -0.013148969753029333,
          -1.2936721326139002,
          -0.10124153121390278,
          -1.1945562074443,
          0.6574640817529573,
          -0.048320633211840304,
          -0.1366337153225867,
          0.19614988797348418,
          -1.3136733432288419,
          1.2718968166295332,
          -0.6520069189262788,
          1.0249965182959653,
          -1.8180114538045695,
          -0.013148969753029333,
          -1.7957502866555286,
          1.2063288712533302,
          -0.3870578511938046,
          1.255522856393379,
          -1.908697906177036,
          -0.6058744813514563,
          -1.2538520792526542,
          1.173472058844166,
          -0.369005921104043,
          -0.08357914636292918,
          -0.4232425250825478,
          -1.4146572925387935,
          -1.8857591128466331,
          -0.7355629427945019,
          -0.013148969753029333,
          -0.6427643959239862,
          0.10929235295649431,
          1.3209475963630612,
          -0.9619717807834826,
          -0.5691101589455096,
          0.4880335585412947,
          -1.4967336755125333,
          0.8754621843898576,
          -1.9787713276703218,
          -1.2142654261590093,
          -1.1945562074443,
          -0.369005921104043,
          0.5050485108423528,
          -1.9318356904315208,
          0.8587791225107804,
          1.8858807776200748,
          -0.2791375686873878,
          -0.048320633211840304,
          0.555996014825017,
          0.1788170570238666,
          0.47100216588171073,
          0.385593912108868,
          0.6405914696097311,
          0.2307587572914895,
          -0.9428872001431986,
          -0.315007884415483,
          1.6534043752709744,
          -0.03072405506881593,
          -1.2142654261590093,
          -2.075893638028298,
          -0.6983427391558538,
          -0.3509804936228957,
          0.6068001184544571,
          -1.0194840890002619,
          1.0911127219980403,
          1.6614563297822487,
          0.6574640817529573,
          0.2134637313737436,
          0.45395420103098644,
          -0.03072405506881593,
          1.5323085388721207,
          0.31695738203365603,
          -0.10124153121390278,
          -0.8858812623135275,
          -1.908697906177036,
          1.4674760718563633,
          -1.7957502866555286,
          1.3861853285952734,
          -0.6427643959239862,
          0.4368895301563895,
          -0.369005921104043,
          0.12670289410578597,
          -1.6011912965535533,
          0.8420820911757055,
          -0.048320633211840304,
          1.2882588795901617,
          -0.08357914636292918,
          -1.9318356904315208,
          0.9586712603166028,
          -0.3870578511938046,
          -1.5382516650168292,
          0.14409373758216618,
          -1.4146572925387935,
          -2.0511363379787997,
          -1.6650077499353981,
          -1.4350626094583612,
          0.3684610372107028,
          -0.40513660847565053,
          -0.7355629427945019,
          -1.8180114538045695,
          2.2820036791452027,
          -1.8857591128466331,
          -1.8630060267612292,
          0.12670289410578597,
          1.2718968166295332,
          -0.18989414115790082,
          1.1076097359738994,
          0.5050485108423528,
          0.1788170570238666,
          -0.9048426711421943,
          0.7751523123318387,
          1.6614563297822487,
          -0.6612575756281023,
          -1.5591400745054136,
          0.3684610372107028,
          0.9087867815008309,
          1.9018369644041568,
          0.2134637313737436,
          -0.9810989210628388,
          1.483700678323579,
          0.5220471526609503,
          0.8253709933994369,
          0.09186192875175095,
          0.1788170570238666,
          0.6237035203941318,
          0.539029611958925,
          -1.4760984424295813,
          0.334142920169072,
          -1.2142654261590093,
          -0.6797835284166397,
          -0.8858812623135275,
          -0.4232425250825478,
          0.9586712603166028,
          1.173472058844166,
          1.173472058844166,
          -0.8858812623135275,
          0.6237035203941318,
          -1.3943241135849778,
          0.004404837181747323,
          0.539029611958925,
          -1.2936721326139002,
          0.334142920169072,
          -0.08357914636292918,
          0.70799102822973,
          0.892131372549448,
          0.05694067303317654,
          0.8086457309240422,
          0.45395420103098644,
          1.6453498161229314,
          -1.8630060267612292,
          0.9087867815008309,
          -1.4760984424295813,
          1.4674760718563633,
          1.3046091161420432,
          0.2134637313737436,
          0.8086457309240422,
          1.6614563297822487,
          -0.5691101589455096,
          0.09186192875175095,
          1.4512403691390061,
          0.9586712603166028,
          0.6743214708600292,
          1.4999142507302254,
          1.0746029751803423,
          0.1788170570238666
         ]
        }
       ],
       "layout": {
        "height": 800,
        "hovermode": "closest",
        "margin": {
         "b": 50,
         "l": 50,
         "r": 50,
         "t": 80
        },
        "showlegend": false,
        "template": {
         "data": {
          "bar": [
           {
            "error_x": {
             "color": "rgb(51,51,51)"
            },
            "error_y": {
             "color": "rgb(51,51,51)"
            },
            "marker": {
             "line": {
              "color": "rgb(237,237,237)",
              "width": 0.5
             },
             "pattern": {
              "fillmode": "overlay",
              "size": 10,
              "solidity": 0.2
             }
            },
            "type": "bar"
           }
          ],
          "barpolar": [
           {
            "marker": {
             "line": {
              "color": "rgb(237,237,237)",
              "width": 0.5
             },
             "pattern": {
              "fillmode": "overlay",
              "size": 10,
              "solidity": 0.2
             }
            },
            "type": "barpolar"
           }
          ],
          "carpet": [
           {
            "aaxis": {
             "endlinecolor": "rgb(51,51,51)",
             "gridcolor": "white",
             "linecolor": "white",
             "minorgridcolor": "white",
             "startlinecolor": "rgb(51,51,51)"
            },
            "baxis": {
             "endlinecolor": "rgb(51,51,51)",
             "gridcolor": "white",
             "linecolor": "white",
             "minorgridcolor": "white",
             "startlinecolor": "rgb(51,51,51)"
            },
            "type": "carpet"
           }
          ],
          "choropleth": [
           {
            "colorbar": {
             "outlinewidth": 0,
             "tickcolor": "rgb(237,237,237)",
             "ticklen": 6,
             "ticks": "inside"
            },
            "type": "choropleth"
           }
          ],
          "contour": [
           {
            "colorbar": {
             "outlinewidth": 0,
             "tickcolor": "rgb(237,237,237)",
             "ticklen": 6,
             "ticks": "inside"
            },
            "colorscale": [
             [
              0,
              "rgb(20,44,66)"
             ],
             [
              1,
              "rgb(90,179,244)"
             ]
            ],
            "type": "contour"
           }
          ],
          "contourcarpet": [
           {
            "colorbar": {
             "outlinewidth": 0,
             "tickcolor": "rgb(237,237,237)",
             "ticklen": 6,
             "ticks": "inside"
            },
            "type": "contourcarpet"
           }
          ],
          "heatmap": [
           {
            "colorbar": {
             "outlinewidth": 0,
             "tickcolor": "rgb(237,237,237)",
             "ticklen": 6,
             "ticks": "inside"
            },
            "colorscale": [
             [
              0,
              "rgb(20,44,66)"
             ],
             [
              1,
              "rgb(90,179,244)"
             ]
            ],
            "type": "heatmap"
           }
          ],
          "heatmapgl": [
           {
            "colorbar": {
             "outlinewidth": 0,
             "tickcolor": "rgb(237,237,237)",
             "ticklen": 6,
             "ticks": "inside"
            },
            "colorscale": [
             [
              0,
              "rgb(20,44,66)"
             ],
             [
              1,
              "rgb(90,179,244)"
             ]
            ],
            "type": "heatmapgl"
           }
          ],
          "histogram": [
           {
            "marker": {
             "pattern": {
              "fillmode": "overlay",
              "size": 10,
              "solidity": 0.2
             }
            },
            "type": "histogram"
           }
          ],
          "histogram2d": [
           {
            "colorbar": {
             "outlinewidth": 0,
             "tickcolor": "rgb(237,237,237)",
             "ticklen": 6,
             "ticks": "inside"
            },
            "colorscale": [
             [
              0,
              "rgb(20,44,66)"
             ],
             [
              1,
              "rgb(90,179,244)"
             ]
            ],
            "type": "histogram2d"
           }
          ],
          "histogram2dcontour": [
           {
            "colorbar": {
             "outlinewidth": 0,
             "tickcolor": "rgb(237,237,237)",
             "ticklen": 6,
             "ticks": "inside"
            },
            "colorscale": [
             [
              0,
              "rgb(20,44,66)"
             ],
             [
              1,
              "rgb(90,179,244)"
             ]
            ],
            "type": "histogram2dcontour"
           }
          ],
          "mesh3d": [
           {
            "colorbar": {
             "outlinewidth": 0,
             "tickcolor": "rgb(237,237,237)",
             "ticklen": 6,
             "ticks": "inside"
            },
            "type": "mesh3d"
           }
          ],
          "parcoords": [
           {
            "line": {
             "colorbar": {
              "outlinewidth": 0,
              "tickcolor": "rgb(237,237,237)",
              "ticklen": 6,
              "ticks": "inside"
             }
            },
            "type": "parcoords"
           }
          ],
          "pie": [
           {
            "automargin": true,
            "type": "pie"
           }
          ],
          "scatter": [
           {
            "fillpattern": {
             "fillmode": "overlay",
             "size": 10,
             "solidity": 0.2
            },
            "type": "scatter"
           }
          ],
          "scatter3d": [
           {
            "line": {
             "colorbar": {
              "outlinewidth": 0,
              "tickcolor": "rgb(237,237,237)",
              "ticklen": 6,
              "ticks": "inside"
             }
            },
            "marker": {
             "colorbar": {
              "outlinewidth": 0,
              "tickcolor": "rgb(237,237,237)",
              "ticklen": 6,
              "ticks": "inside"
             }
            },
            "type": "scatter3d"
           }
          ],
          "scattercarpet": [
           {
            "marker": {
             "colorbar": {
              "outlinewidth": 0,
              "tickcolor": "rgb(237,237,237)",
              "ticklen": 6,
              "ticks": "inside"
             }
            },
            "type": "scattercarpet"
           }
          ],
          "scattergeo": [
           {
            "marker": {
             "colorbar": {
              "outlinewidth": 0,
              "tickcolor": "rgb(237,237,237)",
              "ticklen": 6,
              "ticks": "inside"
             }
            },
            "type": "scattergeo"
           }
          ],
          "scattergl": [
           {
            "marker": {
             "colorbar": {
              "outlinewidth": 0,
              "tickcolor": "rgb(237,237,237)",
              "ticklen": 6,
              "ticks": "inside"
             }
            },
            "type": "scattergl"
           }
          ],
          "scattermapbox": [
           {
            "marker": {
             "colorbar": {
              "outlinewidth": 0,
              "tickcolor": "rgb(237,237,237)",
              "ticklen": 6,
              "ticks": "inside"
             }
            },
            "type": "scattermapbox"
           }
          ],
          "scatterpolar": [
           {
            "marker": {
             "colorbar": {
              "outlinewidth": 0,
              "tickcolor": "rgb(237,237,237)",
              "ticklen": 6,
              "ticks": "inside"
             }
            },
            "type": "scatterpolar"
           }
          ],
          "scatterpolargl": [
           {
            "marker": {
             "colorbar": {
              "outlinewidth": 0,
              "tickcolor": "rgb(237,237,237)",
              "ticklen": 6,
              "ticks": "inside"
             }
            },
            "type": "scatterpolargl"
           }
          ],
          "scatterternary": [
           {
            "marker": {
             "colorbar": {
              "outlinewidth": 0,
              "tickcolor": "rgb(237,237,237)",
              "ticklen": 6,
              "ticks": "inside"
             }
            },
            "type": "scatterternary"
           }
          ],
          "surface": [
           {
            "colorbar": {
             "outlinewidth": 0,
             "tickcolor": "rgb(237,237,237)",
             "ticklen": 6,
             "ticks": "inside"
            },
            "colorscale": [
             [
              0,
              "rgb(20,44,66)"
             ],
             [
              1,
              "rgb(90,179,244)"
             ]
            ],
            "type": "surface"
           }
          ],
          "table": [
           {
            "cells": {
             "fill": {
              "color": "rgb(237,237,237)"
             },
             "line": {
              "color": "white"
             }
            },
            "header": {
             "fill": {
              "color": "rgb(217,217,217)"
             },
             "line": {
              "color": "white"
             }
            },
            "type": "table"
           }
          ]
         },
         "layout": {
          "annotationdefaults": {
           "arrowhead": 0,
           "arrowwidth": 1
          },
          "autotypenumbers": "strict",
          "coloraxis": {
           "colorbar": {
            "outlinewidth": 0,
            "tickcolor": "rgb(237,237,237)",
            "ticklen": 6,
            "ticks": "inside"
           }
          },
          "colorscale": {
           "sequential": [
            [
             0,
             "rgb(20,44,66)"
            ],
            [
             1,
             "rgb(90,179,244)"
            ]
           ],
           "sequentialminus": [
            [
             0,
             "rgb(20,44,66)"
            ],
            [
             1,
             "rgb(90,179,244)"
            ]
           ]
          },
          "colorway": [
           "#F8766D",
           "#A3A500",
           "#00BF7D",
           "#00B0F6",
           "#E76BF3"
          ],
          "font": {
           "color": "rgb(51,51,51)"
          },
          "geo": {
           "bgcolor": "white",
           "lakecolor": "white",
           "landcolor": "rgb(237,237,237)",
           "showlakes": true,
           "showland": true,
           "subunitcolor": "white"
          },
          "hoverlabel": {
           "align": "left"
          },
          "hovermode": "closest",
          "paper_bgcolor": "white",
          "plot_bgcolor": "rgb(237,237,237)",
          "polar": {
           "angularaxis": {
            "gridcolor": "white",
            "linecolor": "white",
            "showgrid": true,
            "tickcolor": "rgb(51,51,51)",
            "ticks": "outside"
           },
           "bgcolor": "rgb(237,237,237)",
           "radialaxis": {
            "gridcolor": "white",
            "linecolor": "white",
            "showgrid": true,
            "tickcolor": "rgb(51,51,51)",
            "ticks": "outside"
           }
          },
          "scene": {
           "xaxis": {
            "backgroundcolor": "rgb(237,237,237)",
            "gridcolor": "white",
            "gridwidth": 2,
            "linecolor": "white",
            "showbackground": true,
            "showgrid": true,
            "tickcolor": "rgb(51,51,51)",
            "ticks": "outside",
            "zerolinecolor": "white"
           },
           "yaxis": {
            "backgroundcolor": "rgb(237,237,237)",
            "gridcolor": "white",
            "gridwidth": 2,
            "linecolor": "white",
            "showbackground": true,
            "showgrid": true,
            "tickcolor": "rgb(51,51,51)",
            "ticks": "outside",
            "zerolinecolor": "white"
           },
           "zaxis": {
            "backgroundcolor": "rgb(237,237,237)",
            "gridcolor": "white",
            "gridwidth": 2,
            "linecolor": "white",
            "showbackground": true,
            "showgrid": true,
            "tickcolor": "rgb(51,51,51)",
            "ticks": "outside",
            "zerolinecolor": "white"
           }
          },
          "shapedefaults": {
           "fillcolor": "black",
           "line": {
            "width": 0
           },
           "opacity": 0.3
          },
          "ternary": {
           "aaxis": {
            "gridcolor": "white",
            "linecolor": "white",
            "showgrid": true,
            "tickcolor": "rgb(51,51,51)",
            "ticks": "outside"
           },
           "baxis": {
            "gridcolor": "white",
            "linecolor": "white",
            "showgrid": true,
            "tickcolor": "rgb(51,51,51)",
            "ticks": "outside"
           },
           "bgcolor": "rgb(237,237,237)",
           "caxis": {
            "gridcolor": "white",
            "linecolor": "white",
            "showgrid": true,
            "tickcolor": "rgb(51,51,51)",
            "ticks": "outside"
           }
          },
          "xaxis": {
           "automargin": true,
           "gridcolor": "white",
           "linecolor": "white",
           "showgrid": true,
           "tickcolor": "rgb(51,51,51)",
           "ticks": "outside",
           "title": {
            "standoff": 15
           },
           "zerolinecolor": "white"
          },
          "yaxis": {
           "automargin": true,
           "gridcolor": "white",
           "linecolor": "white",
           "showgrid": true,
           "tickcolor": "rgb(51,51,51)",
           "ticks": "outside",
           "title": {
            "standoff": 15
           },
           "zerolinecolor": "white"
          }
         }
        },
        "title": {
         "font": {
          "family": "Gulliver",
          "size": 40
         },
         "text": "Decision Region",
         "x": 0.5
        },
        "width": 800,
        "xaxis": {
         "title": {
          "font": {
           "family": "Gulliver",
           "size": 24
          },
          "text": "volatile acidity"
         }
        },
        "yaxis": {
         "title": {
          "font": {
           "family": "Gulliver",
           "size": 24
          },
          "text": "total sulfur dioxide"
         }
        }
       }
      }
     },
     "metadata": {},
     "output_type": "display_data"
    }
   ],
   "source": [
    "trace = go.Scatter(\n",
    "    x = x_test[:, 1],\n",
    "    y = x_test[:, 6],\n",
    "    mode = 'markers',\n",
    "    marker = dict(\n",
    "        color = y_pred,\n",
    "        symbol = y_pred,\n",
    "        size = 8,\n",
    "        opacity = 0.9,\n",
    "        colorscale = [[0, '#fffacd'], [1, '#a00028']],\n",
    "        line = dict(color = '#444444', width = 0.5)\n",
    "    )\n",
    ")\n",
    "\n",
    "layout = go.Layout(\n",
    "    title = {\n",
    "        'text': 'Decision Region',\n",
    "        'font': {\n",
    "            'size': 40, 'family': 'Gulliver'\n",
    "        }, 'x': 0.5\n",
    "    },\n",
    "    xaxis = dict(\n",
    "        title = {\n",
    "            'text': 'volatile acidity', \n",
    "            'font': {\n",
    "                'size': 24, 'family': 'Gulliver'\n",
    "            }\n",
    "        }\n",
    "    ),\n",
    "    yaxis = dict(\n",
    "        title = {\n",
    "            'text': 'total sulfur dioxide', \n",
    "            'font': {\n",
    "                'size': 24, 'family': 'Gulliver'\n",
    "            }\n",
    "        }\n",
    "    ),\n",
    "    margin = dict(l = 50, r = 50, t = 80, b = 50),\n",
    "    hovermode = 'closest', \n",
    "    width = 800, height = 800,\n",
    "    showlegend = False,\n",
    "    template = 'ggplot2'\n",
    ")\n",
    "\n",
    "fig = go.Figure(\n",
    "    data = [trace], \n",
    "    layout = layout\n",
    ")\n",
    "\n",
    "pio.show(fig)"
   ]
  },
  {
   "attachments": {},
   "cell_type": "markdown",
   "metadata": {},
   "source": [
    "## Confusion Matrix"
   ]
  },
  {
   "cell_type": "code",
   "execution_count": 20,
   "metadata": {},
   "outputs": [
    {
     "name": "stdout",
     "output_type": "stream",
     "text": [
      "Acurracy:  99.2 %\n",
      "Precision: 99.1995 %\n",
      "Recall: 99.2 %\n",
      "f1: 99.1997 %\n"
     ]
    },
    {
     "data": {
      "text/html": [
       "<div>\n",
       "<style scoped>\n",
       "    .dataframe tbody tr th:only-of-type {\n",
       "        vertical-align: middle;\n",
       "    }\n",
       "\n",
       "    .dataframe tbody tr th {\n",
       "        vertical-align: top;\n",
       "    }\n",
       "\n",
       "    .dataframe thead th {\n",
       "        text-align: right;\n",
       "    }\n",
       "</style>\n",
       "<table border=\"1\" class=\"dataframe\">\n",
       "  <thead>\n",
       "    <tr style=\"text-align: right;\">\n",
       "      <th></th>\n",
       "      <th>0</th>\n",
       "      <th>1</th>\n",
       "    </tr>\n",
       "  </thead>\n",
       "  <tbody>\n",
       "    <tr>\n",
       "      <th>0</th>\n",
       "      <td>0.994962</td>\n",
       "      <td>0.005038</td>\n",
       "    </tr>\n",
       "    <tr>\n",
       "      <th>1</th>\n",
       "      <td>0.016129</td>\n",
       "      <td>0.983871</td>\n",
       "    </tr>\n",
       "  </tbody>\n",
       "</table>\n",
       "</div>"
      ],
      "text/plain": [
       "          0         1\n",
       "0  0.994962  0.005038\n",
       "1  0.016129  0.983871"
      ]
     },
     "execution_count": 20,
     "metadata": {},
     "output_type": "execute_result"
    }
   ],
   "source": [
    "acu = metrics.accuracy_score(y_test, y_pred)\n",
    "pre_class, r_class, f_class, sup = metrics.precision_recall_fscore_support(y_test, y_pred, average = 'weighted')\n",
    "\n",
    "print(\"Acurracy: \", round(acu * 100, 4), '%')\n",
    "print('Precision:', round(pre_class * 100, 4), '%')\n",
    "print('Recall:', round(r_class * 100, 4), '%')\n",
    "print('f1:', round(f_class * 100, 4), '%')\n",
    "\n",
    "cm = metrics.confusion_matrix(y_test, y_pred)\n",
    "cm_norm = cm.astype('float') / cm.sum(axis=1)[:, np.newaxis] \n",
    "cm_norm = pd.DataFrame(cm_norm)\n",
    "cm_norm"
   ]
  },
  {
   "attachments": {},
   "cell_type": "markdown",
   "metadata": {},
   "source": [
    "## Receiver Operating Characteristic Curve"
   ]
  },
  {
   "cell_type": "code",
   "execution_count": 16,
   "metadata": {},
   "outputs": [
    {
     "data": {
      "application/vnd.plotly.v1+json": {
       "config": {
        "plotlyServerURL": "https://plotly.com"
       },
       "data": [
        {
         "line": {
          "width": 2
         },
         "mode": "lines",
         "type": "scatter",
         "x": [
          0,
          0,
          0,
          0,
          0,
          0,
          0,
          0,
          0,
          0,
          0,
          0,
          0,
          0,
          0,
          0,
          0,
          0,
          0,
          0,
          0,
          0,
          0,
          0,
          0,
          0,
          0,
          0,
          0,
          0,
          0,
          0,
          0,
          0,
          0,
          0,
          0,
          0.0008396305625524769,
          0.0008396305625524769,
          0.0008396305625524769,
          0.0008396305625524769,
          0.0016792611251049538,
          0.0016792611251049538,
          0.0033585222502099076,
          0.0033585222502099076,
          0.0033585222502099076,
          0.0033585222502099076,
          0.0041981528127623844,
          0.0041981528127623844,
          0.005037783375314861,
          0.005037783375314861,
          0.006717044500419815,
          0.006717044500419815,
          0.007556675062972292,
          0.007556675062972292,
          0.009235936188077247,
          0.009235936188077247,
          0.0109151973131822,
          0.0109151973131822,
          0.012594458438287154,
          0.014273719563392108,
          0.014273719563392108,
          0.020151133501259445,
          0.020151133501259445,
          0.0688497061293031,
          0.07052896725440806,
          0.0873215785054576,
          0.08900083963056256,
          0.09319899244332494,
          0.0948782535684299,
          0.11335012594458438,
          0.11502938706968933,
          0.1309823677581864,
          0.13266162888329136,
          0.14609571788413098,
          0.14777497900923595,
          0.1855583543240974,
          0.1855583543240974,
          0.18723761544920234,
          0.1889168765743073,
          0.19059613769941225,
          0.19227539882451722,
          0.2073887489504618,
          0.20906801007556675,
          0.2216624685138539,
          0.22334172963895885,
          0.2325776658270361,
          0.23425692695214106,
          0.24769101595298068,
          0.24769101595298068,
          0.24937027707808565,
          0.2619647355163728,
          0.26364399664147775,
          0.27371956339210746,
          0.2753988245172124,
          0.2770780856423174,
          0.2787573467674223,
          0.2804366078925273,
          0.28211586901763225,
          0.30730478589420657,
          0.3089840470193115,
          0.3148614609571788,
          0.3165407220822838,
          0.31905961376994124,
          0.32073887489504616,
          0.33837111670864817,
          0.33837111670864817,
          0.3492863140218304,
          0.3509655751469353,
          0.35600335852225024,
          0.35768261964735515,
          0.3711167086481948,
          0.37279596977329976,
          0.38287153652392947,
          0.38287153652392947,
          0.40134340890008396,
          0.4038623005877414,
          0.45424013434089,
          0.45591939546599497,
          0.45759865659109994,
          0.45927791771620485,
          0.46683459277917716,
          0.46851385390428213,
          0.4869857262804366,
          0.48866498740554154,
          0.5004198152812762,
          0.5020990764063812,
          0.5264483627204031,
          0.5281276238455079,
          0.5373635600335852,
          0.5390428211586902,
          0.6204869857262805,
          0.6221662468513854,
          0.653232577665827,
          0.654911838790932,
          0.6616288832913518,
          0.6633081444164568,
          0.6809403862300588,
          0.6842989084802686,
          0.7036104114189756,
          0.7052896725440806,
          0.707808564231738,
          0.709487825356843,
          0.7120067170445005,
          0.7145256087321579,
          0.7287993282955499,
          0.7304785894206549,
          0.7313182199832073,
          0.7329974811083123,
          0.7548278757346767,
          0.7565071368597817,
          0.7900923593618808,
          0.7917716204869857,
          0.818639798488665,
          0.8203190596137699,
          0.8211586901763224,
          0.8228379513014273,
          0.8572628043660789,
          0.8589420654911839,
          0.8631402183039463,
          0.8656591099916037,
          0.8916876574307305,
          0.8933669185558354,
          0.8975650713685979,
          0.8992443324937027,
          0.9026028547439127,
          0.9042821158690176,
          0.9286314021830394,
          0.9303106633081444,
          0.9319899244332494,
          0.9336691855583543,
          0.943744752308984,
          0.9462636439966414,
          0.980688497061293,
          0.980688497061293,
          0.9907640638119227,
          0.9924433249370277,
          0.9949622166246851,
          1
         ],
         "y": [
          0,
          0.002304147465437788,
          0.05069124423963134,
          0.055299539170506916,
          0.14285714285714285,
          0.14746543778801843,
          0.15207373271889402,
          0.15668202764976957,
          0.16359447004608296,
          0.16820276497695852,
          0.20046082949308755,
          0.20506912442396313,
          0.2557603686635945,
          0.26036866359447003,
          0.26497695852534564,
          0.2695852534562212,
          0.29493087557603687,
          0.2995391705069124,
          0.38940092165898615,
          0.39400921658986177,
          0.3986175115207373,
          0.4032258064516129,
          0.41013824884792627,
          0.4147465437788018,
          0.5599078341013825,
          0.5645161290322581,
          0.5714285714285714,
          0.576036866359447,
          0.6105990783410138,
          0.6152073732718893,
          0.7534562211981567,
          0.7580645161290323,
          0.804147465437788,
          0.8087557603686636,
          0.815668202764977,
          0.8202764976958525,
          0.8387096774193549,
          0.8387096774193549,
          0.8502304147465438,
          0.8548387096774194,
          0.8617511520737328,
          0.8617511520737328,
          0.9193548387096774,
          0.9193548387096774,
          0.9262672811059908,
          0.9308755760368663,
          0.9539170506912442,
          0.9539170506912442,
          0.9608294930875576,
          0.9608294930875576,
          0.9631336405529954,
          0.9631336405529954,
          0.9700460829493087,
          0.9700460829493087,
          0.9746543778801844,
          0.9746543778801844,
          0.9792626728110599,
          0.9792626728110599,
          0.9815668202764977,
          0.9815668202764977,
          0.9815668202764977,
          0.9861751152073732,
          0.9861751152073732,
          0.988479262672811,
          0.988479262672811,
          0.988479262672811,
          0.988479262672811,
          0.988479262672811,
          0.988479262672811,
          0.988479262672811,
          0.988479262672811,
          0.988479262672811,
          0.988479262672811,
          0.988479262672811,
          0.988479262672811,
          0.988479262672811,
          0.988479262672811,
          0.9907834101382489,
          0.9907834101382489,
          0.9907834101382489,
          0.9907834101382489,
          0.9907834101382489,
          0.9907834101382489,
          0.9907834101382489,
          0.9907834101382489,
          0.9907834101382489,
          0.9907834101382489,
          0.9907834101382489,
          0.9907834101382489,
          0.9930875576036866,
          0.9930875576036866,
          0.9930875576036866,
          0.9930875576036866,
          0.9930875576036866,
          0.9930875576036866,
          0.9930875576036866,
          0.9930875576036866,
          0.9930875576036866,
          0.9930875576036866,
          0.9930875576036866,
          0.9930875576036866,
          0.9930875576036866,
          0.9930875576036866,
          0.9930875576036866,
          0.9930875576036866,
          0.9930875576036866,
          0.9953917050691244,
          0.9953917050691244,
          0.9953917050691244,
          0.9953917050691244,
          0.9953917050691244,
          0.9953917050691244,
          0.9953917050691244,
          0.9953917050691244,
          0.9976958525345622,
          0.9976958525345622,
          0.9976958525345622,
          0.9976958525345622,
          0.9976958525345622,
          0.9976958525345622,
          0.9976958525345622,
          0.9976958525345622,
          0.9976958525345622,
          0.9976958525345622,
          0.9976958525345622,
          0.9976958525345622,
          0.9976958525345622,
          0.9976958525345622,
          0.9976958525345622,
          0.9976958525345622,
          0.9976958525345622,
          0.9976958525345622,
          0.9976958525345622,
          0.9976958525345622,
          0.9976958525345622,
          0.9976958525345622,
          0.9976958525345622,
          0.9976958525345622,
          0.9976958525345622,
          0.9976958525345622,
          0.9976958525345622,
          0.9976958525345622,
          0.9976958525345622,
          0.9976958525345622,
          0.9976958525345622,
          0.9976958525345622,
          0.9976958525345622,
          0.9976958525345622,
          0.9976958525345622,
          0.9976958525345622,
          0.9976958525345622,
          0.9976958525345622,
          0.9976958525345622,
          0.9976958525345622,
          0.9976958525345622,
          0.9976958525345622,
          0.9976958525345622,
          0.9976958525345622,
          0.9976958525345622,
          0.9976958525345622,
          0.9976958525345622,
          0.9976958525345622,
          0.9976958525345622,
          0.9976958525345622,
          0.9976958525345622,
          0.9976958525345622,
          0.9976958525345622,
          0.9976958525345622,
          0.9976958525345622,
          0.9976958525345622,
          0.9976958525345622,
          0.9976958525345622,
          0.9976958525345622,
          0.9976958525345622,
          1,
          1,
          1,
          1,
          1
         ]
        },
        {
         "line": {
          "color": "navy",
          "dash": "dash",
          "width": 2
         },
         "mode": "lines",
         "showlegend": false,
         "type": "scatter",
         "x": [
          0,
          1
         ],
         "y": [
          0,
          1
         ]
        }
       ],
       "layout": {
        "height": 800,
        "showlegend": false,
        "template": {
         "data": {
          "bar": [
           {
            "error_x": {
             "color": "#2a3f5f"
            },
            "error_y": {
             "color": "#2a3f5f"
            },
            "marker": {
             "line": {
              "color": "#E5ECF6",
              "width": 0.5
             },
             "pattern": {
              "fillmode": "overlay",
              "size": 10,
              "solidity": 0.2
             }
            },
            "type": "bar"
           }
          ],
          "barpolar": [
           {
            "marker": {
             "line": {
              "color": "#E5ECF6",
              "width": 0.5
             },
             "pattern": {
              "fillmode": "overlay",
              "size": 10,
              "solidity": 0.2
             }
            },
            "type": "barpolar"
           }
          ],
          "carpet": [
           {
            "aaxis": {
             "endlinecolor": "#2a3f5f",
             "gridcolor": "white",
             "linecolor": "white",
             "minorgridcolor": "white",
             "startlinecolor": "#2a3f5f"
            },
            "baxis": {
             "endlinecolor": "#2a3f5f",
             "gridcolor": "white",
             "linecolor": "white",
             "minorgridcolor": "white",
             "startlinecolor": "#2a3f5f"
            },
            "type": "carpet"
           }
          ],
          "choropleth": [
           {
            "colorbar": {
             "outlinewidth": 0,
             "ticks": ""
            },
            "type": "choropleth"
           }
          ],
          "contour": [
           {
            "colorbar": {
             "outlinewidth": 0,
             "ticks": ""
            },
            "colorscale": [
             [
              0,
              "#0d0887"
             ],
             [
              0.1111111111111111,
              "#46039f"
             ],
             [
              0.2222222222222222,
              "#7201a8"
             ],
             [
              0.3333333333333333,
              "#9c179e"
             ],
             [
              0.4444444444444444,
              "#bd3786"
             ],
             [
              0.5555555555555556,
              "#d8576b"
             ],
             [
              0.6666666666666666,
              "#ed7953"
             ],
             [
              0.7777777777777778,
              "#fb9f3a"
             ],
             [
              0.8888888888888888,
              "#fdca26"
             ],
             [
              1,
              "#f0f921"
             ]
            ],
            "type": "contour"
           }
          ],
          "contourcarpet": [
           {
            "colorbar": {
             "outlinewidth": 0,
             "ticks": ""
            },
            "type": "contourcarpet"
           }
          ],
          "heatmap": [
           {
            "colorbar": {
             "outlinewidth": 0,
             "ticks": ""
            },
            "colorscale": [
             [
              0,
              "#0d0887"
             ],
             [
              0.1111111111111111,
              "#46039f"
             ],
             [
              0.2222222222222222,
              "#7201a8"
             ],
             [
              0.3333333333333333,
              "#9c179e"
             ],
             [
              0.4444444444444444,
              "#bd3786"
             ],
             [
              0.5555555555555556,
              "#d8576b"
             ],
             [
              0.6666666666666666,
              "#ed7953"
             ],
             [
              0.7777777777777778,
              "#fb9f3a"
             ],
             [
              0.8888888888888888,
              "#fdca26"
             ],
             [
              1,
              "#f0f921"
             ]
            ],
            "type": "heatmap"
           }
          ],
          "heatmapgl": [
           {
            "colorbar": {
             "outlinewidth": 0,
             "ticks": ""
            },
            "colorscale": [
             [
              0,
              "#0d0887"
             ],
             [
              0.1111111111111111,
              "#46039f"
             ],
             [
              0.2222222222222222,
              "#7201a8"
             ],
             [
              0.3333333333333333,
              "#9c179e"
             ],
             [
              0.4444444444444444,
              "#bd3786"
             ],
             [
              0.5555555555555556,
              "#d8576b"
             ],
             [
              0.6666666666666666,
              "#ed7953"
             ],
             [
              0.7777777777777778,
              "#fb9f3a"
             ],
             [
              0.8888888888888888,
              "#fdca26"
             ],
             [
              1,
              "#f0f921"
             ]
            ],
            "type": "heatmapgl"
           }
          ],
          "histogram": [
           {
            "marker": {
             "pattern": {
              "fillmode": "overlay",
              "size": 10,
              "solidity": 0.2
             }
            },
            "type": "histogram"
           }
          ],
          "histogram2d": [
           {
            "colorbar": {
             "outlinewidth": 0,
             "ticks": ""
            },
            "colorscale": [
             [
              0,
              "#0d0887"
             ],
             [
              0.1111111111111111,
              "#46039f"
             ],
             [
              0.2222222222222222,
              "#7201a8"
             ],
             [
              0.3333333333333333,
              "#9c179e"
             ],
             [
              0.4444444444444444,
              "#bd3786"
             ],
             [
              0.5555555555555556,
              "#d8576b"
             ],
             [
              0.6666666666666666,
              "#ed7953"
             ],
             [
              0.7777777777777778,
              "#fb9f3a"
             ],
             [
              0.8888888888888888,
              "#fdca26"
             ],
             [
              1,
              "#f0f921"
             ]
            ],
            "type": "histogram2d"
           }
          ],
          "histogram2dcontour": [
           {
            "colorbar": {
             "outlinewidth": 0,
             "ticks": ""
            },
            "colorscale": [
             [
              0,
              "#0d0887"
             ],
             [
              0.1111111111111111,
              "#46039f"
             ],
             [
              0.2222222222222222,
              "#7201a8"
             ],
             [
              0.3333333333333333,
              "#9c179e"
             ],
             [
              0.4444444444444444,
              "#bd3786"
             ],
             [
              0.5555555555555556,
              "#d8576b"
             ],
             [
              0.6666666666666666,
              "#ed7953"
             ],
             [
              0.7777777777777778,
              "#fb9f3a"
             ],
             [
              0.8888888888888888,
              "#fdca26"
             ],
             [
              1,
              "#f0f921"
             ]
            ],
            "type": "histogram2dcontour"
           }
          ],
          "mesh3d": [
           {
            "colorbar": {
             "outlinewidth": 0,
             "ticks": ""
            },
            "type": "mesh3d"
           }
          ],
          "parcoords": [
           {
            "line": {
             "colorbar": {
              "outlinewidth": 0,
              "ticks": ""
             }
            },
            "type": "parcoords"
           }
          ],
          "pie": [
           {
            "automargin": true,
            "type": "pie"
           }
          ],
          "scatter": [
           {
            "fillpattern": {
             "fillmode": "overlay",
             "size": 10,
             "solidity": 0.2
            },
            "type": "scatter"
           }
          ],
          "scatter3d": [
           {
            "line": {
             "colorbar": {
              "outlinewidth": 0,
              "ticks": ""
             }
            },
            "marker": {
             "colorbar": {
              "outlinewidth": 0,
              "ticks": ""
             }
            },
            "type": "scatter3d"
           }
          ],
          "scattercarpet": [
           {
            "marker": {
             "colorbar": {
              "outlinewidth": 0,
              "ticks": ""
             }
            },
            "type": "scattercarpet"
           }
          ],
          "scattergeo": [
           {
            "marker": {
             "colorbar": {
              "outlinewidth": 0,
              "ticks": ""
             }
            },
            "type": "scattergeo"
           }
          ],
          "scattergl": [
           {
            "marker": {
             "colorbar": {
              "outlinewidth": 0,
              "ticks": ""
             }
            },
            "type": "scattergl"
           }
          ],
          "scattermapbox": [
           {
            "marker": {
             "colorbar": {
              "outlinewidth": 0,
              "ticks": ""
             }
            },
            "type": "scattermapbox"
           }
          ],
          "scatterpolar": [
           {
            "marker": {
             "colorbar": {
              "outlinewidth": 0,
              "ticks": ""
             }
            },
            "type": "scatterpolar"
           }
          ],
          "scatterpolargl": [
           {
            "marker": {
             "colorbar": {
              "outlinewidth": 0,
              "ticks": ""
             }
            },
            "type": "scatterpolargl"
           }
          ],
          "scatterternary": [
           {
            "marker": {
             "colorbar": {
              "outlinewidth": 0,
              "ticks": ""
             }
            },
            "type": "scatterternary"
           }
          ],
          "surface": [
           {
            "colorbar": {
             "outlinewidth": 0,
             "ticks": ""
            },
            "colorscale": [
             [
              0,
              "#0d0887"
             ],
             [
              0.1111111111111111,
              "#46039f"
             ],
             [
              0.2222222222222222,
              "#7201a8"
             ],
             [
              0.3333333333333333,
              "#9c179e"
             ],
             [
              0.4444444444444444,
              "#bd3786"
             ],
             [
              0.5555555555555556,
              "#d8576b"
             ],
             [
              0.6666666666666666,
              "#ed7953"
             ],
             [
              0.7777777777777778,
              "#fb9f3a"
             ],
             [
              0.8888888888888888,
              "#fdca26"
             ],
             [
              1,
              "#f0f921"
             ]
            ],
            "type": "surface"
           }
          ],
          "table": [
           {
            "cells": {
             "fill": {
              "color": "#EBF0F8"
             },
             "line": {
              "color": "white"
             }
            },
            "header": {
             "fill": {
              "color": "#C8D4E3"
             },
             "line": {
              "color": "white"
             }
            },
            "type": "table"
           }
          ]
         },
         "layout": {
          "annotationdefaults": {
           "arrowcolor": "#2a3f5f",
           "arrowhead": 0,
           "arrowwidth": 1
          },
          "autotypenumbers": "strict",
          "coloraxis": {
           "colorbar": {
            "outlinewidth": 0,
            "ticks": ""
           }
          },
          "colorscale": {
           "diverging": [
            [
             0,
             "#8e0152"
            ],
            [
             0.1,
             "#c51b7d"
            ],
            [
             0.2,
             "#de77ae"
            ],
            [
             0.3,
             "#f1b6da"
            ],
            [
             0.4,
             "#fde0ef"
            ],
            [
             0.5,
             "#f7f7f7"
            ],
            [
             0.6,
             "#e6f5d0"
            ],
            [
             0.7,
             "#b8e186"
            ],
            [
             0.8,
             "#7fbc41"
            ],
            [
             0.9,
             "#4d9221"
            ],
            [
             1,
             "#276419"
            ]
           ],
           "sequential": [
            [
             0,
             "#0d0887"
            ],
            [
             0.1111111111111111,
             "#46039f"
            ],
            [
             0.2222222222222222,
             "#7201a8"
            ],
            [
             0.3333333333333333,
             "#9c179e"
            ],
            [
             0.4444444444444444,
             "#bd3786"
            ],
            [
             0.5555555555555556,
             "#d8576b"
            ],
            [
             0.6666666666666666,
             "#ed7953"
            ],
            [
             0.7777777777777778,
             "#fb9f3a"
            ],
            [
             0.8888888888888888,
             "#fdca26"
            ],
            [
             1,
             "#f0f921"
            ]
           ],
           "sequentialminus": [
            [
             0,
             "#0d0887"
            ],
            [
             0.1111111111111111,
             "#46039f"
            ],
            [
             0.2222222222222222,
             "#7201a8"
            ],
            [
             0.3333333333333333,
             "#9c179e"
            ],
            [
             0.4444444444444444,
             "#bd3786"
            ],
            [
             0.5555555555555556,
             "#d8576b"
            ],
            [
             0.6666666666666666,
             "#ed7953"
            ],
            [
             0.7777777777777778,
             "#fb9f3a"
            ],
            [
             0.8888888888888888,
             "#fdca26"
            ],
            [
             1,
             "#f0f921"
            ]
           ]
          },
          "colorway": [
           "#636efa",
           "#EF553B",
           "#00cc96",
           "#ab63fa",
           "#FFA15A",
           "#19d3f3",
           "#FF6692",
           "#B6E880",
           "#FF97FF",
           "#FECB52"
          ],
          "font": {
           "color": "#2a3f5f"
          },
          "geo": {
           "bgcolor": "white",
           "lakecolor": "white",
           "landcolor": "#E5ECF6",
           "showlakes": true,
           "showland": true,
           "subunitcolor": "white"
          },
          "hoverlabel": {
           "align": "left"
          },
          "hovermode": "closest",
          "mapbox": {
           "style": "light"
          },
          "paper_bgcolor": "white",
          "plot_bgcolor": "#E5ECF6",
          "polar": {
           "angularaxis": {
            "gridcolor": "white",
            "linecolor": "white",
            "ticks": ""
           },
           "bgcolor": "#E5ECF6",
           "radialaxis": {
            "gridcolor": "white",
            "linecolor": "white",
            "ticks": ""
           }
          },
          "scene": {
           "xaxis": {
            "backgroundcolor": "#E5ECF6",
            "gridcolor": "white",
            "gridwidth": 2,
            "linecolor": "white",
            "showbackground": true,
            "ticks": "",
            "zerolinecolor": "white"
           },
           "yaxis": {
            "backgroundcolor": "#E5ECF6",
            "gridcolor": "white",
            "gridwidth": 2,
            "linecolor": "white",
            "showbackground": true,
            "ticks": "",
            "zerolinecolor": "white"
           },
           "zaxis": {
            "backgroundcolor": "#E5ECF6",
            "gridcolor": "white",
            "gridwidth": 2,
            "linecolor": "white",
            "showbackground": true,
            "ticks": "",
            "zerolinecolor": "white"
           }
          },
          "shapedefaults": {
           "line": {
            "color": "#2a3f5f"
           }
          },
          "ternary": {
           "aaxis": {
            "gridcolor": "white",
            "linecolor": "white",
            "ticks": ""
           },
           "baxis": {
            "gridcolor": "white",
            "linecolor": "white",
            "ticks": ""
           },
           "bgcolor": "#E5ECF6",
           "caxis": {
            "gridcolor": "white",
            "linecolor": "white",
            "ticks": ""
           }
          },
          "title": {
           "x": 0.05
          },
          "xaxis": {
           "automargin": true,
           "gridcolor": "white",
           "linecolor": "white",
           "ticks": "",
           "title": {
            "standoff": 15
           },
           "zerolinecolor": "white",
           "zerolinewidth": 2
          },
          "yaxis": {
           "automargin": true,
           "gridcolor": "white",
           "linecolor": "white",
           "ticks": "",
           "title": {
            "standoff": 15
           },
           "zerolinecolor": "white",
           "zerolinewidth": 2
          }
         }
        },
        "title": {
         "font": {
          "family": "Gulliver",
          "size": 40
         },
         "text": "ROC Curves (AUC = 0.99)",
         "x": 0.5,
         "y": 0.95
        },
        "width": 1200,
        "xaxis": {
         "title": {
          "font": {
           "family": "Gulliver",
           "size": 24
          },
          "text": "False Positive Rate"
         }
        },
        "yaxis": {
         "title": {
          "font": {
           "family": "Gulliver",
           "size": 24
          },
          "text": "True Positive Rate"
         }
        }
       }
      }
     },
     "metadata": {},
     "output_type": "display_data"
    }
   ],
   "source": [
    "import plotly.graph_objects as go\n",
    "from sklearn.metrics import roc_curve, auc\n",
    "\n",
    "fpr, tpr, _ = roc_curve(\n",
    "    y_test, \n",
    "    model.predict_proba(x_test)[:, 1]\n",
    ")\n",
    "\n",
    "roc_auc = auc(fpr, tpr)\n",
    "\n",
    "trace1 = go.Scatter(\n",
    "    x = fpr, y = tpr, \n",
    "    mode = 'lines', \n",
    "    line = dict(width = 2),\n",
    "    # name = 'Logistic Regression (AUC = {:0.2f})'.format(roc_auc)\n",
    ")\n",
    "\n",
    "trace2 = go.Scatter(\n",
    "        x = [0, 1], y = [0, 1],\n",
    "        mode = 'lines',\n",
    "        line = dict(color = 'navy', width = 2, dash = 'dash'),\n",
    "        showlegend = False\n",
    ")\n",
    "\n",
    "layout = go.Layout(\n",
    "        title = {\n",
    "            'text': 'ROC Curves (AUC = {:0.2f})'.format(roc_auc),\n",
    "            'font': {\n",
    "                'size': 40, 'family': 'Gulliver'\n",
    "            }, \n",
    "            'x': 0.5, 'y': 0.95\n",
    "        },\n",
    "        xaxis = dict(\n",
    "            title = {\n",
    "                'text': 'False Positive Rate',\n",
    "                'font': {\n",
    "                    'size': 24, 'family': 'Gulliver'\n",
    "                }\n",
    "            }\n",
    "        ),\n",
    "        yaxis = dict(\n",
    "            title = {\n",
    "                'text': 'True Positive Rate',\n",
    "                'font': {\n",
    "                    'size': 24, 'family': 'Gulliver'\n",
    "                }\n",
    "            }\n",
    "        ),\n",
    "        width = 1200, height = 800,\n",
    "        showlegend = False\n",
    ")\n",
    "\n",
    "fig = go.Figure(\n",
    "    data = [trace1, trace2], \n",
    "    layout = layout\n",
    ")\n",
    "\n",
    "fig.show()"
   ]
  },
  {
   "attachments": {},
   "cell_type": "markdown",
   "metadata": {},
   "source": [
    "# Model Compexity"
   ]
  },
  {
   "cell_type": "code",
   "execution_count": 14,
   "metadata": {},
   "outputs": [
    {
     "data": {
      "application/vnd.plotly.v1+json": {
       "config": {
        "plotlyServerURL": "https://plotly.com"
       },
       "data": [
        {
         "mode": "lines+markers",
         "name": "Train Error",
         "type": "scatter",
         "x": [
          4,
          3,
          2,
          1,
          0,
          -1,
          -2,
          -3,
          -4
         ],
         "y": [
          0.23912151067323484,
          0.027093596059113323,
          0.011699507389162589,
          0.010878489326765162,
          0.010057471264367845,
          0.010057471264367845,
          0.009852216748768461,
          0.009852216748768461,
          0.009852216748768461
         ]
        },
        {
         "mode": "lines+markers",
         "name": "Test Error",
         "type": "scatter",
         "x": [
          4,
          3,
          2,
          1,
          0,
          -1,
          -2,
          -3,
          -4
         ],
         "y": [
          0.2670769230769231,
          0.031384615384615344,
          0.017846153846153845,
          0.014153846153846183,
          0.012923076923076926,
          0.012307692307692353,
          0.012307692307692353,
          0.012307692307692353,
          0.012307692307692353
         ]
        }
       ],
       "layout": {
        "height": 600,
        "template": {
         "data": {
          "bar": [
           {
            "error_x": {
             "color": "#2a3f5f"
            },
            "error_y": {
             "color": "#2a3f5f"
            },
            "marker": {
             "line": {
              "color": "#E5ECF6",
              "width": 0.5
             },
             "pattern": {
              "fillmode": "overlay",
              "size": 10,
              "solidity": 0.2
             }
            },
            "type": "bar"
           }
          ],
          "barpolar": [
           {
            "marker": {
             "line": {
              "color": "#E5ECF6",
              "width": 0.5
             },
             "pattern": {
              "fillmode": "overlay",
              "size": 10,
              "solidity": 0.2
             }
            },
            "type": "barpolar"
           }
          ],
          "carpet": [
           {
            "aaxis": {
             "endlinecolor": "#2a3f5f",
             "gridcolor": "white",
             "linecolor": "white",
             "minorgridcolor": "white",
             "startlinecolor": "#2a3f5f"
            },
            "baxis": {
             "endlinecolor": "#2a3f5f",
             "gridcolor": "white",
             "linecolor": "white",
             "minorgridcolor": "white",
             "startlinecolor": "#2a3f5f"
            },
            "type": "carpet"
           }
          ],
          "choropleth": [
           {
            "colorbar": {
             "outlinewidth": 0,
             "ticks": ""
            },
            "type": "choropleth"
           }
          ],
          "contour": [
           {
            "colorbar": {
             "outlinewidth": 0,
             "ticks": ""
            },
            "colorscale": [
             [
              0,
              "#0d0887"
             ],
             [
              0.1111111111111111,
              "#46039f"
             ],
             [
              0.2222222222222222,
              "#7201a8"
             ],
             [
              0.3333333333333333,
              "#9c179e"
             ],
             [
              0.4444444444444444,
              "#bd3786"
             ],
             [
              0.5555555555555556,
              "#d8576b"
             ],
             [
              0.6666666666666666,
              "#ed7953"
             ],
             [
              0.7777777777777778,
              "#fb9f3a"
             ],
             [
              0.8888888888888888,
              "#fdca26"
             ],
             [
              1,
              "#f0f921"
             ]
            ],
            "type": "contour"
           }
          ],
          "contourcarpet": [
           {
            "colorbar": {
             "outlinewidth": 0,
             "ticks": ""
            },
            "type": "contourcarpet"
           }
          ],
          "heatmap": [
           {
            "colorbar": {
             "outlinewidth": 0,
             "ticks": ""
            },
            "colorscale": [
             [
              0,
              "#0d0887"
             ],
             [
              0.1111111111111111,
              "#46039f"
             ],
             [
              0.2222222222222222,
              "#7201a8"
             ],
             [
              0.3333333333333333,
              "#9c179e"
             ],
             [
              0.4444444444444444,
              "#bd3786"
             ],
             [
              0.5555555555555556,
              "#d8576b"
             ],
             [
              0.6666666666666666,
              "#ed7953"
             ],
             [
              0.7777777777777778,
              "#fb9f3a"
             ],
             [
              0.8888888888888888,
              "#fdca26"
             ],
             [
              1,
              "#f0f921"
             ]
            ],
            "type": "heatmap"
           }
          ],
          "heatmapgl": [
           {
            "colorbar": {
             "outlinewidth": 0,
             "ticks": ""
            },
            "colorscale": [
             [
              0,
              "#0d0887"
             ],
             [
              0.1111111111111111,
              "#46039f"
             ],
             [
              0.2222222222222222,
              "#7201a8"
             ],
             [
              0.3333333333333333,
              "#9c179e"
             ],
             [
              0.4444444444444444,
              "#bd3786"
             ],
             [
              0.5555555555555556,
              "#d8576b"
             ],
             [
              0.6666666666666666,
              "#ed7953"
             ],
             [
              0.7777777777777778,
              "#fb9f3a"
             ],
             [
              0.8888888888888888,
              "#fdca26"
             ],
             [
              1,
              "#f0f921"
             ]
            ],
            "type": "heatmapgl"
           }
          ],
          "histogram": [
           {
            "marker": {
             "pattern": {
              "fillmode": "overlay",
              "size": 10,
              "solidity": 0.2
             }
            },
            "type": "histogram"
           }
          ],
          "histogram2d": [
           {
            "colorbar": {
             "outlinewidth": 0,
             "ticks": ""
            },
            "colorscale": [
             [
              0,
              "#0d0887"
             ],
             [
              0.1111111111111111,
              "#46039f"
             ],
             [
              0.2222222222222222,
              "#7201a8"
             ],
             [
              0.3333333333333333,
              "#9c179e"
             ],
             [
              0.4444444444444444,
              "#bd3786"
             ],
             [
              0.5555555555555556,
              "#d8576b"
             ],
             [
              0.6666666666666666,
              "#ed7953"
             ],
             [
              0.7777777777777778,
              "#fb9f3a"
             ],
             [
              0.8888888888888888,
              "#fdca26"
             ],
             [
              1,
              "#f0f921"
             ]
            ],
            "type": "histogram2d"
           }
          ],
          "histogram2dcontour": [
           {
            "colorbar": {
             "outlinewidth": 0,
             "ticks": ""
            },
            "colorscale": [
             [
              0,
              "#0d0887"
             ],
             [
              0.1111111111111111,
              "#46039f"
             ],
             [
              0.2222222222222222,
              "#7201a8"
             ],
             [
              0.3333333333333333,
              "#9c179e"
             ],
             [
              0.4444444444444444,
              "#bd3786"
             ],
             [
              0.5555555555555556,
              "#d8576b"
             ],
             [
              0.6666666666666666,
              "#ed7953"
             ],
             [
              0.7777777777777778,
              "#fb9f3a"
             ],
             [
              0.8888888888888888,
              "#fdca26"
             ],
             [
              1,
              "#f0f921"
             ]
            ],
            "type": "histogram2dcontour"
           }
          ],
          "mesh3d": [
           {
            "colorbar": {
             "outlinewidth": 0,
             "ticks": ""
            },
            "type": "mesh3d"
           }
          ],
          "parcoords": [
           {
            "line": {
             "colorbar": {
              "outlinewidth": 0,
              "ticks": ""
             }
            },
            "type": "parcoords"
           }
          ],
          "pie": [
           {
            "automargin": true,
            "type": "pie"
           }
          ],
          "scatter": [
           {
            "fillpattern": {
             "fillmode": "overlay",
             "size": 10,
             "solidity": 0.2
            },
            "type": "scatter"
           }
          ],
          "scatter3d": [
           {
            "line": {
             "colorbar": {
              "outlinewidth": 0,
              "ticks": ""
             }
            },
            "marker": {
             "colorbar": {
              "outlinewidth": 0,
              "ticks": ""
             }
            },
            "type": "scatter3d"
           }
          ],
          "scattercarpet": [
           {
            "marker": {
             "colorbar": {
              "outlinewidth": 0,
              "ticks": ""
             }
            },
            "type": "scattercarpet"
           }
          ],
          "scattergeo": [
           {
            "marker": {
             "colorbar": {
              "outlinewidth": 0,
              "ticks": ""
             }
            },
            "type": "scattergeo"
           }
          ],
          "scattergl": [
           {
            "marker": {
             "colorbar": {
              "outlinewidth": 0,
              "ticks": ""
             }
            },
            "type": "scattergl"
           }
          ],
          "scattermapbox": [
           {
            "marker": {
             "colorbar": {
              "outlinewidth": 0,
              "ticks": ""
             }
            },
            "type": "scattermapbox"
           }
          ],
          "scatterpolar": [
           {
            "marker": {
             "colorbar": {
              "outlinewidth": 0,
              "ticks": ""
             }
            },
            "type": "scatterpolar"
           }
          ],
          "scatterpolargl": [
           {
            "marker": {
             "colorbar": {
              "outlinewidth": 0,
              "ticks": ""
             }
            },
            "type": "scatterpolargl"
           }
          ],
          "scatterternary": [
           {
            "marker": {
             "colorbar": {
              "outlinewidth": 0,
              "ticks": ""
             }
            },
            "type": "scatterternary"
           }
          ],
          "surface": [
           {
            "colorbar": {
             "outlinewidth": 0,
             "ticks": ""
            },
            "colorscale": [
             [
              0,
              "#0d0887"
             ],
             [
              0.1111111111111111,
              "#46039f"
             ],
             [
              0.2222222222222222,
              "#7201a8"
             ],
             [
              0.3333333333333333,
              "#9c179e"
             ],
             [
              0.4444444444444444,
              "#bd3786"
             ],
             [
              0.5555555555555556,
              "#d8576b"
             ],
             [
              0.6666666666666666,
              "#ed7953"
             ],
             [
              0.7777777777777778,
              "#fb9f3a"
             ],
             [
              0.8888888888888888,
              "#fdca26"
             ],
             [
              1,
              "#f0f921"
             ]
            ],
            "type": "surface"
           }
          ],
          "table": [
           {
            "cells": {
             "fill": {
              "color": "#EBF0F8"
             },
             "line": {
              "color": "white"
             }
            },
            "header": {
             "fill": {
              "color": "#C8D4E3"
             },
             "line": {
              "color": "white"
             }
            },
            "type": "table"
           }
          ]
         },
         "layout": {
          "annotationdefaults": {
           "arrowcolor": "#2a3f5f",
           "arrowhead": 0,
           "arrowwidth": 1
          },
          "autotypenumbers": "strict",
          "coloraxis": {
           "colorbar": {
            "outlinewidth": 0,
            "ticks": ""
           }
          },
          "colorscale": {
           "diverging": [
            [
             0,
             "#8e0152"
            ],
            [
             0.1,
             "#c51b7d"
            ],
            [
             0.2,
             "#de77ae"
            ],
            [
             0.3,
             "#f1b6da"
            ],
            [
             0.4,
             "#fde0ef"
            ],
            [
             0.5,
             "#f7f7f7"
            ],
            [
             0.6,
             "#e6f5d0"
            ],
            [
             0.7,
             "#b8e186"
            ],
            [
             0.8,
             "#7fbc41"
            ],
            [
             0.9,
             "#4d9221"
            ],
            [
             1,
             "#276419"
            ]
           ],
           "sequential": [
            [
             0,
             "#0d0887"
            ],
            [
             0.1111111111111111,
             "#46039f"
            ],
            [
             0.2222222222222222,
             "#7201a8"
            ],
            [
             0.3333333333333333,
             "#9c179e"
            ],
            [
             0.4444444444444444,
             "#bd3786"
            ],
            [
             0.5555555555555556,
             "#d8576b"
            ],
            [
             0.6666666666666666,
             "#ed7953"
            ],
            [
             0.7777777777777778,
             "#fb9f3a"
            ],
            [
             0.8888888888888888,
             "#fdca26"
            ],
            [
             1,
             "#f0f921"
            ]
           ],
           "sequentialminus": [
            [
             0,
             "#0d0887"
            ],
            [
             0.1111111111111111,
             "#46039f"
            ],
            [
             0.2222222222222222,
             "#7201a8"
            ],
            [
             0.3333333333333333,
             "#9c179e"
            ],
            [
             0.4444444444444444,
             "#bd3786"
            ],
            [
             0.5555555555555556,
             "#d8576b"
            ],
            [
             0.6666666666666666,
             "#ed7953"
            ],
            [
             0.7777777777777778,
             "#fb9f3a"
            ],
            [
             0.8888888888888888,
             "#fdca26"
            ],
            [
             1,
             "#f0f921"
            ]
           ]
          },
          "colorway": [
           "#636efa",
           "#EF553B",
           "#00cc96",
           "#ab63fa",
           "#FFA15A",
           "#19d3f3",
           "#FF6692",
           "#B6E880",
           "#FF97FF",
           "#FECB52"
          ],
          "font": {
           "color": "#2a3f5f"
          },
          "geo": {
           "bgcolor": "white",
           "lakecolor": "white",
           "landcolor": "#E5ECF6",
           "showlakes": true,
           "showland": true,
           "subunitcolor": "white"
          },
          "hoverlabel": {
           "align": "left"
          },
          "hovermode": "closest",
          "mapbox": {
           "style": "light"
          },
          "paper_bgcolor": "white",
          "plot_bgcolor": "#E5ECF6",
          "polar": {
           "angularaxis": {
            "gridcolor": "white",
            "linecolor": "white",
            "ticks": ""
           },
           "bgcolor": "#E5ECF6",
           "radialaxis": {
            "gridcolor": "white",
            "linecolor": "white",
            "ticks": ""
           }
          },
          "scene": {
           "xaxis": {
            "backgroundcolor": "#E5ECF6",
            "gridcolor": "white",
            "gridwidth": 2,
            "linecolor": "white",
            "showbackground": true,
            "ticks": "",
            "zerolinecolor": "white"
           },
           "yaxis": {
            "backgroundcolor": "#E5ECF6",
            "gridcolor": "white",
            "gridwidth": 2,
            "linecolor": "white",
            "showbackground": true,
            "ticks": "",
            "zerolinecolor": "white"
           },
           "zaxis": {
            "backgroundcolor": "#E5ECF6",
            "gridcolor": "white",
            "gridwidth": 2,
            "linecolor": "white",
            "showbackground": true,
            "ticks": "",
            "zerolinecolor": "white"
           }
          },
          "shapedefaults": {
           "line": {
            "color": "#2a3f5f"
           }
          },
          "ternary": {
           "aaxis": {
            "gridcolor": "white",
            "linecolor": "white",
            "ticks": ""
           },
           "baxis": {
            "gridcolor": "white",
            "linecolor": "white",
            "ticks": ""
           },
           "bgcolor": "#E5ECF6",
           "caxis": {
            "gridcolor": "white",
            "linecolor": "white",
            "ticks": ""
           }
          },
          "title": {
           "x": 0.05
          },
          "xaxis": {
           "automargin": true,
           "gridcolor": "white",
           "linecolor": "white",
           "ticks": "",
           "title": {
            "standoff": 15
           },
           "zerolinecolor": "white",
           "zerolinewidth": 2
          },
          "yaxis": {
           "automargin": true,
           "gridcolor": "white",
           "linecolor": "white",
           "ticks": "",
           "title": {
            "standoff": 15
           },
           "zerolinecolor": "white",
           "zerolinewidth": 2
          }
         }
        },
        "title": {
         "font": {
          "family": "Gulliver",
          "size": 40
         },
         "text": "Model Complexity for Logistic Regression",
         "x": 0.5
        },
        "width": 800,
        "xaxis": {
         "title": {
          "font": {
           "family": "Gulliver",
           "size": 24
          },
          "text": "Regularization Parameters Log(1/C)"
         }
        },
        "yaxis": {
         "title": {
          "font": {
           "family": "Gulliver",
           "size": 24
          },
          "text": "Classification Error"
         }
        }
       }
      }
     },
     "metadata": {},
     "output_type": "display_data"
    }
   ],
   "source": [
    "C_range = [ 10**i for i in range(-4, 5) ]\n",
    "\n",
    "train_errors = []\n",
    "test_errors = []\n",
    "\n",
    "for C in C_range:\n",
    "    clf = LogisticRegression(\n",
    "        C = C, random_state = 42, penalty = 'l2', solver = 'lbfgs'\n",
    "    )\n",
    "    clf.fit(x_train, y_train)\n",
    "    train_errors.append(1 - clf.score(x_train, y_train))\n",
    "    test_errors.append(1 - clf.score(x_test, y_test))\n",
    "\n",
    "fig = go.Figure()\n",
    "\n",
    "fig.add_trace(\n",
    "    go.Scatter(\n",
    "        x = [ np.log10(1/C) for C in C_range ], y = train_errors,\n",
    "        mode = 'lines+markers',\n",
    "        name = 'Train Error'\n",
    "    )\n",
    ")\n",
    "\n",
    "fig.add_trace(\n",
    "    go.Scatter(\n",
    "        x = [ np.log10(1/C) for C in C_range ], y = test_errors,\n",
    "        mode = 'lines+markers',\n",
    "        name = 'Test Error'\n",
    "    )\n",
    ")\n",
    "fig.update_layout(\n",
    "    title = {\n",
    "        'text': 'Model Complexity for Logistic Regression',\n",
    "        'font': {\n",
    "            'size': 40, 'family': 'Gulliver'\n",
    "        },\n",
    "        'x': 0.5\n",
    "    },\n",
    "    width = 800, height = 600,\n",
    "    xaxis_title = {\n",
    "        'text': 'Regularization Parameters Log(1/C)',\n",
    "        'font': {\n",
    "            'size': 24, 'family': 'Gulliver'\n",
    "        }\n",
    "    },\n",
    "    yaxis_title = {\n",
    "        'text': 'Classification Error',\n",
    "        'font': {\n",
    "            'size': 24, 'family': 'Gulliver'\n",
    "        }\n",
    "    }\n",
    ")\n",
    "\n",
    "\n",
    "fig.show()"
   ]
  }
 ],
 "metadata": {
  "kernelspec": {
   "display_name": "Python 3",
   "language": "python",
   "name": "python3"
  },
  "language_info": {
   "codemirror_mode": {
    "name": "ipython",
    "version": 3
   },
   "file_extension": ".py",
   "mimetype": "text/x-python",
   "name": "python",
   "nbconvert_exporter": "python",
   "pygments_lexer": "ipython3",
   "version": "3.9.13"
  },
  "orig_nbformat": 4
 },
 "nbformat": 4,
 "nbformat_minor": 2
}
