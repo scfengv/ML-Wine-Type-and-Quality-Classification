{
 "cells": [
  {
   "cell_type": "code",
   "execution_count": 73,
   "metadata": {},
   "outputs": [],
   "source": [
    "import pandas as pd\n",
    "from sklearn.decomposition import PCA\n",
    "from sklearn.preprocessing import StandardScaler, label_binarize\n",
    "from sklearn.model_selection import cross_val_score, StratifiedKFold, GridSearchCV, train_test_split\n",
    "from imblearn.over_sampling import SMOTE\n",
    "import plotly.graph_objects as go\n",
    "from scipy import stats\n",
    "from sklearn.svm import SVC\n",
    "import numpy as np\n",
    "from skater.core.explanations import Interpretation\n",
    "from skater.model import InMemoryModel\n",
    "import matplotlib.pyplot as plt\n",
    "from sklearn.metrics import confusion_matrix, roc_curve, auc, accuracy_score\n",
    "from sklearn import metrics\n",
    "from mlxtend.plotting import plot_learning_curves, plot_decision_regions"
   ]
  },
  {
   "cell_type": "code",
   "execution_count": 74,
   "metadata": {},
   "outputs": [],
   "source": [
    "red = '/Users/shenchingfeng/Documents/1112/機器學習/Homework 2/red.csv'\n",
    "white = '/Users/shenchingfeng/Documents/1112/機器學習/Homework 2/white.csv'\n",
    "\n",
    "red = pd.read_csv(red)\n",
    "white = pd.read_csv(white)\n",
    "\n",
    "red.drop(['Unnamed: 0', 'wine'], axis = 1, inplace = True)\n",
    "white.drop(['Unnamed: 0', 'wine'], axis = 1, inplace = True)"
   ]
  },
  {
   "cell_type": "code",
   "execution_count": 72,
   "metadata": {},
   "outputs": [
    {
     "data": {
      "text/plain": [
       "(4898, 12)"
      ]
     },
     "execution_count": 72,
     "metadata": {},
     "output_type": "execute_result"
    }
   ],
   "source": [
    "white.shape"
   ]
  },
  {
   "cell_type": "code",
   "execution_count": 3,
   "metadata": {},
   "outputs": [
    {
     "data": {
      "text/html": [
       "<div>\n",
       "<style scoped>\n",
       "    .dataframe tbody tr th:only-of-type {\n",
       "        vertical-align: middle;\n",
       "    }\n",
       "\n",
       "    .dataframe tbody tr th {\n",
       "        vertical-align: top;\n",
       "    }\n",
       "\n",
       "    .dataframe thead th {\n",
       "        text-align: right;\n",
       "    }\n",
       "</style>\n",
       "<table border=\"1\" class=\"dataframe\">\n",
       "  <thead>\n",
       "    <tr style=\"text-align: right;\">\n",
       "      <th></th>\n",
       "      <th>fixed acidity</th>\n",
       "      <th>volatile acidity</th>\n",
       "      <th>citric acid</th>\n",
       "      <th>residual sugar</th>\n",
       "      <th>chlorides</th>\n",
       "      <th>free sulfur dioxide</th>\n",
       "      <th>total sulfur dioxide</th>\n",
       "      <th>density</th>\n",
       "      <th>pH</th>\n",
       "      <th>sulphates</th>\n",
       "      <th>alcohol</th>\n",
       "      <th>quality</th>\n",
       "    </tr>\n",
       "  </thead>\n",
       "  <tbody>\n",
       "    <tr>\n",
       "      <th>0</th>\n",
       "      <td>7.4</td>\n",
       "      <td>0.700</td>\n",
       "      <td>0.00</td>\n",
       "      <td>1.9</td>\n",
       "      <td>0.076</td>\n",
       "      <td>11.0</td>\n",
       "      <td>34.0</td>\n",
       "      <td>0.99780</td>\n",
       "      <td>3.51</td>\n",
       "      <td>0.56</td>\n",
       "      <td>9.4</td>\n",
       "      <td>5</td>\n",
       "    </tr>\n",
       "    <tr>\n",
       "      <th>1</th>\n",
       "      <td>7.8</td>\n",
       "      <td>0.880</td>\n",
       "      <td>0.00</td>\n",
       "      <td>2.6</td>\n",
       "      <td>0.098</td>\n",
       "      <td>25.0</td>\n",
       "      <td>67.0</td>\n",
       "      <td>0.99680</td>\n",
       "      <td>3.20</td>\n",
       "      <td>0.68</td>\n",
       "      <td>9.8</td>\n",
       "      <td>5</td>\n",
       "    </tr>\n",
       "    <tr>\n",
       "      <th>2</th>\n",
       "      <td>7.8</td>\n",
       "      <td>0.760</td>\n",
       "      <td>0.04</td>\n",
       "      <td>2.3</td>\n",
       "      <td>0.092</td>\n",
       "      <td>15.0</td>\n",
       "      <td>54.0</td>\n",
       "      <td>0.99700</td>\n",
       "      <td>3.26</td>\n",
       "      <td>0.65</td>\n",
       "      <td>9.8</td>\n",
       "      <td>5</td>\n",
       "    </tr>\n",
       "    <tr>\n",
       "      <th>3</th>\n",
       "      <td>11.2</td>\n",
       "      <td>0.280</td>\n",
       "      <td>0.56</td>\n",
       "      <td>1.9</td>\n",
       "      <td>0.075</td>\n",
       "      <td>17.0</td>\n",
       "      <td>60.0</td>\n",
       "      <td>0.99800</td>\n",
       "      <td>3.16</td>\n",
       "      <td>0.58</td>\n",
       "      <td>9.8</td>\n",
       "      <td>6</td>\n",
       "    </tr>\n",
       "    <tr>\n",
       "      <th>4</th>\n",
       "      <td>7.4</td>\n",
       "      <td>0.700</td>\n",
       "      <td>0.00</td>\n",
       "      <td>1.9</td>\n",
       "      <td>0.076</td>\n",
       "      <td>11.0</td>\n",
       "      <td>34.0</td>\n",
       "      <td>0.99780</td>\n",
       "      <td>3.51</td>\n",
       "      <td>0.56</td>\n",
       "      <td>9.4</td>\n",
       "      <td>5</td>\n",
       "    </tr>\n",
       "    <tr>\n",
       "      <th>...</th>\n",
       "      <td>...</td>\n",
       "      <td>...</td>\n",
       "      <td>...</td>\n",
       "      <td>...</td>\n",
       "      <td>...</td>\n",
       "      <td>...</td>\n",
       "      <td>...</td>\n",
       "      <td>...</td>\n",
       "      <td>...</td>\n",
       "      <td>...</td>\n",
       "      <td>...</td>\n",
       "      <td>...</td>\n",
       "    </tr>\n",
       "    <tr>\n",
       "      <th>1594</th>\n",
       "      <td>6.2</td>\n",
       "      <td>0.600</td>\n",
       "      <td>0.08</td>\n",
       "      <td>2.0</td>\n",
       "      <td>0.090</td>\n",
       "      <td>32.0</td>\n",
       "      <td>44.0</td>\n",
       "      <td>0.99490</td>\n",
       "      <td>3.45</td>\n",
       "      <td>0.58</td>\n",
       "      <td>10.5</td>\n",
       "      <td>5</td>\n",
       "    </tr>\n",
       "    <tr>\n",
       "      <th>1595</th>\n",
       "      <td>5.9</td>\n",
       "      <td>0.550</td>\n",
       "      <td>0.10</td>\n",
       "      <td>2.2</td>\n",
       "      <td>0.062</td>\n",
       "      <td>39.0</td>\n",
       "      <td>51.0</td>\n",
       "      <td>0.99512</td>\n",
       "      <td>3.52</td>\n",
       "      <td>0.76</td>\n",
       "      <td>11.2</td>\n",
       "      <td>6</td>\n",
       "    </tr>\n",
       "    <tr>\n",
       "      <th>1596</th>\n",
       "      <td>6.3</td>\n",
       "      <td>0.510</td>\n",
       "      <td>0.13</td>\n",
       "      <td>2.3</td>\n",
       "      <td>0.076</td>\n",
       "      <td>29.0</td>\n",
       "      <td>40.0</td>\n",
       "      <td>0.99574</td>\n",
       "      <td>3.42</td>\n",
       "      <td>0.75</td>\n",
       "      <td>11.0</td>\n",
       "      <td>6</td>\n",
       "    </tr>\n",
       "    <tr>\n",
       "      <th>1597</th>\n",
       "      <td>5.9</td>\n",
       "      <td>0.645</td>\n",
       "      <td>0.12</td>\n",
       "      <td>2.0</td>\n",
       "      <td>0.075</td>\n",
       "      <td>32.0</td>\n",
       "      <td>44.0</td>\n",
       "      <td>0.99547</td>\n",
       "      <td>3.57</td>\n",
       "      <td>0.71</td>\n",
       "      <td>10.2</td>\n",
       "      <td>5</td>\n",
       "    </tr>\n",
       "    <tr>\n",
       "      <th>1598</th>\n",
       "      <td>6.0</td>\n",
       "      <td>0.310</td>\n",
       "      <td>0.47</td>\n",
       "      <td>3.6</td>\n",
       "      <td>0.067</td>\n",
       "      <td>18.0</td>\n",
       "      <td>42.0</td>\n",
       "      <td>0.99549</td>\n",
       "      <td>3.39</td>\n",
       "      <td>0.66</td>\n",
       "      <td>11.0</td>\n",
       "      <td>6</td>\n",
       "    </tr>\n",
       "  </tbody>\n",
       "</table>\n",
       "<p>1599 rows × 12 columns</p>\n",
       "</div>"
      ],
      "text/plain": [
       "      fixed acidity  volatile acidity  citric acid  residual sugar  chlorides  \\\n",
       "0               7.4             0.700         0.00             1.9      0.076   \n",
       "1               7.8             0.880         0.00             2.6      0.098   \n",
       "2               7.8             0.760         0.04             2.3      0.092   \n",
       "3              11.2             0.280         0.56             1.9      0.075   \n",
       "4               7.4             0.700         0.00             1.9      0.076   \n",
       "...             ...               ...          ...             ...        ...   \n",
       "1594            6.2             0.600         0.08             2.0      0.090   \n",
       "1595            5.9             0.550         0.10             2.2      0.062   \n",
       "1596            6.3             0.510         0.13             2.3      0.076   \n",
       "1597            5.9             0.645         0.12             2.0      0.075   \n",
       "1598            6.0             0.310         0.47             3.6      0.067   \n",
       "\n",
       "      free sulfur dioxide  total sulfur dioxide  density    pH  sulphates  \\\n",
       "0                    11.0                  34.0  0.99780  3.51       0.56   \n",
       "1                    25.0                  67.0  0.99680  3.20       0.68   \n",
       "2                    15.0                  54.0  0.99700  3.26       0.65   \n",
       "3                    17.0                  60.0  0.99800  3.16       0.58   \n",
       "4                    11.0                  34.0  0.99780  3.51       0.56   \n",
       "...                   ...                   ...      ...   ...        ...   \n",
       "1594                 32.0                  44.0  0.99490  3.45       0.58   \n",
       "1595                 39.0                  51.0  0.99512  3.52       0.76   \n",
       "1596                 29.0                  40.0  0.99574  3.42       0.75   \n",
       "1597                 32.0                  44.0  0.99547  3.57       0.71   \n",
       "1598                 18.0                  42.0  0.99549  3.39       0.66   \n",
       "\n",
       "      alcohol  quality  \n",
       "0         9.4        5  \n",
       "1         9.8        5  \n",
       "2         9.8        5  \n",
       "3         9.8        6  \n",
       "4         9.4        5  \n",
       "...       ...      ...  \n",
       "1594     10.5        5  \n",
       "1595     11.2        6  \n",
       "1596     11.0        6  \n",
       "1597     10.2        5  \n",
       "1598     11.0        6  \n",
       "\n",
       "[1599 rows x 12 columns]"
      ]
     },
     "execution_count": 3,
     "metadata": {},
     "output_type": "execute_result"
    }
   ],
   "source": [
    "red"
   ]
  },
  {
   "cell_type": "code",
   "execution_count": 69,
   "metadata": {},
   "outputs": [
    {
     "data": {
      "text/html": [
       "<div>\n",
       "<style scoped>\n",
       "    .dataframe tbody tr th:only-of-type {\n",
       "        vertical-align: middle;\n",
       "    }\n",
       "\n",
       "    .dataframe tbody tr th {\n",
       "        vertical-align: top;\n",
       "    }\n",
       "\n",
       "    .dataframe thead th {\n",
       "        text-align: right;\n",
       "    }\n",
       "</style>\n",
       "<table border=\"1\" class=\"dataframe\">\n",
       "  <thead>\n",
       "    <tr style=\"text-align: right;\">\n",
       "      <th></th>\n",
       "      <th>Column</th>\n",
       "      <th>Skewness</th>\n",
       "      <th>Kurtosis</th>\n",
       "      <th>Log Transform Skewness</th>\n",
       "      <th>Log Transform Kurtosis</th>\n",
       "      <th>Yeo-Johnson Skewness</th>\n",
       "      <th>Yeo-Johnson Kurtosis</th>\n",
       "    </tr>\n",
       "  </thead>\n",
       "  <tbody>\n",
       "    <tr>\n",
       "      <th>0</th>\n",
       "      <td>fixed acidity</td>\n",
       "      <td>0.65</td>\n",
       "      <td>2.17</td>\n",
       "      <td>0.15</td>\n",
       "      <td>0.98</td>\n",
       "      <td>-0.01</td>\n",
       "      <td>0.91</td>\n",
       "    </tr>\n",
       "    <tr>\n",
       "      <th>1</th>\n",
       "      <td>volatile acidity</td>\n",
       "      <td>1.58</td>\n",
       "      <td>5.09</td>\n",
       "      <td>1.14</td>\n",
       "      <td>2.72</td>\n",
       "      <td>0.01</td>\n",
       "      <td>-0.06</td>\n",
       "    </tr>\n",
       "    <tr>\n",
       "      <th>2</th>\n",
       "      <td>citric acid</td>\n",
       "      <td>1.28</td>\n",
       "      <td>6.17</td>\n",
       "      <td>0.61</td>\n",
       "      <td>2.90</td>\n",
       "      <td>-0.07</td>\n",
       "      <td>2.13</td>\n",
       "    </tr>\n",
       "    <tr>\n",
       "      <th>3</th>\n",
       "      <td>residual sugar</td>\n",
       "      <td>1.08</td>\n",
       "      <td>3.47</td>\n",
       "      <td>0.00</td>\n",
       "      <td>-1.37</td>\n",
       "      <td>0.00</td>\n",
       "      <td>-1.37</td>\n",
       "    </tr>\n",
       "    <tr>\n",
       "      <th>4</th>\n",
       "      <td>chlorides</td>\n",
       "      <td>5.02</td>\n",
       "      <td>37.56</td>\n",
       "      <td>4.63</td>\n",
       "      <td>32.05</td>\n",
       "      <td>-0.07</td>\n",
       "      <td>1.09</td>\n",
       "    </tr>\n",
       "    <tr>\n",
       "      <th>5</th>\n",
       "      <td>free sulfur dioxide</td>\n",
       "      <td>1.41</td>\n",
       "      <td>11.47</td>\n",
       "      <td>-0.83</td>\n",
       "      <td>1.12</td>\n",
       "      <td>0.03</td>\n",
       "      <td>0.74</td>\n",
       "    </tr>\n",
       "    <tr>\n",
       "      <th>6</th>\n",
       "      <td>total sulfur dioxide</td>\n",
       "      <td>0.39</td>\n",
       "      <td>0.57</td>\n",
       "      <td>-0.95</td>\n",
       "      <td>3.23</td>\n",
       "      <td>0.02</td>\n",
       "      <td>0.27</td>\n",
       "    </tr>\n",
       "    <tr>\n",
       "      <th>7</th>\n",
       "      <td>pH</td>\n",
       "      <td>0.46</td>\n",
       "      <td>0.53</td>\n",
       "      <td>0.34</td>\n",
       "      <td>0.35</td>\n",
       "      <td>-0.00</td>\n",
       "      <td>0.11</td>\n",
       "    </tr>\n",
       "    <tr>\n",
       "      <th>8</th>\n",
       "      <td>sulphates</td>\n",
       "      <td>0.98</td>\n",
       "      <td>1.59</td>\n",
       "      <td>0.71</td>\n",
       "      <td>0.81</td>\n",
       "      <td>0.01</td>\n",
       "      <td>-0.10</td>\n",
       "    </tr>\n",
       "    <tr>\n",
       "      <th>9</th>\n",
       "      <td>alcohol</td>\n",
       "      <td>0.49</td>\n",
       "      <td>-0.70</td>\n",
       "      <td>0.33</td>\n",
       "      <td>-0.88</td>\n",
       "      <td>0.06</td>\n",
       "      <td>-1.03</td>\n",
       "    </tr>\n",
       "  </tbody>\n",
       "</table>\n",
       "</div>"
      ],
      "text/plain": [
       "                 Column  Skewness  Kurtosis  Log Transform Skewness  \\\n",
       "0         fixed acidity      0.65      2.17                    0.15   \n",
       "1      volatile acidity      1.58      5.09                    1.14   \n",
       "2           citric acid      1.28      6.17                    0.61   \n",
       "3        residual sugar      1.08      3.47                    0.00   \n",
       "4             chlorides      5.02     37.56                    4.63   \n",
       "5   free sulfur dioxide      1.41     11.47                   -0.83   \n",
       "6  total sulfur dioxide      0.39      0.57                   -0.95   \n",
       "7                    pH      0.46      0.53                    0.34   \n",
       "8             sulphates      0.98      1.59                    0.71   \n",
       "9               alcohol      0.49     -0.70                    0.33   \n",
       "\n",
       "   Log Transform Kurtosis  Yeo-Johnson Skewness  Yeo-Johnson Kurtosis  \n",
       "0                    0.98                 -0.01                  0.91  \n",
       "1                    2.72                  0.01                 -0.06  \n",
       "2                    2.90                 -0.07                  2.13  \n",
       "3                   -1.37                  0.00                 -1.37  \n",
       "4                   32.05                 -0.07                  1.09  \n",
       "5                    1.12                  0.03                  0.74  \n",
       "6                    3.23                  0.02                  0.27  \n",
       "7                    0.35                 -0.00                  0.11  \n",
       "8                    0.81                  0.01                 -0.10  \n",
       "9                   -0.88                  0.06                 -1.03  "
      ]
     },
     "execution_count": 69,
     "metadata": {},
     "output_type": "execute_result"
    }
   ],
   "source": [
    "output_data = []\n",
    "select_col = red.drop(['quality', 'density'], axis = 1).columns\n",
    "\n",
    "df = white\n",
    "for i in select_col:\n",
    "    col_skewness = round(df[i].skew(), 2)\n",
    "    col_kurtosis = round(df[i].kurt(), 2)\n",
    "\n",
    "    log_skewness = round(np.log1p(df[i]).skew(), 2)\n",
    "    log_kurtosis = round(np.log1p(df[i]).kurt(), 2)\n",
    "\n",
    "    transformed_data, lambda_value = stats.yeojohnson(df[i])\n",
    "    yeojohnson_skewness = round(stats.skew(transformed_data), 2)\n",
    "    yeojohnson_kurtosis = round(stats.kurtosis(transformed_data), 2)\n",
    "    \n",
    "    output_data.append({\n",
    "        'Column': i,\n",
    "        'Skewness': col_skewness,\n",
    "        'Kurtosis': col_kurtosis,\n",
    "\n",
    "        'Log Transform Skewness': log_skewness,\n",
    "        'Log Transform Kurtosis': log_kurtosis,\n",
    "        \n",
    "        'Yeo-Johnson Skewness': yeojohnson_skewness,\n",
    "        'Yeo-Johnson Kurtosis': yeojohnson_kurtosis\n",
    "    })\n",
    "\n",
    "output_df = pd.DataFrame(output_data)\n",
    "output_df"
   ]
  },
  {
   "cell_type": "code",
   "execution_count": 75,
   "metadata": {},
   "outputs": [],
   "source": [
    "select_col = red.drop(['quality', 'density'], axis = 1).columns\n",
    "\n",
    "df = [red, white]\n",
    "for d in df:\n",
    "    for i in select_col:\n",
    "        d[i], lambda_value = stats.yeojohnson(d[i])"
   ]
  },
  {
   "cell_type": "code",
   "execution_count": 76,
   "metadata": {},
   "outputs": [
    {
     "name": "stdout",
     "output_type": "stream",
     "text": [
      "fixed acidity Skewness: 0.0\n",
      "fixed acidity Kurtosis: 0.04\n",
      "=======================\n",
      "volatile acidity Skewness: 0.0\n",
      "volatile acidity Kurtosis: -0.13\n",
      "=======================\n",
      "citric acid Skewness: 0.02\n",
      "citric acid Kurtosis: -1.08\n",
      "=======================\n",
      "residual sugar Skewness: -0.02\n",
      "residual sugar Kurtosis: 0.94\n",
      "=======================\n",
      "chlorides Skewness: -0.15\n",
      "chlorides Kurtosis: 3.3\n",
      "=======================\n",
      "free sulfur dioxide Skewness: -0.01\n",
      "free sulfur dioxide Kurtosis: -0.67\n",
      "=======================\n",
      "total sulfur dioxide Skewness: -0.0\n",
      "total sulfur dioxide Kurtosis: -0.69\n",
      "=======================\n",
      "pH Skewness: -0.0\n",
      "pH Kurtosis: 0.66\n",
      "=======================\n",
      "sulphates Skewness: 0.01\n",
      "sulphates Kurtosis: 0.08\n",
      "=======================\n",
      "alcohol Skewness: 0.11\n",
      "alcohol Kurtosis: -0.93\n",
      "=======================\n",
      "=======================\n",
      "fixed acidity Skewness: -0.01\n",
      "fixed acidity Kurtosis: 0.91\n",
      "=======================\n",
      "volatile acidity Skewness: 0.01\n",
      "volatile acidity Kurtosis: -0.05\n",
      "=======================\n",
      "citric acid Skewness: -0.07\n",
      "citric acid Kurtosis: 2.14\n",
      "=======================\n",
      "residual sugar Skewness: 0.0\n",
      "residual sugar Kurtosis: -1.37\n",
      "=======================\n",
      "chlorides Skewness: -0.07\n",
      "chlorides Kurtosis: 1.09\n",
      "=======================\n",
      "free sulfur dioxide Skewness: 0.03\n",
      "free sulfur dioxide Kurtosis: 0.74\n",
      "=======================\n",
      "total sulfur dioxide Skewness: 0.02\n",
      "total sulfur dioxide Kurtosis: 0.27\n",
      "=======================\n",
      "pH Skewness: -0.0\n",
      "pH Kurtosis: 0.12\n",
      "=======================\n",
      "sulphates Skewness: 0.01\n",
      "sulphates Kurtosis: -0.1\n",
      "=======================\n",
      "alcohol Skewness: 0.06\n",
      "alcohol Kurtosis: -1.03\n",
      "=======================\n"
     ]
    }
   ],
   "source": [
    "for i in select_col:\n",
    "    print(f\"{i} Skewness:\", round(red[i].skew(), 2))\n",
    "    print(f\"{i} Kurtosis:\", round(red[i].kurt(), 2))\n",
    "    print(\"=======================\")\n",
    "\n",
    "print(\"=======================\")\n",
    "\n",
    "for i in select_col:\n",
    "    print(f\"{i} Skewness:\", round(white[i].skew(), 2))\n",
    "    print(f\"{i} Kurtosis:\", round(white[i].kurt(), 2))\n",
    "    print(\"=======================\")"
   ]
  },
  {
   "cell_type": "code",
   "execution_count": null,
   "metadata": {},
   "outputs": [
    {
     "data": {
      "text/plain": [
       "3     10\n",
       "4     53\n",
       "5    681\n",
       "6    638\n",
       "7    199\n",
       "8     18\n",
       "Name: quality, dtype: int64"
      ]
     },
     "execution_count": 5,
     "metadata": {},
     "output_type": "execute_result"
    }
   ],
   "source": [
    "red.quality.value_counts().sort_index()"
   ]
  },
  {
   "cell_type": "code",
   "execution_count": null,
   "metadata": {},
   "outputs": [
    {
     "data": {
      "text/plain": [
       "3      20\n",
       "4     163\n",
       "5    1457\n",
       "6    2198\n",
       "7     880\n",
       "8     175\n",
       "9       5\n",
       "Name: quality, dtype: int64"
      ]
     },
     "execution_count": 6,
     "metadata": {},
     "output_type": "execute_result"
    }
   ],
   "source": [
    "white.quality.value_counts().sort_index()"
   ]
  },
  {
   "attachments": {},
   "cell_type": "markdown",
   "metadata": {},
   "source": [
    "# Grid Search CV"
   ]
  },
  {
   "cell_type": "code",
   "execution_count": 77,
   "metadata": {},
   "outputs": [],
   "source": [
    "kf = StratifiedKFold(n_splits = 5, shuffle = True, random_state = 42)"
   ]
  },
  {
   "cell_type": "code",
   "execution_count": null,
   "metadata": {},
   "outputs": [
    {
     "name": "stdout",
     "output_type": "stream",
     "text": [
      "Best parameters for red: {'C': 10.0, 'gamma': 100.0, 'kernel': 'rbf'}\n",
      "Best score for red: 0.6034933385579937\n",
      "Best parameters for white: {'C': 1.0, 'gamma': 100.0, 'kernel': 'rbf'}\n",
      "Best score for white: 0.6192289091326009\n"
     ]
    }
   ],
   "source": [
    "model = SVC()\n",
    "\n",
    "red.index.set_names(['red'], inplace = True)\n",
    "white.index.set_names(['white'], inplace = True)\n",
    "\n",
    "for d in df:\n",
    "    X = d.drop(['quality', 'density'], axis = 1)\n",
    "    y = d.quality\n",
    "\n",
    "    params = {\n",
    "        'C': np.logspace(-3, 3, num = 7, base = 10),\n",
    "        'kernel': ['rbf', 'sigmoid'],\n",
    "        'gamma': np.logspace(-3, 3, num = 7, base = 10),  \n",
    "    }\n",
    "\n",
    "    grid_search = GridSearchCV(model, param_grid = params, cv = kf)\n",
    "    grid_search.fit(X, y)\n",
    "\n",
    "    print(f\"Best parameters for {d.index.name}:\", grid_search.best_params_)\n",
    "    print(f\"Best score for {d.index.name}:\", grid_search.best_score_)"
   ]
  },
  {
   "attachments": {},
   "cell_type": "markdown",
   "metadata": {},
   "source": [
    "# Model"
   ]
  },
  {
   "cell_type": "code",
   "execution_count": 22,
   "metadata": {},
   "outputs": [],
   "source": [
    "x_train_red, x_test_red, y_train_red, y_test_red = train_test_split(red.drop(['quality', 'density'], axis = 1), red.quality, shuffle = True, random_state = 42)\n",
    "\n",
    "scl = StandardScaler()\n",
    "x_train_red = scl.fit_transform(x_train_red)\n",
    "x_test_red = scl.transform(x_test_red)"
   ]
  },
  {
   "cell_type": "code",
   "execution_count": 55,
   "metadata": {},
   "outputs": [],
   "source": [
    "x_train_white, x_test_white, y_train_white, y_test_white = train_test_split(white.drop(['quality', 'density'], axis = 1), white.quality, shuffle = True, random_state = 42)\n",
    "\n",
    "scl = StandardScaler()\n",
    "x_train_white = scl.fit_transform(x_train_white)\n",
    "x_test_white = scl.transform(x_test_white)"
   ]
  },
  {
   "attachments": {},
   "cell_type": "markdown",
   "metadata": {},
   "source": [
    "## Red wine"
   ]
  },
  {
   "cell_type": "code",
   "execution_count": 26,
   "metadata": {},
   "outputs": [
    {
     "name": "stdout",
     "output_type": "stream",
     "text": [
      "[10/10] features ████████████████████ Time elapsed: 0 seconds"
     ]
    },
    {
     "data": {
      "text/plain": [
       "Text(0.5, 1.0, 'Feature importance Before SMOTE')"
      ]
     },
     "execution_count": 26,
     "metadata": {},
     "output_type": "execute_result"
    },
    {
     "data": {
      "image/png": "[encoded data removed]",
      "text/plain": [
       "<Figure size 640x480 with 1 Axes>"
      ]
     },
     "metadata": {},
     "output_type": "display_data"
    }
   ],
   "source": [
    "clf = SVC(probability = True, C = 10, gamma = 100, kernel = 'rbf')\n",
    "model = clf.fit(x_train_red, y_train_red)\n",
    "y_pred_red = model.predict(x_test_red)\n",
    "\n",
    "interpreter = Interpretation(\n",
    "    x_test_red, feature_names = red.drop(['quality', 'density'], axis = 1).columns\n",
    ")\n",
    "\n",
    "pyint_model = InMemoryModel(\n",
    "            clf.predict_proba,\n",
    "            examples = x_train_red\n",
    "        )\n",
    "\n",
    "plots = interpreter.feature_importance.plot_feature_importance(pyint_model, ascending = False, progressbar = True)\n",
    "plt.title('Feature importance Before SMOTE')"
   ]
  },
  {
   "cell_type": "code",
   "execution_count": 27,
   "metadata": {},
   "outputs": [
    {
     "name": "stdout",
     "output_type": "stream",
     "text": [
      "Acurracy:  52.5 %\n",
      "Precision: 73.2444 %\n",
      "Recall: 52.5 %\n",
      "f1: 44.8806 %\n"
     ]
    },
    {
     "name": "stderr",
     "output_type": "stream",
     "text": [
      "/opt/anaconda3/lib/python3.9/site-packages/sklearn/metrics/_classification.py:1344: UndefinedMetricWarning:\n",
      "\n",
      "Precision and F-score are ill-defined and being set to 0.0 in labels with no predicted samples. Use `zero_division` parameter to control this behavior.\n",
      "\n"
     ]
    },
    {
     "data": {
      "text/html": [
       "<div>\n",
       "<style scoped>\n",
       "    .dataframe tbody tr th:only-of-type {\n",
       "        vertical-align: middle;\n",
       "    }\n",
       "\n",
       "    .dataframe tbody tr th {\n",
       "        vertical-align: top;\n",
       "    }\n",
       "\n",
       "    .dataframe thead th {\n",
       "        text-align: right;\n",
       "    }\n",
       "</style>\n",
       "<table border=\"1\" class=\"dataframe\">\n",
       "  <thead>\n",
       "    <tr style=\"text-align: right;\">\n",
       "      <th></th>\n",
       "      <th>3</th>\n",
       "      <th>4</th>\n",
       "      <th>5</th>\n",
       "      <th>6</th>\n",
       "      <th>7</th>\n",
       "      <th>8</th>\n",
       "    </tr>\n",
       "  </thead>\n",
       "  <tbody>\n",
       "    <tr>\n",
       "      <th>3</th>\n",
       "      <td>0.0</td>\n",
       "      <td>0.0</td>\n",
       "      <td>1.000000</td>\n",
       "      <td>0.000000</td>\n",
       "      <td>0.000000</td>\n",
       "      <td>0.0</td>\n",
       "    </tr>\n",
       "    <tr>\n",
       "      <th>4</th>\n",
       "      <td>0.0</td>\n",
       "      <td>0.0</td>\n",
       "      <td>1.000000</td>\n",
       "      <td>0.000000</td>\n",
       "      <td>0.000000</td>\n",
       "      <td>0.0</td>\n",
       "    </tr>\n",
       "    <tr>\n",
       "      <th>5</th>\n",
       "      <td>0.0</td>\n",
       "      <td>0.0</td>\n",
       "      <td>1.000000</td>\n",
       "      <td>0.000000</td>\n",
       "      <td>0.000000</td>\n",
       "      <td>0.0</td>\n",
       "    </tr>\n",
       "    <tr>\n",
       "      <th>6</th>\n",
       "      <td>0.0</td>\n",
       "      <td>0.0</td>\n",
       "      <td>0.804734</td>\n",
       "      <td>0.195266</td>\n",
       "      <td>0.000000</td>\n",
       "      <td>0.0</td>\n",
       "    </tr>\n",
       "    <tr>\n",
       "      <th>7</th>\n",
       "      <td>0.0</td>\n",
       "      <td>0.0</td>\n",
       "      <td>0.729167</td>\n",
       "      <td>0.000000</td>\n",
       "      <td>0.270833</td>\n",
       "      <td>0.0</td>\n",
       "    </tr>\n",
       "    <tr>\n",
       "      <th>8</th>\n",
       "      <td>0.0</td>\n",
       "      <td>0.0</td>\n",
       "      <td>1.000000</td>\n",
       "      <td>0.000000</td>\n",
       "      <td>0.000000</td>\n",
       "      <td>0.0</td>\n",
       "    </tr>\n",
       "  </tbody>\n",
       "</table>\n",
       "</div>"
      ],
      "text/plain": [
       "     3    4         5         6         7    8\n",
       "3  0.0  0.0  1.000000  0.000000  0.000000  0.0\n",
       "4  0.0  0.0  1.000000  0.000000  0.000000  0.0\n",
       "5  0.0  0.0  1.000000  0.000000  0.000000  0.0\n",
       "6  0.0  0.0  0.804734  0.195266  0.000000  0.0\n",
       "7  0.0  0.0  0.729167  0.000000  0.270833  0.0\n",
       "8  0.0  0.0  1.000000  0.000000  0.000000  0.0"
      ]
     },
     "execution_count": 27,
     "metadata": {},
     "output_type": "execute_result"
    }
   ],
   "source": [
    "acu = metrics.accuracy_score(y_test_red, y_pred_red)\n",
    "pre_class, r_class, f_class, sup = metrics.precision_recall_fscore_support(y_test_red, y_pred_red, average = 'weighted')\n",
    "\n",
    "print(\"Acurracy: \", round(acu * 100, 4), '%')\n",
    "print('Precision:', round(pre_class * 100, 4), '%')\n",
    "print('Recall:', round(r_class * 100, 4), '%')\n",
    "print('f1:', round(f_class * 100, 4), '%')\n",
    "\n",
    "labels = list(range(3, 9))\n",
    "\n",
    "cm = metrics.confusion_matrix(y_test_red, y_pred_red, labels = labels)\n",
    "cm_norm = cm.astype('float') / cm.sum(axis=1)[:, np.newaxis] # normalize confusion matrix\n",
    "cm_norm = pd.DataFrame(cm_norm, index = labels, columns = labels)\n",
    "cm_norm"
   ]
  },
  {
   "cell_type": "code",
   "execution_count": 28,
   "metadata": {},
   "outputs": [
    {
     "data": {
      "application/vnd.plotly.v1+json": {
       "config": {
        "plotlyServerURL": "https://plotly.com"
       },
       "data": [
        {
         "colorscale": [
          [
           0,
           "blue"
          ],
          [
           1,
           "red"
          ]
         ],
         "text": [
          [
           0,
           0,
           1,
           0,
           0,
           0
          ],
          [
           0,
           0,
           1,
           0,
           0,
           0
          ],
          [
           0,
           0,
           1,
           0,
           0,
           0
          ],
          [
           0,
           0,
           0.8,
           0.2,
           0,
           0
          ],
          [
           0,
           0,
           0.73,
           0,
           0.27,
           0
          ],
          [
           0,
           0,
           1,
           0,
           0,
           0
          ]
         ],
         "type": "heatmap",
         "x": [
          3,
          4,
          5,
          6,
          7,
          8
         ],
         "y": [
          3,
          4,
          5,
          6,
          7,
          8
         ],
         "z": [
          [
           0,
           0,
           1,
           0,
           0,
           0
          ],
          [
           0,
           0,
           1,
           0,
           0,
           0
          ],
          [
           0,
           0,
           1,
           0,
           0,
           0
          ],
          [
           0,
           0,
           0.8047337278106509,
           0.1952662721893491,
           0,
           0
          ],
          [
           0,
           0,
           0.7291666666666666,
           0,
           0.2708333333333333,
           0
          ],
          [
           0,
           0,
           1,
           0,
           0,
           0
          ]
         ],
         "zmax": 1,
         "zmin": 0
        }
       ],
       "layout": {
        "height": 600,
        "template": {
         "data": {
          "bar": [
           {
            "error_x": {
             "color": "#2a3f5f"
            },
            "error_y": {
             "color": "#2a3f5f"
            },
            "marker": {
             "line": {
              "color": "#E5ECF6",
              "width": 0.5
             },
             "pattern": {
              "fillmode": "overlay",
              "size": 10,
              "solidity": 0.2
             }
            },
            "type": "bar"
           }
          ],
          "barpolar": [
           {
            "marker": {
             "line": {
              "color": "#E5ECF6",
              "width": 0.5
             },
             "pattern": {
              "fillmode": "overlay",
              "size": 10,
              "solidity": 0.2
             }
            },
            "type": "barpolar"
           }
          ],
          "carpet": [
           {
            "aaxis": {
             "endlinecolor": "#2a3f5f",
             "gridcolor": "white",
             "linecolor": "white",
             "minorgridcolor": "white",
             "startlinecolor": "#2a3f5f"
            },
            "baxis": {
             "endlinecolor": "#2a3f5f",
             "gridcolor": "white",
             "linecolor": "white",
             "minorgridcolor": "white",
             "startlinecolor": "#2a3f5f"
            },
            "type": "carpet"
           }
          ],
          "choropleth": [
           {
            "colorbar": {
             "outlinewidth": 0,
             "ticks": ""
            },
            "type": "choropleth"
           }
          ],
          "contour": [
           {
            "colorbar": {
             "outlinewidth": 0,
             "ticks": ""
            },
            "colorscale": [
             [
              0,
              "#0d0887"
             ],
             [
              0.1111111111111111,
              "#46039f"
             ],
             [
              0.2222222222222222,
              "#7201a8"
             ],
             [
              0.3333333333333333,
              "#9c179e"
             ],
             [
              0.4444444444444444,
              "#bd3786"
             ],
             [
              0.5555555555555556,
              "#d8576b"
             ],
             [
              0.6666666666666666,
              "#ed7953"
             ],
             [
              0.7777777777777778,
              "#fb9f3a"
             ],
             [
              0.8888888888888888,
              "#fdca26"
             ],
             [
              1,
              "#f0f921"
             ]
            ],
            "type": "contour"
           }
          ],
          "contourcarpet": [
           {
            "colorbar": {
             "outlinewidth": 0,
             "ticks": ""
            },
            "type": "contourcarpet"
           }
          ],
          "heatmap": [
           {
            "colorbar": {
             "outlinewidth": 0,
             "ticks": ""
            },
            "colorscale": [
             [
              0,
              "#0d0887"
             ],
             [
              0.1111111111111111,
              "#46039f"
             ],
             [
              0.2222222222222222,
              "#7201a8"
             ],
             [
              0.3333333333333333,
              "#9c179e"
             ],
             [
              0.4444444444444444,
              "#bd3786"
             ],
             [
              0.5555555555555556,
              "#d8576b"
             ],
             [
              0.6666666666666666,
              "#ed7953"
             ],
             [
              0.7777777777777778,
              "#fb9f3a"
             ],
             [
              0.8888888888888888,
              "#fdca26"
             ],
             [
              1,
              "#f0f921"
             ]
            ],
            "type": "heatmap"
           }
          ],
          "heatmapgl": [
           {
            "colorbar": {
             "outlinewidth": 0,
             "ticks": ""
            },
            "colorscale": [
             [
              0,
              "#0d0887"
             ],
             [
              0.1111111111111111,
              "#46039f"
             ],
             [
              0.2222222222222222,
              "#7201a8"
             ],
             [
              0.3333333333333333,
              "#9c179e"
             ],
             [
              0.4444444444444444,
              "#bd3786"
             ],
             [
              0.5555555555555556,
              "#d8576b"
             ],
             [
              0.6666666666666666,
              "#ed7953"
             ],
             [
              0.7777777777777778,
              "#fb9f3a"
             ],
             [
              0.8888888888888888,
              "#fdca26"
             ],
             [
              1,
              "#f0f921"
             ]
            ],
            "type": "heatmapgl"
           }
          ],
          "histogram": [
           {
            "marker": {
             "pattern": {
              "fillmode": "overlay",
              "size": 10,
              "solidity": 0.2
             }
            },
            "type": "histogram"
           }
          ],
          "histogram2d": [
           {
            "colorbar": {
             "outlinewidth": 0,
             "ticks": ""
            },
            "colorscale": [
             [
              0,
              "#0d0887"
             ],
             [
              0.1111111111111111,
              "#46039f"
             ],
             [
              0.2222222222222222,
              "#7201a8"
             ],
             [
              0.3333333333333333,
              "#9c179e"
             ],
             [
              0.4444444444444444,
              "#bd3786"
             ],
             [
              0.5555555555555556,
              "#d8576b"
             ],
             [
              0.6666666666666666,
              "#ed7953"
             ],
             [
              0.7777777777777778,
              "#fb9f3a"
             ],
             [
              0.8888888888888888,
              "#fdca26"
             ],
             [
              1,
              "#f0f921"
             ]
            ],
            "type": "histogram2d"
           }
          ],
          "histogram2dcontour": [
           {
            "colorbar": {
             "outlinewidth": 0,
             "ticks": ""
            },
            "colorscale": [
             [
              0,
              "#0d0887"
             ],
             [
              0.1111111111111111,
              "#46039f"
             ],
             [
              0.2222222222222222,
              "#7201a8"
             ],
             [
              0.3333333333333333,
              "#9c179e"
             ],
             [
              0.4444444444444444,
              "#bd3786"
             ],
             [
              0.5555555555555556,
              "#d8576b"
             ],
             [
              0.6666666666666666,
              "#ed7953"
             ],
             [
              0.7777777777777778,
              "#fb9f3a"
             ],
             [
              0.8888888888888888,
              "#fdca26"
             ],
             [
              1,
              "#f0f921"
             ]
            ],
            "type": "histogram2dcontour"
           }
          ],
          "mesh3d": [
           {
            "colorbar": {
             "outlinewidth": 0,
             "ticks": ""
            },
            "type": "mesh3d"
           }
          ],
          "parcoords": [
           {
            "line": {
             "colorbar": {
              "outlinewidth": 0,
              "ticks": ""
             }
            },
            "type": "parcoords"
           }
          ],
          "pie": [
           {
            "automargin": true,
            "type": "pie"
           }
          ],
          "scatter": [
           {
            "fillpattern": {
             "fillmode": "overlay",
             "size": 10,
             "solidity": 0.2
            },
            "type": "scatter"
           }
          ],
          "scatter3d": [
           {
            "line": {
             "colorbar": {
              "outlinewidth": 0,
              "ticks": ""
             }
            },
            "marker": {
             "colorbar": {
              "outlinewidth": 0,
              "ticks": ""
             }
            },
            "type": "scatter3d"
           }
          ],
          "scattercarpet": [
           {
            "marker": {
             "colorbar": {
              "outlinewidth": 0,
              "ticks": ""
             }
            },
            "type": "scattercarpet"
           }
          ],
          "scattergeo": [
           {
            "marker": {
             "colorbar": {
              "outlinewidth": 0,
              "ticks": ""
             }
            },
            "type": "scattergeo"
           }
          ],
          "scattergl": [
           {
            "marker": {
             "colorbar": {
              "outlinewidth": 0,
              "ticks": ""
             }
            },
            "type": "scattergl"
           }
          ],
          "scattermapbox": [
           {
            "marker": {
             "colorbar": {
              "outlinewidth": 0,
              "ticks": ""
             }
            },
            "type": "scattermapbox"
           }
          ],
          "scatterpolar": [
           {
            "marker": {
             "colorbar": {
              "outlinewidth": 0,
              "ticks": ""
             }
            },
            "type": "scatterpolar"
           }
          ],
          "scatterpolargl": [
           {
            "marker": {
             "colorbar": {
              "outlinewidth": 0,
              "ticks": ""
             }
            },
            "type": "scatterpolargl"
           }
          ],
          "scatterternary": [
           {
            "marker": {
             "colorbar": {
              "outlinewidth": 0,
              "ticks": ""
             }
            },
            "type": "scatterternary"
           }
          ],
          "surface": [
           {
            "colorbar": {
             "outlinewidth": 0,
             "ticks": ""
            },
            "colorscale": [
             [
              0,
              "#0d0887"
             ],
             [
              0.1111111111111111,
              "#46039f"
             ],
             [
              0.2222222222222222,
              "#7201a8"
             ],
             [
              0.3333333333333333,
              "#9c179e"
             ],
             [
              0.4444444444444444,
              "#bd3786"
             ],
             [
              0.5555555555555556,
              "#d8576b"
             ],
             [
              0.6666666666666666,
              "#ed7953"
             ],
             [
              0.7777777777777778,
              "#fb9f3a"
             ],
             [
              0.8888888888888888,
              "#fdca26"
             ],
             [
              1,
              "#f0f921"
             ]
            ],
            "type": "surface"
           }
          ],
          "table": [
           {
            "cells": {
             "fill": {
              "color": "#EBF0F8"
             },
             "line": {
              "color": "white"
             }
            },
            "header": {
             "fill": {
              "color": "#C8D4E3"
             },
             "line": {
              "color": "white"
             }
            },
            "type": "table"
           }
          ]
         },
         "layout": {
          "annotationdefaults": {
           "arrowcolor": "#2a3f5f",
           "arrowhead": 0,
           "arrowwidth": 1
          },
          "autotypenumbers": "strict",
          "coloraxis": {
           "colorbar": {
            "outlinewidth": 0,
            "ticks": ""
           }
          },
          "colorscale": {
           "diverging": [
            [
             0,
             "#8e0152"
            ],
            [
             0.1,
             "#c51b7d"
            ],
            [
             0.2,
             "#de77ae"
            ],
            [
             0.3,
             "#f1b6da"
            ],
            [
             0.4,
             "#fde0ef"
            ],
            [
             0.5,
             "#f7f7f7"
            ],
            [
             0.6,
             "#e6f5d0"
            ],
            [
             0.7,
             "#b8e186"
            ],
            [
             0.8,
             "#7fbc41"
            ],
            [
             0.9,
             "#4d9221"
            ],
            [
             1,
             "#276419"
            ]
           ],
           "sequential": [
            [
             0,
             "#0d0887"
            ],
            [
             0.1111111111111111,
             "#46039f"
            ],
            [
             0.2222222222222222,
             "#7201a8"
            ],
            [
             0.3333333333333333,
             "#9c179e"
            ],
            [
             0.4444444444444444,
             "#bd3786"
            ],
            [
             0.5555555555555556,
             "#d8576b"
            ],
            [
             0.6666666666666666,
             "#ed7953"
            ],
            [
             0.7777777777777778,
             "#fb9f3a"
            ],
            [
             0.8888888888888888,
             "#fdca26"
            ],
            [
             1,
             "#f0f921"
            ]
           ],
           "sequentialminus": [
            [
             0,
             "#0d0887"
            ],
            [
             0.1111111111111111,
             "#46039f"
            ],
            [
             0.2222222222222222,
             "#7201a8"
            ],
            [
             0.3333333333333333,
             "#9c179e"
            ],
            [
             0.4444444444444444,
             "#bd3786"
            ],
            [
             0.5555555555555556,
             "#d8576b"
            ],
            [
             0.6666666666666666,
             "#ed7953"
            ],
            [
             0.7777777777777778,
             "#fb9f3a"
            ],
            [
             0.8888888888888888,
             "#fdca26"
            ],
            [
             1,
             "#f0f921"
            ]
           ]
          },
          "colorway": [
           "#636efa",
           "#EF553B",
           "#00cc96",
           "#ab63fa",
           "#FFA15A",
           "#19d3f3",
           "#FF6692",
           "#B6E880",
           "#FF97FF",
           "#FECB52"
          ],
          "font": {
           "color": "#2a3f5f"
          },
          "geo": {
           "bgcolor": "white",
           "lakecolor": "white",
           "landcolor": "#E5ECF6",
           "showlakes": true,
           "showland": true,
           "subunitcolor": "white"
          },
          "hoverlabel": {
           "align": "left"
          },
          "hovermode": "closest",
          "mapbox": {
           "style": "light"
          },
          "paper_bgcolor": "white",
          "plot_bgcolor": "#E5ECF6",
          "polar": {
           "angularaxis": {
            "gridcolor": "white",
            "linecolor": "white",
            "ticks": ""
           },
           "bgcolor": "#E5ECF6",
           "radialaxis": {
            "gridcolor": "white",
            "linecolor": "white",
            "ticks": ""
           }
          },
          "scene": {
           "xaxis": {
            "backgroundcolor": "#E5ECF6",
            "gridcolor": "white",
            "gridwidth": 2,
            "linecolor": "white",
            "showbackground": true,
            "ticks": "",
            "zerolinecolor": "white"
           },
           "yaxis": {
            "backgroundcolor": "#E5ECF6",
            "gridcolor": "white",
            "gridwidth": 2,
            "linecolor": "white",
            "showbackground": true,
            "ticks": "",
            "zerolinecolor": "white"
           },
           "zaxis": {
            "backgroundcolor": "#E5ECF6",
            "gridcolor": "white",
            "gridwidth": 2,
            "linecolor": "white",
            "showbackground": true,
            "ticks": "",
            "zerolinecolor": "white"
           }
          },
          "shapedefaults": {
           "line": {
            "color": "#2a3f5f"
           }
          },
          "ternary": {
           "aaxis": {
            "gridcolor": "white",
            "linecolor": "white",
            "ticks": ""
           },
           "baxis": {
            "gridcolor": "white",
            "linecolor": "white",
            "ticks": ""
           },
           "bgcolor": "#E5ECF6",
           "caxis": {
            "gridcolor": "white",
            "linecolor": "white",
            "ticks": ""
           }
          },
          "title": {
           "x": 0.05
          },
          "xaxis": {
           "automargin": true,
           "gridcolor": "white",
           "linecolor": "white",
           "ticks": "",
           "title": {
            "standoff": 15
           },
           "zerolinecolor": "white",
           "zerolinewidth": 2
          },
          "yaxis": {
           "automargin": true,
           "gridcolor": "white",
           "linecolor": "white",
           "ticks": "",
           "title": {
            "standoff": 15
           },
           "zerolinecolor": "white",
           "zerolinewidth": 2
          }
         }
        },
        "title": {
         "font": {
          "family": "Gulliver",
          "size": 40
         },
         "text": "Confusion matrix before SMOTE",
         "x": 0.5
        },
        "width": 600,
        "xaxis": {
         "tickfont": {
          "size": 16
         },
         "title": {
          "font": {
           "family": "Gulliver",
           "size": 20
          },
          "text": "Predicted"
         }
        },
        "yaxis": {
         "tickfont": {
          "size": 16
         },
         "title": {
          "font": {
           "family": "Gulliver",
           "size": 20
          },
          "text": "Actual"
         }
        }
       }
      }
     },
     "metadata": {},
     "output_type": "display_data"
    }
   ],
   "source": [
    "labels = list(range(3, 9))\n",
    "\n",
    "fig = go.Figure(\n",
    "    data = go.Heatmap(\n",
    "        z = cm_norm,\n",
    "        x = labels,\n",
    "        y = labels,\n",
    "        zmin = 0,\n",
    "        zmax = 1,\n",
    "        colorscale = [\n",
    "            [0, 'blue'],\n",
    "            [1, 'red']\n",
    "        ],\n",
    "        text = cm_norm.values.round(2)\n",
    "    ),\n",
    "    layout = go.Layout(\n",
    "        title = {\n",
    "            'text': 'Confusion matrix before SMOTE',\n",
    "            'font': {'size': 40, 'family': \"Gulliver\"},\n",
    "            'x': 0.5\n",
    "        },\n",
    "        yaxis_title = {\n",
    "            'font': {'size': 20, 'family': 'Gulliver'},\n",
    "            'text': 'Actual'\n",
    "        },\n",
    "        xaxis_title = {\n",
    "            'font': {'size': 20, 'family': 'Gulliver'},\n",
    "            'text': 'Predicted'\n",
    "        },\n",
    "        width = 600,\n",
    "        height = 600\n",
    "    )\n",
    ")\n",
    "\n",
    "fig.update_xaxes(tickfont=dict(size = 16))\n",
    "fig.update_yaxes(tickfont=dict(size = 16))\n",
    "\n",
    "fig.show()"
   ]
  },
  {
   "cell_type": "code",
   "execution_count": 29,
   "metadata": {},
   "outputs": [
    {
     "data": {
      "application/vnd.plotly.v1+json": {
       "config": {
        "plotlyServerURL": "https://plotly.com"
       },
       "data": [
        {
         "line": {
          "width": 2
         },
         "mode": "lines",
         "name": "ROC curve of class 3 (AUC = 0.63)",
         "type": "scatter",
         "x": [
          0,
          0.002506265664160401,
          0.010025062656641603,
          0.7368421052631579,
          0.8195488721804511,
          0.8270676691729323,
          0.8320802005012531,
          0.9022556390977443,
          0.9072681704260651,
          0.9849624060150376,
          0.9899749373433584,
          1
         ],
         "y": [
          0,
          0,
          0,
          1,
          1,
          1,
          1,
          1,
          1,
          1,
          1,
          1
         ]
        },
        {
         "line": {
          "width": 2
         },
         "mode": "lines",
         "name": "ROC curve of class 4 (AUC = 0.63)",
         "type": "scatter",
         "x": [
          0,
          0.002583979328165375,
          0.007751937984496124,
          0.7260981912144703,
          0.8010335917312662,
          0.8087855297157622,
          0.8217054263565892,
          0.8268733850129198,
          0.8940568475452196,
          0.8992248062015504,
          0.937984496124031,
          0.9431524547803618,
          1
         ],
         "y": [
          0,
          0,
          0,
          1,
          1,
          1,
          1,
          1,
          1,
          1,
          1,
          1,
          1
         ]
        },
        {
         "line": {
          "width": 2
         },
         "mode": "lines",
         "name": "ROC curve of class 5 (AUC = 0.71)",
         "type": "scatter",
         "x": [
          0,
          0,
          0,
          0,
          0,
          0.00423728813559322,
          0.00423728813559322,
          0.00847457627118644,
          0.00847457627118644,
          0.012711864406779662,
          0.012711864406779662,
          0.7542372881355932,
          0.7542372881355932,
          0.7923728813559322,
          0.7923728813559322,
          0.7966101694915254,
          0.7966101694915254,
          0.8008474576271186,
          0.8008474576271186,
          0.864406779661017,
          0.8728813559322034,
          0.9533898305084746,
          0.9661016949152542,
          0.9872881355932204,
          0.9957627118644068,
          1
         ],
         "y": [
          0,
          0.006097560975609756,
          0.03048780487804878,
          0.042682926829268296,
          0.23170731707317074,
          0.23170731707317074,
          0.25,
          0.25,
          0.2621951219512195,
          0.2621951219512195,
          0.2682926829268293,
          0.975609756097561,
          0.9817073170731707,
          0.9817073170731707,
          0.9878048780487805,
          0.9878048780487805,
          0.9939024390243902,
          0.9939024390243902,
          1,
          1,
          1,
          1,
          1,
          1,
          1,
          1
         ]
        },
        {
         "line": {
          "width": 2
         },
         "mode": "lines",
         "name": "ROC curve of class 6 (AUC = 0.71)",
         "type": "scatter",
         "x": [
          0,
          0,
          0,
          0,
          0,
          0.004329004329004329,
          0.004329004329004329,
          0.008658008658008658,
          0.008658008658008658,
          0.012987012987012988,
          0.012987012987012988,
          0.017316017316017316,
          0.7402597402597403,
          0.7445887445887446,
          0.7445887445887446,
          0.7532467532467533,
          0.7532467532467533,
          0.7748917748917749,
          0.7748917748917749,
          0.9047619047619048,
          0.9134199134199135,
          0.9523809523809523,
          0.9653679653679653,
          0.987012987012987,
          0.9956709956709957,
          1
         ],
         "y": [
          0,
          0.005917159763313609,
          0.09467455621301775,
          0.10650887573964497,
          0.20118343195266272,
          0.20118343195266272,
          0.20710059171597633,
          0.20710059171597633,
          0.21301775147928995,
          0.21301775147928995,
          0.2485207100591716,
          0.2485207100591716,
          0.9822485207100592,
          0.9822485207100592,
          0.9881656804733728,
          0.9881656804733728,
          0.9940828402366864,
          0.9940828402366864,
          1,
          1,
          1,
          1,
          1,
          1,
          1,
          1
         ]
        },
        {
         "line": {
          "width": 2
         },
         "mode": "lines",
         "name": "ROC curve of class 7 (AUC = 0.75)",
         "type": "scatter",
         "x": [
          0,
          0,
          0,
          0,
          0,
          0.002840909090909091,
          0.002840909090909091,
          0.7357954545454546,
          0.8863636363636364,
          0.8920454545454546,
          0.9431818181818182,
          0.9488636363636364,
          1
         ],
         "y": [
          0,
          0.041666666666666664,
          0.10416666666666667,
          0.16666666666666666,
          0.2916666666666667,
          0.2916666666666667,
          0.3125,
          1,
          1,
          1,
          1,
          1,
          1
         ]
        },
        {
         "line": {
          "width": 2
         },
         "mode": "lines",
         "name": "ROC curve of class 8 (AUC = 0.67)",
         "type": "scatter",
         "x": [
          0,
          0.002531645569620253,
          0.015189873417721518,
          0.02278481012658228,
          0.027848101265822784,
          0.035443037974683546,
          0.035443037974683546,
          0.0379746835443038,
          0.7670886075949367,
          0.8936708860759494,
          0.8987341772151899,
          0.9493670886075949,
          0.9544303797468354,
          1
         ],
         "y": [
          0,
          0,
          0,
          0,
          0,
          0,
          0.2,
          0.2,
          1,
          1,
          1,
          1,
          1,
          1
         ]
        },
        {
         "line": {
          "color": "navy",
          "dash": "dash",
          "width": 2
         },
         "mode": "lines",
         "showlegend": false,
         "type": "scatter",
         "x": [
          0,
          1
         ],
         "y": [
          0,
          1
         ]
        }
       ],
       "layout": {
        "height": 800,
        "legend": {
         "x": 0.7,
         "y": 0.1
        },
        "template": {
         "data": {
          "bar": [
           {
            "error_x": {
             "color": "#2a3f5f"
            },
            "error_y": {
             "color": "#2a3f5f"
            },
            "marker": {
             "line": {
              "color": "#E5ECF6",
              "width": 0.5
             },
             "pattern": {
              "fillmode": "overlay",
              "size": 10,
              "solidity": 0.2
             }
            },
            "type": "bar"
           }
          ],
          "barpolar": [
           {
            "marker": {
             "line": {
              "color": "#E5ECF6",
              "width": 0.5
             },
             "pattern": {
              "fillmode": "overlay",
              "size": 10,
              "solidity": 0.2
             }
            },
            "type": "barpolar"
           }
          ],
          "carpet": [
           {
            "aaxis": {
             "endlinecolor": "#2a3f5f",
             "gridcolor": "white",
             "linecolor": "white",
             "minorgridcolor": "white",
             "startlinecolor": "#2a3f5f"
            },
            "baxis": {
             "endlinecolor": "#2a3f5f",
             "gridcolor": "white",
             "linecolor": "white",
             "minorgridcolor": "white",
             "startlinecolor": "#2a3f5f"
            },
            "type": "carpet"
           }
          ],
          "choropleth": [
           {
            "colorbar": {
             "outlinewidth": 0,
             "ticks": ""
            },
            "type": "choropleth"
           }
          ],
          "contour": [
           {
            "colorbar": {
             "outlinewidth": 0,
             "ticks": ""
            },
            "colorscale": [
             [
              0,
              "#0d0887"
             ],
             [
              0.1111111111111111,
              "#46039f"
             ],
             [
              0.2222222222222222,
              "#7201a8"
             ],
             [
              0.3333333333333333,
              "#9c179e"
             ],
             [
              0.4444444444444444,
              "#bd3786"
             ],
             [
              0.5555555555555556,
              "#d8576b"
             ],
             [
              0.6666666666666666,
              "#ed7953"
             ],
             [
              0.7777777777777778,
              "#fb9f3a"
             ],
             [
              0.8888888888888888,
              "#fdca26"
             ],
             [
              1,
              "#f0f921"
             ]
            ],
            "type": "contour"
           }
          ],
          "contourcarpet": [
           {
            "colorbar": {
             "outlinewidth": 0,
             "ticks": ""
            },
            "type": "contourcarpet"
           }
          ],
          "heatmap": [
           {
            "colorbar": {
             "outlinewidth": 0,
             "ticks": ""
            },
            "colorscale": [
             [
              0,
              "#0d0887"
             ],
             [
              0.1111111111111111,
              "#46039f"
             ],
             [
              0.2222222222222222,
              "#7201a8"
             ],
             [
              0.3333333333333333,
              "#9c179e"
             ],
             [
              0.4444444444444444,
              "#bd3786"
             ],
             [
              0.5555555555555556,
              "#d8576b"
             ],
             [
              0.6666666666666666,
              "#ed7953"
             ],
             [
              0.7777777777777778,
              "#fb9f3a"
             ],
             [
              0.8888888888888888,
              "#fdca26"
             ],
             [
              1,
              "#f0f921"
             ]
            ],
            "type": "heatmap"
           }
          ],
          "heatmapgl": [
           {
            "colorbar": {
             "outlinewidth": 0,
             "ticks": ""
            },
            "colorscale": [
             [
              0,
              "#0d0887"
             ],
             [
              0.1111111111111111,
              "#46039f"
             ],
             [
              0.2222222222222222,
              "#7201a8"
             ],
             [
              0.3333333333333333,
              "#9c179e"
             ],
             [
              0.4444444444444444,
              "#bd3786"
             ],
             [
              0.5555555555555556,
              "#d8576b"
             ],
             [
              0.6666666666666666,
              "#ed7953"
             ],
             [
              0.7777777777777778,
              "#fb9f3a"
             ],
             [
              0.8888888888888888,
              "#fdca26"
             ],
             [
              1,
              "#f0f921"
             ]
            ],
            "type": "heatmapgl"
           }
          ],
          "histogram": [
           {
            "marker": {
             "pattern": {
              "fillmode": "overlay",
              "size": 10,
              "solidity": 0.2
             }
            },
            "type": "histogram"
           }
          ],
          "histogram2d": [
           {
            "colorbar": {
             "outlinewidth": 0,
             "ticks": ""
            },
            "colorscale": [
             [
              0,
              "#0d0887"
             ],
             [
              0.1111111111111111,
              "#46039f"
             ],
             [
              0.2222222222222222,
              "#7201a8"
             ],
             [
              0.3333333333333333,
              "#9c179e"
             ],
             [
              0.4444444444444444,
              "#bd3786"
             ],
             [
              0.5555555555555556,
              "#d8576b"
             ],
             [
              0.6666666666666666,
              "#ed7953"
             ],
             [
              0.7777777777777778,
              "#fb9f3a"
             ],
             [
              0.8888888888888888,
              "#fdca26"
             ],
             [
              1,
              "#f0f921"
             ]
            ],
            "type": "histogram2d"
           }
          ],
          "histogram2dcontour": [
           {
            "colorbar": {
             "outlinewidth": 0,
             "ticks": ""
            },
            "colorscale": [
             [
              0,
              "#0d0887"
             ],
             [
              0.1111111111111111,
              "#46039f"
             ],
             [
              0.2222222222222222,
              "#7201a8"
             ],
             [
              0.3333333333333333,
              "#9c179e"
             ],
             [
              0.4444444444444444,
              "#bd3786"
             ],
             [
              0.5555555555555556,
              "#d8576b"
             ],
             [
              0.6666666666666666,
              "#ed7953"
             ],
             [
              0.7777777777777778,
              "#fb9f3a"
             ],
             [
              0.8888888888888888,
              "#fdca26"
             ],
             [
              1,
              "#f0f921"
             ]
            ],
            "type": "histogram2dcontour"
           }
          ],
          "mesh3d": [
           {
            "colorbar": {
             "outlinewidth": 0,
             "ticks": ""
            },
            "type": "mesh3d"
           }
          ],
          "parcoords": [
           {
            "line": {
             "colorbar": {
              "outlinewidth": 0,
              "ticks": ""
             }
            },
            "type": "parcoords"
           }
          ],
          "pie": [
           {
            "automargin": true,
            "type": "pie"
           }
          ],
          "scatter": [
           {
            "fillpattern": {
             "fillmode": "overlay",
             "size": 10,
             "solidity": 0.2
            },
            "type": "scatter"
           }
          ],
          "scatter3d": [
           {
            "line": {
             "colorbar": {
              "outlinewidth": 0,
              "ticks": ""
             }
            },
            "marker": {
             "colorbar": {
              "outlinewidth": 0,
              "ticks": ""
             }
            },
            "type": "scatter3d"
           }
          ],
          "scattercarpet": [
           {
            "marker": {
             "colorbar": {
              "outlinewidth": 0,
              "ticks": ""
             }
            },
            "type": "scattercarpet"
           }
          ],
          "scattergeo": [
           {
            "marker": {
             "colorbar": {
              "outlinewidth": 0,
              "ticks": ""
             }
            },
            "type": "scattergeo"
           }
          ],
          "scattergl": [
           {
            "marker": {
             "colorbar": {
              "outlinewidth": 0,
              "ticks": ""
             }
            },
            "type": "scattergl"
           }
          ],
          "scattermapbox": [
           {
            "marker": {
             "colorbar": {
              "outlinewidth": 0,
              "ticks": ""
             }
            },
            "type": "scattermapbox"
           }
          ],
          "scatterpolar": [
           {
            "marker": {
             "colorbar": {
              "outlinewidth": 0,
              "ticks": ""
             }
            },
            "type": "scatterpolar"
           }
          ],
          "scatterpolargl": [
           {
            "marker": {
             "colorbar": {
              "outlinewidth": 0,
              "ticks": ""
             }
            },
            "type": "scatterpolargl"
           }
          ],
          "scatterternary": [
           {
            "marker": {
             "colorbar": {
              "outlinewidth": 0,
              "ticks": ""
             }
            },
            "type": "scatterternary"
           }
          ],
          "surface": [
           {
            "colorbar": {
             "outlinewidth": 0,
             "ticks": ""
            },
            "colorscale": [
             [
              0,
              "#0d0887"
             ],
             [
              0.1111111111111111,
              "#46039f"
             ],
             [
              0.2222222222222222,
              "#7201a8"
             ],
             [
              0.3333333333333333,
              "#9c179e"
             ],
             [
              0.4444444444444444,
              "#bd3786"
             ],
             [
              0.5555555555555556,
              "#d8576b"
             ],
             [
              0.6666666666666666,
              "#ed7953"
             ],
             [
              0.7777777777777778,
              "#fb9f3a"
             ],
             [
              0.8888888888888888,
              "#fdca26"
             ],
             [
              1,
              "#f0f921"
             ]
            ],
            "type": "surface"
           }
          ],
          "table": [
           {
            "cells": {
             "fill": {
              "color": "#EBF0F8"
             },
             "line": {
              "color": "white"
             }
            },
            "header": {
             "fill": {
              "color": "#C8D4E3"
             },
             "line": {
              "color": "white"
             }
            },
            "type": "table"
           }
          ]
         },
         "layout": {
          "annotationdefaults": {
           "arrowcolor": "#2a3f5f",
           "arrowhead": 0,
           "arrowwidth": 1
          },
          "autotypenumbers": "strict",
          "coloraxis": {
           "colorbar": {
            "outlinewidth": 0,
            "ticks": ""
           }
          },
          "colorscale": {
           "diverging": [
            [
             0,
             "#8e0152"
            ],
            [
             0.1,
             "#c51b7d"
            ],
            [
             0.2,
             "#de77ae"
            ],
            [
             0.3,
             "#f1b6da"
            ],
            [
             0.4,
             "#fde0ef"
            ],
            [
             0.5,
             "#f7f7f7"
            ],
            [
             0.6,
             "#e6f5d0"
            ],
            [
             0.7,
             "#b8e186"
            ],
            [
             0.8,
             "#7fbc41"
            ],
            [
             0.9,
             "#4d9221"
            ],
            [
             1,
             "#276419"
            ]
           ],
           "sequential": [
            [
             0,
             "#0d0887"
            ],
            [
             0.1111111111111111,
             "#46039f"
            ],
            [
             0.2222222222222222,
             "#7201a8"
            ],
            [
             0.3333333333333333,
             "#9c179e"
            ],
            [
             0.4444444444444444,
             "#bd3786"
            ],
            [
             0.5555555555555556,
             "#d8576b"
            ],
            [
             0.6666666666666666,
             "#ed7953"
            ],
            [
             0.7777777777777778,
             "#fb9f3a"
            ],
            [
             0.8888888888888888,
             "#fdca26"
            ],
            [
             1,
             "#f0f921"
            ]
           ],
           "sequentialminus": [
            [
             0,
             "#0d0887"
            ],
            [
             0.1111111111111111,
             "#46039f"
            ],
            [
             0.2222222222222222,
             "#7201a8"
            ],
            [
             0.3333333333333333,
             "#9c179e"
            ],
            [
             0.4444444444444444,
             "#bd3786"
            ],
            [
             0.5555555555555556,
             "#d8576b"
            ],
            [
             0.6666666666666666,
             "#ed7953"
            ],
            [
             0.7777777777777778,
             "#fb9f3a"
            ],
            [
             0.8888888888888888,
             "#fdca26"
            ],
            [
             1,
             "#f0f921"
            ]
           ]
          },
          "colorway": [
           "#636efa",
           "#EF553B",
           "#00cc96",
           "#ab63fa",
           "#FFA15A",
           "#19d3f3",
           "#FF6692",
           "#B6E880",
           "#FF97FF",
           "#FECB52"
          ],
          "font": {
           "color": "#2a3f5f"
          },
          "geo": {
           "bgcolor": "white",
           "lakecolor": "white",
           "landcolor": "#E5ECF6",
           "showlakes": true,
           "showland": true,
           "subunitcolor": "white"
          },
          "hoverlabel": {
           "align": "left"
          },
          "hovermode": "closest",
          "mapbox": {
           "style": "light"
          },
          "paper_bgcolor": "white",
          "plot_bgcolor": "#E5ECF6",
          "polar": {
           "angularaxis": {
            "gridcolor": "white",
            "linecolor": "white",
            "ticks": ""
           },
           "bgcolor": "#E5ECF6",
           "radialaxis": {
            "gridcolor": "white",
            "linecolor": "white",
            "ticks": ""
           }
          },
          "scene": {
           "xaxis": {
            "backgroundcolor": "#E5ECF6",
            "gridcolor": "white",
            "gridwidth": 2,
            "linecolor": "white",
            "showbackground": true,
            "ticks": "",
            "zerolinecolor": "white"
           },
           "yaxis": {
            "backgroundcolor": "#E5ECF6",
            "gridcolor": "white",
            "gridwidth": 2,
            "linecolor": "white",
            "showbackground": true,
            "ticks": "",
            "zerolinecolor": "white"
           },
           "zaxis": {
            "backgroundcolor": "#E5ECF6",
            "gridcolor": "white",
            "gridwidth": 2,
            "linecolor": "white",
            "showbackground": true,
            "ticks": "",
            "zerolinecolor": "white"
           }
          },
          "shapedefaults": {
           "line": {
            "color": "#2a3f5f"
           }
          },
          "ternary": {
           "aaxis": {
            "gridcolor": "white",
            "linecolor": "white",
            "ticks": ""
           },
           "baxis": {
            "gridcolor": "white",
            "linecolor": "white",
            "ticks": ""
           },
           "bgcolor": "#E5ECF6",
           "caxis": {
            "gridcolor": "white",
            "linecolor": "white",
            "ticks": ""
           }
          },
          "title": {
           "x": 0.05
          },
          "xaxis": {
           "automargin": true,
           "gridcolor": "white",
           "linecolor": "white",
           "ticks": "",
           "title": {
            "standoff": 15
           },
           "zerolinecolor": "white",
           "zerolinewidth": 2
          },
          "yaxis": {
           "automargin": true,
           "gridcolor": "white",
           "linecolor": "white",
           "ticks": "",
           "title": {
            "standoff": 15
           },
           "zerolinecolor": "white",
           "zerolinewidth": 2
          }
         }
        },
        "title": {
         "font": {
          "family": "Gulliver",
          "size": 40
         },
         "text": "ROC Curves before SMOTE",
         "x": 0.5
        },
        "width": 1200,
        "xaxis": {
         "title": {
          "font": {
           "family": "Gulliver",
           "size": 24
          },
          "text": "False Positive Rate"
         }
        },
        "yaxis": {
         "title": {
          "font": {
           "family": "Gulliver",
           "size": 24
          },
          "text": "True Positive Rate"
         }
        }
       }
      }
     },
     "metadata": {},
     "output_type": "display_data"
    }
   ],
   "source": [
    "y_pred_proba = model.predict_proba(x_test_red)\n",
    "\n",
    "y_test_bin = label_binarize(y_test_red, classes = model.classes_)\n",
    "\n",
    "fpr = dict()\n",
    "tpr = dict()\n",
    "roc_auc = dict()\n",
    "\n",
    "for i in range(len(model.classes_)):\n",
    "    fpr[i], tpr[i], _ = roc_curve(y_test_bin[:, i], y_pred_proba[:, i])\n",
    "    roc_auc[i] = auc(fpr[i], tpr[i])\n",
    "\n",
    "fpr[\"micro\"], tpr[\"micro\"], _ = roc_curve(y_test_bin.ravel(), y_pred_proba.ravel())\n",
    "roc_auc[\"micro\"] = auc(fpr[\"micro\"], tpr[\"micro\"])\n",
    "\n",
    "fig = go.Figure()\n",
    "class_names = [\"3\", \"4\", \"5\", \"6\", \"7\", \"8\"]\n",
    "\n",
    "for i in range(len(class_names)):\n",
    "    fig.add_trace(\n",
    "        go.Scatter(\n",
    "            x = fpr[i], y = tpr[i],\n",
    "            mode = 'lines',\n",
    "            line = dict(width = 2),\n",
    "            name = 'ROC curve of class {} (AUC = {:.2f})'.format(class_names[i], roc_auc[i])\n",
    "        )\n",
    "    )\n",
    "\n",
    "fig.add_trace(\n",
    "    go.Scatter(\n",
    "        x = [0, 1], y = [0, 1],\n",
    "        mode = 'lines',\n",
    "        line = dict(color = 'navy', width = 2, dash = 'dash'),\n",
    "        showlegend = False\n",
    "    )\n",
    ")\n",
    "\n",
    "fig.update_layout(\n",
    "    title = {\n",
    "        'text': 'ROC Curves before SMOTE',\n",
    "        'x': 0.5,\n",
    "        'font': {\n",
    "            'size': 40, 'family': 'Gulliver'\n",
    "        }\n",
    "    },\n",
    "    xaxis_title = {\n",
    "        'text': 'False Positive Rate',\n",
    "        'font': {\n",
    "            'size': 24, 'family': 'Gulliver'\n",
    "        }\n",
    "    },\n",
    "    yaxis_title = {\n",
    "        'text': 'True Positive Rate',\n",
    "        'font': {\n",
    "            'size': 24, 'family': 'Gulliver'\n",
    "        }\n",
    "    },\n",
    "    width = 1200, height = 800,\n",
    "    legend = dict(x = 0.7, y = 0.1),\n",
    ")\n",
    "\n",
    "fig.show()"
   ]
  },
  {
   "attachments": {},
   "cell_type": "markdown",
   "metadata": {},
   "source": [
    "---"
   ]
  },
  {
   "attachments": {},
   "cell_type": "markdown",
   "metadata": {},
   "source": [
    "## White wine"
   ]
  },
  {
   "cell_type": "code",
   "execution_count": 56,
   "metadata": {},
   "outputs": [
    {
     "name": "stdout",
     "output_type": "stream",
     "text": [
      "[10/10] features ████████████████████ Time elapsed: 5 seconds"
     ]
    },
    {
     "data": {
      "text/plain": [
       "Text(0.5, 1.0, 'Feature importance Before SMOTE')"
      ]
     },
     "execution_count": 56,
     "metadata": {},
     "output_type": "execute_result"
    },
    {
     "data": {
      "image/png": "[encoded data removed]",
      "text/plain": [
       "<Figure size 640x480 with 1 Axes>"
      ]
     },
     "metadata": {},
     "output_type": "display_data"
    }
   ],
   "source": [
    "clf = SVC(probability = True, C = 1, gamma = 100, kernel = 'rbf')\n",
    "model = clf.fit(x_train_white, y_train_white)\n",
    "y_pred_white = model.predict(x_test_white)\n",
    "\n",
    "interpreter = Interpretation(\n",
    "    x_test_white, feature_names = white.drop(['quality', 'density'], axis = 1).columns\n",
    ")\n",
    "\n",
    "pyint_model = InMemoryModel(\n",
    "            clf.predict_proba,\n",
    "            examples = x_train_white\n",
    "        )\n",
    "\n",
    "plots = interpreter.feature_importance.plot_feature_importance(pyint_model, ascending = False, progressbar = True)\n",
    "plt.title('Feature importance Before SMOTE') "
   ]
  },
  {
   "cell_type": "code",
   "execution_count": 58,
   "metadata": {},
   "outputs": [
    {
     "name": "stdout",
     "output_type": "stream",
     "text": [
      "Acurracy:  61.1429 %\n",
      "Precision: 78.7048 %\n",
      "Recall: 61.1429 %\n",
      "f1: 56.2975 %\n"
     ]
    },
    {
     "name": "stderr",
     "output_type": "stream",
     "text": [
      "/opt/anaconda3/lib/python3.9/site-packages/sklearn/metrics/_classification.py:1344: UndefinedMetricWarning:\n",
      "\n",
      "Precision and F-score are ill-defined and being set to 0.0 in labels with no predicted samples. Use `zero_division` parameter to control this behavior.\n",
      "\n"
     ]
    },
    {
     "data": {
      "text/html": [
       "<div>\n",
       "<style scoped>\n",
       "    .dataframe tbody tr th:only-of-type {\n",
       "        vertical-align: middle;\n",
       "    }\n",
       "\n",
       "    .dataframe tbody tr th {\n",
       "        vertical-align: top;\n",
       "    }\n",
       "\n",
       "    .dataframe thead th {\n",
       "        text-align: right;\n",
       "    }\n",
       "</style>\n",
       "<table border=\"1\" class=\"dataframe\">\n",
       "  <thead>\n",
       "    <tr style=\"text-align: right;\">\n",
       "      <th></th>\n",
       "      <th>3</th>\n",
       "      <th>4</th>\n",
       "      <th>5</th>\n",
       "      <th>6</th>\n",
       "      <th>7</th>\n",
       "      <th>8</th>\n",
       "    </tr>\n",
       "  </thead>\n",
       "  <tbody>\n",
       "    <tr>\n",
       "      <th>3</th>\n",
       "      <td>0.0</td>\n",
       "      <td>0.00000</td>\n",
       "      <td>0.000000</td>\n",
       "      <td>1.000000</td>\n",
       "      <td>0.000000</td>\n",
       "      <td>0.000000</td>\n",
       "    </tr>\n",
       "    <tr>\n",
       "      <th>4</th>\n",
       "      <td>0.0</td>\n",
       "      <td>0.03125</td>\n",
       "      <td>0.000000</td>\n",
       "      <td>0.968750</td>\n",
       "      <td>0.000000</td>\n",
       "      <td>0.000000</td>\n",
       "    </tr>\n",
       "    <tr>\n",
       "      <th>5</th>\n",
       "      <td>0.0</td>\n",
       "      <td>0.00000</td>\n",
       "      <td>0.296089</td>\n",
       "      <td>0.703911</td>\n",
       "      <td>0.000000</td>\n",
       "      <td>0.000000</td>\n",
       "    </tr>\n",
       "    <tr>\n",
       "      <th>6</th>\n",
       "      <td>0.0</td>\n",
       "      <td>0.00000</td>\n",
       "      <td>0.000000</td>\n",
       "      <td>1.000000</td>\n",
       "      <td>0.000000</td>\n",
       "      <td>0.000000</td>\n",
       "    </tr>\n",
       "    <tr>\n",
       "      <th>7</th>\n",
       "      <td>0.0</td>\n",
       "      <td>0.00000</td>\n",
       "      <td>0.000000</td>\n",
       "      <td>0.651452</td>\n",
       "      <td>0.348548</td>\n",
       "      <td>0.000000</td>\n",
       "    </tr>\n",
       "    <tr>\n",
       "      <th>8</th>\n",
       "      <td>0.0</td>\n",
       "      <td>0.00000</td>\n",
       "      <td>0.000000</td>\n",
       "      <td>0.674419</td>\n",
       "      <td>0.000000</td>\n",
       "      <td>0.325581</td>\n",
       "    </tr>\n",
       "  </tbody>\n",
       "</table>\n",
       "</div>"
      ],
      "text/plain": [
       "     3        4         5         6         7         8\n",
       "3  0.0  0.00000  0.000000  1.000000  0.000000  0.000000\n",
       "4  0.0  0.03125  0.000000  0.968750  0.000000  0.000000\n",
       "5  0.0  0.00000  0.296089  0.703911  0.000000  0.000000\n",
       "6  0.0  0.00000  0.000000  1.000000  0.000000  0.000000\n",
       "7  0.0  0.00000  0.000000  0.651452  0.348548  0.000000\n",
       "8  0.0  0.00000  0.000000  0.674419  0.000000  0.325581"
      ]
     },
     "execution_count": 58,
     "metadata": {},
     "output_type": "execute_result"
    }
   ],
   "source": [
    "acu = metrics.accuracy_score(y_test_white, y_pred_white)\n",
    "pre_class, r_class, f_class, sup = metrics.precision_recall_fscore_support(y_test_white, y_pred_white, average = 'weighted')\n",
    "\n",
    "print(\"Acurracy: \", round(acu * 100, 4), '%')\n",
    "print('Precision:', round(pre_class * 100, 4), '%')\n",
    "print('Recall:', round(r_class * 100, 4), '%')\n",
    "print('f1:', round(f_class * 100, 4), '%')\n",
    "\n",
    "labels = list(range(3, 9))\n",
    "\n",
    "cm = metrics.confusion_matrix(y_test_white, y_pred_white, labels = labels)\n",
    "cm_norm = cm.astype('float') / cm.sum(axis=1)[:, np.newaxis] # normalize confusion matrix\n",
    "cm_norm = pd.DataFrame(cm_norm, index = labels, columns = labels)\n",
    "cm_norm"
   ]
  },
  {
   "cell_type": "code",
   "execution_count": 59,
   "metadata": {},
   "outputs": [
    {
     "data": {
      "application/vnd.plotly.v1+json": {
       "config": {
        "plotlyServerURL": "https://plotly.com"
       },
       "data": [
        {
         "colorscale": [
          [
           0,
           "blue"
          ],
          [
           1,
           "red"
          ]
         ],
         "text": [
          [
           0,
           0,
           0,
           1,
           0,
           0
          ],
          [
           0,
           0.03,
           0,
           0.97,
           0,
           0
          ],
          [
           0,
           0,
           0.3,
           0.7,
           0,
           0
          ],
          [
           0,
           0,
           0,
           1,
           0,
           0
          ],
          [
           0,
           0,
           0,
           0.65,
           0.35,
           0
          ],
          [
           0,
           0,
           0,
           0.67,
           0,
           0.33
          ]
         ],
         "type": "heatmap",
         "x": [
          3,
          4,
          5,
          6,
          7,
          8
         ],
         "y": [
          3,
          4,
          5,
          6,
          7,
          8
         ],
         "z": [
          [
           0,
           0,
           0,
           1,
           0,
           0
          ],
          [
           0,
           0.03125,
           0,
           0.96875,
           0,
           0
          ],
          [
           0,
           0,
           0.29608938547486036,
           0.7039106145251397,
           0,
           0
          ],
          [
           0,
           0,
           0,
           1,
           0,
           0
          ],
          [
           0,
           0,
           0,
           0.6514522821576764,
           0.34854771784232363,
           0
          ],
          [
           0,
           0,
           0,
           0.6744186046511628,
           0,
           0.32558139534883723
          ]
         ],
         "zmax": 1,
         "zmin": 0
        }
       ],
       "layout": {
        "height": 600,
        "template": {
         "data": {
          "bar": [
           {
            "error_x": {
             "color": "#2a3f5f"
            },
            "error_y": {
             "color": "#2a3f5f"
            },
            "marker": {
             "line": {
              "color": "#E5ECF6",
              "width": 0.5
             },
             "pattern": {
              "fillmode": "overlay",
              "size": 10,
              "solidity": 0.2
             }
            },
            "type": "bar"
           }
          ],
          "barpolar": [
           {
            "marker": {
             "line": {
              "color": "#E5ECF6",
              "width": 0.5
             },
             "pattern": {
              "fillmode": "overlay",
              "size": 10,
              "solidity": 0.2
             }
            },
            "type": "barpolar"
           }
          ],
          "carpet": [
           {
            "aaxis": {
             "endlinecolor": "#2a3f5f",
             "gridcolor": "white",
             "linecolor": "white",
             "minorgridcolor": "white",
             "startlinecolor": "#2a3f5f"
            },
            "baxis": {
             "endlinecolor": "#2a3f5f",
             "gridcolor": "white",
             "linecolor": "white",
             "minorgridcolor": "white",
             "startlinecolor": "#2a3f5f"
            },
            "type": "carpet"
           }
          ],
          "choropleth": [
           {
            "colorbar": {
             "outlinewidth": 0,
             "ticks": ""
            },
            "type": "choropleth"
           }
          ],
          "contour": [
           {
            "colorbar": {
             "outlinewidth": 0,
             "ticks": ""
            },
            "colorscale": [
             [
              0,
              "#0d0887"
             ],
             [
              0.1111111111111111,
              "#46039f"
             ],
             [
              0.2222222222222222,
              "#7201a8"
             ],
             [
              0.3333333333333333,
              "#9c179e"
             ],
             [
              0.4444444444444444,
              "#bd3786"
             ],
             [
              0.5555555555555556,
              "#d8576b"
             ],
             [
              0.6666666666666666,
              "#ed7953"
             ],
             [
              0.7777777777777778,
              "#fb9f3a"
             ],
             [
              0.8888888888888888,
              "#fdca26"
             ],
             [
              1,
              "#f0f921"
             ]
            ],
            "type": "contour"
           }
          ],
          "contourcarpet": [
           {
            "colorbar": {
             "outlinewidth": 0,
             "ticks": ""
            },
            "type": "contourcarpet"
           }
          ],
          "heatmap": [
           {
            "colorbar": {
             "outlinewidth": 0,
             "ticks": ""
            },
            "colorscale": [
             [
              0,
              "#0d0887"
             ],
             [
              0.1111111111111111,
              "#46039f"
             ],
             [
              0.2222222222222222,
              "#7201a8"
             ],
             [
              0.3333333333333333,
              "#9c179e"
             ],
             [
              0.4444444444444444,
              "#bd3786"
             ],
             [
              0.5555555555555556,
              "#d8576b"
             ],
             [
              0.6666666666666666,
              "#ed7953"
             ],
             [
              0.7777777777777778,
              "#fb9f3a"
             ],
             [
              0.8888888888888888,
              "#fdca26"
             ],
             [
              1,
              "#f0f921"
             ]
            ],
            "type": "heatmap"
           }
          ],
          "heatmapgl": [
           {
            "colorbar": {
             "outlinewidth": 0,
             "ticks": ""
            },
            "colorscale": [
             [
              0,
              "#0d0887"
             ],
             [
              0.1111111111111111,
              "#46039f"
             ],
             [
              0.2222222222222222,
              "#7201a8"
             ],
             [
              0.3333333333333333,
              "#9c179e"
             ],
             [
              0.4444444444444444,
              "#bd3786"
             ],
             [
              0.5555555555555556,
              "#d8576b"
             ],
             [
              0.6666666666666666,
              "#ed7953"
             ],
             [
              0.7777777777777778,
              "#fb9f3a"
             ],
             [
              0.8888888888888888,
              "#fdca26"
             ],
             [
              1,
              "#f0f921"
             ]
            ],
            "type": "heatmapgl"
           }
          ],
          "histogram": [
           {
            "marker": {
             "pattern": {
              "fillmode": "overlay",
              "size": 10,
              "solidity": 0.2
             }
            },
            "type": "histogram"
           }
          ],
          "histogram2d": [
           {
            "colorbar": {
             "outlinewidth": 0,
             "ticks": ""
            },
            "colorscale": [
             [
              0,
              "#0d0887"
             ],
             [
              0.1111111111111111,
              "#46039f"
             ],
             [
              0.2222222222222222,
              "#7201a8"
             ],
             [
              0.3333333333333333,
              "#9c179e"
             ],
             [
              0.4444444444444444,
              "#bd3786"
             ],
             [
              0.5555555555555556,
              "#d8576b"
             ],
             [
              0.6666666666666666,
              "#ed7953"
             ],
             [
              0.7777777777777778,
              "#fb9f3a"
             ],
             [
              0.8888888888888888,
              "#fdca26"
             ],
             [
              1,
              "#f0f921"
             ]
            ],
            "type": "histogram2d"
           }
          ],
          "histogram2dcontour": [
           {
            "colorbar": {
             "outlinewidth": 0,
             "ticks": ""
            },
            "colorscale": [
             [
              0,
              "#0d0887"
             ],
             [
              0.1111111111111111,
              "#46039f"
             ],
             [
              0.2222222222222222,
              "#7201a8"
             ],
             [
              0.3333333333333333,
              "#9c179e"
             ],
             [
              0.4444444444444444,
              "#bd3786"
             ],
             [
              0.5555555555555556,
              "#d8576b"
             ],
             [
              0.6666666666666666,
              "#ed7953"
             ],
             [
              0.7777777777777778,
              "#fb9f3a"
             ],
             [
              0.8888888888888888,
              "#fdca26"
             ],
             [
              1,
              "#f0f921"
             ]
            ],
            "type": "histogram2dcontour"
           }
          ],
          "mesh3d": [
           {
            "colorbar": {
             "outlinewidth": 0,
             "ticks": ""
            },
            "type": "mesh3d"
           }
          ],
          "parcoords": [
           {
            "line": {
             "colorbar": {
              "outlinewidth": 0,
              "ticks": ""
             }
            },
            "type": "parcoords"
           }
          ],
          "pie": [
           {
            "automargin": true,
            "type": "pie"
           }
          ],
          "scatter": [
           {
            "fillpattern": {
             "fillmode": "overlay",
             "size": 10,
             "solidity": 0.2
            },
            "type": "scatter"
           }
          ],
          "scatter3d": [
           {
            "line": {
             "colorbar": {
              "outlinewidth": 0,
              "ticks": ""
             }
            },
            "marker": {
             "colorbar": {
              "outlinewidth": 0,
              "ticks": ""
             }
            },
            "type": "scatter3d"
           }
          ],
          "scattercarpet": [
           {
            "marker": {
             "colorbar": {
              "outlinewidth": 0,
              "ticks": ""
             }
            },
            "type": "scattercarpet"
           }
          ],
          "scattergeo": [
           {
            "marker": {
             "colorbar": {
              "outlinewidth": 0,
              "ticks": ""
             }
            },
            "type": "scattergeo"
           }
          ],
          "scattergl": [
           {
            "marker": {
             "colorbar": {
              "outlinewidth": 0,
              "ticks": ""
             }
            },
            "type": "scattergl"
           }
          ],
          "scattermapbox": [
           {
            "marker": {
             "colorbar": {
              "outlinewidth": 0,
              "ticks": ""
             }
            },
            "type": "scattermapbox"
           }
          ],
          "scatterpolar": [
           {
            "marker": {
             "colorbar": {
              "outlinewidth": 0,
              "ticks": ""
             }
            },
            "type": "scatterpolar"
           }
          ],
          "scatterpolargl": [
           {
            "marker": {
             "colorbar": {
              "outlinewidth": 0,
              "ticks": ""
             }
            },
            "type": "scatterpolargl"
           }
          ],
          "scatterternary": [
           {
            "marker": {
             "colorbar": {
              "outlinewidth": 0,
              "ticks": ""
             }
            },
            "type": "scatterternary"
           }
          ],
          "surface": [
           {
            "colorbar": {
             "outlinewidth": 0,
             "ticks": ""
            },
            "colorscale": [
             [
              0,
              "#0d0887"
             ],
             [
              0.1111111111111111,
              "#46039f"
             ],
             [
              0.2222222222222222,
              "#7201a8"
             ],
             [
              0.3333333333333333,
              "#9c179e"
             ],
             [
              0.4444444444444444,
              "#bd3786"
             ],
             [
              0.5555555555555556,
              "#d8576b"
             ],
             [
              0.6666666666666666,
              "#ed7953"
             ],
             [
              0.7777777777777778,
              "#fb9f3a"
             ],
             [
              0.8888888888888888,
              "#fdca26"
             ],
             [
              1,
              "#f0f921"
             ]
            ],
            "type": "surface"
           }
          ],
          "table": [
           {
            "cells": {
             "fill": {
              "color": "#EBF0F8"
             },
             "line": {
              "color": "white"
             }
            },
            "header": {
             "fill": {
              "color": "#C8D4E3"
             },
             "line": {
              "color": "white"
             }
            },
            "type": "table"
           }
          ]
         },
         "layout": {
          "annotationdefaults": {
           "arrowcolor": "#2a3f5f",
           "arrowhead": 0,
           "arrowwidth": 1
          },
          "autotypenumbers": "strict",
          "coloraxis": {
           "colorbar": {
            "outlinewidth": 0,
            "ticks": ""
           }
          },
          "colorscale": {
           "diverging": [
            [
             0,
             "#8e0152"
            ],
            [
             0.1,
             "#c51b7d"
            ],
            [
             0.2,
             "#de77ae"
            ],
            [
             0.3,
             "#f1b6da"
            ],
            [
             0.4,
             "#fde0ef"
            ],
            [
             0.5,
             "#f7f7f7"
            ],
            [
             0.6,
             "#e6f5d0"
            ],
            [
             0.7,
             "#b8e186"
            ],
            [
             0.8,
             "#7fbc41"
            ],
            [
             0.9,
             "#4d9221"
            ],
            [
             1,
             "#276419"
            ]
           ],
           "sequential": [
            [
             0,
             "#0d0887"
            ],
            [
             0.1111111111111111,
             "#46039f"
            ],
            [
             0.2222222222222222,
             "#7201a8"
            ],
            [
             0.3333333333333333,
             "#9c179e"
            ],
            [
             0.4444444444444444,
             "#bd3786"
            ],
            [
             0.5555555555555556,
             "#d8576b"
            ],
            [
             0.6666666666666666,
             "#ed7953"
            ],
            [
             0.7777777777777778,
             "#fb9f3a"
            ],
            [
             0.8888888888888888,
             "#fdca26"
            ],
            [
             1,
             "#f0f921"
            ]
           ],
           "sequentialminus": [
            [
             0,
             "#0d0887"
            ],
            [
             0.1111111111111111,
             "#46039f"
            ],
            [
             0.2222222222222222,
             "#7201a8"
            ],
            [
             0.3333333333333333,
             "#9c179e"
            ],
            [
             0.4444444444444444,
             "#bd3786"
            ],
            [
             0.5555555555555556,
             "#d8576b"
            ],
            [
             0.6666666666666666,
             "#ed7953"
            ],
            [
             0.7777777777777778,
             "#fb9f3a"
            ],
            [
             0.8888888888888888,
             "#fdca26"
            ],
            [
             1,
             "#f0f921"
            ]
           ]
          },
          "colorway": [
           "#636efa",
           "#EF553B",
           "#00cc96",
           "#ab63fa",
           "#FFA15A",
           "#19d3f3",
           "#FF6692",
           "#B6E880",
           "#FF97FF",
           "#FECB52"
          ],
          "font": {
           "color": "#2a3f5f"
          },
          "geo": {
           "bgcolor": "white",
           "lakecolor": "white",
           "landcolor": "#E5ECF6",
           "showlakes": true,
           "showland": true,
           "subunitcolor": "white"
          },
          "hoverlabel": {
           "align": "left"
          },
          "hovermode": "closest",
          "mapbox": {
           "style": "light"
          },
          "paper_bgcolor": "white",
          "plot_bgcolor": "#E5ECF6",
          "polar": {
           "angularaxis": {
            "gridcolor": "white",
            "linecolor": "white",
            "ticks": ""
           },
           "bgcolor": "#E5ECF6",
           "radialaxis": {
            "gridcolor": "white",
            "linecolor": "white",
            "ticks": ""
           }
          },
          "scene": {
           "xaxis": {
            "backgroundcolor": "#E5ECF6",
            "gridcolor": "white",
            "gridwidth": 2,
            "linecolor": "white",
            "showbackground": true,
            "ticks": "",
            "zerolinecolor": "white"
           },
           "yaxis": {
            "backgroundcolor": "#E5ECF6",
            "gridcolor": "white",
            "gridwidth": 2,
            "linecolor": "white",
            "showbackground": true,
            "ticks": "",
            "zerolinecolor": "white"
           },
           "zaxis": {
            "backgroundcolor": "#E5ECF6",
            "gridcolor": "white",
            "gridwidth": 2,
            "linecolor": "white",
            "showbackground": true,
            "ticks": "",
            "zerolinecolor": "white"
           }
          },
          "shapedefaults": {
           "line": {
            "color": "#2a3f5f"
           }
          },
          "ternary": {
           "aaxis": {
            "gridcolor": "white",
            "linecolor": "white",
            "ticks": ""
           },
           "baxis": {
            "gridcolor": "white",
            "linecolor": "white",
            "ticks": ""
           },
           "bgcolor": "#E5ECF6",
           "caxis": {
            "gridcolor": "white",
            "linecolor": "white",
            "ticks": ""
           }
          },
          "title": {
           "x": 0.05
          },
          "xaxis": {
           "automargin": true,
           "gridcolor": "white",
           "linecolor": "white",
           "ticks": "",
           "title": {
            "standoff": 15
           },
           "zerolinecolor": "white",
           "zerolinewidth": 2
          },
          "yaxis": {
           "automargin": true,
           "gridcolor": "white",
           "linecolor": "white",
           "ticks": "",
           "title": {
            "standoff": 15
           },
           "zerolinecolor": "white",
           "zerolinewidth": 2
          }
         }
        },
        "title": {
         "font": {
          "family": "Gulliver",
          "size": 40
         },
         "text": "Confusion matrix before SMOTE",
         "x": 0.5
        },
        "width": 600,
        "xaxis": {
         "tickfont": {
          "size": 16
         },
         "title": {
          "font": {
           "family": "Gulliver",
           "size": 20
          },
          "text": "Predicted"
         }
        },
        "yaxis": {
         "tickfont": {
          "size": 16
         },
         "title": {
          "font": {
           "family": "Gulliver",
           "size": 20
          },
          "text": "Actual"
         }
        }
       }
      }
     },
     "metadata": {},
     "output_type": "display_data"
    }
   ],
   "source": [
    "labels = list(range(3, 9))\n",
    "\n",
    "fig = go.Figure(\n",
    "    data = go.Heatmap(\n",
    "        z = cm_norm,\n",
    "        x = labels,\n",
    "        y = labels,\n",
    "        zmin = 0,\n",
    "        zmax = 1,\n",
    "        colorscale = [\n",
    "            [0, 'blue'],\n",
    "            [1, 'red']\n",
    "        ],\n",
    "        text = cm_norm.values.round(2)\n",
    "    ),\n",
    "    layout = go.Layout(\n",
    "        title = {\n",
    "            'text': 'Confusion matrix before SMOTE',\n",
    "            'font': {'size': 40, 'family': \"Gulliver\"},\n",
    "            'x': 0.5\n",
    "        },\n",
    "        yaxis_title = {\n",
    "            'font': {'size': 20, 'family': 'Gulliver'},\n",
    "            'text': 'Actual'\n",
    "        },\n",
    "        xaxis_title = {\n",
    "            'font': {'size': 20, 'family': 'Gulliver'},\n",
    "            'text': 'Predicted'\n",
    "        },\n",
    "        width = 600,\n",
    "        height = 600\n",
    "    )\n",
    ")\n",
    "\n",
    "fig.update_xaxes(tickfont=dict(size = 16))\n",
    "fig.update_yaxes(tickfont=dict(size = 16))\n",
    "\n",
    "fig.show()"
   ]
  },
  {
   "cell_type": "code",
   "execution_count": 60,
   "metadata": {},
   "outputs": [
    {
     "name": "stderr",
     "output_type": "stream",
     "text": [
      "/opt/anaconda3/lib/python3.9/site-packages/sklearn/metrics/_ranking.py:1029: UndefinedMetricWarning:\n",
      "\n",
      "No positive samples in y_true, true positive value should be meaningless\n",
      "\n"
     ]
    },
    {
     "data": {
      "application/vnd.plotly.v1+json": {
       "config": {
        "plotlyServerURL": "https://plotly.com"
       },
       "data": [
        {
         "line": {
          "width": 2
         },
         "mode": "lines",
         "name": "ROC curve of class 3 (AUC = 0.65)",
         "type": "scatter",
         "x": [
          0,
          0.0008210180623973727,
          0.0024630541871921183,
          0.005747126436781609,
          0.008210180623973728,
          0.026272577996715927,
          0.027914614121510674,
          0.03201970443349754,
          0.035303776683087026,
          0.03694581280788178,
          0.6691297208538588,
          0.6707717569786535,
          0.6715927750410509,
          0.6732348111658456,
          0.6798029556650246,
          0.6814449917898193,
          0.6888341543513957,
          0.6904761904761905,
          0.7052545155993432,
          0.7068965517241379,
          0.7274220032840722,
          0.7307060755336617,
          0.7389162561576355,
          0.7405582922824302,
          0.7454844006568144,
          0.7487684729064039,
          0.7512315270935961,
          0.7536945812807881,
          0.7561576354679803,
          0.7577996715927751,
          0.764367816091954,
          0.7668308702791461,
          0.7783251231527094,
          0.7824302134646962,
          0.784072249589491,
          0.7857142857142857,
          0.7889983579638752,
          0.8013136288998358,
          0.8029556650246306,
          0.8054187192118226,
          0.8078817733990148,
          0.8144499178981938,
          0.8177339901477833,
          0.854679802955665,
          0.8563218390804598,
          0.8596059113300493,
          0.8628899835796388,
          0.9490968801313628,
          0.9507389162561576,
          0.9630541871921182,
          0.964696223316913,
          0.9729064039408867,
          0.9761904761904762,
          0.9802955665024631,
          0.9819376026272578,
          0.9958949096880131,
          0.9975369458128078,
          1
         ],
         "y": [
          0,
          0,
          0,
          0,
          0,
          0,
          0,
          0,
          0,
          0,
          1,
          1,
          1,
          1,
          1,
          1,
          1,
          1,
          1,
          1,
          1,
          1,
          1,
          1,
          1,
          1,
          1,
          1,
          1,
          1,
          1,
          1,
          1,
          1,
          1,
          1,
          1,
          1,
          1,
          1,
          1,
          1,
          1,
          1,
          1,
          1,
          1,
          1,
          1,
          1,
          1,
          1,
          1,
          1,
          1,
          1,
          1,
          1
         ]
        },
        {
         "line": {
          "width": 2
         },
         "mode": "lines",
         "name": "ROC curve of class 4 (AUC = 0.70)",
         "type": "scatter",
         "x": [
          0,
          0,
          0,
          0.0075440067057837385,
          0.010896898575020955,
          0.6395641240569991,
          0.6420787929589271,
          0.6454316848281643,
          0.647108130762783,
          0.6479463537300922,
          0.6496227996647108,
          0.6512992455993294,
          0.6512992455993294,
          0.6563285834031852,
          0.6580050293378038,
          0.6647108130762783,
          0.6663872590108969,
          0.6873428331936295,
          0.6890192791282481,
          0.7066219614417435,
          0.7082984073763621,
          0.7116512992455993,
          0.7141659681475272,
          0.7200335289186923,
          0.721709974853311,
          0.7250628667225482,
          0.7267393126571668,
          0.7309304274937133,
          0.7342833193629505,
          0.7351215423302598,
          0.7367979882648784,
          0.7527242246437552,
          0.7544006705783739,
          0.7560771165129925,
          0.7594300083822296,
          0.7636211232187762,
          0.7678122380553227,
          0.7694886839899413,
          0.7745180217937971,
          0.7761944677284157,
          0.8005029337803856,
          0.8021793797150042,
          0.80720871751886,
          0.8088851634534786,
          0.8298407376362112,
          0.8315171835708298,
          0.8331936295054484,
          0.8348700754400671,
          0.8474434199497066,
          0.8491198658843252,
          0.8751047778709137,
          0.8767812238055323,
          0.8843252305113161,
          0.8860016764459346,
          0.9170159262363788,
          0.9186923721709975,
          0.9195305951383068,
          0.9212070410729254,
          0.9337803855825649,
          0.9362950544844929,
          0.9379715004191115,
          0.9396479463537301,
          0.9438390611902766,
          0.9455155071248952,
          0.9782062028499581,
          0.9798826487845766,
          1
         ],
         "y": [
          0,
          0.03125,
          0.09375,
          0.09375,
          0.09375,
          0.96875,
          0.96875,
          0.96875,
          0.96875,
          0.96875,
          0.96875,
          0.96875,
          1,
          1,
          1,
          1,
          1,
          1,
          1,
          1,
          1,
          1,
          1,
          1,
          1,
          1,
          1,
          1,
          1,
          1,
          1,
          1,
          1,
          1,
          1,
          1,
          1,
          1,
          1,
          1,
          1,
          1,
          1,
          1,
          1,
          1,
          1,
          1,
          1,
          1,
          1,
          1,
          1,
          1,
          1,
          1,
          1,
          1,
          1,
          1,
          1,
          1,
          1,
          1,
          1,
          1,
          1
         ]
        },
        {
         "line": {
          "width": 2
         },
         "mode": "lines",
         "name": "ROC curve of class 5 (AUC = 0.77)",
         "type": "scatter",
         "x": [
          0,
          0,
          0,
          0,
          0,
          0,
          0,
          0,
          0,
          0,
          0,
          0,
          0.0011534025374855825,
          0.0011534025374855825,
          0.002306805074971165,
          0.002306805074971165,
          0.0034602076124567475,
          0.0034602076124567475,
          0.0057670126874279125,
          0.0057670126874279125,
          0.006920415224913495,
          0.006920415224913495,
          0.008073817762399077,
          0.008073817762399077,
          0.00922722029988466,
          0.00922722029988466,
          0.011534025374855825,
          0.011534025374855825,
          0.012687427912341407,
          0.012687427912341407,
          0.01384083044982699,
          0.6678200692041523,
          0.671280276816609,
          0.6758938869665513,
          0.6758938869665513,
          0.6770472895040369,
          0.6793540945790081,
          0.6816608996539792,
          0.6816608996539792,
          0.6828143021914648,
          0.6828143021914648,
          0.6851211072664359,
          0.6851211072664359,
          0.6862745098039216,
          0.6885813148788927,
          0.6955017301038062,
          0.6955017301038062,
          0.7047289504036909,
          0.7047289504036909,
          0.7047289504036909,
          0.707035755478662,
          0.707035755478662,
          0.7093425605536332,
          0.7093425605536332,
          0.7254901960784313,
          0.7277970011534025,
          0.7312572087658593,
          0.734717416378316,
          0.7370242214532872,
          0.7393310265282583,
          0.7577854671280276,
          0.7600922722029988,
          0.7647058823529411,
          0.7670126874279123,
          0.8085351787773933,
          0.8108419838523645,
          0.8846597462514417,
          0.889273356401384,
          0.8938869665513264,
          0.8973471741637832,
          0.9042675893886967,
          0.9065743944636678,
          0.9146482122260668,
          0.916955017301038,
          0.9250288350634371,
          0.9284890426758939,
          0.9307958477508651,
          0.9573241061130334,
          0.9630911188004614,
          0.9642445213379469,
          0.9665513264129181,
          0.972318339100346,
          0.9769319492502884,
          0.9792387543252595,
          0.9815455594002307,
          0.9850057670126874,
          0.9884659746251442,
          0.9930795847750865,
          1
         ],
         "y": [
          0,
          0.002793296089385475,
          0.013966480446927373,
          0.0223463687150838,
          0.027932960893854747,
          0.13687150837988826,
          0.1424581005586592,
          0.2569832402234637,
          0.26256983240223464,
          0.27932960893854747,
          0.2849162011173184,
          0.29608938547486036,
          0.29608938547486036,
          0.3128491620111732,
          0.3128491620111732,
          0.31843575418994413,
          0.31843575418994413,
          0.3240223463687151,
          0.3240223463687151,
          0.3407821229050279,
          0.3407821229050279,
          0.34916201117318435,
          0.34916201117318435,
          0.35195530726256985,
          0.35195530726256985,
          0.3575418994413408,
          0.3575418994413408,
          0.3659217877094972,
          0.3659217877094972,
          0.3715083798882682,
          0.3715083798882682,
          0.9608938547486033,
          0.9608938547486033,
          0.9608938547486033,
          0.9664804469273743,
          0.9664804469273743,
          0.9664804469273743,
          0.9664804469273743,
          0.9720670391061452,
          0.9720670391061452,
          0.9748603351955307,
          0.9748603351955307,
          0.9776536312849162,
          0.9776536312849162,
          0.9776536312849162,
          0.9776536312849162,
          0.9832402234636871,
          0.9832402234636871,
          0.9860335195530726,
          0.9916201117318436,
          0.9916201117318436,
          0.9972067039106145,
          0.9972067039106145,
          1,
          1,
          1,
          1,
          1,
          1,
          1,
          1,
          1,
          1,
          1,
          1,
          1,
          1,
          1,
          1,
          1,
          1,
          1,
          1,
          1,
          1,
          1,
          1,
          1,
          1,
          1,
          1,
          1,
          1,
          1,
          1,
          1,
          1,
          1,
          1
         ]
        },
        {
         "line": {
          "width": 2
         },
         "mode": "lines",
         "name": "ROC curve of class 6 (AUC = 0.76)",
         "type": "scatter",
         "x": [
          0,
          0,
          0,
          0,
          0,
          0,
          0,
          0,
          0,
          0,
          0,
          0,
          0,
          0,
          0.0014684287812041115,
          0.0014684287812041115,
          0.002936857562408223,
          0.002936857562408223,
          0.005873715124816446,
          0.007342143906020558,
          0.007342143906020558,
          0.010279001468428781,
          0.010279001468428781,
          0.011747430249632892,
          0.011747430249632892,
          0.011747430249632892,
          0.013215859030837005,
          0.013215859030837005,
          0.014684287812041116,
          0.01762114537444934,
          0.01908957415565345,
          0.01908957415565345,
          0.022026431718061675,
          0.022026431718061675,
          0.023494860499265784,
          0.023494860499265784,
          0.024963289280469897,
          0.631424375917768,
          0.6343612334801763,
          0.6343612334801763,
          0.6402349486049926,
          0.6402349486049926,
          0.6431718061674009,
          0.6431718061674009,
          0.6461086637298091,
          0.6461086637298091,
          0.6505139500734214,
          0.6505139500734214,
          0.6593245227606461,
          0.6593245227606461,
          0.6740088105726872,
          0.6740088105726872,
          0.6769456681350955,
          0.6769456681350955,
          0.684287812041116,
          0.684287812041116,
          0.6989720998531571,
          0.6989720998531571,
          0.7004405286343612,
          0.7033773861967695,
          0.7092511013215859,
          0.7136563876651982,
          0.7224669603524229,
          0.7254038179148311,
          0.7459618208516887,
          0.748898678414097,
          0.7709251101321586,
          0.7738619676945668,
          0.8634361233480177,
          0.8663729809104258,
          0.8766519823788547,
          0.8795888399412628,
          0.8898678414096917,
          0.8928046989720999,
          0.8972099853157122,
          0.9309838472834068,
          0.9383259911894273,
          0.9397944199706314,
          0.9427312775330396,
          0.9441997063142438,
          0.9500734214390602,
          0.9530102790014684,
          0.9559471365638766,
          0.960352422907489,
          0.9647577092511013,
          0.9706314243759178,
          0.9838472834067548,
          0.986784140969163,
          0.9926578560939795,
          0.9985315712187959,
          1
         ],
         "y": [
          0,
          0.001838235294117647,
          0.16176470588235295,
          0.16544117647058823,
          0.20220588235294118,
          0.20588235294117646,
          0.20772058823529413,
          0.21507352941176472,
          0.23345588235294118,
          0.23713235294117646,
          0.2426470588235294,
          0.2555147058823529,
          0.25919117647058826,
          0.2702205882352941,
          0.2702205882352941,
          0.27389705882352944,
          0.27389705882352944,
          0.2775735294117647,
          0.2775735294117647,
          0.2775735294117647,
          0.2849264705882353,
          0.2849264705882353,
          0.28860294117647056,
          0.28860294117647056,
          0.2922794117647059,
          0.29411764705882354,
          0.29411764705882354,
          0.2959558823529412,
          0.2959558823529412,
          0.2959558823529412,
          0.2959558823529412,
          0.2977941176470588,
          0.2977941176470588,
          0.29963235294117646,
          0.3014705882352941,
          0.30330882352941174,
          0.30330882352941174,
          0.9761029411764706,
          0.9761029411764706,
          0.9797794117647058,
          0.9797794117647058,
          0.9816176470588235,
          0.9816176470588235,
          0.9852941176470589,
          0.9852941176470589,
          0.9871323529411765,
          0.9871323529411765,
          0.9889705882352942,
          0.9889705882352942,
          0.9908088235294118,
          0.9908088235294118,
          0.9944852941176471,
          0.9944852941176471,
          0.9963235294117647,
          0.9963235294117647,
          0.9981617647058824,
          0.9981617647058824,
          1,
          1,
          1,
          1,
          1,
          1,
          1,
          1,
          1,
          1,
          1,
          1,
          1,
          1,
          1,
          1,
          1,
          1,
          1,
          1,
          1,
          1,
          1,
          1,
          1,
          1,
          1,
          1,
          1,
          1,
          1,
          1,
          1,
          1
         ]
        },
        {
         "line": {
          "width": 2
         },
         "mode": "lines",
         "name": "ROC curve of class 7 (AUC = 0.80)",
         "type": "scatter",
         "x": [
          0,
          0,
          0,
          0,
          0,
          0,
          0,
          0,
          0,
          0,
          0,
          0,
          0,
          0,
          0,
          0,
          0,
          0,
          0,
          0.0020325203252032522,
          0.006097560975609756,
          0.006097560975609756,
          0.6544715447154471,
          0.6565040650406504,
          0.6585365853658537,
          0.6585365853658537,
          0.6595528455284553,
          0.6615853658536586,
          0.6697154471544715,
          0.6697154471544715,
          0.6717479674796748,
          0.6788617886178862,
          0.6808943089430894,
          0.681910569105691,
          0.681910569105691,
          0.7002032520325203,
          0.7022357723577236,
          0.7327235772357723,
          0.7347560975609756,
          0.7388211382113821,
          0.7408536585365854,
          0.7591463414634146,
          0.7611788617886179,
          0.7713414634146342,
          0.774390243902439,
          0.7764227642276422,
          0.8089430894308943,
          0.8109756097560976,
          0.8119918699186992,
          0.8140243902439024,
          0.8871951219512195,
          0.8892276422764228,
          0.9054878048780488,
          0.9095528455284553,
          0.9735772357723578,
          0.975609756097561,
          0.9806910569105691,
          0.9847560975609756,
          0.9867886178861789,
          0.9888211382113821,
          0.991869918699187,
          0.9949186991869918,
          1
         ],
         "y": [
          0,
          0.004149377593360996,
          0.02074688796680498,
          0.03734439834024896,
          0.05394190871369295,
          0.06639004149377593,
          0.07468879668049792,
          0.08298755186721991,
          0.0995850622406639,
          0.1078838174273859,
          0.12863070539419086,
          0.21991701244813278,
          0.22821576763485477,
          0.24066390041493776,
          0.26556016597510373,
          0.27385892116182575,
          0.2946058091286307,
          0.3029045643153527,
          0.3983402489626556,
          0.3983402489626556,
          0.3983402489626556,
          0.4024896265560166,
          0.9875518672199171,
          0.9875518672199171,
          0.9875518672199171,
          0.991701244813278,
          0.991701244813278,
          0.991701244813278,
          0.991701244813278,
          0.995850622406639,
          0.995850622406639,
          0.995850622406639,
          0.995850622406639,
          0.995850622406639,
          1,
          1,
          1,
          1,
          1,
          1,
          1,
          1,
          1,
          1,
          1,
          1,
          1,
          1,
          1,
          1,
          1,
          1,
          1,
          1,
          1,
          1,
          1,
          1,
          1,
          1,
          1,
          1,
          1
         ]
        },
        {
         "line": {
          "width": 2
         },
         "mode": "lines",
         "name": "ROC curve of class 8 (AUC = 0.79)",
         "type": "scatter",
         "x": [
          0,
          0,
          0,
          0,
          0,
          0,
          0,
          0.010998307952622674,
          0.010998307952622674,
          0.012690355329949238,
          0.014382402707275803,
          0.015228426395939087,
          0.015228426395939087,
          0.016074450084602367,
          0.017766497461928935,
          0.02030456852791878,
          0.021996615905245348,
          0.6573604060913706,
          0.6582064297800339,
          0.6598984771573604,
          0.6607445008460237,
          0.6624365482233503,
          0.6692047377326565,
          0.6708967851099831,
          0.6776649746192893,
          0.6793570219966159,
          0.6954314720812182,
          0.6971235194585449,
          0.7216582064297801,
          0.7233502538071066,
          0.7267343485617598,
          0.7292724196277496,
          0.7351945854483926,
          0.7368866328257191,
          0.7385786802030457,
          0.7402707275803723,
          0.7436548223350253,
          0.7445008460236887,
          0.7470389170896785,
          0.7538071065989848,
          0.7554991539763113,
          0.772419627749577,
          0.7766497461928934,
          0.7783417935702199,
          0.7800338409475466,
          0.7834179357021996,
          0.7952622673434856,
          0.7969543147208121,
          0.8037225042301185,
          0.8062605752961083,
          0.8087986463620981,
          0.8104906937394247,
          0.811336717428088,
          0.8130287648054145,
          0.8164128595600677,
          0.8181049069373942,
          0.8587140439932318,
          0.8604060913705583,
          0.8671742808798646,
          0.8688663282571912,
          0.9120135363790186,
          0.9137055837563451,
          0.9314720812182741,
          0.9331641285956007,
          0.9483925549915397,
          0.9500846023688664,
          0.9839255499153976,
          0.9856175972927242,
          0.9957698815566836,
          0.9991539763113367,
          1
         ],
         "y": [
          0,
          0.023255813953488372,
          0.11627906976744186,
          0.18604651162790697,
          0.2558139534883721,
          0.3023255813953488,
          0.3488372093023256,
          0.3488372093023256,
          0.37209302325581395,
          0.37209302325581395,
          0.37209302325581395,
          0.37209302325581395,
          0.3953488372093023,
          0.3953488372093023,
          0.3953488372093023,
          0.3953488372093023,
          0.3953488372093023,
          1,
          1,
          1,
          1,
          1,
          1,
          1,
          1,
          1,
          1,
          1,
          1,
          1,
          1,
          1,
          1,
          1,
          1,
          1,
          1,
          1,
          1,
          1,
          1,
          1,
          1,
          1,
          1,
          1,
          1,
          1,
          1,
          1,
          1,
          1,
          1,
          1,
          1,
          1,
          1,
          1,
          1,
          1,
          1,
          1,
          1,
          1,
          1,
          1,
          1,
          1,
          1,
          1,
          1
         ]
        },
        {
         "line": {
          "width": 2
         },
         "mode": "lines",
         "name": "ROC curve of class 9 (AUC = nan)",
         "type": "scatter",
         "x": [
          0,
          0.0008163265306122449,
          0.0024489795918367346,
          0.004897959183673469,
          0.007346938775510204,
          0.018775510204081632,
          0.022040816326530613,
          0.024489795918367346,
          0.026122448979591838,
          0.031020408163265307,
          0.03346938775510204,
          0.04,
          0.04163265306122449,
          0.04244897959183674,
          0.044081632653061226,
          0.04653061224489796,
          0.05795918367346939,
          0.061224489795918366,
          0.0653061224489796,
          0.06693877551020408,
          0.08,
          0.08408163265306122,
          0.08571428571428572,
          0.11836734693877551,
          0.12,
          0.12979591836734694,
          0.13142857142857142,
          0.13306122448979593,
          0.7681632653061224,
          0.7689795918367347,
          0.7706122448979592,
          0.7722448979591837,
          0.7738775510204081,
          0.7771428571428571,
          0.7787755102040816,
          0.7869387755102041,
          0.7885714285714286,
          0.8,
          0.8016326530612244,
          0.8114285714285714,
          0.8130612244897959,
          0.8155102040816327,
          0.8171428571428572,
          0.8187755102040817,
          0.8424489795918367,
          0.8440816326530612,
          0.8636734693877551,
          0.8653061224489796,
          0.8938775510204081,
          0.8955102040816326,
          0.9363265306122449,
          0.9379591836734694,
          0.9395918367346939,
          0.9412244897959183,
          0.9526530612244898,
          0.9542857142857143,
          0.976326530612245,
          0.9779591836734693,
          0.9934693877551021,
          0.996734693877551,
          1
         ],
         "y": [
          null,
          null,
          null,
          null,
          null,
          null,
          null,
          null,
          null,
          null,
          null,
          null,
          null,
          null,
          null,
          null,
          null,
          null,
          null,
          null,
          null,
          null,
          null,
          null,
          null,
          null,
          null,
          null,
          null,
          null,
          null,
          null,
          null,
          null,
          null,
          null,
          null,
          null,
          null,
          null,
          null,
          null,
          null,
          null,
          null,
          null,
          null,
          null,
          null,
          null,
          null,
          null,
          null,
          null,
          null,
          null,
          null,
          null,
          null,
          null,
          null
         ]
        },
        {
         "line": {
          "color": "navy",
          "dash": "dash",
          "width": 2
         },
         "mode": "lines",
         "showlegend": false,
         "type": "scatter",
         "x": [
          0,
          1
         ],
         "y": [
          0,
          1
         ]
        }
       ],
       "layout": {
        "height": 800,
        "legend": {
         "x": 0.7,
         "y": 0.1
        },
        "template": {
         "data": {
          "bar": [
           {
            "error_x": {
             "color": "#2a3f5f"
            },
            "error_y": {
             "color": "#2a3f5f"
            },
            "marker": {
             "line": {
              "color": "#E5ECF6",
              "width": 0.5
             },
             "pattern": {
              "fillmode": "overlay",
              "size": 10,
              "solidity": 0.2
             }
            },
            "type": "bar"
           }
          ],
          "barpolar": [
           {
            "marker": {
             "line": {
              "color": "#E5ECF6",
              "width": 0.5
             },
             "pattern": {
              "fillmode": "overlay",
              "size": 10,
              "solidity": 0.2
             }
            },
            "type": "barpolar"
           }
          ],
          "carpet": [
           {
            "aaxis": {
             "endlinecolor": "#2a3f5f",
             "gridcolor": "white",
             "linecolor": "white",
             "minorgridcolor": "white",
             "startlinecolor": "#2a3f5f"
            },
            "baxis": {
             "endlinecolor": "#2a3f5f",
             "gridcolor": "white",
             "linecolor": "white",
             "minorgridcolor": "white",
             "startlinecolor": "#2a3f5f"
            },
            "type": "carpet"
           }
          ],
          "choropleth": [
           {
            "colorbar": {
             "outlinewidth": 0,
             "ticks": ""
            },
            "type": "choropleth"
           }
          ],
          "contour": [
           {
            "colorbar": {
             "outlinewidth": 0,
             "ticks": ""
            },
            "colorscale": [
             [
              0,
              "#0d0887"
             ],
             [
              0.1111111111111111,
              "#46039f"
             ],
             [
              0.2222222222222222,
              "#7201a8"
             ],
             [
              0.3333333333333333,
              "#9c179e"
             ],
             [
              0.4444444444444444,
              "#bd3786"
             ],
             [
              0.5555555555555556,
              "#d8576b"
             ],
             [
              0.6666666666666666,
              "#ed7953"
             ],
             [
              0.7777777777777778,
              "#fb9f3a"
             ],
             [
              0.8888888888888888,
              "#fdca26"
             ],
             [
              1,
              "#f0f921"
             ]
            ],
            "type": "contour"
           }
          ],
          "contourcarpet": [
           {
            "colorbar": {
             "outlinewidth": 0,
             "ticks": ""
            },
            "type": "contourcarpet"
           }
          ],
          "heatmap": [
           {
            "colorbar": {
             "outlinewidth": 0,
             "ticks": ""
            },
            "colorscale": [
             [
              0,
              "#0d0887"
             ],
             [
              0.1111111111111111,
              "#46039f"
             ],
             [
              0.2222222222222222,
              "#7201a8"
             ],
             [
              0.3333333333333333,
              "#9c179e"
             ],
             [
              0.4444444444444444,
              "#bd3786"
             ],
             [
              0.5555555555555556,
              "#d8576b"
             ],
             [
              0.6666666666666666,
              "#ed7953"
             ],
             [
              0.7777777777777778,
              "#fb9f3a"
             ],
             [
              0.8888888888888888,
              "#fdca26"
             ],
             [
              1,
              "#f0f921"
             ]
            ],
            "type": "heatmap"
           }
          ],
          "heatmapgl": [
           {
            "colorbar": {
             "outlinewidth": 0,
             "ticks": ""
            },
            "colorscale": [
             [
              0,
              "#0d0887"
             ],
             [
              0.1111111111111111,
              "#46039f"
             ],
             [
              0.2222222222222222,
              "#7201a8"
             ],
             [
              0.3333333333333333,
              "#9c179e"
             ],
             [
              0.4444444444444444,
              "#bd3786"
             ],
             [
              0.5555555555555556,
              "#d8576b"
             ],
             [
              0.6666666666666666,
              "#ed7953"
             ],
             [
              0.7777777777777778,
              "#fb9f3a"
             ],
             [
              0.8888888888888888,
              "#fdca26"
             ],
             [
              1,
              "#f0f921"
             ]
            ],
            "type": "heatmapgl"
           }
          ],
          "histogram": [
           {
            "marker": {
             "pattern": {
              "fillmode": "overlay",
              "size": 10,
              "solidity": 0.2
             }
            },
            "type": "histogram"
           }
          ],
          "histogram2d": [
           {
            "colorbar": {
             "outlinewidth": 0,
             "ticks": ""
            },
            "colorscale": [
             [
              0,
              "#0d0887"
             ],
             [
              0.1111111111111111,
              "#46039f"
             ],
             [
              0.2222222222222222,
              "#7201a8"
             ],
             [
              0.3333333333333333,
              "#9c179e"
             ],
             [
              0.4444444444444444,
              "#bd3786"
             ],
             [
              0.5555555555555556,
              "#d8576b"
             ],
             [
              0.6666666666666666,
              "#ed7953"
             ],
             [
              0.7777777777777778,
              "#fb9f3a"
             ],
             [
              0.8888888888888888,
              "#fdca26"
             ],
             [
              1,
              "#f0f921"
             ]
            ],
            "type": "histogram2d"
           }
          ],
          "histogram2dcontour": [
           {
            "colorbar": {
             "outlinewidth": 0,
             "ticks": ""
            },
            "colorscale": [
             [
              0,
              "#0d0887"
             ],
             [
              0.1111111111111111,
              "#46039f"
             ],
             [
              0.2222222222222222,
              "#7201a8"
             ],
             [
              0.3333333333333333,
              "#9c179e"
             ],
             [
              0.4444444444444444,
              "#bd3786"
             ],
             [
              0.5555555555555556,
              "#d8576b"
             ],
             [
              0.6666666666666666,
              "#ed7953"
             ],
             [
              0.7777777777777778,
              "#fb9f3a"
             ],
             [
              0.8888888888888888,
              "#fdca26"
             ],
             [
              1,
              "#f0f921"
             ]
            ],
            "type": "histogram2dcontour"
           }
          ],
          "mesh3d": [
           {
            "colorbar": {
             "outlinewidth": 0,
             "ticks": ""
            },
            "type": "mesh3d"
           }
          ],
          "parcoords": [
           {
            "line": {
             "colorbar": {
              "outlinewidth": 0,
              "ticks": ""
             }
            },
            "type": "parcoords"
           }
          ],
          "pie": [
           {
            "automargin": true,
            "type": "pie"
           }
          ],
          "scatter": [
           {
            "fillpattern": {
             "fillmode": "overlay",
             "size": 10,
             "solidity": 0.2
            },
            "type": "scatter"
           }
          ],
          "scatter3d": [
           {
            "line": {
             "colorbar": {
              "outlinewidth": 0,
              "ticks": ""
             }
            },
            "marker": {
             "colorbar": {
              "outlinewidth": 0,
              "ticks": ""
             }
            },
            "type": "scatter3d"
           }
          ],
          "scattercarpet": [
           {
            "marker": {
             "colorbar": {
              "outlinewidth": 0,
              "ticks": ""
             }
            },
            "type": "scattercarpet"
           }
          ],
          "scattergeo": [
           {
            "marker": {
             "colorbar": {
              "outlinewidth": 0,
              "ticks": ""
             }
            },
            "type": "scattergeo"
           }
          ],
          "scattergl": [
           {
            "marker": {
             "colorbar": {
              "outlinewidth": 0,
              "ticks": ""
             }
            },
            "type": "scattergl"
           }
          ],
          "scattermapbox": [
           {
            "marker": {
             "colorbar": {
              "outlinewidth": 0,
              "ticks": ""
             }
            },
            "type": "scattermapbox"
           }
          ],
          "scatterpolar": [
           {
            "marker": {
             "colorbar": {
              "outlinewidth": 0,
              "ticks": ""
             }
            },
            "type": "scatterpolar"
           }
          ],
          "scatterpolargl": [
           {
            "marker": {
             "colorbar": {
              "outlinewidth": 0,
              "ticks": ""
             }
            },
            "type": "scatterpolargl"
           }
          ],
          "scatterternary": [
           {
            "marker": {
             "colorbar": {
              "outlinewidth": 0,
              "ticks": ""
             }
            },
            "type": "scatterternary"
           }
          ],
          "surface": [
           {
            "colorbar": {
             "outlinewidth": 0,
             "ticks": ""
            },
            "colorscale": [
             [
              0,
              "#0d0887"
             ],
             [
              0.1111111111111111,
              "#46039f"
             ],
             [
              0.2222222222222222,
              "#7201a8"
             ],
             [
              0.3333333333333333,
              "#9c179e"
             ],
             [
              0.4444444444444444,
              "#bd3786"
             ],
             [
              0.5555555555555556,
              "#d8576b"
             ],
             [
              0.6666666666666666,
              "#ed7953"
             ],
             [
              0.7777777777777778,
              "#fb9f3a"
             ],
             [
              0.8888888888888888,
              "#fdca26"
             ],
             [
              1,
              "#f0f921"
             ]
            ],
            "type": "surface"
           }
          ],
          "table": [
           {
            "cells": {
             "fill": {
              "color": "#EBF0F8"
             },
             "line": {
              "color": "white"
             }
            },
            "header": {
             "fill": {
              "color": "#C8D4E3"
             },
             "line": {
              "color": "white"
             }
            },
            "type": "table"
           }
          ]
         },
         "layout": {
          "annotationdefaults": {
           "arrowcolor": "#2a3f5f",
           "arrowhead": 0,
           "arrowwidth": 1
          },
          "autotypenumbers": "strict",
          "coloraxis": {
           "colorbar": {
            "outlinewidth": 0,
            "ticks": ""
           }
          },
          "colorscale": {
           "diverging": [
            [
             0,
             "#8e0152"
            ],
            [
             0.1,
             "#c51b7d"
            ],
            [
             0.2,
             "#de77ae"
            ],
            [
             0.3,
             "#f1b6da"
            ],
            [
             0.4,
             "#fde0ef"
            ],
            [
             0.5,
             "#f7f7f7"
            ],
            [
             0.6,
             "#e6f5d0"
            ],
            [
             0.7,
             "#b8e186"
            ],
            [
             0.8,
             "#7fbc41"
            ],
            [
             0.9,
             "#4d9221"
            ],
            [
             1,
             "#276419"
            ]
           ],
           "sequential": [
            [
             0,
             "#0d0887"
            ],
            [
             0.1111111111111111,
             "#46039f"
            ],
            [
             0.2222222222222222,
             "#7201a8"
            ],
            [
             0.3333333333333333,
             "#9c179e"
            ],
            [
             0.4444444444444444,
             "#bd3786"
            ],
            [
             0.5555555555555556,
             "#d8576b"
            ],
            [
             0.6666666666666666,
             "#ed7953"
            ],
            [
             0.7777777777777778,
             "#fb9f3a"
            ],
            [
             0.8888888888888888,
             "#fdca26"
            ],
            [
             1,
             "#f0f921"
            ]
           ],
           "sequentialminus": [
            [
             0,
             "#0d0887"
            ],
            [
             0.1111111111111111,
             "#46039f"
            ],
            [
             0.2222222222222222,
             "#7201a8"
            ],
            [
             0.3333333333333333,
             "#9c179e"
            ],
            [
             0.4444444444444444,
             "#bd3786"
            ],
            [
             0.5555555555555556,
             "#d8576b"
            ],
            [
             0.6666666666666666,
             "#ed7953"
            ],
            [
             0.7777777777777778,
             "#fb9f3a"
            ],
            [
             0.8888888888888888,
             "#fdca26"
            ],
            [
             1,
             "#f0f921"
            ]
           ]
          },
          "colorway": [
           "#636efa",
           "#EF553B",
           "#00cc96",
           "#ab63fa",
           "#FFA15A",
           "#19d3f3",
           "#FF6692",
           "#B6E880",
           "#FF97FF",
           "#FECB52"
          ],
          "font": {
           "color": "#2a3f5f"
          },
          "geo": {
           "bgcolor": "white",
           "lakecolor": "white",
           "landcolor": "#E5ECF6",
           "showlakes": true,
           "showland": true,
           "subunitcolor": "white"
          },
          "hoverlabel": {
           "align": "left"
          },
          "hovermode": "closest",
          "mapbox": {
           "style": "light"
          },
          "paper_bgcolor": "white",
          "plot_bgcolor": "#E5ECF6",
          "polar": {
           "angularaxis": {
            "gridcolor": "white",
            "linecolor": "white",
            "ticks": ""
           },
           "bgcolor": "#E5ECF6",
           "radialaxis": {
            "gridcolor": "white",
            "linecolor": "white",
            "ticks": ""
           }
          },
          "scene": {
           "xaxis": {
            "backgroundcolor": "#E5ECF6",
            "gridcolor": "white",
            "gridwidth": 2,
            "linecolor": "white",
            "showbackground": true,
            "ticks": "",
            "zerolinecolor": "white"
           },
           "yaxis": {
            "backgroundcolor": "#E5ECF6",
            "gridcolor": "white",
            "gridwidth": 2,
            "linecolor": "white",
            "showbackground": true,
            "ticks": "",
            "zerolinecolor": "white"
           },
           "zaxis": {
            "backgroundcolor": "#E5ECF6",
            "gridcolor": "white",
            "gridwidth": 2,
            "linecolor": "white",
            "showbackground": true,
            "ticks": "",
            "zerolinecolor": "white"
           }
          },
          "shapedefaults": {
           "line": {
            "color": "#2a3f5f"
           }
          },
          "ternary": {
           "aaxis": {
            "gridcolor": "white",
            "linecolor": "white",
            "ticks": ""
           },
           "baxis": {
            "gridcolor": "white",
            "linecolor": "white",
            "ticks": ""
           },
           "bgcolor": "#E5ECF6",
           "caxis": {
            "gridcolor": "white",
            "linecolor": "white",
            "ticks": ""
           }
          },
          "title": {
           "x": 0.05
          },
          "xaxis": {
           "automargin": true,
           "gridcolor": "white",
           "linecolor": "white",
           "ticks": "",
           "title": {
            "standoff": 15
           },
           "zerolinecolor": "white",
           "zerolinewidth": 2
          },
          "yaxis": {
           "automargin": true,
           "gridcolor": "white",
           "linecolor": "white",
           "ticks": "",
           "title": {
            "standoff": 15
           },
           "zerolinecolor": "white",
           "zerolinewidth": 2
          }
         }
        },
        "title": {
         "font": {
          "family": "Gulliver",
          "size": 40
         },
         "text": "ROC Curves before SMOTE",
         "x": 0.5
        },
        "width": 1200,
        "xaxis": {
         "title": {
          "font": {
           "family": "Gulliver",
           "size": 24
          },
          "text": "False Positive Rate"
         }
        },
        "yaxis": {
         "title": {
          "font": {
           "family": "Gulliver",
           "size": 24
          },
          "text": "True Positive Rate"
         }
        }
       }
      }
     },
     "metadata": {},
     "output_type": "display_data"
    }
   ],
   "source": [
    "y_pred_proba = model.predict_proba(x_test_white)\n",
    "\n",
    "y_test_bin = label_binarize(y_test_white, classes = model.classes_)\n",
    "\n",
    "fpr = dict()\n",
    "tpr = dict()\n",
    "roc_auc = dict()\n",
    "\n",
    "for i in range(len(model.classes_)):\n",
    "    fpr[i], tpr[i], _ = roc_curve(y_test_bin[:, i], y_pred_proba[:, i])\n",
    "    roc_auc[i] = auc(fpr[i], tpr[i])\n",
    "\n",
    "fpr[\"micro\"], tpr[\"micro\"], _ = roc_curve(y_test_bin.ravel(), y_pred_proba.ravel())\n",
    "roc_auc[\"micro\"] = auc(fpr[\"micro\"], tpr[\"micro\"])\n",
    "\n",
    "fig = go.Figure()\n",
    "class_names = [\"3\", \"4\", \"5\", \"6\", \"7\", \"8\", \"9\"]\n",
    "\n",
    "for i in range(len(class_names)):\n",
    "    fig.add_trace(\n",
    "        go.Scatter(\n",
    "            x = fpr[i], y = tpr[i],\n",
    "            mode = 'lines',\n",
    "            line = dict(width = 2),\n",
    "            name = 'ROC curve of class {} (AUC = {:.2f})'.format(class_names[i], roc_auc[i])\n",
    "        )\n",
    "    )\n",
    "\n",
    "fig.add_trace(\n",
    "    go.Scatter(\n",
    "        x = [0, 1], y = [0, 1],\n",
    "        mode = 'lines',\n",
    "        line = dict(color = 'navy', width = 2, dash = 'dash'),\n",
    "        showlegend = False\n",
    "    )\n",
    ")\n",
    "\n",
    "fig.update_layout(\n",
    "    title = {\n",
    "        'text': 'ROC Curves before SMOTE',\n",
    "        'x': 0.5,\n",
    "        'font': {\n",
    "            'size': 40, 'family': 'Gulliver'\n",
    "        }\n",
    "    },\n",
    "    xaxis_title = {\n",
    "        'text': 'False Positive Rate',\n",
    "        'font': {\n",
    "            'size': 24, 'family': 'Gulliver'\n",
    "        }\n",
    "    },\n",
    "    yaxis_title = {\n",
    "        'text': 'True Positive Rate',\n",
    "        'font': {\n",
    "            'size': 24, 'family': 'Gulliver'\n",
    "        }\n",
    "    },\n",
    "    width = 1200, height = 800,\n",
    "    legend = dict(x = 0.7, y = 0.1),\n",
    ")\n",
    "\n",
    "fig.show()"
   ]
  },
  {
   "attachments": {},
   "cell_type": "markdown",
   "metadata": {},
   "source": [
    "---"
   ]
  },
  {
   "attachments": {},
   "cell_type": "markdown",
   "metadata": {},
   "source": [
    "## Upsample By SMOTE"
   ]
  },
  {
   "cell_type": "code",
   "execution_count": 85,
   "metadata": {},
   "outputs": [],
   "source": [
    "smt = SMOTE(sampling_strategy = 'auto')\n",
    "\n",
    "X = red.drop(['quality', 'density'], axis = 1)\n",
    "y = red.quality\n",
    "X, y = smt.fit_resample(X, y)\n",
    "\n",
    "x_train_red, x_test_red, y_train_red, y_test_red = train_test_split(X, y, shuffle = True, random_state = 42)"
   ]
  },
  {
   "cell_type": "code",
   "execution_count": 86,
   "metadata": {},
   "outputs": [
    {
     "name": "stdout",
     "output_type": "stream",
     "text": [
      "Best parameters: {'C': 1000.0, 'gamma': 10.0, 'kernel': 'rbf'}\n",
      "Best score: 0.8404290848802795\n"
     ]
    }
   ],
   "source": [
    "model = SVC()\n",
    "\n",
    "params = {\n",
    "        'C': np.logspace(-3, 3, num = 7, base = 10),\n",
    "        'kernel': ['rbf', 'sigmoid'],\n",
    "        'gamma': np.logspace(-3, 3, num = 7, base = 10),  \n",
    "    }\n",
    "\n",
    "grid_search = GridSearchCV(model, param_grid = params, cv = kf, n_jobs = -1)\n",
    "grid_search.fit(X, y)\n",
    "\n",
    "print(\"Best parameters:\", grid_search.best_params_)\n",
    "print(\"Best score:\", grid_search.best_score_)"
   ]
  },
  {
   "cell_type": "code",
   "execution_count": 88,
   "metadata": {},
   "outputs": [],
   "source": [
    "smt = SMOTE(sampling_strategy = 'auto', k_neighbors = 3)\n",
    "\n",
    "X = white.drop(['quality', 'density'], axis = 1)\n",
    "y = white.quality\n",
    "X, y = smt.fit_resample(X, y)\n",
    "\n",
    "x_train_white, x_test_white, y_train_white, y_test_white = train_test_split(X, y, shuffle = True, random_state = 42)"
   ]
  },
  {
   "cell_type": "code",
   "execution_count": 89,
   "metadata": {},
   "outputs": [
    {
     "name": "stdout",
     "output_type": "stream",
     "text": [
      "Best parameters: {'C': 1000.0, 'gamma': 1.0, 'kernel': 'rbf'}\n",
      "Best score: 0.8793708503616194\n"
     ]
    }
   ],
   "source": [
    "model = SVC()\n",
    "\n",
    "params = {\n",
    "        'C': np.logspace(-3, 3, num = 7, base = 10),\n",
    "        'kernel': ['rbf', 'sigmoid'],\n",
    "        'gamma': np.logspace(-3, 3, num = 7, base = 10),  \n",
    "    }\n",
    "\n",
    "grid_search = GridSearchCV(model, param_grid = params, cv = kf, n_jobs = -1)\n",
    "grid_search.fit(X, y)\n",
    "\n",
    "print(\"Best parameters:\", grid_search.best_params_)\n",
    "print(\"Best score:\", grid_search.best_score_)"
   ]
  },
  {
   "cell_type": "code",
   "execution_count": 84,
   "metadata": {},
   "outputs": [
    {
     "data": {
      "text/plain": [
       "6    2198\n",
       "5    2198\n",
       "7    2198\n",
       "8    2198\n",
       "4    2198\n",
       "3    2198\n",
       "9    2198\n",
       "Name: quality, dtype: int64"
      ]
     },
     "execution_count": 84,
     "metadata": {},
     "output_type": "execute_result"
    }
   ],
   "source": [
    "y.value_counts()"
   ]
  },
  {
   "cell_type": "code",
   "execution_count": 16,
   "metadata": {},
   "outputs": [
    {
     "name": "stdout",
     "output_type": "stream",
     "text": [
      "[10/10] features ████████████████████ Time elapsed: 1 seconds"
     ]
    },
    {
     "data": {
      "text/plain": [
       "Text(0.5, 1.0, 'Feature importance After SMOTE')"
      ]
     },
     "execution_count": 16,
     "metadata": {},
     "output_type": "execute_result"
    },
    {
     "data": {
      "image/png": "[encoded data removed]",
      "text/plain": [
       "<Figure size 640x480 with 1 Axes>"
      ]
     },
     "metadata": {},
     "output_type": "display_data"
    }
   ],
   "source": [
    "clf = SVC(probability = True, C = 10, gamma = 100, kernel = 'rbf')\n",
    "model = clf.fit(x_train_red, y_train_red)\n",
    "y_pred_red = model.predict(x_test_red)\n",
    "\n",
    "interpreter = Interpretation(\n",
    "    x_test_red, feature_names = red.drop(['quality', 'density'], axis = 1).columns\n",
    ")\n",
    "\n",
    "pyint_model = InMemoryModel(\n",
    "            clf.predict_proba,\n",
    "            examples = x_train_red\n",
    "        )\n",
    "\n",
    "plots = interpreter.feature_importance.plot_feature_importance(pyint_model, ascending = False, progressbar = True)\n",
    "plt.title('Feature importance After SMOTE')"
   ]
  },
  {
   "cell_type": "code",
   "execution_count": 13,
   "metadata": {},
   "outputs": [],
   "source": [
    "# clf = SVC(probability = True)\n",
    "# pca = PCA(n_components = 2)\n",
    "\n",
    "# x_train_pca = pca.fit_transform(x_train_red)\n",
    "# x_test_pca = pca.transform(x_test_red)\n",
    "\n",
    "# plot_decision_regions(x_train_pca, y_train_red.values, clf = clf.fit(x_train_pca, y_train_red.values))\n",
    "# plt.title('Decision Region')\n",
    "# plt.show()"
   ]
  },
  {
   "cell_type": "code",
   "execution_count": 14,
   "metadata": {},
   "outputs": [],
   "source": [
    "# clf = SVC(probability = True)\n",
    "# pca = PCA(n_components = 2)\n",
    "\n",
    "# x_train_pca = pca.fit_transform(x_train_white)\n",
    "# x_test_pca = pca.transform(x_test_white)\n",
    "\n",
    "# plot_decision_regions(x_train_pca, y_train_white.values, clf = clf.fit(x_train_pca, y_train_white.values))\n",
    "# plt.title('Decision Region')\n",
    "# plt.show()"
   ]
  },
  {
   "cell_type": "code",
   "execution_count": null,
   "metadata": {},
   "outputs": [
    {
     "name": "stdout",
     "output_type": "stream",
     "text": [
      "Acurracy:  82.3875 %\n",
      "Precision: 81.8389 %\n",
      "Recall: 82.3875 %\n",
      "f1: 81.8673 %\n"
     ]
    },
    {
     "data": {
      "text/html": [
       "<div>\n",
       "<style scoped>\n",
       "    .dataframe tbody tr th:only-of-type {\n",
       "        vertical-align: middle;\n",
       "    }\n",
       "\n",
       "    .dataframe tbody tr th {\n",
       "        vertical-align: top;\n",
       "    }\n",
       "\n",
       "    .dataframe thead th {\n",
       "        text-align: right;\n",
       "    }\n",
       "</style>\n",
       "<table border=\"1\" class=\"dataframe\">\n",
       "  <thead>\n",
       "    <tr style=\"text-align: right;\">\n",
       "      <th></th>\n",
       "      <th>3</th>\n",
       "      <th>4</th>\n",
       "      <th>5</th>\n",
       "      <th>6</th>\n",
       "      <th>7</th>\n",
       "      <th>8</th>\n",
       "    </tr>\n",
       "  </thead>\n",
       "  <tbody>\n",
       "    <tr>\n",
       "      <th>3</th>\n",
       "      <td>0.969697</td>\n",
       "      <td>0.000000</td>\n",
       "      <td>0.006061</td>\n",
       "      <td>0.024242</td>\n",
       "      <td>0.000000</td>\n",
       "      <td>0.000000</td>\n",
       "    </tr>\n",
       "    <tr>\n",
       "      <th>4</th>\n",
       "      <td>0.000000</td>\n",
       "      <td>0.933333</td>\n",
       "      <td>0.036364</td>\n",
       "      <td>0.024242</td>\n",
       "      <td>0.006061</td>\n",
       "      <td>0.000000</td>\n",
       "    </tr>\n",
       "    <tr>\n",
       "      <th>5</th>\n",
       "      <td>0.016216</td>\n",
       "      <td>0.043243</td>\n",
       "      <td>0.735135</td>\n",
       "      <td>0.167568</td>\n",
       "      <td>0.027027</td>\n",
       "      <td>0.010811</td>\n",
       "    </tr>\n",
       "    <tr>\n",
       "      <th>6</th>\n",
       "      <td>0.025907</td>\n",
       "      <td>0.041451</td>\n",
       "      <td>0.264249</td>\n",
       "      <td>0.523316</td>\n",
       "      <td>0.098446</td>\n",
       "      <td>0.046632</td>\n",
       "    </tr>\n",
       "    <tr>\n",
       "      <th>7</th>\n",
       "      <td>0.000000</td>\n",
       "      <td>0.006803</td>\n",
       "      <td>0.020408</td>\n",
       "      <td>0.034014</td>\n",
       "      <td>0.911565</td>\n",
       "      <td>0.027211</td>\n",
       "    </tr>\n",
       "    <tr>\n",
       "      <th>8</th>\n",
       "      <td>0.000000</td>\n",
       "      <td>0.000000</td>\n",
       "      <td>0.017964</td>\n",
       "      <td>0.023952</td>\n",
       "      <td>0.017964</td>\n",
       "      <td>0.940120</td>\n",
       "    </tr>\n",
       "  </tbody>\n",
       "</table>\n",
       "</div>"
      ],
      "text/plain": [
       "          3         4         5         6         7         8\n",
       "3  0.969697  0.000000  0.006061  0.024242  0.000000  0.000000\n",
       "4  0.000000  0.933333  0.036364  0.024242  0.006061  0.000000\n",
       "5  0.016216  0.043243  0.735135  0.167568  0.027027  0.010811\n",
       "6  0.025907  0.041451  0.264249  0.523316  0.098446  0.046632\n",
       "7  0.000000  0.006803  0.020408  0.034014  0.911565  0.027211\n",
       "8  0.000000  0.000000  0.017964  0.023952  0.017964  0.940120"
      ]
     },
     "execution_count": 81,
     "metadata": {},
     "output_type": "execute_result"
    }
   ],
   "source": [
    "acu = metrics.accuracy_score(y_test_red, y_pred_red)\n",
    "pre_class, r_class, f_class, sup = metrics.precision_recall_fscore_support(y_test_red, y_pred_red, average = 'weighted')\n",
    "\n",
    "print(\"Acurracy: \", round(acu * 100, 4), '%')\n",
    "print('Precision:', round(pre_class * 100, 4), '%')\n",
    "print('Recall:', round(r_class * 100, 4), '%')\n",
    "print('f1:', round(f_class * 100, 4), '%')\n",
    "\n",
    "labels = list(range(3, 9))\n",
    "\n",
    "cm = metrics.confusion_matrix(y_test_red, y_pred_red, labels = labels)\n",
    "cm_norm = cm.astype('float') / cm.sum(axis=1)[:, np.newaxis] # normalize confusion matrix\n",
    "cm_norm = pd.DataFrame(cm_norm, index = labels, columns = labels)\n",
    "cm_norm"
   ]
  },
  {
   "cell_type": "code",
   "execution_count": null,
   "metadata": {},
   "outputs": [
    {
     "data": {
      "application/vnd.plotly.v1+json": {
       "config": {
        "plotlyServerURL": "https://plotly.com"
       },
       "data": [
        {
         "colorscale": [
          [
           0,
           "blue"
          ],
          [
           1,
           "red"
          ]
         ],
         "text": [
          [
           0.97,
           0,
           0.01,
           0.02,
           0,
           0
          ],
          [
           0,
           0.93,
           0.04,
           0.02,
           0.01,
           0
          ],
          [
           0.02,
           0.04,
           0.74,
           0.17,
           0.03,
           0.01
          ],
          [
           0.03,
           0.04,
           0.26,
           0.52,
           0.1,
           0.05
          ],
          [
           0,
           0.01,
           0.02,
           0.03,
           0.91,
           0.03
          ],
          [
           0,
           0,
           0.02,
           0.02,
           0.02,
           0.94
          ]
         ],
         "type": "heatmap",
         "x": [
          3,
          4,
          5,
          6,
          7,
          8
         ],
         "y": [
          3,
          4,
          5,
          6,
          7,
          8
         ],
         "z": [
          [
           0.9696969696969697,
           0,
           0.006060606060606061,
           0.024242424242424242,
           0,
           0
          ],
          [
           0,
           0.9333333333333333,
           0.03636363636363636,
           0.024242424242424242,
           0.006060606060606061,
           0
          ],
          [
           0.016216216216216217,
           0.043243243243243246,
           0.7351351351351352,
           0.16756756756756758,
           0.02702702702702703,
           0.010810810810810811
          ],
          [
           0.025906735751295335,
           0.04145077720207254,
           0.26424870466321243,
           0.5233160621761658,
           0.09844559585492228,
           0.046632124352331605
          ],
          [
           0,
           0.006802721088435374,
           0.02040816326530612,
           0.034013605442176874,
           0.9115646258503401,
           0.027210884353741496
          ],
          [
           0,
           0,
           0.017964071856287425,
           0.023952095808383235,
           0.017964071856287425,
           0.9401197604790419
          ]
         ],
         "zmax": 1,
         "zmin": 0
        }
       ],
       "layout": {
        "height": 600,
        "template": {
         "data": {
          "bar": [
           {
            "error_x": {
             "color": "#2a3f5f"
            },
            "error_y": {
             "color": "#2a3f5f"
            },
            "marker": {
             "line": {
              "color": "#E5ECF6",
              "width": 0.5
             },
             "pattern": {
              "fillmode": "overlay",
              "size": 10,
              "solidity": 0.2
             }
            },
            "type": "bar"
           }
          ],
          "barpolar": [
           {
            "marker": {
             "line": {
              "color": "#E5ECF6",
              "width": 0.5
             },
             "pattern": {
              "fillmode": "overlay",
              "size": 10,
              "solidity": 0.2
             }
            },
            "type": "barpolar"
           }
          ],
          "carpet": [
           {
            "aaxis": {
             "endlinecolor": "#2a3f5f",
             "gridcolor": "white",
             "linecolor": "white",
             "minorgridcolor": "white",
             "startlinecolor": "#2a3f5f"
            },
            "baxis": {
             "endlinecolor": "#2a3f5f",
             "gridcolor": "white",
             "linecolor": "white",
             "minorgridcolor": "white",
             "startlinecolor": "#2a3f5f"
            },
            "type": "carpet"
           }
          ],
          "choropleth": [
           {
            "colorbar": {
             "outlinewidth": 0,
             "ticks": ""
            },
            "type": "choropleth"
           }
          ],
          "contour": [
           {
            "colorbar": {
             "outlinewidth": 0,
             "ticks": ""
            },
            "colorscale": [
             [
              0,
              "#0d0887"
             ],
             [
              0.1111111111111111,
              "#46039f"
             ],
             [
              0.2222222222222222,
              "#7201a8"
             ],
             [
              0.3333333333333333,
              "#9c179e"
             ],
             [
              0.4444444444444444,
              "#bd3786"
             ],
             [
              0.5555555555555556,
              "#d8576b"
             ],
             [
              0.6666666666666666,
              "#ed7953"
             ],
             [
              0.7777777777777778,
              "#fb9f3a"
             ],
             [
              0.8888888888888888,
              "#fdca26"
             ],
             [
              1,
              "#f0f921"
             ]
            ],
            "type": "contour"
           }
          ],
          "contourcarpet": [
           {
            "colorbar": {
             "outlinewidth": 0,
             "ticks": ""
            },
            "type": "contourcarpet"
           }
          ],
          "heatmap": [
           {
            "colorbar": {
             "outlinewidth": 0,
             "ticks": ""
            },
            "colorscale": [
             [
              0,
              "#0d0887"
             ],
             [
              0.1111111111111111,
              "#46039f"
             ],
             [
              0.2222222222222222,
              "#7201a8"
             ],
             [
              0.3333333333333333,
              "#9c179e"
             ],
             [
              0.4444444444444444,
              "#bd3786"
             ],
             [
              0.5555555555555556,
              "#d8576b"
             ],
             [
              0.6666666666666666,
              "#ed7953"
             ],
             [
              0.7777777777777778,
              "#fb9f3a"
             ],
             [
              0.8888888888888888,
              "#fdca26"
             ],
             [
              1,
              "#f0f921"
             ]
            ],
            "type": "heatmap"
           }
          ],
          "heatmapgl": [
           {
            "colorbar": {
             "outlinewidth": 0,
             "ticks": ""
            },
            "colorscale": [
             [
              0,
              "#0d0887"
             ],
             [
              0.1111111111111111,
              "#46039f"
             ],
             [
              0.2222222222222222,
              "#7201a8"
             ],
             [
              0.3333333333333333,
              "#9c179e"
             ],
             [
              0.4444444444444444,
              "#bd3786"
             ],
             [
              0.5555555555555556,
              "#d8576b"
             ],
             [
              0.6666666666666666,
              "#ed7953"
             ],
             [
              0.7777777777777778,
              "#fb9f3a"
             ],
             [
              0.8888888888888888,
              "#fdca26"
             ],
             [
              1,
              "#f0f921"
             ]
            ],
            "type": "heatmapgl"
           }
          ],
          "histogram": [
           {
            "marker": {
             "pattern": {
              "fillmode": "overlay",
              "size": 10,
              "solidity": 0.2
             }
            },
            "type": "histogram"
           }
          ],
          "histogram2d": [
           {
            "colorbar": {
             "outlinewidth": 0,
             "ticks": ""
            },
            "colorscale": [
             [
              0,
              "#0d0887"
             ],
             [
              0.1111111111111111,
              "#46039f"
             ],
             [
              0.2222222222222222,
              "#7201a8"
             ],
             [
              0.3333333333333333,
              "#9c179e"
             ],
             [
              0.4444444444444444,
              "#bd3786"
             ],
             [
              0.5555555555555556,
              "#d8576b"
             ],
             [
              0.6666666666666666,
              "#ed7953"
             ],
             [
              0.7777777777777778,
              "#fb9f3a"
             ],
             [
              0.8888888888888888,
              "#fdca26"
             ],
             [
              1,
              "#f0f921"
             ]
            ],
            "type": "histogram2d"
           }
          ],
          "histogram2dcontour": [
           {
            "colorbar": {
             "outlinewidth": 0,
             "ticks": ""
            },
            "colorscale": [
             [
              0,
              "#0d0887"
             ],
             [
              0.1111111111111111,
              "#46039f"
             ],
             [
              0.2222222222222222,
              "#7201a8"
             ],
             [
              0.3333333333333333,
              "#9c179e"
             ],
             [
              0.4444444444444444,
              "#bd3786"
             ],
             [
              0.5555555555555556,
              "#d8576b"
             ],
             [
              0.6666666666666666,
              "#ed7953"
             ],
             [
              0.7777777777777778,
              "#fb9f3a"
             ],
             [
              0.8888888888888888,
              "#fdca26"
             ],
             [
              1,
              "#f0f921"
             ]
            ],
            "type": "histogram2dcontour"
           }
          ],
          "mesh3d": [
           {
            "colorbar": {
             "outlinewidth": 0,
             "ticks": ""
            },
            "type": "mesh3d"
           }
          ],
          "parcoords": [
           {
            "line": {
             "colorbar": {
              "outlinewidth": 0,
              "ticks": ""
             }
            },
            "type": "parcoords"
           }
          ],
          "pie": [
           {
            "automargin": true,
            "type": "pie"
           }
          ],
          "scatter": [
           {
            "fillpattern": {
             "fillmode": "overlay",
             "size": 10,
             "solidity": 0.2
            },
            "type": "scatter"
           }
          ],
          "scatter3d": [
           {
            "line": {
             "colorbar": {
              "outlinewidth": 0,
              "ticks": ""
             }
            },
            "marker": {
             "colorbar": {
              "outlinewidth": 0,
              "ticks": ""
             }
            },
            "type": "scatter3d"
           }
          ],
          "scattercarpet": [
           {
            "marker": {
             "colorbar": {
              "outlinewidth": 0,
              "ticks": ""
             }
            },
            "type": "scattercarpet"
           }
          ],
          "scattergeo": [
           {
            "marker": {
             "colorbar": {
              "outlinewidth": 0,
              "ticks": ""
             }
            },
            "type": "scattergeo"
           }
          ],
          "scattergl": [
           {
            "marker": {
             "colorbar": {
              "outlinewidth": 0,
              "ticks": ""
             }
            },
            "type": "scattergl"
           }
          ],
          "scattermapbox": [
           {
            "marker": {
             "colorbar": {
              "outlinewidth": 0,
              "ticks": ""
             }
            },
            "type": "scattermapbox"
           }
          ],
          "scatterpolar": [
           {
            "marker": {
             "colorbar": {
              "outlinewidth": 0,
              "ticks": ""
             }
            },
            "type": "scatterpolar"
           }
          ],
          "scatterpolargl": [
           {
            "marker": {
             "colorbar": {
              "outlinewidth": 0,
              "ticks": ""
             }
            },
            "type": "scatterpolargl"
           }
          ],
          "scatterternary": [
           {
            "marker": {
             "colorbar": {
              "outlinewidth": 0,
              "ticks": ""
             }
            },
            "type": "scatterternary"
           }
          ],
          "surface": [
           {
            "colorbar": {
             "outlinewidth": 0,
             "ticks": ""
            },
            "colorscale": [
             [
              0,
              "#0d0887"
             ],
             [
              0.1111111111111111,
              "#46039f"
             ],
             [
              0.2222222222222222,
              "#7201a8"
             ],
             [
              0.3333333333333333,
              "#9c179e"
             ],
             [
              0.4444444444444444,
              "#bd3786"
             ],
             [
              0.5555555555555556,
              "#d8576b"
             ],
             [
              0.6666666666666666,
              "#ed7953"
             ],
             [
              0.7777777777777778,
              "#fb9f3a"
             ],
             [
              0.8888888888888888,
              "#fdca26"
             ],
             [
              1,
              "#f0f921"
             ]
            ],
            "type": "surface"
           }
          ],
          "table": [
           {
            "cells": {
             "fill": {
              "color": "#EBF0F8"
             },
             "line": {
              "color": "white"
             }
            },
            "header": {
             "fill": {
              "color": "#C8D4E3"
             },
             "line": {
              "color": "white"
             }
            },
            "type": "table"
           }
          ]
         },
         "layout": {
          "annotationdefaults": {
           "arrowcolor": "#2a3f5f",
           "arrowhead": 0,
           "arrowwidth": 1
          },
          "autotypenumbers": "strict",
          "coloraxis": {
           "colorbar": {
            "outlinewidth": 0,
            "ticks": ""
           }
          },
          "colorscale": {
           "diverging": [
            [
             0,
             "#8e0152"
            ],
            [
             0.1,
             "#c51b7d"
            ],
            [
             0.2,
             "#de77ae"
            ],
            [
             0.3,
             "#f1b6da"
            ],
            [
             0.4,
             "#fde0ef"
            ],
            [
             0.5,
             "#f7f7f7"
            ],
            [
             0.6,
             "#e6f5d0"
            ],
            [
             0.7,
             "#b8e186"
            ],
            [
             0.8,
             "#7fbc41"
            ],
            [
             0.9,
             "#4d9221"
            ],
            [
             1,
             "#276419"
            ]
           ],
           "sequential": [
            [
             0,
             "#0d0887"
            ],
            [
             0.1111111111111111,
             "#46039f"
            ],
            [
             0.2222222222222222,
             "#7201a8"
            ],
            [
             0.3333333333333333,
             "#9c179e"
            ],
            [
             0.4444444444444444,
             "#bd3786"
            ],
            [
             0.5555555555555556,
             "#d8576b"
            ],
            [
             0.6666666666666666,
             "#ed7953"
            ],
            [
             0.7777777777777778,
             "#fb9f3a"
            ],
            [
             0.8888888888888888,
             "#fdca26"
            ],
            [
             1,
             "#f0f921"
            ]
           ],
           "sequentialminus": [
            [
             0,
             "#0d0887"
            ],
            [
             0.1111111111111111,
             "#46039f"
            ],
            [
             0.2222222222222222,
             "#7201a8"
            ],
            [
             0.3333333333333333,
             "#9c179e"
            ],
            [
             0.4444444444444444,
             "#bd3786"
            ],
            [
             0.5555555555555556,
             "#d8576b"
            ],
            [
             0.6666666666666666,
             "#ed7953"
            ],
            [
             0.7777777777777778,
             "#fb9f3a"
            ],
            [
             0.8888888888888888,
             "#fdca26"
            ],
            [
             1,
             "#f0f921"
            ]
           ]
          },
          "colorway": [
           "#636efa",
           "#EF553B",
           "#00cc96",
           "#ab63fa",
           "#FFA15A",
           "#19d3f3",
           "#FF6692",
           "#B6E880",
           "#FF97FF",
           "#FECB52"
          ],
          "font": {
           "color": "#2a3f5f"
          },
          "geo": {
           "bgcolor": "white",
           "lakecolor": "white",
           "landcolor": "#E5ECF6",
           "showlakes": true,
           "showland": true,
           "subunitcolor": "white"
          },
          "hoverlabel": {
           "align": "left"
          },
          "hovermode": "closest",
          "mapbox": {
           "style": "light"
          },
          "paper_bgcolor": "white",
          "plot_bgcolor": "#E5ECF6",
          "polar": {
           "angularaxis": {
            "gridcolor": "white",
            "linecolor": "white",
            "ticks": ""
           },
           "bgcolor": "#E5ECF6",
           "radialaxis": {
            "gridcolor": "white",
            "linecolor": "white",
            "ticks": ""
           }
          },
          "scene": {
           "xaxis": {
            "backgroundcolor": "#E5ECF6",
            "gridcolor": "white",
            "gridwidth": 2,
            "linecolor": "white",
            "showbackground": true,
            "ticks": "",
            "zerolinecolor": "white"
           },
           "yaxis": {
            "backgroundcolor": "#E5ECF6",
            "gridcolor": "white",
            "gridwidth": 2,
            "linecolor": "white",
            "showbackground": true,
            "ticks": "",
            "zerolinecolor": "white"
           },
           "zaxis": {
            "backgroundcolor": "#E5ECF6",
            "gridcolor": "white",
            "gridwidth": 2,
            "linecolor": "white",
            "showbackground": true,
            "ticks": "",
            "zerolinecolor": "white"
           }
          },
          "shapedefaults": {
           "line": {
            "color": "#2a3f5f"
           }
          },
          "ternary": {
           "aaxis": {
            "gridcolor": "white",
            "linecolor": "white",
            "ticks": ""
           },
           "baxis": {
            "gridcolor": "white",
            "linecolor": "white",
            "ticks": ""
           },
           "bgcolor": "#E5ECF6",
           "caxis": {
            "gridcolor": "white",
            "linecolor": "white",
            "ticks": ""
           }
          },
          "title": {
           "x": 0.05
          },
          "xaxis": {
           "automargin": true,
           "gridcolor": "white",
           "linecolor": "white",
           "ticks": "",
           "title": {
            "standoff": 15
           },
           "zerolinecolor": "white",
           "zerolinewidth": 2
          },
          "yaxis": {
           "automargin": true,
           "gridcolor": "white",
           "linecolor": "white",
           "ticks": "",
           "title": {
            "standoff": 15
           },
           "zerolinecolor": "white",
           "zerolinewidth": 2
          }
         }
        },
        "title": {
         "font": {
          "family": "Gulliver",
          "size": 40
         },
         "text": "Confusion matrix after SMOTE",
         "x": 0.5
        },
        "width": 600,
        "xaxis": {
         "tickfont": {
          "size": 16
         },
         "title": {
          "font": {
           "family": "Gulliver",
           "size": 20
          },
          "text": "Predicted"
         }
        },
        "yaxis": {
         "tickfont": {
          "size": 16
         },
         "title": {
          "font": {
           "family": "Gulliver",
           "size": 20
          },
          "text": "Actual"
         }
        }
       }
      }
     },
     "metadata": {},
     "output_type": "display_data"
    }
   ],
   "source": [
    "fig = go.Figure(\n",
    "    data = go.Heatmap(\n",
    "        z = cm_norm,\n",
    "        x = labels,\n",
    "        y = labels,\n",
    "        zmin = 0,\n",
    "        zmax = 1,\n",
    "        colorscale = [\n",
    "            [0, 'blue'],\n",
    "            [1, 'red']\n",
    "        ],\n",
    "        text = cm_norm.values.round(2)\n",
    "    ),\n",
    "    layout = go.Layout(\n",
    "        title = {\n",
    "            'text': 'Confusion matrix after SMOTE',\n",
    "            'font': {'size': 40, 'family': \"Gulliver\"},\n",
    "            'x': 0.5\n",
    "        },\n",
    "        yaxis_title = {\n",
    "            'font': {'size': 20, 'family': \"Gulliver\"},\n",
    "            'text': 'Actual'\n",
    "        },\n",
    "        xaxis_title = {\n",
    "            'font': {'size': 20, 'family': \"Gulliver\"},\n",
    "            'text': 'Predicted'\n",
    "        },\n",
    "        width = 600,\n",
    "        height = 600\n",
    "    )\n",
    ")\n",
    "\n",
    "fig.update_xaxes(tickfont=dict(size = 16))\n",
    "fig.update_yaxes(tickfont=dict(size = 16))\n",
    "\n",
    "fig.show()"
   ]
  },
  {
   "attachments": {},
   "cell_type": "markdown",
   "metadata": {},
   "source": [
    "### ROC for Red wine"
   ]
  },
  {
   "cell_type": "code",
   "execution_count": null,
   "metadata": {},
   "outputs": [],
   "source": [
    "y_pred_proba = model.predict_proba(x_test_red)\n",
    "\n",
    "y_test_bin = label_binarize(y_test_red, classes = model.classes_)\n",
    "\n",
    "fpr = dict()\n",
    "tpr = dict()\n",
    "roc_auc = dict()\n",
    "\n",
    "for i in range(len(model.classes_)):\n",
    "    fpr[i], tpr[i], _ = roc_curve(y_test_bin[:, i], y_pred_proba[:, i])\n",
    "    roc_auc[i] = auc(fpr[i], tpr[i])\n",
    "\n",
    "fpr[\"micro\"], tpr[\"micro\"], _ = roc_curve(y_test_bin.ravel(), y_pred_proba.ravel())\n",
    "roc_auc[\"micro\"] = auc(fpr[\"micro\"], tpr[\"micro\"])\n",
    "\n",
    "fig = go.Figure()\n",
    "class_names = [\"3\", \"4\", \"5\", \"6\", \"7\", \"8\"]\n",
    "\n",
    "for i in range(len(class_names)):\n",
    "    fig.add_trace(\n",
    "        go.Scatter(\n",
    "            x = fpr[i], y = tpr[i],\n",
    "            mode = 'lines',\n",
    "            line = dict(width = 2),\n",
    "            name = 'ROC curve of class {} (AUC = {:.2f})'.format(class_names[i], roc_auc[i])\n",
    "        )\n",
    "    )\n",
    "\n",
    "fig.add_trace(\n",
    "    go.Scatter(\n",
    "        x = [0, 1], y = [0, 1],\n",
    "        mode = 'lines',\n",
    "        line = dict(color = 'navy', width = 2, dash = 'dash'),\n",
    "        showlegend = False\n",
    "    )\n",
    ")\n",
    "\n",
    "fig.update_layout(\n",
    "    title = {\n",
    "        'text': 'ROC Curves after SMOTE',\n",
    "        'x': 0.5,\n",
    "        'font': {\n",
    "            'size': 40, 'family': 'Gulliver'\n",
    "        }\n",
    "    },\n",
    "    xaxis_title = {\n",
    "        'text': 'False Positive Rate',\n",
    "        'font': {\n",
    "            'size': 24, 'family': 'Gulliver'\n",
    "        }\n",
    "    },\n",
    "    yaxis_title = {\n",
    "        'text': 'True Positive Rate',\n",
    "        'font': {\n",
    "            'size': 24, 'family': 'Gulliver'\n",
    "        }\n",
    "    },\n",
    "    width = 1200, height = 800,\n",
    "    legend = dict(x = 0.7, y = 0.1),\n",
    ")\n",
    "\n",
    "fig.show()"
   ]
  },
  {
   "attachments": {},
   "cell_type": "markdown",
   "metadata": {},
   "source": [
    "### Model Complexity"
   ]
  },
  {
   "cell_type": "code",
   "execution_count": 66,
   "metadata": {},
   "outputs": [
    {
     "data": {
      "application/vnd.plotly.v1+json": {
       "config": {
        "plotlyServerURL": "https://plotly.com"
       },
       "data": [
        {
         "colorscale": [
          [
           0,
           "rgb(247,251,255)"
          ],
          [
           0.125,
           "rgb(222,235,247)"
          ],
          [
           0.25,
           "rgb(198,219,239)"
          ],
          [
           0.375,
           "rgb(158,202,225)"
          ],
          [
           0.5,
           "rgb(107,174,214)"
          ],
          [
           0.625,
           "rgb(66,146,198)"
          ],
          [
           0.75,
           "rgb(33,113,181)"
          ],
          [
           0.875,
           "rgb(8,81,156)"
          ],
          [
           1,
           "rgb(8,48,107)"
          ]
         ],
         "name": "Train Error",
         "opacity": 0.8,
         "type": "surface",
         "x": [
          [
           0.001,
           0.01,
           0.1,
           1,
           10,
           100,
           1000
          ],
          [
           0.001,
           0.01,
           0.1,
           1,
           10,
           100,
           1000
          ],
          [
           0.001,
           0.01,
           0.1,
           1,
           10,
           100,
           1000
          ],
          [
           0.001,
           0.01,
           0.1,
           1,
           10,
           100,
           1000
          ],
          [
           0.001,
           0.01,
           0.1,
           1,
           10,
           100,
           1000
          ],
          [
           0.001,
           0.01,
           0.1,
           1,
           10,
           100,
           1000
          ],
          [
           0.001,
           0.01,
           0.1,
           1,
           10,
           100,
           1000
          ]
         ],
         "y": [
          [
           0.001,
           0.001,
           0.001,
           0.001,
           0.001,
           0.001,
           0.001
          ],
          [
           0.01,
           0.01,
           0.01,
           0.01,
           0.01,
           0.01,
           0.01
          ],
          [
           0.1,
           0.1,
           0.1,
           0.1,
           0.1,
           0.1,
           0.1
          ],
          [
           1,
           1,
           1,
           1,
           1,
           1,
           1
          ],
          [
           10,
           10,
           10,
           10,
           10,
           10,
           10
          ],
          [
           100,
           100,
           100,
           100,
           100,
           100,
           100
          ],
          [
           1000,
           1000,
           1000,
           1000,
           1000,
           1000,
           1000
          ]
         ],
         "z": [
          [
           0.8257180156657964,
           0.8257180156657964,
           0.8257180156657964,
           0.7486945169712793,
           0.6475195822454308,
           0.600195822454308,
           0.5528720626631853
          ],
          [
           0.8257180156657964,
           0.8257180156657964,
           0.7402088772845953,
           0.6406657963446476,
           0.5933420365535248,
           0.5368798955613576,
           0.44419060052219317
          ],
          [
           0.8257180156657964,
           0.7627284595300261,
           0.6331592689295039,
           0.5825718015665796,
           0.5019582245430809,
           0.4099216710182768,
           0.32212793733681466
          ],
          [
           0.8257180156657964,
           0.6671018276762402,
           0.5825718015665796,
           0.4379895561357703,
           0.3293080939947781,
           0.23498694516971275,
           0.15110966057441255
          ],
          [
           0.8257180156657964,
           0.6824412532637076,
           0.4304830287206266,
           0.25881201044386426,
           0.11749347258485643,
           0.02284595300261094,
           0.000979112271540461
          ],
          [
           0.8257180156657964,
           0.8257180156657964,
           0.3531331592689295,
           0.036553524804177506,
           0.000979112271540461,
           0,
           0
          ],
          [
           0.8257180156657964,
           0.8257180156657964,
           0.7532637075718016,
           0.00032637075718011666,
           0,
           0,
           0
          ]
         ]
        },
        {
         "colorscale": [
          [
           0,
           "rgb(255,245,240)"
          ],
          [
           0.125,
           "rgb(254,224,210)"
          ],
          [
           0.25,
           "rgb(252,187,161)"
          ],
          [
           0.375,
           "rgb(252,146,114)"
          ],
          [
           0.5,
           "rgb(251,106,74)"
          ],
          [
           0.625,
           "rgb(239,59,44)"
          ],
          [
           0.75,
           "rgb(203,24,29)"
          ],
          [
           0.875,
           "rgb(165,15,21)"
          ],
          [
           1,
           "rgb(103,0,13)"
          ]
         ],
         "name": "Test Error",
         "opacity": 0.8,
         "type": "surface",
         "x": [
          [
           0.001,
           0.01,
           0.1,
           1,
           10,
           100,
           1000
          ],
          [
           0.001,
           0.01,
           0.1,
           1,
           10,
           100,
           1000
          ],
          [
           0.001,
           0.01,
           0.1,
           1,
           10,
           100,
           1000
          ],
          [
           0.001,
           0.01,
           0.1,
           1,
           10,
           100,
           1000
          ],
          [
           0.001,
           0.01,
           0.1,
           1,
           10,
           100,
           1000
          ],
          [
           0.001,
           0.01,
           0.1,
           1,
           10,
           100,
           1000
          ],
          [
           0.001,
           0.01,
           0.1,
           1,
           10,
           100,
           1000
          ]
         ],
         "y": [
          [
           0.001,
           0.001,
           0.001,
           0.001,
           0.001,
           0.001,
           0.001
          ],
          [
           0.01,
           0.01,
           0.01,
           0.01,
           0.01,
           0.01,
           0.01
          ],
          [
           0.1,
           0.1,
           0.1,
           0.1,
           0.1,
           0.1,
           0.1
          ],
          [
           1,
           1,
           1,
           1,
           1,
           1,
           1
          ],
          [
           10,
           10,
           10,
           10,
           10,
           10,
           10
          ],
          [
           100,
           100,
           100,
           100,
           100,
           100,
           100
          ],
          [
           1000,
           1000,
           1000,
           1000,
           1000,
           1000,
           1000
          ]
         ],
         "z": [
          [
           0.8561643835616438,
           0.8561643835616438,
           0.8561643835616438,
           0.7632093933463797,
           0.6536203522504893,
           0.601761252446184,
           0.5782778864970646
          ],
          [
           0.8561643835616438,
           0.8561643835616438,
           0.7514677103718199,
           0.6477495107632094,
           0.6007827788649707,
           0.5538160469667319,
           0.46281800391389427
          ],
          [
           0.8561643835616438,
           0.7984344422700587,
           0.6379647749510764,
           0.5831702544031312,
           0.5332681017612524,
           0.44129158512720157,
           0.35909980430528377
          ],
          [
           0.8561643835616438,
           0.6800391389432485,
           0.5802348336594911,
           0.45988258317025443,
           0.3581213307240705,
           0.286692759295499,
           0.2309197651663405
          ],
          [
           0.8561643835616438,
           0.7025440313111546,
           0.4608610567514677,
           0.3180039138943248,
           0.23287671232876717,
           0.18786692759295498,
           0.17318982387475534
          ],
          [
           0.8561643835616438,
           0.8561643835616438,
           0.4951076320939335,
           0.2093933463796478,
           0.17318982387475534,
           0.17221135029354206,
           0.17221135029354206
          ],
          [
           0.8561643835616438,
           0.8561643835616438,
           0.802348336594912,
           0.2847358121330724,
           0.26614481409001955,
           0.26614481409001955,
           0.26614481409001955
          ]
         ]
        }
       ],
       "layout": {
        "legend": {
         "bgcolor": "rgba(255, 255, 255, 0.5)",
         "x": 0,
         "y": 1
        },
        "margin": {
         "b": 0,
         "l": 0,
         "r": 0,
         "t": 80
        },
        "scene": {
         "aspectratio": {
          "x": 1,
          "y": 1,
          "z": 0.5
         },
         "camera": {
          "eye": {
           "x": -1.5,
           "y": -1.5,
           "z": 0.5
          }
         },
         "xaxis": {
          "title": {
           "text": "C"
          },
          "type": "log"
         },
         "yaxis": {
          "title": {
           "text": "Gamma"
          },
          "type": "log"
         },
         "zaxis": {
          "title": {
           "text": "Error"
          },
          "type": "linear"
         }
        },
        "template": {
         "data": {
          "bar": [
           {
            "error_x": {
             "color": "#2a3f5f"
            },
            "error_y": {
             "color": "#2a3f5f"
            },
            "marker": {
             "line": {
              "color": "#E5ECF6",
              "width": 0.5
             },
             "pattern": {
              "fillmode": "overlay",
              "size": 10,
              "solidity": 0.2
             }
            },
            "type": "bar"
           }
          ],
          "barpolar": [
           {
            "marker": {
             "line": {
              "color": "#E5ECF6",
              "width": 0.5
             },
             "pattern": {
              "fillmode": "overlay",
              "size": 10,
              "solidity": 0.2
             }
            },
            "type": "barpolar"
           }
          ],
          "carpet": [
           {
            "aaxis": {
             "endlinecolor": "#2a3f5f",
             "gridcolor": "white",
             "linecolor": "white",
             "minorgridcolor": "white",
             "startlinecolor": "#2a3f5f"
            },
            "baxis": {
             "endlinecolor": "#2a3f5f",
             "gridcolor": "white",
             "linecolor": "white",
             "minorgridcolor": "white",
             "startlinecolor": "#2a3f5f"
            },
            "type": "carpet"
           }
          ],
          "choropleth": [
           {
            "colorbar": {
             "outlinewidth": 0,
             "ticks": ""
            },
            "type": "choropleth"
           }
          ],
          "contour": [
           {
            "colorbar": {
             "outlinewidth": 0,
             "ticks": ""
            },
            "colorscale": [
             [
              0,
              "#0d0887"
             ],
             [
              0.1111111111111111,
              "#46039f"
             ],
             [
              0.2222222222222222,
              "#7201a8"
             ],
             [
              0.3333333333333333,
              "#9c179e"
             ],
             [
              0.4444444444444444,
              "#bd3786"
             ],
             [
              0.5555555555555556,
              "#d8576b"
             ],
             [
              0.6666666666666666,
              "#ed7953"
             ],
             [
              0.7777777777777778,
              "#fb9f3a"
             ],
             [
              0.8888888888888888,
              "#fdca26"
             ],
             [
              1,
              "#f0f921"
             ]
            ],
            "type": "contour"
           }
          ],
          "contourcarpet": [
           {
            "colorbar": {
             "outlinewidth": 0,
             "ticks": ""
            },
            "type": "contourcarpet"
           }
          ],
          "heatmap": [
           {
            "colorbar": {
             "outlinewidth": 0,
             "ticks": ""
            },
            "colorscale": [
             [
              0,
              "#0d0887"
             ],
             [
              0.1111111111111111,
              "#46039f"
             ],
             [
              0.2222222222222222,
              "#7201a8"
             ],
             [
              0.3333333333333333,
              "#9c179e"
             ],
             [
              0.4444444444444444,
              "#bd3786"
             ],
             [
              0.5555555555555556,
              "#d8576b"
             ],
             [
              0.6666666666666666,
              "#ed7953"
             ],
             [
              0.7777777777777778,
              "#fb9f3a"
             ],
             [
              0.8888888888888888,
              "#fdca26"
             ],
             [
              1,
              "#f0f921"
             ]
            ],
            "type": "heatmap"
           }
          ],
          "heatmapgl": [
           {
            "colorbar": {
             "outlinewidth": 0,
             "ticks": ""
            },
            "colorscale": [
             [
              0,
              "#0d0887"
             ],
             [
              0.1111111111111111,
              "#46039f"
             ],
             [
              0.2222222222222222,
              "#7201a8"
             ],
             [
              0.3333333333333333,
              "#9c179e"
             ],
             [
              0.4444444444444444,
              "#bd3786"
             ],
             [
              0.5555555555555556,
              "#d8576b"
             ],
             [
              0.6666666666666666,
              "#ed7953"
             ],
             [
              0.7777777777777778,
              "#fb9f3a"
             ],
             [
              0.8888888888888888,
              "#fdca26"
             ],
             [
              1,
              "#f0f921"
             ]
            ],
            "type": "heatmapgl"
           }
          ],
          "histogram": [
           {
            "marker": {
             "pattern": {
              "fillmode": "overlay",
              "size": 10,
              "solidity": 0.2
             }
            },
            "type": "histogram"
           }
          ],
          "histogram2d": [
           {
            "colorbar": {
             "outlinewidth": 0,
             "ticks": ""
            },
            "colorscale": [
             [
              0,
              "#0d0887"
             ],
             [
              0.1111111111111111,
              "#46039f"
             ],
             [
              0.2222222222222222,
              "#7201a8"
             ],
             [
              0.3333333333333333,
              "#9c179e"
             ],
             [
              0.4444444444444444,
              "#bd3786"
             ],
             [
              0.5555555555555556,
              "#d8576b"
             ],
             [
              0.6666666666666666,
              "#ed7953"
             ],
             [
              0.7777777777777778,
              "#fb9f3a"
             ],
             [
              0.8888888888888888,
              "#fdca26"
             ],
             [
              1,
              "#f0f921"
             ]
            ],
            "type": "histogram2d"
           }
          ],
          "histogram2dcontour": [
           {
            "colorbar": {
             "outlinewidth": 0,
             "ticks": ""
            },
            "colorscale": [
             [
              0,
              "#0d0887"
             ],
             [
              0.1111111111111111,
              "#46039f"
             ],
             [
              0.2222222222222222,
              "#7201a8"
             ],
             [
              0.3333333333333333,
              "#9c179e"
             ],
             [
              0.4444444444444444,
              "#bd3786"
             ],
             [
              0.5555555555555556,
              "#d8576b"
             ],
             [
              0.6666666666666666,
              "#ed7953"
             ],
             [
              0.7777777777777778,
              "#fb9f3a"
             ],
             [
              0.8888888888888888,
              "#fdca26"
             ],
             [
              1,
              "#f0f921"
             ]
            ],
            "type": "histogram2dcontour"
           }
          ],
          "mesh3d": [
           {
            "colorbar": {
             "outlinewidth": 0,
             "ticks": ""
            },
            "type": "mesh3d"
           }
          ],
          "parcoords": [
           {
            "line": {
             "colorbar": {
              "outlinewidth": 0,
              "ticks": ""
             }
            },
            "type": "parcoords"
           }
          ],
          "pie": [
           {
            "automargin": true,
            "type": "pie"
           }
          ],
          "scatter": [
           {
            "fillpattern": {
             "fillmode": "overlay",
             "size": 10,
             "solidity": 0.2
            },
            "type": "scatter"
           }
          ],
          "scatter3d": [
           {
            "line": {
             "colorbar": {
              "outlinewidth": 0,
              "ticks": ""
             }
            },
            "marker": {
             "colorbar": {
              "outlinewidth": 0,
              "ticks": ""
             }
            },
            "type": "scatter3d"
           }
          ],
          "scattercarpet": [
           {
            "marker": {
             "colorbar": {
              "outlinewidth": 0,
              "ticks": ""
             }
            },
            "type": "scattercarpet"
           }
          ],
          "scattergeo": [
           {
            "marker": {
             "colorbar": {
              "outlinewidth": 0,
              "ticks": ""
             }
            },
            "type": "scattergeo"
           }
          ],
          "scattergl": [
           {
            "marker": {
             "colorbar": {
              "outlinewidth": 0,
              "ticks": ""
             }
            },
            "type": "scattergl"
           }
          ],
          "scattermapbox": [
           {
            "marker": {
             "colorbar": {
              "outlinewidth": 0,
              "ticks": ""
             }
            },
            "type": "scattermapbox"
           }
          ],
          "scatterpolar": [
           {
            "marker": {
             "colorbar": {
              "outlinewidth": 0,
              "ticks": ""
             }
            },
            "type": "scatterpolar"
           }
          ],
          "scatterpolargl": [
           {
            "marker": {
             "colorbar": {
              "outlinewidth": 0,
              "ticks": ""
             }
            },
            "type": "scatterpolargl"
           }
          ],
          "scatterternary": [
           {
            "marker": {
             "colorbar": {
              "outlinewidth": 0,
              "ticks": ""
             }
            },
            "type": "scatterternary"
           }
          ],
          "surface": [
           {
            "colorbar": {
             "outlinewidth": 0,
             "ticks": ""
            },
            "colorscale": [
             [
              0,
              "#0d0887"
             ],
             [
              0.1111111111111111,
              "#46039f"
             ],
             [
              0.2222222222222222,
              "#7201a8"
             ],
             [
              0.3333333333333333,
              "#9c179e"
             ],
             [
              0.4444444444444444,
              "#bd3786"
             ],
             [
              0.5555555555555556,
              "#d8576b"
             ],
             [
              0.6666666666666666,
              "#ed7953"
             ],
             [
              0.7777777777777778,
              "#fb9f3a"
             ],
             [
              0.8888888888888888,
              "#fdca26"
             ],
             [
              1,
              "#f0f921"
             ]
            ],
            "type": "surface"
           }
          ],
          "table": [
           {
            "cells": {
             "fill": {
              "color": "#EBF0F8"
             },
             "line": {
              "color": "white"
             }
            },
            "header": {
             "fill": {
              "color": "#C8D4E3"
             },
             "line": {
              "color": "white"
             }
            },
            "type": "table"
           }
          ]
         },
         "layout": {
          "annotationdefaults": {
           "arrowcolor": "#2a3f5f",
           "arrowhead": 0,
           "arrowwidth": 1
          },
          "autotypenumbers": "strict",
          "coloraxis": {
           "colorbar": {
            "outlinewidth": 0,
            "ticks": ""
           }
          },
          "colorscale": {
           "diverging": [
            [
             0,
             "#8e0152"
            ],
            [
             0.1,
             "#c51b7d"
            ],
            [
             0.2,
             "#de77ae"
            ],
            [
             0.3,
             "#f1b6da"
            ],
            [
             0.4,
             "#fde0ef"
            ],
            [
             0.5,
             "#f7f7f7"
            ],
            [
             0.6,
             "#e6f5d0"
            ],
            [
             0.7,
             "#b8e186"
            ],
            [
             0.8,
             "#7fbc41"
            ],
            [
             0.9,
             "#4d9221"
            ],
            [
             1,
             "#276419"
            ]
           ],
           "sequential": [
            [
             0,
             "#0d0887"
            ],
            [
             0.1111111111111111,
             "#46039f"
            ],
            [
             0.2222222222222222,
             "#7201a8"
            ],
            [
             0.3333333333333333,
             "#9c179e"
            ],
            [
             0.4444444444444444,
             "#bd3786"
            ],
            [
             0.5555555555555556,
             "#d8576b"
            ],
            [
             0.6666666666666666,
             "#ed7953"
            ],
            [
             0.7777777777777778,
             "#fb9f3a"
            ],
            [
             0.8888888888888888,
             "#fdca26"
            ],
            [
             1,
             "#f0f921"
            ]
           ],
           "sequentialminus": [
            [
             0,
             "#0d0887"
            ],
            [
             0.1111111111111111,
             "#46039f"
            ],
            [
             0.2222222222222222,
             "#7201a8"
            ],
            [
             0.3333333333333333,
             "#9c179e"
            ],
            [
             0.4444444444444444,
             "#bd3786"
            ],
            [
             0.5555555555555556,
             "#d8576b"
            ],
            [
             0.6666666666666666,
             "#ed7953"
            ],
            [
             0.7777777777777778,
             "#fb9f3a"
            ],
            [
             0.8888888888888888,
             "#fdca26"
            ],
            [
             1,
             "#f0f921"
            ]
           ]
          },
          "colorway": [
           "#636efa",
           "#EF553B",
           "#00cc96",
           "#ab63fa",
           "#FFA15A",
           "#19d3f3",
           "#FF6692",
           "#B6E880",
           "#FF97FF",
           "#FECB52"
          ],
          "font": {
           "color": "#2a3f5f"
          },
          "geo": {
           "bgcolor": "white",
           "lakecolor": "white",
           "landcolor": "#E5ECF6",
           "showlakes": true,
           "showland": true,
           "subunitcolor": "white"
          },
          "hoverlabel": {
           "align": "left"
          },
          "hovermode": "closest",
          "mapbox": {
           "style": "light"
          },
          "paper_bgcolor": "white",
          "plot_bgcolor": "#E5ECF6",
          "polar": {
           "angularaxis": {
            "gridcolor": "white",
            "linecolor": "white",
            "ticks": ""
           },
           "bgcolor": "#E5ECF6",
           "radialaxis": {
            "gridcolor": "white",
            "linecolor": "white",
            "ticks": ""
           }
          },
          "scene": {
           "xaxis": {
            "backgroundcolor": "#E5ECF6",
            "gridcolor": "white",
            "gridwidth": 2,
            "linecolor": "white",
            "showbackground": true,
            "ticks": "",
            "zerolinecolor": "white"
           },
           "yaxis": {
            "backgroundcolor": "#E5ECF6",
            "gridcolor": "white",
            "gridwidth": 2,
            "linecolor": "white",
            "showbackground": true,
            "ticks": "",
            "zerolinecolor": "white"
           },
           "zaxis": {
            "backgroundcolor": "#E5ECF6",
            "gridcolor": "white",
            "gridwidth": 2,
            "linecolor": "white",
            "showbackground": true,
            "ticks": "",
            "zerolinecolor": "white"
           }
          },
          "shapedefaults": {
           "line": {
            "color": "#2a3f5f"
           }
          },
          "ternary": {
           "aaxis": {
            "gridcolor": "white",
            "linecolor": "white",
            "ticks": ""
           },
           "baxis": {
            "gridcolor": "white",
            "linecolor": "white",
            "ticks": ""
           },
           "bgcolor": "#E5ECF6",
           "caxis": {
            "gridcolor": "white",
            "linecolor": "white",
            "ticks": ""
           }
          },
          "title": {
           "x": 0.05
          },
          "xaxis": {
           "automargin": true,
           "gridcolor": "white",
           "linecolor": "white",
           "ticks": "",
           "title": {
            "standoff": 15
           },
           "zerolinecolor": "white",
           "zerolinewidth": 2
          },
          "yaxis": {
           "automargin": true,
           "gridcolor": "white",
           "linecolor": "white",
           "ticks": "",
           "title": {
            "standoff": 15
           },
           "zerolinecolor": "white",
           "zerolinewidth": 2
          }
         }
        },
        "title": {
         "font": {
          "family": "Gulliver",
          "size": 32
         },
         "text": "Model Complexity for SVC",
         "x": 0.5
        }
       }
      }
     },
     "metadata": {},
     "output_type": "display_data"
    }
   ],
   "source": [
    "C_range = np.logspace(-3, 3, num = 7, base = 10)\n",
    "gamma_range = np.logspace(-3, 3, num = 7, base = 10)\n",
    "\n",
    "train_errors = np.zeros((len(C_range), len(gamma_range)))\n",
    "test_errors = np.zeros((len(C_range), len(gamma_range)))\n",
    "\n",
    "for i, C in enumerate(C_range):\n",
    "    for j, gamma in enumerate(gamma_range):\n",
    "        svm = SVC(C = C, gamma = gamma)\n",
    "        svm.fit(x_train_red, y_train_red)\n",
    "        train_pred = svm.predict(x_train_red)\n",
    "        test_pred = svm.predict(x_test_red)\n",
    "        train_errors[i, j] = 1 - accuracy_score(y_train_red, train_pred)\n",
    "        test_errors[i, j] = 1 - accuracy_score(y_test_red, test_pred)\n",
    "\n",
    "C, gamma = np.meshgrid(C_range, gamma_range)\n",
    "\n",
    "fig = go.Figure(\n",
    "    data = [go.Surface(\n",
    "                x = C, y = gamma, z = train_errors.T, \n",
    "                colorscale = 'Blues', opacity = 0.8, name = 'Train Error'\n",
    "            ),\n",
    "            go.Surface(\n",
    "                x = C, y = gamma, z = test_errors.T, \n",
    "                colorscale  ='Reds', opacity = 0.8, name = 'Test Error'\n",
    "                )\n",
    "            ],\n",
    "            layout = go.Layout(\n",
    "                title = {\n",
    "                    'text': 'Model Complexity for SVC',\n",
    "                    'font': {\n",
    "                        'size': 32, 'family': 'Gulliver'\n",
    "                    }, \n",
    "                    'x': 0.5\n",
    "                },\n",
    "                scene = dict(\n",
    "                        xaxis = dict(title = 'C', type = 'log'),\n",
    "                        yaxis = dict(title = 'Gamma', type = 'log'),\n",
    "                        zaxis = dict(title = 'Error', type = 'linear'),\n",
    "                        aspectratio = dict(x = 1, y = 1, z = 0.5),\n",
    "                        camera = dict(eye = dict(x = -1.5, y = -1.5, z = 0.5)),\n",
    "                        ),\n",
    "                margin = dict(l = 0, r = 0, b = 0, t = 80),\n",
    "                legend = dict(x = 0, y = 1, bgcolor = 'rgba(255, 255, 255, 0.5)'),\n",
    "            )\n",
    ")\n",
    "\n",
    "fig.show()"
   ]
  },
  {
   "attachments": {},
   "cell_type": "markdown",
   "metadata": {},
   "source": [
    "---"
   ]
  },
  {
   "attachments": {},
   "cell_type": "markdown",
   "metadata": {},
   "source": [
    "## White wine"
   ]
  },
  {
   "cell_type": "code",
   "execution_count": 62,
   "metadata": {},
   "outputs": [],
   "source": [
    "clf = SVC(probability = True, C = 1, gamma = 100, kernel = 'rbf')\n",
    "model = clf.fit(x_train_white, y_train_white)\n",
    "y_pred_white = model.predict(x_test_white)\n",
    "\n",
    "interpreter = Interpretation(\n",
    "    x_test_white, feature_names = white.drop(['quality', 'density'], axis = 1).columns\n",
    ")\n",
    "\n",
    "pyint_model = InMemoryModel(\n",
    "            clf.predict_proba,\n",
    "            examples = x_train_white\n",
    "        )\n",
    "\n",
    "plots = interpreter.feature_importance.plot_feature_importance(pyint_model, ascending = False, progressbar = True)\n",
    "plt.title('Feature importance After SMOTE')"
   ]
  },
  {
   "cell_type": "code",
   "execution_count": 35,
   "metadata": {},
   "outputs": [
    {
     "name": "stdout",
     "output_type": "stream",
     "text": [
      "Acurracy:  78.2168 %\n",
      "Precision: 89.8805 %\n",
      "Recall: 78.2168 %\n",
      "f1: 80.4739 %\n"
     ]
    },
    {
     "data": {
      "text/html": [
       "<div>\n",
       "<style scoped>\n",
       "    .dataframe tbody tr th:only-of-type {\n",
       "        vertical-align: middle;\n",
       "    }\n",
       "\n",
       "    .dataframe tbody tr th {\n",
       "        vertical-align: top;\n",
       "    }\n",
       "\n",
       "    .dataframe thead th {\n",
       "        text-align: right;\n",
       "    }\n",
       "</style>\n",
       "<table border=\"1\" class=\"dataframe\">\n",
       "  <thead>\n",
       "    <tr style=\"text-align: right;\">\n",
       "      <th></th>\n",
       "      <th>3</th>\n",
       "      <th>4</th>\n",
       "      <th>5</th>\n",
       "      <th>6</th>\n",
       "      <th>7</th>\n",
       "      <th>8</th>\n",
       "      <th>9</th>\n",
       "    </tr>\n",
       "  </thead>\n",
       "  <tbody>\n",
       "    <tr>\n",
       "      <th>3</th>\n",
       "      <td>0.773333</td>\n",
       "      <td>0.000000</td>\n",
       "      <td>0.003810</td>\n",
       "      <td>0.222857</td>\n",
       "      <td>0.000000</td>\n",
       "      <td>0.000000</td>\n",
       "      <td>0.000000</td>\n",
       "    </tr>\n",
       "    <tr>\n",
       "      <th>4</th>\n",
       "      <td>0.000000</td>\n",
       "      <td>0.724771</td>\n",
       "      <td>0.001835</td>\n",
       "      <td>0.269725</td>\n",
       "      <td>0.001835</td>\n",
       "      <td>0.001835</td>\n",
       "      <td>0.000000</td>\n",
       "    </tr>\n",
       "    <tr>\n",
       "      <th>5</th>\n",
       "      <td>0.000000</td>\n",
       "      <td>0.001751</td>\n",
       "      <td>0.527145</td>\n",
       "      <td>0.467601</td>\n",
       "      <td>0.001751</td>\n",
       "      <td>0.000000</td>\n",
       "      <td>0.001751</td>\n",
       "    </tr>\n",
       "    <tr>\n",
       "      <th>6</th>\n",
       "      <td>0.001742</td>\n",
       "      <td>0.001742</td>\n",
       "      <td>0.015679</td>\n",
       "      <td>0.968641</td>\n",
       "      <td>0.010453</td>\n",
       "      <td>0.000000</td>\n",
       "      <td>0.001742</td>\n",
       "    </tr>\n",
       "    <tr>\n",
       "      <th>7</th>\n",
       "      <td>0.000000</td>\n",
       "      <td>0.000000</td>\n",
       "      <td>0.001832</td>\n",
       "      <td>0.300366</td>\n",
       "      <td>0.694139</td>\n",
       "      <td>0.003663</td>\n",
       "      <td>0.000000</td>\n",
       "    </tr>\n",
       "    <tr>\n",
       "      <th>8</th>\n",
       "      <td>0.000000</td>\n",
       "      <td>0.001812</td>\n",
       "      <td>0.000000</td>\n",
       "      <td>0.177536</td>\n",
       "      <td>0.001812</td>\n",
       "      <td>0.818841</td>\n",
       "      <td>0.000000</td>\n",
       "    </tr>\n",
       "    <tr>\n",
       "      <th>9</th>\n",
       "      <td>0.000000</td>\n",
       "      <td>0.000000</td>\n",
       "      <td>0.000000</td>\n",
       "      <td>0.022472</td>\n",
       "      <td>0.000000</td>\n",
       "      <td>0.003745</td>\n",
       "      <td>0.973783</td>\n",
       "    </tr>\n",
       "  </tbody>\n",
       "</table>\n",
       "</div>"
      ],
      "text/plain": [
       "          3         4         5         6         7         8         9\n",
       "3  0.773333  0.000000  0.003810  0.222857  0.000000  0.000000  0.000000\n",
       "4  0.000000  0.724771  0.001835  0.269725  0.001835  0.001835  0.000000\n",
       "5  0.000000  0.001751  0.527145  0.467601  0.001751  0.000000  0.001751\n",
       "6  0.001742  0.001742  0.015679  0.968641  0.010453  0.000000  0.001742\n",
       "7  0.000000  0.000000  0.001832  0.300366  0.694139  0.003663  0.000000\n",
       "8  0.000000  0.001812  0.000000  0.177536  0.001812  0.818841  0.000000\n",
       "9  0.000000  0.000000  0.000000  0.022472  0.000000  0.003745  0.973783"
      ]
     },
     "execution_count": 35,
     "metadata": {},
     "output_type": "execute_result"
    }
   ],
   "source": [
    "acu = metrics.accuracy_score(y_test_white, y_pred_white)\n",
    "pre_class, r_class, f_class, sup = metrics.precision_recall_fscore_support(y_test_white, y_pred_white, average = 'weighted')\n",
    "\n",
    "print(\"Acurracy: \", round(acu * 100, 4), '%')\n",
    "print('Precision:', round(pre_class * 100, 4), '%')\n",
    "print('Recall:', round(r_class * 100, 4), '%')\n",
    "print('f1:', round(f_class * 100, 4), '%')\n",
    "\n",
    "labels = list(range(3, 10))\n",
    "cm = metrics.confusion_matrix(y_test_white, y_pred_white, labels = labels)\n",
    "cm_norm = cm.astype('float') / cm.sum(axis = 1)[:, np.newaxis]\n",
    "cm_norm = pd.DataFrame(cm_norm, index = labels, columns = labels)\n",
    "cm_norm"
   ]
  },
  {
   "cell_type": "code",
   "execution_count": 36,
   "metadata": {},
   "outputs": [
    {
     "data": {
      "application/vnd.plotly.v1+json": {
       "config": {
        "plotlyServerURL": "https://plotly.com"
       },
       "data": [
        {
         "colorscale": [
          [
           0,
           "blue"
          ],
          [
           1,
           "red"
          ]
         ],
         "text": [
          [
           0.77,
           0,
           0,
           0.22,
           0,
           0,
           0
          ],
          [
           0,
           0.72,
           0,
           0.27,
           0,
           0,
           0
          ],
          [
           0,
           0,
           0.53,
           0.47,
           0,
           0,
           0
          ],
          [
           0,
           0,
           0.02,
           0.97,
           0.01,
           0,
           0
          ],
          [
           0,
           0,
           0,
           0.3,
           0.69,
           0,
           0
          ],
          [
           0,
           0,
           0,
           0.18,
           0,
           0.82,
           0
          ],
          [
           0,
           0,
           0,
           0.02,
           0,
           0,
           0.97
          ]
         ],
         "type": "heatmap",
         "x": [
          3,
          4,
          5,
          6,
          7,
          8,
          9
         ],
         "y": [
          3,
          4,
          5,
          6,
          7,
          8,
          9
         ],
         "z": [
          [
           0.7733333333333333,
           0,
           0.0038095238095238095,
           0.22285714285714286,
           0,
           0,
           0
          ],
          [
           0,
           0.7247706422018348,
           0.001834862385321101,
           0.26972477064220185,
           0.001834862385321101,
           0.001834862385321101,
           0
          ],
          [
           0,
           0.0017513134851138354,
           0.5271453590192644,
           0.46760070052539404,
           0.0017513134851138354,
           0,
           0.0017513134851138354
          ],
          [
           0.0017421602787456446,
           0.0017421602787456446,
           0.0156794425087108,
           0.9686411149825784,
           0.010452961672473868,
           0,
           0.0017421602787456446
          ],
          [
           0,
           0,
           0.0018315018315018315,
           0.30036630036630035,
           0.6941391941391941,
           0.003663003663003663,
           0
          ],
          [
           0,
           0.0018115942028985507,
           0,
           0.17753623188405798,
           0.0018115942028985507,
           0.8188405797101449,
           0
          ],
          [
           0,
           0,
           0,
           0.02247191011235955,
           0,
           0.003745318352059925,
           0.9737827715355806
          ]
         ],
         "zmax": 1,
         "zmin": 0
        }
       ],
       "layout": {
        "height": 600,
        "template": {
         "data": {
          "bar": [
           {
            "error_x": {
             "color": "#2a3f5f"
            },
            "error_y": {
             "color": "#2a3f5f"
            },
            "marker": {
             "line": {
              "color": "#E5ECF6",
              "width": 0.5
             },
             "pattern": {
              "fillmode": "overlay",
              "size": 10,
              "solidity": 0.2
             }
            },
            "type": "bar"
           }
          ],
          "barpolar": [
           {
            "marker": {
             "line": {
              "color": "#E5ECF6",
              "width": 0.5
             },
             "pattern": {
              "fillmode": "overlay",
              "size": 10,
              "solidity": 0.2
             }
            },
            "type": "barpolar"
           }
          ],
          "carpet": [
           {
            "aaxis": {
             "endlinecolor": "#2a3f5f",
             "gridcolor": "white",
             "linecolor": "white",
             "minorgridcolor": "white",
             "startlinecolor": "#2a3f5f"
            },
            "baxis": {
             "endlinecolor": "#2a3f5f",
             "gridcolor": "white",
             "linecolor": "white",
             "minorgridcolor": "white",
             "startlinecolor": "#2a3f5f"
            },
            "type": "carpet"
           }
          ],
          "choropleth": [
           {
            "colorbar": {
             "outlinewidth": 0,
             "ticks": ""
            },
            "type": "choropleth"
           }
          ],
          "contour": [
           {
            "colorbar": {
             "outlinewidth": 0,
             "ticks": ""
            },
            "colorscale": [
             [
              0,
              "#0d0887"
             ],
             [
              0.1111111111111111,
              "#46039f"
             ],
             [
              0.2222222222222222,
              "#7201a8"
             ],
             [
              0.3333333333333333,
              "#9c179e"
             ],
             [
              0.4444444444444444,
              "#bd3786"
             ],
             [
              0.5555555555555556,
              "#d8576b"
             ],
             [
              0.6666666666666666,
              "#ed7953"
             ],
             [
              0.7777777777777778,
              "#fb9f3a"
             ],
             [
              0.8888888888888888,
              "#fdca26"
             ],
             [
              1,
              "#f0f921"
             ]
            ],
            "type": "contour"
           }
          ],
          "contourcarpet": [
           {
            "colorbar": {
             "outlinewidth": 0,
             "ticks": ""
            },
            "type": "contourcarpet"
           }
          ],
          "heatmap": [
           {
            "colorbar": {
             "outlinewidth": 0,
             "ticks": ""
            },
            "colorscale": [
             [
              0,
              "#0d0887"
             ],
             [
              0.1111111111111111,
              "#46039f"
             ],
             [
              0.2222222222222222,
              "#7201a8"
             ],
             [
              0.3333333333333333,
              "#9c179e"
             ],
             [
              0.4444444444444444,
              "#bd3786"
             ],
             [
              0.5555555555555556,
              "#d8576b"
             ],
             [
              0.6666666666666666,
              "#ed7953"
             ],
             [
              0.7777777777777778,
              "#fb9f3a"
             ],
             [
              0.8888888888888888,
              "#fdca26"
             ],
             [
              1,
              "#f0f921"
             ]
            ],
            "type": "heatmap"
           }
          ],
          "heatmapgl": [
           {
            "colorbar": {
             "outlinewidth": 0,
             "ticks": ""
            },
            "colorscale": [
             [
              0,
              "#0d0887"
             ],
             [
              0.1111111111111111,
              "#46039f"
             ],
             [
              0.2222222222222222,
              "#7201a8"
             ],
             [
              0.3333333333333333,
              "#9c179e"
             ],
             [
              0.4444444444444444,
              "#bd3786"
             ],
             [
              0.5555555555555556,
              "#d8576b"
             ],
             [
              0.6666666666666666,
              "#ed7953"
             ],
             [
              0.7777777777777778,
              "#fb9f3a"
             ],
             [
              0.8888888888888888,
              "#fdca26"
             ],
             [
              1,
              "#f0f921"
             ]
            ],
            "type": "heatmapgl"
           }
          ],
          "histogram": [
           {
            "marker": {
             "pattern": {
              "fillmode": "overlay",
              "size": 10,
              "solidity": 0.2
             }
            },
            "type": "histogram"
           }
          ],
          "histogram2d": [
           {
            "colorbar": {
             "outlinewidth": 0,
             "ticks": ""
            },
            "colorscale": [
             [
              0,
              "#0d0887"
             ],
             [
              0.1111111111111111,
              "#46039f"
             ],
             [
              0.2222222222222222,
              "#7201a8"
             ],
             [
              0.3333333333333333,
              "#9c179e"
             ],
             [
              0.4444444444444444,
              "#bd3786"
             ],
             [
              0.5555555555555556,
              "#d8576b"
             ],
             [
              0.6666666666666666,
              "#ed7953"
             ],
             [
              0.7777777777777778,
              "#fb9f3a"
             ],
             [
              0.8888888888888888,
              "#fdca26"
             ],
             [
              1,
              "#f0f921"
             ]
            ],
            "type": "histogram2d"
           }
          ],
          "histogram2dcontour": [
           {
            "colorbar": {
             "outlinewidth": 0,
             "ticks": ""
            },
            "colorscale": [
             [
              0,
              "#0d0887"
             ],
             [
              0.1111111111111111,
              "#46039f"
             ],
             [
              0.2222222222222222,
              "#7201a8"
             ],
             [
              0.3333333333333333,
              "#9c179e"
             ],
             [
              0.4444444444444444,
              "#bd3786"
             ],
             [
              0.5555555555555556,
              "#d8576b"
             ],
             [
              0.6666666666666666,
              "#ed7953"
             ],
             [
              0.7777777777777778,
              "#fb9f3a"
             ],
             [
              0.8888888888888888,
              "#fdca26"
             ],
             [
              1,
              "#f0f921"
             ]
            ],
            "type": "histogram2dcontour"
           }
          ],
          "mesh3d": [
           {
            "colorbar": {
             "outlinewidth": 0,
             "ticks": ""
            },
            "type": "mesh3d"
           }
          ],
          "parcoords": [
           {
            "line": {
             "colorbar": {
              "outlinewidth": 0,
              "ticks": ""
             }
            },
            "type": "parcoords"
           }
          ],
          "pie": [
           {
            "automargin": true,
            "type": "pie"
           }
          ],
          "scatter": [
           {
            "fillpattern": {
             "fillmode": "overlay",
             "size": 10,
             "solidity": 0.2
            },
            "type": "scatter"
           }
          ],
          "scatter3d": [
           {
            "line": {
             "colorbar": {
              "outlinewidth": 0,
              "ticks": ""
             }
            },
            "marker": {
             "colorbar": {
              "outlinewidth": 0,
              "ticks": ""
             }
            },
            "type": "scatter3d"
           }
          ],
          "scattercarpet": [
           {
            "marker": {
             "colorbar": {
              "outlinewidth": 0,
              "ticks": ""
             }
            },
            "type": "scattercarpet"
           }
          ],
          "scattergeo": [
           {
            "marker": {
             "colorbar": {
              "outlinewidth": 0,
              "ticks": ""
             }
            },
            "type": "scattergeo"
           }
          ],
          "scattergl": [
           {
            "marker": {
             "colorbar": {
              "outlinewidth": 0,
              "ticks": ""
             }
            },
            "type": "scattergl"
           }
          ],
          "scattermapbox": [
           {
            "marker": {
             "colorbar": {
              "outlinewidth": 0,
              "ticks": ""
             }
            },
            "type": "scattermapbox"
           }
          ],
          "scatterpolar": [
           {
            "marker": {
             "colorbar": {
              "outlinewidth": 0,
              "ticks": ""
             }
            },
            "type": "scatterpolar"
           }
          ],
          "scatterpolargl": [
           {
            "marker": {
             "colorbar": {
              "outlinewidth": 0,
              "ticks": ""
             }
            },
            "type": "scatterpolargl"
           }
          ],
          "scatterternary": [
           {
            "marker": {
             "colorbar": {
              "outlinewidth": 0,
              "ticks": ""
             }
            },
            "type": "scatterternary"
           }
          ],
          "surface": [
           {
            "colorbar": {
             "outlinewidth": 0,
             "ticks": ""
            },
            "colorscale": [
             [
              0,
              "#0d0887"
             ],
             [
              0.1111111111111111,
              "#46039f"
             ],
             [
              0.2222222222222222,
              "#7201a8"
             ],
             [
              0.3333333333333333,
              "#9c179e"
             ],
             [
              0.4444444444444444,
              "#bd3786"
             ],
             [
              0.5555555555555556,
              "#d8576b"
             ],
             [
              0.6666666666666666,
              "#ed7953"
             ],
             [
              0.7777777777777778,
              "#fb9f3a"
             ],
             [
              0.8888888888888888,
              "#fdca26"
             ],
             [
              1,
              "#f0f921"
             ]
            ],
            "type": "surface"
           }
          ],
          "table": [
           {
            "cells": {
             "fill": {
              "color": "#EBF0F8"
             },
             "line": {
              "color": "white"
             }
            },
            "header": {
             "fill": {
              "color": "#C8D4E3"
             },
             "line": {
              "color": "white"
             }
            },
            "type": "table"
           }
          ]
         },
         "layout": {
          "annotationdefaults": {
           "arrowcolor": "#2a3f5f",
           "arrowhead": 0,
           "arrowwidth": 1
          },
          "autotypenumbers": "strict",
          "coloraxis": {
           "colorbar": {
            "outlinewidth": 0,
            "ticks": ""
           }
          },
          "colorscale": {
           "diverging": [
            [
             0,
             "#8e0152"
            ],
            [
             0.1,
             "#c51b7d"
            ],
            [
             0.2,
             "#de77ae"
            ],
            [
             0.3,
             "#f1b6da"
            ],
            [
             0.4,
             "#fde0ef"
            ],
            [
             0.5,
             "#f7f7f7"
            ],
            [
             0.6,
             "#e6f5d0"
            ],
            [
             0.7,
             "#b8e186"
            ],
            [
             0.8,
             "#7fbc41"
            ],
            [
             0.9,
             "#4d9221"
            ],
            [
             1,
             "#276419"
            ]
           ],
           "sequential": [
            [
             0,
             "#0d0887"
            ],
            [
             0.1111111111111111,
             "#46039f"
            ],
            [
             0.2222222222222222,
             "#7201a8"
            ],
            [
             0.3333333333333333,
             "#9c179e"
            ],
            [
             0.4444444444444444,
             "#bd3786"
            ],
            [
             0.5555555555555556,
             "#d8576b"
            ],
            [
             0.6666666666666666,
             "#ed7953"
            ],
            [
             0.7777777777777778,
             "#fb9f3a"
            ],
            [
             0.8888888888888888,
             "#fdca26"
            ],
            [
             1,
             "#f0f921"
            ]
           ],
           "sequentialminus": [
            [
             0,
             "#0d0887"
            ],
            [
             0.1111111111111111,
             "#46039f"
            ],
            [
             0.2222222222222222,
             "#7201a8"
            ],
            [
             0.3333333333333333,
             "#9c179e"
            ],
            [
             0.4444444444444444,
             "#bd3786"
            ],
            [
             0.5555555555555556,
             "#d8576b"
            ],
            [
             0.6666666666666666,
             "#ed7953"
            ],
            [
             0.7777777777777778,
             "#fb9f3a"
            ],
            [
             0.8888888888888888,
             "#fdca26"
            ],
            [
             1,
             "#f0f921"
            ]
           ]
          },
          "colorway": [
           "#636efa",
           "#EF553B",
           "#00cc96",
           "#ab63fa",
           "#FFA15A",
           "#19d3f3",
           "#FF6692",
           "#B6E880",
           "#FF97FF",
           "#FECB52"
          ],
          "font": {
           "color": "#2a3f5f"
          },
          "geo": {
           "bgcolor": "white",
           "lakecolor": "white",
           "landcolor": "#E5ECF6",
           "showlakes": true,
           "showland": true,
           "subunitcolor": "white"
          },
          "hoverlabel": {
           "align": "left"
          },
          "hovermode": "closest",
          "mapbox": {
           "style": "light"
          },
          "paper_bgcolor": "white",
          "plot_bgcolor": "#E5ECF6",
          "polar": {
           "angularaxis": {
            "gridcolor": "white",
            "linecolor": "white",
            "ticks": ""
           },
           "bgcolor": "#E5ECF6",
           "radialaxis": {
            "gridcolor": "white",
            "linecolor": "white",
            "ticks": ""
           }
          },
          "scene": {
           "xaxis": {
            "backgroundcolor": "#E5ECF6",
            "gridcolor": "white",
            "gridwidth": 2,
            "linecolor": "white",
            "showbackground": true,
            "ticks": "",
            "zerolinecolor": "white"
           },
           "yaxis": {
            "backgroundcolor": "#E5ECF6",
            "gridcolor": "white",
            "gridwidth": 2,
            "linecolor": "white",
            "showbackground": true,
            "ticks": "",
            "zerolinecolor": "white"
           },
           "zaxis": {
            "backgroundcolor": "#E5ECF6",
            "gridcolor": "white",
            "gridwidth": 2,
            "linecolor": "white",
            "showbackground": true,
            "ticks": "",
            "zerolinecolor": "white"
           }
          },
          "shapedefaults": {
           "line": {
            "color": "#2a3f5f"
           }
          },
          "ternary": {
           "aaxis": {
            "gridcolor": "white",
            "linecolor": "white",
            "ticks": ""
           },
           "baxis": {
            "gridcolor": "white",
            "linecolor": "white",
            "ticks": ""
           },
           "bgcolor": "#E5ECF6",
           "caxis": {
            "gridcolor": "white",
            "linecolor": "white",
            "ticks": ""
           }
          },
          "title": {
           "x": 0.05
          },
          "xaxis": {
           "automargin": true,
           "gridcolor": "white",
           "linecolor": "white",
           "ticks": "",
           "title": {
            "standoff": 15
           },
           "zerolinecolor": "white",
           "zerolinewidth": 2
          },
          "yaxis": {
           "automargin": true,
           "gridcolor": "white",
           "linecolor": "white",
           "ticks": "",
           "title": {
            "standoff": 15
           },
           "zerolinecolor": "white",
           "zerolinewidth": 2
          }
         }
        },
        "title": {
         "font": {
          "family": "Gulliver",
          "size": 40
         },
         "text": "Confusion matrix after SMOTE",
         "x": 0.5
        },
        "width": 600,
        "xaxis": {
         "tickfont": {
          "size": 16
         },
         "title": {
          "font": {
           "family": "Gulliver",
           "size": 20
          },
          "text": "Predicted"
         }
        },
        "yaxis": {
         "tickfont": {
          "size": 16
         },
         "title": {
          "font": {
           "family": "Gulliver",
           "size": 20
          },
          "text": "Actual"
         }
        }
       }
      }
     },
     "metadata": {},
     "output_type": "display_data"
    }
   ],
   "source": [
    "fig = go.Figure(\n",
    "    data = go.Heatmap(\n",
    "        z = cm_norm,\n",
    "        x = labels,\n",
    "        y = labels,\n",
    "        zmin = 0,\n",
    "        zmax = 1,\n",
    "        colorscale = [\n",
    "            [0, 'blue'],\n",
    "            [1, 'red']\n",
    "        ],\n",
    "        text = cm_norm.values.round(2)\n",
    "    ),\n",
    "    layout = go.Layout(\n",
    "        title = {\n",
    "            'text': 'Confusion matrix after SMOTE',\n",
    "            'font': {'size': 40, 'family': \"Gulliver\"},\n",
    "            'x': 0.5\n",
    "        },\n",
    "        yaxis_title = {\n",
    "            'font': {'size': 20, 'family': \"Gulliver\"},\n",
    "            'text': 'Actual'\n",
    "        },\n",
    "        xaxis_title = {\n",
    "            'font': {'size': 20, 'family': \"Gulliver\"},\n",
    "            'text': 'Predicted'\n",
    "        },\n",
    "        width = 600,\n",
    "        height = 600\n",
    "    )\n",
    ")\n",
    "\n",
    "fig.update_xaxes(tickfont=dict(size = 16))\n",
    "fig.update_yaxes(tickfont=dict(size = 16))\n",
    "\n",
    "fig.show()"
   ]
  },
  {
   "attachments": {},
   "cell_type": "markdown",
   "metadata": {},
   "source": [
    "### ROC for Red wine"
   ]
  },
  {
   "cell_type": "code",
   "execution_count": 38,
   "metadata": {},
   "outputs": [
    {
     "data": {
      "application/vnd.plotly.v1+json": {
       "config": {
        "plotlyServerURL": "https://plotly.com"
       },
       "data": [
        {
         "line": {
          "width": 2
         },
         "mode": "lines",
         "name": "ROC curve of class 3 (AUC = 1.00)",
         "type": "scatter",
         "x": [
          0,
          0,
          0,
          0.00030102347983142685,
          0.00030102347983142685,
          0.0006020469596628537,
          0.0006020469596628537,
          0.0009030704394942806,
          0.0009030704394942806,
          0.0015051173991571343,
          0.0015051173991571343,
          0.002107164358819988,
          0.002107164358819988,
          0.002408187838651415,
          0.002408187838651415,
          0.0027092113184828417,
          0.0027092113184828417,
          0.0033112582781456954,
          0.0033112582781456954,
          0.004214328717639976,
          0.004214328717639976,
          0.004515352197471403,
          0.004515352197471403,
          0.00481637567730283,
          0.00481637567730283,
          0.005418422636965683,
          0.005418422636965683,
          0.006020469596628537,
          0.006020469596628537,
          0.006321493076459964,
          0.006321493076459964,
          0.006923540036122818,
          0.006923540036122818,
          0.007525586995785672,
          0.007525586995785672,
          0.007826610475617099,
          0.007826610475617099,
          0.008127633955448525,
          0.008127633955448525,
          0.008729680915111379,
          0.008729680915111379,
          0.009331727874774232,
          0.009331727874774232,
          0.009933774834437087,
          0.009933774834437087,
          0.01053582179409994,
          0.01053582179409994,
          0.010836845273931367,
          0.010836845273931367,
          0.011438892233594221,
          0.011438892233594221,
          0.011739915713425647,
          0.011739915713425647,
          0.012341962673088501,
          0.012341962673088501,
          0.012642986152919929,
          0.012642986152919929,
          0.012944009632751354,
          0.012944009632751354,
          0.013546056592414209,
          0.013546056592414209,
          0.013847080072245636,
          0.013847080072245636,
          0.014750150511739916,
          0.015352197471402769,
          0.02588801926550271,
          0.026189042745334137,
          0.027092113184828417,
          0.03281155930162553,
          0.034015653220951236,
          0.037025888019265506,
          0.03762793497892836,
          0.04786273329319687,
          0.048464780252859725,
          0.049066827212522576,
          0.04966887417218543,
          0.057194461167971104,
          0.057796508127633955,
          0.060204695966285374,
          0.060806742925948225,
          0.06893437688139675,
          0.0695364238410596,
          0.07344972907886815,
          0.07435279951836243,
          0.07495484647802529,
          0.07916917519566526,
          0.08007224563515954,
          0.08187838651414811,
          0.08248043347381095,
          0.09030704394942805,
          0.09090909090909091,
          0.09512341962673089,
          0.09572546658639373,
          0.10475617098133655,
          0.1053582179409994,
          0.13245033112582782,
          0.13245033112582782,
          0.13847080072245635,
          0.1390728476821192,
          0.1538229981938591,
          0.15442504515352198,
          0.1568332329921734,
          0.15743527995183623,
          0.15894039735099338,
          0.15894039735099338,
          0.16225165562913907,
          0.1628537025888019,
          0.16405779650812763,
          0.1646598434677905,
          0.16736905478627334,
          0.16797110174593619,
          0.18844069837447322,
          0.18904274533413606,
          0.20018061408789886,
          0.2007826610475617,
          0.20891029500301023,
          0.2095123419626731,
          0.23389524382901866,
          0.2344972907886815,
          0.25586995785671285,
          0.25647200481637566,
          0.2633955448524985,
          0.26399759181216137,
          0.26580373269114993,
          0.26640577965081275,
          0.28747742323901265,
          0.28747742323901265,
          0.2934978928356412,
          0.2944009632751355,
          0.30072245635159545,
          0.30072245635159545,
          0.30433473810957257,
          0.30433473810957257,
          0.304635761589404,
          0.30523780854906685,
          0.3070439494280554,
          0.3076459963877182,
          0.3181818181818182,
          0.31908488862131246,
          0.327212522576761,
          0.32781456953642385,
          0.33684527393136665,
          0.33774834437086093,
          0.3464780252859723,
          0.34708007224563514,
          0.3753762793497893,
          0.37627934978928357,
          0.4018663455749548,
          0.40307043949428056,
          0.4045755568934377,
          0.40517760385310053,
          0.4066827212522577,
          0.40728476821192056,
          0.42083082480433476,
          0.4214328717639976,
          0.43106562311860325,
          0.4316676700782661,
          0.442203491872366,
          0.4428055388320289,
          0.4473208910295003,
          0.44822396146899457,
          0.44882600842865744,
          0.4494280553883203,
          0.45003010234798313,
          0.450632149307646,
          0.4512341962673089,
          0.45213726670680315,
          0.45334136062612884,
          0.45695364238410596,
          0.45755568934376883,
          0.46116797110174595,
          0.46177001806140877,
          0.46237206502107164,
          0.4629741119807345,
          0.4692956050571945,
          0.4698976520168573,
          0.481637567730283,
          0.4822396146899458,
          0.4900662251655629,
          0.4906682721252258,
          0.49337748344370863,
          0.49397953040337145,
          0.4942805538832029,
          0.4948826008428657,
          0.4951836243226972,
          0.49608669476219147,
          0.49698976520168575,
          0.49759181216134857,
          0.49939795304033713,
          0.5,
          0.5006020469596628,
          0.5015051173991572,
          0.50210716435882,
          0.5030102347983143,
          0.5036122817579771,
          0.5045153521974715,
          0.5054184226369657,
          0.5060204695966285,
          0.5072245635159542,
          0.5147501505117399,
          0.5153521974714028,
          0.516255267910897,
          0.5171583383503914,
          0.5758579169175195,
          0.5770620108368453,
          0.6195063214930765,
          0.6210114388922336,
          0.6216134858518965,
          0.6237206502107164,
          0.6243226971703792,
          0.6249247441300422,
          0.6300421432871764,
          0.6306441902468393,
          0.6309452137266707,
          0.6315472606863335,
          0.631848284166165,
          0.6327513546056592,
          0.633955448524985,
          0.6342564720048164,
          0.6390728476821192,
          0.6402769416014449,
          0.6414810355207706,
          0.6420830824804334,
          0.6432871763997592,
          0.643889223359422,
          0.6468994581577363,
          0.6475015051173991,
          0.6559301625526791,
          0.6568332329921734,
          0.6658639373871162,
          0.6664659843467791,
          0.6688741721854304,
          0.6697772426249248,
          0.6857314870559904,
          0.6863335340156532,
          0.6914509331727875,
          0.6920529801324503,
          0.6929560505719446,
          0.6938591210114389,
          0.6965683323299218,
          0.6971703792895846,
          0.6989765201685731,
          0.699578567128236,
          0.6998795906080675,
          0.7007826610475617,
          0.7013847080072245,
          0.701685731487056,
          0.7025888019265503,
          0.7074051776038531,
          0.7089102950030103,
          0.7182420228777845,
          0.7191450933172787,
          0.7323901264298616,
          0.7329921733895244,
          0.7332931968693558,
          0.7341962673088501,
          0.7354003612281758,
          0.7360024081878387,
          0.7375075255869958,
          0.7390126429861529,
          0.7393136664659844,
          0.7399157134256472,
          0.7417218543046358,
          0.7432269717037929,
          0.7438290186634557,
          0.7447320891029501,
          0.7450331125827815,
          0.7456351595424443,
          0.7459361830222757,
          0.74683925346177,
          0.7492474413004214,
          0.7504515352197472,
          0.75105358217941,
          0.7525586995785671,
          0.7528597230583985,
          0.7537627934978929,
          0.7540638169777243,
          0.7552679108970499,
          0.7561709813365443,
          0.7570740517760385,
          0.758880192655027,
          0.7609873570138471,
          0.7618904274533413,
          0.7636965683323299,
          0.7655027092113185,
          0.7661047561709813,
          0.767308850090307,
          0.7787477423239013,
          0.7793497892835641,
          0.8172787477423239,
          0.8193859121011439,
          0.820891029500301,
          0.8217940999397954,
          0.8223961468994582,
          0.8232992173389524,
          0.8287176399759181,
          0.8296207104154124,
          0.8365442504515352,
          0.8377483443708609,
          0.8401565322095124,
          0.8416616496086695,
          0.8422636965683323,
          0.8428657435279951,
          1
         ],
         "y": [
          0,
          0.0019047619047619048,
          0.7542857142857143,
          0.7542857142857143,
          0.7885714285714286,
          0.7885714285714286,
          0.8285714285714286,
          0.8285714285714286,
          0.8342857142857143,
          0.8342857142857143,
          0.8419047619047619,
          0.8419047619047619,
          0.8438095238095238,
          0.8438095238095238,
          0.8476190476190476,
          0.8476190476190476,
          0.8495238095238096,
          0.8495238095238096,
          0.8552380952380952,
          0.8552380952380952,
          0.8571428571428571,
          0.8571428571428571,
          0.8723809523809524,
          0.8723809523809524,
          0.8742857142857143,
          0.8742857142857143,
          0.8857142857142857,
          0.8857142857142857,
          0.8876190476190476,
          0.8876190476190476,
          0.8933333333333333,
          0.8933333333333333,
          0.8952380952380953,
          0.8952380952380953,
          0.8990476190476191,
          0.8990476190476191,
          0.900952380952381,
          0.900952380952381,
          0.9028571428571428,
          0.9028571428571428,
          0.9085714285714286,
          0.9085714285714286,
          0.9180952380952381,
          0.9180952380952381,
          0.92,
          0.92,
          0.9276190476190476,
          0.9276190476190476,
          0.940952380952381,
          0.940952380952381,
          0.9428571428571428,
          0.9428571428571428,
          0.9447619047619048,
          0.9447619047619048,
          0.9466666666666667,
          0.9466666666666667,
          0.9657142857142857,
          0.9657142857142857,
          0.9676190476190476,
          0.9676190476190476,
          0.9695238095238096,
          0.9695238095238096,
          0.9733333333333334,
          0.9733333333333334,
          0.9733333333333334,
          0.9904761904761905,
          0.9904761904761905,
          0.9904761904761905,
          0.9904761904761905,
          0.9904761904761905,
          0.9904761904761905,
          0.9904761904761905,
          0.9904761904761905,
          0.9904761904761905,
          0.9904761904761905,
          0.9904761904761905,
          0.9904761904761905,
          0.9904761904761905,
          0.9904761904761905,
          0.9904761904761905,
          0.9904761904761905,
          0.9904761904761905,
          0.9904761904761905,
          0.9904761904761905,
          0.9904761904761905,
          0.9904761904761905,
          0.9904761904761905,
          0.9904761904761905,
          0.9904761904761905,
          0.9904761904761905,
          0.9904761904761905,
          0.9904761904761905,
          0.9904761904761905,
          0.9904761904761905,
          0.9904761904761905,
          0.9904761904761905,
          0.9923809523809524,
          0.9923809523809524,
          0.9923809523809524,
          0.9923809523809524,
          0.9923809523809524,
          0.9923809523809524,
          0.9923809523809524,
          0.9923809523809524,
          0.9942857142857143,
          0.9942857142857143,
          0.9942857142857143,
          0.9942857142857143,
          0.9942857142857143,
          0.9942857142857143,
          0.9942857142857143,
          0.9942857142857143,
          0.9942857142857143,
          0.9942857142857143,
          0.9942857142857143,
          0.9942857142857143,
          0.9942857142857143,
          0.9942857142857143,
          0.9942857142857143,
          0.9942857142857143,
          0.9942857142857143,
          0.9942857142857143,
          0.9942857142857143,
          0.9942857142857143,
          0.9942857142857143,
          0.9942857142857143,
          0.9961904761904762,
          0.9961904761904762,
          0.9961904761904762,
          0.9961904761904762,
          0.9980952380952381,
          0.9980952380952381,
          1,
          1,
          1,
          1,
          1,
          1,
          1,
          1,
          1,
          1,
          1,
          1,
          1,
          1,
          1,
          1,
          1,
          1,
          1,
          1,
          1,
          1,
          1,
          1,
          1,
          1,
          1,
          1,
          1,
          1,
          1,
          1,
          1,
          1,
          1,
          1,
          1,
          1,
          1,
          1,
          1,
          1,
          1,
          1,
          1,
          1,
          1,
          1,
          1,
          1,
          1,
          1,
          1,
          1,
          1,
          1,
          1,
          1,
          1,
          1,
          1,
          1,
          1,
          1,
          1,
          1,
          1,
          1,
          1,
          1,
          1,
          1,
          1,
          1,
          1,
          1,
          1,
          1,
          1,
          1,
          1,
          1,
          1,
          1,
          1,
          1,
          1,
          1,
          1,
          1,
          1,
          1,
          1,
          1,
          1,
          1,
          1,
          1,
          1,
          1,
          1,
          1,
          1,
          1,
          1,
          1,
          1,
          1,
          1,
          1,
          1,
          1,
          1,
          1,
          1,
          1,
          1,
          1,
          1,
          1,
          1,
          1,
          1,
          1,
          1,
          1,
          1,
          1,
          1,
          1,
          1,
          1,
          1,
          1,
          1,
          1,
          1,
          1,
          1,
          1,
          1,
          1,
          1,
          1,
          1,
          1,
          1,
          1,
          1,
          1,
          1,
          1,
          1,
          1,
          1,
          1,
          1,
          1,
          1,
          1,
          1,
          1,
          1,
          1,
          1,
          1,
          1,
          1,
          1,
          1,
          1,
          1
         ]
        },
        {
         "line": {
          "width": 2
         },
         "mode": "lines",
         "name": "ROC curve of class 4 (AUC = 0.99)",
         "type": "scatter",
         "x": [
          0,
          0,
          0,
          0,
          0,
          0,
          0,
          0,
          0,
          0,
          0,
          0,
          0,
          0,
          0,
          0,
          0,
          0.0003028467595396729,
          0.0003028467595396729,
          0.0006056935190793458,
          0.0006056935190793458,
          0.0009085402786190188,
          0.0009085402786190188,
          0.0012113870381586917,
          0.0012113870381586917,
          0.0015142337976983646,
          0.0015142337976983646,
          0.0018170805572380376,
          0.0018170805572380376,
          0.0027256208358570565,
          0.0027256208358570565,
          0.0030284675953967293,
          0.0030284675953967293,
          0.003331314354936402,
          0.003331314354936402,
          0.0036341611144760752,
          0.0036341611144760752,
          0.003937007874015748,
          0.003937007874015748,
          0.004239854633555421,
          0.004239854633555421,
          0.004845548152634767,
          0.004845548152634767,
          0.00514839491217444,
          0.00514839491217444,
          0.005451241671714113,
          0.005451241671714113,
          0.0060569351907934586,
          0.0060569351907934586,
          0.006359781950333132,
          0.006359781950333132,
          0.006965475469412477,
          0.006965475469412477,
          0.007571168988491823,
          0.007571168988491823,
          0.008479709267110842,
          0.008479709267110842,
          0.00938824954572986,
          0.00938824954572986,
          0.009691096305269533,
          0.009691096305269533,
          0.009993943064809207,
          0.009993943064809207,
          0.010599636583888553,
          0.010599636583888553,
          0.013022410660205935,
          0.013022410660205935,
          0.013325257419745608,
          0.013325257419745608,
          0.013930950938824955,
          0.013930950938824955,
          0.014233797698364628,
          0.014233797698364628,
          0.014536644457904301,
          0.014536644457904301,
          0.015445184736523319,
          0.015445184736523319,
          0.015748031496062992,
          0.015748031496062992,
          0.016050878255602665,
          0.016050878255602665,
          0.016959418534221685,
          0.01756511205330103,
          0.01756511205330103,
          0.017867958812840704,
          0.017867958812840704,
          0.019079345850999394,
          0.019079345850999394,
          0.020896426408237433,
          0.02150211992731678,
          0.02150211992731678,
          0.021804966686856452,
          0.021804966686856452,
          0.02271350696547547,
          0.023319200484554815,
          0.03573591762568141,
          0.04118715929739552,
          0.041792852816474865,
          0.042095699576014535,
          0.04270139309509388,
          0.04451847365233192,
          0.04451847365233192,
          0.04482132041187159,
          0.04482132041187159,
          0.056329497274379164,
          0.05693519079345851,
          0.058146577831617204,
          0.05875227135069655,
          0.06753482737734706,
          0.0681405208964264,
          0.07056329497274379,
          0.07056329497274379,
          0.07540884312537856,
          0.07540884312537856,
          0.07571168988491823,
          0.07571168988491823,
          0.07692307692307693,
          0.07692307692307693,
          0.07783161720169594,
          0.07843731072077528,
          0.07934585099939431,
          0.08025439127801333,
          0.08086008479709267,
          0.08146577831617202,
          0.08903694730466384,
          0.08994548758328286,
          0.09055118110236221,
          0.09357964869775894,
          0.09357964869775894,
          0.09600242277407632,
          0.09660811629315566,
          0.10448213204118716,
          0.10448213204118716,
          0.10508782556026651,
          0.10993337371290127,
          0.10993337371290127,
          0.11356753482737734,
          0.11356753482737734,
          0.11447607510599636,
          0.11508176862507571,
          0.11932162325863113,
          0.11932162325863113,
          0.12477286493034524,
          0.12477286493034524,
          0.1262870987280436,
          0.1262870987280436,
          0.12780133252574197,
          0.12780133252574197,
          0.14627498485766202,
          0.14688067837674137,
          0.14688067837674137,
          0.14778921865536038,
          0.14778921865536038,
          0.15172622652937615,
          0.15233192004845547,
          0.1532404603270745,
          0.15384615384615385,
          0.1556632344033919,
          0.1556632344033919,
          0.1565717746820109,
          0.15717746820109024,
          0.1623258631132647,
          0.16293155663234404,
          0.1665657177468201,
          0.16717141126589946,
          0.17534827377347062,
          0.17595396729254997,
          0.1844336765596608,
          0.1844336765596608,
          0.19412477286493035,
          0.1947304663840097,
          0.20351302241066022,
          0.20351302241066022,
          0.21290127195639005,
          0.2135069654754694,
          0.21562689279224712,
          0.21623258631132647,
          0.21774682010902482,
          0.21774682010902482,
          0.2192610539067232,
          0.2192610539067232,
          0.2371290127195639,
          0.2371290127195639,
          0.24197456087219868,
          0.242580254391278,
          0.2549969715324046,
          0.25560266505148393,
          0.25984251968503935,
          0.25984251968503935,
          0.2607510599636584,
          0.26135675348273774,
          0.2840702604482132,
          0.28497880072683224,
          0.29497274379164146,
          0.29557843731072075,
          0.2973955178679588,
          0.29800121138703817,
          0.3007268322228952,
          0.3007268322228952,
          0.30920654149000604,
          0.31011508176862507,
          0.31798909751665655,
          0.3185947910357359,
          0.33282858873410054,
          0.33373712901271957,
          0.34009691096305267,
          0.340702604482132,
          0.3509993943064809,
          0.3509993943064809,
          0.36553603876438523,
          0.36644457904300426,
          0.3885523924894004,
          0.3885523924894004,
          0.39067231980617806,
          0.39188370684433677,
          0.3940036341611145,
          0.3946093276801938,
          0.3961235614778922,
          0.39672925499697154,
          0.4103573591762568,
          0.4109630526953362,
          0.4206541490006057,
          0.421259842519685,
          0.43246517262265294,
          0.4330708661417323,
          0.4364021804966687,
          0.43700787401574803,
          0.43821926105390674,
          0.43912780133252577,
          0.43973349485160507,
          0.4409448818897638,
          0.4421562689279225,
          0.44276196244700183,
          0.4433676559660812,
          0.4439733494851605,
          0.44912174439733493,
          0.4497274379164143,
          0.45124167171411267,
          0.451847365233192,
          0.45760145366444577,
          0.4582071471835251,
          0.4600242277407632,
          0.46062992125984253,
          0.47516656571774685,
          0.47577225923682614,
          0.4763779527559055,
          0.47728649303452453,
          0.47819503331314356,
          0.4788007268322229,
          0.48697758933979407,
          0.4875832828588734,
          0.49061175045427013,
          0.4912174439733495,
          0.49152029073288916,
          0.4921259842519685,
          0.4924288310115082,
          0.49333737129012717,
          0.4942459115687462,
          0.49485160508782555,
          0.49606299212598426,
          0.4966686856450636,
          0.49727437916414297,
          0.49818291944276194,
          0.4987886129618413,
          0.49939430648092065,
          0.5,
          0.5015142337976983,
          0.5024227740763174,
          0.5030284675953968,
          0.5042398546335555,
          0.6108419139915203,
          0.6123561477892187,
          0.612961841308298,
          0.6150817686250757,
          0.615687462144155,
          0.6162931556632344,
          0.6168988491823137,
          0.6220472440944882,
          0.6232586311326469,
          0.6235614778921865,
          0.6244700181708056,
          0.6256814052089643,
          0.6262870987280436,
          0.6311326468806784,
          0.6323440339188371,
          0.6335554209569958,
          0.6338582677165354,
          0.6344639612356148,
          0.6350696547546941,
          0.6356753482737735,
          0.6441550575408843,
          0.6447607510599637,
          0.6559660811629315,
          0.6568746214415506,
          0.6695941853422168,
          0.6701998788612962,
          0.6747425802543913,
          0.6756511205330104,
          0.7610539067231981,
          0.7616596002422774,
          0.7631738340399757,
          0.7643852210781344,
          0.7707450030284676,
          0.7716535433070866,
          0.7743791641429437,
          0.774984857662023,
          0.7752877044215627,
          0.775893397940642,
          0.776801938219261,
          0.7774076317383404,
          0.7783161720169595,
          0.7792247122955784,
          0.7795275590551181,
          0.7801332525741974,
          0.7804360993337371,
          0.7813446396123561,
          0.7886129618413082,
          0.7901271956390067,
          0.791641429436705,
          0.7925499697153241,
          0.8013325257419746,
          0.8031496062992126,
          0.803755299818292,
          0.8043609933373713,
          0.8058752271350696,
          0.8067837674136886,
          0.8086008479709267,
          0.809206541490006,
          0.8104179285281647,
          0.8119321623258631,
          0.8125378558449424,
          0.8146577831617202,
          0.8152634766807996,
          0.8161720169594185,
          0.8170805572380375,
          0.818594791035736,
          0.8192004845548153,
          0.8207147183525136,
          0.8219261053906723,
          0.8237431859479104,
          0.8243488794669896,
          0.8258631132646881,
          0.8267716535433071,
          0.8279830405814658,
          0.8282858873410055,
          0.8291944276196245,
          0.8294972743791641,
          0.8304058146577832,
          0.8313143549364022,
          0.8322228952150212,
          0.8349485160508783,
          0.8358570563294972,
          0.8364627498485766,
          0.837068443367656,
          0.8385826771653543,
          0.8391883706844336,
          0.8464566929133859,
          0.8470623864324651,
          1
         ],
         "y": [
          0,
          0.001834862385321101,
          0.09541284403669725,
          0.10275229357798166,
          0.11376146788990826,
          0.12293577981651377,
          0.15412844036697249,
          0.1596330275229358,
          0.181651376146789,
          0.1853211009174312,
          0.2018348623853211,
          0.20733944954128442,
          0.20917431192660552,
          0.21467889908256882,
          0.22201834862385322,
          0.23486238532110093,
          0.653211009174312,
          0.653211009174312,
          0.6770642201834862,
          0.6770642201834862,
          0.691743119266055,
          0.691743119266055,
          0.7467889908256881,
          0.7467889908256881,
          0.7559633027522936,
          0.7559633027522936,
          0.7577981651376147,
          0.7577981651376147,
          0.763302752293578,
          0.763302752293578,
          0.7908256880733945,
          0.7908256880733945,
          0.8110091743119267,
          0.8110091743119267,
          0.8165137614678899,
          0.8165137614678899,
          0.8293577981651377,
          0.8293577981651377,
          0.8642201834862385,
          0.8642201834862385,
          0.8660550458715597,
          0.8660550458715597,
          0.8697247706422019,
          0.8697247706422019,
          0.8715596330275229,
          0.8715596330275229,
          0.8733944954128441,
          0.8733944954128441,
          0.8770642201834863,
          0.8770642201834863,
          0.8788990825688073,
          0.8788990825688073,
          0.8807339449541285,
          0.8807339449541285,
          0.8825688073394495,
          0.8825688073394495,
          0.8862385321100917,
          0.8862385321100917,
          0.8935779816513761,
          0.8935779816513761,
          0.8990825688073395,
          0.8990825688073395,
          0.9045871559633027,
          0.9045871559633027,
          0.9064220183486239,
          0.9064220183486239,
          0.908256880733945,
          0.908256880733945,
          0.9119266055045872,
          0.9119266055045872,
          0.9137614678899083,
          0.9137614678899083,
          0.9174311926605505,
          0.9174311926605505,
          0.9192660550458716,
          0.9192660550458716,
          0.9211009174311927,
          0.9211009174311927,
          0.9229357798165138,
          0.9229357798165138,
          0.926605504587156,
          0.926605504587156,
          0.926605504587156,
          0.9284403669724771,
          0.9284403669724771,
          0.9321100917431193,
          0.9321100917431193,
          0.9339449541284404,
          0.9339449541284404,
          0.9339449541284404,
          0.9357798165137615,
          0.9357798165137615,
          0.9394495412844037,
          0.9394495412844037,
          0.9394495412844037,
          0.9504587155963303,
          0.9504587155963303,
          0.9504587155963303,
          0.9504587155963303,
          0.9504587155963303,
          0.9504587155963303,
          0.9522935779816514,
          0.9522935779816514,
          0.9541284403669725,
          0.9541284403669725,
          0.9541284403669725,
          0.9541284403669725,
          0.9541284403669725,
          0.9541284403669725,
          0.9541284403669725,
          0.9541284403669725,
          0.9559633027522936,
          0.9559633027522936,
          0.9577981651376147,
          0.9577981651376147,
          0.9596330275229358,
          0.9596330275229358,
          0.9614678899082569,
          0.9614678899082569,
          0.9614678899082569,
          0.9614678899082569,
          0.9614678899082569,
          0.9614678899082569,
          0.9614678899082569,
          0.9614678899082569,
          0.9614678899082569,
          0.9614678899082569,
          0.9614678899082569,
          0.963302752293578,
          0.963302752293578,
          0.963302752293578,
          0.963302752293578,
          0.9651376146788991,
          0.9651376146788991,
          0.9651376146788991,
          0.9669724770642202,
          0.9669724770642202,
          0.9688073394495413,
          0.9688073394495413,
          0.9688073394495413,
          0.9688073394495413,
          0.9706422018348624,
          0.9706422018348624,
          0.9724770642201835,
          0.9724770642201835,
          0.9743119266055046,
          0.9743119266055046,
          0.9761467889908257,
          0.9761467889908257,
          0.9761467889908257,
          0.9779816513761468,
          0.9779816513761468,
          0.9798165137614679,
          0.9798165137614679,
          0.9798165137614679,
          0.9798165137614679,
          0.9798165137614679,
          0.9798165137614679,
          0.981651376146789,
          0.981651376146789,
          0.981651376146789,
          0.981651376146789,
          0.981651376146789,
          0.981651376146789,
          0.981651376146789,
          0.981651376146789,
          0.981651376146789,
          0.981651376146789,
          0.9834862385321101,
          0.9834862385321101,
          0.9834862385321101,
          0.9834862385321101,
          0.9853211009174312,
          0.9853211009174312,
          0.9853211009174312,
          0.9853211009174312,
          0.9853211009174312,
          0.9853211009174312,
          0.9871559633027523,
          0.9871559633027523,
          0.9908256880733946,
          0.9908256880733946,
          0.9926605504587156,
          0.9926605504587156,
          0.9926605504587156,
          0.9926605504587156,
          0.9926605504587156,
          0.9926605504587156,
          0.9944954128440368,
          0.9944954128440368,
          0.9944954128440368,
          0.9944954128440368,
          0.9944954128440368,
          0.9944954128440368,
          0.9944954128440368,
          0.9944954128440368,
          0.9944954128440368,
          0.9944954128440368,
          0.9963302752293578,
          0.9963302752293578,
          0.9963302752293578,
          0.9963302752293578,
          0.9963302752293578,
          0.9963302752293578,
          0.9963302752293578,
          0.9963302752293578,
          0.9963302752293578,
          0.9963302752293578,
          0.998165137614679,
          0.998165137614679,
          0.998165137614679,
          0.998165137614679,
          1,
          1,
          1,
          1,
          1,
          1,
          1,
          1,
          1,
          1,
          1,
          1,
          1,
          1,
          1,
          1,
          1,
          1,
          1,
          1,
          1,
          1,
          1,
          1,
          1,
          1,
          1,
          1,
          1,
          1,
          1,
          1,
          1,
          1,
          1,
          1,
          1,
          1,
          1,
          1,
          1,
          1,
          1,
          1,
          1,
          1,
          1,
          1,
          1,
          1,
          1,
          1,
          1,
          1,
          1,
          1,
          1,
          1,
          1,
          1,
          1,
          1,
          1,
          1,
          1,
          1,
          1,
          1,
          1,
          1,
          1,
          1,
          1,
          1,
          1,
          1,
          1,
          1,
          1,
          1,
          1,
          1,
          1,
          1,
          1,
          1,
          1,
          1,
          1,
          1,
          1,
          1,
          1,
          1,
          1,
          1,
          1,
          1,
          1,
          1,
          1,
          1,
          1,
          1,
          1,
          1,
          1,
          1,
          1,
          1,
          1,
          1,
          1,
          1,
          1,
          1,
          1,
          1,
          1,
          1,
          1,
          1,
          1,
          1,
          1,
          1,
          1,
          1,
          1,
          1,
          1,
          1,
          1,
          1,
          1,
          1,
          1,
          1,
          1,
          1,
          1,
          1,
          1,
          1,
          1,
          1,
          1
         ]
        },
        {
         "line": {
          "width": 2
         },
         "mode": "lines",
         "name": "ROC curve of class 5 (AUC = 0.96)",
         "type": "scatter",
         "x": [
          0,
          0,
          0,
          0,
          0,
          0,
          0,
          0,
          0,
          0,
          0,
          0,
          0,
          0,
          0,
          0,
          0,
          0,
          0,
          0,
          0,
          0,
          0,
          0,
          0,
          0,
          0,
          0,
          0,
          0,
          0,
          0,
          0,
          0,
          0,
          0,
          0,
          0,
          0,
          0,
          0,
          0,
          0,
          0.00030525030525030525,
          0.00030525030525030525,
          0.00030525030525030525,
          0.00030525030525030525,
          0.0006105006105006105,
          0.0006105006105006105,
          0.0009157509157509158,
          0.0009157509157509158,
          0.001221001221001221,
          0.001221001221001221,
          0.001221001221001221,
          0.0015262515262515263,
          0.0015262515262515263,
          0.0015262515262515263,
          0.0015262515262515263,
          0.0018315018315018315,
          0.0018315018315018315,
          0.002136752136752137,
          0.002136752136752137,
          0.002136752136752137,
          0.0027472527472527475,
          0.0027472527472527475,
          0.0030525030525030525,
          0.0030525030525030525,
          0.003357753357753358,
          0.003357753357753358,
          0.003663003663003663,
          0.003663003663003663,
          0.003968253968253968,
          0.003968253968253968,
          0.004273504273504274,
          0.004273504273504274,
          0.004578754578754579,
          0.004578754578754579,
          0.004884004884004884,
          0.004884004884004884,
          0.005189255189255189,
          0.005189255189255189,
          0.005494505494505495,
          0.005494505494505495,
          0.0057997557997558,
          0.0057997557997558,
          0.007020757020757021,
          0.007020757020757021,
          0.007326007326007326,
          0.007326007326007326,
          0.007936507936507936,
          0.007936507936507936,
          0.008241758241758242,
          0.008241758241758242,
          0.008547008547008548,
          0.008547008547008548,
          0.008852258852258852,
          0.008852258852258852,
          0.010073260073260074,
          0.010073260073260074,
          0.010378510378510378,
          0.010378510378510378,
          0.010683760683760684,
          0.011294261294261294,
          0.011294261294261294,
          0.0115995115995116,
          0.0115995115995116,
          0.011904761904761904,
          0.011904761904761904,
          0.01221001221001221,
          0.01221001221001221,
          0.01282051282051282,
          0.01282051282051282,
          0.013125763125763126,
          0.013125763125763126,
          0.013736263736263736,
          0.013736263736263736,
          0.014041514041514042,
          0.014041514041514042,
          0.014041514041514042,
          0.015567765567765568,
          0.015567765567765568,
          0.01617826617826618,
          0.016788766788766788,
          0.018009768009768008,
          0.018009768009768008,
          0.018315018315018316,
          0.018315018315018316,
          0.019230769230769232,
          0.019230769230769232,
          0.020451770451770452,
          0.020451770451770452,
          0.021062271062271064,
          0.021062271062271064,
          0.021367521367521368,
          0.021367521367521368,
          0.021672771672771672,
          0.021672771672771672,
          0.023809523809523808,
          0.023809523809523808,
          0.025030525030525032,
          0.025030525030525032,
          0.02564102564102564,
          0.02564102564102564,
          0.027167277167277168,
          0.027167277167277168,
          0.027472527472527472,
          0.027472527472527472,
          0.028693528693528692,
          0.028693528693528692,
          0.028998778998779,
          0.028998778998779,
          0.029304029304029304,
          0.029304029304029304,
          0.029609279609279608,
          0.029609279609279608,
          0.029914529914529916,
          0.029914529914529916,
          0.030525030525030524,
          0.030525030525030524,
          0.031135531135531136,
          0.031135531135531136,
          0.03144078144078144,
          0.03144078144078144,
          0.031746031746031744,
          0.031746031746031744,
          0.03296703296703297,
          0.03296703296703297,
          0.033577533577533576,
          0.03388278388278388,
          0.03388278388278388,
          0.034493284493284496,
          0.0347985347985348,
          0.0347985347985348,
          0.035103785103785104,
          0.035103785103785104,
          0.03540903540903541,
          0.03540903540903541,
          0.03571428571428571,
          0.03571428571428571,
          0.03632478632478633,
          0.03632478632478633,
          0.03663003663003663,
          0.03663003663003663,
          0.03724053724053724,
          0.03724053724053724,
          0.03785103785103785,
          0.03785103785103785,
          0.03815628815628816,
          0.03815628815628816,
          0.038461538461538464,
          0.03907203907203907,
          0.03968253968253968,
          0.040293040293040296,
          0.04120879120879121,
          0.04120879120879121,
          0.04151404151404151,
          0.04151404151404151,
          0.041819291819291816,
          0.042735042735042736,
          0.04365079365079365,
          0.05372405372405373,
          0.05402930402930403,
          0.05402930402930403,
          0.05555555555555555,
          0.05555555555555555,
          0.05616605616605617,
          0.05616605616605617,
          0.05616605616605617,
          0.05647130647130647,
          0.05647130647130647,
          0.05708180708180708,
          0.05708180708180708,
          0.05952380952380952,
          0.05952380952380952,
          0.05982905982905983,
          0.05982905982905983,
          0.06105006105006105,
          0.06105006105006105,
          0.0644078144078144,
          0.0644078144078144,
          0.06654456654456654,
          0.06715506715506715,
          0.06868131868131869,
          0.06868131868131869,
          0.0695970695970696,
          0.0695970695970696,
          0.07417582417582418,
          0.07417582417582418,
          0.0757020757020757,
          0.0757020757020757,
          0.07631257631257632,
          0.07631257631257632,
          0.07631257631257632,
          0.07936507936507936,
          0.07936507936507936,
          0.07967032967032966,
          0.07967032967032966,
          0.07997557997557997,
          0.08058608058608059,
          0.08058608058608059,
          0.08211233211233211,
          0.08211233211233211,
          0.08302808302808302,
          0.08302808302808302,
          0.08516483516483517,
          0.08516483516483517,
          0.08669108669108669,
          0.0876068376068376,
          0.08913308913308914,
          0.08913308913308914,
          0.09035409035409035,
          0.09035409035409035,
          0.09065934065934066,
          0.09065934065934066,
          0.09371184371184371,
          0.09371184371184371,
          0.09615384615384616,
          0.09676434676434677,
          0.09706959706959707,
          0.09706959706959707,
          0.09768009768009768,
          0.09768009768009768,
          0.09798534798534798,
          0.09798534798534798,
          0.09859584859584859,
          0.09859584859584859,
          0.0989010989010989,
          0.0989010989010989,
          0.0992063492063492,
          0.09981684981684982,
          0.09981684981684982,
          0.10347985347985347,
          0.10347985347985347,
          0.10378510378510379,
          0.10378510378510379,
          0.10561660561660562,
          0.10561660561660562,
          0.10653235653235653,
          0.10653235653235653,
          0.10836385836385837,
          0.10836385836385837,
          0.1105006105006105,
          0.1105006105006105,
          0.1111111111111111,
          0.1111111111111111,
          0.11141636141636142,
          0.11141636141636142,
          0.11385836385836386,
          0.11385836385836386,
          0.11721611721611722,
          0.11721611721611722,
          0.11965811965811966,
          0.11965811965811966,
          0.12148962148962149,
          0.1221001221001221,
          0.12393162393162394,
          0.12393162393162394,
          0.12698412698412698,
          0.12698412698412698,
          0.12728937728937728,
          0.12728937728937728,
          0.1285103785103785,
          0.1285103785103785,
          0.13247863247863248,
          0.13247863247863248,
          0.1333943833943834,
          0.1333943833943834,
          0.13797313797313798,
          0.13797313797313798,
          0.1385836385836386,
          0.1385836385836386,
          0.1398046398046398,
          0.1398046398046398,
          0.14041514041514042,
          0.14194139194139194,
          0.14194139194139194,
          0.14224664224664224,
          0.14224664224664224,
          0.14255189255189255,
          0.14255189255189255,
          0.14438339438339437,
          0.144993894993895,
          0.14682539682539683,
          0.14682539682539683,
          0.14743589743589744,
          0.14743589743589744,
          0.14835164835164835,
          0.14835164835164835,
          0.14865689865689866,
          0.14865689865689866,
          0.14957264957264957,
          0.14957264957264957,
          0.15048840048840048,
          0.15048840048840048,
          0.1510989010989011,
          0.1517094017094017,
          0.15323565323565325,
          0.15323565323565325,
          0.15415140415140416,
          0.15415140415140416,
          0.15506715506715507,
          0.15506715506715507,
          0.15537240537240538,
          0.15537240537240538,
          0.1565934065934066,
          0.1565934065934066,
          0.1578144078144078,
          0.1578144078144078,
          0.1581196581196581,
          0.1581196581196581,
          0.15873015873015872,
          0.15873015873015872,
          0.1626984126984127,
          0.1626984126984127,
          0.16788766788766787,
          0.16788766788766787,
          0.17032967032967034,
          0.17032967032967034,
          0.17185592185592186,
          0.17185592185592186,
          0.17399267399267399,
          0.17399267399267399,
          0.1742979242979243,
          0.1749084249084249,
          0.17796092796092797,
          0.17796092796092797,
          0.17857142857142858,
          0.17857142857142858,
          0.1855921855921856,
          0.1855921855921856,
          0.18803418803418803,
          0.18864468864468864,
          0.18956043956043955,
          0.18956043956043955,
          0.19261294261294262,
          0.19261294261294262,
          0.1974969474969475,
          0.1974969474969475,
          0.19993894993894995,
          0.19993894993894995,
          0.20024420024420025,
          0.20024420024420025,
          0.2039072039072039,
          0.2039072039072039,
          0.20543345543345543,
          0.20604395604395603,
          0.20604395604395603,
          0.20665445665445664,
          0.20665445665445664,
          0.2078754578754579,
          0.2078754578754579,
          0.21184371184371184,
          0.21245421245421245,
          0.21245421245421245,
          0.21367521367521367,
          0.21367521367521367,
          0.2148962148962149,
          0.2148962148962149,
          0.2216117216117216,
          0.2216117216117216,
          0.2277167277167277,
          0.2277167277167277,
          0.23015873015873015,
          0.23015873015873015,
          0.23412698412698413,
          0.23412698412698413,
          0.23656898656898656,
          0.23656898656898656,
          0.24114774114774115,
          0.24114774114774115,
          0.24358974358974358,
          0.2442002442002442,
          0.24877899877899878,
          0.24877899877899878,
          0.2612942612942613,
          0.2612942612942613,
          0.27380952380952384,
          0.27442002442002444,
          0.28357753357753357,
          0.2844932844932845,
          0.2909035409035409,
          0.2909035409035409,
          0.31043956043956045,
          0.31043956043956045,
          0.3199023199023199,
          0.32112332112332115,
          0.3238705738705739,
          0.3244810744810745,
          0.3253968253968254,
          0.326007326007326,
          0.3418803418803419,
          0.3424908424908425,
          0.34554334554334554,
          0.34615384615384615,
          0.3598901098901099,
          0.3605006105006105,
          0.3626373626373626,
          0.36324786324786323,
          0.3733211233211233,
          0.3733211233211233,
          0.4004884004884005,
          0.4010989010989011,
          0.4908424908424908,
          0.4908424908424908,
          0.5369352869352869,
          0.5375457875457875,
          0.5396825396825397,
          0.5405982905982906,
          0.5485347985347986,
          0.5500610500610501,
          0.550976800976801,
          0.5531135531135531,
          0.5537240537240538,
          0.5540293040293041,
          0.5592185592185592,
          0.5604395604395604,
          0.561050061050061,
          0.561965811965812,
          0.5631868131868132,
          0.5637973137973138,
          0.5686813186813187,
          0.568986568986569,
          0.5702075702075702,
          0.5711233211233211,
          0.5717338217338217,
          0.5732600732600732,
          0.5738705738705738,
          0.5808913308913309,
          0.5815018315018315,
          0.5876068376068376,
          0.5891330891330891,
          0.5949328449328449,
          0.5958485958485958,
          0.5964590964590964,
          0.634004884004884,
          0.6361416361416361,
          0.637057387057387,
          0.6379731379731379,
          0.6382783882783882,
          0.6391941391941391,
          0.6480463980463981,
          0.648962148962149,
          0.666056166056166,
          0.6672771672771672,
          0.7557997557997558,
          0.7564102564102564,
          0.7628205128205128,
          0.7637362637362637,
          0.7698412698412699,
          0.7710622710622711,
          0.7716727716727717,
          0.7741147741147741,
          0.7747252747252747,
          0.7756410256410257,
          0.7765567765567766,
          0.7771672771672772,
          0.7774725274725275,
          0.7783882783882784,
          0.7805250305250305,
          0.7811355311355311,
          0.7881562881562881,
          0.789072039072039,
          0.7945665445665445,
          0.796092796092796,
          0.8012820512820513,
          0.8018925518925519,
          0.8021978021978022,
          0.8031135531135531,
          0.8034188034188035,
          0.8040293040293041,
          0.8086080586080586,
          0.8092185592185592,
          0.8095238095238095,
          0.811050061050061,
          0.8128815628815629,
          0.8134920634920635,
          0.815018315018315,
          0.8159340659340659,
          0.8162393162393162,
          0.8168498168498168,
          0.8171550671550671,
          0.818070818070818,
          0.8192918192918193,
          0.8205128205128205,
          0.8211233211233211,
          0.8226495726495726,
          0.8229548229548229,
          0.8238705738705738,
          0.825091575091575,
          0.8269230769230769,
          0.8278388278388278,
          0.8287545787545788,
          0.8305860805860806,
          0.8324175824175825,
          0.8333333333333334,
          0.8354700854700855,
          0.8360805860805861,
          0.8363858363858364,
          0.836996336996337,
          0.8467643467643468,
          0.8473748473748474,
          1
         ],
         "y": [
          0,
          0.0017513134851138354,
          0.0070052539404553416,
          0.012259194395796848,
          0.01926444833625219,
          0.02276707530647986,
          0.03327495621716287,
          0.040280210157618214,
          0.04553415061295972,
          0.050788091068301226,
          0.0542907180385289,
          0.05779334500875657,
          0.06129597197898424,
          0.0647985989492119,
          0.07005253940455342,
          0.08056042031523643,
          0.0840630472854641,
          0.09281961471103327,
          0.09632224168126094,
          0.10332749562171628,
          0.10683012259194395,
          0.11208406304728546,
          0.11558669001751314,
          0.1243432574430823,
          0.12784588441331,
          0.1295971978984238,
          0.13485113835376533,
          0.21541155866900175,
          0.21891418563922943,
          0.22066549912434325,
          0.2276707530647986,
          0.2329246935201401,
          0.2504378283712785,
          0.2539404553415061,
          0.2609457092819615,
          0.26444833625218916,
          0.276707530647986,
          0.28021015761821366,
          0.29597197898423816,
          0.29947460595446584,
          0.3064798598949212,
          0.30998248686514884,
          0.3274956217162872,
          0.3274956217162872,
          0.3660245183887916,
          0.3712784588441331,
          0.4203152364273205,
          0.4203152364273205,
          0.4448336252189142,
          0.4448336252189142,
          0.4500875656742557,
          0.4500875656742557,
          0.45359019264448336,
          0.4553415061295972,
          0.4553415061295972,
          0.46234676007005254,
          0.46760070052539404,
          0.47285464098073554,
          0.47285464098073554,
          0.4816112084063047,
          0.4816112084063047,
          0.48336252189141854,
          0.4868651488616462,
          0.4868651488616462,
          0.4991243432574431,
          0.4991243432574431,
          0.500875656742557,
          0.500875656742557,
          0.5061295971978984,
          0.5061295971978984,
          0.521891418563923,
          0.521891418563923,
          0.5288966725043783,
          0.5288966725043783,
          0.5376532399299475,
          0.5376532399299475,
          0.5411558669001751,
          0.5411558669001751,
          0.5446584938704028,
          0.5446584938704028,
          0.5499124343257443,
          0.5499124343257443,
          0.5621716287215411,
          0.5621716287215411,
          0.563922942206655,
          0.563922942206655,
          0.5656742556917689,
          0.5656742556917689,
          0.5849387040280211,
          0.5849387040280211,
          0.5866900175131349,
          0.5866900175131349,
          0.5954465849387041,
          0.5954465849387041,
          0.6059544658493871,
          0.6059544658493871,
          0.6077057793345009,
          0.6077057793345009,
          0.6112084063047285,
          0.6112084063047285,
          0.6164623467600701,
          0.6164623467600701,
          0.6164623467600701,
          0.6199649737302977,
          0.6199649737302977,
          0.626970227670753,
          0.626970227670753,
          0.6287215411558669,
          0.6287215411558669,
          0.6304728546409807,
          0.6304728546409807,
          0.6339754816112084,
          0.6339754816112084,
          0.6357267950963222,
          0.6357267950963222,
          0.637478108581436,
          0.637478108581436,
          0.6409807355516638,
          0.6427320490367776,
          0.6427320490367776,
          0.6462346760070052,
          0.6462346760070052,
          0.6462346760070052,
          0.6462346760070052,
          0.647985989492119,
          0.647985989492119,
          0.6514886164623468,
          0.6514886164623468,
          0.6532399299474606,
          0.6532399299474606,
          0.6549912434325744,
          0.6549912434325744,
          0.6619964973730298,
          0.6619964973730298,
          0.6637478108581436,
          0.6637478108581436,
          0.6654991243432574,
          0.6654991243432574,
          0.6725043782837128,
          0.6725043782837128,
          0.6777583187390543,
          0.6777583187390543,
          0.6795096322241682,
          0.6795096322241682,
          0.681260945709282,
          0.681260945709282,
          0.6882661996497373,
          0.6882661996497373,
          0.6952714535901926,
          0.6952714535901926,
          0.6970227670753065,
          0.6970227670753065,
          0.6987740805604203,
          0.6987740805604203,
          0.702276707530648,
          0.702276707530648,
          0.7075306479859895,
          0.7075306479859895,
          0.712784588441331,
          0.712784588441331,
          0.7180385288966725,
          0.7180385288966725,
          0.7215411558669002,
          0.7215411558669002,
          0.7250437828371279,
          0.7250437828371279,
          0.7285464098073555,
          0.7285464098073555,
          0.7285464098073555,
          0.7302977232924693,
          0.7302977232924693,
          0.7302977232924693,
          0.7320490367775832,
          0.7320490367775832,
          0.7338003502626971,
          0.7338003502626971,
          0.7355516637478109,
          0.7355516637478109,
          0.7425569176882661,
          0.7425569176882661,
          0.7443082311733801,
          0.7443082311733801,
          0.7460595446584939,
          0.7460595446584939,
          0.7495621716287215,
          0.7495621716287215,
          0.7530647985989493,
          0.7530647985989493,
          0.7565674255691769,
          0.7565674255691769,
          0.7565674255691769,
          0.7565674255691769,
          0.7565674255691769,
          0.7565674255691769,
          0.7600700525394045,
          0.7600700525394045,
          0.7618213660245184,
          0.7618213660245184,
          0.7618213660245184,
          0.7635726795096323,
          0.7863397548161121,
          0.7863397548161121,
          0.7880910683012259,
          0.7880910683012259,
          0.7915936952714536,
          0.7915936952714536,
          0.7933450087565674,
          0.7968476357267951,
          0.7968476357267951,
          0.7985989492119089,
          0.7985989492119089,
          0.8003502626970228,
          0.8003502626970228,
          0.8021015761821366,
          0.8021015761821366,
          0.8038528896672504,
          0.8038528896672504,
          0.8056042031523643,
          0.8056042031523643,
          0.8073555166374781,
          0.8073555166374781,
          0.8073555166374781,
          0.8073555166374781,
          0.809106830122592,
          0.809106830122592,
          0.8126094570928196,
          0.8126094570928196,
          0.8161120840630472,
          0.8161120840630472,
          0.8178633975481612,
          0.8178633975481612,
          0.819614711033275,
          0.8231173380035026,
          0.8231173380035026,
          0.8248686514886164,
          0.8248686514886164,
          0.8266199649737302,
          0.8266199649737302,
          0.8266199649737302,
          0.8283712784588442,
          0.8283712784588442,
          0.830122591943958,
          0.830122591943958,
          0.8318739054290718,
          0.8318739054290718,
          0.8336252189141856,
          0.8336252189141856,
          0.8336252189141856,
          0.8336252189141856,
          0.8371278458844134,
          0.8371278458844134,
          0.8388791593695272,
          0.8388791593695272,
          0.840630472854641,
          0.840630472854641,
          0.8423817863397548,
          0.8423817863397548,
          0.8423817863397548,
          0.8423817863397548,
          0.8441330998248686,
          0.8441330998248686,
          0.8458844133099825,
          0.8458844133099825,
          0.8493870402802102,
          0.8493870402802102,
          0.851138353765324,
          0.851138353765324,
          0.8528896672504378,
          0.8528896672504378,
          0.8528896672504378,
          0.8546409807355516,
          0.8546409807355516,
          0.8563922942206655,
          0.8563922942206655,
          0.8598949211908932,
          0.8598949211908932,
          0.8633975481611208,
          0.8633975481611208,
          0.8651488616462347,
          0.8651488616462347,
          0.8669001751313485,
          0.8669001751313485,
          0.8686514886164624,
          0.8686514886164624,
          0.87215411558669,
          0.87215411558669,
          0.8774080560420315,
          0.8774080560420315,
          0.8791593695271454,
          0.8791593695271454,
          0.882661996497373,
          0.882661996497373,
          0.8844133099824869,
          0.8844133099824869,
          0.8844133099824869,
          0.8844133099824869,
          0.8861646234676007,
          0.8861646234676007,
          0.8879159369527145,
          0.8879159369527145,
          0.8896672504378283,
          0.8896672504378283,
          0.8914185639229422,
          0.8914185639229422,
          0.8931698774080561,
          0.8931698774080561,
          0.8949211908931699,
          0.8949211908931699,
          0.8966725043782837,
          0.8966725043782837,
          0.9001751313485113,
          0.9001751313485113,
          0.9019264448336253,
          0.9019264448336253,
          0.9019264448336253,
          0.9054290718038529,
          0.9054290718038529,
          0.9071803852889667,
          0.9071803852889667,
          0.9106830122591943,
          0.9106830122591943,
          0.9106830122591943,
          0.9106830122591943,
          0.9124343257443083,
          0.9124343257443083,
          0.9141856392294221,
          0.9141856392294221,
          0.9159369527145359,
          0.9159369527145359,
          0.9176882661996497,
          0.9176882661996497,
          0.9194395796847635,
          0.9194395796847635,
          0.9211908931698775,
          0.9211908931698775,
          0.9211908931698775,
          0.9211908931698775,
          0.9229422066549913,
          0.9229422066549913,
          0.9246935201401051,
          0.9246935201401051,
          0.9264448336252189,
          0.9264448336252189,
          0.9281961471103327,
          0.9281961471103327,
          0.9316987740805605,
          0.9316987740805605,
          0.9334500875656743,
          0.9334500875656743,
          0.9352014010507881,
          0.9352014010507881,
          0.9369527145359019,
          0.9369527145359019,
          0.9387040280210157,
          0.9387040280210157,
          0.9404553415061296,
          0.9404553415061296,
          0.9422066549912435,
          0.9422066549912435,
          0.9439579684763573,
          0.9439579684763573,
          0.9457092819614711,
          0.9457092819614711,
          0.9457092819614711,
          0.9457092819614711,
          0.9474605954465849,
          0.9474605954465849,
          0.9492119089316988,
          0.9492119089316988,
          0.9527145359019265,
          0.9527145359019265,
          0.9527145359019265,
          0.9527145359019265,
          0.9544658493870403,
          0.9544658493870403,
          0.9562171628721541,
          0.9562171628721541,
          0.957968476357268,
          0.957968476357268,
          0.9597197898423818,
          0.9597197898423818,
          0.9614711033274956,
          0.9614711033274956,
          0.9649737302977233,
          0.9649737302977233,
          0.9649737302977233,
          0.9667250437828371,
          0.9667250437828371,
          0.968476357267951,
          0.968476357267951,
          0.9702276707530648,
          0.9702276707530648,
          0.9702276707530648,
          0.9719789842381786,
          0.9719789842381786,
          0.9737302977232924,
          0.9737302977232924,
          0.9754816112084063,
          0.9754816112084063,
          0.9807355516637478,
          0.9807355516637478,
          0.9824868651488616,
          0.9824868651488616,
          0.9842381786339754,
          0.9842381786339754,
          0.9859894921190894,
          0.9859894921190894,
          0.9877408056042032,
          0.9877408056042032,
          0.989492119089317,
          0.989492119089317,
          0.989492119089317,
          0.989492119089317,
          0.9912434325744308,
          0.9912434325744308,
          0.9929947460595446,
          0.9929947460595446,
          0.9929947460595446,
          0.9929947460595446,
          0.9929947460595446,
          0.9929947460595446,
          0.9947460595446584,
          0.9947460595446584,
          0.9964973730297724,
          0.9964973730297724,
          0.9964973730297724,
          0.9964973730297724,
          0.9964973730297724,
          0.9964973730297724,
          0.9964973730297724,
          0.9964973730297724,
          0.9964973730297724,
          0.9964973730297724,
          0.9964973730297724,
          0.9964973730297724,
          0.9964973730297724,
          0.9964973730297724,
          0.9964973730297724,
          0.9964973730297724,
          0.9982486865148862,
          0.9982486865148862,
          0.9982486865148862,
          0.9982486865148862,
          1,
          1,
          1,
          1,
          1,
          1,
          1,
          1,
          1,
          1,
          1,
          1,
          1,
          1,
          1,
          1,
          1,
          1,
          1,
          1,
          1,
          1,
          1,
          1,
          1,
          1,
          1,
          1,
          1,
          1,
          1,
          1,
          1,
          1,
          1,
          1,
          1,
          1,
          1,
          1,
          1,
          1,
          1,
          1,
          1,
          1,
          1,
          1,
          1,
          1,
          1,
          1,
          1,
          1,
          1,
          1,
          1,
          1,
          1,
          1,
          1,
          1,
          1,
          1,
          1,
          1,
          1,
          1,
          1,
          1,
          1,
          1,
          1,
          1,
          1,
          1,
          1,
          1,
          1,
          1,
          1,
          1,
          1,
          1,
          1,
          1,
          1,
          1,
          1,
          1,
          1,
          1,
          1,
          1,
          1,
          1,
          1,
          1,
          1
         ]
        },
        {
         "line": {
          "width": 2
         },
         "mode": "lines",
         "name": "ROC curve of class 6 (AUC = 0.94)",
         "type": "scatter",
         "x": [
          0,
          0,
          0,
          0,
          0,
          0,
          0,
          0,
          0,
          0,
          0,
          0,
          0,
          0,
          0,
          0,
          0,
          0.0006110601894286587,
          0.0006110601894286587,
          0.0012221203788573174,
          0.0012221203788573174,
          0.0012221203788573174,
          0.0012221203788573174,
          0.0018331805682859762,
          0.0018331805682859762,
          0.0021387106630003055,
          0.0021387106630003055,
          0.0036663611365719525,
          0.0036663611365719525,
          0.003971891231286282,
          0.003971891231286282,
          0.00488848151542927,
          0.00488848151542927,
          0.005194011610143599,
          0.005194011610143599,
          0.007027192178429576,
          0.007027192178429576,
          0.007027192178429576,
          0.007332722273143905,
          0.007332722273143905,
          0.007638252367858234,
          0.007638252367858234,
          0.008860372746715552,
          0.008860372746715552,
          0.00916590284142988,
          0.00916590284142988,
          0.00977696303085854,
          0.00977696303085854,
          0.010693553315001528,
          0.010693553315001528,
          0.010693553315001528,
          0.010693553315001528,
          0.010999083409715857,
          0.010999083409715857,
          0.011610143599144515,
          0.011610143599144515,
          0.011915673693858845,
          0.011915673693858845,
          0.012526733883287504,
          0.012526733883287504,
          0.012526733883287504,
          0.012526733883287504,
          0.012832263978001834,
          0.012832263978001834,
          0.013443324167430493,
          0.013443324167430493,
          0.014054384356859151,
          0.014054384356859151,
          0.01435991445157348,
          0.01435991445157348,
          0.01466544454628781,
          0.01466544454628781,
          0.015582034830430797,
          0.015582034830430797,
          0.016193095019859455,
          0.016193095019859455,
          0.016804155209288116,
          0.017415215398716773,
          0.017720745493431105,
          0.017720745493431105,
          0.01833180568285976,
          0.01833180568285976,
          0.018942865872288422,
          0.018942865872288422,
          0.01955392606171708,
          0.01955392606171708,
          0.019859456156431407,
          0.019859456156431407,
          0.02016498625114574,
          0.02016498625114574,
          0.020470516345860067,
          0.020470516345860067,
          0.020776046440574396,
          0.020776046440574396,
          0.021692636724717385,
          0.021692636724717385,
          0.022914757103574702,
          0.022914757103574702,
          0.022914757103574702,
          0.02322028719828903,
          0.02322028719828903,
          0.023525817293003362,
          0.023525817293003362,
          0.02383134738771769,
          0.02383134738771769,
          0.02413687748243202,
          0.02413687748243202,
          0.02474793767186068,
          0.02474793767186068,
          0.025970058050717997,
          0.025970058050717997,
          0.026581118240146653,
          0.026581118240146653,
          0.027192178429575314,
          0.027192178429575314,
          0.028108768713718302,
          0.028108768713718302,
          0.02871982890314696,
          0.02871982890314696,
          0.029636419187289948,
          0.029636419187289948,
          0.03024747937671861,
          0.03024747937671861,
          0.030553009471432937,
          0.030553009471432937,
          0.031164069660861594,
          0.031164069660861594,
          0.03146959975557592,
          0.03146959975557592,
          0.03146959975557592,
          0.03146959975557592,
          0.031775129850290254,
          0.031775129850290254,
          0.03238619003971891,
          0.03238619003971891,
          0.03299725022914757,
          0.03299725022914757,
          0.03299725022914757,
          0.03299725022914757,
          0.03299725022914757,
          0.03299725022914757,
          0.0333027803238619,
          0.0333027803238619,
          0.03421937060800489,
          0.03421937060800489,
          0.03452490070271922,
          0.03513596089214788,
          0.035747021081576534,
          0.035747021081576534,
          0.036052551176290866,
          0.036052551176290866,
          0.03666361136571952,
          0.03666361136571952,
          0.03727467155514818,
          0.03758020164986251,
          0.03758020164986251,
          0.03819126183929117,
          0.03819126183929117,
          0.0384967919340055,
          0.0384967919340055,
          0.03880232202871983,
          0.03880232202871983,
          0.03941338221814849,
          0.03941338221814849,
          0.039718912312862814,
          0.039718912312862814,
          0.040024442407577146,
          0.040024442407577146,
          0.040941032691720135,
          0.04155209288114879,
          0.041857622975863124,
          0.041857622975863124,
          0.04216315307057745,
          0.04216315307057745,
          0.04246868316529178,
          0.04246868316529178,
          0.04277421326000611,
          0.05224564619615032,
          0.05255117629086465,
          0.05316223648029331,
          0.05316223648029331,
          0.05438435685915063,
          0.05438435685915063,
          0.05468988695386495,
          0.05468988695386495,
          0.054995417048579284,
          0.054995417048579284,
          0.054995417048579284,
          0.055300947143293616,
          0.055300947143293616,
          0.05560647723800794,
          0.05560647723800794,
          0.056217537427436605,
          0.056217537427436605,
          0.05652306752215093,
          0.05652306752215093,
          0.05682859761686526,
          0.05682859761686526,
          0.05682859761686526,
          0.057134127711579594,
          0.057134127711579594,
          0.058050717995722576,
          0.058050717995722576,
          0.05866177818515124,
          0.05866177818515124,
          0.05866177818515124,
          0.058967308279865564,
          0.058967308279865564,
          0.059272838374579896,
          0.059272838374579896,
          0.05988389856400855,
          0.05988389856400855,
          0.06171707913229453,
          0.06171707913229453,
          0.06232813932172319,
          0.06232813932172319,
          0.06263366941643751,
          0.06263366941643751,
          0.06446684998472349,
          0.06446684998472349,
          0.06538344026886649,
          0.06538344026886649,
          0.06599450045829514,
          0.06599450045829514,
          0.06630003055300947,
          0.06630003055300947,
          0.0666055606477238,
          0.0666055606477238,
          0.06782768102658111,
          0.06782768102658111,
          0.06843874121600978,
          0.06843874121600978,
          0.06904980140543844,
          0.06904980140543844,
          0.06966086159486709,
          0.06966086159486709,
          0.07027192178429575,
          0.07027192178429575,
          0.07118851206843874,
          0.07118851206843874,
          0.07271616254201038,
          0.07271616254201038,
          0.07302169263672471,
          0.07302169263672471,
          0.07332722273143905,
          0.07332722273143905,
          0.07424381301558204,
          0.07424381301558204,
          0.07424381301558204,
          0.07454934311029636,
          0.07454934311029636,
          0.07546593339443936,
          0.07546593339443936,
          0.07638252367858234,
          0.07638252367858234,
          0.07729911396272533,
          0.07729911396272533,
          0.08035441490986862,
          0.08035441490986862,
          0.08096547509929729,
          0.08096547509929729,
          0.0812710051940116,
          0.0812710051940116,
          0.08188206538344027,
          0.08188206538344027,
          0.0843263061411549,
          0.0843263061411549,
          0.08463183623586923,
          0.08463183623586923,
          0.08493736633058356,
          0.08493736633058356,
          0.08585395661472656,
          0.08585395661472656,
          0.0864650168041552,
          0.0864650168041552,
          0.08677054689886954,
          0.08677054689886954,
          0.08768713718301252,
          0.08768713718301252,
          0.08768713718301252,
          0.08890925756186985,
          0.08890925756186985,
          0.08921478765658418,
          0.08921478765658418,
          0.0895203177512985,
          0.0895203177512985,
          0.09013137794072716,
          0.09013137794072716,
          0.09074243813015583,
          0.09074243813015583,
          0.09135349831958448,
          0.09135349831958448,
          0.0925756186984418,
          0.0925756186984418,
          0.09349220898258478,
          0.09349220898258478,
          0.09410326917201345,
          0.09410326917201345,
          0.0947143293614421,
          0.0947143293614421,
          0.09532538955087076,
          0.09532538955087076,
          0.0956309196455851,
          0.0956309196455851,
          0.09624197983501374,
          0.09624197983501374,
          0.09746410021387107,
          0.09746410021387107,
          0.09807516040329972,
          0.09807516040329972,
          0.09899175068744272,
          0.09899175068744272,
          0.10174152153987168,
          0.10174152153987168,
          0.10326917201344332,
          0.10326917201344332,
          0.10357470210815765,
          0.10357470210815765,
          0.10418576229758632,
          0.10418576229758632,
          0.10663000305530095,
          0.10663000305530095,
          0.10785212343415826,
          0.10785212343415826,
          0.10846318362358692,
          0.10846318362358692,
          0.10907424381301559,
          0.10999083409715857,
          0.10999083409715857,
          0.11090742438130156,
          0.11090742438130156,
          0.11121295447601588,
          0.11121295447601588,
          0.11151848457073021,
          0.11151848457073021,
          0.11243507485487321,
          0.11243507485487321,
          0.11243507485487321,
          0.11243507485487321,
          0.11304613504430186,
          0.11304613504430186,
          0.11335166513901619,
          0.11335166513901619,
          0.11579590589673083,
          0.11579590589673083,
          0.11640696608615948,
          0.11701802627558815,
          0.11824014665444546,
          0.11824014665444546,
          0.11946226703330277,
          0.11946226703330277,
          0.12037885731744577,
          0.12037885731744577,
          0.1206843874121601,
          0.1206843874121601,
          0.12160097769630308,
          0.12160097769630308,
          0.12190650779101742,
          0.12190650779101742,
          0.12404521845401772,
          0.12404521845401772,
          0.1258783990223037,
          0.1258783990223037,
          0.12618392911701803,
          0.12618392911701803,
          0.12740604949587533,
          0.12740604949587533,
          0.128017109685304,
          0.128017109685304,
          0.128017109685304,
          0.12862816987473266,
          0.12862816987473266,
          0.12893369996944698,
          0.12893369996944698,
          0.12954476015887564,
          0.12954476015887564,
          0.12985029025359,
          0.12985029025359,
          0.12985029025359,
          0.13198900091659027,
          0.13198900091659027,
          0.13290559120073328,
          0.13290559120073328,
          0.13382218148487626,
          0.13382218148487626,
          0.13657195233730524,
          0.13657195233730524,
          0.13687748243201955,
          0.13687748243201955,
          0.13871066300030552,
          0.13871066300030552,
          0.1405438435685915,
          0.1405438435685915,
          0.14115490375802017,
          0.14115490375802017,
          0.1457378551787351,
          0.1457378551787351,
          0.1466544454628781,
          0.1466544454628781,
          0.14787656584173542,
          0.14787656584173542,
          0.14848762603116408,
          0.14848762603116408,
          0.15032080659945005,
          0.15032080659945005,
          0.152153987167736,
          0.152153987167736,
          0.15307057745187902,
          0.15307057745187902,
          0.15429269783073632,
          0.15429269783073632,
          0.15459822792545067,
          0.15459822792545067,
          0.15520928811487933,
          0.15520928811487933,
          0.15582034830430797,
          0.15582034830430797,
          0.1570424686831653,
          0.1570424686831653,
          0.15826458906202262,
          0.15826458906202262,
          0.15948670944087992,
          0.15948670944087992,
          0.16315307057745188,
          0.16315307057745188,
          0.16498625114573787,
          0.16498625114573787,
          0.16529178124045218,
          0.16529178124045218,
          0.16804155209288116,
          0.16804155209288116,
          0.17201344332416743,
          0.17201344332416743,
          0.17354109379773908,
          0.17354109379773908,
          0.1738466238924534,
          0.1738466238924534,
          0.17506874427131072,
          0.17506874427131072,
          0.1759853345554537,
          0.1759853345554537,
          0.17751298502902535,
          0.17751298502902535,
          0.17873510540788268,
          0.17873510540788268,
          0.1842346471127406,
          0.1842346471127406,
          0.1851512373968836,
          0.1851512373968836,
          0.18576229758631224,
          0.18576229758631224,
          0.1863733577757409,
          0.1863733577757409,
          0.1872899480598839,
          0.1872899480598839,
          0.18759547815459823,
          0.18759547815459823,
          0.18881759853345553,
          0.18881759853345553,
          0.19034524900702718,
          0.19034524900702718,
          0.19065077910174152,
          0.19065077910174152,
          0.19431714023831348,
          0.19431714023831348,
          0.1964558509013138,
          0.1964558509013138,
          0.19706691109074242,
          0.19798350137488543,
          0.2019553926061717,
          0.2019553926061717,
          0.20256645279560037,
          0.20256645279560037,
          0.20317751298502904,
          0.20317751298502904,
          0.20562175374274366,
          0.20562175374274366,
          0.20867705468988695,
          0.20867705468988695,
          0.21203788573174456,
          0.21203788573174456,
          0.21264894592117323,
          0.21264894592117323,
          0.21295447601588757,
          0.21356553620531624,
          0.21631530705774518,
          0.21631530705774518,
          0.21723189734188816,
          0.21723189734188816,
          0.21906507791017416,
          0.21906507791017416,
          0.22028719828903148,
          0.22028719828903148,
          0.22089825847846012,
          0.22089825847846012,
          0.22212037885731745,
          0.22212037885731745,
          0.22487014970974642,
          0.2257867399938894,
          0.22975863122517567,
          0.22975863122517567,
          0.230980751604033,
          0.230980751604033,
          0.23342499236174763,
          0.2340360525511763,
          0.24686831652917812,
          0.24686831652917812,
          0.24747937671860679,
          0.24839596700274977,
          0.24839596700274977,
          0.25328444851817905,
          0.25328444851817905,
          0.25878399022303694,
          0.25878399022303694,
          0.25970058050718,
          0.25970058050718,
          0.26520012221203787,
          0.26520012221203787,
          0.2685609532538955,
          0.2685609532538955,
          0.2746715551481821,
          0.2746715551481821,
          0.2841429880843263,
          0.2850595783684693,
          0.30827986556675835,
          0.30827986556675835,
          0.31072410632447295,
          0.31133516651390164,
          0.3146959975557592,
          0.3153070577451879,
          0.31683470821875953,
          0.31683470821875953,
          0.3198900091659028,
          0.3198900091659028,
          0.3205010693553315,
          0.32111212954476015,
          0.32477849068133213,
          0.32538955087076077,
          0.3290559120073327,
          0.32997250229147573,
          0.33027803238619,
          0.33211121295447604,
          0.33241674304919033,
          0.333027803238619,
          0.35319278948976474,
          0.3541093797739077,
          0.35533150015276505,
          0.3559425603421937,
          0.358081271005194,
          0.3586923311946227,
          0.358997861289337,
          0.35960892147876566,
          0.3611365719523373,
          0.361747632141766,
          0.3623586923311946,
          0.3629697525206233,
          0.3641918728994806,
          0.3651084631836236,
          0.3654139932783379,
          0.3660250534677666,
          0.3672471738466239,
          0.36785823403605256,
          0.36877482432019554,
          0.3696914146043385,
          0.37091353498319585,
          0.3721356553620532,
          0.37763519706691107,
          0.37763519706691107,
          0.3785517873510541,
          0.3785517873510541,
          0.37916284754048274,
          0.3797739077299114,
          0.38038496791934007,
          0.38282920867705467,
          0.3837457989611977,
          0.3852734494347693,
          0.3852734494347693,
          0.40879926672777267,
          0.40879926672777267,
          0.5520928811487932,
          0.5536205316223648,
          0.5542315918117935,
          0.5548426520012221,
          0.5557592422853651,
          0.5578979529483654,
          0.5591200733272227,
          0.5643140849373663,
          0.5652306752215093,
          0.5664527956003667,
          0.5682859761686526,
          0.5688970363580813,
          0.5698136266422242,
          0.5710357470210816,
          0.5716468072105102,
          0.5765352887259395,
          0.5780629391995111,
          0.5786739993889398,
          0.5808127100519401,
          0.5814237702413688,
          0.58997861289337,
          0.5905896730827986,
          0.5915062633669417,
          0.6245035135960892,
          0.6266422242590896,
          0.6275588145432325,
          0.6284754048273755,
          0.6290864650168042,
          0.6300030553009471,
          0.6397800183318056,
          0.6406966086159487,
          0.6547509929728078,
          0.6559731133516652,
          0.7167736021998167,
          0.7183012526733883,
          0.7567980446073939,
          0.7574091047968224,
          0.7626031164069661,
          0.763519706691109,
          0.7674915979223954,
          0.7687137183012527,
          0.7702413687748243,
          0.770852428964253,
          0.7723800794378246,
          0.7732966697219676,
          0.7739077299113962,
          0.7742132600061106,
          0.7751298502902536,
          0.7791017415215399,
          0.7797128017109686,
          0.7800183318056828,
          0.7812404521845402,
          0.7891842346471127,
          0.7901008249312558,
          0.797739077299114,
          0.7992667277726856,
          0.7998777879621143,
          0.800488848151543,
          0.8010999083409716,
          0.8017109685304002,
          0.8020164986251146,
          0.8029330889092575,
          0.8038496791934006,
          0.8047662694775435,
          0.8075160403299725,
          0.8090436908035441,
          0.8096547509929728,
          0.8102658111824015,
          0.8117934616559731,
          0.8136266422242591,
          0.8142377024136878,
          0.8151542926978307,
          0.8157653528872594,
          0.8160708829819737,
          0.8169874732661168,
          0.8188206538344027,
          0.82004277421326,
          0.8203483043079743,
          0.821875954781546,
          0.822792545065689,
          0.824625725633975,
          0.8252367858234037,
          0.8264589062022609,
          0.827375496486404,
          0.8276810265811182,
          0.8295142071494043,
          0.8304307974335472,
          0.8313473877176902,
          0.8325695080965475,
          0.8331805682859762,
          0.8359303391384051,
          0.8365413993278338,
          0.8383745798961197,
          0.8389856400855484,
          1
         ],
         "y": [
          0,
          0.0017421602787456446,
          0.006968641114982578,
          0.010452961672473868,
          0.017421602787456445,
          0.020905923344947737,
          0.09059233449477352,
          0.09407665505226481,
          0.10452961672473868,
          0.10801393728222997,
          0.20905923344947736,
          0.21254355400696864,
          0.21777003484320556,
          0.22125435540069685,
          0.22996515679442509,
          0.23693379790940766,
          0.2613240418118467,
          0.2613240418118467,
          0.26306620209059234,
          0.26306620209059234,
          0.2665505226480836,
          0.2700348432055749,
          0.27526132404181186,
          0.27526132404181186,
          0.2770034843205575,
          0.2770034843205575,
          0.2804878048780488,
          0.2804878048780488,
          0.28397212543554007,
          0.28397212543554007,
          0.2926829268292683,
          0.2926829268292683,
          0.2961672473867596,
          0.2961672473867596,
          0.2979094076655052,
          0.2979094076655052,
          0.29965156794425085,
          0.30313588850174217,
          0.30313588850174217,
          0.3048780487804878,
          0.3048780487804878,
          0.30662020905923343,
          0.30662020905923343,
          0.3083623693379791,
          0.3083623693379791,
          0.31010452961672474,
          0.31010452961672474,
          0.3118466898954704,
          0.3118466898954704,
          0.313588850174216,
          0.3170731707317073,
          0.32229965156794427,
          0.32229965156794427,
          0.3240418118466899,
          0.3240418118466899,
          0.32578397212543553,
          0.32578397212543553,
          0.3362369337979094,
          0.3362369337979094,
          0.33797909407665505,
          0.34146341463414637,
          0.34494773519163763,
          0.34494773519163763,
          0.3623693379790941,
          0.3623693379790941,
          0.36585365853658536,
          0.36585365853658536,
          0.37456445993031356,
          0.37456445993031356,
          0.37630662020905925,
          0.37630662020905925,
          0.3797909407665505,
          0.3797909407665505,
          0.38501742160278746,
          0.38501742160278746,
          0.3885017421602787,
          0.3885017421602787,
          0.3885017421602787,
          0.3885017421602787,
          0.39372822299651566,
          0.39372822299651566,
          0.39547038327526135,
          0.39547038327526135,
          0.4024390243902439,
          0.4024390243902439,
          0.4094076655052265,
          0.4094076655052265,
          0.4146341463414634,
          0.4146341463414634,
          0.4163763066202091,
          0.4163763066202091,
          0.41986062717770034,
          0.41986062717770034,
          0.42334494773519166,
          0.42334494773519166,
          0.4250871080139373,
          0.4250871080139373,
          0.4268292682926829,
          0.43031358885017423,
          0.43031358885017423,
          0.4355400696864111,
          0.4355400696864111,
          0.4372822299651568,
          0.4372822299651568,
          0.44076655052264807,
          0.44076655052264807,
          0.4442508710801394,
          0.4442508710801394,
          0.445993031358885,
          0.445993031358885,
          0.44773519163763065,
          0.44773519163763065,
          0.45121951219512196,
          0.45121951219512196,
          0.4529616724738676,
          0.4529616724738676,
          0.4547038327526132,
          0.4547038327526132,
          0.4564459930313589,
          0.4564459930313589,
          0.4616724738675958,
          0.4616724738675958,
          0.4634146341463415,
          0.4634146341463415,
          0.4651567944250871,
          0.4651567944250871,
          0.4738675958188153,
          0.4738675958188153,
          0.47735191637630664,
          0.4808362369337979,
          0.48257839721254353,
          0.48257839721254353,
          0.48606271777003485,
          0.48606271777003485,
          0.4895470383275261,
          0.4895470383275261,
          0.4930313588850174,
          0.49825783972125437,
          0.5,
          0.5034843205574913,
          0.5052264808362369,
          0.5052264808362369,
          0.5069686411149826,
          0.5069686411149826,
          0.5121951219512195,
          0.5121951219512195,
          0.5121951219512195,
          0.5121951219512195,
          0.5156794425087108,
          0.5156794425087108,
          0.519163763066202,
          0.519163763066202,
          0.524390243902439,
          0.524390243902439,
          0.524390243902439,
          0.5313588850174216,
          0.5313588850174216,
          0.5331010452961672,
          0.5331010452961672,
          0.5348432055749129,
          0.5348432055749129,
          0.5470383275261324,
          0.5470383275261324,
          0.5487804878048781,
          0.5487804878048781,
          0.5505226480836237,
          0.5505226480836237,
          0.5522648083623694,
          0.5522648083623694,
          0.5522648083623694,
          0.5522648083623694,
          0.554006968641115,
          0.554006968641115,
          0.5557491289198606,
          0.5557491289198606,
          0.5592334494773519,
          0.5627177700348432,
          0.5888501742160279,
          0.5923344947735192,
          0.5923344947735192,
          0.5940766550522648,
          0.5940766550522648,
          0.5958188153310104,
          0.5958188153310104,
          0.5993031358885017,
          0.5993031358885017,
          0.6027874564459931,
          0.6062717770034843,
          0.6062717770034843,
          0.60801393728223,
          0.60801393728223,
          0.6097560975609756,
          0.6097560975609756,
          0.6114982578397212,
          0.6114982578397212,
          0.6132404181184669,
          0.6132404181184669,
          0.6167247386759582,
          0.6202090592334495,
          0.6202090592334495,
          0.6219512195121951,
          0.6219512195121951,
          0.6254355400696864,
          0.6254355400696864,
          0.6289198606271778,
          0.632404181184669,
          0.632404181184669,
          0.6341463414634146,
          0.6341463414634146,
          0.6358885017421603,
          0.6358885017421603,
          0.6393728222996515,
          0.6393728222996515,
          0.6428571428571429,
          0.6428571428571429,
          0.6463414634146342,
          0.6463414634146342,
          0.6480836236933798,
          0.6480836236933798,
          0.6498257839721254,
          0.6498257839721254,
          0.6533101045296167,
          0.6533101045296167,
          0.6550522648083623,
          0.6550522648083623,
          0.6602787456445993,
          0.6602787456445993,
          0.662020905923345,
          0.662020905923345,
          0.6672473867595818,
          0.6672473867595818,
          0.6707317073170732,
          0.6707317073170732,
          0.6724738675958188,
          0.6724738675958188,
          0.6759581881533101,
          0.6759581881533101,
          0.6777003484320557,
          0.6777003484320557,
          0.681184668989547,
          0.681184668989547,
          0.6829268292682927,
          0.6829268292682927,
          0.6846689895470384,
          0.6846689895470384,
          0.686411149825784,
          0.686411149825784,
          0.6916376306620209,
          0.6951219512195121,
          0.6951219512195121,
          0.6986062717770035,
          0.6986062717770035,
          0.7020905923344948,
          0.7020905923344948,
          0.705574912891986,
          0.705574912891986,
          0.7073170731707317,
          0.7073170731707317,
          0.7090592334494773,
          0.7090592334494773,
          0.710801393728223,
          0.710801393728223,
          0.7125435540069687,
          0.7125435540069687,
          0.7177700348432056,
          0.7177700348432056,
          0.7195121951219512,
          0.7195121951219512,
          0.7212543554006968,
          0.7212543554006968,
          0.7247386759581882,
          0.7247386759581882,
          0.7264808362369338,
          0.7264808362369338,
          0.7282229965156795,
          0.7282229965156795,
          0.7299651567944251,
          0.7299651567944251,
          0.7334494773519163,
          0.735191637630662,
          0.735191637630662,
          0.7386759581881533,
          0.7386759581881533,
          0.740418118466899,
          0.740418118466899,
          0.7421602787456446,
          0.7421602787456446,
          0.7439024390243902,
          0.7439024390243902,
          0.7456445993031359,
          0.7456445993031359,
          0.7473867595818815,
          0.7473867595818815,
          0.7491289198606271,
          0.7491289198606271,
          0.7508710801393729,
          0.7508710801393729,
          0.7526132404181185,
          0.7526132404181185,
          0.7578397212543554,
          0.7578397212543554,
          0.759581881533101,
          0.759581881533101,
          0.7613240418118467,
          0.7613240418118467,
          0.7630662020905923,
          0.7630662020905923,
          0.764808362369338,
          0.764808362369338,
          0.7665505226480837,
          0.7665505226480837,
          0.7682926829268293,
          0.7682926829268293,
          0.7700348432055749,
          0.7700348432055749,
          0.7717770034843205,
          0.7717770034843205,
          0.7735191637630662,
          0.7735191637630662,
          0.7752613240418118,
          0.7752613240418118,
          0.7770034843205574,
          0.7770034843205574,
          0.7787456445993032,
          0.7787456445993032,
          0.7804878048780488,
          0.7804878048780488,
          0.7804878048780488,
          0.7822299651567944,
          0.7822299651567944,
          0.7839721254355401,
          0.7839721254355401,
          0.7857142857142857,
          0.7857142857142857,
          0.7874564459930313,
          0.7874564459930313,
          0.789198606271777,
          0.7926829268292683,
          0.7961672473867596,
          0.7961672473867596,
          0.7979094076655052,
          0.7979094076655052,
          0.8031358885017421,
          0.8031358885017421,
          0.8048780487804879,
          0.8048780487804879,
          0.8048780487804879,
          0.8048780487804879,
          0.8083623693379791,
          0.8083623693379791,
          0.8101045296167247,
          0.8101045296167247,
          0.8118466898954704,
          0.8118466898954704,
          0.813588850174216,
          0.813588850174216,
          0.8153310104529616,
          0.8153310104529616,
          0.8170731707317073,
          0.8170731707317073,
          0.818815331010453,
          0.818815331010453,
          0.8205574912891986,
          0.8205574912891986,
          0.8257839721254355,
          0.8257839721254355,
          0.8292682926829268,
          0.8292682926829268,
          0.8327526132404182,
          0.8344947735191638,
          0.8344947735191638,
          0.8362369337979094,
          0.8362369337979094,
          0.837979094076655,
          0.837979094076655,
          0.8414634146341463,
          0.8414634146341463,
          0.8449477351916377,
          0.8466898954703833,
          0.8466898954703833,
          0.8484320557491289,
          0.8484320557491289,
          0.8501742160278746,
          0.8501742160278746,
          0.8536585365853658,
          0.8536585365853658,
          0.8554006968641115,
          0.8554006968641115,
          0.8606271777003485,
          0.8606271777003485,
          0.8623693379790941,
          0.8623693379790941,
          0.8641114982578397,
          0.8641114982578397,
          0.8658536585365854,
          0.8658536585365854,
          0.867595818815331,
          0.867595818815331,
          0.8710801393728222,
          0.8710801393728222,
          0.872822299651568,
          0.872822299651568,
          0.8745644599303136,
          0.8745644599303136,
          0.8763066202090593,
          0.8763066202090593,
          0.8780487804878049,
          0.8780487804878049,
          0.8815331010452961,
          0.8815331010452961,
          0.8832752613240418,
          0.8832752613240418,
          0.8850174216027874,
          0.8850174216027874,
          0.8867595818815331,
          0.8867595818815331,
          0.8885017421602788,
          0.8885017421602788,
          0.8902439024390244,
          0.8902439024390244,
          0.89198606271777,
          0.89198606271777,
          0.8937282229965157,
          0.8937282229965157,
          0.8954703832752613,
          0.8954703832752613,
          0.9006968641114983,
          0.9006968641114983,
          0.9024390243902439,
          0.9024390243902439,
          0.9059233449477352,
          0.9059233449477352,
          0.9076655052264808,
          0.9076655052264808,
          0.9094076655052264,
          0.9094076655052264,
          0.9111498257839721,
          0.9111498257839721,
          0.9128919860627178,
          0.9128919860627178,
          0.9163763066202091,
          0.9163763066202091,
          0.9181184668989547,
          0.9181184668989547,
          0.9198606271777003,
          0.9198606271777003,
          0.921602787456446,
          0.921602787456446,
          0.9233449477351916,
          0.9233449477351916,
          0.9250871080139372,
          0.9250871080139372,
          0.9303135888501742,
          0.9303135888501742,
          0.9320557491289199,
          0.9320557491289199,
          0.9355400696864111,
          0.9355400696864111,
          0.9372822299651568,
          0.9372822299651568,
          0.9390243902439024,
          0.9390243902439024,
          0.9407665505226481,
          0.9407665505226481,
          0.9425087108013938,
          0.9425087108013938,
          0.9442508710801394,
          0.9442508710801394,
          0.9442508710801394,
          0.9442508710801394,
          0.945993031358885,
          0.945993031358885,
          0.9477351916376306,
          0.9477351916376306,
          0.9494773519163763,
          0.9494773519163763,
          0.9512195121951219,
          0.9512195121951219,
          0.9529616724738676,
          0.9529616724738676,
          0.9547038327526133,
          0.9547038327526133,
          0.9581881533101045,
          0.9581881533101045,
          0.9581881533101045,
          0.9581881533101045,
          0.9599303135888502,
          0.9599303135888502,
          0.9616724738675958,
          0.9616724738675958,
          0.9634146341463414,
          0.9634146341463414,
          0.9651567944250871,
          0.9651567944250871,
          0.9668989547038328,
          0.9668989547038328,
          0.9686411149825784,
          0.9686411149825784,
          0.9686411149825784,
          0.9686411149825784,
          0.9721254355400697,
          0.9721254355400697,
          0.9738675958188153,
          0.9738675958188153,
          0.9738675958188153,
          0.9738675958188153,
          0.975609756097561,
          0.975609756097561,
          0.975609756097561,
          0.9773519163763066,
          0.9773519163763066,
          0.9790940766550522,
          0.9790940766550522,
          0.980836236933798,
          0.980836236933798,
          0.9825783972125436,
          0.9825783972125436,
          0.9843205574912892,
          0.9843205574912892,
          0.9860627177700348,
          0.9860627177700348,
          0.9878048780487805,
          0.9878048780487805,
          0.9878048780487805,
          0.9878048780487805,
          0.9895470383275261,
          0.9895470383275261,
          0.9895470383275261,
          0.9895470383275261,
          0.9895470383275261,
          0.9895470383275261,
          0.9912891986062717,
          0.9912891986062717,
          0.9930313588850174,
          0.9930313588850174,
          0.9930313588850174,
          0.9930313588850174,
          0.9930313588850174,
          0.9930313588850174,
          0.9930313588850174,
          0.9930313588850174,
          0.9930313588850174,
          0.9930313588850174,
          0.9930313588850174,
          0.9930313588850174,
          0.9930313588850174,
          0.9930313588850174,
          0.9930313588850174,
          0.9930313588850174,
          0.9930313588850174,
          0.9930313588850174,
          0.9930313588850174,
          0.9930313588850174,
          0.9930313588850174,
          0.9930313588850174,
          0.9930313588850174,
          0.9930313588850174,
          0.9930313588850174,
          0.9930313588850174,
          0.9930313588850174,
          0.9930313588850174,
          0.9930313588850174,
          0.9930313588850174,
          0.9930313588850174,
          0.9930313588850174,
          0.9930313588850174,
          0.9930313588850174,
          0.9947735191637631,
          0.9947735191637631,
          0.9965156794425087,
          0.9965156794425087,
          0.9965156794425087,
          0.9965156794425087,
          0.9965156794425087,
          0.9965156794425087,
          0.9965156794425087,
          0.9982578397212544,
          0.9982578397212544,
          1,
          1,
          1,
          1,
          1,
          1,
          1,
          1,
          1,
          1,
          1,
          1,
          1,
          1,
          1,
          1,
          1,
          1,
          1,
          1,
          1,
          1,
          1,
          1,
          1,
          1,
          1,
          1,
          1,
          1,
          1,
          1,
          1,
          1,
          1,
          1,
          1,
          1,
          1,
          1,
          1,
          1,
          1,
          1,
          1,
          1,
          1,
          1,
          1,
          1,
          1,
          1,
          1,
          1,
          1,
          1,
          1,
          1,
          1,
          1,
          1,
          1,
          1,
          1,
          1,
          1,
          1,
          1,
          1,
          1,
          1,
          1,
          1,
          1,
          1,
          1,
          1,
          1,
          1,
          1,
          1,
          1,
          1,
          1,
          1,
          1,
          1,
          1,
          1,
          1,
          1,
          1,
          1,
          1,
          1,
          1
         ]
        },
        {
         "line": {
          "width": 2
         },
         "mode": "lines",
         "name": "ROC curve of class 7 (AUC = 0.98)",
         "type": "scatter",
         "x": [
          0,
          0,
          0,
          0,
          0,
          0,
          0,
          0,
          0,
          0,
          0,
          0,
          0,
          0,
          0,
          0,
          0,
          0,
          0,
          0,
          0,
          0,
          0,
          0,
          0,
          0,
          0,
          0,
          0,
          0,
          0,
          0,
          0,
          0,
          0,
          0,
          0,
          0,
          0,
          0,
          0,
          0,
          0,
          0,
          0,
          0,
          0,
          0.0003029385034837928,
          0.0003029385034837928,
          0.0006058770069675856,
          0.0006058770069675856,
          0.0006058770069675856,
          0.0006058770069675856,
          0.0009088155104513784,
          0.0009088155104513784,
          0.0012117540139351712,
          0.0012117540139351712,
          0.001514692517418964,
          0.001514692517418964,
          0.0018176310209027568,
          0.0018176310209027568,
          0.0021205695243865495,
          0.0021205695243865495,
          0.0021205695243865495,
          0.0021205695243865495,
          0.0024235080278703423,
          0.0024235080278703423,
          0.003029385034837928,
          0.003029385034837928,
          0.003332323538321721,
          0.003332323538321721,
          0.0036352620418055137,
          0.0036352620418055137,
          0.003938200545289306,
          0.003938200545289306,
          0.004241139048773099,
          0.004241139048773099,
          0.004544077552256892,
          0.004544077552256892,
          0.004847016055740685,
          0.004847016055740685,
          0.0051499545592244775,
          0.0051499545592244775,
          0.00545289306270827,
          0.00545289306270827,
          0.006058770069675856,
          0.006058770069675856,
          0.006361708573159649,
          0.006361708573159649,
          0.007270524083611027,
          0.007270524083611027,
          0.007573462587094819,
          0.007573462587094819,
          0.008179339594062406,
          0.009391093607997577,
          0.009391093607997577,
          0.00969403211148137,
          0.00969403211148137,
          0.009996970614965161,
          0.009996970614965161,
          0.010299909118448955,
          0.010299909118448955,
          0.010602847621932747,
          0.010602847621932747,
          0.011814601635867918,
          0.011814601635867918,
          0.012420478642835504,
          0.012420478642835504,
          0.01302635564980309,
          0.01302635564980309,
          0.013329294153286883,
          0.013329294153286883,
          0.013632232656770675,
          0.013632232656770675,
          0.014238109663738261,
          0.014238109663738261,
          0.014843986670705847,
          0.014843986670705847,
          0.015752802181157224,
          0.015752802181157224,
          0.016055740684641016,
          0.016055740684641016,
          0.016661617691608604,
          0.016661617691608604,
          0.017570433202059983,
          0.017570433202059983,
          0.017873371705543775,
          0.017873371705543775,
          0.01847924871251136,
          0.01847924871251136,
          0.01938806422296274,
          0.01938806422296274,
          0.01969100272644653,
          0.01969100272644653,
          0.02059981823689791,
          0.02059981823689791,
          0.020902756740381702,
          0.02150863374734929,
          0.02150863374734929,
          0.02181157225083308,
          0.02181157225083308,
          0.02272038776128446,
          0.02272038776128446,
          0.023326264768252045,
          0.024840957285671008,
          0.024840957285671008,
          0.025749772796122387,
          0.025749772796122387,
          0.02635564980308997,
          0.02635564980308997,
          0.026658588306573767,
          0.026658588306573767,
          0.02696152681005756,
          0.02696152681005756,
          0.02726446531354135,
          0.02726446531354135,
          0.027567403817025143,
          0.027567403817025143,
          0.02817328082399273,
          0.02817328082399273,
          0.02908209633444411,
          0.02908209633444411,
          0.03180854286579824,
          0.03180854286579824,
          0.034534989397152376,
          0.034534989397152376,
          0.04089669797031203,
          0.04150257497727961,
          0.04483489851560133,
          0.04544077552256892,
          0.046046652529536505,
          0.046046652529536505,
          0.0463495910330203,
          0.0463495910330203,
          0.04665252953650409,
          0.04665252953650409,
          0.04695546803998788,
          0.04695546803998788,
          0.048167222053923056,
          0.04877309906089064,
          0.04877309906089064,
          0.04907603756437443,
          0.0630112087246289,
          0.06937291729778855,
          0.07058467131172372,
          0.07088760981520752,
          0.07088760981520752,
          0.07361405634656165,
          0.07421993335352924,
          0.08451984247197819,
          0.08512571947894577,
          0.08754922750681611,
          0.08754922750681611,
          0.08815510451378371,
          0.08815510451378371,
          0.09057861254165404,
          0.09057861254165404,
          0.09148742805210543,
          0.09148742805210543,
          0.09209330505907301,
          0.0926991820660406,
          0.0966373826113299,
          0.09724325961829748,
          0.10269615268100575,
          0.10269615268100575,
          0.10269615268100575,
          0.10572553771584368,
          0.10572553771584368,
          0.10663435322629507,
          0.10754316873674644,
          0.1090578612541654,
          0.1090578612541654,
          0.1093607997576492,
          0.11026961526810057,
          0.11087549227506815,
          0.11148136928203575,
          0.11451075431687367,
          0.11451075431687367,
          0.11663132384126022,
          0.11663132384126022,
          0.12178127840048471,
          0.12299303241441988,
          0.12874886398061194,
          0.12874886398061194,
          0.13056649500151468,
          0.13117237200848228,
          0.134504695546804,
          0.134504695546804,
          0.13753408058164193,
          0.13753408058164193,
          0.13783701908512572,
          0.13783701908512572,
          0.14177521963041503,
          0.14177521963041503,
          0.14601635867918814,
          0.14601635867918814,
          0.1466222356861557,
          0.1466222356861557,
          0.15419569827325053,
          0.15419569827325053,
          0.15480157528021812,
          0.15480157528021812,
          0.1560133292941533,
          0.15661920630112086,
          0.1638897303847319,
          0.1638897303847319,
          0.16419266888821568,
          0.16419266888821568,
          0.17025143895789155,
          0.17025143895789155,
          0.17116025446834293,
          0.1717661314753105,
          0.17631020902756742,
          0.176916086034535,
          0.17903665555892154,
          0.17964253256588913,
          0.18297485610421085,
          0.18358073311117842,
          0.1923659497122084,
          0.1923659497122084,
          0.19630415025749773,
          0.19630415025749773,
          0.20690699787943048,
          0.20690699787943048,
          0.20842169039684943,
          0.20902756740381703,
          0.21114813692820358,
          0.21175401393517115,
          0.21296576794910632,
          0.21357164495607392,
          0.2226598000605877,
          0.2226598000605877,
          0.2308391396546501,
          0.23144501666161768,
          0.2359890942138746,
          0.23659497122084217,
          0.24265374129051803,
          0.24265374129051803,
          0.24295667979400182,
          0.24295667979400182,
          0.2475007573462587,
          0.2475007573462587,
          0.25083308088458045,
          0.251438957891548,
          0.25689185095425626,
          0.25689185095425626,
          0.2599212359890942,
          0.2599212359890942,
          0.26264768252044834,
          0.26264768252044834,
          0.28385337776431385,
          0.28385337776431385,
          0.2887003938200545,
          0.28960920933050593,
          0.28960920933050593,
          0.29627385640714937,
          0.29687973341411694,
          0.2971826719176007,
          0.2977885489245683,
          0.2990003029385035,
          0.2990003029385035,
          0.3023326264768252,
          0.3023326264768252,
          0.30687670402908207,
          0.3077855195395335,
          0.3156619206301121,
          0.3162677976370797,
          0.31687367464404725,
          0.31687367464404725,
          0.31869130566495,
          0.31869130566495,
          0.3229324447137231,
          0.3229324447137231,
          0.3317176613147531,
          0.3323235383217207,
          0.3398970009088155,
          0.3398970009088155,
          0.3529233565586186,
          0.3529233565586186,
          0.3559527415934565,
          0.35686155710390793,
          0.3617085731596486,
          0.3617085731596486,
          0.378673129354741,
          0.3792790063617086,
          0.38836716146622235,
          0.38957891548015755,
          0.38988185398364134,
          0.3904877309906089,
          0.3916994850045441,
          0.39230536201151167,
          0.3950318085428658,
          0.39563768554983336,
          0.4092699182066041,
          0.40987579521357165,
          0.42108451984247197,
          0.42169039684943954,
          0.4253256588912451,
          0.42593153589821264,
          0.42653741290518027,
          0.42714328991214784,
          0.4274462284156316,
          0.4280521054225992,
          0.4295667979400182,
          0.43017267494698574,
          0.4335049984853075,
          0.43441381399575885,
          0.43532262950621026,
          0.4365343835201454,
          0.437140260527113,
          0.4377461375340806,
          0.4380490760375644,
          0.43865495304453195,
          0.4565283247500757,
          0.45713420175704333,
          0.4592547712814299,
          0.45986064828839746,
          0.4616782793093002,
          0.4622841563162678,
          0.4625870948197516,
          0.4631929718267192,
          0.4659194183580733,
          0.4668282338685247,
          0.46713117237200846,
          0.4677370493789761,
          0.4680399878824599,
          0.46894880339291123,
          0.469251741896395,
          0.46985761890336264,
          0.470766434413814,
          0.47137231142078156,
          0.4719781884277492,
          0.47288700393820055,
          0.4734928809451681,
          0.4747046349591033,
          0.48561042108451985,
          0.4862162980914874,
          0.48954862162980917,
          0.4904574371402605,
          0.5880036352620418,
          0.5886095122690094,
          0.6373826113299,
          0.638897303847319,
          0.6392002423508027,
          0.6398061193577703,
          0.6401090578612542,
          0.6422296273856407,
          0.6428355043926083,
          0.6434413813995759,
          0.6485913359588004,
          0.6488942744622842,
          0.6501060284762193,
          0.6504089669797031,
          0.6513177824901545,
          0.6525295365040896,
          0.653438352014541,
          0.6582853680702817,
          0.659497122084217,
          0.6607088760981521,
          0.6628294456225386,
          0.6634353226295062,
          0.68130869433505,
          0.6819145713420176,
          0.6919115419569827,
          0.6940321114813692,
          0.6955468039987882,
          0.697364435019691,
          0.7052408361102697,
          0.706149651620721,
          0.7194789457740078,
          0.7206906997879431,
          0.7767343229324447,
          0.7776431384428961,
          0.8121781278400485,
          0.8136928203574675,
          0.814298697364435,
          0.815813389881854,
          0.8197515904271433,
          0.8203574674341109,
          0.8227809754619813,
          0.8236897909724326,
          0.8288397455316571,
          0.8297485610421085,
          0.8312632535595275,
          0.831869130566495,
          0.8400484701605574,
          0.8412602241744925,
          0.8455013632232656,
          0.8461072402302333,
          1
         ],
         "y": [
          0,
          0.0018315018315018315,
          0.06776556776556776,
          0.07142857142857142,
          0.0989010989010989,
          0.10989010989010989,
          0.11538461538461539,
          0.11904761904761904,
          0.13003663003663005,
          0.13186813186813187,
          0.13736263736263737,
          0.1446886446886447,
          0.152014652014652,
          0.16117216117216118,
          0.17032967032967034,
          0.17399267399267399,
          0.1813186813186813,
          0.18315018315018314,
          0.18681318681318682,
          0.19230769230769232,
          0.19413919413919414,
          0.19963369963369965,
          0.20512820512820512,
          0.2087912087912088,
          0.21428571428571427,
          0.21794871794871795,
          0.21978021978021978,
          0.22344322344322345,
          0.22893772893772893,
          0.23809523809523808,
          0.24175824175824176,
          0.2454212454212454,
          0.25274725274725274,
          0.2619047619047619,
          0.2765567765567766,
          0.2802197802197802,
          0.29304029304029305,
          0.2967032967032967,
          0.3021978021978022,
          0.3058608058608059,
          0.3076923076923077,
          0.3241758241758242,
          0.33882783882783885,
          0.3424908424908425,
          0.3956043956043956,
          0.4010989010989011,
          0.4981684981684982,
          0.4981684981684982,
          0.554945054945055,
          0.554945054945055,
          0.5604395604395604,
          0.5641025641025641,
          0.5659340659340659,
          0.5659340659340659,
          0.5879120879120879,
          0.5879120879120879,
          0.6263736263736264,
          0.6263736263736264,
          0.6428571428571429,
          0.6428571428571429,
          0.652014652014652,
          0.652014652014652,
          0.6703296703296703,
          0.6758241758241759,
          0.6794871794871795,
          0.6794871794871795,
          0.6996336996336996,
          0.6996336996336996,
          0.706959706959707,
          0.706959706959707,
          0.7124542124542125,
          0.7124542124542125,
          0.7161172161172161,
          0.7161172161172161,
          0.7197802197802198,
          0.7197802197802198,
          0.7234432234432234,
          0.7234432234432234,
          0.73992673992674,
          0.73992673992674,
          0.7417582417582418,
          0.7417582417582418,
          0.7509157509157509,
          0.7509157509157509,
          0.7527472527472527,
          0.7527472527472527,
          0.7545787545787546,
          0.7545787545787546,
          0.7582417582417582,
          0.7582417582417582,
          0.7619047619047619,
          0.7619047619047619,
          0.7655677655677655,
          0.7655677655677655,
          0.7655677655677655,
          0.7710622710622711,
          0.7710622710622711,
          0.7728937728937729,
          0.7728937728937729,
          0.7747252747252747,
          0.7747252747252747,
          0.7838827838827839,
          0.7838827838827839,
          0.7857142857142857,
          0.7857142857142857,
          0.7875457875457875,
          0.7875457875457875,
          0.793040293040293,
          0.793040293040293,
          0.7967032967032966,
          0.7967032967032966,
          0.7985347985347986,
          0.7985347985347986,
          0.8021978021978022,
          0.8021978021978022,
          0.8095238095238095,
          0.8095238095238095,
          0.8113553113553114,
          0.8113553113553114,
          0.8131868131868132,
          0.8131868131868132,
          0.8186813186813187,
          0.8186813186813187,
          0.8223443223443223,
          0.8223443223443223,
          0.8241758241758241,
          0.8241758241758241,
          0.8315018315018315,
          0.8315018315018315,
          0.8333333333333334,
          0.8333333333333334,
          0.8388278388278388,
          0.8388278388278388,
          0.8461538461538461,
          0.8461538461538461,
          0.8516483516483516,
          0.8516483516483516,
          0.8516483516483516,
          0.8534798534798534,
          0.8534798534798534,
          0.8553113553113553,
          0.8553113553113553,
          0.8571428571428571,
          0.8571428571428571,
          0.8571428571428571,
          0.8589743589743589,
          0.8589743589743589,
          0.8663003663003663,
          0.8663003663003663,
          0.86996336996337,
          0.86996336996337,
          0.8717948717948718,
          0.8717948717948718,
          0.8772893772893773,
          0.8772893772893773,
          0.8791208791208791,
          0.8791208791208791,
          0.8864468864468864,
          0.8864468864468864,
          0.8901098901098901,
          0.8901098901098901,
          0.891941391941392,
          0.891941391941392,
          0.8937728937728938,
          0.8937728937728938,
          0.8974358974358975,
          0.8974358974358975,
          0.8974358974358975,
          0.8974358974358975,
          0.8974358974358975,
          0.8974358974358975,
          0.8992673992673993,
          0.8992673992673993,
          0.9010989010989011,
          0.9010989010989011,
          0.9047619047619048,
          0.9047619047619048,
          0.9065934065934066,
          0.9065934065934066,
          0.9065934065934066,
          0.9084249084249084,
          0.9084249084249084,
          0.9120879120879121,
          0.9120879120879121,
          0.9120879120879121,
          0.9120879120879121,
          0.9139194139194139,
          0.9139194139194139,
          0.9139194139194139,
          0.9139194139194139,
          0.9139194139194139,
          0.9139194139194139,
          0.9157509157509157,
          0.9157509157509157,
          0.9175824175824175,
          0.9175824175824175,
          0.9194139194139194,
          0.9194139194139194,
          0.9212454212454212,
          0.9212454212454212,
          0.9212454212454212,
          0.9212454212454212,
          0.9212454212454212,
          0.9212454212454212,
          0.9230769230769231,
          0.9267399267399268,
          0.9267399267399268,
          0.9285714285714286,
          0.9285714285714286,
          0.9285714285714286,
          0.9285714285714286,
          0.9304029304029304,
          0.9304029304029304,
          0.9304029304029304,
          0.9304029304029304,
          0.9304029304029304,
          0.9304029304029304,
          0.9322344322344323,
          0.9322344322344323,
          0.9340659340659341,
          0.9340659340659341,
          0.9340659340659341,
          0.9340659340659341,
          0.9358974358974359,
          0.9358974358974359,
          0.9358974358974359,
          0.9358974358974359,
          0.9377289377289377,
          0.9377289377289377,
          0.9395604395604396,
          0.9395604395604396,
          0.9413919413919414,
          0.9413919413919414,
          0.945054945054945,
          0.945054945054945,
          0.9487179487179487,
          0.9487179487179487,
          0.9505494505494505,
          0.9505494505494505,
          0.9523809523809523,
          0.9523809523809523,
          0.9542124542124543,
          0.9542124542124543,
          0.9542124542124543,
          0.9542124542124543,
          0.9560439560439561,
          0.9560439560439561,
          0.9578754578754579,
          0.9578754578754579,
          0.9597069597069597,
          0.9597069597069597,
          0.9597069597069597,
          0.9597069597069597,
          0.9597069597069597,
          0.9597069597069597,
          0.9597069597069597,
          0.9597069597069597,
          0.9597069597069597,
          0.9597069597069597,
          0.9615384615384616,
          0.9615384615384616,
          0.9633699633699634,
          0.9633699633699634,
          0.9652014652014652,
          0.9652014652014652,
          0.9652014652014652,
          0.9652014652014652,
          0.9652014652014652,
          0.9652014652014652,
          0.9652014652014652,
          0.9652014652014652,
          0.967032967032967,
          0.967032967032967,
          0.967032967032967,
          0.967032967032967,
          0.967032967032967,
          0.967032967032967,
          0.9688644688644689,
          0.9688644688644689,
          0.9706959706959707,
          0.9706959706959707,
          0.9725274725274725,
          0.9725274725274725,
          0.9725274725274725,
          0.9725274725274725,
          0.9743589743589743,
          0.9743589743589743,
          0.9761904761904762,
          0.9761904761904762,
          0.978021978021978,
          0.978021978021978,
          0.9798534798534798,
          0.9798534798534798,
          0.9798534798534798,
          0.9835164835164835,
          0.9835164835164835,
          0.9835164835164835,
          0.9835164835164835,
          0.9835164835164835,
          0.9835164835164835,
          0.9853479853479854,
          0.9853479853479854,
          0.9871794871794872,
          0.9871794871794872,
          0.9871794871794872,
          0.9871794871794872,
          0.9871794871794872,
          0.9871794871794872,
          0.989010989010989,
          0.989010989010989,
          0.9908424908424909,
          0.9908424908424909,
          0.9945054945054945,
          0.9945054945054945,
          0.9945054945054945,
          0.9945054945054945,
          0.9963369963369964,
          0.9963369963369964,
          0.9981684981684982,
          0.9981684981684982,
          0.9981684981684982,
          0.9981684981684982,
          1,
          1,
          1,
          1,
          1,
          1,
          1,
          1,
          1,
          1,
          1,
          1,
          1,
          1,
          1,
          1,
          1,
          1,
          1,
          1,
          1,
          1,
          1,
          1,
          1,
          1,
          1,
          1,
          1,
          1,
          1,
          1,
          1,
          1,
          1,
          1,
          1,
          1,
          1,
          1,
          1,
          1,
          1,
          1,
          1,
          1,
          1,
          1,
          1,
          1,
          1,
          1,
          1,
          1,
          1,
          1,
          1,
          1,
          1,
          1,
          1,
          1,
          1,
          1,
          1,
          1,
          1,
          1,
          1,
          1,
          1,
          1,
          1,
          1,
          1,
          1,
          1,
          1,
          1,
          1,
          1,
          1,
          1,
          1,
          1,
          1,
          1,
          1,
          1,
          1,
          1,
          1,
          1,
          1,
          1,
          1,
          1,
          1,
          1,
          1,
          1,
          1,
          1,
          1,
          1,
          1,
          1,
          1
         ]
        },
        {
         "line": {
          "width": 2
         },
         "mode": "lines",
         "name": "ROC curve of class 8 (AUC = 0.99)",
         "type": "scatter",
         "x": [
          0,
          0,
          0,
          0,
          0,
          0,
          0,
          0,
          0,
          0,
          0,
          0,
          0,
          0,
          0,
          0,
          0,
          0,
          0,
          0,
          0,
          0,
          0,
          0,
          0,
          0,
          0,
          0,
          0,
          0,
          0,
          0,
          0,
          0,
          0,
          0,
          0,
          0,
          0,
          0,
          0.00030349013657056146,
          0.00030349013657056146,
          0.0009104704097116844,
          0.0009104704097116844,
          0.0012139605462822458,
          0.0012139605462822458,
          0.0015174506828528073,
          0.0015174506828528073,
          0.0018209408194233688,
          0.0018209408194233688,
          0.0021244309559939304,
          0.0021244309559939304,
          0.0024279210925644916,
          0.0024279210925644916,
          0.002731411229135053,
          0.002731411229135053,
          0.0030349013657056147,
          0.0030349013657056147,
          0.003338391502276176,
          0.003338391502276176,
          0.0039453717754172985,
          0.0039453717754172985,
          0.004248861911987861,
          0.004855842185128983,
          0.004855842185128983,
          0.005159332321699545,
          0.005159332321699545,
          0.005766312594840668,
          0.005766312594840668,
          0.006069802731411229,
          0.006069802731411229,
          0.006373292867981791,
          0.006373292867981791,
          0.006676783004552352,
          0.006676783004552352,
          0.006980273141122913,
          0.006980273141122913,
          0.007587253414264037,
          0.007587253414264037,
          0.007890743550834597,
          0.007890743550834597,
          0.00819423368740516,
          0.00819423368740516,
          0.009104704097116844,
          0.009104704097116844,
          0.009711684370257967,
          0.009711684370257967,
          0.010015174506828529,
          0.010015174506828529,
          0.012139605462822459,
          0.012139605462822459,
          0.013353566009104704,
          0.013353566009104704,
          0.013657056145675266,
          0.013657056145675266,
          0.014264036418816389,
          0.014264036418816389,
          0.015174506828528073,
          0.015174506828528073,
          0.016084977238239758,
          0.016084977238239758,
          0.016995447647951443,
          0.016995447647951443,
          0.017602427921092564,
          0.017602427921092564,
          0.017905918057663128,
          0.017905918057663128,
          0.018209408194233688,
          0.018209408194233688,
          0.019119878603945373,
          0.019119878603945373,
          0.019423368740515933,
          0.020030349013657057,
          0.02063732928679818,
          0.02063732928679818,
          0.022458270106221548,
          0.022458270106221548,
          0.023368740515933233,
          0.024886191198786038,
          0.025493171471927163,
          0.0385432473444613,
          0.04522003034901366,
          0.04582701062215478,
          0.046130500758725344,
          0.046737481031866465,
          0.050379362670713204,
          0.050986342943854325,
          0.0622154779969651,
          0.06282245827010623,
          0.06585735963581184,
          0.06646433990895297,
          0.07344461305007587,
          0.074051593323217,
          0.07921092564491654,
          0.07981790591805767,
          0.08710166919575114,
          0.08770864946889226,
          0.09195751138088012,
          0.09256449165402124,
          0.09559939301972686,
          0.09650986342943854,
          0.09893778452200304,
          0.09984825493171472,
          0.10106221547799696,
          0.10166919575113809,
          0.10743550834597876,
          0.10743550834597876,
          0.11380880121396054,
          0.11441578148710167,
          0.1220030349013657,
          0.12261001517450683,
          0.13050075872534142,
          0.13050075872534142,
          0.1362670713201821,
          0.1362670713201821,
          0.13748103186646435,
          0.13748103186646435,
          0.1526555386949924,
          0.1526555386949924,
          0.1544764795144158,
          0.15508345978755692,
          0.15569044006069802,
          0.15569044006069802,
          0.1614567526555387,
          0.16206373292867982,
          0.1678300455235205,
          0.16843702579666162,
          0.17025796661608497,
          0.1708649468892261,
          0.17207890743550835,
          0.17207890743550835,
          0.18391502276176025,
          0.18512898330804248,
          0.19635811836115327,
          0.19696509863429437,
          0.21001517450682852,
          0.21001517450682852,
          0.2188163884673748,
          0.21942336874051593,
          0.22701062215477996,
          0.2276176024279211,
          0.2291350531107739,
          0.22974203338391502,
          0.2306525037936267,
          0.2306525037936267,
          0.24795144157814872,
          0.24855842185128985,
          0.24946889226100152,
          0.25007587253414265,
          0.2540212443095599,
          0.2540212443095599,
          0.2600910470409712,
          0.2606980273141123,
          0.2822458270106222,
          0.2822458270106222,
          0.31229135053110774,
          0.31320182094081944,
          0.3220030349013657,
          0.3226100151745068,
          0.3238239757207891,
          0.3244309559939302,
          0.335660091047041,
          0.3365705614567527,
          0.3408194233687405,
          0.3408194233687405,
          0.3411229135053111,
          0.3417298937784522,
          0.3456752655538695,
          0.34658573596358117,
          0.35235204855842184,
          0.35235204855842184,
          0.3559939301972686,
          0.3559939301972686,
          0.3626707132018209,
          0.3632776934749621,
          0.39119878603945374,
          0.3921092564491654,
          0.42397572078907436,
          0.42458270106221546,
          0.4285280728376328,
          0.4294385432473445,
          0.4306525037936267,
          0.4330804248861912,
          0.4355083459787557,
          0.43672230652503796,
          0.43823975720789077,
          0.43884673748103187,
          0.4397572078907436,
          0.4403641881638847,
          0.4424886191198786,
          0.44370257966616083,
          0.4449165402124431,
          0.44552352048558425,
          0.45128983308042486,
          0.451896813353566,
          0.4661608497723824,
          0.4667678300455235,
          0.4792109256449165,
          0.4798179059180577,
          0.4813353566009105,
          0.4819423368740516,
          0.4880121396054628,
          0.48861911987860396,
          0.49742033383915024,
          0.49802731411229134,
          0.501062215477997,
          0.5022761760242792,
          0.5034901365705614,
          0.5040971168437026,
          0.5059180576631259,
          0.506525037936267,
          0.5074355083459787,
          0.5077389984825493,
          0.508649468892261,
          0.5089529590288315,
          0.5095599393019726,
          0.5110773899848255,
          0.5116843702579666,
          0.5122913505311077,
          0.5132018209408195,
          0.5144157814871017,
          0.515629742033384,
          0.5256449165402124,
          0.5262518968133536,
          0.528679817905918,
          0.5295902883156297,
          0.5711684370257967,
          0.5720789074355084,
          0.5817905918057663,
          0.582701062215478,
          0.5833080424886191,
          0.5839150227617602,
          0.5872534142640364,
          0.5878603945371775,
          0.5881638846737481,
          0.5890743550834597,
          0.5899848254931714,
          0.5905918057663126,
          0.5915022761760242,
          0.5927162367223066,
          0.5942336874051594,
          0.5963581183611533,
          0.597268588770865,
          0.5984825493171472,
          0.6003034901365706,
          0.6015174506828528,
          0.6018209408194234,
          0.6027314112291351,
          0.6030349013657056,
          0.6036418816388467,
          0.6057663125948407,
          0.607587253414264,
          0.6081942336874051,
          0.6084977238239757,
          0.6100151745068285,
          0.6109256449165402,
          0.6115326251896813,
          0.612443095599393,
          0.6139605462822458,
          0.6142640364188164,
          0.615174506828528,
          0.6169954476479514,
          0.6176024279210925,
          0.6179059180576632,
          0.6191198786039454,
          0.6197268588770865,
          0.6206373292867982,
          0.6209408194233688,
          0.6215477996965099,
          0.6233687405159333,
          0.6276176024279211,
          0.6282245827010622,
          0.7034901365705615,
          0.7040971168437026,
          0.7250379362670714,
          0.7271623672230653,
          0.7283763277693475,
          0.7292867981790592,
          0.7295902883156298,
          0.7305007587253415,
          0.735660091047041,
          0.7365705614567527,
          0.74597875569044,
          0.7471927162367223,
          0.8224582701062215,
          0.8239757207890743,
          1
         ],
         "y": [
          0,
          0.0018115942028985507,
          0.05253623188405797,
          0.06159420289855073,
          0.06340579710144928,
          0.06884057971014493,
          0.08152173913043478,
          0.08514492753623189,
          0.125,
          0.1286231884057971,
          0.2210144927536232,
          0.22826086956521738,
          0.2463768115942029,
          0.25,
          0.26268115942028986,
          0.266304347826087,
          0.27355072463768115,
          0.27717391304347827,
          0.2807971014492754,
          0.286231884057971,
          0.31521739130434784,
          0.3188405797101449,
          0.32608695652173914,
          0.33152173913043476,
          0.3333333333333333,
          0.34057971014492755,
          0.3423913043478261,
          0.3496376811594203,
          0.35507246376811596,
          0.35688405797101447,
          0.38768115942028986,
          0.3894927536231884,
          0.39311594202898553,
          0.40217391304347827,
          0.4148550724637681,
          0.4166666666666667,
          0.42028985507246375,
          0.4221014492753623,
          0.4311594202898551,
          0.7753623188405797,
          0.7753623188405797,
          0.7971014492753623,
          0.7971014492753623,
          0.822463768115942,
          0.822463768115942,
          0.8260869565217391,
          0.8260869565217391,
          0.8278985507246377,
          0.8278985507246377,
          0.8496376811594203,
          0.8496376811594203,
          0.855072463768116,
          0.855072463768116,
          0.8677536231884058,
          0.8677536231884058,
          0.8695652173913043,
          0.8695652173913043,
          0.875,
          0.875,
          0.8822463768115942,
          0.8822463768115942,
          0.8876811594202898,
          0.8876811594202898,
          0.8876811594202898,
          0.8913043478260869,
          0.8913043478260869,
          0.894927536231884,
          0.894927536231884,
          0.8985507246376812,
          0.8985507246376812,
          0.9021739130434783,
          0.9021739130434783,
          0.9112318840579711,
          0.9112318840579711,
          0.9130434782608695,
          0.9130434782608695,
          0.9239130434782609,
          0.9239130434782609,
          0.927536231884058,
          0.927536231884058,
          0.9347826086956522,
          0.9347826086956522,
          0.9365942028985508,
          0.9365942028985508,
          0.9384057971014492,
          0.9384057971014492,
          0.9420289855072463,
          0.9420289855072463,
          0.9438405797101449,
          0.9438405797101449,
          0.9456521739130435,
          0.9456521739130435,
          0.947463768115942,
          0.947463768115942,
          0.9510869565217391,
          0.9510869565217391,
          0.9528985507246377,
          0.9528985507246377,
          0.9547101449275363,
          0.9547101449275363,
          0.9565217391304348,
          0.9565217391304348,
          0.9583333333333334,
          0.9583333333333334,
          0.9601449275362319,
          0.9601449275362319,
          0.9637681159420289,
          0.9637681159420289,
          0.9655797101449275,
          0.9655797101449275,
          0.967391304347826,
          0.967391304347826,
          0.967391304347826,
          0.967391304347826,
          0.9710144927536232,
          0.9710144927536232,
          0.9728260869565217,
          0.9728260869565217,
          0.9728260869565217,
          0.9728260869565217,
          0.9746376811594203,
          0.9746376811594203,
          0.9746376811594203,
          0.9746376811594203,
          0.9746376811594203,
          0.9746376811594203,
          0.9746376811594203,
          0.9746376811594203,
          0.9746376811594203,
          0.9746376811594203,
          0.9746376811594203,
          0.9746376811594203,
          0.9746376811594203,
          0.9746376811594203,
          0.9746376811594203,
          0.9746376811594203,
          0.9746376811594203,
          0.9746376811594203,
          0.9746376811594203,
          0.9746376811594203,
          0.9746376811594203,
          0.9746376811594203,
          0.9746376811594203,
          0.9746376811594203,
          0.9746376811594203,
          0.9746376811594203,
          0.9764492753623188,
          0.9764492753623188,
          0.9764492753623188,
          0.9764492753623188,
          0.9764492753623188,
          0.9764492753623188,
          0.9782608695652174,
          0.9782608695652174,
          0.980072463768116,
          0.980072463768116,
          0.9818840579710145,
          0.9818840579710145,
          0.9836956521739131,
          0.9836956521739131,
          0.9836956521739131,
          0.9836956521739131,
          0.9855072463768116,
          0.9855072463768116,
          0.9855072463768116,
          0.9855072463768116,
          0.9855072463768116,
          0.9855072463768116,
          0.9855072463768116,
          0.9855072463768116,
          0.9873188405797102,
          0.9873188405797102,
          0.9873188405797102,
          0.9873188405797102,
          0.9873188405797102,
          0.9873188405797102,
          0.9891304347826086,
          0.9891304347826086,
          0.9891304347826086,
          0.9891304347826086,
          0.9891304347826086,
          0.9891304347826086,
          0.9891304347826086,
          0.9891304347826086,
          0.9909420289855072,
          0.9909420289855072,
          0.9909420289855072,
          0.9909420289855072,
          0.9909420289855072,
          0.9909420289855072,
          0.9927536231884058,
          0.9927536231884058,
          0.9927536231884058,
          0.9927536231884058,
          0.9945652173913043,
          0.9945652173913043,
          0.9945652173913043,
          0.9945652173913043,
          0.9945652173913043,
          0.9945652173913043,
          0.9945652173913043,
          0.9945652173913043,
          0.9945652173913043,
          0.9945652173913043,
          0.9963768115942029,
          0.9963768115942029,
          0.9963768115942029,
          0.9963768115942029,
          0.9963768115942029,
          0.9963768115942029,
          0.9981884057971014,
          0.9981884057971014,
          1,
          1,
          1,
          1,
          1,
          1,
          1,
          1,
          1,
          1,
          1,
          1,
          1,
          1,
          1,
          1,
          1,
          1,
          1,
          1,
          1,
          1,
          1,
          1,
          1,
          1,
          1,
          1,
          1,
          1,
          1,
          1,
          1,
          1,
          1,
          1,
          1,
          1,
          1,
          1,
          1,
          1,
          1,
          1,
          1,
          1,
          1,
          1,
          1,
          1,
          1,
          1,
          1,
          1,
          1,
          1,
          1,
          1,
          1,
          1,
          1,
          1,
          1,
          1,
          1,
          1,
          1,
          1,
          1,
          1,
          1,
          1,
          1,
          1,
          1,
          1,
          1,
          1,
          1,
          1,
          1,
          1,
          1,
          1,
          1,
          1,
          1,
          1,
          1,
          1,
          1,
          1,
          1,
          1,
          1,
          1,
          1,
          1,
          1,
          1,
          1,
          1,
          1,
          1,
          1,
          1,
          1,
          1,
          1,
          1,
          1,
          1,
          1,
          1,
          1
         ]
        },
        {
         "line": {
          "width": 2
         },
         "mode": "lines",
         "name": "ROC curve of class 9 (AUC = 1.00)",
         "type": "scatter",
         "x": [
          0,
          0,
          0,
          0.00030184123151222455,
          0.00030184123151222455,
          0.0006036824630244491,
          0.0006036824630244491,
          0.001509206157561123,
          0.001509206157561123,
          0.0018110473890733474,
          0.0018110473890733474,
          0.002112888620585572,
          0.002112888620585572,
          0.0024147298520977964,
          0.0024147298520977964,
          0.0027165710836100213,
          0.0027165710836100213,
          0.003018412315122246,
          0.003018412315122246,
          0.01056444310292786,
          0.011168125565952309,
          0.02173256866888017,
          0.02173256866888017,
          0.05704799275581044,
          0.057651675218834894,
          0.08270449743434953,
          0.08330817989737398,
          0.08572290974947178,
          0.08632659221249622,
          0.09447630546332629,
          0.09507998792635074,
          0.10292785994566858,
          0.10353154240869303,
          0.11892544521581648,
          0.12073649260488983,
          0.1216420162994265,
          0.12194385753093873,
          0.1352248717174766,
          0.13582855418050105,
          0.13854512526411109,
          0.13914880772713553,
          0.14216722004225776,
          0.1427709025052822,
          0.14548747358889225,
          0.1460911560519167,
          0.15605191669182011,
          0.15665559915484456,
          0.15997585270147902,
          0.16057953516450346,
          0.1611832176275279,
          0.16178690009055238,
          0.1645034711741624,
          0.16510715363718684,
          0.169332930878358,
          0.16993661334138244,
          0.1768789616661636,
          0.17778448536070027,
          0.18412315122245698,
          0.18472683368548143,
          0.1880470872321159,
          0.18865076969514036,
          0.18955629338967703,
          0.1904618170842137,
          0.1916691820102626,
          0.19227286447328706,
          0.20223362511319046,
          0.2028373075762149,
          0.22426803501358286,
          0.2248717174766073,
          0.24117114397826744,
          0.2417748264412919,
          0.25596136432236644,
          0.2565650467853909,
          0.26320555387865985,
          0.2638092363416843,
          0.2900694234832478,
          0.29067310594627227,
          0.29550256565046784,
          0.2961062481134923,
          0.2964080893450045,
          0.29701177180802896,
          0.29882281919710235,
          0.2994265016601268,
          0.3142167220042258,
          0.31482040446725024,
          0.3193480229399336,
          0.32025354663447025,
          0.3522487171747661,
          0.3528523996377905,
          0.3537579233323272,
          0.35436160579535164,
          0.3661334138243284,
          0.36703893751886507,
          0.37488680953818293,
          0.3757923332327196,
          0.37639601569574405,
          0.3769996981587685,
          0.41472985209779656,
          0.415333534560821,
          0.456987624509508,
          0.4575913069725325,
          0.4790220344099004,
          0.47992755810443705,
          0.5405976456383942,
          0.5412013281014186,
          0.5463326290371264,
          0.5475399939631753,
          0.5505584062782977,
          0.5511620887413221,
          0.5568970721400543,
          0.5575007546030788,
          0.5602173256866888,
          0.5608210081497133,
          0.56987624509508,
          0.5704799275581044,
          0.5747057047992756,
          0.5753093872623001,
          0.5979474796257169,
          0.5985511620887414,
          0.606097192876547,
          0.6076063990341081,
          0.6082100814971325,
          0.6085119227286447,
          0.6106248113492303,
          0.6112284938122547,
          0.6118321762752792,
          0.6127376999698159,
          0.6136432236643525,
          0.6139450648958648,
          0.6190763658315726,
          0.6193782070630848,
          0.6205855719891337,
          0.6211892544521581,
          0.6223966193782071,
          0.6233021430727438,
          0.6245095079987927,
          0.6251131904618171,
          0.6260187141563538,
          0.6308481738605494,
          0.6314518563235738,
          0.6320555387865983,
          0.6329610624811349,
          0.6335647449441594,
          0.6359794747962572,
          0.6365831572592816,
          0.6392997283428916,
          0.6405070932689405,
          0.661334138243284,
          0.6619378207063085,
          0.6740114699667975,
          0.674615152429822,
          0.6815575007546031,
          0.6824630244491398,
          0.6839722306067009,
          0.7072140054331422,
          0.7084213703591911,
          0.70962873528524,
          0.7102324177482644,
          0.7120434651373377,
          0.7129489888318744,
          0.71506187745246,
          0.7156655599154844,
          0.7159674011469966,
          0.7168729248415333,
          0.7180802897675822,
          0.7186839722306066,
          0.7201931783881679,
          0.7207968608511923,
          0.7214005433142168,
          0.7220042257772412,
          0.741925747057048,
          0.7425294295200724,
          0.7461515242982192,
          0.7467552067612436,
          0.7476607304557803,
          0.7518865076969514,
          0.7527920313914881,
          0.7543012375490492,
          0.7549049200120737,
          0.7555086024750981,
          0.7561122849381225,
          0.7570178086326592,
          0.7585270147902203,
          0.759432538484757,
          0.7597343797162692,
          0.7603380621792937,
          0.7627527920313915,
          0.7636583157259281,
          0.764865680651977,
          0.7657712043465137,
          0.7663748868095381,
          0.7681859341986115,
          0.768789616661636,
          0.7699969815876849,
          0.771506187745246,
          0.7727135526712949,
          0.7733172351343194,
          0.7748264412918805,
          0.7763356474494416,
          0.7772411711439783,
          0.7784485360700272,
          0.7787503773015394,
          0.7805614246906127,
          0.7820706308481739,
          0.7838816782372472,
          0.7847872019317839,
          0.7911258677935405,
          0.791729550256565,
          0.8077271355267129,
          0.8083308179897374,
          0.8107455478418352,
          0.8113492303048596,
          0.8149713250830063,
          0.8161786900090552,
          0.817084213703592,
          0.8188952610926653,
          0.8204044672502264,
          0.8210081497132509,
          0.8219136734077875,
          0.8228191971023242,
          0.8234228795653487,
          0.8255357681859342,
          0.8264412918804709,
          0.8309689103531542,
          0.8315725928161787,
          0.833383640205252,
          0.8342891638997887,
          0.8741322064594024,
          0.8762450950799879,
          0.877754301237549,
          0.8786598249320857,
          0.8789616661635979,
          0.8798671898581346,
          0.8825837609417446,
          0.8831874434047691,
          0.8877150618774524,
          0.8886205855719891,
          0.8952610926652581,
          0.8967702988228192,
          0.8988831874434048,
          0.9000905523694537,
          1
         ],
         "y": [
          0,
          0.0018726591760299626,
          0.9606741573033708,
          0.9606741573033708,
          0.9662921348314607,
          0.9662921348314607,
          0.9737827715355806,
          0.9737827715355806,
          0.9775280898876404,
          0.9775280898876404,
          0.9794007490636704,
          0.9794007490636704,
          0.9850187265917603,
          0.9850187265917603,
          0.9906367041198502,
          0.9906367041198502,
          0.9943820224719101,
          0.9943820224719101,
          0.99812734082397,
          0.99812734082397,
          0.99812734082397,
          0.99812734082397,
          1,
          1,
          1,
          1,
          1,
          1,
          1,
          1,
          1,
          1,
          1,
          1,
          1,
          1,
          1,
          1,
          1,
          1,
          1,
          1,
          1,
          1,
          1,
          1,
          1,
          1,
          1,
          1,
          1,
          1,
          1,
          1,
          1,
          1,
          1,
          1,
          1,
          1,
          1,
          1,
          1,
          1,
          1,
          1,
          1,
          1,
          1,
          1,
          1,
          1,
          1,
          1,
          1,
          1,
          1,
          1,
          1,
          1,
          1,
          1,
          1,
          1,
          1,
          1,
          1,
          1,
          1,
          1,
          1,
          1,
          1,
          1,
          1,
          1,
          1,
          1,
          1,
          1,
          1,
          1,
          1,
          1,
          1,
          1,
          1,
          1,
          1,
          1,
          1,
          1,
          1,
          1,
          1,
          1,
          1,
          1,
          1,
          1,
          1,
          1,
          1,
          1,
          1,
          1,
          1,
          1,
          1,
          1,
          1,
          1,
          1,
          1,
          1,
          1,
          1,
          1,
          1,
          1,
          1,
          1,
          1,
          1,
          1,
          1,
          1,
          1,
          1,
          1,
          1,
          1,
          1,
          1,
          1,
          1,
          1,
          1,
          1,
          1,
          1,
          1,
          1,
          1,
          1,
          1,
          1,
          1,
          1,
          1,
          1,
          1,
          1,
          1,
          1,
          1,
          1,
          1,
          1,
          1,
          1,
          1,
          1,
          1,
          1,
          1,
          1,
          1,
          1,
          1,
          1,
          1,
          1,
          1,
          1,
          1,
          1,
          1,
          1,
          1,
          1,
          1,
          1,
          1,
          1,
          1,
          1,
          1,
          1,
          1,
          1,
          1,
          1,
          1,
          1,
          1,
          1,
          1,
          1,
          1,
          1,
          1,
          1,
          1,
          1,
          1,
          1,
          1,
          1,
          1,
          1,
          1,
          1,
          1,
          1,
          1,
          1,
          1,
          1,
          1,
          1,
          1
         ]
        },
        {
         "line": {
          "color": "navy",
          "dash": "dash",
          "width": 2
         },
         "mode": "lines",
         "showlegend": false,
         "type": "scatter",
         "x": [
          0,
          1
         ],
         "y": [
          0,
          1
         ]
        }
       ],
       "layout": {
        "height": 800,
        "legend": {
         "x": 0.7,
         "y": 0.1
        },
        "template": {
         "data": {
          "bar": [
           {
            "error_x": {
             "color": "#2a3f5f"
            },
            "error_y": {
             "color": "#2a3f5f"
            },
            "marker": {
             "line": {
              "color": "#E5ECF6",
              "width": 0.5
             },
             "pattern": {
              "fillmode": "overlay",
              "size": 10,
              "solidity": 0.2
             }
            },
            "type": "bar"
           }
          ],
          "barpolar": [
           {
            "marker": {
             "line": {
              "color": "#E5ECF6",
              "width": 0.5
             },
             "pattern": {
              "fillmode": "overlay",
              "size": 10,
              "solidity": 0.2
             }
            },
            "type": "barpolar"
           }
          ],
          "carpet": [
           {
            "aaxis": {
             "endlinecolor": "#2a3f5f",
             "gridcolor": "white",
             "linecolor": "white",
             "minorgridcolor": "white",
             "startlinecolor": "#2a3f5f"
            },
            "baxis": {
             "endlinecolor": "#2a3f5f",
             "gridcolor": "white",
             "linecolor": "white",
             "minorgridcolor": "white",
             "startlinecolor": "#2a3f5f"
            },
            "type": "carpet"
           }
          ],
          "choropleth": [
           {
            "colorbar": {
             "outlinewidth": 0,
             "ticks": ""
            },
            "type": "choropleth"
           }
          ],
          "contour": [
           {
            "colorbar": {
             "outlinewidth": 0,
             "ticks": ""
            },
            "colorscale": [
             [
              0,
              "#0d0887"
             ],
             [
              0.1111111111111111,
              "#46039f"
             ],
             [
              0.2222222222222222,
              "#7201a8"
             ],
             [
              0.3333333333333333,
              "#9c179e"
             ],
             [
              0.4444444444444444,
              "#bd3786"
             ],
             [
              0.5555555555555556,
              "#d8576b"
             ],
             [
              0.6666666666666666,
              "#ed7953"
             ],
             [
              0.7777777777777778,
              "#fb9f3a"
             ],
             [
              0.8888888888888888,
              "#fdca26"
             ],
             [
              1,
              "#f0f921"
             ]
            ],
            "type": "contour"
           }
          ],
          "contourcarpet": [
           {
            "colorbar": {
             "outlinewidth": 0,
             "ticks": ""
            },
            "type": "contourcarpet"
           }
          ],
          "heatmap": [
           {
            "colorbar": {
             "outlinewidth": 0,
             "ticks": ""
            },
            "colorscale": [
             [
              0,
              "#0d0887"
             ],
             [
              0.1111111111111111,
              "#46039f"
             ],
             [
              0.2222222222222222,
              "#7201a8"
             ],
             [
              0.3333333333333333,
              "#9c179e"
             ],
             [
              0.4444444444444444,
              "#bd3786"
             ],
             [
              0.5555555555555556,
              "#d8576b"
             ],
             [
              0.6666666666666666,
              "#ed7953"
             ],
             [
              0.7777777777777778,
              "#fb9f3a"
             ],
             [
              0.8888888888888888,
              "#fdca26"
             ],
             [
              1,
              "#f0f921"
             ]
            ],
            "type": "heatmap"
           }
          ],
          "heatmapgl": [
           {
            "colorbar": {
             "outlinewidth": 0,
             "ticks": ""
            },
            "colorscale": [
             [
              0,
              "#0d0887"
             ],
             [
              0.1111111111111111,
              "#46039f"
             ],
             [
              0.2222222222222222,
              "#7201a8"
             ],
             [
              0.3333333333333333,
              "#9c179e"
             ],
             [
              0.4444444444444444,
              "#bd3786"
             ],
             [
              0.5555555555555556,
              "#d8576b"
             ],
             [
              0.6666666666666666,
              "#ed7953"
             ],
             [
              0.7777777777777778,
              "#fb9f3a"
             ],
             [
              0.8888888888888888,
              "#fdca26"
             ],
             [
              1,
              "#f0f921"
             ]
            ],
            "type": "heatmapgl"
           }
          ],
          "histogram": [
           {
            "marker": {
             "pattern": {
              "fillmode": "overlay",
              "size": 10,
              "solidity": 0.2
             }
            },
            "type": "histogram"
           }
          ],
          "histogram2d": [
           {
            "colorbar": {
             "outlinewidth": 0,
             "ticks": ""
            },
            "colorscale": [
             [
              0,
              "#0d0887"
             ],
             [
              0.1111111111111111,
              "#46039f"
             ],
             [
              0.2222222222222222,
              "#7201a8"
             ],
             [
              0.3333333333333333,
              "#9c179e"
             ],
             [
              0.4444444444444444,
              "#bd3786"
             ],
             [
              0.5555555555555556,
              "#d8576b"
             ],
             [
              0.6666666666666666,
              "#ed7953"
             ],
             [
              0.7777777777777778,
              "#fb9f3a"
             ],
             [
              0.8888888888888888,
              "#fdca26"
             ],
             [
              1,
              "#f0f921"
             ]
            ],
            "type": "histogram2d"
           }
          ],
          "histogram2dcontour": [
           {
            "colorbar": {
             "outlinewidth": 0,
             "ticks": ""
            },
            "colorscale": [
             [
              0,
              "#0d0887"
             ],
             [
              0.1111111111111111,
              "#46039f"
             ],
             [
              0.2222222222222222,
              "#7201a8"
             ],
             [
              0.3333333333333333,
              "#9c179e"
             ],
             [
              0.4444444444444444,
              "#bd3786"
             ],
             [
              0.5555555555555556,
              "#d8576b"
             ],
             [
              0.6666666666666666,
              "#ed7953"
             ],
             [
              0.7777777777777778,
              "#fb9f3a"
             ],
             [
              0.8888888888888888,
              "#fdca26"
             ],
             [
              1,
              "#f0f921"
             ]
            ],
            "type": "histogram2dcontour"
           }
          ],
          "mesh3d": [
           {
            "colorbar": {
             "outlinewidth": 0,
             "ticks": ""
            },
            "type": "mesh3d"
           }
          ],
          "parcoords": [
           {
            "line": {
             "colorbar": {
              "outlinewidth": 0,
              "ticks": ""
             }
            },
            "type": "parcoords"
           }
          ],
          "pie": [
           {
            "automargin": true,
            "type": "pie"
           }
          ],
          "scatter": [
           {
            "fillpattern": {
             "fillmode": "overlay",
             "size": 10,
             "solidity": 0.2
            },
            "type": "scatter"
           }
          ],
          "scatter3d": [
           {
            "line": {
             "colorbar": {
              "outlinewidth": 0,
              "ticks": ""
             }
            },
            "marker": {
             "colorbar": {
              "outlinewidth": 0,
              "ticks": ""
             }
            },
            "type": "scatter3d"
           }
          ],
          "scattercarpet": [
           {
            "marker": {
             "colorbar": {
              "outlinewidth": 0,
              "ticks": ""
             }
            },
            "type": "scattercarpet"
           }
          ],
          "scattergeo": [
           {
            "marker": {
             "colorbar": {
              "outlinewidth": 0,
              "ticks": ""
             }
            },
            "type": "scattergeo"
           }
          ],
          "scattergl": [
           {
            "marker": {
             "colorbar": {
              "outlinewidth": 0,
              "ticks": ""
             }
            },
            "type": "scattergl"
           }
          ],
          "scattermapbox": [
           {
            "marker": {
             "colorbar": {
              "outlinewidth": 0,
              "ticks": ""
             }
            },
            "type": "scattermapbox"
           }
          ],
          "scatterpolar": [
           {
            "marker": {
             "colorbar": {
              "outlinewidth": 0,
              "ticks": ""
             }
            },
            "type": "scatterpolar"
           }
          ],
          "scatterpolargl": [
           {
            "marker": {
             "colorbar": {
              "outlinewidth": 0,
              "ticks": ""
             }
            },
            "type": "scatterpolargl"
           }
          ],
          "scatterternary": [
           {
            "marker": {
             "colorbar": {
              "outlinewidth": 0,
              "ticks": ""
             }
            },
            "type": "scatterternary"
           }
          ],
          "surface": [
           {
            "colorbar": {
             "outlinewidth": 0,
             "ticks": ""
            },
            "colorscale": [
             [
              0,
              "#0d0887"
             ],
             [
              0.1111111111111111,
              "#46039f"
             ],
             [
              0.2222222222222222,
              "#7201a8"
             ],
             [
              0.3333333333333333,
              "#9c179e"
             ],
             [
              0.4444444444444444,
              "#bd3786"
             ],
             [
              0.5555555555555556,
              "#d8576b"
             ],
             [
              0.6666666666666666,
              "#ed7953"
             ],
             [
              0.7777777777777778,
              "#fb9f3a"
             ],
             [
              0.8888888888888888,
              "#fdca26"
             ],
             [
              1,
              "#f0f921"
             ]
            ],
            "type": "surface"
           }
          ],
          "table": [
           {
            "cells": {
             "fill": {
              "color": "#EBF0F8"
             },
             "line": {
              "color": "white"
             }
            },
            "header": {
             "fill": {
              "color": "#C8D4E3"
             },
             "line": {
              "color": "white"
             }
            },
            "type": "table"
           }
          ]
         },
         "layout": {
          "annotationdefaults": {
           "arrowcolor": "#2a3f5f",
           "arrowhead": 0,
           "arrowwidth": 1
          },
          "autotypenumbers": "strict",
          "coloraxis": {
           "colorbar": {
            "outlinewidth": 0,
            "ticks": ""
           }
          },
          "colorscale": {
           "diverging": [
            [
             0,
             "#8e0152"
            ],
            [
             0.1,
             "#c51b7d"
            ],
            [
             0.2,
             "#de77ae"
            ],
            [
             0.3,
             "#f1b6da"
            ],
            [
             0.4,
             "#fde0ef"
            ],
            [
             0.5,
             "#f7f7f7"
            ],
            [
             0.6,
             "#e6f5d0"
            ],
            [
             0.7,
             "#b8e186"
            ],
            [
             0.8,
             "#7fbc41"
            ],
            [
             0.9,
             "#4d9221"
            ],
            [
             1,
             "#276419"
            ]
           ],
           "sequential": [
            [
             0,
             "#0d0887"
            ],
            [
             0.1111111111111111,
             "#46039f"
            ],
            [
             0.2222222222222222,
             "#7201a8"
            ],
            [
             0.3333333333333333,
             "#9c179e"
            ],
            [
             0.4444444444444444,
             "#bd3786"
            ],
            [
             0.5555555555555556,
             "#d8576b"
            ],
            [
             0.6666666666666666,
             "#ed7953"
            ],
            [
             0.7777777777777778,
             "#fb9f3a"
            ],
            [
             0.8888888888888888,
             "#fdca26"
            ],
            [
             1,
             "#f0f921"
            ]
           ],
           "sequentialminus": [
            [
             0,
             "#0d0887"
            ],
            [
             0.1111111111111111,
             "#46039f"
            ],
            [
             0.2222222222222222,
             "#7201a8"
            ],
            [
             0.3333333333333333,
             "#9c179e"
            ],
            [
             0.4444444444444444,
             "#bd3786"
            ],
            [
             0.5555555555555556,
             "#d8576b"
            ],
            [
             0.6666666666666666,
             "#ed7953"
            ],
            [
             0.7777777777777778,
             "#fb9f3a"
            ],
            [
             0.8888888888888888,
             "#fdca26"
            ],
            [
             1,
             "#f0f921"
            ]
           ]
          },
          "colorway": [
           "#636efa",
           "#EF553B",
           "#00cc96",
           "#ab63fa",
           "#FFA15A",
           "#19d3f3",
           "#FF6692",
           "#B6E880",
           "#FF97FF",
           "#FECB52"
          ],
          "font": {
           "color": "#2a3f5f"
          },
          "geo": {
           "bgcolor": "white",
           "lakecolor": "white",
           "landcolor": "#E5ECF6",
           "showlakes": true,
           "showland": true,
           "subunitcolor": "white"
          },
          "hoverlabel": {
           "align": "left"
          },
          "hovermode": "closest",
          "mapbox": {
           "style": "light"
          },
          "paper_bgcolor": "white",
          "plot_bgcolor": "#E5ECF6",
          "polar": {
           "angularaxis": {
            "gridcolor": "white",
            "linecolor": "white",
            "ticks": ""
           },
           "bgcolor": "#E5ECF6",
           "radialaxis": {
            "gridcolor": "white",
            "linecolor": "white",
            "ticks": ""
           }
          },
          "scene": {
           "xaxis": {
            "backgroundcolor": "#E5ECF6",
            "gridcolor": "white",
            "gridwidth": 2,
            "linecolor": "white",
            "showbackground": true,
            "ticks": "",
            "zerolinecolor": "white"
           },
           "yaxis": {
            "backgroundcolor": "#E5ECF6",
            "gridcolor": "white",
            "gridwidth": 2,
            "linecolor": "white",
            "showbackground": true,
            "ticks": "",
            "zerolinecolor": "white"
           },
           "zaxis": {
            "backgroundcolor": "#E5ECF6",
            "gridcolor": "white",
            "gridwidth": 2,
            "linecolor": "white",
            "showbackground": true,
            "ticks": "",
            "zerolinecolor": "white"
           }
          },
          "shapedefaults": {
           "line": {
            "color": "#2a3f5f"
           }
          },
          "ternary": {
           "aaxis": {
            "gridcolor": "white",
            "linecolor": "white",
            "ticks": ""
           },
           "baxis": {
            "gridcolor": "white",
            "linecolor": "white",
            "ticks": ""
           },
           "bgcolor": "#E5ECF6",
           "caxis": {
            "gridcolor": "white",
            "linecolor": "white",
            "ticks": ""
           }
          },
          "title": {
           "x": 0.05
          },
          "xaxis": {
           "automargin": true,
           "gridcolor": "white",
           "linecolor": "white",
           "ticks": "",
           "title": {
            "standoff": 15
           },
           "zerolinecolor": "white",
           "zerolinewidth": 2
          },
          "yaxis": {
           "automargin": true,
           "gridcolor": "white",
           "linecolor": "white",
           "ticks": "",
           "title": {
            "standoff": 15
           },
           "zerolinecolor": "white",
           "zerolinewidth": 2
          }
         }
        },
        "title": {
         "font": {
          "family": "Gulliver",
          "size": 40
         },
         "text": "ROC Curves after SMOTE",
         "x": 0.5
        },
        "width": 1200,
        "xaxis": {
         "title": {
          "font": {
           "family": "Gulliver",
           "size": 24
          },
          "text": "False Positive Rate"
         }
        },
        "yaxis": {
         "title": {
          "font": {
           "family": "Gulliver",
           "size": 24
          },
          "text": "True Positive Rate"
         }
        }
       }
      }
     },
     "metadata": {},
     "output_type": "display_data"
    }
   ],
   "source": [
    "y_pred_proba = model.predict_proba(x_test_white)\n",
    "\n",
    "y_test_bin = label_binarize(y_test_white, classes = model.classes_)\n",
    "\n",
    "fpr = dict()\n",
    "tpr = dict()\n",
    "roc_auc = dict()\n",
    "\n",
    "for i in range(len(model.classes_)):\n",
    "    fpr[i], tpr[i], _ = roc_curve(y_test_bin[:, i], y_pred_proba[:, i])\n",
    "    roc_auc[i] = auc(fpr[i], tpr[i])\n",
    "\n",
    "fpr[\"micro\"], tpr[\"micro\"], _ = roc_curve(y_test_bin.ravel(), y_pred_proba.ravel())\n",
    "roc_auc[\"micro\"] = auc(fpr[\"micro\"], tpr[\"micro\"])\n",
    "\n",
    "fig = go.Figure()\n",
    "class_names = [\"3\", \"4\", \"5\", \"6\", \"7\", \"8\", \"9\"]\n",
    "\n",
    "for i in range(len(class_names)):\n",
    "    fig.add_trace(\n",
    "        go.Scatter(\n",
    "            x = fpr[i], y = tpr[i],\n",
    "            mode = 'lines',\n",
    "            line = dict(width = 2),\n",
    "            name = 'ROC curve of class {} (AUC = {:.2f})'.format(class_names[i], roc_auc[i])\n",
    "        )\n",
    "    )\n",
    "\n",
    "fig.add_trace(\n",
    "    go.Scatter(\n",
    "        x = [0, 1], y = [0, 1],\n",
    "        mode = 'lines',\n",
    "        line = dict(color = 'navy', width = 2, dash = 'dash'),\n",
    "        showlegend = False\n",
    "    )\n",
    ")\n",
    "\n",
    "fig.update_layout(\n",
    "    title = {\n",
    "        'text': 'ROC Curves after SMOTE',\n",
    "        'x': 0.5,\n",
    "        'font': {\n",
    "            'size': 40, 'family': 'Gulliver'\n",
    "        }\n",
    "    },\n",
    "    xaxis_title = {\n",
    "        'text': 'False Positive Rate',\n",
    "        'font': {\n",
    "            'size': 24, 'family': 'Gulliver'\n",
    "        }\n",
    "    },\n",
    "    yaxis_title = {\n",
    "        'text': 'True Positive Rate',\n",
    "        'font': {\n",
    "            'size': 24, 'family': 'Gulliver'\n",
    "        }\n",
    "    },\n",
    "    width = 1200, height = 800,\n",
    "    legend = dict(x = 0.7, y = 0.1),\n",
    ")\n",
    "\n",
    "fig.show()"
   ]
  },
  {
   "cell_type": "markdown",
   "metadata": {},
   "source": [
    "### Model Complexity"
   ]
  },
  {
   "cell_type": "code",
   "execution_count": 63,
   "metadata": {},
   "outputs": [
    {
     "data": {
      "application/vnd.plotly.v1+json": {
       "config": {
        "plotlyServerURL": "https://plotly.com"
       },
       "data": [
        {
         "colorscale": [
          [
           0,
           "rgb(247,251,255)"
          ],
          [
           0.125,
           "rgb(222,235,247)"
          ],
          [
           0.25,
           "rgb(198,219,239)"
          ],
          [
           0.375,
           "rgb(158,202,225)"
          ],
          [
           0.5,
           "rgb(107,174,214)"
          ],
          [
           0.625,
           "rgb(66,146,198)"
          ],
          [
           0.75,
           "rgb(33,113,181)"
          ],
          [
           0.875,
           "rgb(8,81,156)"
          ],
          [
           1,
           "rgb(8,48,107)"
          ]
         ],
         "name": "Train Error",
         "opacity": 0.8,
         "type": "surface",
         "x": [
          [
           0.001,
           0.01,
           0.1,
           1,
           10,
           100,
           1000
          ],
          [
           0.001,
           0.01,
           0.1,
           1,
           10,
           100,
           1000
          ],
          [
           0.001,
           0.01,
           0.1,
           1,
           10,
           100,
           1000
          ],
          [
           0.001,
           0.01,
           0.1,
           1,
           10,
           100,
           1000
          ],
          [
           0.001,
           0.01,
           0.1,
           1,
           10,
           100,
           1000
          ],
          [
           0.001,
           0.01,
           0.1,
           1,
           10,
           100,
           1000
          ],
          [
           0.001,
           0.01,
           0.1,
           1,
           10,
           100,
           1000
          ]
         ],
         "y": [
          [
           0.001,
           0.001,
           0.001,
           0.001,
           0.001,
           0.001,
           0.001
          ],
          [
           0.01,
           0.01,
           0.01,
           0.01,
           0.01,
           0.01,
           0.01
          ],
          [
           0.1,
           0.1,
           0.1,
           0.1,
           0.1,
           0.1,
           0.1
          ],
          [
           1,
           1,
           1,
           1,
           1,
           1,
           1
          ],
          [
           10,
           10,
           10,
           10,
           10,
           10,
           10
          ],
          [
           100,
           100,
           100,
           100,
           100,
           100,
           100
          ],
          [
           1000,
           1000,
           1000,
           1000,
           1000,
           1000,
           1000
          ]
         ],
         "z": [
          [
           0.8550134327064737,
           0.7619377762371089,
           0.6931276540428113,
           0.6628823988213883,
           0.6350636970274721,
           0.5692867666175578,
           0.5034231735852327
          ],
          [
           0.7455585406014387,
           0.6686021319005113,
           0.635150359649883,
           0.5855793396308172,
           0.5360949822341624,
           0.4490857093335644,
           0.3708293612964728
          ],
          [
           0.765490943755958,
           0.608631597192131,
           0.5470144726579427,
           0.4567120201057284,
           0.34431059883872084,
           0.22662275760464512,
           0.14299332697807432
          ],
          [
           0.8550134327064737,
           0.582286159979201,
           0.3625964121674322,
           0.21994973567900167,
           0.09619551087615907,
           0.02036571626657424,
           0.0006933009792876588
          ],
          [
           0.8550134327064737,
           0.8416673888551868,
           0.33547101135280355,
           0.036051650922956924,
           0.0011266140913424039,
           0.00008666262241097122,
           0
          ],
          [
           0.8550134327064737,
           0.8550134327064737,
           0.5730999220036399,
           0.0006066383568766875,
           0,
           0,
           0
          ],
          [
           0.8550134327064737,
           0.8550134327064737,
           0.7659242568680128,
           0,
           0,
           0,
           0
          ]
         ]
        },
        {
         "colorscale": [
          [
           0,
           "rgb(255,245,240)"
          ],
          [
           0.125,
           "rgb(254,224,210)"
          ],
          [
           0.25,
           "rgb(252,187,161)"
          ],
          [
           0.375,
           "rgb(252,146,114)"
          ],
          [
           0.5,
           "rgb(251,106,74)"
          ],
          [
           0.625,
           "rgb(239,59,44)"
          ],
          [
           0.75,
           "rgb(203,24,29)"
          ],
          [
           0.875,
           "rgb(165,15,21)"
          ],
          [
           1,
           "rgb(103,0,13)"
          ]
         ],
         "name": "Test Error",
         "opacity": 0.8,
         "type": "surface",
         "x": [
          [
           0.001,
           0.01,
           0.1,
           1,
           10,
           100,
           1000
          ],
          [
           0.001,
           0.01,
           0.1,
           1,
           10,
           100,
           1000
          ],
          [
           0.001,
           0.01,
           0.1,
           1,
           10,
           100,
           1000
          ],
          [
           0.001,
           0.01,
           0.1,
           1,
           10,
           100,
           1000
          ],
          [
           0.001,
           0.01,
           0.1,
           1,
           10,
           100,
           1000
          ],
          [
           0.001,
           0.01,
           0.1,
           1,
           10,
           100,
           1000
          ],
          [
           0.001,
           0.01,
           0.1,
           1,
           10,
           100,
           1000
          ]
         ],
         "y": [
          [
           0.001,
           0.001,
           0.001,
           0.001,
           0.001,
           0.001,
           0.001
          ],
          [
           0.01,
           0.01,
           0.01,
           0.01,
           0.01,
           0.01,
           0.01
          ],
          [
           0.1,
           0.1,
           0.1,
           0.1,
           0.1,
           0.1,
           0.1
          ],
          [
           1,
           1,
           1,
           1,
           1,
           1,
           1
          ],
          [
           10,
           10,
           10,
           10,
           10,
           10,
           10
          ],
          [
           100,
           100,
           100,
           100,
           100,
           100,
           100
          ],
          [
           1000,
           1000,
           1000,
           1000,
           1000,
           1000,
           1000
          ]
         ],
         "z": [
          [
           0.8635300233948531,
           0.7538341564855732,
           0.6971666233428646,
           0.6735118273979724,
           0.6456979464517807,
           0.5869508708084221,
           0.5297634520405511
          ],
          [
           0.7543540421107356,
           0.6849493111515467,
           0.6519365739537302,
           0.6046269820639459,
           0.5588770470496491,
           0.479334546399792,
           0.40940992981544055
          ],
          [
           0.7761892383675592,
           0.6282817780088381,
           0.5703145308032234,
           0.4821939173381856,
           0.37431765011697427,
           0.2752794385235249,
           0.21315310631661033
          ],
          [
           0.8635300233948531,
           0.6061866389394333,
           0.4068105016896283,
           0.28723680790226147,
           0.1946971666233429,
           0.1419287756693527,
           0.1362100337925657
          ],
          [
           0.8635300233948531,
           0.851052768390954,
           0.4081102157525345,
           0.16246425786327012,
           0.14062906160644661,
           0.13932934754354043,
           0.13932934754354043
          ],
          [
           0.8635300233948531,
           0.8635300233948531,
           0.65609565895503,
           0.2108136210033793,
           0.2009357941252924,
           0.2009357941252924,
           0.2009357941252924
          ],
          [
           0.8635300233948531,
           0.8635300233948531,
           0.8021835196256824,
           0.3717182219911619,
           0.35508188198596313,
           0.35508188198596313,
           0.35508188198596313
          ]
         ]
        }
       ],
       "layout": {
        "legend": {
         "bgcolor": "rgba(255, 255, 255, 0.5)",
         "x": 0,
         "y": 1
        },
        "margin": {
         "b": 0,
         "l": 0,
         "r": 0,
         "t": 80
        },
        "scene": {
         "aspectratio": {
          "x": 1,
          "y": 1,
          "z": 0.5
         },
         "camera": {
          "eye": {
           "x": -1.5,
           "y": -1.5,
           "z": 0.5
          }
         },
         "xaxis": {
          "title": {
           "text": "C"
          },
          "type": "log"
         },
         "yaxis": {
          "title": {
           "text": "Gamma"
          },
          "type": "log"
         },
         "zaxis": {
          "title": {
           "text": "Error"
          },
          "type": "linear"
         }
        },
        "template": {
         "data": {
          "bar": [
           {
            "error_x": {
             "color": "#2a3f5f"
            },
            "error_y": {
             "color": "#2a3f5f"
            },
            "marker": {
             "line": {
              "color": "#E5ECF6",
              "width": 0.5
             },
             "pattern": {
              "fillmode": "overlay",
              "size": 10,
              "solidity": 0.2
             }
            },
            "type": "bar"
           }
          ],
          "barpolar": [
           {
            "marker": {
             "line": {
              "color": "#E5ECF6",
              "width": 0.5
             },
             "pattern": {
              "fillmode": "overlay",
              "size": 10,
              "solidity": 0.2
             }
            },
            "type": "barpolar"
           }
          ],
          "carpet": [
           {
            "aaxis": {
             "endlinecolor": "#2a3f5f",
             "gridcolor": "white",
             "linecolor": "white",
             "minorgridcolor": "white",
             "startlinecolor": "#2a3f5f"
            },
            "baxis": {
             "endlinecolor": "#2a3f5f",
             "gridcolor": "white",
             "linecolor": "white",
             "minorgridcolor": "white",
             "startlinecolor": "#2a3f5f"
            },
            "type": "carpet"
           }
          ],
          "choropleth": [
           {
            "colorbar": {
             "outlinewidth": 0,
             "ticks": ""
            },
            "type": "choropleth"
           }
          ],
          "contour": [
           {
            "colorbar": {
             "outlinewidth": 0,
             "ticks": ""
            },
            "colorscale": [
             [
              0,
              "#0d0887"
             ],
             [
              0.1111111111111111,
              "#46039f"
             ],
             [
              0.2222222222222222,
              "#7201a8"
             ],
             [
              0.3333333333333333,
              "#9c179e"
             ],
             [
              0.4444444444444444,
              "#bd3786"
             ],
             [
              0.5555555555555556,
              "#d8576b"
             ],
             [
              0.6666666666666666,
              "#ed7953"
             ],
             [
              0.7777777777777778,
              "#fb9f3a"
             ],
             [
              0.8888888888888888,
              "#fdca26"
             ],
             [
              1,
              "#f0f921"
             ]
            ],
            "type": "contour"
           }
          ],
          "contourcarpet": [
           {
            "colorbar": {
             "outlinewidth": 0,
             "ticks": ""
            },
            "type": "contourcarpet"
           }
          ],
          "heatmap": [
           {
            "colorbar": {
             "outlinewidth": 0,
             "ticks": ""
            },
            "colorscale": [
             [
              0,
              "#0d0887"
             ],
             [
              0.1111111111111111,
              "#46039f"
             ],
             [
              0.2222222222222222,
              "#7201a8"
             ],
             [
              0.3333333333333333,
              "#9c179e"
             ],
             [
              0.4444444444444444,
              "#bd3786"
             ],
             [
              0.5555555555555556,
              "#d8576b"
             ],
             [
              0.6666666666666666,
              "#ed7953"
             ],
             [
              0.7777777777777778,
              "#fb9f3a"
             ],
             [
              0.8888888888888888,
              "#fdca26"
             ],
             [
              1,
              "#f0f921"
             ]
            ],
            "type": "heatmap"
           }
          ],
          "heatmapgl": [
           {
            "colorbar": {
             "outlinewidth": 0,
             "ticks": ""
            },
            "colorscale": [
             [
              0,
              "#0d0887"
             ],
             [
              0.1111111111111111,
              "#46039f"
             ],
             [
              0.2222222222222222,
              "#7201a8"
             ],
             [
              0.3333333333333333,
              "#9c179e"
             ],
             [
              0.4444444444444444,
              "#bd3786"
             ],
             [
              0.5555555555555556,
              "#d8576b"
             ],
             [
              0.6666666666666666,
              "#ed7953"
             ],
             [
              0.7777777777777778,
              "#fb9f3a"
             ],
             [
              0.8888888888888888,
              "#fdca26"
             ],
             [
              1,
              "#f0f921"
             ]
            ],
            "type": "heatmapgl"
           }
          ],
          "histogram": [
           {
            "marker": {
             "pattern": {
              "fillmode": "overlay",
              "size": 10,
              "solidity": 0.2
             }
            },
            "type": "histogram"
           }
          ],
          "histogram2d": [
           {
            "colorbar": {
             "outlinewidth": 0,
             "ticks": ""
            },
            "colorscale": [
             [
              0,
              "#0d0887"
             ],
             [
              0.1111111111111111,
              "#46039f"
             ],
             [
              0.2222222222222222,
              "#7201a8"
             ],
             [
              0.3333333333333333,
              "#9c179e"
             ],
             [
              0.4444444444444444,
              "#bd3786"
             ],
             [
              0.5555555555555556,
              "#d8576b"
             ],
             [
              0.6666666666666666,
              "#ed7953"
             ],
             [
              0.7777777777777778,
              "#fb9f3a"
             ],
             [
              0.8888888888888888,
              "#fdca26"
             ],
             [
              1,
              "#f0f921"
             ]
            ],
            "type": "histogram2d"
           }
          ],
          "histogram2dcontour": [
           {
            "colorbar": {
             "outlinewidth": 0,
             "ticks": ""
            },
            "colorscale": [
             [
              0,
              "#0d0887"
             ],
             [
              0.1111111111111111,
              "#46039f"
             ],
             [
              0.2222222222222222,
              "#7201a8"
             ],
             [
              0.3333333333333333,
              "#9c179e"
             ],
             [
              0.4444444444444444,
              "#bd3786"
             ],
             [
              0.5555555555555556,
              "#d8576b"
             ],
             [
              0.6666666666666666,
              "#ed7953"
             ],
             [
              0.7777777777777778,
              "#fb9f3a"
             ],
             [
              0.8888888888888888,
              "#fdca26"
             ],
             [
              1,
              "#f0f921"
             ]
            ],
            "type": "histogram2dcontour"
           }
          ],
          "mesh3d": [
           {
            "colorbar": {
             "outlinewidth": 0,
             "ticks": ""
            },
            "type": "mesh3d"
           }
          ],
          "parcoords": [
           {
            "line": {
             "colorbar": {
              "outlinewidth": 0,
              "ticks": ""
             }
            },
            "type": "parcoords"
           }
          ],
          "pie": [
           {
            "automargin": true,
            "type": "pie"
           }
          ],
          "scatter": [
           {
            "fillpattern": {
             "fillmode": "overlay",
             "size": 10,
             "solidity": 0.2
            },
            "type": "scatter"
           }
          ],
          "scatter3d": [
           {
            "line": {
             "colorbar": {
              "outlinewidth": 0,
              "ticks": ""
             }
            },
            "marker": {
             "colorbar": {
              "outlinewidth": 0,
              "ticks": ""
             }
            },
            "type": "scatter3d"
           }
          ],
          "scattercarpet": [
           {
            "marker": {
             "colorbar": {
              "outlinewidth": 0,
              "ticks": ""
             }
            },
            "type": "scattercarpet"
           }
          ],
          "scattergeo": [
           {
            "marker": {
             "colorbar": {
              "outlinewidth": 0,
              "ticks": ""
             }
            },
            "type": "scattergeo"
           }
          ],
          "scattergl": [
           {
            "marker": {
             "colorbar": {
              "outlinewidth": 0,
              "ticks": ""
             }
            },
            "type": "scattergl"
           }
          ],
          "scattermapbox": [
           {
            "marker": {
             "colorbar": {
              "outlinewidth": 0,
              "ticks": ""
             }
            },
            "type": "scattermapbox"
           }
          ],
          "scatterpolar": [
           {
            "marker": {
             "colorbar": {
              "outlinewidth": 0,
              "ticks": ""
             }
            },
            "type": "scatterpolar"
           }
          ],
          "scatterpolargl": [
           {
            "marker": {
             "colorbar": {
              "outlinewidth": 0,
              "ticks": ""
             }
            },
            "type": "scatterpolargl"
           }
          ],
          "scatterternary": [
           {
            "marker": {
             "colorbar": {
              "outlinewidth": 0,
              "ticks": ""
             }
            },
            "type": "scatterternary"
           }
          ],
          "surface": [
           {
            "colorbar": {
             "outlinewidth": 0,
             "ticks": ""
            },
            "colorscale": [
             [
              0,
              "#0d0887"
             ],
             [
              0.1111111111111111,
              "#46039f"
             ],
             [
              0.2222222222222222,
              "#7201a8"
             ],
             [
              0.3333333333333333,
              "#9c179e"
             ],
             [
              0.4444444444444444,
              "#bd3786"
             ],
             [
              0.5555555555555556,
              "#d8576b"
             ],
             [
              0.6666666666666666,
              "#ed7953"
             ],
             [
              0.7777777777777778,
              "#fb9f3a"
             ],
             [
              0.8888888888888888,
              "#fdca26"
             ],
             [
              1,
              "#f0f921"
             ]
            ],
            "type": "surface"
           }
          ],
          "table": [
           {
            "cells": {
             "fill": {
              "color": "#EBF0F8"
             },
             "line": {
              "color": "white"
             }
            },
            "header": {
             "fill": {
              "color": "#C8D4E3"
             },
             "line": {
              "color": "white"
             }
            },
            "type": "table"
           }
          ]
         },
         "layout": {
          "annotationdefaults": {
           "arrowcolor": "#2a3f5f",
           "arrowhead": 0,
           "arrowwidth": 1
          },
          "autotypenumbers": "strict",
          "coloraxis": {
           "colorbar": {
            "outlinewidth": 0,
            "ticks": ""
           }
          },
          "colorscale": {
           "diverging": [
            [
             0,
             "#8e0152"
            ],
            [
             0.1,
             "#c51b7d"
            ],
            [
             0.2,
             "#de77ae"
            ],
            [
             0.3,
             "#f1b6da"
            ],
            [
             0.4,
             "#fde0ef"
            ],
            [
             0.5,
             "#f7f7f7"
            ],
            [
             0.6,
             "#e6f5d0"
            ],
            [
             0.7,
             "#b8e186"
            ],
            [
             0.8,
             "#7fbc41"
            ],
            [
             0.9,
             "#4d9221"
            ],
            [
             1,
             "#276419"
            ]
           ],
           "sequential": [
            [
             0,
             "#0d0887"
            ],
            [
             0.1111111111111111,
             "#46039f"
            ],
            [
             0.2222222222222222,
             "#7201a8"
            ],
            [
             0.3333333333333333,
             "#9c179e"
            ],
            [
             0.4444444444444444,
             "#bd3786"
            ],
            [
             0.5555555555555556,
             "#d8576b"
            ],
            [
             0.6666666666666666,
             "#ed7953"
            ],
            [
             0.7777777777777778,
             "#fb9f3a"
            ],
            [
             0.8888888888888888,
             "#fdca26"
            ],
            [
             1,
             "#f0f921"
            ]
           ],
           "sequentialminus": [
            [
             0,
             "#0d0887"
            ],
            [
             0.1111111111111111,
             "#46039f"
            ],
            [
             0.2222222222222222,
             "#7201a8"
            ],
            [
             0.3333333333333333,
             "#9c179e"
            ],
            [
             0.4444444444444444,
             "#bd3786"
            ],
            [
             0.5555555555555556,
             "#d8576b"
            ],
            [
             0.6666666666666666,
             "#ed7953"
            ],
            [
             0.7777777777777778,
             "#fb9f3a"
            ],
            [
             0.8888888888888888,
             "#fdca26"
            ],
            [
             1,
             "#f0f921"
            ]
           ]
          },
          "colorway": [
           "#636efa",
           "#EF553B",
           "#00cc96",
           "#ab63fa",
           "#FFA15A",
           "#19d3f3",
           "#FF6692",
           "#B6E880",
           "#FF97FF",
           "#FECB52"
          ],
          "font": {
           "color": "#2a3f5f"
          },
          "geo": {
           "bgcolor": "white",
           "lakecolor": "white",
           "landcolor": "#E5ECF6",
           "showlakes": true,
           "showland": true,
           "subunitcolor": "white"
          },
          "hoverlabel": {
           "align": "left"
          },
          "hovermode": "closest",
          "mapbox": {
           "style": "light"
          },
          "paper_bgcolor": "white",
          "plot_bgcolor": "#E5ECF6",
          "polar": {
           "angularaxis": {
            "gridcolor": "white",
            "linecolor": "white",
            "ticks": ""
           },
           "bgcolor": "#E5ECF6",
           "radialaxis": {
            "gridcolor": "white",
            "linecolor": "white",
            "ticks": ""
           }
          },
          "scene": {
           "xaxis": {
            "backgroundcolor": "#E5ECF6",
            "gridcolor": "white",
            "gridwidth": 2,
            "linecolor": "white",
            "showbackground": true,
            "ticks": "",
            "zerolinecolor": "white"
           },
           "yaxis": {
            "backgroundcolor": "#E5ECF6",
            "gridcolor": "white",
            "gridwidth": 2,
            "linecolor": "white",
            "showbackground": true,
            "ticks": "",
            "zerolinecolor": "white"
           },
           "zaxis": {
            "backgroundcolor": "#E5ECF6",
            "gridcolor": "white",
            "gridwidth": 2,
            "linecolor": "white",
            "showbackground": true,
            "ticks": "",
            "zerolinecolor": "white"
           }
          },
          "shapedefaults": {
           "line": {
            "color": "#2a3f5f"
           }
          },
          "ternary": {
           "aaxis": {
            "gridcolor": "white",
            "linecolor": "white",
            "ticks": ""
           },
           "baxis": {
            "gridcolor": "white",
            "linecolor": "white",
            "ticks": ""
           },
           "bgcolor": "#E5ECF6",
           "caxis": {
            "gridcolor": "white",
            "linecolor": "white",
            "ticks": ""
           }
          },
          "title": {
           "x": 0.05
          },
          "xaxis": {
           "automargin": true,
           "gridcolor": "white",
           "linecolor": "white",
           "ticks": "",
           "title": {
            "standoff": 15
           },
           "zerolinecolor": "white",
           "zerolinewidth": 2
          },
          "yaxis": {
           "automargin": true,
           "gridcolor": "white",
           "linecolor": "white",
           "ticks": "",
           "title": {
            "standoff": 15
           },
           "zerolinecolor": "white",
           "zerolinewidth": 2
          }
         }
        },
        "title": {
         "font": {
          "family": "Gulliver",
          "size": 32
         },
         "text": "Model Complexity for SVC",
         "x": 0.5
        }
       }
      }
     },
     "metadata": {},
     "output_type": "display_data"
    }
   ],
   "source": [
    "C_range = np.logspace(-3, 3, num = 7, base = 10)\n",
    "gamma_range = np.logspace(-3, 3, num = 7, base = 10)\n",
    "\n",
    "train_errors = np.zeros((len(C_range), len(gamma_range)))\n",
    "test_errors = np.zeros((len(C_range), len(gamma_range)))\n",
    "\n",
    "for i, C in enumerate(C_range):\n",
    "    for j, gamma in enumerate(gamma_range):\n",
    "        svm = SVC(C = C, gamma = gamma)\n",
    "        svm.fit(x_train_white, y_train_white)\n",
    "        train_pred = svm.predict(x_train_white)\n",
    "        test_pred = svm.predict(x_test_white)\n",
    "        train_errors[i, j] = 1 - accuracy_score(y_train_white, train_pred)\n",
    "        test_errors[i, j] = 1 - accuracy_score(y_test_white, test_pred)\n",
    "\n",
    "C, gamma = np.meshgrid(C_range, gamma_range)\n",
    "\n",
    "fig = go.Figure(\n",
    "    data = [go.Surface(\n",
    "                x = C, y = gamma, z = train_errors.T, \n",
    "                colorscale = 'Blues', opacity = 0.8, name = 'Train Error'\n",
    "            ),\n",
    "            go.Surface(\n",
    "                x = C, y = gamma, z = test_errors.T, \n",
    "                colorscale  ='Reds', opacity = 0.8, name = 'Test Error'\n",
    "                )\n",
    "            ],\n",
    "            layout = go.Layout(\n",
    "                title = {\n",
    "                    'text': 'Model Complexity for SVC',\n",
    "                    'font': {\n",
    "                        'size': 32, 'family': 'Gulliver'\n",
    "                    }, \n",
    "                    'x': 0.5\n",
    "                },\n",
    "                scene = dict(\n",
    "                        xaxis = dict(title = 'C', type = 'log'),\n",
    "                        yaxis = dict(title = 'Gamma', type = 'log'),\n",
    "                        zaxis = dict(title = 'Error', type = 'linear'),\n",
    "                        aspectratio = dict(x = 1, y = 1, z = 0.5),\n",
    "                        camera = dict(eye = dict(x = -1.5, y = -1.5, z = 0.5)),\n",
    "                        ),\n",
    "                margin = dict(l = 0, r = 0, b = 0, t = 80),\n",
    "                legend = dict(x = 0, y = 1, bgcolor = 'rgba(255, 255, 255, 0.5)'),\n",
    "            )\n",
    ")\n",
    "\n",
    "fig.show()"
   ]
  }
 ],
 "metadata": {
  "kernelspec": {
   "display_name": "Python 3",
   "language": "python",
   "name": "python3"
  },
  "language_info": {
   "codemirror_mode": {
    "name": "ipython",
    "version": 3
   },
   "file_extension": ".py",
   "mimetype": "text/x-python",
   "name": "python",
   "nbconvert_exporter": "python",
   "pygments_lexer": "ipython3",
   "version": "3.9.13"
  },
  "orig_nbformat": 4
 },
 "nbformat": 4,
 "nbformat_minor": 2
}
