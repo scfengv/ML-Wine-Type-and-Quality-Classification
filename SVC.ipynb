{
 "cells": [
  {
   "cell_type": "code",
   "execution_count": 1,
   "metadata": {},
   "outputs": [],
   "source": [
    "import pandas as pd\n",
    "from scipy import stats\n",
    "from sklearn.model_selection import cross_val_score, StratifiedKFold, GridSearchCV, train_test_split\n",
    "from sklearn.linear_model import Lasso\n",
    "import mlxtend\n",
    "from mlxtend.feature_selection import SequentialFeatureSelector as SFS\n",
    "from sklearn import svm, metrics\n",
    "from sklearn.svm import SVC\n",
    "from sklearn.metrics import confusion_matrix, roc_curve, auc, accuracy_score\n",
    "import numpy as np\n",
    "from skater.core.explanations import Interpretation\n",
    "from skater.model import InMemoryModel\n",
    "import matplotlib.pyplot as plt\n",
    "from sklearn.discriminant_analysis import StandardScaler\n",
    "import plotly.graph_objs as go\n",
    "import plotly.io as pio\n",
    "from mlxtend.plotting import plot_decision_regions\n",
    "import graphviz\n",
    "from sklearn.tree import export_graphviz\n",
    "\n",
    "f = '/Users/shenchingfeng/Documents/1112/機器學習/Homework 2/all.csv'\n",
    "\n",
    "df = pd.read_csv(f)\n",
    "df.drop(['Unnamed: 0'], axis = 1, inplace = True) ## Red wine == 1 ; White wine == 0\n",
    "\n",
    "result = pd.DataFrame(columns = [\"model\", \"accuracy\"])\n",
    "\n",
    "select_col = df.drop('wine', axis = 1).columns\n",
    "for i in select_col:\n",
    "    df[i], lambda_value = stats.yeojohnson(df[i])"
   ]
  },
  {
   "cell_type": "markdown",
   "metadata": {},
   "source": [
    "# Cross Validation"
   ]
  },
  {
   "cell_type": "markdown",
   "metadata": {},
   "source": [
    "### 10-Fold CV"
   ]
  },
  {
   "cell_type": "code",
   "execution_count": 2,
   "metadata": {},
   "outputs": [],
   "source": [
    "kf = StratifiedKFold(n_splits = 5, shuffle = True, random_state = 42)"
   ]
  },
  {
   "cell_type": "markdown",
   "metadata": {},
   "source": [
    "### Grid Search CV"
   ]
  },
  {
   "cell_type": "code",
   "execution_count": 3,
   "metadata": {},
   "outputs": [
    {
     "name": "stdout",
     "output_type": "stream",
     "text": [
      "Best parameters: {'C': 1000.0, 'gamma': 0.01, 'kernel': 'rbf'}\n",
      "Best score: 0.9798383311603651\n"
     ]
    },
    {
     "name": "stderr",
     "output_type": "stream",
     "text": [
      "/var/folders/56/1hl93h654354jd5vh2zjmd640000gn/T/ipykernel_31773/2577171853.py:18: FutureWarning: The frame.append method is deprecated and will be removed from pandas in a future version. Use pandas.concat instead.\n",
      "  result = result.append({'model': 'SVC', 'accuracy': round(grid_search.best_score_, 4)}, ignore_index = True)\n"
     ]
    }
   ],
   "source": [
    "model = svm.SVC()\n",
    "\n",
    "X = df.drop(['wine', 'density'], axis = 1)\n",
    "y = df.wine\n",
    "\n",
    "params = {\n",
    "    'C': np.logspace(-3, 3, num = 7, base = 10),\n",
    "    'kernel': ['rbf', 'sigmoid'],\n",
    "    'gamma': np.logspace(-3, 3, num = 7, base = 10),  \n",
    "}\n",
    "\n",
    "grid_search = GridSearchCV(model, param_grid = params, cv = kf)\n",
    "grid_search.fit(X, y)\n",
    "\n",
    "print(\"Best parameters:\", grid_search.best_params_)\n",
    "print(\"Best score:\", grid_search.best_score_)\n",
    "\n",
    "result = result.append({'model': 'SVC', 'accuracy': round(grid_search.best_score_, 4)}, ignore_index = True)"
   ]
  },
  {
   "cell_type": "markdown",
   "metadata": {},
   "source": [
    "# Feature Selection"
   ]
  },
  {
   "cell_type": "markdown",
   "metadata": {},
   "source": [
    "## Stepwise Selection"
   ]
  },
  {
   "cell_type": "code",
   "execution_count": 8,
   "metadata": {},
   "outputs": [],
   "source": [
    "X = df.drop(['wine', 'density'], axis = 1)\n",
    "y = df.wine"
   ]
  },
  {
   "cell_type": "code",
   "execution_count": 9,
   "metadata": {},
   "outputs": [
    {
     "name": "stdout",
     "output_type": "stream",
     "text": [
      "None\n",
      "None\n",
      "=======================================\n"
     ]
    },
    {
     "name": "stderr",
     "output_type": "stream",
     "text": [
      "\n",
      "STOPPING EARLY DUE TO KEYBOARD INTERRUPT..."
     ]
    }
   ],
   "source": [
    "from sklearn.svm import SVC\n",
    "\n",
    "for i in range(X.shape[1]):\n",
    "    sfs = SFS(\n",
    "    cv = kf, \n",
    "    estimator = SVC(C = 1000, gamma = 'auto', kernel = 'rbf', probability = True, cache_size = 2000),\n",
    "    forward = True,\n",
    "    floating = False,\n",
    "    k_features = i+1, \n",
    "    scoring ='f1',\n",
    "    n_jobs = -1\n",
    ")\n",
    "    sfs.fit(X, y)\n",
    "\n",
    "    print(sfs.k_feature_names_)\n",
    "    print(sfs.k_score_)\n",
    "    print(\"=======================================\")"
   ]
  },
  {
   "cell_type": "code",
   "execution_count": 5,
   "metadata": {},
   "outputs": [
    {
     "name": "stdout",
     "output_type": "stream",
     "text": [
      "None\n",
      "None\n"
     ]
    },
    {
     "name": "stderr",
     "output_type": "stream",
     "text": [
      "\n",
      "STOPPING EARLY DUE TO KEYBOARD INTERRUPT..."
     ]
    }
   ],
   "source": [
    "sfs = SFS(\n",
    "    cv = kf, \n",
    "    estimator = SVC(C = 1000, gamma = 0.01, kernel = 'rbf', probability = True, \n",
    "                    cache_size = 2000, shrinking = False, max_iter = int(1e7)),\n",
    "    forward = True,\n",
    "    floating = False,\n",
    "    k_features = X.shape[1], \n",
    "    scoring ='f1',\n",
    "    n_jobs = -1\n",
    ")\n",
    "sfs.fit(X, y)\n",
    "\n",
    "print(sfs.k_feature_names_)\n",
    "print(sfs.k_score_)"
   ]
  },
  {
   "cell_type": "code",
   "execution_count": 8,
   "metadata": {},
   "outputs": [
    {
     "ename": "AttributeError",
     "evalue": "SequentialFeatureSelector has not been fitted, yet.",
     "output_type": "error",
     "traceback": [
      "\u001b[0;31m---------------------------------------------------------------------------\u001b[0m",
      "\u001b[0;31mAttributeError\u001b[0m                            Traceback (most recent call last)",
      "Cell \u001b[0;32mIn[8], line 1\u001b[0m\n\u001b[0;32m----> 1\u001b[0m metric_dict \u001b[39m=\u001b[39m sfs\u001b[39m.\u001b[39;49mget_metric_dict()\n\u001b[1;32m      2\u001b[0m k_features \u001b[39m=\u001b[39m \u001b[39mlist\u001b[39m(metric_dict\u001b[39m.\u001b[39mkeys())\n\u001b[1;32m      3\u001b[0m avg_scores \u001b[39m=\u001b[39m np\u001b[39m.\u001b[39marray([metric_dict[k][\u001b[39m'\u001b[39m\u001b[39mavg_score\u001b[39m\u001b[39m'\u001b[39m] \u001b[39mfor\u001b[39;00m k \u001b[39min\u001b[39;00m k_features])\n",
      "File \u001b[0;32m/opt/anaconda3/lib/python3.9/site-packages/mlxtend/feature_selection/sequential_feature_selector.py:876\u001b[0m, in \u001b[0;36mSequentialFeatureSelector.get_metric_dict\u001b[0;34m(self, confidence_interval)\u001b[0m\n\u001b[1;32m    853\u001b[0m \u001b[39mdef\u001b[39;00m \u001b[39mget_metric_dict\u001b[39m(\u001b[39mself\u001b[39m, confidence_interval\u001b[39m=\u001b[39m\u001b[39m0.95\u001b[39m):\n\u001b[1;32m    854\u001b[0m     \u001b[39m\"\"\"Return metric dictionary\u001b[39;00m\n\u001b[1;32m    855\u001b[0m \n\u001b[1;32m    856\u001b[0m \u001b[39m    Parameters\u001b[39;00m\n\u001b[0;32m   (...)\u001b[0m\n\u001b[1;32m    874\u001b[0m \n\u001b[1;32m    875\u001b[0m \u001b[39m    \"\"\"\u001b[39;00m\n\u001b[0;32m--> 876\u001b[0m     \u001b[39mself\u001b[39;49m\u001b[39m.\u001b[39;49m_check_fitted()\n\u001b[1;32m    877\u001b[0m     fdict \u001b[39m=\u001b[39m deepcopy(\u001b[39mself\u001b[39m\u001b[39m.\u001b[39msubsets_)\n\u001b[1;32m    878\u001b[0m     \u001b[39mfor\u001b[39;00m k \u001b[39min\u001b[39;00m fdict:\n",
      "File \u001b[0;32m/opt/anaconda3/lib/python3.9/site-packages/mlxtend/feature_selection/sequential_feature_selector.py:895\u001b[0m, in \u001b[0;36mSequentialFeatureSelector._check_fitted\u001b[0;34m(self)\u001b[0m\n\u001b[1;32m    893\u001b[0m \u001b[39mdef\u001b[39;00m \u001b[39m_check_fitted\u001b[39m(\u001b[39mself\u001b[39m):\n\u001b[1;32m    894\u001b[0m     \u001b[39mif\u001b[39;00m \u001b[39mnot\u001b[39;00m \u001b[39mself\u001b[39m\u001b[39m.\u001b[39mfitted:\n\u001b[0;32m--> 895\u001b[0m         \u001b[39mraise\u001b[39;00m \u001b[39mAttributeError\u001b[39;00m(\n\u001b[1;32m    896\u001b[0m             \u001b[39m\"\u001b[39m\u001b[39mSequentialFeatureSelector has not been\u001b[39m\u001b[39m\"\u001b[39m \u001b[39m\"\u001b[39m\u001b[39m fitted, yet.\u001b[39m\u001b[39m\"\u001b[39m\n\u001b[1;32m    897\u001b[0m         )\n",
      "\u001b[0;31mAttributeError\u001b[0m: SequentialFeatureSelector has not been fitted, yet."
     ]
    }
   ],
   "source": [
    "metric_dict = sfs.get_metric_dict()\n",
    "k_features = list(metric_dict.keys())\n",
    "avg_scores = np.array([metric_dict[k]['avg_score'] for k in k_features])\n",
    "std_devs = np.array([metric_dict[k]['std_dev'] for k in k_features])\n",
    "\n",
    "fig = go.Figure()\n",
    "fig.add_trace(\n",
    "    go.Scatter(\n",
    "    x = k_features, y = avg_scores, \n",
    "    mode = 'lines+markers', name = 'Average Score'\n",
    "    )\n",
    ")\n",
    "\n",
    "fig.update_layout(\n",
    "    title = {\n",
    "        'text': 'Stepwise Selection',\n",
    "        'font': {\n",
    "            'size': 40, 'family': 'Gulliver'\n",
    "        }, 'x': 0.5\n",
    "    }, \n",
    "    xaxis_title = {\n",
    "        'text': 'Number of Features',\n",
    "        'font': {\n",
    "            'size': 24, 'family': 'Gulliver'\n",
    "        }\n",
    "    }, \n",
    "    yaxis_title = {\n",
    "        'text': 'Performence (F1)',\n",
    "        'font': {\n",
    "            'size': 24, 'family': 'Gulliver'\n",
    "        }\n",
    "    }, \n",
    "    width = 1200, height = 800\n",
    ")\n",
    "\n",
    "fig.show()"
   ]
  },
  {
   "cell_type": "markdown",
   "metadata": {},
   "source": [
    "## Lasso"
   ]
  },
  {
   "cell_type": "code",
   "execution_count": null,
   "metadata": {},
   "outputs": [
    {
     "name": "stdout",
     "output_type": "stream",
     "text": [
      "Best alpha: {'alpha': 1e-08, 'selection': 'random'}\n",
      "Best scores: 0.8312860264728428\n",
      "['fixed acidity' 'volatile acidity' 'chlorides' 'pH' 'sulphates' 'alcohol']\n",
      "[1.94012268e+01 3.13999017e+00 1.15308809e-01 1.18270863e-02\n",
      " 2.08427751e+01 1.89202679e-02 7.04227274e-03 0.00000000e+00\n",
      " 4.42252089e+01 2.38130996e+00 1.87684773e+01 2.36408251e-02]\n"
     ]
    }
   ],
   "source": [
    "X = df.drop(['wine', 'density'], axis = 1)\n",
    "y = df.wine\n",
    "\n",
    "from sklearn.linear_model import Lasso\n",
    "lasso = Lasso()\n",
    "params = {\n",
    "    'alpha': [10**i for i in range(-10, 11)],\n",
    "    'selection': ['cyclic', 'random']\n",
    "}\n",
    "gridlasso = GridSearchCV(lasso, param_grid = params, cv = kf, n_jobs = -1)\n",
    "gridlasso.fit(X, y)\n",
    "\n",
    "print(\"Best alpha:\", gridlasso.best_params_)\n",
    "print(\"Best scores:\", gridlasso.best_score_)\n",
    "\n",
    "coefficients = gridlasso.best_estimator_.coef_\n",
    "importance = np.abs(coefficients)\n",
    "print(np.array(X.columns)[importance > 1])\n",
    "print(importance)"
   ]
  },
  {
   "cell_type": "code",
   "execution_count": null,
   "metadata": {},
   "outputs": [
    {
     "data": {
      "application/vnd.plotly.v1+json": {
       "config": {
        "plotlyServerURL": "https://plotly.com"
       },
       "data": [
        {
         "mode": "lines+markers",
         "type": "scatter",
         "x": [
          -10,
          -10,
          -9,
          -9,
          -8,
          -8,
          -7,
          -7,
          -6,
          -6,
          -5,
          -5,
          -4,
          -4,
          -3,
          -3,
          -2,
          -2,
          -1,
          -1,
          0,
          0,
          1,
          1,
          2,
          2,
          3,
          3,
          4,
          4,
          5,
          5,
          6,
          6,
          7,
          7,
          8,
          8,
          9,
          9,
          10,
          10
         ],
         "y": [
          0.8312860212144677,
          0.8312860212142447,
          0.8312860219046921,
          0.8312860219043884,
          0.831286026352487,
          0.8312860264761879,
          0.8312858254588157,
          0.8312858242106472,
          0.8312592786096754,
          0.8312592910551354,
          0.830408789457709,
          0.8304087820960475,
          0.8108572777482044,
          0.8108570945825473,
          0.7107286995877651,
          0.7107289001970012,
          0.5326360714396454,
          0.5326349332955155,
          0.5142194172095772,
          0.5142194172095772,
          0.5082939066287714,
          0.5082939066287714,
          -0.0000010804251805218711,
          -0.0000010804251805218711,
          -0.0000010804251805218711,
          -0.0000010804251805218711,
          -0.0000010804251805218711,
          -0.0000010804251805218711,
          -0.0000010804251805218711,
          -0.0000010804251805218711,
          -0.0000010804251805218711,
          -0.0000010804251805218711,
          -0.0000010804251805218711,
          -0.0000010804251805218711,
          -0.0000010804251805218711,
          -0.0000010804251805218711,
          -0.0000010804251805218711,
          -0.0000010804251805218711,
          -0.0000010804251805218711,
          -0.0000010804251805218711,
          -0.0000010804251805218711,
          -0.0000010804251805218711
         ]
        }
       ],
       "layout": {
        "height": 800,
        "template": {
         "data": {
          "bar": [
           {
            "error_x": {
             "color": "#2a3f5f"
            },
            "error_y": {
             "color": "#2a3f5f"
            },
            "marker": {
             "line": {
              "color": "#E5ECF6",
              "width": 0.5
             },
             "pattern": {
              "fillmode": "overlay",
              "size": 10,
              "solidity": 0.2
             }
            },
            "type": "bar"
           }
          ],
          "barpolar": [
           {
            "marker": {
             "line": {
              "color": "#E5ECF6",
              "width": 0.5
             },
             "pattern": {
              "fillmode": "overlay",
              "size": 10,
              "solidity": 0.2
             }
            },
            "type": "barpolar"
           }
          ],
          "carpet": [
           {
            "aaxis": {
             "endlinecolor": "#2a3f5f",
             "gridcolor": "white",
             "linecolor": "white",
             "minorgridcolor": "white",
             "startlinecolor": "#2a3f5f"
            },
            "baxis": {
             "endlinecolor": "#2a3f5f",
             "gridcolor": "white",
             "linecolor": "white",
             "minorgridcolor": "white",
             "startlinecolor": "#2a3f5f"
            },
            "type": "carpet"
           }
          ],
          "choropleth": [
           {
            "colorbar": {
             "outlinewidth": 0,
             "ticks": ""
            },
            "type": "choropleth"
           }
          ],
          "contour": [
           {
            "colorbar": {
             "outlinewidth": 0,
             "ticks": ""
            },
            "colorscale": [
             [
              0,
              "#0d0887"
             ],
             [
              0.1111111111111111,
              "#46039f"
             ],
             [
              0.2222222222222222,
              "#7201a8"
             ],
             [
              0.3333333333333333,
              "#9c179e"
             ],
             [
              0.4444444444444444,
              "#bd3786"
             ],
             [
              0.5555555555555556,
              "#d8576b"
             ],
             [
              0.6666666666666666,
              "#ed7953"
             ],
             [
              0.7777777777777778,
              "#fb9f3a"
             ],
             [
              0.8888888888888888,
              "#fdca26"
             ],
             [
              1,
              "#f0f921"
             ]
            ],
            "type": "contour"
           }
          ],
          "contourcarpet": [
           {
            "colorbar": {
             "outlinewidth": 0,
             "ticks": ""
            },
            "type": "contourcarpet"
           }
          ],
          "heatmap": [
           {
            "colorbar": {
             "outlinewidth": 0,
             "ticks": ""
            },
            "colorscale": [
             [
              0,
              "#0d0887"
             ],
             [
              0.1111111111111111,
              "#46039f"
             ],
             [
              0.2222222222222222,
              "#7201a8"
             ],
             [
              0.3333333333333333,
              "#9c179e"
             ],
             [
              0.4444444444444444,
              "#bd3786"
             ],
             [
              0.5555555555555556,
              "#d8576b"
             ],
             [
              0.6666666666666666,
              "#ed7953"
             ],
             [
              0.7777777777777778,
              "#fb9f3a"
             ],
             [
              0.8888888888888888,
              "#fdca26"
             ],
             [
              1,
              "#f0f921"
             ]
            ],
            "type": "heatmap"
           }
          ],
          "heatmapgl": [
           {
            "colorbar": {
             "outlinewidth": 0,
             "ticks": ""
            },
            "colorscale": [
             [
              0,
              "#0d0887"
             ],
             [
              0.1111111111111111,
              "#46039f"
             ],
             [
              0.2222222222222222,
              "#7201a8"
             ],
             [
              0.3333333333333333,
              "#9c179e"
             ],
             [
              0.4444444444444444,
              "#bd3786"
             ],
             [
              0.5555555555555556,
              "#d8576b"
             ],
             [
              0.6666666666666666,
              "#ed7953"
             ],
             [
              0.7777777777777778,
              "#fb9f3a"
             ],
             [
              0.8888888888888888,
              "#fdca26"
             ],
             [
              1,
              "#f0f921"
             ]
            ],
            "type": "heatmapgl"
           }
          ],
          "histogram": [
           {
            "marker": {
             "pattern": {
              "fillmode": "overlay",
              "size": 10,
              "solidity": 0.2
             }
            },
            "type": "histogram"
           }
          ],
          "histogram2d": [
           {
            "colorbar": {
             "outlinewidth": 0,
             "ticks": ""
            },
            "colorscale": [
             [
              0,
              "#0d0887"
             ],
             [
              0.1111111111111111,
              "#46039f"
             ],
             [
              0.2222222222222222,
              "#7201a8"
             ],
             [
              0.3333333333333333,
              "#9c179e"
             ],
             [
              0.4444444444444444,
              "#bd3786"
             ],
             [
              0.5555555555555556,
              "#d8576b"
             ],
             [
              0.6666666666666666,
              "#ed7953"
             ],
             [
              0.7777777777777778,
              "#fb9f3a"
             ],
             [
              0.8888888888888888,
              "#fdca26"
             ],
             [
              1,
              "#f0f921"
             ]
            ],
            "type": "histogram2d"
           }
          ],
          "histogram2dcontour": [
           {
            "colorbar": {
             "outlinewidth": 0,
             "ticks": ""
            },
            "colorscale": [
             [
              0,
              "#0d0887"
             ],
             [
              0.1111111111111111,
              "#46039f"
             ],
             [
              0.2222222222222222,
              "#7201a8"
             ],
             [
              0.3333333333333333,
              "#9c179e"
             ],
             [
              0.4444444444444444,
              "#bd3786"
             ],
             [
              0.5555555555555556,
              "#d8576b"
             ],
             [
              0.6666666666666666,
              "#ed7953"
             ],
             [
              0.7777777777777778,
              "#fb9f3a"
             ],
             [
              0.8888888888888888,
              "#fdca26"
             ],
             [
              1,
              "#f0f921"
             ]
            ],
            "type": "histogram2dcontour"
           }
          ],
          "mesh3d": [
           {
            "colorbar": {
             "outlinewidth": 0,
             "ticks": ""
            },
            "type": "mesh3d"
           }
          ],
          "parcoords": [
           {
            "line": {
             "colorbar": {
              "outlinewidth": 0,
              "ticks": ""
             }
            },
            "type": "parcoords"
           }
          ],
          "pie": [
           {
            "automargin": true,
            "type": "pie"
           }
          ],
          "scatter": [
           {
            "fillpattern": {
             "fillmode": "overlay",
             "size": 10,
             "solidity": 0.2
            },
            "type": "scatter"
           }
          ],
          "scatter3d": [
           {
            "line": {
             "colorbar": {
              "outlinewidth": 0,
              "ticks": ""
             }
            },
            "marker": {
             "colorbar": {
              "outlinewidth": 0,
              "ticks": ""
             }
            },
            "type": "scatter3d"
           }
          ],
          "scattercarpet": [
           {
            "marker": {
             "colorbar": {
              "outlinewidth": 0,
              "ticks": ""
             }
            },
            "type": "scattercarpet"
           }
          ],
          "scattergeo": [
           {
            "marker": {
             "colorbar": {
              "outlinewidth": 0,
              "ticks": ""
             }
            },
            "type": "scattergeo"
           }
          ],
          "scattergl": [
           {
            "marker": {
             "colorbar": {
              "outlinewidth": 0,
              "ticks": ""
             }
            },
            "type": "scattergl"
           }
          ],
          "scattermapbox": [
           {
            "marker": {
             "colorbar": {
              "outlinewidth": 0,
              "ticks": ""
             }
            },
            "type": "scattermapbox"
           }
          ],
          "scatterpolar": [
           {
            "marker": {
             "colorbar": {
              "outlinewidth": 0,
              "ticks": ""
             }
            },
            "type": "scatterpolar"
           }
          ],
          "scatterpolargl": [
           {
            "marker": {
             "colorbar": {
              "outlinewidth": 0,
              "ticks": ""
             }
            },
            "type": "scatterpolargl"
           }
          ],
          "scatterternary": [
           {
            "marker": {
             "colorbar": {
              "outlinewidth": 0,
              "ticks": ""
             }
            },
            "type": "scatterternary"
           }
          ],
          "surface": [
           {
            "colorbar": {
             "outlinewidth": 0,
             "ticks": ""
            },
            "colorscale": [
             [
              0,
              "#0d0887"
             ],
             [
              0.1111111111111111,
              "#46039f"
             ],
             [
              0.2222222222222222,
              "#7201a8"
             ],
             [
              0.3333333333333333,
              "#9c179e"
             ],
             [
              0.4444444444444444,
              "#bd3786"
             ],
             [
              0.5555555555555556,
              "#d8576b"
             ],
             [
              0.6666666666666666,
              "#ed7953"
             ],
             [
              0.7777777777777778,
              "#fb9f3a"
             ],
             [
              0.8888888888888888,
              "#fdca26"
             ],
             [
              1,
              "#f0f921"
             ]
            ],
            "type": "surface"
           }
          ],
          "table": [
           {
            "cells": {
             "fill": {
              "color": "#EBF0F8"
             },
             "line": {
              "color": "white"
             }
            },
            "header": {
             "fill": {
              "color": "#C8D4E3"
             },
             "line": {
              "color": "white"
             }
            },
            "type": "table"
           }
          ]
         },
         "layout": {
          "annotationdefaults": {
           "arrowcolor": "#2a3f5f",
           "arrowhead": 0,
           "arrowwidth": 1
          },
          "autotypenumbers": "strict",
          "coloraxis": {
           "colorbar": {
            "outlinewidth": 0,
            "ticks": ""
           }
          },
          "colorscale": {
           "diverging": [
            [
             0,
             "#8e0152"
            ],
            [
             0.1,
             "#c51b7d"
            ],
            [
             0.2,
             "#de77ae"
            ],
            [
             0.3,
             "#f1b6da"
            ],
            [
             0.4,
             "#fde0ef"
            ],
            [
             0.5,
             "#f7f7f7"
            ],
            [
             0.6,
             "#e6f5d0"
            ],
            [
             0.7,
             "#b8e186"
            ],
            [
             0.8,
             "#7fbc41"
            ],
            [
             0.9,
             "#4d9221"
            ],
            [
             1,
             "#276419"
            ]
           ],
           "sequential": [
            [
             0,
             "#0d0887"
            ],
            [
             0.1111111111111111,
             "#46039f"
            ],
            [
             0.2222222222222222,
             "#7201a8"
            ],
            [
             0.3333333333333333,
             "#9c179e"
            ],
            [
             0.4444444444444444,
             "#bd3786"
            ],
            [
             0.5555555555555556,
             "#d8576b"
            ],
            [
             0.6666666666666666,
             "#ed7953"
            ],
            [
             0.7777777777777778,
             "#fb9f3a"
            ],
            [
             0.8888888888888888,
             "#fdca26"
            ],
            [
             1,
             "#f0f921"
            ]
           ],
           "sequentialminus": [
            [
             0,
             "#0d0887"
            ],
            [
             0.1111111111111111,
             "#46039f"
            ],
            [
             0.2222222222222222,
             "#7201a8"
            ],
            [
             0.3333333333333333,
             "#9c179e"
            ],
            [
             0.4444444444444444,
             "#bd3786"
            ],
            [
             0.5555555555555556,
             "#d8576b"
            ],
            [
             0.6666666666666666,
             "#ed7953"
            ],
            [
             0.7777777777777778,
             "#fb9f3a"
            ],
            [
             0.8888888888888888,
             "#fdca26"
            ],
            [
             1,
             "#f0f921"
            ]
           ]
          },
          "colorway": [
           "#636efa",
           "#EF553B",
           "#00cc96",
           "#ab63fa",
           "#FFA15A",
           "#19d3f3",
           "#FF6692",
           "#B6E880",
           "#FF97FF",
           "#FECB52"
          ],
          "font": {
           "color": "#2a3f5f"
          },
          "geo": {
           "bgcolor": "white",
           "lakecolor": "white",
           "landcolor": "#E5ECF6",
           "showlakes": true,
           "showland": true,
           "subunitcolor": "white"
          },
          "hoverlabel": {
           "align": "left"
          },
          "hovermode": "closest",
          "mapbox": {
           "style": "light"
          },
          "paper_bgcolor": "white",
          "plot_bgcolor": "#E5ECF6",
          "polar": {
           "angularaxis": {
            "gridcolor": "white",
            "linecolor": "white",
            "ticks": ""
           },
           "bgcolor": "#E5ECF6",
           "radialaxis": {
            "gridcolor": "white",
            "linecolor": "white",
            "ticks": ""
           }
          },
          "scene": {
           "xaxis": {
            "backgroundcolor": "#E5ECF6",
            "gridcolor": "white",
            "gridwidth": 2,
            "linecolor": "white",
            "showbackground": true,
            "ticks": "",
            "zerolinecolor": "white"
           },
           "yaxis": {
            "backgroundcolor": "#E5ECF6",
            "gridcolor": "white",
            "gridwidth": 2,
            "linecolor": "white",
            "showbackground": true,
            "ticks": "",
            "zerolinecolor": "white"
           },
           "zaxis": {
            "backgroundcolor": "#E5ECF6",
            "gridcolor": "white",
            "gridwidth": 2,
            "linecolor": "white",
            "showbackground": true,
            "ticks": "",
            "zerolinecolor": "white"
           }
          },
          "shapedefaults": {
           "line": {
            "color": "#2a3f5f"
           }
          },
          "ternary": {
           "aaxis": {
            "gridcolor": "white",
            "linecolor": "white",
            "ticks": ""
           },
           "baxis": {
            "gridcolor": "white",
            "linecolor": "white",
            "ticks": ""
           },
           "bgcolor": "#E5ECF6",
           "caxis": {
            "gridcolor": "white",
            "linecolor": "white",
            "ticks": ""
           }
          },
          "title": {
           "x": 0.05
          },
          "xaxis": {
           "automargin": true,
           "gridcolor": "white",
           "linecolor": "white",
           "ticks": "",
           "title": {
            "standoff": 15
           },
           "zerolinecolor": "white",
           "zerolinewidth": 2
          },
          "yaxis": {
           "automargin": true,
           "gridcolor": "white",
           "linecolor": "white",
           "ticks": "",
           "title": {
            "standoff": 15
           },
           "zerolinecolor": "white",
           "zerolinewidth": 2
          }
         }
        },
        "title": {
         "font": {
          "family": "Gulliver",
          "size": 40
         },
         "text": "Lasso coefficients as a function of Log alpha",
         "x": 0.5
        },
        "width": 1200,
        "xaxis": {
         "title": {
          "font": {
           "family": "Gulliver",
           "size": 24
          },
          "text": "Log(alpha)"
         }
        },
        "yaxis": {
         "title": {
          "font": {
           "family": "Gulliver",
           "size": 24
          },
          "text": "Coefficient"
         }
        }
       }
      }
     },
     "metadata": {},
     "output_type": "display_data"
    }
   ],
   "source": [
    "best_lasso = gridlasso.best_estimator_\n",
    "\n",
    "alphas = np.array(gridlasso.cv_results_['param_alpha'].data, dtype = 'float')\n",
    "coefs = gridlasso.cv_results_['mean_test_score']\n",
    "\n",
    "fig = go.Figure()\n",
    "\n",
    "fig.add_trace(\n",
    "    go.Scatter(\n",
    "    x = np.log10(alphas), y = coefs, \n",
    "    mode = 'lines+markers'\n",
    "    )\n",
    ")\n",
    "\n",
    "fig.update_layout(\n",
    "    title = {\n",
    "        'text': 'Lasso coefficients as a function of Log alpha',\n",
    "        'font': {\n",
    "            'size': 40, 'family': 'Gulliver'\n",
    "        }, \n",
    "        'x': 0.5\n",
    "    }, \n",
    "    width = 1200, height = 800,\n",
    "    xaxis_title = {\n",
    "        'text': 'Log(alpha)',\n",
    "        'font': {\n",
    "            'size': 24, 'family': 'Gulliver'\n",
    "        }\n",
    "    }, \n",
    "    yaxis_title = {\n",
    "        'text': 'Coefficient',\n",
    "        'font': {'size': 24, 'family': 'Gulliver'}\n",
    "    }, \n",
    ")\n",
    "\n",
    "fig.show()"
   ]
  },
  {
   "cell_type": "markdown",
   "metadata": {},
   "source": [
    "## Feature Group"
   ]
  },
  {
   "cell_type": "code",
   "execution_count": 4,
   "metadata": {},
   "outputs": [
    {
     "name": "stdout",
     "output_type": "stream",
     "text": [
      "['fixed acidity', 'volatile acidity', 'chlorides', 'total sulfur dioxide', 'pH', 'sulphates', 'alcohol']\n"
     ]
    }
   ],
   "source": [
    "Stepwise = ['fixed acidity', 'volatile acidity', 'chlorides', 'total sulfur dioxide', 'pH', 'sulphates']\n",
    "Lasso =  ['fixed acidity', 'volatile acidity', 'chlorides', 'pH', 'sulphates', 'alcohol']\n",
    "\n",
    "feature = []\n",
    "\n",
    "for i in df.drop('wine', axis = 1).columns:\n",
    "    for i in Stepwise:\n",
    "        if i not in feature:\n",
    "            feature.append(i)\n",
    "        else:\n",
    "            continue\n",
    "    for i in Lasso:\n",
    "        if i not in feature:\n",
    "            feature.append(i)\n",
    "        else:\n",
    "            continue\n",
    "print(feature)"
   ]
  },
  {
   "cell_type": "markdown",
   "metadata": {},
   "source": [
    "# Model"
   ]
  },
  {
   "cell_type": "code",
   "execution_count": 5,
   "metadata": {},
   "outputs": [],
   "source": [
    "X = df.drop(['wine', 'density'], axis = 1)\n",
    "y = df.wine\n",
    "\n",
    "x_train, x_test, y_train, y_test = train_test_split(X, y, shuffle = True, random_state = 42)\n",
    "\n",
    "scl = StandardScaler()\n",
    "x_train = scl.fit_transform(x_train)\n",
    "x_test = scl.transform(x_test)\n",
    "\n",
    "clf = SVC(C = 1000, kernel = 'rbf', gamma = 0.01, probability = True)\n",
    "model = clf.fit(x_train, y_train)\n",
    "y_pred = model.predict(x_test)"
   ]
  },
  {
   "cell_type": "markdown",
   "metadata": {},
   "source": [
    "## Model Performance"
   ]
  },
  {
   "cell_type": "code",
   "execution_count": 6,
   "metadata": {},
   "outputs": [
    {
     "name": "stdout",
     "output_type": "stream",
     "text": [
      "[11/11] features ████████████████████ Time elapsed: 0 seconds"
     ]
    },
    {
     "data": {
      "text/plain": [
       "Text(0.5, 1.0, 'Feature Importance of SVC')"
      ]
     },
     "execution_count": 6,
     "metadata": {},
     "output_type": "execute_result"
    },
    {
     "data": {
      "image/png": "[encoded data removed]",
      "text/plain": [
       "<Figure size 640x480 with 1 Axes>"
      ]
     },
     "metadata": {},
     "output_type": "display_data"
    }
   ],
   "source": [
    "interpreter = Interpretation(\n",
    "    x_test, feature_names = X.columns\n",
    ")\n",
    "\n",
    "pyint_model = InMemoryModel(\n",
    "    model.predict_proba,\n",
    "    examples = x_train\n",
    ")\n",
    "\n",
    "plots= interpreter.feature_importance.plot_feature_importance(pyint_model, ascending = False, progressbar = True)\n",
    "plt.title('Feature Importance of SVC')"
   ]
  },
  {
   "cell_type": "markdown",
   "metadata": {},
   "source": [
    "## Decision Region"
   ]
  },
  {
   "cell_type": "code",
   "execution_count": 7,
   "metadata": {},
   "outputs": [
    {
     "name": "stdout",
     "output_type": "stream",
     "text": [
      "6\n",
      "4\n"
     ]
    }
   ],
   "source": [
    "feature_name = 'total sulfur dioxide'\n",
    "feature_num = X.columns.get_loc(feature_name)\n",
    "print(feature_num)\n",
    "feature_name = 'chlorides'\n",
    "feature_num = X.columns.get_loc(feature_name)\n",
    "print(feature_num)"
   ]
  },
  {
   "cell_type": "markdown",
   "metadata": {},
   "source": [
    "### With mlxtend.plotting plot_decision_regions()"
   ]
  },
  {
   "cell_type": "code",
   "execution_count": 8,
   "metadata": {},
   "outputs": [
    {
     "data": {
      "image/png": "[encoded data removed]",
      "text/plain": [
       "<Figure size 640x480 with 1 Axes>"
      ]
     },
     "metadata": {},
     "output_type": "display_data"
    }
   ],
   "source": [
    "plot_decision_regions(\n",
    "    x_test[:, [6, 4]], \n",
    "    y_test.values, \n",
    "    clf = SVC(C = 1000, kernel = 'rbf', gamma = 0.01).fit(x_train[:, [6, 4]], y_train.values),\n",
    "    colors = '#fffacd,#a00028'\n",
    ")\n",
    "\n",
    "plt.title('Decision Region')\n",
    "plt.xlabel('total sulfur dioxide')\n",
    "plt.ylabel('chlorides')\n",
    "plt.show()"
   ]
  },
  {
   "cell_type": "markdown",
   "metadata": {},
   "source": [
    "### With Scatter plot of Plotly"
   ]
  },
  {
   "cell_type": "code",
   "execution_count": null,
   "metadata": {},
   "outputs": [],
   "source": [
    "trace = go.Scatter(\n",
    "    x = x_test[:, 1],\n",
    "    y = x_test[:, 6],\n",
    "    mode = 'markers',\n",
    "    marker = dict(\n",
    "        color = y_pred,\n",
    "        symbol = y_pred,\n",
    "        size = 8,\n",
    "        opacity = 0.9,\n",
    "        colorscale = [[0, '#fffacd'], [1, '#a00028']],\n",
    "        line = dict(color = '#444444', width = 0.5)\n",
    "    )\n",
    ")\n",
    "\n",
    "layout = go.Layout(\n",
    "    title = {\n",
    "        'text': 'Decision Region',\n",
    "        'font': {\n",
    "            'size': 40, 'family': 'Gulliver'\n",
    "        }, 'x': 0.5\n",
    "    },\n",
    "    xaxis = dict(\n",
    "        title = {\n",
    "            'text': 'volatile acidity', \n",
    "            'font': {\n",
    "                'size': 24, 'family': 'Gulliver'\n",
    "            }\n",
    "        }\n",
    "    ),\n",
    "    yaxis = dict(\n",
    "        title = {\n",
    "            'text': 'total sulfur dioxide', \n",
    "            'font': {\n",
    "                'size': 24, 'family': 'Gulliver'\n",
    "            }\n",
    "        }\n",
    "    ),\n",
    "    margin = dict(l = 50, r = 50, t = 80, b = 50),\n",
    "    hovermode = 'closest', \n",
    "    width = 800, height = 800,\n",
    "    showlegend = False,\n",
    "    template = 'ggplot2'\n",
    ")\n",
    "\n",
    "fig = go.Figure(\n",
    "    data = [trace], \n",
    "    layout = layout\n",
    ")\n",
    "\n",
    "pio.show(fig)"
   ]
  },
  {
   "cell_type": "markdown",
   "metadata": {},
   "source": [
    "## Confusion Matrix"
   ]
  },
  {
   "cell_type": "code",
   "execution_count": 9,
   "metadata": {},
   "outputs": [
    {
     "name": "stdout",
     "output_type": "stream",
     "text": [
      "Acurracy:  99.5077 %\n",
      "Precision: 99.5074 %\n",
      "Recall: 99.5077 %\n",
      "f1: 99.5073 %\n"
     ]
    },
    {
     "data": {
      "text/html": [
       "<div>\n",
       "<style scoped>\n",
       "    .dataframe tbody tr th:only-of-type {\n",
       "        vertical-align: middle;\n",
       "    }\n",
       "\n",
       "    .dataframe tbody tr th {\n",
       "        vertical-align: top;\n",
       "    }\n",
       "\n",
       "    .dataframe thead th {\n",
       "        text-align: right;\n",
       "    }\n",
       "</style>\n",
       "<table border=\"1\" class=\"dataframe\">\n",
       "  <thead>\n",
       "    <tr style=\"text-align: right;\">\n",
       "      <th></th>\n",
       "      <th>0</th>\n",
       "      <th>1</th>\n",
       "    </tr>\n",
       "  </thead>\n",
       "  <tbody>\n",
       "    <tr>\n",
       "      <th>0</th>\n",
       "      <td>0.997481</td>\n",
       "      <td>0.002519</td>\n",
       "    </tr>\n",
       "    <tr>\n",
       "      <th>1</th>\n",
       "      <td>0.011521</td>\n",
       "      <td>0.988479</td>\n",
       "    </tr>\n",
       "  </tbody>\n",
       "</table>\n",
       "</div>"
      ],
      "text/plain": [
       "          0         1\n",
       "0  0.997481  0.002519\n",
       "1  0.011521  0.988479"
      ]
     },
     "execution_count": 9,
     "metadata": {},
     "output_type": "execute_result"
    }
   ],
   "source": [
    "acu = metrics.accuracy_score(y_test, y_pred)\n",
    "pre_class, r_class, f_class, sup = metrics.precision_recall_fscore_support(y_test, y_pred, average = 'weighted')\n",
    "\n",
    "print(\"Acurracy: \", round(acu * 100, 4), '%')\n",
    "print('Precision:', round(pre_class * 100, 4), '%')\n",
    "print('Recall:', round(r_class * 100, 4), '%')\n",
    "print('f1:', round(f_class * 100, 4), '%')\n",
    "\n",
    "cm = metrics.confusion_matrix(y_test, y_pred)\n",
    "cm_norm = cm.astype('float') / cm.sum(axis=1)[:, np.newaxis] \n",
    "cm_norm = pd.DataFrame(cm_norm)\n",
    "cm_norm"
   ]
  },
  {
   "cell_type": "markdown",
   "metadata": {},
   "source": [
    "## Receiver Operating Characteristic Curve"
   ]
  },
  {
   "cell_type": "code",
   "execution_count": 10,
   "metadata": {},
   "outputs": [
    {
     "data": {
      "application/vnd.plotly.v1+json": {
       "config": {
        "plotlyServerURL": "https://plotly.com"
       },
       "data": [
        {
         "line": {
          "width": 2
         },
         "mode": "lines",
         "type": "scatter",
         "x": [
          0,
          0,
          0,
          0,
          0,
          0,
          0,
          0,
          0,
          0,
          0,
          0,
          0,
          0,
          0,
          0,
          0,
          0,
          0,
          0,
          0,
          0,
          0,
          0,
          0,
          0,
          0,
          0,
          0,
          0,
          0,
          0,
          0,
          0,
          0,
          0,
          0,
          0,
          0,
          0.0008396305625524769,
          0.0008396305625524769,
          0.0016792611251049538,
          0.0016792611251049538,
          0.0025188916876574307,
          0.0025188916876574307,
          0.009235936188077247,
          0.0109151973131822,
          0.019311502938706968,
          0.020990764063811923,
          0.04030226700251889,
          0.041981528127623846,
          0.05289672544080604,
          0.054575986565911,
          0.056255247691015954,
          0.056255247691015954,
          0.07556675062972293,
          0.07724601175482787,
          0.09151973131821999,
          0.09319899244332494,
          0.1015952980688497,
          0.10327455919395466,
          0.14021830394626364,
          0.1418975650713686,
          0.17380352644836272,
          0.17548278757346766,
          0.19143576826196473,
          0.19311502938706968,
          0.19395465994962216,
          0.19563392107472713,
          0.26028547439126787,
          0.2619647355163728,
          0.28967254408060455,
          0.29135180520570947,
          0.2989084802686818,
          0.30058774139378674,
          0.31066330814441645,
          0.3123425692695214,
          0.3131821998320739,
          0.3131821998320739,
          0.32157850545759864,
          0.3232577665827036,
          0.4072208228379513,
          0.40890008396305627,
          0.4105793450881612,
          0.4139378673383711,
          0.42317380352644834,
          0.42317380352644834,
          0.43073047858942065,
          0.4324097397145256,
          0.434928631402183,
          0.436607892527288,
          0.4869857262804366,
          0.48866498740554154,
          0.49286314021830396,
          0.4945424013434089,
          0.5440806045340051,
          0.5457598656591099,
          0.5465994962216625,
          0.5482787573467675,
          0.5558354324097398,
          0.5575146935348446,
          0.5675902602854744,
          0.5692695214105793,
          0.5768261964735516,
          0.5785054575986566,
          0.5801847187237615,
          0.5818639798488665,
          0.5885810243492863,
          0.5902602854743912,
          0.6397984886649875,
          0.6414777497900923,
          0.6473551637279596,
          0.6490344248530646,
          0.6876574307304786,
          0.6876574307304786,
          0.691855583543241,
          0.6935348446683459,
          0.709487825356843,
          0.7120067170445005,
          0.7204030226700252,
          0.7229219143576826,
          0.7481108312342569,
          0.7497900923593619,
          0.7615449202350966,
          0.7632241813602015,
          0.7766582703610412,
          0.7783375314861462,
          0.7968094038623006,
          0.7984886649874056,
          0.8144416456759026,
          0.8161209068010076,
          0.8706968933669186,
          0.8723761544920235,
          0.8782535684298909,
          0.8799328295549959,
          0.8942065491183879,
          0.8967254408060453,
          0.9076406381192276,
          0.9093198992443325,
          0.9126784214945424,
          0.9143576826196473,
          0.9235936188077246,
          0.9252728799328296,
          0.929471032745592,
          0.9319899244332494,
          0.9378673383711167,
          0.9395465994962217,
          0.9487825356842989,
          0.9513014273719563,
          0.9588581024349286,
          0.9605373635600336,
          0.9680940386230059,
          0.9697732997481109,
          0.979009235936188,
          0.980688497061293,
          0.9848866498740554,
          0.9865659109991604,
          0.998320738874895,
          1
         ],
         "y": [
          0,
          0.013824884792626729,
          0.08294930875576037,
          0.09216589861751152,
          0.11981566820276497,
          0.12442396313364056,
          0.16820276497695852,
          0.1728110599078341,
          0.21428571428571427,
          0.21889400921658986,
          0.22350230414746544,
          0.22811059907834103,
          0.27880184331797236,
          0.2834101382488479,
          0.3548387096774194,
          0.35944700460829493,
          0.43317972350230416,
          0.4377880184331797,
          0.5069124423963134,
          0.511520737327189,
          0.5368663594470046,
          0.5414746543778802,
          0.5668202764976958,
          0.5714285714285714,
          0.6036866359447005,
          0.6082949308755761,
          0.6566820276497696,
          0.6612903225806451,
          0.7695852534562212,
          0.7741935483870968,
          0.7949308755760369,
          0.7995391705069125,
          0.8133640552995391,
          0.8179723502304147,
          0.8663594470046083,
          0.8709677419354839,
          0.8870967741935484,
          0.8917050691244239,
          0.9769585253456221,
          0.9769585253456221,
          0.9861751152073732,
          0.9861751152073732,
          0.988479262672811,
          0.988479262672811,
          0.9907834101382489,
          0.9907834101382489,
          0.9907834101382489,
          0.9907834101382489,
          0.9907834101382489,
          0.9907834101382489,
          0.9907834101382489,
          0.9907834101382489,
          0.9907834101382489,
          0.9907834101382489,
          0.9930875576036866,
          0.9930875576036866,
          0.9930875576036866,
          0.9930875576036866,
          0.9930875576036866,
          0.9930875576036866,
          0.9930875576036866,
          0.9930875576036866,
          0.9930875576036866,
          0.9930875576036866,
          0.9930875576036866,
          0.9930875576036866,
          0.9930875576036866,
          0.9930875576036866,
          0.9930875576036866,
          0.9930875576036866,
          0.9930875576036866,
          0.9930875576036866,
          0.9930875576036866,
          0.9930875576036866,
          0.9930875576036866,
          0.9930875576036866,
          0.9930875576036866,
          0.9930875576036866,
          0.9953917050691244,
          0.9953917050691244,
          0.9953917050691244,
          0.9953917050691244,
          0.9953917050691244,
          0.9953917050691244,
          0.9953917050691244,
          0.9953917050691244,
          0.9976958525345622,
          0.9976958525345622,
          0.9976958525345622,
          0.9976958525345622,
          0.9976958525345622,
          0.9976958525345622,
          0.9976958525345622,
          0.9976958525345622,
          0.9976958525345622,
          0.9976958525345622,
          0.9976958525345622,
          0.9976958525345622,
          0.9976958525345622,
          0.9976958525345622,
          0.9976958525345622,
          0.9976958525345622,
          0.9976958525345622,
          0.9976958525345622,
          0.9976958525345622,
          0.9976958525345622,
          0.9976958525345622,
          0.9976958525345622,
          0.9976958525345622,
          0.9976958525345622,
          0.9976958525345622,
          0.9976958525345622,
          0.9976958525345622,
          0.9976958525345622,
          1,
          1,
          1,
          1,
          1,
          1,
          1,
          1,
          1,
          1,
          1,
          1,
          1,
          1,
          1,
          1,
          1,
          1,
          1,
          1,
          1,
          1,
          1,
          1,
          1,
          1,
          1,
          1,
          1,
          1,
          1,
          1,
          1,
          1,
          1,
          1,
          1,
          1,
          1,
          1,
          1,
          1,
          1,
          1,
          1
         ]
        },
        {
         "line": {
          "color": "navy",
          "dash": "dash",
          "width": 2
         },
         "mode": "lines",
         "showlegend": false,
         "type": "scatter",
         "x": [
          0,
          1
         ],
         "y": [
          0,
          1
         ]
        }
       ],
       "layout": {
        "height": 800,
        "showlegend": false,
        "template": {
         "data": {
          "bar": [
           {
            "error_x": {
             "color": "#2a3f5f"
            },
            "error_y": {
             "color": "#2a3f5f"
            },
            "marker": {
             "line": {
              "color": "#E5ECF6",
              "width": 0.5
             },
             "pattern": {
              "fillmode": "overlay",
              "size": 10,
              "solidity": 0.2
             }
            },
            "type": "bar"
           }
          ],
          "barpolar": [
           {
            "marker": {
             "line": {
              "color": "#E5ECF6",
              "width": 0.5
             },
             "pattern": {
              "fillmode": "overlay",
              "size": 10,
              "solidity": 0.2
             }
            },
            "type": "barpolar"
           }
          ],
          "carpet": [
           {
            "aaxis": {
             "endlinecolor": "#2a3f5f",
             "gridcolor": "white",
             "linecolor": "white",
             "minorgridcolor": "white",
             "startlinecolor": "#2a3f5f"
            },
            "baxis": {
             "endlinecolor": "#2a3f5f",
             "gridcolor": "white",
             "linecolor": "white",
             "minorgridcolor": "white",
             "startlinecolor": "#2a3f5f"
            },
            "type": "carpet"
           }
          ],
          "choropleth": [
           {
            "colorbar": {
             "outlinewidth": 0,
             "ticks": ""
            },
            "type": "choropleth"
           }
          ],
          "contour": [
           {
            "colorbar": {
             "outlinewidth": 0,
             "ticks": ""
            },
            "colorscale": [
             [
              0,
              "#0d0887"
             ],
             [
              0.1111111111111111,
              "#46039f"
             ],
             [
              0.2222222222222222,
              "#7201a8"
             ],
             [
              0.3333333333333333,
              "#9c179e"
             ],
             [
              0.4444444444444444,
              "#bd3786"
             ],
             [
              0.5555555555555556,
              "#d8576b"
             ],
             [
              0.6666666666666666,
              "#ed7953"
             ],
             [
              0.7777777777777778,
              "#fb9f3a"
             ],
             [
              0.8888888888888888,
              "#fdca26"
             ],
             [
              1,
              "#f0f921"
             ]
            ],
            "type": "contour"
           }
          ],
          "contourcarpet": [
           {
            "colorbar": {
             "outlinewidth": 0,
             "ticks": ""
            },
            "type": "contourcarpet"
           }
          ],
          "heatmap": [
           {
            "colorbar": {
             "outlinewidth": 0,
             "ticks": ""
            },
            "colorscale": [
             [
              0,
              "#0d0887"
             ],
             [
              0.1111111111111111,
              "#46039f"
             ],
             [
              0.2222222222222222,
              "#7201a8"
             ],
             [
              0.3333333333333333,
              "#9c179e"
             ],
             [
              0.4444444444444444,
              "#bd3786"
             ],
             [
              0.5555555555555556,
              "#d8576b"
             ],
             [
              0.6666666666666666,
              "#ed7953"
             ],
             [
              0.7777777777777778,
              "#fb9f3a"
             ],
             [
              0.8888888888888888,
              "#fdca26"
             ],
             [
              1,
              "#f0f921"
             ]
            ],
            "type": "heatmap"
           }
          ],
          "heatmapgl": [
           {
            "colorbar": {
             "outlinewidth": 0,
             "ticks": ""
            },
            "colorscale": [
             [
              0,
              "#0d0887"
             ],
             [
              0.1111111111111111,
              "#46039f"
             ],
             [
              0.2222222222222222,
              "#7201a8"
             ],
             [
              0.3333333333333333,
              "#9c179e"
             ],
             [
              0.4444444444444444,
              "#bd3786"
             ],
             [
              0.5555555555555556,
              "#d8576b"
             ],
             [
              0.6666666666666666,
              "#ed7953"
             ],
             [
              0.7777777777777778,
              "#fb9f3a"
             ],
             [
              0.8888888888888888,
              "#fdca26"
             ],
             [
              1,
              "#f0f921"
             ]
            ],
            "type": "heatmapgl"
           }
          ],
          "histogram": [
           {
            "marker": {
             "pattern": {
              "fillmode": "overlay",
              "size": 10,
              "solidity": 0.2
             }
            },
            "type": "histogram"
           }
          ],
          "histogram2d": [
           {
            "colorbar": {
             "outlinewidth": 0,
             "ticks": ""
            },
            "colorscale": [
             [
              0,
              "#0d0887"
             ],
             [
              0.1111111111111111,
              "#46039f"
             ],
             [
              0.2222222222222222,
              "#7201a8"
             ],
             [
              0.3333333333333333,
              "#9c179e"
             ],
             [
              0.4444444444444444,
              "#bd3786"
             ],
             [
              0.5555555555555556,
              "#d8576b"
             ],
             [
              0.6666666666666666,
              "#ed7953"
             ],
             [
              0.7777777777777778,
              "#fb9f3a"
             ],
             [
              0.8888888888888888,
              "#fdca26"
             ],
             [
              1,
              "#f0f921"
             ]
            ],
            "type": "histogram2d"
           }
          ],
          "histogram2dcontour": [
           {
            "colorbar": {
             "outlinewidth": 0,
             "ticks": ""
            },
            "colorscale": [
             [
              0,
              "#0d0887"
             ],
             [
              0.1111111111111111,
              "#46039f"
             ],
             [
              0.2222222222222222,
              "#7201a8"
             ],
             [
              0.3333333333333333,
              "#9c179e"
             ],
             [
              0.4444444444444444,
              "#bd3786"
             ],
             [
              0.5555555555555556,
              "#d8576b"
             ],
             [
              0.6666666666666666,
              "#ed7953"
             ],
             [
              0.7777777777777778,
              "#fb9f3a"
             ],
             [
              0.8888888888888888,
              "#fdca26"
             ],
             [
              1,
              "#f0f921"
             ]
            ],
            "type": "histogram2dcontour"
           }
          ],
          "mesh3d": [
           {
            "colorbar": {
             "outlinewidth": 0,
             "ticks": ""
            },
            "type": "mesh3d"
           }
          ],
          "parcoords": [
           {
            "line": {
             "colorbar": {
              "outlinewidth": 0,
              "ticks": ""
             }
            },
            "type": "parcoords"
           }
          ],
          "pie": [
           {
            "automargin": true,
            "type": "pie"
           }
          ],
          "scatter": [
           {
            "fillpattern": {
             "fillmode": "overlay",
             "size": 10,
             "solidity": 0.2
            },
            "type": "scatter"
           }
          ],
          "scatter3d": [
           {
            "line": {
             "colorbar": {
              "outlinewidth": 0,
              "ticks": ""
             }
            },
            "marker": {
             "colorbar": {
              "outlinewidth": 0,
              "ticks": ""
             }
            },
            "type": "scatter3d"
           }
          ],
          "scattercarpet": [
           {
            "marker": {
             "colorbar": {
              "outlinewidth": 0,
              "ticks": ""
             }
            },
            "type": "scattercarpet"
           }
          ],
          "scattergeo": [
           {
            "marker": {
             "colorbar": {
              "outlinewidth": 0,
              "ticks": ""
             }
            },
            "type": "scattergeo"
           }
          ],
          "scattergl": [
           {
            "marker": {
             "colorbar": {
              "outlinewidth": 0,
              "ticks": ""
             }
            },
            "type": "scattergl"
           }
          ],
          "scattermapbox": [
           {
            "marker": {
             "colorbar": {
              "outlinewidth": 0,
              "ticks": ""
             }
            },
            "type": "scattermapbox"
           }
          ],
          "scatterpolar": [
           {
            "marker": {
             "colorbar": {
              "outlinewidth": 0,
              "ticks": ""
             }
            },
            "type": "scatterpolar"
           }
          ],
          "scatterpolargl": [
           {
            "marker": {
             "colorbar": {
              "outlinewidth": 0,
              "ticks": ""
             }
            },
            "type": "scatterpolargl"
           }
          ],
          "scatterternary": [
           {
            "marker": {
             "colorbar": {
              "outlinewidth": 0,
              "ticks": ""
             }
            },
            "type": "scatterternary"
           }
          ],
          "surface": [
           {
            "colorbar": {
             "outlinewidth": 0,
             "ticks": ""
            },
            "colorscale": [
             [
              0,
              "#0d0887"
             ],
             [
              0.1111111111111111,
              "#46039f"
             ],
             [
              0.2222222222222222,
              "#7201a8"
             ],
             [
              0.3333333333333333,
              "#9c179e"
             ],
             [
              0.4444444444444444,
              "#bd3786"
             ],
             [
              0.5555555555555556,
              "#d8576b"
             ],
             [
              0.6666666666666666,
              "#ed7953"
             ],
             [
              0.7777777777777778,
              "#fb9f3a"
             ],
             [
              0.8888888888888888,
              "#fdca26"
             ],
             [
              1,
              "#f0f921"
             ]
            ],
            "type": "surface"
           }
          ],
          "table": [
           {
            "cells": {
             "fill": {
              "color": "#EBF0F8"
             },
             "line": {
              "color": "white"
             }
            },
            "header": {
             "fill": {
              "color": "#C8D4E3"
             },
             "line": {
              "color": "white"
             }
            },
            "type": "table"
           }
          ]
         },
         "layout": {
          "annotationdefaults": {
           "arrowcolor": "#2a3f5f",
           "arrowhead": 0,
           "arrowwidth": 1
          },
          "autotypenumbers": "strict",
          "coloraxis": {
           "colorbar": {
            "outlinewidth": 0,
            "ticks": ""
           }
          },
          "colorscale": {
           "diverging": [
            [
             0,
             "#8e0152"
            ],
            [
             0.1,
             "#c51b7d"
            ],
            [
             0.2,
             "#de77ae"
            ],
            [
             0.3,
             "#f1b6da"
            ],
            [
             0.4,
             "#fde0ef"
            ],
            [
             0.5,
             "#f7f7f7"
            ],
            [
             0.6,
             "#e6f5d0"
            ],
            [
             0.7,
             "#b8e186"
            ],
            [
             0.8,
             "#7fbc41"
            ],
            [
             0.9,
             "#4d9221"
            ],
            [
             1,
             "#276419"
            ]
           ],
           "sequential": [
            [
             0,
             "#0d0887"
            ],
            [
             0.1111111111111111,
             "#46039f"
            ],
            [
             0.2222222222222222,
             "#7201a8"
            ],
            [
             0.3333333333333333,
             "#9c179e"
            ],
            [
             0.4444444444444444,
             "#bd3786"
            ],
            [
             0.5555555555555556,
             "#d8576b"
            ],
            [
             0.6666666666666666,
             "#ed7953"
            ],
            [
             0.7777777777777778,
             "#fb9f3a"
            ],
            [
             0.8888888888888888,
             "#fdca26"
            ],
            [
             1,
             "#f0f921"
            ]
           ],
           "sequentialminus": [
            [
             0,
             "#0d0887"
            ],
            [
             0.1111111111111111,
             "#46039f"
            ],
            [
             0.2222222222222222,
             "#7201a8"
            ],
            [
             0.3333333333333333,
             "#9c179e"
            ],
            [
             0.4444444444444444,
             "#bd3786"
            ],
            [
             0.5555555555555556,
             "#d8576b"
            ],
            [
             0.6666666666666666,
             "#ed7953"
            ],
            [
             0.7777777777777778,
             "#fb9f3a"
            ],
            [
             0.8888888888888888,
             "#fdca26"
            ],
            [
             1,
             "#f0f921"
            ]
           ]
          },
          "colorway": [
           "#636efa",
           "#EF553B",
           "#00cc96",
           "#ab63fa",
           "#FFA15A",
           "#19d3f3",
           "#FF6692",
           "#B6E880",
           "#FF97FF",
           "#FECB52"
          ],
          "font": {
           "color": "#2a3f5f"
          },
          "geo": {
           "bgcolor": "white",
           "lakecolor": "white",
           "landcolor": "#E5ECF6",
           "showlakes": true,
           "showland": true,
           "subunitcolor": "white"
          },
          "hoverlabel": {
           "align": "left"
          },
          "hovermode": "closest",
          "mapbox": {
           "style": "light"
          },
          "paper_bgcolor": "white",
          "plot_bgcolor": "#E5ECF6",
          "polar": {
           "angularaxis": {
            "gridcolor": "white",
            "linecolor": "white",
            "ticks": ""
           },
           "bgcolor": "#E5ECF6",
           "radialaxis": {
            "gridcolor": "white",
            "linecolor": "white",
            "ticks": ""
           }
          },
          "scene": {
           "xaxis": {
            "backgroundcolor": "#E5ECF6",
            "gridcolor": "white",
            "gridwidth": 2,
            "linecolor": "white",
            "showbackground": true,
            "ticks": "",
            "zerolinecolor": "white"
           },
           "yaxis": {
            "backgroundcolor": "#E5ECF6",
            "gridcolor": "white",
            "gridwidth": 2,
            "linecolor": "white",
            "showbackground": true,
            "ticks": "",
            "zerolinecolor": "white"
           },
           "zaxis": {
            "backgroundcolor": "#E5ECF6",
            "gridcolor": "white",
            "gridwidth": 2,
            "linecolor": "white",
            "showbackground": true,
            "ticks": "",
            "zerolinecolor": "white"
           }
          },
          "shapedefaults": {
           "line": {
            "color": "#2a3f5f"
           }
          },
          "ternary": {
           "aaxis": {
            "gridcolor": "white",
            "linecolor": "white",
            "ticks": ""
           },
           "baxis": {
            "gridcolor": "white",
            "linecolor": "white",
            "ticks": ""
           },
           "bgcolor": "#E5ECF6",
           "caxis": {
            "gridcolor": "white",
            "linecolor": "white",
            "ticks": ""
           }
          },
          "title": {
           "x": 0.05
          },
          "xaxis": {
           "automargin": true,
           "gridcolor": "white",
           "linecolor": "white",
           "ticks": "",
           "title": {
            "standoff": 15
           },
           "zerolinecolor": "white",
           "zerolinewidth": 2
          },
          "yaxis": {
           "automargin": true,
           "gridcolor": "white",
           "linecolor": "white",
           "ticks": "",
           "title": {
            "standoff": 15
           },
           "zerolinecolor": "white",
           "zerolinewidth": 2
          }
         }
        },
        "title": {
         "font": {
          "family": "Gulliver",
          "size": 40
         },
         "text": "ROC Curves (AUC = 1.00)",
         "x": 0.5,
         "y": 0.95
        },
        "width": 1200,
        "xaxis": {
         "title": {
          "font": {
           "family": "Gulliver",
           "size": 24
          },
          "text": "False Positive Rate"
         }
        },
        "yaxis": {
         "title": {
          "font": {
           "family": "Gulliver",
           "size": 24
          },
          "text": "True Positive Rate"
         }
        }
       }
      }
     },
     "metadata": {},
     "output_type": "display_data"
    }
   ],
   "source": [
    "fpr, tpr, _ = roc_curve(\n",
    "    y_test, \n",
    "    model.predict_proba(x_test)[:, 1]\n",
    ")\n",
    "\n",
    "roc_auc = auc(fpr, tpr)\n",
    "\n",
    "trace1 = go.Scatter(\n",
    "    x = fpr, y = tpr, \n",
    "    mode = 'lines', \n",
    "    line = dict(width = 2),\n",
    ")\n",
    "\n",
    "trace2 = go.Scatter(\n",
    "        x = [0, 1], y = [0, 1],\n",
    "        mode = 'lines',\n",
    "        line = dict(color = 'navy', width = 2, dash = 'dash'),\n",
    "        showlegend = False\n",
    ")\n",
    "\n",
    "layout = go.Layout(\n",
    "        title = {\n",
    "            'text': 'ROC Curves (AUC = {:0.2f})'.format(roc_auc),\n",
    "            'font': {\n",
    "                'size': 40, 'family': 'Gulliver'\n",
    "            }, \n",
    "            'x': 0.5, 'y': 0.95\n",
    "        },\n",
    "        xaxis = dict(\n",
    "            title = {\n",
    "                'text': 'False Positive Rate',\n",
    "                'font': {\n",
    "                    'size': 24, 'family': 'Gulliver'\n",
    "                }\n",
    "            }\n",
    "        ),\n",
    "        yaxis = dict(\n",
    "            title = {\n",
    "                'text': 'True Positive Rate',\n",
    "                'font': {\n",
    "                    'size': 24, 'family': 'Gulliver'\n",
    "                }\n",
    "            }\n",
    "        ),\n",
    "        width = 1200, height = 800,\n",
    "        showlegend = False\n",
    ")\n",
    "\n",
    "fig = go.Figure(\n",
    "    data = [trace1, trace2], \n",
    "    layout = layout\n",
    ")\n",
    "\n",
    "fig.show()"
   ]
  },
  {
   "cell_type": "markdown",
   "metadata": {},
   "source": [
    "# Model Compexity"
   ]
  },
  {
   "cell_type": "code",
   "execution_count": null,
   "metadata": {},
   "outputs": [],
   "source": [
    "C_range = np.logspace(-3, 3, num = 7, base = 10)\n",
    "gamma_range = np.logspace(-3, 3, num = 7, base = 10)\n",
    "\n",
    "train_errors = np.zeros((len(C_range), len(gamma_range)))\n",
    "test_errors = np.zeros((len(C_range), len(gamma_range)))\n",
    "\n",
    "for i, C in enumerate(C_range):\n",
    "    for j, gamma in enumerate(gamma_range):\n",
    "        svm = SVC(C = C, gamma = gamma)\n",
    "        svm.fit(x_train, y_train)\n",
    "        train_pred = svm.predict(x_train)\n",
    "        test_pred = svm.predict(x_test)\n",
    "        train_errors[i, j] = 1 - accuracy_score(y_train, train_pred)\n",
    "        test_errors[i, j] = 1 - accuracy_score(y_test, test_pred)\n",
    "\n",
    "C, gamma = np.meshgrid(C_range, gamma_range)\n",
    "\n",
    "fig = go.Figure(\n",
    "    data = [go.Surface(\n",
    "                x = C, y = gamma, z = train_errors.T, \n",
    "                colorscale = 'Blues', opacity = 0.8, name = 'Train Error'\n",
    "            ),\n",
    "            go.Surface(\n",
    "                x = C, y = gamma, z = test_errors.T, \n",
    "                colorscale  ='Reds', opacity = 0.8, name = 'Test Error'\n",
    "                )\n",
    "            ],\n",
    "            layout = go.Layout(\n",
    "                title = {\n",
    "                    'text': 'Model Complexity for SVC',\n",
    "                    'font': {\n",
    "                        'size': 32, 'family': 'Gulliver'\n",
    "                    }, \n",
    "                    'x': 0.5\n",
    "                },\n",
    "                scene = dict(\n",
    "                        xaxis = dict(title = 'C', type = 'log'),\n",
    "                        yaxis = dict(title = 'Gamma', type = 'log'),\n",
    "                        zaxis = dict(title = 'Error', type = 'linear'),\n",
    "                        aspectratio = dict(x = 1, y = 1, z = 0.5),\n",
    "                        camera = dict(eye = dict(x = -1.5, y = -1.5, z = 0.5)),\n",
    "                        ),\n",
    "                margin = dict(l = 0, r = 0, b = 0, t = 80),\n",
    "                legend = dict(x = 0, y = 1, bgcolor = 'rgba(255, 255, 255, 0.5)'),\n",
    "            )\n",
    ")\n",
    "\n",
    "fig.show()"
   ]
  }
 ],
 "metadata": {
  "kernelspec": {
   "display_name": "Python 3",
   "language": "python",
   "name": "python3"
  },
  "language_info": {
   "codemirror_mode": {
    "name": "ipython",
    "version": 3
   },
   "file_extension": ".py",
   "mimetype": "text/x-python",
   "name": "python",
   "nbconvert_exporter": "python",
   "pygments_lexer": "ipython3",
   "version": "3.9.13"
  },
  "orig_nbformat": 4
 },
 "nbformat": 4,
 "nbformat_minor": 2
}
